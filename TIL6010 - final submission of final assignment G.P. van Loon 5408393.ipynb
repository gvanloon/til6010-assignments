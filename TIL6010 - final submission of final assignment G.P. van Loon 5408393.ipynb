{
 "cells": [
  {
   "cell_type": "markdown",
   "metadata": {
    "heading_collapsed": true
   },
   "source": [
    "# TIL6010 - final assignment G.P. van Loon 5408393"
   ]
  },
  {
   "cell_type": "markdown",
   "metadata": {},
   "source": [
    "For this assignment, I'm going to compare covid and mobility data on a provincial level in the Netherlands.\n",
    "As a first step, I'm importing the necessary libraries."
   ]
  },
  {
   "cell_type": "code",
   "execution_count": 4,
   "metadata": {},
   "outputs": [],
   "source": [
    "import pandas as pd\n",
    "from pathlib import Path\n",
    "import numpy as np\n",
    "import math\n",
    "import scipy\n",
    "from scipy.signal import find_peaks\n",
    "import plotly.graph_objects as go\n",
    "import plotly.express as px\n",
    "from plotly.subplots import make_subplots\n",
    "import datetime"
   ]
  },
  {
   "cell_type": "markdown",
   "metadata": {
    "heading_collapsed": true,
    "hidden": true
   },
   "source": [
    "## Part I - Data import"
   ]
  },
  {
   "cell_type": "markdown",
   "metadata": {
    "hidden": true
   },
   "source": [
    "First, I'm going to import and combine dataframes of the two types of data I found:\n",
    "- Covid data from the RIVM on provincial level, giving cases, hospitalizations and casualties per day (absolute and cumulative)\n",
    "- Mobility data from Google on provincial level, giving difference in trip numbers for several trip rates (percentage difference to baseline)\n",
    "\n",
    "I'm starting off with the covid data."
   ]
  },
  {
   "cell_type": "code",
   "execution_count": 5,
   "metadata": {},
   "outputs": [
    {
     "data": {
      "text/html": [
       "<div>\n",
       "<style scoped>\n",
       "    .dataframe tbody tr th:only-of-type {\n",
       "        vertical-align: middle;\n",
       "    }\n",
       "\n",
       "    .dataframe tbody tr th {\n",
       "        vertical-align: top;\n",
       "    }\n",
       "\n",
       "    .dataframe thead th {\n",
       "        text-align: right;\n",
       "    }\n",
       "</style>\n",
       "<table border=\"1\" class=\"dataframe\">\n",
       "  <thead>\n",
       "    <tr style=\"text-align: right;\">\n",
       "      <th></th>\n",
       "      <th>date</th>\n",
       "      <th>province</th>\n",
       "      <th>number of casualties</th>\n",
       "      <th>number of hospitalized patients</th>\n",
       "      <th>number of cases</th>\n",
       "      <th>number of casualties_cum</th>\n",
       "      <th>number of hospitalized patients_cum</th>\n",
       "      <th>number of cases_cum</th>\n",
       "    </tr>\n",
       "  </thead>\n",
       "  <tbody>\n",
       "    <tr>\n",
       "      <th>0</th>\n",
       "      <td>2020-02-27</td>\n",
       "      <td>Drenthe</td>\n",
       "      <td>NaN</td>\n",
       "      <td>NaN</td>\n",
       "      <td>NaN</td>\n",
       "      <td>NaN</td>\n",
       "      <td>NaN</td>\n",
       "      <td>NaN</td>\n",
       "    </tr>\n",
       "    <tr>\n",
       "      <th>1</th>\n",
       "      <td>2020-02-27</td>\n",
       "      <td>Drenthe</td>\n",
       "      <td>NaN</td>\n",
       "      <td>NaN</td>\n",
       "      <td>NaN</td>\n",
       "      <td>NaN</td>\n",
       "      <td>NaN</td>\n",
       "      <td>0.0</td>\n",
       "    </tr>\n",
       "    <tr>\n",
       "      <th>2</th>\n",
       "      <td>2020-02-27</td>\n",
       "      <td>Drenthe</td>\n",
       "      <td>NaN</td>\n",
       "      <td>NaN</td>\n",
       "      <td>NaN</td>\n",
       "      <td>NaN</td>\n",
       "      <td>NaN</td>\n",
       "      <td>NaN</td>\n",
       "    </tr>\n",
       "    <tr>\n",
       "      <th>3</th>\n",
       "      <td>2020-02-28</td>\n",
       "      <td>Drenthe</td>\n",
       "      <td>NaN</td>\n",
       "      <td>NaN</td>\n",
       "      <td>NaN</td>\n",
       "      <td>NaN</td>\n",
       "      <td>NaN</td>\n",
       "      <td>NaN</td>\n",
       "    </tr>\n",
       "    <tr>\n",
       "      <th>4</th>\n",
       "      <td>2020-02-28</td>\n",
       "      <td>Drenthe</td>\n",
       "      <td>NaN</td>\n",
       "      <td>NaN</td>\n",
       "      <td>0.0</td>\n",
       "      <td>NaN</td>\n",
       "      <td>NaN</td>\n",
       "      <td>0.0</td>\n",
       "    </tr>\n",
       "    <tr>\n",
       "      <th>...</th>\n",
       "      <td>...</td>\n",
       "      <td>...</td>\n",
       "      <td>...</td>\n",
       "      <td>...</td>\n",
       "      <td>...</td>\n",
       "      <td>...</td>\n",
       "      <td>...</td>\n",
       "      <td>...</td>\n",
       "    </tr>\n",
       "    <tr>\n",
       "      <th>14925</th>\n",
       "      <td>2021-04-13</td>\n",
       "      <td>Zuid-Limburg</td>\n",
       "      <td>2.0</td>\n",
       "      <td>NaN</td>\n",
       "      <td>NaN</td>\n",
       "      <td>1533.0</td>\n",
       "      <td>NaN</td>\n",
       "      <td>NaN</td>\n",
       "    </tr>\n",
       "    <tr>\n",
       "      <th>14926</th>\n",
       "      <td>2021-04-13</td>\n",
       "      <td>Zuid-Limburg</td>\n",
       "      <td>NaN</td>\n",
       "      <td>NaN</td>\n",
       "      <td>562.0</td>\n",
       "      <td>NaN</td>\n",
       "      <td>NaN</td>\n",
       "      <td>90113.0</td>\n",
       "    </tr>\n",
       "    <tr>\n",
       "      <th>14927</th>\n",
       "      <td>2021-04-13</td>\n",
       "      <td>Zuid-Limburg</td>\n",
       "      <td>NaN</td>\n",
       "      <td>10.0</td>\n",
       "      <td>NaN</td>\n",
       "      <td>NaN</td>\n",
       "      <td>2405.0</td>\n",
       "      <td>NaN</td>\n",
       "    </tr>\n",
       "    <tr>\n",
       "      <th>14928</th>\n",
       "      <td>2021-04-14</td>\n",
       "      <td>Zuid-Limburg</td>\n",
       "      <td>4.0</td>\n",
       "      <td>NaN</td>\n",
       "      <td>NaN</td>\n",
       "      <td>1537.0</td>\n",
       "      <td>NaN</td>\n",
       "      <td>NaN</td>\n",
       "    </tr>\n",
       "    <tr>\n",
       "      <th>14929</th>\n",
       "      <td>2021-04-14</td>\n",
       "      <td>Zuid-Limburg</td>\n",
       "      <td>NaN</td>\n",
       "      <td>NaN</td>\n",
       "      <td>468.0</td>\n",
       "      <td>NaN</td>\n",
       "      <td>NaN</td>\n",
       "      <td>90581.0</td>\n",
       "    </tr>\n",
       "  </tbody>\n",
       "</table>\n",
       "<p>14930 rows × 8 columns</p>\n",
       "</div>"
      ],
      "text/plain": [
       "            date      province  number of casualties  \\\n",
       "0     2020-02-27       Drenthe                   NaN   \n",
       "1     2020-02-27       Drenthe                   NaN   \n",
       "2     2020-02-27       Drenthe                   NaN   \n",
       "3     2020-02-28       Drenthe                   NaN   \n",
       "4     2020-02-28       Drenthe                   NaN   \n",
       "...          ...           ...                   ...   \n",
       "14925 2021-04-13  Zuid-Limburg                   2.0   \n",
       "14926 2021-04-13  Zuid-Limburg                   NaN   \n",
       "14927 2021-04-13  Zuid-Limburg                   NaN   \n",
       "14928 2021-04-14  Zuid-Limburg                   4.0   \n",
       "14929 2021-04-14  Zuid-Limburg                   NaN   \n",
       "\n",
       "       number of hospitalized patients  number of cases  \\\n",
       "0                                  NaN              NaN   \n",
       "1                                  NaN              NaN   \n",
       "2                                  NaN              NaN   \n",
       "3                                  NaN              NaN   \n",
       "4                                  NaN              0.0   \n",
       "...                                ...              ...   \n",
       "14925                              NaN              NaN   \n",
       "14926                              NaN            562.0   \n",
       "14927                             10.0              NaN   \n",
       "14928                              NaN              NaN   \n",
       "14929                              NaN            468.0   \n",
       "\n",
       "       number of casualties_cum  number of hospitalized patients_cum  \\\n",
       "0                           NaN                                  NaN   \n",
       "1                           NaN                                  NaN   \n",
       "2                           NaN                                  NaN   \n",
       "3                           NaN                                  NaN   \n",
       "4                           NaN                                  NaN   \n",
       "...                         ...                                  ...   \n",
       "14925                    1533.0                                  NaN   \n",
       "14926                       NaN                                  NaN   \n",
       "14927                       NaN                               2405.0   \n",
       "14928                    1537.0                                  NaN   \n",
       "14929                       NaN                                  NaN   \n",
       "\n",
       "       number of cases_cum  \n",
       "0                      NaN  \n",
       "1                      0.0  \n",
       "2                      NaN  \n",
       "3                      NaN  \n",
       "4                      0.0  \n",
       "...                    ...  \n",
       "14925                  NaN  \n",
       "14926              90113.0  \n",
       "14927                  NaN  \n",
       "14928                  NaN  \n",
       "14929              90581.0  \n",
       "\n",
       "[14930 rows x 8 columns]"
      ]
     },
     "execution_count": 5,
     "metadata": {},
     "output_type": "execute_result"
    }
   ],
   "source": [
    "# import the files for the covid data. I've chosen provincial data. Then eventually I can compare the number of cases, number of hospitalized patients and victims against the mobility patterns in provinces\n",
    "file_path_covid = r'C:\\Users\\Govert\\OneDrive - Delft University of Technology\\Studie\\Master jaar 2\\Kwartiel 1\\TIL6010 - TIL programming\\til6010-assignments\\Final assignment\\RIVM_NL_provincial.csv'\n",
    "\n",
    "df_covid = pd.read_csv(file_path_covid)\n",
    "\n",
    "# again drop the unnecessary columns and change the column names to English and match the province column to the mobility dataframe\n",
    "df_covid = df_covid[(df_covid['Provincienaam'].notna())]\n",
    "df_covid.rename(columns =      {'Datum': 'date', \n",
    "                                'Provincienaam': 'province', \n",
    "                                'Provinciecode': 'province_code', \n",
    "                                'Type': 'type', \n",
    "                                'Aantal': 'number', \n",
    "                                'AantalCumulatief': 'number_cumulative'}, inplace=True)\n",
    "\n",
    "# the covid dataframe has three rows for each data, with in every row either the number of cases, the victims or the number of hospitalized patients. I eventually want only one row per day, so I put everything in columns\n",
    "df_covid['number of casualties'] = np.where(df_covid['type'] == 'Overleden', df_covid['number'], np.nan)\n",
    "df_covid['number of hospitalized patients'] = np.where(df_covid['type'] == 'Ziekenhuisopname', df_covid['number'], np.nan)\n",
    "df_covid['number of cases'] = np.where(df_covid['type'] == 'Totaal', df_covid['number'], np.nan)\n",
    "df_covid['number of casualties_cum'] = np.where(df_covid['type'] == 'Overleden', df_covid['number_cumulative'], np.nan)\n",
    "df_covid['number of hospitalized patients_cum'] = np.where(df_covid['type'] == 'Ziekenhuisopname', df_covid['number_cumulative'], np.nan)\n",
    "df_covid['number of cases_cum'] = np.where(df_covid['type'] == 'Totaal', df_covid['number_cumulative'], np.nan)\n",
    "\n",
    "# then I drop the old columns with the information in rows\n",
    "df_covid = df_covid.drop(columns = ['province_code', 'type', 'number', 'number_cumulative'])\n",
    "\n",
    "# I turn the dates to datetime\n",
    "df_datetime_1 = pd.to_datetime(df_covid['date'],format='%d/%m/%Y')\n",
    "df_covid['date'] = df_datetime_1\n",
    "\n",
    "# Then I sort the columns again to make it clearer\n",
    "df_covid = df_covid.sort_values(by=['province', 'date'], ascending=[True,True])\n",
    "df_covid.reset_index(inplace=True)\n",
    "df_covid = df_covid.drop(columns = ['index'])\n",
    "df_covid.head(-10)\n"
   ]
  },
  {
   "cell_type": "markdown",
   "metadata": {},
   "source": [
    "Then, I want to get rid of the fact that there are now three rows per date per province. I want to have only one row per date per province that has all information.\n",
    "\n",
    "When I just resample over the dates, the information is forced into one row, but it ends up idential for all provinces. This is not wanted, so I try the following:\n",
    "- I loop over all provinces to create new dataframes containing only the information for that specific province.\n",
    "- Then I resample and add the result to the covid_final dataframe. \n",
    "- I also make a monthly dataframe that comes in handy at the end of the assignment.\n",
    "\n",
    "This way I can resample without losing data. The resampling also gets rid of the provinces as those are strings, but I readd them as well."
   ]
  },
  {
   "cell_type": "code",
   "execution_count": 6,
   "metadata": {},
   "outputs": [
    {
     "data": {
      "text/html": [
       "<div>\n",
       "<style scoped>\n",
       "    .dataframe tbody tr th:only-of-type {\n",
       "        vertical-align: middle;\n",
       "    }\n",
       "\n",
       "    .dataframe tbody tr th {\n",
       "        vertical-align: top;\n",
       "    }\n",
       "\n",
       "    .dataframe thead th {\n",
       "        text-align: right;\n",
       "    }\n",
       "</style>\n",
       "<table border=\"1\" class=\"dataframe\">\n",
       "  <thead>\n",
       "    <tr style=\"text-align: right;\">\n",
       "      <th></th>\n",
       "      <th>index</th>\n",
       "      <th>date</th>\n",
       "      <th>province</th>\n",
       "      <th>number of casualties</th>\n",
       "      <th>number of hospitalized patients</th>\n",
       "      <th>number of cases</th>\n",
       "      <th>number of casualties_cum</th>\n",
       "      <th>number of hospitalized patients_cum</th>\n",
       "      <th>number of cases_cum</th>\n",
       "    </tr>\n",
       "  </thead>\n",
       "  <tbody>\n",
       "    <tr>\n",
       "      <th>0</th>\n",
       "      <td>0</td>\n",
       "      <td>2020-02-27</td>\n",
       "      <td>Drenthe</td>\n",
       "      <td>NaN</td>\n",
       "      <td>NaN</td>\n",
       "      <td>0.333333</td>\n",
       "      <td>NaN</td>\n",
       "      <td>NaN</td>\n",
       "      <td>0.857143</td>\n",
       "    </tr>\n",
       "    <tr>\n",
       "      <th>1</th>\n",
       "      <td>1</td>\n",
       "      <td>2020-03-05</td>\n",
       "      <td>Drenthe</td>\n",
       "      <td>NaN</td>\n",
       "      <td>NaN</td>\n",
       "      <td>1.428571</td>\n",
       "      <td>NaN</td>\n",
       "      <td>NaN</td>\n",
       "      <td>7.285714</td>\n",
       "    </tr>\n",
       "    <tr>\n",
       "      <th>2</th>\n",
       "      <td>2</td>\n",
       "      <td>2020-03-12</td>\n",
       "      <td>Drenthe</td>\n",
       "      <td>0.000000</td>\n",
       "      <td>0.200000</td>\n",
       "      <td>1.428571</td>\n",
       "      <td>0.000000</td>\n",
       "      <td>0.500000</td>\n",
       "      <td>15.857143</td>\n",
       "    </tr>\n",
       "    <tr>\n",
       "      <th>3</th>\n",
       "      <td>3</td>\n",
       "      <td>2020-03-19</td>\n",
       "      <td>Drenthe</td>\n",
       "      <td>0.285714</td>\n",
       "      <td>1.857143</td>\n",
       "      <td>5.428571</td>\n",
       "      <td>1.428571</td>\n",
       "      <td>6.285714</td>\n",
       "      <td>43.714286</td>\n",
       "    </tr>\n",
       "    <tr>\n",
       "      <th>4</th>\n",
       "      <td>4</td>\n",
       "      <td>2020-03-26</td>\n",
       "      <td>Drenthe</td>\n",
       "      <td>0.428571</td>\n",
       "      <td>4.142857</td>\n",
       "      <td>11.714286</td>\n",
       "      <td>3.285714</td>\n",
       "      <td>28.285714</td>\n",
       "      <td>105.714286</td>\n",
       "    </tr>\n",
       "    <tr>\n",
       "      <th>...</th>\n",
       "      <td>...</td>\n",
       "      <td>...</td>\n",
       "      <td>...</td>\n",
       "      <td>...</td>\n",
       "      <td>...</td>\n",
       "      <td>...</td>\n",
       "      <td>...</td>\n",
       "      <td>...</td>\n",
       "      <td>...</td>\n",
       "    </tr>\n",
       "    <tr>\n",
       "      <th>705</th>\n",
       "      <td>45</td>\n",
       "      <td>2021-01-07</td>\n",
       "      <td>Zuid-Limburg</td>\n",
       "      <td>8.285714</td>\n",
       "      <td>6.857143</td>\n",
       "      <td>607.142857</td>\n",
       "      <td>1146.142857</td>\n",
       "      <td>2013.857143</td>\n",
       "      <td>53463.142857</td>\n",
       "    </tr>\n",
       "    <tr>\n",
       "      <th>706</th>\n",
       "      <td>46</td>\n",
       "      <td>2021-01-14</td>\n",
       "      <td>Zuid-Limburg</td>\n",
       "      <td>8.000000</td>\n",
       "      <td>5.857143</td>\n",
       "      <td>518.000000</td>\n",
       "      <td>1205.142857</td>\n",
       "      <td>2063.000000</td>\n",
       "      <td>57374.714286</td>\n",
       "    </tr>\n",
       "    <tr>\n",
       "      <th>707</th>\n",
       "      <td>47</td>\n",
       "      <td>2021-01-21</td>\n",
       "      <td>Zuid-Limburg</td>\n",
       "      <td>6.285714</td>\n",
       "      <td>4.571429</td>\n",
       "      <td>428.714286</td>\n",
       "      <td>1254.571429</td>\n",
       "      <td>2098.714286</td>\n",
       "      <td>60704.142857</td>\n",
       "    </tr>\n",
       "    <tr>\n",
       "      <th>708</th>\n",
       "      <td>48</td>\n",
       "      <td>2021-01-28</td>\n",
       "      <td>Zuid-Limburg</td>\n",
       "      <td>5.428571</td>\n",
       "      <td>4.428571</td>\n",
       "      <td>365.428571</td>\n",
       "      <td>1294.714286</td>\n",
       "      <td>2127.714286</td>\n",
       "      <td>63372.714286</td>\n",
       "    </tr>\n",
       "    <tr>\n",
       "      <th>709</th>\n",
       "      <td>49</td>\n",
       "      <td>2021-02-04</td>\n",
       "      <td>Zuid-Limburg</td>\n",
       "      <td>5.142857</td>\n",
       "      <td>4.000000</td>\n",
       "      <td>293.857143</td>\n",
       "      <td>1328.571429</td>\n",
       "      <td>2159.571429</td>\n",
       "      <td>65731.000000</td>\n",
       "    </tr>\n",
       "  </tbody>\n",
       "</table>\n",
       "<p>710 rows × 9 columns</p>\n",
       "</div>"
      ],
      "text/plain": [
       "     index       date      province  number of casualties  \\\n",
       "0        0 2020-02-27       Drenthe                   NaN   \n",
       "1        1 2020-03-05       Drenthe                   NaN   \n",
       "2        2 2020-03-12       Drenthe              0.000000   \n",
       "3        3 2020-03-19       Drenthe              0.285714   \n",
       "4        4 2020-03-26       Drenthe              0.428571   \n",
       "..     ...        ...           ...                   ...   \n",
       "705     45 2021-01-07  Zuid-Limburg              8.285714   \n",
       "706     46 2021-01-14  Zuid-Limburg              8.000000   \n",
       "707     47 2021-01-21  Zuid-Limburg              6.285714   \n",
       "708     48 2021-01-28  Zuid-Limburg              5.428571   \n",
       "709     49 2021-02-04  Zuid-Limburg              5.142857   \n",
       "\n",
       "     number of hospitalized patients  number of cases  \\\n",
       "0                                NaN         0.333333   \n",
       "1                                NaN         1.428571   \n",
       "2                           0.200000         1.428571   \n",
       "3                           1.857143         5.428571   \n",
       "4                           4.142857        11.714286   \n",
       "..                               ...              ...   \n",
       "705                         6.857143       607.142857   \n",
       "706                         5.857143       518.000000   \n",
       "707                         4.571429       428.714286   \n",
       "708                         4.428571       365.428571   \n",
       "709                         4.000000       293.857143   \n",
       "\n",
       "     number of casualties_cum  number of hospitalized patients_cum  \\\n",
       "0                         NaN                                  NaN   \n",
       "1                         NaN                                  NaN   \n",
       "2                    0.000000                             0.500000   \n",
       "3                    1.428571                             6.285714   \n",
       "4                    3.285714                            28.285714   \n",
       "..                        ...                                  ...   \n",
       "705               1146.142857                          2013.857143   \n",
       "706               1205.142857                          2063.000000   \n",
       "707               1254.571429                          2098.714286   \n",
       "708               1294.714286                          2127.714286   \n",
       "709               1328.571429                          2159.571429   \n",
       "\n",
       "     number of cases_cum  \n",
       "0               0.857143  \n",
       "1               7.285714  \n",
       "2              15.857143  \n",
       "3              43.714286  \n",
       "4             105.714286  \n",
       "..                   ...  \n",
       "705         53463.142857  \n",
       "706         57374.714286  \n",
       "707         60704.142857  \n",
       "708         63372.714286  \n",
       "709         65731.000000  \n",
       "\n",
       "[710 rows x 9 columns]"
      ]
     },
     "execution_count": 6,
     "metadata": {},
     "output_type": "execute_result"
    }
   ],
   "source": [
    "# I create an empty dataframe with the same columns as the covid dataframe\n",
    "rows = []\n",
    "columns = []\n",
    "df_covid_final = pd.DataFrame(rows, columns = df_covid.columns.values.tolist())\n",
    "df_covid_month_final = pd.DataFrame(rows, columns = df_covid.columns.values.tolist())\n",
    "\n",
    "# I create a list of the unique provinces in the covid dataframe to loop through\n",
    "provinces = df_covid['province'].unique()\n",
    "\n",
    "# I resample each province separately, because otherwise the all provinces end up with identical data\n",
    "for province in provinces:\n",
    "    df_province_1 = (df_covid.loc[df_covid['province'] == province])\n",
    "    df_province_1_agg = (df_province_1.resample('7D',on='date').mean())\n",
    "    df_province_1_agg.reset_index(inplace=True)\n",
    "    df_province_1_agg['province'] = province\n",
    "    df_covid_final = pd.concat((df_covid_final, df_province_1_agg))\n",
    "\n",
    "# The monthly dataframe comes in handy later during the assignment\n",
    "    df_province_1_aggmonth = (df_province_1.resample('M',on='date').sum())\n",
    "    df_province_1_aggmonth.reset_index(inplace=True)\n",
    "    df_province_1_aggmonth['province'] = province\n",
    "    df_covid_month_final = pd.concat((df_covid_month_final,df_province_1_aggmonth))\n",
    "\n",
    "df_covid_final.reset_index(inplace=True)\n",
    "df_covid_month_final.reset_index(inplace=True)\n",
    "\n",
    "df_covid_final.head(-10)"
   ]
  },
  {
   "cell_type": "markdown",
   "metadata": {},
   "source": [
    "Now, I'm importing the mobility data. The most noteworthy thing I do is changing the column names and reordering the columns."
   ]
  },
  {
   "cell_type": "code",
   "execution_count": 7,
   "metadata": {},
   "outputs": [
    {
     "data": {
      "text/html": [
       "<div>\n",
       "<style scoped>\n",
       "    .dataframe tbody tr th:only-of-type {\n",
       "        vertical-align: middle;\n",
       "    }\n",
       "\n",
       "    .dataframe tbody tr th {\n",
       "        vertical-align: top;\n",
       "    }\n",
       "\n",
       "    .dataframe thead th {\n",
       "        text-align: right;\n",
       "    }\n",
       "</style>\n",
       "<table border=\"1\" class=\"dataframe\">\n",
       "  <thead>\n",
       "    <tr style=\"text-align: right;\">\n",
       "      <th></th>\n",
       "      <th>date</th>\n",
       "      <th>province</th>\n",
       "      <th>retail and recreation trips</th>\n",
       "      <th>grocery and pharmacy trips</th>\n",
       "      <th>park trips</th>\n",
       "      <th>transit station trips</th>\n",
       "      <th>work trips</th>\n",
       "      <th>residential trips</th>\n",
       "    </tr>\n",
       "  </thead>\n",
       "  <tbody>\n",
       "    <tr>\n",
       "      <th>321</th>\n",
       "      <td>2020-02-15</td>\n",
       "      <td>Drenthe</td>\n",
       "      <td>-6.0</td>\n",
       "      <td>0.0</td>\n",
       "      <td>18.0</td>\n",
       "      <td>6.0</td>\n",
       "      <td>1.0</td>\n",
       "      <td>0.0</td>\n",
       "    </tr>\n",
       "    <tr>\n",
       "      <th>322</th>\n",
       "      <td>2020-02-16</td>\n",
       "      <td>Drenthe</td>\n",
       "      <td>-10.0</td>\n",
       "      <td>-10.0</td>\n",
       "      <td>-38.0</td>\n",
       "      <td>-12.0</td>\n",
       "      <td>-2.0</td>\n",
       "      <td>1.0</td>\n",
       "    </tr>\n",
       "    <tr>\n",
       "      <th>323</th>\n",
       "      <td>2020-02-17</td>\n",
       "      <td>Drenthe</td>\n",
       "      <td>3.0</td>\n",
       "      <td>-2.0</td>\n",
       "      <td>52.0</td>\n",
       "      <td>-24.0</td>\n",
       "      <td>-22.0</td>\n",
       "      <td>3.0</td>\n",
       "    </tr>\n",
       "    <tr>\n",
       "      <th>324</th>\n",
       "      <td>2020-02-18</td>\n",
       "      <td>Drenthe</td>\n",
       "      <td>8.0</td>\n",
       "      <td>0.0</td>\n",
       "      <td>45.0</td>\n",
       "      <td>-21.0</td>\n",
       "      <td>-22.0</td>\n",
       "      <td>3.0</td>\n",
       "    </tr>\n",
       "    <tr>\n",
       "      <th>325</th>\n",
       "      <td>2020-02-19</td>\n",
       "      <td>Drenthe</td>\n",
       "      <td>4.0</td>\n",
       "      <td>-4.0</td>\n",
       "      <td>49.0</td>\n",
       "      <td>-19.0</td>\n",
       "      <td>-22.0</td>\n",
       "      <td>2.0</td>\n",
       "    </tr>\n",
       "    <tr>\n",
       "      <th>...</th>\n",
       "      <td>...</td>\n",
       "      <td>...</td>\n",
       "      <td>...</td>\n",
       "      <td>...</td>\n",
       "      <td>...</td>\n",
       "      <td>...</td>\n",
       "      <td>...</td>\n",
       "      <td>...</td>\n",
       "    </tr>\n",
       "    <tr>\n",
       "      <th>26570</th>\n",
       "      <td>2021-08-27</td>\n",
       "      <td>Zuid-Limburg</td>\n",
       "      <td>6.0</td>\n",
       "      <td>13.0</td>\n",
       "      <td>148.0</td>\n",
       "      <td>-21.0</td>\n",
       "      <td>-37.0</td>\n",
       "      <td>5.0</td>\n",
       "    </tr>\n",
       "    <tr>\n",
       "      <th>26571</th>\n",
       "      <td>2021-08-28</td>\n",
       "      <td>Zuid-Limburg</td>\n",
       "      <td>-9.0</td>\n",
       "      <td>2.0</td>\n",
       "      <td>107.0</td>\n",
       "      <td>-5.0</td>\n",
       "      <td>4.0</td>\n",
       "      <td>1.0</td>\n",
       "    </tr>\n",
       "    <tr>\n",
       "      <th>26572</th>\n",
       "      <td>2021-08-29</td>\n",
       "      <td>Zuid-Limburg</td>\n",
       "      <td>-11.0</td>\n",
       "      <td>4.0</td>\n",
       "      <td>47.0</td>\n",
       "      <td>-6.0</td>\n",
       "      <td>11.0</td>\n",
       "      <td>1.0</td>\n",
       "    </tr>\n",
       "    <tr>\n",
       "      <th>26573</th>\n",
       "      <td>2021-08-30</td>\n",
       "      <td>Zuid-Limburg</td>\n",
       "      <td>25.0</td>\n",
       "      <td>18.0</td>\n",
       "      <td>162.0</td>\n",
       "      <td>-15.0</td>\n",
       "      <td>-34.0</td>\n",
       "      <td>5.0</td>\n",
       "    </tr>\n",
       "    <tr>\n",
       "      <th>26574</th>\n",
       "      <td>2021-08-31</td>\n",
       "      <td>Zuid-Limburg</td>\n",
       "      <td>27.0</td>\n",
       "      <td>22.0</td>\n",
       "      <td>236.0</td>\n",
       "      <td>-10.0</td>\n",
       "      <td>-33.0</td>\n",
       "      <td>5.0</td>\n",
       "    </tr>\n",
       "  </tbody>\n",
       "</table>\n",
       "<p>6878 rows × 8 columns</p>\n",
       "</div>"
      ],
      "text/plain": [
       "            date      province  retail and recreation trips  \\\n",
       "321   2020-02-15       Drenthe                         -6.0   \n",
       "322   2020-02-16       Drenthe                        -10.0   \n",
       "323   2020-02-17       Drenthe                          3.0   \n",
       "324   2020-02-18       Drenthe                          8.0   \n",
       "325   2020-02-19       Drenthe                          4.0   \n",
       "...          ...           ...                          ...   \n",
       "26570 2021-08-27  Zuid-Limburg                          6.0   \n",
       "26571 2021-08-28  Zuid-Limburg                         -9.0   \n",
       "26572 2021-08-29  Zuid-Limburg                        -11.0   \n",
       "26573 2021-08-30  Zuid-Limburg                         25.0   \n",
       "26574 2021-08-31  Zuid-Limburg                         27.0   \n",
       "\n",
       "       grocery and pharmacy trips  park trips  transit station trips  \\\n",
       "321                           0.0        18.0                    6.0   \n",
       "322                         -10.0       -38.0                  -12.0   \n",
       "323                          -2.0        52.0                  -24.0   \n",
       "324                           0.0        45.0                  -21.0   \n",
       "325                          -4.0        49.0                  -19.0   \n",
       "...                           ...         ...                    ...   \n",
       "26570                        13.0       148.0                  -21.0   \n",
       "26571                         2.0       107.0                   -5.0   \n",
       "26572                         4.0        47.0                   -6.0   \n",
       "26573                        18.0       162.0                  -15.0   \n",
       "26574                        22.0       236.0                  -10.0   \n",
       "\n",
       "       work trips  residential trips  \n",
       "321           1.0                0.0  \n",
       "322          -2.0                1.0  \n",
       "323         -22.0                3.0  \n",
       "324         -22.0                3.0  \n",
       "325         -22.0                2.0  \n",
       "...           ...                ...  \n",
       "26570       -37.0                5.0  \n",
       "26571         4.0                1.0  \n",
       "26572        11.0                1.0  \n",
       "26573       -34.0                5.0  \n",
       "26574       -33.0                5.0  \n",
       "\n",
       "[6878 rows x 8 columns]"
      ]
     },
     "execution_count": 7,
     "metadata": {},
     "output_type": "execute_result"
    }
   ],
   "source": [
    "# import the files for the mobility data\n",
    "file_path_mobility_2020 = r'C:\\Users\\Govert\\OneDrive - Delft University of Technology\\Studie\\Master jaar 2\\Kwartiel 1\\TIL6010 - TIL programming\\til6010-assignments\\Final assignment\\2020_NL_Region_Mobility_report.csv'\n",
    "file_path_mobility_2021 = r'C:\\Users\\Govert\\OneDrive - Delft University of Technology\\Studie\\Master jaar 2\\Kwartiel 1\\TIL6010 - TIL programming\\til6010-assignments\\Final assignment\\2021_NL_Region_Mobility_report.csv'\n",
    "\n",
    "# open the files as dataframes\n",
    "df_mob_2020 = pd.read_csv(file_path_mobility_2020)\n",
    "df_mob_2021 = pd.read_csv(file_path_mobility_2021)\n",
    "\n",
    "# combine the mobility dataframes and only leave the provincial data and drop all the unnecessary columns and rename most of the columns\n",
    "df_mob_combined = pd.concat((df_mob_2020, df_mob_2021))\n",
    "df_mobility = df_mob_combined[(df_mob_combined['sub_region_1'].notna()) & (df_mob_combined['sub_region_2'].isna())]\n",
    "df_mobility = df_mobility.drop(columns = ['country_region_code', 'country_region', 'sub_region_2', 'metro_area', 'iso_3166_2_code', 'census_fips_code', 'place_id'])\n",
    "df_mobility.rename(columns =    {'sub_region_1': 'province', \n",
    "                                'retail_and_recreation_percent_change_from_baseline': 'retail and recreation trips', \n",
    "                                'grocery_and_pharmacy_percent_change_from_baseline': 'grocery and pharmacy trips', \n",
    "                                'parks_percent_change_from_baseline': 'park trips',\n",
    "                                'transit_stations_percent_change_from_baseline': 'transit station trips',\n",
    "                                'workplaces_percent_change_from_baseline': 'work trips',\n",
    "                                'residential_percent_change_from_baseline': 'residential trips'},inplace=True)\n",
    "\n",
    "# set the date and reformat the dataframes\n",
    "df_datetime_2 = pd.to_datetime(df_mobility['date'],format='%d/%m/%Y')\n",
    "df_mobility['date'] = df_datetime_2\n",
    "df_mobility = df_mobility.sort_values(by=['province','date'],ascending=[True,True])\n",
    "\n",
    "# Reorder the columns\n",
    "cols = list(df_mobility.columns.values)\n",
    "df_mobility = df_mobility[[cols[1]] + [cols[0]]+ cols[2:8]]\n",
    "df_mobility.head(-10)"
   ]
  },
  {
   "cell_type": "markdown",
   "metadata": {},
   "source": [
    "Here I do something similar as I did with the covid data, but a bit different:\n",
    "- I loop again over the provinces\n",
    "- But I drop the first twelve days to make sure the dataframe begins at the same data as the covid data\n",
    "- When I now resample, the dataframes are resampled to the same date. This is necessary for the merge I'm doing in the next code block\n",
    "- Then I again add the provinces to the final dataframe\n",
    "- The monthly dataframe is made again, for the end of the assignment"
   ]
  },
  {
   "cell_type": "code",
   "execution_count": 8,
   "metadata": {},
   "outputs": [
    {
     "data": {
      "text/html": [
       "<div>\n",
       "<style scoped>\n",
       "    .dataframe tbody tr th:only-of-type {\n",
       "        vertical-align: middle;\n",
       "    }\n",
       "\n",
       "    .dataframe tbody tr th {\n",
       "        vertical-align: top;\n",
       "    }\n",
       "\n",
       "    .dataframe thead th {\n",
       "        text-align: right;\n",
       "    }\n",
       "</style>\n",
       "<table border=\"1\" class=\"dataframe\">\n",
       "  <thead>\n",
       "    <tr style=\"text-align: right;\">\n",
       "      <th></th>\n",
       "      <th>index</th>\n",
       "      <th>date</th>\n",
       "      <th>province</th>\n",
       "      <th>retail and recreation trips</th>\n",
       "      <th>grocery and pharmacy trips</th>\n",
       "      <th>park trips</th>\n",
       "      <th>transit station trips</th>\n",
       "      <th>work trips</th>\n",
       "      <th>residential trips</th>\n",
       "    </tr>\n",
       "  </thead>\n",
       "  <tbody>\n",
       "    <tr>\n",
       "      <th>0</th>\n",
       "      <td>0</td>\n",
       "      <td>2020-02-27</td>\n",
       "      <td>Drenthe</td>\n",
       "      <td>3.142857</td>\n",
       "      <td>2.714286</td>\n",
       "      <td>14.000000</td>\n",
       "      <td>1.285714</td>\n",
       "      <td>3.142857</td>\n",
       "      <td>0.428571</td>\n",
       "    </tr>\n",
       "    <tr>\n",
       "      <th>1</th>\n",
       "      <td>1</td>\n",
       "      <td>2020-03-05</td>\n",
       "      <td>Drenthe</td>\n",
       "      <td>2.142857</td>\n",
       "      <td>1.857143</td>\n",
       "      <td>10.857143</td>\n",
       "      <td>-0.857143</td>\n",
       "      <td>2.571429</td>\n",
       "      <td>0.285714</td>\n",
       "    </tr>\n",
       "    <tr>\n",
       "      <th>2</th>\n",
       "      <td>2</td>\n",
       "      <td>2020-03-12</td>\n",
       "      <td>Drenthe</td>\n",
       "      <td>-15.714286</td>\n",
       "      <td>11.571429</td>\n",
       "      <td>17.428571</td>\n",
       "      <td>-31.714286</td>\n",
       "      <td>-17.285714</td>\n",
       "      <td>7.428571</td>\n",
       "    </tr>\n",
       "    <tr>\n",
       "      <th>3</th>\n",
       "      <td>3</td>\n",
       "      <td>2020-03-19</td>\n",
       "      <td>Drenthe</td>\n",
       "      <td>-39.000000</td>\n",
       "      <td>-9.714286</td>\n",
       "      <td>14.285714</td>\n",
       "      <td>-54.571429</td>\n",
       "      <td>-37.428571</td>\n",
       "      <td>13.571429</td>\n",
       "    </tr>\n",
       "    <tr>\n",
       "      <th>4</th>\n",
       "      <td>4</td>\n",
       "      <td>2020-03-26</td>\n",
       "      <td>Drenthe</td>\n",
       "      <td>-43.714286</td>\n",
       "      <td>-18.714286</td>\n",
       "      <td>5.285714</td>\n",
       "      <td>-59.285714</td>\n",
       "      <td>-40.571429</td>\n",
       "      <td>14.571429</td>\n",
       "    </tr>\n",
       "    <tr>\n",
       "      <th>...</th>\n",
       "      <td>...</td>\n",
       "      <td>...</td>\n",
       "      <td>...</td>\n",
       "      <td>...</td>\n",
       "      <td>...</td>\n",
       "      <td>...</td>\n",
       "      <td>...</td>\n",
       "      <td>...</td>\n",
       "      <td>...</td>\n",
       "    </tr>\n",
       "    <tr>\n",
       "      <th>957</th>\n",
       "      <td>66</td>\n",
       "      <td>2021-06-03</td>\n",
       "      <td>Zuid-Limburg</td>\n",
       "      <td>2.285714</td>\n",
       "      <td>17.285714</td>\n",
       "      <td>177.428571</td>\n",
       "      <td>-15.714286</td>\n",
       "      <td>-8.285714</td>\n",
       "      <td>4.428571</td>\n",
       "    </tr>\n",
       "    <tr>\n",
       "      <th>958</th>\n",
       "      <td>67</td>\n",
       "      <td>2021-06-10</td>\n",
       "      <td>Zuid-Limburg</td>\n",
       "      <td>4.714286</td>\n",
       "      <td>18.285714</td>\n",
       "      <td>203.714286</td>\n",
       "      <td>-11.571429</td>\n",
       "      <td>-7.142857</td>\n",
       "      <td>2.857143</td>\n",
       "    </tr>\n",
       "    <tr>\n",
       "      <th>959</th>\n",
       "      <td>68</td>\n",
       "      <td>2021-06-17</td>\n",
       "      <td>Zuid-Limburg</td>\n",
       "      <td>-0.857143</td>\n",
       "      <td>14.428571</td>\n",
       "      <td>160.285714</td>\n",
       "      <td>-17.428571</td>\n",
       "      <td>-7.857143</td>\n",
       "      <td>3.714286</td>\n",
       "    </tr>\n",
       "    <tr>\n",
       "      <th>960</th>\n",
       "      <td>69</td>\n",
       "      <td>2021-06-24</td>\n",
       "      <td>Zuid-Limburg</td>\n",
       "      <td>5.285714</td>\n",
       "      <td>14.285714</td>\n",
       "      <td>168.142857</td>\n",
       "      <td>-13.571429</td>\n",
       "      <td>-8.571429</td>\n",
       "      <td>2.857143</td>\n",
       "    </tr>\n",
       "    <tr>\n",
       "      <th>961</th>\n",
       "      <td>70</td>\n",
       "      <td>2021-07-01</td>\n",
       "      <td>Zuid-Limburg</td>\n",
       "      <td>8.571429</td>\n",
       "      <td>14.428571</td>\n",
       "      <td>166.285714</td>\n",
       "      <td>-12.000000</td>\n",
       "      <td>-8.571429</td>\n",
       "      <td>3.428571</td>\n",
       "    </tr>\n",
       "  </tbody>\n",
       "</table>\n",
       "<p>962 rows × 9 columns</p>\n",
       "</div>"
      ],
      "text/plain": [
       "     index       date      province  retail and recreation trips  \\\n",
       "0        0 2020-02-27       Drenthe                     3.142857   \n",
       "1        1 2020-03-05       Drenthe                     2.142857   \n",
       "2        2 2020-03-12       Drenthe                   -15.714286   \n",
       "3        3 2020-03-19       Drenthe                   -39.000000   \n",
       "4        4 2020-03-26       Drenthe                   -43.714286   \n",
       "..     ...        ...           ...                          ...   \n",
       "957     66 2021-06-03  Zuid-Limburg                     2.285714   \n",
       "958     67 2021-06-10  Zuid-Limburg                     4.714286   \n",
       "959     68 2021-06-17  Zuid-Limburg                    -0.857143   \n",
       "960     69 2021-06-24  Zuid-Limburg                     5.285714   \n",
       "961     70 2021-07-01  Zuid-Limburg                     8.571429   \n",
       "\n",
       "     grocery and pharmacy trips  park trips  transit station trips  \\\n",
       "0                      2.714286   14.000000               1.285714   \n",
       "1                      1.857143   10.857143              -0.857143   \n",
       "2                     11.571429   17.428571             -31.714286   \n",
       "3                     -9.714286   14.285714             -54.571429   \n",
       "4                    -18.714286    5.285714             -59.285714   \n",
       "..                          ...         ...                    ...   \n",
       "957                   17.285714  177.428571             -15.714286   \n",
       "958                   18.285714  203.714286             -11.571429   \n",
       "959                   14.428571  160.285714             -17.428571   \n",
       "960                   14.285714  168.142857             -13.571429   \n",
       "961                   14.428571  166.285714             -12.000000   \n",
       "\n",
       "     work trips  residential trips  \n",
       "0      3.142857           0.428571  \n",
       "1      2.571429           0.285714  \n",
       "2    -17.285714           7.428571  \n",
       "3    -37.428571          13.571429  \n",
       "4    -40.571429          14.571429  \n",
       "..          ...                ...  \n",
       "957   -8.285714           4.428571  \n",
       "958   -7.142857           2.857143  \n",
       "959   -7.857143           3.714286  \n",
       "960   -8.571429           2.857143  \n",
       "961   -8.571429           3.428571  \n",
       "\n",
       "[962 rows x 9 columns]"
      ]
     },
     "execution_count": 8,
     "metadata": {},
     "output_type": "execute_result"
    }
   ],
   "source": [
    "# Again I create an empty dataframe, this time with the columns of the mobility dataframe\n",
    "rows = []\n",
    "columns = []\n",
    "df_mobility_final = pd.DataFrame(rows, columns = df_mobility.columns.values.tolist())\n",
    "df_mobility_month_final = pd.DataFrame(rows, columns = df_mobility.columns.values.tolist())\n",
    "\n",
    "# Again a list of all unique provinces\n",
    "provinces = df_mobility['province'].unique()\n",
    "\n",
    "# Then I loop through the provinces again, but this time I also drop the rows at the beginning until the date the covid dataframe starts. This way the mobility data is resampled to the same days/weeks as the covid data\n",
    "for province in provinces:\n",
    "    df_province_2 = (df_mobility.loc[df_mobility['province'] == province])\n",
    "    df_province_2 = df_province_2.drop(df_province_2.index[0:12])\n",
    "    df_province_2_agg = (df_province_2.resample('7D',on='date').mean())\n",
    "    df_province_2_agg.reset_index(inplace=True)\n",
    "    df_province_2_agg['province'] = province\n",
    "    df_mobility_final = pd.concat((df_mobility_final, df_province_2_agg))\n",
    "\n",
    "# The monthly dataframe comes in handy later during the assignment\n",
    "    df_province_2_aggmonth = (df_province_2.resample('M',on='date').sum())\n",
    "    df_province_2_aggmonth.reset_index(inplace=True)\n",
    "    df_province_2_aggmonth['province'] = province\n",
    "    df_mobility_month_final = pd.concat((df_mobility_month_final,df_province_2_aggmonth))\n",
    "\n",
    "df_mobility_final.reset_index(inplace=True)\n",
    "df_mobility_month_final.reset_index(inplace=True)\n",
    "\n",
    "df_mobility_final.head(-10)"
   ]
  },
  {
   "cell_type": "markdown",
   "metadata": {},
   "source": [
    "Merging the dataframes then becomes relatively easily:\n",
    "- I mention which columns to take from both dataframes\n",
    "- I remove the old indices\n",
    "- The monthly dataframe is also merged"
   ]
  },
  {
   "cell_type": "code",
   "execution_count": 9,
   "metadata": {},
   "outputs": [
    {
     "data": {
      "text/html": [
       "<div>\n",
       "<style scoped>\n",
       "    .dataframe tbody tr th:only-of-type {\n",
       "        vertical-align: middle;\n",
       "    }\n",
       "\n",
       "    .dataframe tbody tr th {\n",
       "        vertical-align: top;\n",
       "    }\n",
       "\n",
       "    .dataframe thead th {\n",
       "        text-align: right;\n",
       "    }\n",
       "</style>\n",
       "<table border=\"1\" class=\"dataframe\">\n",
       "  <thead>\n",
       "    <tr style=\"text-align: right;\">\n",
       "      <th></th>\n",
       "      <th>date</th>\n",
       "      <th>province</th>\n",
       "      <th>number of casualties</th>\n",
       "      <th>number of hospitalized patients</th>\n",
       "      <th>number of cases</th>\n",
       "      <th>number of casualties_cum</th>\n",
       "      <th>number of hospitalized patients_cum</th>\n",
       "      <th>number of cases_cum</th>\n",
       "      <th>retail and recreation trips</th>\n",
       "      <th>grocery and pharmacy trips</th>\n",
       "      <th>park trips</th>\n",
       "      <th>transit station trips</th>\n",
       "      <th>work trips</th>\n",
       "      <th>residential trips</th>\n",
       "    </tr>\n",
       "  </thead>\n",
       "  <tbody>\n",
       "    <tr>\n",
       "      <th>0</th>\n",
       "      <td>2020-02-27</td>\n",
       "      <td>Drenthe</td>\n",
       "      <td>NaN</td>\n",
       "      <td>NaN</td>\n",
       "      <td>0.333333</td>\n",
       "      <td>NaN</td>\n",
       "      <td>NaN</td>\n",
       "      <td>0.857143</td>\n",
       "      <td>3.142857</td>\n",
       "      <td>2.714286</td>\n",
       "      <td>14.000000</td>\n",
       "      <td>1.285714</td>\n",
       "      <td>3.142857</td>\n",
       "      <td>0.428571</td>\n",
       "    </tr>\n",
       "    <tr>\n",
       "      <th>1</th>\n",
       "      <td>2020-03-05</td>\n",
       "      <td>Drenthe</td>\n",
       "      <td>NaN</td>\n",
       "      <td>NaN</td>\n",
       "      <td>1.428571</td>\n",
       "      <td>NaN</td>\n",
       "      <td>NaN</td>\n",
       "      <td>7.285714</td>\n",
       "      <td>2.142857</td>\n",
       "      <td>1.857143</td>\n",
       "      <td>10.857143</td>\n",
       "      <td>-0.857143</td>\n",
       "      <td>2.571429</td>\n",
       "      <td>0.285714</td>\n",
       "    </tr>\n",
       "    <tr>\n",
       "      <th>2</th>\n",
       "      <td>2020-03-12</td>\n",
       "      <td>Drenthe</td>\n",
       "      <td>0.000000</td>\n",
       "      <td>0.200000</td>\n",
       "      <td>1.428571</td>\n",
       "      <td>0.000000</td>\n",
       "      <td>0.500000</td>\n",
       "      <td>15.857143</td>\n",
       "      <td>-15.714286</td>\n",
       "      <td>11.571429</td>\n",
       "      <td>17.428571</td>\n",
       "      <td>-31.714286</td>\n",
       "      <td>-17.285714</td>\n",
       "      <td>7.428571</td>\n",
       "    </tr>\n",
       "    <tr>\n",
       "      <th>3</th>\n",
       "      <td>2020-03-19</td>\n",
       "      <td>Drenthe</td>\n",
       "      <td>0.285714</td>\n",
       "      <td>1.857143</td>\n",
       "      <td>5.428571</td>\n",
       "      <td>1.428571</td>\n",
       "      <td>6.285714</td>\n",
       "      <td>43.714286</td>\n",
       "      <td>-39.000000</td>\n",
       "      <td>-9.714286</td>\n",
       "      <td>14.285714</td>\n",
       "      <td>-54.571429</td>\n",
       "      <td>-37.428571</td>\n",
       "      <td>13.571429</td>\n",
       "    </tr>\n",
       "    <tr>\n",
       "      <th>4</th>\n",
       "      <td>2020-03-26</td>\n",
       "      <td>Drenthe</td>\n",
       "      <td>0.428571</td>\n",
       "      <td>4.142857</td>\n",
       "      <td>11.714286</td>\n",
       "      <td>3.285714</td>\n",
       "      <td>28.285714</td>\n",
       "      <td>105.714286</td>\n",
       "      <td>-43.714286</td>\n",
       "      <td>-18.714286</td>\n",
       "      <td>5.285714</td>\n",
       "      <td>-59.285714</td>\n",
       "      <td>-40.571429</td>\n",
       "      <td>14.571429</td>\n",
       "    </tr>\n",
       "    <tr>\n",
       "      <th>...</th>\n",
       "      <td>...</td>\n",
       "      <td>...</td>\n",
       "      <td>...</td>\n",
       "      <td>...</td>\n",
       "      <td>...</td>\n",
       "      <td>...</td>\n",
       "      <td>...</td>\n",
       "      <td>...</td>\n",
       "      <td>...</td>\n",
       "      <td>...</td>\n",
       "      <td>...</td>\n",
       "      <td>...</td>\n",
       "      <td>...</td>\n",
       "      <td>...</td>\n",
       "    </tr>\n",
       "    <tr>\n",
       "      <th>705</th>\n",
       "      <td>2021-01-07</td>\n",
       "      <td>Zuid-Limburg</td>\n",
       "      <td>8.285714</td>\n",
       "      <td>6.857143</td>\n",
       "      <td>607.142857</td>\n",
       "      <td>1146.142857</td>\n",
       "      <td>2013.857143</td>\n",
       "      <td>53463.142857</td>\n",
       "      <td>-60.714286</td>\n",
       "      <td>-12.571429</td>\n",
       "      <td>-6.000000</td>\n",
       "      <td>-49.000000</td>\n",
       "      <td>-25.285714</td>\n",
       "      <td>12.142857</td>\n",
       "    </tr>\n",
       "    <tr>\n",
       "      <th>706</th>\n",
       "      <td>2021-01-14</td>\n",
       "      <td>Zuid-Limburg</td>\n",
       "      <td>8.000000</td>\n",
       "      <td>5.857143</td>\n",
       "      <td>518.000000</td>\n",
       "      <td>1205.142857</td>\n",
       "      <td>2063.000000</td>\n",
       "      <td>57374.714286</td>\n",
       "      <td>-61.857143</td>\n",
       "      <td>-15.285714</td>\n",
       "      <td>-9.571429</td>\n",
       "      <td>-50.142857</td>\n",
       "      <td>-27.000000</td>\n",
       "      <td>11.571429</td>\n",
       "    </tr>\n",
       "    <tr>\n",
       "      <th>707</th>\n",
       "      <td>2021-01-21</td>\n",
       "      <td>Zuid-Limburg</td>\n",
       "      <td>6.285714</td>\n",
       "      <td>4.571429</td>\n",
       "      <td>428.714286</td>\n",
       "      <td>1254.571429</td>\n",
       "      <td>2098.714286</td>\n",
       "      <td>60704.142857</td>\n",
       "      <td>-60.714286</td>\n",
       "      <td>-12.571429</td>\n",
       "      <td>3.714286</td>\n",
       "      <td>-48.285714</td>\n",
       "      <td>-26.571429</td>\n",
       "      <td>12.000000</td>\n",
       "    </tr>\n",
       "    <tr>\n",
       "      <th>708</th>\n",
       "      <td>2021-01-28</td>\n",
       "      <td>Zuid-Limburg</td>\n",
       "      <td>5.428571</td>\n",
       "      <td>4.428571</td>\n",
       "      <td>365.428571</td>\n",
       "      <td>1294.714286</td>\n",
       "      <td>2127.714286</td>\n",
       "      <td>63372.714286</td>\n",
       "      <td>-60.714286</td>\n",
       "      <td>-12.857143</td>\n",
       "      <td>-10.714286</td>\n",
       "      <td>-50.000000</td>\n",
       "      <td>-25.571429</td>\n",
       "      <td>12.142857</td>\n",
       "    </tr>\n",
       "    <tr>\n",
       "      <th>709</th>\n",
       "      <td>2021-02-04</td>\n",
       "      <td>Zuid-Limburg</td>\n",
       "      <td>5.142857</td>\n",
       "      <td>4.000000</td>\n",
       "      <td>293.857143</td>\n",
       "      <td>1328.571429</td>\n",
       "      <td>2159.571429</td>\n",
       "      <td>65731.000000</td>\n",
       "      <td>-61.571429</td>\n",
       "      <td>-12.285714</td>\n",
       "      <td>-2.857143</td>\n",
       "      <td>-52.571429</td>\n",
       "      <td>-28.571429</td>\n",
       "      <td>12.571429</td>\n",
       "    </tr>\n",
       "  </tbody>\n",
       "</table>\n",
       "<p>710 rows × 14 columns</p>\n",
       "</div>"
      ],
      "text/plain": [
       "          date      province  number of casualties  \\\n",
       "0   2020-02-27       Drenthe                   NaN   \n",
       "1   2020-03-05       Drenthe                   NaN   \n",
       "2   2020-03-12       Drenthe              0.000000   \n",
       "3   2020-03-19       Drenthe              0.285714   \n",
       "4   2020-03-26       Drenthe              0.428571   \n",
       "..         ...           ...                   ...   \n",
       "705 2021-01-07  Zuid-Limburg              8.285714   \n",
       "706 2021-01-14  Zuid-Limburg              8.000000   \n",
       "707 2021-01-21  Zuid-Limburg              6.285714   \n",
       "708 2021-01-28  Zuid-Limburg              5.428571   \n",
       "709 2021-02-04  Zuid-Limburg              5.142857   \n",
       "\n",
       "     number of hospitalized patients  number of cases  \\\n",
       "0                                NaN         0.333333   \n",
       "1                                NaN         1.428571   \n",
       "2                           0.200000         1.428571   \n",
       "3                           1.857143         5.428571   \n",
       "4                           4.142857        11.714286   \n",
       "..                               ...              ...   \n",
       "705                         6.857143       607.142857   \n",
       "706                         5.857143       518.000000   \n",
       "707                         4.571429       428.714286   \n",
       "708                         4.428571       365.428571   \n",
       "709                         4.000000       293.857143   \n",
       "\n",
       "     number of casualties_cum  number of hospitalized patients_cum  \\\n",
       "0                         NaN                                  NaN   \n",
       "1                         NaN                                  NaN   \n",
       "2                    0.000000                             0.500000   \n",
       "3                    1.428571                             6.285714   \n",
       "4                    3.285714                            28.285714   \n",
       "..                        ...                                  ...   \n",
       "705               1146.142857                          2013.857143   \n",
       "706               1205.142857                          2063.000000   \n",
       "707               1254.571429                          2098.714286   \n",
       "708               1294.714286                          2127.714286   \n",
       "709               1328.571429                          2159.571429   \n",
       "\n",
       "     number of cases_cum  retail and recreation trips  \\\n",
       "0               0.857143                     3.142857   \n",
       "1               7.285714                     2.142857   \n",
       "2              15.857143                   -15.714286   \n",
       "3              43.714286                   -39.000000   \n",
       "4             105.714286                   -43.714286   \n",
       "..                   ...                          ...   \n",
       "705         53463.142857                   -60.714286   \n",
       "706         57374.714286                   -61.857143   \n",
       "707         60704.142857                   -60.714286   \n",
       "708         63372.714286                   -60.714286   \n",
       "709         65731.000000                   -61.571429   \n",
       "\n",
       "     grocery and pharmacy trips  park trips  transit station trips  \\\n",
       "0                      2.714286   14.000000               1.285714   \n",
       "1                      1.857143   10.857143              -0.857143   \n",
       "2                     11.571429   17.428571             -31.714286   \n",
       "3                     -9.714286   14.285714             -54.571429   \n",
       "4                    -18.714286    5.285714             -59.285714   \n",
       "..                          ...         ...                    ...   \n",
       "705                  -12.571429   -6.000000             -49.000000   \n",
       "706                  -15.285714   -9.571429             -50.142857   \n",
       "707                  -12.571429    3.714286             -48.285714   \n",
       "708                  -12.857143  -10.714286             -50.000000   \n",
       "709                  -12.285714   -2.857143             -52.571429   \n",
       "\n",
       "     work trips  residential trips  \n",
       "0      3.142857           0.428571  \n",
       "1      2.571429           0.285714  \n",
       "2    -17.285714           7.428571  \n",
       "3    -37.428571          13.571429  \n",
       "4    -40.571429          14.571429  \n",
       "..          ...                ...  \n",
       "705  -25.285714          12.142857  \n",
       "706  -27.000000          11.571429  \n",
       "707  -26.571429          12.000000  \n",
       "708  -25.571429          12.142857  \n",
       "709  -28.571429          12.571429  \n",
       "\n",
       "[710 rows x 14 columns]"
      ]
     },
     "execution_count": 9,
     "metadata": {},
     "output_type": "execute_result"
    }
   ],
   "source": [
    "# then I merge the covid and the mobility dataframes and drop the columns with the old indices\n",
    "df_full = df_covid_final.merge(df_mobility_final, how='inner', left_on=['date','province'], right_on=['date','province'])\n",
    "df_full = df_full.drop(columns=['index_x','index_y'])\n",
    "\n",
    "# The monthly dataframe is also merged the same way\n",
    "df_full_month = df_covid_month_final.merge(df_mobility_month_final,how='inner', left_on=['date','province'], right_on=['date','province'])\n",
    "df_full_month = df_full_month.drop(columns=['index_x','index_y'])\n",
    "\n",
    "df_full.head(-10)"
   ]
  },
  {
   "cell_type": "markdown",
   "metadata": {
    "heading_collapsed": true,
    "hidden": true
   },
   "source": [
    "## Part II - Data processing"
   ]
  },
  {
   "cell_type": "markdown",
   "metadata": {},
   "source": [
    "In the second part, I'm going to find common peaks for two kinds of trips and for two types of covid data. All for the province of Noord-Brabant.\n",
    "- First, I would use my old find-my-peaks algorithm to define how to find the peaks and the valleys.\n",
    "- Then, I would plot graphs of the peaks and valleys like in one of the previous assignments.\n",
    "\n",
    "The peaks_dict is necessary to create a list of the peaks to plot. I will also include the dates_dict containing the dates of the peaks and valleys. \n",
    "I do this because I eventually want to be able to compare dates and not numbers. \n",
    "\n",
    "When I have the plots, I'm going to use code to look for common peaks and valleys as well. Just reading them from the graphs is too simple of course :)\n",
    "- A margin is needed to also report peaks that differ 1 or 2 weeks, to be able to e.g. see the effect of higher covid deaths on number of trips\n",
    "- This margin can easily be adapted by changing the weeks variables\n",
    "- This margin is then turned into a range from 1 to that number of weeks\n",
    "- I loop over the peaks of both the activity variables (trips or covid data)\n",
    "- I loop over all the number in the margin range (so if weeks=3, I loop over 1, 2, and 3)\n",
    "- In the loop, it is checked whether the two peaks are on the same date, or if peak A equals peak B if you add or distract the week number\n",
    "- If one of those is the case, peak A is added to one of three lists: precise, before or after. These show whether peak B is either in the same week, in the margin before or in the margin after that week\n",
    "- Then I print those dictionary lists in nicely formulated sentences that also change if the margin is adapted.\n",
    "\n",
    "Additional information is also given in the comments in the code."
   ]
  },
  {
   "cell_type": "code",
   "execution_count": 10,
   "metadata": {},
   "outputs": [],
   "source": [
    "# In this block, all the variables can be adjusted. The defaults can be seen below. \n",
    "# The weeks variables are the margins for the common peak finding. \n",
    "activity_1 = 'work trips'\n",
    "activity_2 = 'grocery and pharmacy trips'\n",
    "activities_1 = [activity_1, activity_2]\n",
    "weeks_1 = 1\n",
    "\n",
    "activity_3 = 'number of hospitalized patients'\n",
    "activity_4 = 'number of casualties'\n",
    "activities_2 = [activity_3, activity_4]\n",
    "weeks_2 = 1\n",
    "\n",
    "province_1 = 'Noord-Brabant'\n",
    "\n",
    "weeks_3 = 1"
   ]
  },
  {
   "cell_type": "code",
   "execution_count": 11,
   "metadata": {},
   "outputs": [],
   "source": [
    "# first, I'm going to use my find_peaks function from assignment 2 to give the peaks in a list for each province for a specific activity\n",
    "def my_find_peaks(data, activity, **kwargs):\n",
    "\n",
    "    diff_1 = data[activity].diff(periods = -1)\n",
    "    diff_2 = data[activity].diff(periods = 1)\n",
    "    \n",
    "    peaks = []\n",
    "    for i in range(len(diff_1)):\n",
    "        if diff_1[i] > 0 and diff_2[i] > 0:\n",
    "            peaks.append(int(i))          \n",
    "            \n",
    "    return peaks\n",
    "\n",
    "# And do the same for the valleys\n",
    "def my_find_valleys(data, activity, **kwargs):\n",
    "\n",
    "    diff_1 = data[activity].diff(periods = -1)\n",
    "    diff_2 = data[activity].diff(periods = 1)\n",
    "\n",
    "    valleys = []\n",
    "    for i in range(len(diff_1)):\n",
    "        if diff_1[i] < 0 and diff_2[i] < 0:\n",
    "            valleys.append(int(i))          \n",
    "            \n",
    "    return valleys"
   ]
  },
  {
   "cell_type": "code",
   "execution_count": 12,
   "metadata": {},
   "outputs": [
    {
     "data": {
      "application/vnd.plotly.v1+json": {
       "config": {
        "plotlyServerURL": "https://plot.ly"
       },
       "data": [
        {
         "name": "work trips",
         "type": "scatter",
         "x": [
          "2020-02-27T00:00:00",
          "2020-03-05T00:00:00",
          "2020-03-12T00:00:00",
          "2020-03-19T00:00:00",
          "2020-03-26T00:00:00",
          "2020-04-02T00:00:00",
          "2020-04-09T00:00:00",
          "2020-04-16T00:00:00",
          "2020-04-23T00:00:00",
          "2020-04-30T00:00:00",
          "2020-05-07T00:00:00",
          "2020-05-14T00:00:00",
          "2020-05-21T00:00:00",
          "2020-05-28T00:00:00",
          "2020-06-04T00:00:00",
          "2020-06-11T00:00:00",
          "2020-06-18T00:00:00",
          "2020-06-25T00:00:00",
          "2020-07-02T00:00:00",
          "2020-07-09T00:00:00",
          "2020-07-16T00:00:00",
          "2020-07-23T00:00:00",
          "2020-07-30T00:00:00",
          "2020-08-06T00:00:00",
          "2020-08-13T00:00:00",
          "2020-08-20T00:00:00",
          "2020-08-27T00:00:00",
          "2020-09-03T00:00:00",
          "2020-09-10T00:00:00",
          "2020-09-17T00:00:00",
          "2020-09-24T00:00:00",
          "2020-10-01T00:00:00",
          "2020-10-08T00:00:00",
          "2020-10-15T00:00:00",
          "2020-10-22T00:00:00",
          "2020-10-29T00:00:00",
          "2020-11-05T00:00:00",
          "2020-11-12T00:00:00",
          "2020-11-19T00:00:00",
          "2020-11-26T00:00:00",
          "2020-12-03T00:00:00",
          "2020-12-10T00:00:00",
          "2020-12-17T00:00:00",
          "2020-12-24T00:00:00",
          "2020-12-31T00:00:00",
          "2021-01-07T00:00:00",
          "2021-01-14T00:00:00",
          "2021-01-21T00:00:00",
          "2021-01-28T00:00:00",
          "2021-02-04T00:00:00",
          "2021-02-11T00:00:00",
          "2021-02-18T00:00:00",
          "2021-02-25T00:00:00",
          "2021-03-04T00:00:00",
          "2021-03-11T00:00:00",
          "2021-03-18T00:00:00",
          "2021-03-25T00:00:00",
          "2021-04-01T00:00:00",
          "2021-04-08T00:00:00",
          "2021-04-15T00:00:00"
         ],
         "y": [
          -6,
          -3.5714285714285716,
          -25.571428571428573,
          -41,
          -43.57142857142857,
          -41.285714285714285,
          -45.42857142857143,
          -37.142857142857146,
          -41.142857142857146,
          -37.857142857142854,
          -26.285714285714285,
          -24.571428571428573,
          -33.714285714285715,
          -26.285714285714285,
          -18.428571428571427,
          -17,
          -15.571428571428571,
          -17.571428571428573,
          -18,
          -20.857142857142858,
          -26.285714285714285,
          -31.428571428571427,
          -35.857142857142854,
          -37.285714285714285,
          -30.857142857142858,
          -23.571428571428573,
          -19.428571428571427,
          -20.285714285714285,
          -17.857142857142858,
          -16.142857142857142,
          -15,
          -18,
          -17.428571428571427,
          -27.571428571428573,
          -24.857142857142858,
          -19.428571428571427,
          -20,
          -19.285714285714285,
          -17.714285714285715,
          -16.285714285714285,
          -16.142857142857142,
          -18.857142857142858,
          -33.285714285714285,
          -55.142857142857146,
          -41.857142857142854,
          -27,
          -28,
          -27.857142857142858,
          -27.142857142857142,
          -33,
          -30.714285714285715,
          -25.571428571428573,
          -21.285714285714285,
          -20.571428571428573,
          -20.428571428571427,
          -19,
          -19.285714285714285,
          -28.714285714285715,
          -18.857142857142858,
          -17.714285714285715
         ]
        },
        {
         "mode": "markers",
         "name": "peaks work trips",
         "type": "scatter",
         "x": [
          "2020-03-05T00:00:00",
          "2020-04-02T00:00:00",
          "2020-04-16T00:00:00",
          "2020-05-14T00:00:00",
          "2020-06-18T00:00:00",
          "2020-08-27T00:00:00",
          "2020-09-24T00:00:00",
          "2020-10-08T00:00:00",
          "2020-10-29T00:00:00",
          "2020-12-03T00:00:00",
          "2021-01-07T00:00:00",
          "2021-01-28T00:00:00",
          "2021-03-18T00:00:00"
         ],
         "y": [
          -3.5714285714285716,
          -41.285714285714285,
          -37.142857142857146,
          -24.571428571428573,
          -15.571428571428571,
          -19.428571428571427,
          -15,
          -17.428571428571427,
          -19.428571428571427,
          -16.142857142857142,
          -27,
          -27.142857142857142,
          -19
         ]
        },
        {
         "mode": "markers",
         "name": "valleys work trips",
         "type": "scatter",
         "x": [
          "2020-03-26T00:00:00",
          "2020-04-09T00:00:00",
          "2020-04-23T00:00:00",
          "2020-05-21T00:00:00",
          "2020-08-06T00:00:00",
          "2020-09-03T00:00:00",
          "2020-10-01T00:00:00",
          "2020-10-15T00:00:00",
          "2020-11-05T00:00:00",
          "2020-12-24T00:00:00",
          "2021-01-14T00:00:00",
          "2021-02-04T00:00:00",
          "2021-04-01T00:00:00"
         ],
         "y": [
          -43.57142857142857,
          -45.42857142857143,
          -41.142857142857146,
          -33.714285714285715,
          -37.285714285714285,
          -20.285714285714285,
          -18,
          -27.571428571428573,
          -20,
          -55.142857142857146,
          -28,
          -33,
          -28.714285714285715
         ]
        },
        {
         "name": "grocery and pharmacy trips",
         "type": "scatter",
         "x": [
          "2020-02-27T00:00:00",
          "2020-03-05T00:00:00",
          "2020-03-12T00:00:00",
          "2020-03-19T00:00:00",
          "2020-03-26T00:00:00",
          "2020-04-02T00:00:00",
          "2020-04-09T00:00:00",
          "2020-04-16T00:00:00",
          "2020-04-23T00:00:00",
          "2020-04-30T00:00:00",
          "2020-05-07T00:00:00",
          "2020-05-14T00:00:00",
          "2020-05-21T00:00:00",
          "2020-05-28T00:00:00",
          "2020-06-04T00:00:00",
          "2020-06-11T00:00:00",
          "2020-06-18T00:00:00",
          "2020-06-25T00:00:00",
          "2020-07-02T00:00:00",
          "2020-07-09T00:00:00",
          "2020-07-16T00:00:00",
          "2020-07-23T00:00:00",
          "2020-07-30T00:00:00",
          "2020-08-06T00:00:00",
          "2020-08-13T00:00:00",
          "2020-08-20T00:00:00",
          "2020-08-27T00:00:00",
          "2020-09-03T00:00:00",
          "2020-09-10T00:00:00",
          "2020-09-17T00:00:00",
          "2020-09-24T00:00:00",
          "2020-10-01T00:00:00",
          "2020-10-08T00:00:00",
          "2020-10-15T00:00:00",
          "2020-10-22T00:00:00",
          "2020-10-29T00:00:00",
          "2020-11-05T00:00:00",
          "2020-11-12T00:00:00",
          "2020-11-19T00:00:00",
          "2020-11-26T00:00:00",
          "2020-12-03T00:00:00",
          "2020-12-10T00:00:00",
          "2020-12-17T00:00:00",
          "2020-12-24T00:00:00",
          "2020-12-31T00:00:00",
          "2021-01-07T00:00:00",
          "2021-01-14T00:00:00",
          "2021-01-21T00:00:00",
          "2021-01-28T00:00:00",
          "2021-02-04T00:00:00",
          "2021-02-11T00:00:00",
          "2021-02-18T00:00:00",
          "2021-02-25T00:00:00",
          "2021-03-04T00:00:00",
          "2021-03-11T00:00:00",
          "2021-03-18T00:00:00",
          "2021-03-25T00:00:00",
          "2021-04-01T00:00:00",
          "2021-04-08T00:00:00",
          "2021-04-15T00:00:00"
         ],
         "y": [
          1,
          2.142857142857143,
          8.428571428571429,
          -8.857142857142858,
          -17.142857142857142,
          -12.285714285714286,
          -16.285714285714285,
          -10.285714285714286,
          -6,
          -7.285714285714286,
          -2.7142857142857144,
          0.14285714285714285,
          -2.7142857142857144,
          -0.14285714285714285,
          -2,
          -1.5714285714285714,
          2,
          -0.2857142857142857,
          -0.42857142857142855,
          -2,
          -2.7142857142857144,
          -4.285714285714286,
          -5.714285714285714,
          -8,
          -6.571428571428571,
          -2.857142857142857,
          -3.857142857142857,
          -5.857142857142857,
          -4.714285714285714,
          -5.285714285714286,
          -3,
          -5,
          -5.285714285714286,
          -5,
          -3.5714285714285716,
          -5.285714285714286,
          -3.857142857142857,
          -3.7142857142857144,
          -2,
          -1.5714285714285714,
          -4,
          -1.7142857142857142,
          3.857142857142857,
          -17.428571428571427,
          -16.714285714285715,
          -10,
          -13.142857142857142,
          -10.571428571428571,
          -12,
          -11.428571428571429,
          -5.857142857142857,
          -1.1428571428571428,
          0,
          -0.5714285714285714,
          -1.7142857142857142,
          1.1428571428571428,
          2.7142857142857144,
          -4.285714285714286,
          1.8571428571428572,
          4.714285714285714
         ]
        },
        {
         "mode": "markers",
         "name": "peaks grocery and pharmacy trips",
         "type": "scatter",
         "x": [
          "2020-03-12T00:00:00",
          "2020-04-02T00:00:00",
          "2020-04-23T00:00:00",
          "2020-05-14T00:00:00",
          "2020-05-28T00:00:00",
          "2020-06-18T00:00:00",
          "2020-08-20T00:00:00",
          "2020-09-10T00:00:00",
          "2020-09-24T00:00:00",
          "2020-10-22T00:00:00",
          "2020-11-26T00:00:00",
          "2020-12-17T00:00:00",
          "2021-01-07T00:00:00",
          "2021-01-21T00:00:00",
          "2021-02-25T00:00:00",
          "2021-03-25T00:00:00"
         ],
         "y": [
          8.428571428571429,
          -12.285714285714286,
          -6,
          0.14285714285714285,
          -0.14285714285714285,
          2,
          -2.857142857142857,
          -4.714285714285714,
          -3,
          -3.5714285714285716,
          -1.5714285714285714,
          3.857142857142857,
          -10,
          -10.571428571428571,
          0,
          2.7142857142857144
         ]
        },
        {
         "mode": "markers",
         "name": "valleys grocery and pharmacy trips",
         "type": "scatter",
         "x": [
          "2020-03-26T00:00:00",
          "2020-04-09T00:00:00",
          "2020-04-30T00:00:00",
          "2020-05-21T00:00:00",
          "2020-06-04T00:00:00",
          "2020-08-06T00:00:00",
          "2020-09-03T00:00:00",
          "2020-09-17T00:00:00",
          "2020-10-08T00:00:00",
          "2020-10-29T00:00:00",
          "2020-12-03T00:00:00",
          "2020-12-24T00:00:00",
          "2021-01-14T00:00:00",
          "2021-01-28T00:00:00",
          "2021-03-11T00:00:00",
          "2021-04-01T00:00:00"
         ],
         "y": [
          -17.142857142857142,
          -16.285714285714285,
          -7.285714285714286,
          -2.7142857142857144,
          -2,
          -8,
          -5.857142857142857,
          -5.285714285714286,
          -5.285714285714286,
          -5.285714285714286,
          -4,
          -17.428571428571427,
          -13.142857142857142,
          -12,
          -1.7142857142857142,
          -4.285714285714286
         ]
        }
       ],
       "layout": {
        "template": {
         "data": {
          "bar": [
           {
            "error_x": {
             "color": "#2a3f5f"
            },
            "error_y": {
             "color": "#2a3f5f"
            },
            "marker": {
             "line": {
              "color": "#E5ECF6",
              "width": 0.5
             },
             "pattern": {
              "fillmode": "overlay",
              "size": 10,
              "solidity": 0.2
             }
            },
            "type": "bar"
           }
          ],
          "barpolar": [
           {
            "marker": {
             "line": {
              "color": "#E5ECF6",
              "width": 0.5
             },
             "pattern": {
              "fillmode": "overlay",
              "size": 10,
              "solidity": 0.2
             }
            },
            "type": "barpolar"
           }
          ],
          "carpet": [
           {
            "aaxis": {
             "endlinecolor": "#2a3f5f",
             "gridcolor": "white",
             "linecolor": "white",
             "minorgridcolor": "white",
             "startlinecolor": "#2a3f5f"
            },
            "baxis": {
             "endlinecolor": "#2a3f5f",
             "gridcolor": "white",
             "linecolor": "white",
             "minorgridcolor": "white",
             "startlinecolor": "#2a3f5f"
            },
            "type": "carpet"
           }
          ],
          "choropleth": [
           {
            "colorbar": {
             "outlinewidth": 0,
             "ticks": ""
            },
            "type": "choropleth"
           }
          ],
          "contour": [
           {
            "colorbar": {
             "outlinewidth": 0,
             "ticks": ""
            },
            "colorscale": [
             [
              0,
              "#0d0887"
             ],
             [
              0.1111111111111111,
              "#46039f"
             ],
             [
              0.2222222222222222,
              "#7201a8"
             ],
             [
              0.3333333333333333,
              "#9c179e"
             ],
             [
              0.4444444444444444,
              "#bd3786"
             ],
             [
              0.5555555555555556,
              "#d8576b"
             ],
             [
              0.6666666666666666,
              "#ed7953"
             ],
             [
              0.7777777777777778,
              "#fb9f3a"
             ],
             [
              0.8888888888888888,
              "#fdca26"
             ],
             [
              1,
              "#f0f921"
             ]
            ],
            "type": "contour"
           }
          ],
          "contourcarpet": [
           {
            "colorbar": {
             "outlinewidth": 0,
             "ticks": ""
            },
            "type": "contourcarpet"
           }
          ],
          "heatmap": [
           {
            "colorbar": {
             "outlinewidth": 0,
             "ticks": ""
            },
            "colorscale": [
             [
              0,
              "#0d0887"
             ],
             [
              0.1111111111111111,
              "#46039f"
             ],
             [
              0.2222222222222222,
              "#7201a8"
             ],
             [
              0.3333333333333333,
              "#9c179e"
             ],
             [
              0.4444444444444444,
              "#bd3786"
             ],
             [
              0.5555555555555556,
              "#d8576b"
             ],
             [
              0.6666666666666666,
              "#ed7953"
             ],
             [
              0.7777777777777778,
              "#fb9f3a"
             ],
             [
              0.8888888888888888,
              "#fdca26"
             ],
             [
              1,
              "#f0f921"
             ]
            ],
            "type": "heatmap"
           }
          ],
          "heatmapgl": [
           {
            "colorbar": {
             "outlinewidth": 0,
             "ticks": ""
            },
            "colorscale": [
             [
              0,
              "#0d0887"
             ],
             [
              0.1111111111111111,
              "#46039f"
             ],
             [
              0.2222222222222222,
              "#7201a8"
             ],
             [
              0.3333333333333333,
              "#9c179e"
             ],
             [
              0.4444444444444444,
              "#bd3786"
             ],
             [
              0.5555555555555556,
              "#d8576b"
             ],
             [
              0.6666666666666666,
              "#ed7953"
             ],
             [
              0.7777777777777778,
              "#fb9f3a"
             ],
             [
              0.8888888888888888,
              "#fdca26"
             ],
             [
              1,
              "#f0f921"
             ]
            ],
            "type": "heatmapgl"
           }
          ],
          "histogram": [
           {
            "marker": {
             "pattern": {
              "fillmode": "overlay",
              "size": 10,
              "solidity": 0.2
             }
            },
            "type": "histogram"
           }
          ],
          "histogram2d": [
           {
            "colorbar": {
             "outlinewidth": 0,
             "ticks": ""
            },
            "colorscale": [
             [
              0,
              "#0d0887"
             ],
             [
              0.1111111111111111,
              "#46039f"
             ],
             [
              0.2222222222222222,
              "#7201a8"
             ],
             [
              0.3333333333333333,
              "#9c179e"
             ],
             [
              0.4444444444444444,
              "#bd3786"
             ],
             [
              0.5555555555555556,
              "#d8576b"
             ],
             [
              0.6666666666666666,
              "#ed7953"
             ],
             [
              0.7777777777777778,
              "#fb9f3a"
             ],
             [
              0.8888888888888888,
              "#fdca26"
             ],
             [
              1,
              "#f0f921"
             ]
            ],
            "type": "histogram2d"
           }
          ],
          "histogram2dcontour": [
           {
            "colorbar": {
             "outlinewidth": 0,
             "ticks": ""
            },
            "colorscale": [
             [
              0,
              "#0d0887"
             ],
             [
              0.1111111111111111,
              "#46039f"
             ],
             [
              0.2222222222222222,
              "#7201a8"
             ],
             [
              0.3333333333333333,
              "#9c179e"
             ],
             [
              0.4444444444444444,
              "#bd3786"
             ],
             [
              0.5555555555555556,
              "#d8576b"
             ],
             [
              0.6666666666666666,
              "#ed7953"
             ],
             [
              0.7777777777777778,
              "#fb9f3a"
             ],
             [
              0.8888888888888888,
              "#fdca26"
             ],
             [
              1,
              "#f0f921"
             ]
            ],
            "type": "histogram2dcontour"
           }
          ],
          "mesh3d": [
           {
            "colorbar": {
             "outlinewidth": 0,
             "ticks": ""
            },
            "type": "mesh3d"
           }
          ],
          "parcoords": [
           {
            "line": {
             "colorbar": {
              "outlinewidth": 0,
              "ticks": ""
             }
            },
            "type": "parcoords"
           }
          ],
          "pie": [
           {
            "automargin": true,
            "type": "pie"
           }
          ],
          "scatter": [
           {
            "marker": {
             "colorbar": {
              "outlinewidth": 0,
              "ticks": ""
             }
            },
            "type": "scatter"
           }
          ],
          "scatter3d": [
           {
            "line": {
             "colorbar": {
              "outlinewidth": 0,
              "ticks": ""
             }
            },
            "marker": {
             "colorbar": {
              "outlinewidth": 0,
              "ticks": ""
             }
            },
            "type": "scatter3d"
           }
          ],
          "scattercarpet": [
           {
            "marker": {
             "colorbar": {
              "outlinewidth": 0,
              "ticks": ""
             }
            },
            "type": "scattercarpet"
           }
          ],
          "scattergeo": [
           {
            "marker": {
             "colorbar": {
              "outlinewidth": 0,
              "ticks": ""
             }
            },
            "type": "scattergeo"
           }
          ],
          "scattergl": [
           {
            "marker": {
             "colorbar": {
              "outlinewidth": 0,
              "ticks": ""
             }
            },
            "type": "scattergl"
           }
          ],
          "scattermapbox": [
           {
            "marker": {
             "colorbar": {
              "outlinewidth": 0,
              "ticks": ""
             }
            },
            "type": "scattermapbox"
           }
          ],
          "scatterpolar": [
           {
            "marker": {
             "colorbar": {
              "outlinewidth": 0,
              "ticks": ""
             }
            },
            "type": "scatterpolar"
           }
          ],
          "scatterpolargl": [
           {
            "marker": {
             "colorbar": {
              "outlinewidth": 0,
              "ticks": ""
             }
            },
            "type": "scatterpolargl"
           }
          ],
          "scatterternary": [
           {
            "marker": {
             "colorbar": {
              "outlinewidth": 0,
              "ticks": ""
             }
            },
            "type": "scatterternary"
           }
          ],
          "surface": [
           {
            "colorbar": {
             "outlinewidth": 0,
             "ticks": ""
            },
            "colorscale": [
             [
              0,
              "#0d0887"
             ],
             [
              0.1111111111111111,
              "#46039f"
             ],
             [
              0.2222222222222222,
              "#7201a8"
             ],
             [
              0.3333333333333333,
              "#9c179e"
             ],
             [
              0.4444444444444444,
              "#bd3786"
             ],
             [
              0.5555555555555556,
              "#d8576b"
             ],
             [
              0.6666666666666666,
              "#ed7953"
             ],
             [
              0.7777777777777778,
              "#fb9f3a"
             ],
             [
              0.8888888888888888,
              "#fdca26"
             ],
             [
              1,
              "#f0f921"
             ]
            ],
            "type": "surface"
           }
          ],
          "table": [
           {
            "cells": {
             "fill": {
              "color": "#EBF0F8"
             },
             "line": {
              "color": "white"
             }
            },
            "header": {
             "fill": {
              "color": "#C8D4E3"
             },
             "line": {
              "color": "white"
             }
            },
            "type": "table"
           }
          ]
         },
         "layout": {
          "annotationdefaults": {
           "arrowcolor": "#2a3f5f",
           "arrowhead": 0,
           "arrowwidth": 1
          },
          "autotypenumbers": "strict",
          "coloraxis": {
           "colorbar": {
            "outlinewidth": 0,
            "ticks": ""
           }
          },
          "colorscale": {
           "diverging": [
            [
             0,
             "#8e0152"
            ],
            [
             0.1,
             "#c51b7d"
            ],
            [
             0.2,
             "#de77ae"
            ],
            [
             0.3,
             "#f1b6da"
            ],
            [
             0.4,
             "#fde0ef"
            ],
            [
             0.5,
             "#f7f7f7"
            ],
            [
             0.6,
             "#e6f5d0"
            ],
            [
             0.7,
             "#b8e186"
            ],
            [
             0.8,
             "#7fbc41"
            ],
            [
             0.9,
             "#4d9221"
            ],
            [
             1,
             "#276419"
            ]
           ],
           "sequential": [
            [
             0,
             "#0d0887"
            ],
            [
             0.1111111111111111,
             "#46039f"
            ],
            [
             0.2222222222222222,
             "#7201a8"
            ],
            [
             0.3333333333333333,
             "#9c179e"
            ],
            [
             0.4444444444444444,
             "#bd3786"
            ],
            [
             0.5555555555555556,
             "#d8576b"
            ],
            [
             0.6666666666666666,
             "#ed7953"
            ],
            [
             0.7777777777777778,
             "#fb9f3a"
            ],
            [
             0.8888888888888888,
             "#fdca26"
            ],
            [
             1,
             "#f0f921"
            ]
           ],
           "sequentialminus": [
            [
             0,
             "#0d0887"
            ],
            [
             0.1111111111111111,
             "#46039f"
            ],
            [
             0.2222222222222222,
             "#7201a8"
            ],
            [
             0.3333333333333333,
             "#9c179e"
            ],
            [
             0.4444444444444444,
             "#bd3786"
            ],
            [
             0.5555555555555556,
             "#d8576b"
            ],
            [
             0.6666666666666666,
             "#ed7953"
            ],
            [
             0.7777777777777778,
             "#fb9f3a"
            ],
            [
             0.8888888888888888,
             "#fdca26"
            ],
            [
             1,
             "#f0f921"
            ]
           ]
          },
          "colorway": [
           "#636efa",
           "#EF553B",
           "#00cc96",
           "#ab63fa",
           "#FFA15A",
           "#19d3f3",
           "#FF6692",
           "#B6E880",
           "#FF97FF",
           "#FECB52"
          ],
          "font": {
           "color": "#2a3f5f"
          },
          "geo": {
           "bgcolor": "white",
           "lakecolor": "white",
           "landcolor": "#E5ECF6",
           "showlakes": true,
           "showland": true,
           "subunitcolor": "white"
          },
          "hoverlabel": {
           "align": "left"
          },
          "hovermode": "closest",
          "mapbox": {
           "style": "light"
          },
          "paper_bgcolor": "white",
          "plot_bgcolor": "#E5ECF6",
          "polar": {
           "angularaxis": {
            "gridcolor": "white",
            "linecolor": "white",
            "ticks": ""
           },
           "bgcolor": "#E5ECF6",
           "radialaxis": {
            "gridcolor": "white",
            "linecolor": "white",
            "ticks": ""
           }
          },
          "scene": {
           "xaxis": {
            "backgroundcolor": "#E5ECF6",
            "gridcolor": "white",
            "gridwidth": 2,
            "linecolor": "white",
            "showbackground": true,
            "ticks": "",
            "zerolinecolor": "white"
           },
           "yaxis": {
            "backgroundcolor": "#E5ECF6",
            "gridcolor": "white",
            "gridwidth": 2,
            "linecolor": "white",
            "showbackground": true,
            "ticks": "",
            "zerolinecolor": "white"
           },
           "zaxis": {
            "backgroundcolor": "#E5ECF6",
            "gridcolor": "white",
            "gridwidth": 2,
            "linecolor": "white",
            "showbackground": true,
            "ticks": "",
            "zerolinecolor": "white"
           }
          },
          "shapedefaults": {
           "line": {
            "color": "#2a3f5f"
           }
          },
          "ternary": {
           "aaxis": {
            "gridcolor": "white",
            "linecolor": "white",
            "ticks": ""
           },
           "baxis": {
            "gridcolor": "white",
            "linecolor": "white",
            "ticks": ""
           },
           "bgcolor": "#E5ECF6",
           "caxis": {
            "gridcolor": "white",
            "linecolor": "white",
            "ticks": ""
           }
          },
          "title": {
           "x": 0.05
          },
          "xaxis": {
           "automargin": true,
           "gridcolor": "white",
           "linecolor": "white",
           "ticks": "",
           "title": {
            "standoff": 15
           },
           "zerolinecolor": "white",
           "zerolinewidth": 2
          },
          "yaxis": {
           "automargin": true,
           "gridcolor": "white",
           "linecolor": "white",
           "ticks": "",
           "title": {
            "standoff": 15
           },
           "zerolinecolor": "white",
           "zerolinewidth": 2
          }
         }
        },
        "title": {
         "text": "work trips and grocery and pharmacy trips during covid times in Noord-Brabant"
        }
       }
      }
     },
     "metadata": {},
     "output_type": "display_data"
    }
   ],
   "source": [
    "# Then I start the fig_1ure and create several dictionaries that are necessary. The peaks and valleys dictionaries are for the graphs and the date dictionaries are for the next steps\n",
    "fig_1 = go.Figure()\n",
    "peaks_dict_1 = {}\n",
    "valleys_dict_1 = {}\n",
    "peaks_date_dict_1 = {}\n",
    "valleys_date_dict_1 = {}\n",
    "\n",
    "# I create a dataframe that contains only the data for the selected province and reset the indices for it\n",
    "df_full_province_1 = (df_full.loc[df_full['province'] == province_1])\n",
    "df_full_province_1.reset_index(inplace=True)\n",
    "\n",
    "# I find the peaks and valleys and add them to the dictionaries\n",
    "for activity in activities_1:\n",
    "    max_ind = my_find_peaks(df_full_province_1, activity)\n",
    "    peaks_dict_1[activity]=max_ind\n",
    "\n",
    "    min_ind = my_find_valleys(df_full_province_1,activity)\n",
    "    valleys_dict_1[activity]=min_ind\n",
    "    \n",
    "    # Then I turn them into dataframes to be able to use the dates for the graphs, and for the date dictionaries\n",
    "    df_max_1 = df_full_province_1.iloc[max_ind]\n",
    "    df_min_1 = df_full_province_1.iloc[min_ind]\n",
    "\n",
    "    # The date dictionaries are filled with the dates of the peaks and the valleys\n",
    "    peaks_date_dict_1[activity] = df_max_1['date']\n",
    "    valleys_date_dict_1[activity] = df_min_1['date']\n",
    "    \n",
    "    # The graphs are formatted\n",
    "    x1 = df_full_province_1['date']\n",
    "    y1 = df_full_province_1[activity]\n",
    "    x2 = df_max_1['date']\n",
    "    y2 = df_max_1[activity]\n",
    "    x3 = df_min_1['date']\n",
    "    y3 = df_min_1[activity]\n",
    "    fig_1.add_trace(go.Scatter(x=x1,y=y1,name=activity))\n",
    "    fig_1.add_trace(go.Scatter(x=x2,y=y2,mode='markers',name='peaks ' + activity))\n",
    "    fig_1.add_trace(go.Scatter(x=x3,y=y3,mode='markers',name='valleys ' + activity))\n",
    "\n",
    "fig_1.update_layout(title= activity_1 + ' and ' + activity_2 + ' during covid times in ' + province_1)\n",
    "fig_1.show()"
   ]
  },
  {
   "cell_type": "code",
   "execution_count": 13,
   "metadata": {},
   "outputs": [
    {
     "name": "stdout",
     "output_type": "stream",
     "text": [
      "Peaks for work trips for which grocery and pharmacy trips has a peak in the same week in Noord-Brabant : ['2020-04-02', '2020-05-14', '2020-06-18', '2020-09-24', '2021-01-07']\n",
      "Peaks for work trips for which grocery and pharmacy trips has a peak within 1 week(s) prior in Noord-Brabant : ['2020-08-27', '2020-10-29', '2020-12-03', '2021-01-28']\n",
      "Peaks for work trips for which grocery and pharmacy trips has a peak within 1 week(s) after in Noord-Brabant : ['2020-03-05', '2020-04-16', '2021-03-18']\n"
     ]
    }
   ],
   "source": [
    "# Now I'm going to compare the two date dictionaries and see if there are any common peaks\n",
    "# The margin can be adapted by changing the number for the weeks_1 variable. The default is set to a margin of 1 week\n",
    "margin_1 = list(range(1,weeks_1+1))\n",
    "\n",
    "# A dictionary is made with the three lists for common peaks in the same week, peak B one week after peak A or peak B one week before peak A\n",
    "common_peaks_1 = {}\n",
    "common_peaks_1['in same week'] = []\n",
    "common_peaks_1['in margin_1 after'] = []\n",
    "common_peaks_1['in margin_1 before'] = []\n",
    "\n",
    "# Then all the peaks are for-looped to add them to the right lists\n",
    "for date1 in peaks_date_dict_1[activity_1]:\n",
    "    for date2 in peaks_date_dict_1[activity_2]:\n",
    "        for number in margin_1:\n",
    "            if date1.date() == date2.date():\n",
    "                common_peaks_1['in same week'].append(str(date1.date()))\n",
    "            if date1.date() + datetime.timedelta(weeks=number) == date2.date():\n",
    "                common_peaks_1['in margin_1 after'].append(str(date1.date()))\n",
    "            if date1.date() - datetime.timedelta(weeks=number) == date2.date():\n",
    "                common_peaks_1['in margin_1 before'].append(str(date1.date()))\n",
    "\n",
    "# And then they are printed\n",
    "print('Peaks for', activity_1, 'for which', activity_2, 'has a peak in the same week in', province_1, ':', common_peaks_1['in same week'])\n",
    "print('Peaks for', activity_1, 'for which', activity_2, 'has a peak within', weeks_1, 'week(s) prior in', province_1, ':', common_peaks_1['in margin_1 before'])\n",
    "print('Peaks for', activity_1, 'for which', activity_2, 'has a peak within', weeks_1, 'week(s) after in', province_1, ':', common_peaks_1['in margin_1 after'])"
   ]
  },
  {
   "cell_type": "code",
   "execution_count": 14,
   "metadata": {},
   "outputs": [
    {
     "name": "stdout",
     "output_type": "stream",
     "text": [
      "Valleys for work trips for which grocery and pharmacy trips has a valley in the same week in Noord-Brabant : ['2020-03-26', '2020-04-09', '2020-05-21', '2020-08-06', '2020-09-03', '2020-12-24', '2021-01-14', '2021-04-01']\n",
      "Valleys for work trips for which grocery and pharmacy trips has a valley within 1 week(s) prior in Noord-Brabant : ['2020-10-15', '2020-11-05', '2021-02-04']\n",
      "Valleys for work trips for which grocery and pharmacy trips has a valley within 1 week(s) after in Noord-Brabant : ['2020-04-23', '2020-10-01']\n"
     ]
    }
   ],
   "source": [
    "# Then I do the same for the valleys\n",
    "common_valleys_1 = {}\n",
    "common_valleys_1['in same week'] = []\n",
    "common_valleys_1['in margin_1 after'] = []\n",
    "common_valleys_1['in margin_1 before'] = []\n",
    "\n",
    "for date1 in valleys_date_dict_1[activity_1]:\n",
    "    for date2 in valleys_date_dict_1[activity_2]:\n",
    "        for number in margin_1:\n",
    "            if date1.date() == date2.date():\n",
    "                common_valleys_1['in same week'].append(str(date1.date()))\n",
    "            if date1.date() + datetime.timedelta(weeks=number) == date2.date():\n",
    "                common_valleys_1['in margin_1 after'].append(str(date1.date()))\n",
    "            if date1.date() - datetime.timedelta(weeks=number) == date2.date():\n",
    "                common_valleys_1['in margin_1 before'].append(str(date1.date()))\n",
    "\n",
    "print('Valleys for', activity_1, 'for which', activity_2, 'has a valley in the same week in', province_1, ':', common_valleys_1['in same week'])\n",
    "print('Valleys for', activity_1, 'for which', activity_2, 'has a valley within', weeks_1, 'week(s) prior in', province_1, ':', common_valleys_1['in margin_1 before'])\n",
    "print('Valleys for', activity_1, 'for which', activity_2, 'has a valley within', weeks_1, 'week(s) after in', province_1, ':', common_valleys_1['in margin_1 after'])"
   ]
  },
  {
   "cell_type": "code",
   "execution_count": 15,
   "metadata": {},
   "outputs": [
    {
     "data": {
      "application/vnd.plotly.v1+json": {
       "config": {
        "plotlyServerURL": "https://plot.ly"
       },
       "data": [
        {
         "name": "number of hospitalized patients",
         "type": "scatter",
         "x": [
          "2020-02-27T00:00:00",
          "2020-03-05T00:00:00",
          "2020-03-12T00:00:00",
          "2020-03-19T00:00:00",
          "2020-03-26T00:00:00",
          "2020-04-02T00:00:00",
          "2020-04-09T00:00:00",
          "2020-04-16T00:00:00",
          "2020-04-23T00:00:00",
          "2020-04-30T00:00:00",
          "2020-05-07T00:00:00",
          "2020-05-14T00:00:00",
          "2020-05-21T00:00:00",
          "2020-05-28T00:00:00",
          "2020-06-04T00:00:00",
          "2020-06-11T00:00:00",
          "2020-06-18T00:00:00",
          "2020-06-25T00:00:00",
          "2020-07-02T00:00:00",
          "2020-07-09T00:00:00",
          "2020-07-16T00:00:00",
          "2020-07-23T00:00:00",
          "2020-07-30T00:00:00",
          "2020-08-06T00:00:00",
          "2020-08-13T00:00:00",
          "2020-08-20T00:00:00",
          "2020-08-27T00:00:00",
          "2020-09-03T00:00:00",
          "2020-09-10T00:00:00",
          "2020-09-17T00:00:00",
          "2020-09-24T00:00:00",
          "2020-10-01T00:00:00",
          "2020-10-08T00:00:00",
          "2020-10-15T00:00:00",
          "2020-10-22T00:00:00",
          "2020-10-29T00:00:00",
          "2020-11-05T00:00:00",
          "2020-11-12T00:00:00",
          "2020-11-19T00:00:00",
          "2020-11-26T00:00:00",
          "2020-12-03T00:00:00",
          "2020-12-10T00:00:00",
          "2020-12-17T00:00:00",
          "2020-12-24T00:00:00",
          "2020-12-31T00:00:00",
          "2021-01-07T00:00:00",
          "2021-01-14T00:00:00",
          "2021-01-21T00:00:00",
          "2021-01-28T00:00:00",
          "2021-02-04T00:00:00",
          "2021-02-11T00:00:00",
          "2021-02-18T00:00:00",
          "2021-02-25T00:00:00",
          "2021-03-04T00:00:00",
          "2021-03-11T00:00:00",
          "2021-03-18T00:00:00",
          "2021-03-25T00:00:00",
          "2021-04-01T00:00:00",
          "2021-04-08T00:00:00",
          "2021-04-15T00:00:00"
         ],
         "y": [
          null,
          null,
          18.6,
          42.142857142857146,
          143,
          63.857142857142854,
          41.142857142857146,
          18.714285714285715,
          26,
          15.714285714285714,
          14.571428571428571,
          3.142857142857143,
          0.5714285714285714,
          0.8571428571428571,
          0.5714285714285714,
          1.2857142857142858,
          0.14285714285714285,
          0.42857142857142855,
          0,
          -0.14285714285714285,
          0,
          0.5714285714285714,
          0.8571428571428571,
          0.2857142857142857,
          0.8571428571428571,
          0.7142857142857143,
          0.5714285714285714,
          0.42857142857142855,
          0.2857142857142857,
          1.2857142857142858,
          3.5714285714285716,
          3.857142857142857,
          6.285714285714286,
          11.285714285714286,
          14,
          15.857142857142858,
          9.142857142857142,
          12,
          11,
          9.714285714285714,
          10.428571428571429,
          12.285714285714286,
          13.142857142857142,
          10.285714285714286,
          10.571428571428571,
          12.571428571428571,
          7.857142857142857,
          8.428571428571429,
          7.857142857142857,
          7.142857142857143,
          6.428571428571429,
          7.571428571428571,
          6.285714285714286,
          5.285714285714286,
          6.428571428571429,
          7.333333333333333,
          7.714285714285714,
          6.428571428571429,
          8,
          7.333333333333333
         ]
        },
        {
         "mode": "markers",
         "name": "peaks number of hospitalized patients",
         "type": "scatter",
         "x": [
          "2020-03-26T00:00:00",
          "2020-04-23T00:00:00",
          "2020-05-28T00:00:00",
          "2020-06-11T00:00:00",
          "2020-06-25T00:00:00",
          "2020-07-30T00:00:00",
          "2020-08-13T00:00:00",
          "2020-10-29T00:00:00",
          "2020-11-12T00:00:00",
          "2020-12-17T00:00:00",
          "2021-01-07T00:00:00",
          "2021-01-21T00:00:00",
          "2021-02-18T00:00:00",
          "2021-03-25T00:00:00",
          "2021-04-08T00:00:00"
         ],
         "y": [
          143,
          26,
          0.8571428571428571,
          1.2857142857142858,
          0.42857142857142855,
          0.8571428571428571,
          0.8571428571428571,
          15.857142857142858,
          12,
          13.142857142857142,
          12.571428571428571,
          8.428571428571429,
          7.571428571428571,
          7.714285714285714,
          8
         ]
        },
        {
         "mode": "markers",
         "name": "valleys number of hospitalized patients",
         "type": "scatter",
         "x": [
          "2020-04-16T00:00:00",
          "2020-05-21T00:00:00",
          "2020-06-04T00:00:00",
          "2020-06-18T00:00:00",
          "2020-07-09T00:00:00",
          "2020-08-06T00:00:00",
          "2020-09-10T00:00:00",
          "2020-11-05T00:00:00",
          "2020-11-26T00:00:00",
          "2020-12-24T00:00:00",
          "2021-01-14T00:00:00",
          "2021-02-11T00:00:00",
          "2021-03-04T00:00:00",
          "2021-04-01T00:00:00"
         ],
         "y": [
          18.714285714285715,
          0.5714285714285714,
          0.5714285714285714,
          0.14285714285714285,
          -0.14285714285714285,
          0.2857142857142857,
          0.2857142857142857,
          9.142857142857142,
          9.714285714285714,
          10.285714285714286,
          7.857142857142857,
          6.428571428571429,
          5.285714285714286,
          6.428571428571429
         ]
        },
        {
         "name": "number of casualties",
         "type": "scatter",
         "x": [
          "2020-02-27T00:00:00",
          "2020-03-05T00:00:00",
          "2020-03-12T00:00:00",
          "2020-03-19T00:00:00",
          "2020-03-26T00:00:00",
          "2020-04-02T00:00:00",
          "2020-04-09T00:00:00",
          "2020-04-16T00:00:00",
          "2020-04-23T00:00:00",
          "2020-04-30T00:00:00",
          "2020-05-07T00:00:00",
          "2020-05-14T00:00:00",
          "2020-05-21T00:00:00",
          "2020-05-28T00:00:00",
          "2020-06-04T00:00:00",
          "2020-06-11T00:00:00",
          "2020-06-18T00:00:00",
          "2020-06-25T00:00:00",
          "2020-07-02T00:00:00",
          "2020-07-09T00:00:00",
          "2020-07-16T00:00:00",
          "2020-07-23T00:00:00",
          "2020-07-30T00:00:00",
          "2020-08-06T00:00:00",
          "2020-08-13T00:00:00",
          "2020-08-20T00:00:00",
          "2020-08-27T00:00:00",
          "2020-09-03T00:00:00",
          "2020-09-10T00:00:00",
          "2020-09-17T00:00:00",
          "2020-09-24T00:00:00",
          "2020-10-01T00:00:00",
          "2020-10-08T00:00:00",
          "2020-10-15T00:00:00",
          "2020-10-22T00:00:00",
          "2020-10-29T00:00:00",
          "2020-11-05T00:00:00",
          "2020-11-12T00:00:00",
          "2020-11-19T00:00:00",
          "2020-11-26T00:00:00",
          "2020-12-03T00:00:00",
          "2020-12-10T00:00:00",
          "2020-12-17T00:00:00",
          "2020-12-24T00:00:00",
          "2020-12-31T00:00:00",
          "2021-01-07T00:00:00",
          "2021-01-14T00:00:00",
          "2021-01-21T00:00:00",
          "2021-01-28T00:00:00",
          "2021-02-04T00:00:00",
          "2021-02-11T00:00:00",
          "2021-02-18T00:00:00",
          "2021-02-25T00:00:00",
          "2021-03-04T00:00:00",
          "2021-03-11T00:00:00",
          "2021-03-18T00:00:00",
          "2021-03-25T00:00:00",
          "2021-04-01T00:00:00",
          "2021-04-08T00:00:00",
          "2021-04-15T00:00:00"
         ],
         "y": [
          null,
          null,
          6.4,
          19.428571428571427,
          43.714285714285715,
          43,
          29,
          34,
          16,
          10.428571428571429,
          9,
          2.7142857142857144,
          1.4285714285714286,
          1.8571428571428572,
          1.2857142857142858,
          1,
          0.5714285714285714,
          0.5714285714285714,
          0.2857142857142857,
          -0.2857142857142857,
          0,
          0.14285714285714285,
          0.2857142857142857,
          0.5714285714285714,
          0.5714285714285714,
          0.14285714285714285,
          0.42857142857142855,
          0.14285714285714285,
          0,
          0.42857142857142855,
          1.2857142857142858,
          1.5714285714285714,
          2.7142857142857144,
          4.714285714285714,
          6.857142857142857,
          13.571428571428571,
          14.142857142857142,
          12.428571428571429,
          7.285714285714286,
          8,
          6.857142857142857,
          12.857142857142858,
          13.571428571428571,
          10.571428571428571,
          9.857142857142858,
          12.285714285714286,
          8.714285714285714,
          7.714285714285714,
          7.285714285714286,
          8.571428571428571,
          9.142857142857142,
          7.142857142857143,
          4.428571428571429,
          4.142857142857143,
          4.428571428571429,
          3.6666666666666665,
          3,
          2,
          3.4285714285714284,
          1.6666666666666667
         ]
        },
        {
         "mode": "markers",
         "name": "peaks number of casualties",
         "type": "scatter",
         "x": [
          "2020-03-26T00:00:00",
          "2020-04-16T00:00:00",
          "2020-05-28T00:00:00",
          "2020-08-27T00:00:00",
          "2020-11-05T00:00:00",
          "2020-11-26T00:00:00",
          "2020-12-17T00:00:00",
          "2021-01-07T00:00:00",
          "2021-02-11T00:00:00",
          "2021-03-11T00:00:00",
          "2021-04-08T00:00:00"
         ],
         "y": [
          43.714285714285715,
          34,
          1.8571428571428572,
          0.42857142857142855,
          14.142857142857142,
          8,
          13.571428571428571,
          12.285714285714286,
          9.142857142857142,
          4.428571428571429,
          3.4285714285714284
         ]
        },
        {
         "mode": "markers",
         "name": "valleys number of casualties",
         "type": "scatter",
         "x": [
          "2020-04-09T00:00:00",
          "2020-05-21T00:00:00",
          "2020-07-09T00:00:00",
          "2020-08-20T00:00:00",
          "2020-09-10T00:00:00",
          "2020-11-19T00:00:00",
          "2020-12-03T00:00:00",
          "2020-12-31T00:00:00",
          "2021-01-28T00:00:00",
          "2021-03-04T00:00:00",
          "2021-04-01T00:00:00"
         ],
         "y": [
          29,
          1.4285714285714286,
          -0.2857142857142857,
          0.14285714285714285,
          0,
          7.285714285714286,
          6.857142857142857,
          9.857142857142858,
          7.285714285714286,
          4.142857142857143,
          2
         ]
        }
       ],
       "layout": {
        "template": {
         "data": {
          "bar": [
           {
            "error_x": {
             "color": "#2a3f5f"
            },
            "error_y": {
             "color": "#2a3f5f"
            },
            "marker": {
             "line": {
              "color": "#E5ECF6",
              "width": 0.5
             },
             "pattern": {
              "fillmode": "overlay",
              "size": 10,
              "solidity": 0.2
             }
            },
            "type": "bar"
           }
          ],
          "barpolar": [
           {
            "marker": {
             "line": {
              "color": "#E5ECF6",
              "width": 0.5
             },
             "pattern": {
              "fillmode": "overlay",
              "size": 10,
              "solidity": 0.2
             }
            },
            "type": "barpolar"
           }
          ],
          "carpet": [
           {
            "aaxis": {
             "endlinecolor": "#2a3f5f",
             "gridcolor": "white",
             "linecolor": "white",
             "minorgridcolor": "white",
             "startlinecolor": "#2a3f5f"
            },
            "baxis": {
             "endlinecolor": "#2a3f5f",
             "gridcolor": "white",
             "linecolor": "white",
             "minorgridcolor": "white",
             "startlinecolor": "#2a3f5f"
            },
            "type": "carpet"
           }
          ],
          "choropleth": [
           {
            "colorbar": {
             "outlinewidth": 0,
             "ticks": ""
            },
            "type": "choropleth"
           }
          ],
          "contour": [
           {
            "colorbar": {
             "outlinewidth": 0,
             "ticks": ""
            },
            "colorscale": [
             [
              0,
              "#0d0887"
             ],
             [
              0.1111111111111111,
              "#46039f"
             ],
             [
              0.2222222222222222,
              "#7201a8"
             ],
             [
              0.3333333333333333,
              "#9c179e"
             ],
             [
              0.4444444444444444,
              "#bd3786"
             ],
             [
              0.5555555555555556,
              "#d8576b"
             ],
             [
              0.6666666666666666,
              "#ed7953"
             ],
             [
              0.7777777777777778,
              "#fb9f3a"
             ],
             [
              0.8888888888888888,
              "#fdca26"
             ],
             [
              1,
              "#f0f921"
             ]
            ],
            "type": "contour"
           }
          ],
          "contourcarpet": [
           {
            "colorbar": {
             "outlinewidth": 0,
             "ticks": ""
            },
            "type": "contourcarpet"
           }
          ],
          "heatmap": [
           {
            "colorbar": {
             "outlinewidth": 0,
             "ticks": ""
            },
            "colorscale": [
             [
              0,
              "#0d0887"
             ],
             [
              0.1111111111111111,
              "#46039f"
             ],
             [
              0.2222222222222222,
              "#7201a8"
             ],
             [
              0.3333333333333333,
              "#9c179e"
             ],
             [
              0.4444444444444444,
              "#bd3786"
             ],
             [
              0.5555555555555556,
              "#d8576b"
             ],
             [
              0.6666666666666666,
              "#ed7953"
             ],
             [
              0.7777777777777778,
              "#fb9f3a"
             ],
             [
              0.8888888888888888,
              "#fdca26"
             ],
             [
              1,
              "#f0f921"
             ]
            ],
            "type": "heatmap"
           }
          ],
          "heatmapgl": [
           {
            "colorbar": {
             "outlinewidth": 0,
             "ticks": ""
            },
            "colorscale": [
             [
              0,
              "#0d0887"
             ],
             [
              0.1111111111111111,
              "#46039f"
             ],
             [
              0.2222222222222222,
              "#7201a8"
             ],
             [
              0.3333333333333333,
              "#9c179e"
             ],
             [
              0.4444444444444444,
              "#bd3786"
             ],
             [
              0.5555555555555556,
              "#d8576b"
             ],
             [
              0.6666666666666666,
              "#ed7953"
             ],
             [
              0.7777777777777778,
              "#fb9f3a"
             ],
             [
              0.8888888888888888,
              "#fdca26"
             ],
             [
              1,
              "#f0f921"
             ]
            ],
            "type": "heatmapgl"
           }
          ],
          "histogram": [
           {
            "marker": {
             "pattern": {
              "fillmode": "overlay",
              "size": 10,
              "solidity": 0.2
             }
            },
            "type": "histogram"
           }
          ],
          "histogram2d": [
           {
            "colorbar": {
             "outlinewidth": 0,
             "ticks": ""
            },
            "colorscale": [
             [
              0,
              "#0d0887"
             ],
             [
              0.1111111111111111,
              "#46039f"
             ],
             [
              0.2222222222222222,
              "#7201a8"
             ],
             [
              0.3333333333333333,
              "#9c179e"
             ],
             [
              0.4444444444444444,
              "#bd3786"
             ],
             [
              0.5555555555555556,
              "#d8576b"
             ],
             [
              0.6666666666666666,
              "#ed7953"
             ],
             [
              0.7777777777777778,
              "#fb9f3a"
             ],
             [
              0.8888888888888888,
              "#fdca26"
             ],
             [
              1,
              "#f0f921"
             ]
            ],
            "type": "histogram2d"
           }
          ],
          "histogram2dcontour": [
           {
            "colorbar": {
             "outlinewidth": 0,
             "ticks": ""
            },
            "colorscale": [
             [
              0,
              "#0d0887"
             ],
             [
              0.1111111111111111,
              "#46039f"
             ],
             [
              0.2222222222222222,
              "#7201a8"
             ],
             [
              0.3333333333333333,
              "#9c179e"
             ],
             [
              0.4444444444444444,
              "#bd3786"
             ],
             [
              0.5555555555555556,
              "#d8576b"
             ],
             [
              0.6666666666666666,
              "#ed7953"
             ],
             [
              0.7777777777777778,
              "#fb9f3a"
             ],
             [
              0.8888888888888888,
              "#fdca26"
             ],
             [
              1,
              "#f0f921"
             ]
            ],
            "type": "histogram2dcontour"
           }
          ],
          "mesh3d": [
           {
            "colorbar": {
             "outlinewidth": 0,
             "ticks": ""
            },
            "type": "mesh3d"
           }
          ],
          "parcoords": [
           {
            "line": {
             "colorbar": {
              "outlinewidth": 0,
              "ticks": ""
             }
            },
            "type": "parcoords"
           }
          ],
          "pie": [
           {
            "automargin": true,
            "type": "pie"
           }
          ],
          "scatter": [
           {
            "marker": {
             "colorbar": {
              "outlinewidth": 0,
              "ticks": ""
             }
            },
            "type": "scatter"
           }
          ],
          "scatter3d": [
           {
            "line": {
             "colorbar": {
              "outlinewidth": 0,
              "ticks": ""
             }
            },
            "marker": {
             "colorbar": {
              "outlinewidth": 0,
              "ticks": ""
             }
            },
            "type": "scatter3d"
           }
          ],
          "scattercarpet": [
           {
            "marker": {
             "colorbar": {
              "outlinewidth": 0,
              "ticks": ""
             }
            },
            "type": "scattercarpet"
           }
          ],
          "scattergeo": [
           {
            "marker": {
             "colorbar": {
              "outlinewidth": 0,
              "ticks": ""
             }
            },
            "type": "scattergeo"
           }
          ],
          "scattergl": [
           {
            "marker": {
             "colorbar": {
              "outlinewidth": 0,
              "ticks": ""
             }
            },
            "type": "scattergl"
           }
          ],
          "scattermapbox": [
           {
            "marker": {
             "colorbar": {
              "outlinewidth": 0,
              "ticks": ""
             }
            },
            "type": "scattermapbox"
           }
          ],
          "scatterpolar": [
           {
            "marker": {
             "colorbar": {
              "outlinewidth": 0,
              "ticks": ""
             }
            },
            "type": "scatterpolar"
           }
          ],
          "scatterpolargl": [
           {
            "marker": {
             "colorbar": {
              "outlinewidth": 0,
              "ticks": ""
             }
            },
            "type": "scatterpolargl"
           }
          ],
          "scatterternary": [
           {
            "marker": {
             "colorbar": {
              "outlinewidth": 0,
              "ticks": ""
             }
            },
            "type": "scatterternary"
           }
          ],
          "surface": [
           {
            "colorbar": {
             "outlinewidth": 0,
             "ticks": ""
            },
            "colorscale": [
             [
              0,
              "#0d0887"
             ],
             [
              0.1111111111111111,
              "#46039f"
             ],
             [
              0.2222222222222222,
              "#7201a8"
             ],
             [
              0.3333333333333333,
              "#9c179e"
             ],
             [
              0.4444444444444444,
              "#bd3786"
             ],
             [
              0.5555555555555556,
              "#d8576b"
             ],
             [
              0.6666666666666666,
              "#ed7953"
             ],
             [
              0.7777777777777778,
              "#fb9f3a"
             ],
             [
              0.8888888888888888,
              "#fdca26"
             ],
             [
              1,
              "#f0f921"
             ]
            ],
            "type": "surface"
           }
          ],
          "table": [
           {
            "cells": {
             "fill": {
              "color": "#EBF0F8"
             },
             "line": {
              "color": "white"
             }
            },
            "header": {
             "fill": {
              "color": "#C8D4E3"
             },
             "line": {
              "color": "white"
             }
            },
            "type": "table"
           }
          ]
         },
         "layout": {
          "annotationdefaults": {
           "arrowcolor": "#2a3f5f",
           "arrowhead": 0,
           "arrowwidth": 1
          },
          "autotypenumbers": "strict",
          "coloraxis": {
           "colorbar": {
            "outlinewidth": 0,
            "ticks": ""
           }
          },
          "colorscale": {
           "diverging": [
            [
             0,
             "#8e0152"
            ],
            [
             0.1,
             "#c51b7d"
            ],
            [
             0.2,
             "#de77ae"
            ],
            [
             0.3,
             "#f1b6da"
            ],
            [
             0.4,
             "#fde0ef"
            ],
            [
             0.5,
             "#f7f7f7"
            ],
            [
             0.6,
             "#e6f5d0"
            ],
            [
             0.7,
             "#b8e186"
            ],
            [
             0.8,
             "#7fbc41"
            ],
            [
             0.9,
             "#4d9221"
            ],
            [
             1,
             "#276419"
            ]
           ],
           "sequential": [
            [
             0,
             "#0d0887"
            ],
            [
             0.1111111111111111,
             "#46039f"
            ],
            [
             0.2222222222222222,
             "#7201a8"
            ],
            [
             0.3333333333333333,
             "#9c179e"
            ],
            [
             0.4444444444444444,
             "#bd3786"
            ],
            [
             0.5555555555555556,
             "#d8576b"
            ],
            [
             0.6666666666666666,
             "#ed7953"
            ],
            [
             0.7777777777777778,
             "#fb9f3a"
            ],
            [
             0.8888888888888888,
             "#fdca26"
            ],
            [
             1,
             "#f0f921"
            ]
           ],
           "sequentialminus": [
            [
             0,
             "#0d0887"
            ],
            [
             0.1111111111111111,
             "#46039f"
            ],
            [
             0.2222222222222222,
             "#7201a8"
            ],
            [
             0.3333333333333333,
             "#9c179e"
            ],
            [
             0.4444444444444444,
             "#bd3786"
            ],
            [
             0.5555555555555556,
             "#d8576b"
            ],
            [
             0.6666666666666666,
             "#ed7953"
            ],
            [
             0.7777777777777778,
             "#fb9f3a"
            ],
            [
             0.8888888888888888,
             "#fdca26"
            ],
            [
             1,
             "#f0f921"
            ]
           ]
          },
          "colorway": [
           "#636efa",
           "#EF553B",
           "#00cc96",
           "#ab63fa",
           "#FFA15A",
           "#19d3f3",
           "#FF6692",
           "#B6E880",
           "#FF97FF",
           "#FECB52"
          ],
          "font": {
           "color": "#2a3f5f"
          },
          "geo": {
           "bgcolor": "white",
           "lakecolor": "white",
           "landcolor": "#E5ECF6",
           "showlakes": true,
           "showland": true,
           "subunitcolor": "white"
          },
          "hoverlabel": {
           "align": "left"
          },
          "hovermode": "closest",
          "mapbox": {
           "style": "light"
          },
          "paper_bgcolor": "white",
          "plot_bgcolor": "#E5ECF6",
          "polar": {
           "angularaxis": {
            "gridcolor": "white",
            "linecolor": "white",
            "ticks": ""
           },
           "bgcolor": "#E5ECF6",
           "radialaxis": {
            "gridcolor": "white",
            "linecolor": "white",
            "ticks": ""
           }
          },
          "scene": {
           "xaxis": {
            "backgroundcolor": "#E5ECF6",
            "gridcolor": "white",
            "gridwidth": 2,
            "linecolor": "white",
            "showbackground": true,
            "ticks": "",
            "zerolinecolor": "white"
           },
           "yaxis": {
            "backgroundcolor": "#E5ECF6",
            "gridcolor": "white",
            "gridwidth": 2,
            "linecolor": "white",
            "showbackground": true,
            "ticks": "",
            "zerolinecolor": "white"
           },
           "zaxis": {
            "backgroundcolor": "#E5ECF6",
            "gridcolor": "white",
            "gridwidth": 2,
            "linecolor": "white",
            "showbackground": true,
            "ticks": "",
            "zerolinecolor": "white"
           }
          },
          "shapedefaults": {
           "line": {
            "color": "#2a3f5f"
           }
          },
          "ternary": {
           "aaxis": {
            "gridcolor": "white",
            "linecolor": "white",
            "ticks": ""
           },
           "baxis": {
            "gridcolor": "white",
            "linecolor": "white",
            "ticks": ""
           },
           "bgcolor": "#E5ECF6",
           "caxis": {
            "gridcolor": "white",
            "linecolor": "white",
            "ticks": ""
           }
          },
          "title": {
           "x": 0.05
          },
          "xaxis": {
           "automargin": true,
           "gridcolor": "white",
           "linecolor": "white",
           "ticks": "",
           "title": {
            "standoff": 15
           },
           "zerolinecolor": "white",
           "zerolinewidth": 2
          },
          "yaxis": {
           "automargin": true,
           "gridcolor": "white",
           "linecolor": "white",
           "ticks": "",
           "title": {
            "standoff": 15
           },
           "zerolinecolor": "white",
           "zerolinewidth": 2
          }
         }
        },
        "title": {
         "text": "number of hospitalized patients and number of casualties because of covid in Noord-Brabant"
        }
       }
      }
     },
     "metadata": {},
     "output_type": "display_data"
    }
   ],
   "source": [
    "# And then the same is done for the covid data\n",
    "fig_2 = go.Figure()\n",
    "peaks_dict_2 = {}\n",
    "valleys_dict_2 = {}\n",
    "peaks_date_dict_2 = {}\n",
    "valleys_date_dict_2 = {}\n",
    "df_full_province_2 = (df_full.loc[df_full['province'] == province_1])\n",
    "df_full_province_2.reset_index(inplace=True)\n",
    "\n",
    "for activity in activities_2:\n",
    "    max_ind = my_find_peaks(df_full_province_2, activity)\n",
    "    peaks_dict_2[activity]=max_ind\n",
    "\n",
    "    min_ind = my_find_valleys(df_full_province_2,activity)\n",
    "    valleys_dict_2[activity]=min_ind\n",
    "    \n",
    "    df_max_2 = df_full_province_2.iloc[max_ind]\n",
    "    df_min_2 = df_full_province_2.iloc[min_ind]\n",
    "    peaks_date_dict_2[activity] = df_max_2['date']\n",
    "    valleys_date_dict_2[activity] = df_min_2['date']\n",
    "    \n",
    "    x1 = df_full_province_2['date']\n",
    "    y1 = df_full_province_2[activity]\n",
    "    x2 = df_max_2['date']\n",
    "    y2 = df_max_2[activity]\n",
    "    x3 = df_min_2['date']\n",
    "    y3 = df_min_2[activity]\n",
    "    fig_2.add_trace(go.Scatter(x=x1,y=y1,name=activity))\n",
    "    fig_2.add_trace(go.Scatter(x=x2,y=y2,mode='markers',name='peaks ' + activity))\n",
    "    fig_2.add_trace(go.Scatter(x=x3,y=y3,mode='markers',name='valleys ' + activity))\n",
    "\n",
    "fig_2.update_layout(title=activity_3 + ' and ' + activity_4 + ' because of covid in ' + province_1)\n",
    "fig_2.show()"
   ]
  },
  {
   "cell_type": "code",
   "execution_count": 16,
   "metadata": {},
   "outputs": [
    {
     "name": "stdout",
     "output_type": "stream",
     "text": [
      "Peaks for number of hospitalized patients for which number of casualties has a peak in the same week in Zuid-Limburg : ['2020-03-26', '2020-05-28', '2020-12-17', '2021-01-07', '2021-04-08']\n",
      "Peaks for number of hospitalized patients for which number of casualties has a peak within 1 week(s) prior in Zuid-Limburg : ['2020-04-23', '2020-11-12', '2021-02-18']\n",
      "Peaks for number of hospitalized patients for which number of casualties has a peak within 1 week(s) after in Zuid-Limburg : ['2020-10-29']\n"
     ]
    }
   ],
   "source": [
    "# Same as for mobility data\n",
    "margin_2 = list(range(1,weeks_2+1))\n",
    "\n",
    "common_peaks_2 = {}\n",
    "common_peaks_2['in same week'] = []\n",
    "common_peaks_2['in margin_2 after'] = []\n",
    "common_peaks_2['in margin_2 before'] = []\n",
    "\n",
    "for date3 in peaks_date_dict_2[activity_3]:\n",
    "    for date4 in peaks_date_dict_2[activity_4]:\n",
    "        for number in margin_2:\n",
    "            if date3.date() == date4.date():\n",
    "                common_peaks_2['in same week'].append(str(date3.date()))\n",
    "            if date3.date() + datetime.timedelta(weeks=number) == date4.date():\n",
    "                common_peaks_2['in margin_2 after'].append(str(date3.date()))\n",
    "            if date3.date() - datetime.timedelta(weeks=number) == date4.date():\n",
    "                common_peaks_2['in margin_2 before'].append(str(date3.date()))\n",
    "\n",
    "print('Peaks for', activity_3, 'for which', activity_4, 'has a peak in the same week in', province, ':', common_peaks_2['in same week'])\n",
    "print('Peaks for', activity_3, 'for which', activity_4, 'has a peak within', weeks_2, 'week(s) prior in', province, ':', common_peaks_2['in margin_2 before'])\n",
    "print('Peaks for', activity_3, 'for which', activity_4, 'has a peak within', weeks_2, 'week(s) after in', province, ':', common_peaks_2['in margin_2 after'])"
   ]
  },
  {
   "cell_type": "code",
   "execution_count": 17,
   "metadata": {},
   "outputs": [
    {
     "name": "stdout",
     "output_type": "stream",
     "text": [
      "Valleys for number of hospitalized patients for which number of casualties has a peak in the same week in Zuid-Limburg : ['2020-05-21', '2020-07-09', '2020-09-10', '2021-03-04', '2021-04-01']\n",
      "Valleys for number of hospitalized patients for which number of casualties has a peak within 1 week(s) prior in Zuid-Limburg : ['2020-04-16', '2020-11-26']\n",
      "Valleys for number of hospitalized patients for which number of casualties has a peak within 1 week(s) after in Zuid-Limburg : ['2020-11-26', '2020-12-24']\n"
     ]
    }
   ],
   "source": [
    "# Same as for mobility data\n",
    "common_valleys_2 = {}\n",
    "common_valleys_2['in same week'] = []\n",
    "common_valleys_2['in margin_2 after'] = []\n",
    "common_valleys_2['in margin_2 before'] = []\n",
    "\n",
    "for date3 in valleys_date_dict_2[activity_3]:\n",
    "    for date4 in valleys_date_dict_2[activity_4]:\n",
    "        for number in margin_2:\n",
    "            if date3.date() == date4.date():\n",
    "                common_valleys_2['in same week'].append(str(date3.date()))\n",
    "            if date3.date() + datetime.timedelta(weeks=number) == date4.date():\n",
    "                common_valleys_2['in margin_2 after'].append(str(date3.date()))\n",
    "            if date3.date() - datetime.timedelta(weeks=number) == date4.date():\n",
    "                common_valleys_2['in margin_2 before'].append(str(date3.date()))\n",
    "\n",
    "print('Valleys for', activity_3, 'for which', activity_4, 'has a peak in the same week in', province, ':', common_valleys_2['in same week'])\n",
    "print('Valleys for', activity_3, 'for which', activity_4, 'has a peak within', weeks_2, 'week(s) prior in', province, ':', common_valleys_2['in margin_2 before'])\n",
    "print('Valleys for', activity_3, 'for which', activity_4, 'has a peak within', weeks_2, 'week(s) after in', province, ':', common_valleys_2['in margin_2 after'])"
   ]
  },
  {
   "cell_type": "markdown",
   "metadata": {},
   "source": [
    "Now I'm going to compare the mobility and the covid data\n",
    "\n",
    "- As the units (percentages and absolute numbers) are very different, I don't first show a plot.\n",
    "- As people tend to move less with higher cases/hospitalizations/casualties, I want to see common peaks for covid with valleys for mobility.\n",
    "- Therefore, the only relationships that are printed are the common peaks and the peaks for the hospitalizations for which the trips had a valley after that peak. \n",
    "\n",
    "The logic is the same as for the previous questions. "
   ]
  },
  {
   "cell_type": "code",
   "execution_count": 18,
   "metadata": {},
   "outputs": [
    {
     "name": "stdout",
     "output_type": "stream",
     "text": [
      "Peaks in number of hospitalized patients for which grocery and pharmacy trips has a valley in the same week in Zuid-Limburg : ['2020-03-26', '2020-10-29']\n",
      "Peaks in number of hospitalized patients for which grocery and pharmacy trips has a valley within 1 week(s) after in Zuid-Limburg : ['2020-04-23', '2020-05-28', '2020-07-30', '2020-12-17', '2021-01-07', '2021-01-21', '2021-03-25']\n"
     ]
    }
   ],
   "source": [
    "# The same as for the previous questions, but now with peaks for covid and valleys for mobility\n",
    "margin_3 = list(range(1,weeks_3+1))\n",
    "\n",
    "common_peaks_3 = {}\n",
    "common_peaks_3['in same week'] = []\n",
    "common_peaks_3['in margin_2 after'] = []\n",
    "\n",
    "for date3 in peaks_date_dict_2[activity_3]:\n",
    "    for date2 in valleys_date_dict_1[activity_2]:\n",
    "        for number in margin_3:\n",
    "            if date3.date() == date2.date():\n",
    "                common_peaks_3['in same week'].append(str(date3.date()))\n",
    "            if date3.date() + datetime.timedelta(weeks=number) == date2.date():\n",
    "                common_peaks_3['in margin_2 after'].append(str(date3.date()))\n",
    "\n",
    "print('Peaks in', activity_3, 'for which', activity_2, 'has a valley in the same week in', province, ':', common_peaks_3['in same week'])\n",
    "print('Peaks in', activity_3, 'for which', activity_2, 'has a valley within', weeks_3, 'week(s) after in', province, ':', common_peaks_3['in margin_2 after'])"
   ]
  },
  {
   "cell_type": "markdown",
   "metadata": {},
   "source": [
    "As can be seen, there are quite some peaks in hospitalizations that are followed by peaks in trips. It could therefore be stated that the covid numbers actually affected transport behaviour in Noord Brabant."
   ]
  },
  {
   "cell_type": "markdown",
   "metadata": {},
   "source": [
    "Although I don't think it'll add much, I will show plots of the two activities below, also to verify the found results As mentioned, they are not in the same plot because of the different units."
   ]
  },
  {
   "cell_type": "code",
   "execution_count": 19,
   "metadata": {},
   "outputs": [
    {
     "data": {
      "application/vnd.plotly.v1+json": {
       "config": {
        "plotlyServerURL": "https://plot.ly"
       },
       "data": [
        {
         "name": "number of hospitalized patients",
         "type": "scatter",
         "x": [
          "2020-02-27T00:00:00",
          "2020-03-05T00:00:00",
          "2020-03-12T00:00:00",
          "2020-03-19T00:00:00",
          "2020-03-26T00:00:00",
          "2020-04-02T00:00:00",
          "2020-04-09T00:00:00",
          "2020-04-16T00:00:00",
          "2020-04-23T00:00:00",
          "2020-04-30T00:00:00",
          "2020-05-07T00:00:00",
          "2020-05-14T00:00:00",
          "2020-05-21T00:00:00",
          "2020-05-28T00:00:00",
          "2020-06-04T00:00:00",
          "2020-06-11T00:00:00",
          "2020-06-18T00:00:00",
          "2020-06-25T00:00:00",
          "2020-07-02T00:00:00",
          "2020-07-09T00:00:00",
          "2020-07-16T00:00:00",
          "2020-07-23T00:00:00",
          "2020-07-30T00:00:00",
          "2020-08-06T00:00:00",
          "2020-08-13T00:00:00",
          "2020-08-20T00:00:00",
          "2020-08-27T00:00:00",
          "2020-09-03T00:00:00",
          "2020-09-10T00:00:00",
          "2020-09-17T00:00:00",
          "2020-09-24T00:00:00",
          "2020-10-01T00:00:00",
          "2020-10-08T00:00:00",
          "2020-10-15T00:00:00",
          "2020-10-22T00:00:00",
          "2020-10-29T00:00:00",
          "2020-11-05T00:00:00",
          "2020-11-12T00:00:00",
          "2020-11-19T00:00:00",
          "2020-11-26T00:00:00",
          "2020-12-03T00:00:00",
          "2020-12-10T00:00:00",
          "2020-12-17T00:00:00",
          "2020-12-24T00:00:00",
          "2020-12-31T00:00:00",
          "2021-01-07T00:00:00",
          "2021-01-14T00:00:00",
          "2021-01-21T00:00:00",
          "2021-01-28T00:00:00",
          "2021-02-04T00:00:00",
          "2021-02-11T00:00:00",
          "2021-02-18T00:00:00",
          "2021-02-25T00:00:00",
          "2021-03-04T00:00:00",
          "2021-03-11T00:00:00",
          "2021-03-18T00:00:00",
          "2021-03-25T00:00:00",
          "2021-04-01T00:00:00",
          "2021-04-08T00:00:00",
          "2021-04-15T00:00:00"
         ],
         "xaxis": "x",
         "y": [
          null,
          null,
          18.6,
          42.142857142857146,
          143,
          63.857142857142854,
          41.142857142857146,
          18.714285714285715,
          26,
          15.714285714285714,
          14.571428571428571,
          3.142857142857143,
          0.5714285714285714,
          0.8571428571428571,
          0.5714285714285714,
          1.2857142857142858,
          0.14285714285714285,
          0.42857142857142855,
          0,
          -0.14285714285714285,
          0,
          0.5714285714285714,
          0.8571428571428571,
          0.2857142857142857,
          0.8571428571428571,
          0.7142857142857143,
          0.5714285714285714,
          0.42857142857142855,
          0.2857142857142857,
          1.2857142857142858,
          3.5714285714285716,
          3.857142857142857,
          6.285714285714286,
          11.285714285714286,
          14,
          15.857142857142858,
          9.142857142857142,
          12,
          11,
          9.714285714285714,
          10.428571428571429,
          12.285714285714286,
          13.142857142857142,
          10.285714285714286,
          10.571428571428571,
          12.571428571428571,
          7.857142857142857,
          8.428571428571429,
          7.857142857142857,
          7.142857142857143,
          6.428571428571429,
          7.571428571428571,
          6.285714285714286,
          5.285714285714286,
          6.428571428571429,
          7.333333333333333,
          7.714285714285714,
          6.428571428571429,
          8,
          7.333333333333333
         ],
         "yaxis": "y"
        },
        {
         "mode": "markers",
         "name": "peaks number of hospitalized patients",
         "type": "scatter",
         "x": [
          "2020-03-26T00:00:00",
          "2020-04-16T00:00:00",
          "2020-05-28T00:00:00",
          "2020-08-27T00:00:00",
          "2020-11-05T00:00:00",
          "2020-11-26T00:00:00",
          "2020-12-17T00:00:00",
          "2021-01-07T00:00:00",
          "2021-02-11T00:00:00",
          "2021-03-11T00:00:00",
          "2021-04-08T00:00:00"
         ],
         "xaxis": "x",
         "y": [
          143,
          18.714285714285715,
          0.8571428571428571,
          0.5714285714285714,
          9.142857142857142,
          9.714285714285714,
          13.142857142857142,
          12.571428571428571,
          6.428571428571429,
          6.428571428571429,
          8
         ],
         "yaxis": "y"
        },
        {
         "name": "grocery and pharmacy trips",
         "type": "scatter",
         "x": [
          "2020-02-27T00:00:00",
          "2020-03-05T00:00:00",
          "2020-03-12T00:00:00",
          "2020-03-19T00:00:00",
          "2020-03-26T00:00:00",
          "2020-04-02T00:00:00",
          "2020-04-09T00:00:00",
          "2020-04-16T00:00:00",
          "2020-04-23T00:00:00",
          "2020-04-30T00:00:00",
          "2020-05-07T00:00:00",
          "2020-05-14T00:00:00",
          "2020-05-21T00:00:00",
          "2020-05-28T00:00:00",
          "2020-06-04T00:00:00",
          "2020-06-11T00:00:00",
          "2020-06-18T00:00:00",
          "2020-06-25T00:00:00",
          "2020-07-02T00:00:00",
          "2020-07-09T00:00:00",
          "2020-07-16T00:00:00",
          "2020-07-23T00:00:00",
          "2020-07-30T00:00:00",
          "2020-08-06T00:00:00",
          "2020-08-13T00:00:00",
          "2020-08-20T00:00:00",
          "2020-08-27T00:00:00",
          "2020-09-03T00:00:00",
          "2020-09-10T00:00:00",
          "2020-09-17T00:00:00",
          "2020-09-24T00:00:00",
          "2020-10-01T00:00:00",
          "2020-10-08T00:00:00",
          "2020-10-15T00:00:00",
          "2020-10-22T00:00:00",
          "2020-10-29T00:00:00",
          "2020-11-05T00:00:00",
          "2020-11-12T00:00:00",
          "2020-11-19T00:00:00",
          "2020-11-26T00:00:00",
          "2020-12-03T00:00:00",
          "2020-12-10T00:00:00",
          "2020-12-17T00:00:00",
          "2020-12-24T00:00:00",
          "2020-12-31T00:00:00",
          "2021-01-07T00:00:00",
          "2021-01-14T00:00:00",
          "2021-01-21T00:00:00",
          "2021-01-28T00:00:00",
          "2021-02-04T00:00:00",
          "2021-02-11T00:00:00",
          "2021-02-18T00:00:00",
          "2021-02-25T00:00:00",
          "2021-03-04T00:00:00",
          "2021-03-11T00:00:00",
          "2021-03-18T00:00:00",
          "2021-03-25T00:00:00",
          "2021-04-01T00:00:00",
          "2021-04-08T00:00:00",
          "2021-04-15T00:00:00"
         ],
         "xaxis": "x2",
         "y": [
          1,
          2.142857142857143,
          8.428571428571429,
          -8.857142857142858,
          -17.142857142857142,
          -12.285714285714286,
          -16.285714285714285,
          -10.285714285714286,
          -6,
          -7.285714285714286,
          -2.7142857142857144,
          0.14285714285714285,
          -2.7142857142857144,
          -0.14285714285714285,
          -2,
          -1.5714285714285714,
          2,
          -0.2857142857142857,
          -0.42857142857142855,
          -2,
          -2.7142857142857144,
          -4.285714285714286,
          -5.714285714285714,
          -8,
          -6.571428571428571,
          -2.857142857142857,
          -3.857142857142857,
          -5.857142857142857,
          -4.714285714285714,
          -5.285714285714286,
          -3,
          -5,
          -5.285714285714286,
          -5,
          -3.5714285714285716,
          -5.285714285714286,
          -3.857142857142857,
          -3.7142857142857144,
          -2,
          -1.5714285714285714,
          -4,
          -1.7142857142857142,
          3.857142857142857,
          -17.428571428571427,
          -16.714285714285715,
          -10,
          -13.142857142857142,
          -10.571428571428571,
          -12,
          -11.428571428571429,
          -5.857142857142857,
          -1.1428571428571428,
          0,
          -0.5714285714285714,
          -1.7142857142857142,
          1.1428571428571428,
          2.7142857142857144,
          -4.285714285714286,
          1.8571428571428572,
          4.714285714285714
         ],
         "yaxis": "y2"
        },
        {
         "mode": "markers",
         "name": "valleys grocery and pharmacy trips",
         "type": "scatter",
         "x": [
          "2020-03-26T00:00:00",
          "2020-04-09T00:00:00",
          "2020-04-30T00:00:00",
          "2020-05-21T00:00:00",
          "2020-06-04T00:00:00",
          "2020-08-06T00:00:00",
          "2020-09-03T00:00:00",
          "2020-09-17T00:00:00",
          "2020-10-08T00:00:00",
          "2020-10-29T00:00:00",
          "2020-12-03T00:00:00",
          "2020-12-24T00:00:00",
          "2021-01-14T00:00:00",
          "2021-01-28T00:00:00",
          "2021-03-11T00:00:00",
          "2021-04-01T00:00:00"
         ],
         "xaxis": "x2",
         "y": [
          -17.142857142857142,
          -16.285714285714285,
          -7.285714285714286,
          -2.7142857142857144,
          -2,
          -8,
          -5.857142857142857,
          -5.285714285714286,
          -5.285714285714286,
          -5.285714285714286,
          -4,
          -17.428571428571427,
          -13.142857142857142,
          -12,
          -1.7142857142857142,
          -4.285714285714286
         ],
         "yaxis": "y2"
        }
       ],
       "layout": {
        "template": {
         "data": {
          "bar": [
           {
            "error_x": {
             "color": "#2a3f5f"
            },
            "error_y": {
             "color": "#2a3f5f"
            },
            "marker": {
             "line": {
              "color": "#E5ECF6",
              "width": 0.5
             },
             "pattern": {
              "fillmode": "overlay",
              "size": 10,
              "solidity": 0.2
             }
            },
            "type": "bar"
           }
          ],
          "barpolar": [
           {
            "marker": {
             "line": {
              "color": "#E5ECF6",
              "width": 0.5
             },
             "pattern": {
              "fillmode": "overlay",
              "size": 10,
              "solidity": 0.2
             }
            },
            "type": "barpolar"
           }
          ],
          "carpet": [
           {
            "aaxis": {
             "endlinecolor": "#2a3f5f",
             "gridcolor": "white",
             "linecolor": "white",
             "minorgridcolor": "white",
             "startlinecolor": "#2a3f5f"
            },
            "baxis": {
             "endlinecolor": "#2a3f5f",
             "gridcolor": "white",
             "linecolor": "white",
             "minorgridcolor": "white",
             "startlinecolor": "#2a3f5f"
            },
            "type": "carpet"
           }
          ],
          "choropleth": [
           {
            "colorbar": {
             "outlinewidth": 0,
             "ticks": ""
            },
            "type": "choropleth"
           }
          ],
          "contour": [
           {
            "colorbar": {
             "outlinewidth": 0,
             "ticks": ""
            },
            "colorscale": [
             [
              0,
              "#0d0887"
             ],
             [
              0.1111111111111111,
              "#46039f"
             ],
             [
              0.2222222222222222,
              "#7201a8"
             ],
             [
              0.3333333333333333,
              "#9c179e"
             ],
             [
              0.4444444444444444,
              "#bd3786"
             ],
             [
              0.5555555555555556,
              "#d8576b"
             ],
             [
              0.6666666666666666,
              "#ed7953"
             ],
             [
              0.7777777777777778,
              "#fb9f3a"
             ],
             [
              0.8888888888888888,
              "#fdca26"
             ],
             [
              1,
              "#f0f921"
             ]
            ],
            "type": "contour"
           }
          ],
          "contourcarpet": [
           {
            "colorbar": {
             "outlinewidth": 0,
             "ticks": ""
            },
            "type": "contourcarpet"
           }
          ],
          "heatmap": [
           {
            "colorbar": {
             "outlinewidth": 0,
             "ticks": ""
            },
            "colorscale": [
             [
              0,
              "#0d0887"
             ],
             [
              0.1111111111111111,
              "#46039f"
             ],
             [
              0.2222222222222222,
              "#7201a8"
             ],
             [
              0.3333333333333333,
              "#9c179e"
             ],
             [
              0.4444444444444444,
              "#bd3786"
             ],
             [
              0.5555555555555556,
              "#d8576b"
             ],
             [
              0.6666666666666666,
              "#ed7953"
             ],
             [
              0.7777777777777778,
              "#fb9f3a"
             ],
             [
              0.8888888888888888,
              "#fdca26"
             ],
             [
              1,
              "#f0f921"
             ]
            ],
            "type": "heatmap"
           }
          ],
          "heatmapgl": [
           {
            "colorbar": {
             "outlinewidth": 0,
             "ticks": ""
            },
            "colorscale": [
             [
              0,
              "#0d0887"
             ],
             [
              0.1111111111111111,
              "#46039f"
             ],
             [
              0.2222222222222222,
              "#7201a8"
             ],
             [
              0.3333333333333333,
              "#9c179e"
             ],
             [
              0.4444444444444444,
              "#bd3786"
             ],
             [
              0.5555555555555556,
              "#d8576b"
             ],
             [
              0.6666666666666666,
              "#ed7953"
             ],
             [
              0.7777777777777778,
              "#fb9f3a"
             ],
             [
              0.8888888888888888,
              "#fdca26"
             ],
             [
              1,
              "#f0f921"
             ]
            ],
            "type": "heatmapgl"
           }
          ],
          "histogram": [
           {
            "marker": {
             "pattern": {
              "fillmode": "overlay",
              "size": 10,
              "solidity": 0.2
             }
            },
            "type": "histogram"
           }
          ],
          "histogram2d": [
           {
            "colorbar": {
             "outlinewidth": 0,
             "ticks": ""
            },
            "colorscale": [
             [
              0,
              "#0d0887"
             ],
             [
              0.1111111111111111,
              "#46039f"
             ],
             [
              0.2222222222222222,
              "#7201a8"
             ],
             [
              0.3333333333333333,
              "#9c179e"
             ],
             [
              0.4444444444444444,
              "#bd3786"
             ],
             [
              0.5555555555555556,
              "#d8576b"
             ],
             [
              0.6666666666666666,
              "#ed7953"
             ],
             [
              0.7777777777777778,
              "#fb9f3a"
             ],
             [
              0.8888888888888888,
              "#fdca26"
             ],
             [
              1,
              "#f0f921"
             ]
            ],
            "type": "histogram2d"
           }
          ],
          "histogram2dcontour": [
           {
            "colorbar": {
             "outlinewidth": 0,
             "ticks": ""
            },
            "colorscale": [
             [
              0,
              "#0d0887"
             ],
             [
              0.1111111111111111,
              "#46039f"
             ],
             [
              0.2222222222222222,
              "#7201a8"
             ],
             [
              0.3333333333333333,
              "#9c179e"
             ],
             [
              0.4444444444444444,
              "#bd3786"
             ],
             [
              0.5555555555555556,
              "#d8576b"
             ],
             [
              0.6666666666666666,
              "#ed7953"
             ],
             [
              0.7777777777777778,
              "#fb9f3a"
             ],
             [
              0.8888888888888888,
              "#fdca26"
             ],
             [
              1,
              "#f0f921"
             ]
            ],
            "type": "histogram2dcontour"
           }
          ],
          "mesh3d": [
           {
            "colorbar": {
             "outlinewidth": 0,
             "ticks": ""
            },
            "type": "mesh3d"
           }
          ],
          "parcoords": [
           {
            "line": {
             "colorbar": {
              "outlinewidth": 0,
              "ticks": ""
             }
            },
            "type": "parcoords"
           }
          ],
          "pie": [
           {
            "automargin": true,
            "type": "pie"
           }
          ],
          "scatter": [
           {
            "marker": {
             "colorbar": {
              "outlinewidth": 0,
              "ticks": ""
             }
            },
            "type": "scatter"
           }
          ],
          "scatter3d": [
           {
            "line": {
             "colorbar": {
              "outlinewidth": 0,
              "ticks": ""
             }
            },
            "marker": {
             "colorbar": {
              "outlinewidth": 0,
              "ticks": ""
             }
            },
            "type": "scatter3d"
           }
          ],
          "scattercarpet": [
           {
            "marker": {
             "colorbar": {
              "outlinewidth": 0,
              "ticks": ""
             }
            },
            "type": "scattercarpet"
           }
          ],
          "scattergeo": [
           {
            "marker": {
             "colorbar": {
              "outlinewidth": 0,
              "ticks": ""
             }
            },
            "type": "scattergeo"
           }
          ],
          "scattergl": [
           {
            "marker": {
             "colorbar": {
              "outlinewidth": 0,
              "ticks": ""
             }
            },
            "type": "scattergl"
           }
          ],
          "scattermapbox": [
           {
            "marker": {
             "colorbar": {
              "outlinewidth": 0,
              "ticks": ""
             }
            },
            "type": "scattermapbox"
           }
          ],
          "scatterpolar": [
           {
            "marker": {
             "colorbar": {
              "outlinewidth": 0,
              "ticks": ""
             }
            },
            "type": "scatterpolar"
           }
          ],
          "scatterpolargl": [
           {
            "marker": {
             "colorbar": {
              "outlinewidth": 0,
              "ticks": ""
             }
            },
            "type": "scatterpolargl"
           }
          ],
          "scatterternary": [
           {
            "marker": {
             "colorbar": {
              "outlinewidth": 0,
              "ticks": ""
             }
            },
            "type": "scatterternary"
           }
          ],
          "surface": [
           {
            "colorbar": {
             "outlinewidth": 0,
             "ticks": ""
            },
            "colorscale": [
             [
              0,
              "#0d0887"
             ],
             [
              0.1111111111111111,
              "#46039f"
             ],
             [
              0.2222222222222222,
              "#7201a8"
             ],
             [
              0.3333333333333333,
              "#9c179e"
             ],
             [
              0.4444444444444444,
              "#bd3786"
             ],
             [
              0.5555555555555556,
              "#d8576b"
             ],
             [
              0.6666666666666666,
              "#ed7953"
             ],
             [
              0.7777777777777778,
              "#fb9f3a"
             ],
             [
              0.8888888888888888,
              "#fdca26"
             ],
             [
              1,
              "#f0f921"
             ]
            ],
            "type": "surface"
           }
          ],
          "table": [
           {
            "cells": {
             "fill": {
              "color": "#EBF0F8"
             },
             "line": {
              "color": "white"
             }
            },
            "header": {
             "fill": {
              "color": "#C8D4E3"
             },
             "line": {
              "color": "white"
             }
            },
            "type": "table"
           }
          ]
         },
         "layout": {
          "annotationdefaults": {
           "arrowcolor": "#2a3f5f",
           "arrowhead": 0,
           "arrowwidth": 1
          },
          "autotypenumbers": "strict",
          "coloraxis": {
           "colorbar": {
            "outlinewidth": 0,
            "ticks": ""
           }
          },
          "colorscale": {
           "diverging": [
            [
             0,
             "#8e0152"
            ],
            [
             0.1,
             "#c51b7d"
            ],
            [
             0.2,
             "#de77ae"
            ],
            [
             0.3,
             "#f1b6da"
            ],
            [
             0.4,
             "#fde0ef"
            ],
            [
             0.5,
             "#f7f7f7"
            ],
            [
             0.6,
             "#e6f5d0"
            ],
            [
             0.7,
             "#b8e186"
            ],
            [
             0.8,
             "#7fbc41"
            ],
            [
             0.9,
             "#4d9221"
            ],
            [
             1,
             "#276419"
            ]
           ],
           "sequential": [
            [
             0,
             "#0d0887"
            ],
            [
             0.1111111111111111,
             "#46039f"
            ],
            [
             0.2222222222222222,
             "#7201a8"
            ],
            [
             0.3333333333333333,
             "#9c179e"
            ],
            [
             0.4444444444444444,
             "#bd3786"
            ],
            [
             0.5555555555555556,
             "#d8576b"
            ],
            [
             0.6666666666666666,
             "#ed7953"
            ],
            [
             0.7777777777777778,
             "#fb9f3a"
            ],
            [
             0.8888888888888888,
             "#fdca26"
            ],
            [
             1,
             "#f0f921"
            ]
           ],
           "sequentialminus": [
            [
             0,
             "#0d0887"
            ],
            [
             0.1111111111111111,
             "#46039f"
            ],
            [
             0.2222222222222222,
             "#7201a8"
            ],
            [
             0.3333333333333333,
             "#9c179e"
            ],
            [
             0.4444444444444444,
             "#bd3786"
            ],
            [
             0.5555555555555556,
             "#d8576b"
            ],
            [
             0.6666666666666666,
             "#ed7953"
            ],
            [
             0.7777777777777778,
             "#fb9f3a"
            ],
            [
             0.8888888888888888,
             "#fdca26"
            ],
            [
             1,
             "#f0f921"
            ]
           ]
          },
          "colorway": [
           "#636efa",
           "#EF553B",
           "#00cc96",
           "#ab63fa",
           "#FFA15A",
           "#19d3f3",
           "#FF6692",
           "#B6E880",
           "#FF97FF",
           "#FECB52"
          ],
          "font": {
           "color": "#2a3f5f"
          },
          "geo": {
           "bgcolor": "white",
           "lakecolor": "white",
           "landcolor": "#E5ECF6",
           "showlakes": true,
           "showland": true,
           "subunitcolor": "white"
          },
          "hoverlabel": {
           "align": "left"
          },
          "hovermode": "closest",
          "mapbox": {
           "style": "light"
          },
          "paper_bgcolor": "white",
          "plot_bgcolor": "#E5ECF6",
          "polar": {
           "angularaxis": {
            "gridcolor": "white",
            "linecolor": "white",
            "ticks": ""
           },
           "bgcolor": "#E5ECF6",
           "radialaxis": {
            "gridcolor": "white",
            "linecolor": "white",
            "ticks": ""
           }
          },
          "scene": {
           "xaxis": {
            "backgroundcolor": "#E5ECF6",
            "gridcolor": "white",
            "gridwidth": 2,
            "linecolor": "white",
            "showbackground": true,
            "ticks": "",
            "zerolinecolor": "white"
           },
           "yaxis": {
            "backgroundcolor": "#E5ECF6",
            "gridcolor": "white",
            "gridwidth": 2,
            "linecolor": "white",
            "showbackground": true,
            "ticks": "",
            "zerolinecolor": "white"
           },
           "zaxis": {
            "backgroundcolor": "#E5ECF6",
            "gridcolor": "white",
            "gridwidth": 2,
            "linecolor": "white",
            "showbackground": true,
            "ticks": "",
            "zerolinecolor": "white"
           }
          },
          "shapedefaults": {
           "line": {
            "color": "#2a3f5f"
           }
          },
          "ternary": {
           "aaxis": {
            "gridcolor": "white",
            "linecolor": "white",
            "ticks": ""
           },
           "baxis": {
            "gridcolor": "white",
            "linecolor": "white",
            "ticks": ""
           },
           "bgcolor": "#E5ECF6",
           "caxis": {
            "gridcolor": "white",
            "linecolor": "white",
            "ticks": ""
           }
          },
          "title": {
           "x": 0.05
          },
          "xaxis": {
           "automargin": true,
           "gridcolor": "white",
           "linecolor": "white",
           "ticks": "",
           "title": {
            "standoff": 15
           },
           "zerolinecolor": "white",
           "zerolinewidth": 2
          },
          "yaxis": {
           "automargin": true,
           "gridcolor": "white",
           "linecolor": "white",
           "ticks": "",
           "title": {
            "standoff": 15
           },
           "zerolinecolor": "white",
           "zerolinewidth": 2
          }
         }
        },
        "title": {
         "text": "Covid and mobility data in Noord-Brabant"
        },
        "xaxis": {
         "anchor": "y",
         "domain": [
          0,
          1
         ]
        },
        "xaxis2": {
         "anchor": "y2",
         "domain": [
          0,
          1
         ]
        },
        "yaxis": {
         "anchor": "x",
         "domain": [
          0.575,
          1
         ]
        },
        "yaxis2": {
         "anchor": "x2",
         "domain": [
          0,
          0.425
         ]
        }
       }
      }
     },
     "metadata": {},
     "output_type": "display_data"
    }
   ],
   "source": [
    "# Two different graphs as the units are different, but in a subplot\n",
    "fig_3 = make_subplots(rows=2,cols=1)\n",
    "\n",
    "x1 = df_full_province_2['date']\n",
    "y1 = df_full_province_2[activity_3]\n",
    "x2 = df_max_2['date']\n",
    "y2 = df_max_2[activity_3]\n",
    "x3 = df_full_province_1['date']\n",
    "y3 = df_full_province_1[activity_2]\n",
    "x4 = df_min_1['date']\n",
    "y4 = df_min_1[activity_2]\n",
    "\n",
    "fig_3.append_trace(go.Scatter(x=x1,y=y1,name=activity_3),row=1,col=1)\n",
    "fig_3.append_trace(go.Scatter(x=x2,y=y2,mode='markers',name='peaks ' + activity_3),row=1,col=1)\n",
    "fig_3.append_trace(go.Scatter(x=x3,y=y3,name=activity_2),row=2,col=1)\n",
    "fig_3.append_trace(go.Scatter(x=x4,y=y4,mode='markers',name='valleys ' + activity_2),row=2,col=1)\n",
    "\n",
    "fig_3.update_layout(title='Covid and mobility data in ' + province_1)\n",
    "\n",
    "fig_3.show()"
   ]
  },
  {
   "cell_type": "markdown",
   "metadata": {
    "heading_collapsed": true,
    "hidden": true
   },
   "source": [
    "## Part III - Data visualisation"
   ]
  },
  {
   "cell_type": "markdown",
   "metadata": {
    "hidden": true
   },
   "source": [
    "For this last part, I'm going to tell check my personal experience on the covid narrative around the province of Noord-Brabant, by:\n",
    "- Telling about my personal experiences on living in Eindhoven during the first covid wave in the second quarter of 2020\n",
    "- Showing covid data on Brabant \n",
    "- Telling about the covid narrative around Noord-Brabant during the first wave and how this impacted my perspective on how people dealt with covid in their regions\n",
    "- Comparing the number of cases in Noord-Brabant with the other provinces in a visual\n",
    "- Comparing Noord-Brabant specifically to two other provinces\n",
    "- Comparing how people reacted to covid in terms of mobility between these provinces\n",
    "- Interpreting the results"
   ]
  },
  {
   "cell_type": "markdown",
   "metadata": {},
   "source": [
    "First, I show my variables for this part. "
   ]
  },
  {
   "cell_type": "code",
   "execution_count": 20,
   "metadata": {},
   "outputs": [],
   "source": [
    "# Variables from previous part\n",
    "activity_1 = 'work trips'\n",
    "activity_2 = 'grocery and pharmacy trips'\n",
    "activity_3 = 'number of hospitalized patients'\n",
    "activity_4 = 'number of casualties'\n",
    "\n",
    "province_1 = 'Noord-Brabant'\n",
    "\n",
    "# New variable\n",
    "activity_5 = 'number of cases'\n",
    "activity_6 = 'retail and recreation trips'\n",
    "activities_story_1 = [activity_3, activity_4, activity_5]\n",
    "activities_story_2 = [activity_1, activity_2, activity_6]\n",
    "activities_story_3 = [activity_5, activity_2]\n",
    "\n",
    "province_2 = 'Noord-Holland'\n",
    "province_3 = 'Zuid-Holland'\n",
    "provinces_story = [province_1, province_2, province_3]\n",
    "\n",
    "weeks_4 = 2"
   ]
  },
  {
   "cell_type": "markdown",
   "metadata": {},
   "source": [
    "Then, I'm going to make a graph of the covid data of Noord-Brabant, just to explore the data and do some findings."
   ]
  },
  {
   "cell_type": "code",
   "execution_count": 21,
   "metadata": {},
   "outputs": [
    {
     "data": {
      "application/vnd.plotly.v1+json": {
       "config": {
        "plotlyServerURL": "https://plot.ly"
       },
       "data": [
        {
         "name": "number of hospitalized patients",
         "type": "scatter",
         "x": [
          "2020-02-27T00:00:00",
          "2020-03-05T00:00:00",
          "2020-03-12T00:00:00",
          "2020-03-19T00:00:00",
          "2020-03-26T00:00:00",
          "2020-04-02T00:00:00",
          "2020-04-09T00:00:00",
          "2020-04-16T00:00:00",
          "2020-04-23T00:00:00",
          "2020-04-30T00:00:00",
          "2020-05-07T00:00:00",
          "2020-05-14T00:00:00",
          "2020-05-21T00:00:00",
          "2020-05-28T00:00:00",
          "2020-06-04T00:00:00",
          "2020-06-11T00:00:00",
          "2020-06-18T00:00:00",
          "2020-06-25T00:00:00",
          "2020-07-02T00:00:00",
          "2020-07-09T00:00:00",
          "2020-07-16T00:00:00",
          "2020-07-23T00:00:00",
          "2020-07-30T00:00:00",
          "2020-08-06T00:00:00",
          "2020-08-13T00:00:00",
          "2020-08-20T00:00:00",
          "2020-08-27T00:00:00",
          "2020-09-03T00:00:00",
          "2020-09-10T00:00:00",
          "2020-09-17T00:00:00",
          "2020-09-24T00:00:00",
          "2020-10-01T00:00:00",
          "2020-10-08T00:00:00",
          "2020-10-15T00:00:00",
          "2020-10-22T00:00:00",
          "2020-10-29T00:00:00",
          "2020-11-05T00:00:00",
          "2020-11-12T00:00:00",
          "2020-11-19T00:00:00",
          "2020-11-26T00:00:00",
          "2020-12-03T00:00:00",
          "2020-12-10T00:00:00",
          "2020-12-17T00:00:00",
          "2020-12-24T00:00:00",
          "2020-12-31T00:00:00",
          "2021-01-07T00:00:00",
          "2021-01-14T00:00:00",
          "2021-01-21T00:00:00",
          "2021-01-28T00:00:00",
          "2021-02-04T00:00:00",
          "2021-02-11T00:00:00",
          "2021-02-18T00:00:00",
          "2021-02-25T00:00:00",
          "2021-03-04T00:00:00",
          "2021-03-11T00:00:00",
          "2021-03-18T00:00:00",
          "2021-03-25T00:00:00",
          "2021-04-01T00:00:00",
          "2021-04-08T00:00:00",
          "2021-04-15T00:00:00"
         ],
         "y": [
          null,
          null,
          18.6,
          42.142857142857146,
          143,
          63.857142857142854,
          41.142857142857146,
          18.714285714285715,
          26,
          15.714285714285714,
          14.571428571428571,
          3.142857142857143,
          0.5714285714285714,
          0.8571428571428571,
          0.5714285714285714,
          1.2857142857142858,
          0.14285714285714285,
          0.42857142857142855,
          0,
          -0.14285714285714285,
          0,
          0.5714285714285714,
          0.8571428571428571,
          0.2857142857142857,
          0.8571428571428571,
          0.7142857142857143,
          0.5714285714285714,
          0.42857142857142855,
          0.2857142857142857,
          1.2857142857142858,
          3.5714285714285716,
          3.857142857142857,
          6.285714285714286,
          11.285714285714286,
          14,
          15.857142857142858,
          9.142857142857142,
          12,
          11,
          9.714285714285714,
          10.428571428571429,
          12.285714285714286,
          13.142857142857142,
          10.285714285714286,
          10.571428571428571,
          12.571428571428571,
          7.857142857142857,
          8.428571428571429,
          7.857142857142857,
          7.142857142857143,
          6.428571428571429,
          7.571428571428571,
          6.285714285714286,
          5.285714285714286,
          6.428571428571429,
          7.333333333333333,
          7.714285714285714,
          6.428571428571429,
          8,
          7.333333333333333
         ]
        },
        {
         "name": "number of casualties",
         "type": "scatter",
         "x": [
          "2020-02-27T00:00:00",
          "2020-03-05T00:00:00",
          "2020-03-12T00:00:00",
          "2020-03-19T00:00:00",
          "2020-03-26T00:00:00",
          "2020-04-02T00:00:00",
          "2020-04-09T00:00:00",
          "2020-04-16T00:00:00",
          "2020-04-23T00:00:00",
          "2020-04-30T00:00:00",
          "2020-05-07T00:00:00",
          "2020-05-14T00:00:00",
          "2020-05-21T00:00:00",
          "2020-05-28T00:00:00",
          "2020-06-04T00:00:00",
          "2020-06-11T00:00:00",
          "2020-06-18T00:00:00",
          "2020-06-25T00:00:00",
          "2020-07-02T00:00:00",
          "2020-07-09T00:00:00",
          "2020-07-16T00:00:00",
          "2020-07-23T00:00:00",
          "2020-07-30T00:00:00",
          "2020-08-06T00:00:00",
          "2020-08-13T00:00:00",
          "2020-08-20T00:00:00",
          "2020-08-27T00:00:00",
          "2020-09-03T00:00:00",
          "2020-09-10T00:00:00",
          "2020-09-17T00:00:00",
          "2020-09-24T00:00:00",
          "2020-10-01T00:00:00",
          "2020-10-08T00:00:00",
          "2020-10-15T00:00:00",
          "2020-10-22T00:00:00",
          "2020-10-29T00:00:00",
          "2020-11-05T00:00:00",
          "2020-11-12T00:00:00",
          "2020-11-19T00:00:00",
          "2020-11-26T00:00:00",
          "2020-12-03T00:00:00",
          "2020-12-10T00:00:00",
          "2020-12-17T00:00:00",
          "2020-12-24T00:00:00",
          "2020-12-31T00:00:00",
          "2021-01-07T00:00:00",
          "2021-01-14T00:00:00",
          "2021-01-21T00:00:00",
          "2021-01-28T00:00:00",
          "2021-02-04T00:00:00",
          "2021-02-11T00:00:00",
          "2021-02-18T00:00:00",
          "2021-02-25T00:00:00",
          "2021-03-04T00:00:00",
          "2021-03-11T00:00:00",
          "2021-03-18T00:00:00",
          "2021-03-25T00:00:00",
          "2021-04-01T00:00:00",
          "2021-04-08T00:00:00",
          "2021-04-15T00:00:00"
         ],
         "y": [
          null,
          null,
          6.4,
          19.428571428571427,
          43.714285714285715,
          43,
          29,
          34,
          16,
          10.428571428571429,
          9,
          2.7142857142857144,
          1.4285714285714286,
          1.8571428571428572,
          1.2857142857142858,
          1,
          0.5714285714285714,
          0.5714285714285714,
          0.2857142857142857,
          -0.2857142857142857,
          0,
          0.14285714285714285,
          0.2857142857142857,
          0.5714285714285714,
          0.5714285714285714,
          0.14285714285714285,
          0.42857142857142855,
          0.14285714285714285,
          0,
          0.42857142857142855,
          1.2857142857142858,
          1.5714285714285714,
          2.7142857142857144,
          4.714285714285714,
          6.857142857142857,
          13.571428571428571,
          14.142857142857142,
          12.428571428571429,
          7.285714285714286,
          8,
          6.857142857142857,
          12.857142857142858,
          13.571428571428571,
          10.571428571428571,
          9.857142857142858,
          12.285714285714286,
          8.714285714285714,
          7.714285714285714,
          7.285714285714286,
          8.571428571428571,
          9.142857142857142,
          7.142857142857143,
          4.428571428571429,
          4.142857142857143,
          4.428571428571429,
          3.6666666666666665,
          3,
          2,
          3.4285714285714284,
          1.6666666666666667
         ]
        },
        {
         "name": "number of cases",
         "type": "scatter",
         "x": [
          "2020-02-27T00:00:00",
          "2020-03-05T00:00:00",
          "2020-03-12T00:00:00",
          "2020-03-19T00:00:00",
          "2020-03-26T00:00:00",
          "2020-04-02T00:00:00",
          "2020-04-09T00:00:00",
          "2020-04-16T00:00:00",
          "2020-04-23T00:00:00",
          "2020-04-30T00:00:00",
          "2020-05-07T00:00:00",
          "2020-05-14T00:00:00",
          "2020-05-21T00:00:00",
          "2020-05-28T00:00:00",
          "2020-06-04T00:00:00",
          "2020-06-11T00:00:00",
          "2020-06-18T00:00:00",
          "2020-06-25T00:00:00",
          "2020-07-02T00:00:00",
          "2020-07-09T00:00:00",
          "2020-07-16T00:00:00",
          "2020-07-23T00:00:00",
          "2020-07-30T00:00:00",
          "2020-08-06T00:00:00",
          "2020-08-13T00:00:00",
          "2020-08-20T00:00:00",
          "2020-08-27T00:00:00",
          "2020-09-03T00:00:00",
          "2020-09-10T00:00:00",
          "2020-09-17T00:00:00",
          "2020-09-24T00:00:00",
          "2020-10-01T00:00:00",
          "2020-10-08T00:00:00",
          "2020-10-15T00:00:00",
          "2020-10-22T00:00:00",
          "2020-10-29T00:00:00",
          "2020-11-05T00:00:00",
          "2020-11-12T00:00:00",
          "2020-11-19T00:00:00",
          "2020-11-26T00:00:00",
          "2020-12-03T00:00:00",
          "2020-12-10T00:00:00",
          "2020-12-17T00:00:00",
          "2020-12-24T00:00:00",
          "2020-12-31T00:00:00",
          "2021-01-07T00:00:00",
          "2021-01-14T00:00:00",
          "2021-01-21T00:00:00",
          "2021-01-28T00:00:00",
          "2021-02-04T00:00:00",
          "2021-02-11T00:00:00",
          "2021-02-18T00:00:00",
          "2021-02-25T00:00:00",
          "2021-03-04T00:00:00",
          "2021-03-11T00:00:00",
          "2021-03-18T00:00:00",
          "2021-03-25T00:00:00",
          "2021-04-01T00:00:00",
          "2021-04-08T00:00:00",
          "2021-04-15T00:00:00"
         ],
         "y": [
          2.6666666666666665,
          28.714285714285715,
          72.85714285714286,
          163.85714285714286,
          236.14285714285714,
          174.71428571428572,
          181.42857142857142,
          161.71428571428572,
          101.28571428571429,
          62.142857142857146,
          35.142857142857146,
          25.428571428571427,
          22.142857142857142,
          24.571428571428573,
          30.142857142857142,
          26.285714285714285,
          13.285714285714286,
          9.285714285714286,
          8.857142857142858,
          7.285714285714286,
          18.714285714285715,
          23.428571428571427,
          49.57142857142857,
          73.85714285714286,
          65.28571428571429,
          72,
          71.71428571428571,
          86.42857142857143,
          108.57142857142857,
          221.42857142857142,
          327.2857142857143,
          553.5714285714286,
          963.5714285714286,
          1271.2857142857142,
          1544,
          1673.4285714285713,
          982,
          875,
          917.8571428571429,
          780.2857142857143,
          1051.857142857143,
          1449.2857142857142,
          1721.7142857142858,
          1329.2857142857142,
          1102.4285714285713,
          1101.2857142857142,
          809.7142857142857,
          807.5714285714286,
          696.4285714285714,
          589,
          544,
          781,
          742.4285714285714,
          713.4285714285714,
          904,
          1048.3333333333333,
          1158.7142857142858,
          1113.5714285714287,
          1214,
          1457
         ]
        }
       ],
       "layout": {
        "template": {
         "data": {
          "bar": [
           {
            "error_x": {
             "color": "#2a3f5f"
            },
            "error_y": {
             "color": "#2a3f5f"
            },
            "marker": {
             "line": {
              "color": "#E5ECF6",
              "width": 0.5
             },
             "pattern": {
              "fillmode": "overlay",
              "size": 10,
              "solidity": 0.2
             }
            },
            "type": "bar"
           }
          ],
          "barpolar": [
           {
            "marker": {
             "line": {
              "color": "#E5ECF6",
              "width": 0.5
             },
             "pattern": {
              "fillmode": "overlay",
              "size": 10,
              "solidity": 0.2
             }
            },
            "type": "barpolar"
           }
          ],
          "carpet": [
           {
            "aaxis": {
             "endlinecolor": "#2a3f5f",
             "gridcolor": "white",
             "linecolor": "white",
             "minorgridcolor": "white",
             "startlinecolor": "#2a3f5f"
            },
            "baxis": {
             "endlinecolor": "#2a3f5f",
             "gridcolor": "white",
             "linecolor": "white",
             "minorgridcolor": "white",
             "startlinecolor": "#2a3f5f"
            },
            "type": "carpet"
           }
          ],
          "choropleth": [
           {
            "colorbar": {
             "outlinewidth": 0,
             "ticks": ""
            },
            "type": "choropleth"
           }
          ],
          "contour": [
           {
            "colorbar": {
             "outlinewidth": 0,
             "ticks": ""
            },
            "colorscale": [
             [
              0,
              "#0d0887"
             ],
             [
              0.1111111111111111,
              "#46039f"
             ],
             [
              0.2222222222222222,
              "#7201a8"
             ],
             [
              0.3333333333333333,
              "#9c179e"
             ],
             [
              0.4444444444444444,
              "#bd3786"
             ],
             [
              0.5555555555555556,
              "#d8576b"
             ],
             [
              0.6666666666666666,
              "#ed7953"
             ],
             [
              0.7777777777777778,
              "#fb9f3a"
             ],
             [
              0.8888888888888888,
              "#fdca26"
             ],
             [
              1,
              "#f0f921"
             ]
            ],
            "type": "contour"
           }
          ],
          "contourcarpet": [
           {
            "colorbar": {
             "outlinewidth": 0,
             "ticks": ""
            },
            "type": "contourcarpet"
           }
          ],
          "heatmap": [
           {
            "colorbar": {
             "outlinewidth": 0,
             "ticks": ""
            },
            "colorscale": [
             [
              0,
              "#0d0887"
             ],
             [
              0.1111111111111111,
              "#46039f"
             ],
             [
              0.2222222222222222,
              "#7201a8"
             ],
             [
              0.3333333333333333,
              "#9c179e"
             ],
             [
              0.4444444444444444,
              "#bd3786"
             ],
             [
              0.5555555555555556,
              "#d8576b"
             ],
             [
              0.6666666666666666,
              "#ed7953"
             ],
             [
              0.7777777777777778,
              "#fb9f3a"
             ],
             [
              0.8888888888888888,
              "#fdca26"
             ],
             [
              1,
              "#f0f921"
             ]
            ],
            "type": "heatmap"
           }
          ],
          "heatmapgl": [
           {
            "colorbar": {
             "outlinewidth": 0,
             "ticks": ""
            },
            "colorscale": [
             [
              0,
              "#0d0887"
             ],
             [
              0.1111111111111111,
              "#46039f"
             ],
             [
              0.2222222222222222,
              "#7201a8"
             ],
             [
              0.3333333333333333,
              "#9c179e"
             ],
             [
              0.4444444444444444,
              "#bd3786"
             ],
             [
              0.5555555555555556,
              "#d8576b"
             ],
             [
              0.6666666666666666,
              "#ed7953"
             ],
             [
              0.7777777777777778,
              "#fb9f3a"
             ],
             [
              0.8888888888888888,
              "#fdca26"
             ],
             [
              1,
              "#f0f921"
             ]
            ],
            "type": "heatmapgl"
           }
          ],
          "histogram": [
           {
            "marker": {
             "pattern": {
              "fillmode": "overlay",
              "size": 10,
              "solidity": 0.2
             }
            },
            "type": "histogram"
           }
          ],
          "histogram2d": [
           {
            "colorbar": {
             "outlinewidth": 0,
             "ticks": ""
            },
            "colorscale": [
             [
              0,
              "#0d0887"
             ],
             [
              0.1111111111111111,
              "#46039f"
             ],
             [
              0.2222222222222222,
              "#7201a8"
             ],
             [
              0.3333333333333333,
              "#9c179e"
             ],
             [
              0.4444444444444444,
              "#bd3786"
             ],
             [
              0.5555555555555556,
              "#d8576b"
             ],
             [
              0.6666666666666666,
              "#ed7953"
             ],
             [
              0.7777777777777778,
              "#fb9f3a"
             ],
             [
              0.8888888888888888,
              "#fdca26"
             ],
             [
              1,
              "#f0f921"
             ]
            ],
            "type": "histogram2d"
           }
          ],
          "histogram2dcontour": [
           {
            "colorbar": {
             "outlinewidth": 0,
             "ticks": ""
            },
            "colorscale": [
             [
              0,
              "#0d0887"
             ],
             [
              0.1111111111111111,
              "#46039f"
             ],
             [
              0.2222222222222222,
              "#7201a8"
             ],
             [
              0.3333333333333333,
              "#9c179e"
             ],
             [
              0.4444444444444444,
              "#bd3786"
             ],
             [
              0.5555555555555556,
              "#d8576b"
             ],
             [
              0.6666666666666666,
              "#ed7953"
             ],
             [
              0.7777777777777778,
              "#fb9f3a"
             ],
             [
              0.8888888888888888,
              "#fdca26"
             ],
             [
              1,
              "#f0f921"
             ]
            ],
            "type": "histogram2dcontour"
           }
          ],
          "mesh3d": [
           {
            "colorbar": {
             "outlinewidth": 0,
             "ticks": ""
            },
            "type": "mesh3d"
           }
          ],
          "parcoords": [
           {
            "line": {
             "colorbar": {
              "outlinewidth": 0,
              "ticks": ""
             }
            },
            "type": "parcoords"
           }
          ],
          "pie": [
           {
            "automargin": true,
            "type": "pie"
           }
          ],
          "scatter": [
           {
            "marker": {
             "colorbar": {
              "outlinewidth": 0,
              "ticks": ""
             }
            },
            "type": "scatter"
           }
          ],
          "scatter3d": [
           {
            "line": {
             "colorbar": {
              "outlinewidth": 0,
              "ticks": ""
             }
            },
            "marker": {
             "colorbar": {
              "outlinewidth": 0,
              "ticks": ""
             }
            },
            "type": "scatter3d"
           }
          ],
          "scattercarpet": [
           {
            "marker": {
             "colorbar": {
              "outlinewidth": 0,
              "ticks": ""
             }
            },
            "type": "scattercarpet"
           }
          ],
          "scattergeo": [
           {
            "marker": {
             "colorbar": {
              "outlinewidth": 0,
              "ticks": ""
             }
            },
            "type": "scattergeo"
           }
          ],
          "scattergl": [
           {
            "marker": {
             "colorbar": {
              "outlinewidth": 0,
              "ticks": ""
             }
            },
            "type": "scattergl"
           }
          ],
          "scattermapbox": [
           {
            "marker": {
             "colorbar": {
              "outlinewidth": 0,
              "ticks": ""
             }
            },
            "type": "scattermapbox"
           }
          ],
          "scatterpolar": [
           {
            "marker": {
             "colorbar": {
              "outlinewidth": 0,
              "ticks": ""
             }
            },
            "type": "scatterpolar"
           }
          ],
          "scatterpolargl": [
           {
            "marker": {
             "colorbar": {
              "outlinewidth": 0,
              "ticks": ""
             }
            },
            "type": "scatterpolargl"
           }
          ],
          "scatterternary": [
           {
            "marker": {
             "colorbar": {
              "outlinewidth": 0,
              "ticks": ""
             }
            },
            "type": "scatterternary"
           }
          ],
          "surface": [
           {
            "colorbar": {
             "outlinewidth": 0,
             "ticks": ""
            },
            "colorscale": [
             [
              0,
              "#0d0887"
             ],
             [
              0.1111111111111111,
              "#46039f"
             ],
             [
              0.2222222222222222,
              "#7201a8"
             ],
             [
              0.3333333333333333,
              "#9c179e"
             ],
             [
              0.4444444444444444,
              "#bd3786"
             ],
             [
              0.5555555555555556,
              "#d8576b"
             ],
             [
              0.6666666666666666,
              "#ed7953"
             ],
             [
              0.7777777777777778,
              "#fb9f3a"
             ],
             [
              0.8888888888888888,
              "#fdca26"
             ],
             [
              1,
              "#f0f921"
             ]
            ],
            "type": "surface"
           }
          ],
          "table": [
           {
            "cells": {
             "fill": {
              "color": "#EBF0F8"
             },
             "line": {
              "color": "white"
             }
            },
            "header": {
             "fill": {
              "color": "#C8D4E3"
             },
             "line": {
              "color": "white"
             }
            },
            "type": "table"
           }
          ]
         },
         "layout": {
          "annotationdefaults": {
           "arrowcolor": "#2a3f5f",
           "arrowhead": 0,
           "arrowwidth": 1
          },
          "autotypenumbers": "strict",
          "coloraxis": {
           "colorbar": {
            "outlinewidth": 0,
            "ticks": ""
           }
          },
          "colorscale": {
           "diverging": [
            [
             0,
             "#8e0152"
            ],
            [
             0.1,
             "#c51b7d"
            ],
            [
             0.2,
             "#de77ae"
            ],
            [
             0.3,
             "#f1b6da"
            ],
            [
             0.4,
             "#fde0ef"
            ],
            [
             0.5,
             "#f7f7f7"
            ],
            [
             0.6,
             "#e6f5d0"
            ],
            [
             0.7,
             "#b8e186"
            ],
            [
             0.8,
             "#7fbc41"
            ],
            [
             0.9,
             "#4d9221"
            ],
            [
             1,
             "#276419"
            ]
           ],
           "sequential": [
            [
             0,
             "#0d0887"
            ],
            [
             0.1111111111111111,
             "#46039f"
            ],
            [
             0.2222222222222222,
             "#7201a8"
            ],
            [
             0.3333333333333333,
             "#9c179e"
            ],
            [
             0.4444444444444444,
             "#bd3786"
            ],
            [
             0.5555555555555556,
             "#d8576b"
            ],
            [
             0.6666666666666666,
             "#ed7953"
            ],
            [
             0.7777777777777778,
             "#fb9f3a"
            ],
            [
             0.8888888888888888,
             "#fdca26"
            ],
            [
             1,
             "#f0f921"
            ]
           ],
           "sequentialminus": [
            [
             0,
             "#0d0887"
            ],
            [
             0.1111111111111111,
             "#46039f"
            ],
            [
             0.2222222222222222,
             "#7201a8"
            ],
            [
             0.3333333333333333,
             "#9c179e"
            ],
            [
             0.4444444444444444,
             "#bd3786"
            ],
            [
             0.5555555555555556,
             "#d8576b"
            ],
            [
             0.6666666666666666,
             "#ed7953"
            ],
            [
             0.7777777777777778,
             "#fb9f3a"
            ],
            [
             0.8888888888888888,
             "#fdca26"
            ],
            [
             1,
             "#f0f921"
            ]
           ]
          },
          "colorway": [
           "#636efa",
           "#EF553B",
           "#00cc96",
           "#ab63fa",
           "#FFA15A",
           "#19d3f3",
           "#FF6692",
           "#B6E880",
           "#FF97FF",
           "#FECB52"
          ],
          "font": {
           "color": "#2a3f5f"
          },
          "geo": {
           "bgcolor": "white",
           "lakecolor": "white",
           "landcolor": "#E5ECF6",
           "showlakes": true,
           "showland": true,
           "subunitcolor": "white"
          },
          "hoverlabel": {
           "align": "left"
          },
          "hovermode": "closest",
          "mapbox": {
           "style": "light"
          },
          "paper_bgcolor": "white",
          "plot_bgcolor": "#E5ECF6",
          "polar": {
           "angularaxis": {
            "gridcolor": "white",
            "linecolor": "white",
            "ticks": ""
           },
           "bgcolor": "#E5ECF6",
           "radialaxis": {
            "gridcolor": "white",
            "linecolor": "white",
            "ticks": ""
           }
          },
          "scene": {
           "xaxis": {
            "backgroundcolor": "#E5ECF6",
            "gridcolor": "white",
            "gridwidth": 2,
            "linecolor": "white",
            "showbackground": true,
            "ticks": "",
            "zerolinecolor": "white"
           },
           "yaxis": {
            "backgroundcolor": "#E5ECF6",
            "gridcolor": "white",
            "gridwidth": 2,
            "linecolor": "white",
            "showbackground": true,
            "ticks": "",
            "zerolinecolor": "white"
           },
           "zaxis": {
            "backgroundcolor": "#E5ECF6",
            "gridcolor": "white",
            "gridwidth": 2,
            "linecolor": "white",
            "showbackground": true,
            "ticks": "",
            "zerolinecolor": "white"
           }
          },
          "shapedefaults": {
           "line": {
            "color": "#2a3f5f"
           }
          },
          "ternary": {
           "aaxis": {
            "gridcolor": "white",
            "linecolor": "white",
            "ticks": ""
           },
           "baxis": {
            "gridcolor": "white",
            "linecolor": "white",
            "ticks": ""
           },
           "bgcolor": "#E5ECF6",
           "caxis": {
            "gridcolor": "white",
            "linecolor": "white",
            "ticks": ""
           }
          },
          "title": {
           "x": 0.05
          },
          "xaxis": {
           "automargin": true,
           "gridcolor": "white",
           "linecolor": "white",
           "ticks": "",
           "title": {
            "standoff": 15
           },
           "zerolinecolor": "white",
           "zerolinewidth": 2
          },
          "yaxis": {
           "automargin": true,
           "gridcolor": "white",
           "linecolor": "white",
           "ticks": "",
           "title": {
            "standoff": 15
           },
           "zerolinecolor": "white",
           "zerolinewidth": 2
          }
         }
        },
        "title": {
         "text": "covid in Noord-Brabant"
        }
       }
      }
     },
     "metadata": {},
     "output_type": "display_data"
    }
   ],
   "source": [
    "# First, I'll make a graph of all covid data on the province of Noord-Brabant\n",
    "# I have to add the number of cases as a new activity and then I'm able to make the graph\n",
    "fig_5 = go.Figure()\n",
    "\n",
    "for activity in activities_story_1:\n",
    "    x1 = df_full_province_2['date']\n",
    "    y1 = df_full_province_2[activity]\n",
    "    fig_5.add_trace(go.Scatter(x=x1,y=y1,name=activity))\n",
    "\n",
    "\n",
    "fig_5.update_layout(title='covid in ' + province_1)\n",
    "fig_5.show()"
   ]
  },
  {
   "cell_type": "markdown",
   "metadata": {},
   "source": [
    "What is interesting is that the number of cases seems to be very low during the first wave, especially compared with the end of 2020 and the whole of 2021. This is the case, however, because the Netherlands only started up free CPR testing in June 2020. However, because of the lockdown and the nice weather the number of cases was very low by then. So when looking at the first wave, it's better to toggle off the number of cases and look at the number of hospitalized patients and number of casualties. \n",
    "\n",
    "- When you toggle off the number of cases, you can see however that there are quite some hospitalizations and casualties that occurred during the first wave\n",
    "- This does show that there were quite some severe cases in the province and the toal number of cases probably was much higher\n",
    "- The first covid case in the Netherlands was spotted in Tilburg, at the end of the carnaval week\n",
    "- Many people thought this must have meant that many people had gotten covid over the course of Carnaval, and as we went into a strict lockdown relatively quickly after carnaval, this was probably the case\n",
    "- The number of hospitalizations during March-May 2020 never would've been so high of only just a few people had gotten covid around the time of carnaval 2020. "
   ]
  },
  {
   "cell_type": "markdown",
   "metadata": {},
   "source": [
    "I moved to The Hague in July 2020, but before that I lived in Eindhoven. During the first wave from March-May 2020, I noticed the following things:\n",
    "- The fact that the first covid case was spotted in Noord-Brabant, resulted in quite some judgmental reactions about the province\n",
    "- The severity of the first wave in Noord-Brabant only contributed to this\n",
    "- Me and my housemates in Eindhoven got quite some interesting comments on covid in Noord-Brabant from family members who were living in the Randstad\n",
    "- I did notice that people in Eindhoven were following the covid rules very strictly, especially in terms of keeping distance both outside and inside\n",
    "\n",
    "- When I went to the Randstad to visit familiy, however, I noticed that people were adhering to the rules a lot less\n",
    "- This interested me, as I found that the number of cases didn't differ that much anymore between central provinces around the time of April-May\n",
    "- It made me feel like people were thinking like Noord-Brabant was doing very badly in terms of covid, while their own provinces were also not doing that great\n",
    "- So the narrative around covid numbers in Noord-Brabant just wasn't good\n",
    "\n",
    "For this story, I want to check whether this feeling I had was rightfully there, or if Noord-Brabant was actually doing much worse than other provinces."
   ]
  },
  {
   "cell_type": "markdown",
   "metadata": {},
   "source": [
    "So let's make a bar chart showing the number of cases per province for every month."
   ]
  },
  {
   "cell_type": "code",
   "execution_count": 22,
   "metadata": {},
   "outputs": [
    {
     "data": {
      "application/vnd.plotly.v1+json": {
       "config": {
        "plotlyServerURL": "https://plot.ly"
       },
       "data": [
        {
         "alignmentgroup": "True",
         "hovertemplate": "province=%{y}<br>year_month=2020-02<br>number of cases=%{x}<extra></extra>",
         "ids": [
          "Drenthe"
         ],
         "legendgroup": "Drenthe",
         "marker": {
          "color": "#636efa",
          "pattern": {
           "shape": ""
          }
         },
         "name": "Drenthe",
         "offsetgroup": "Drenthe",
         "orientation": "h",
         "showlegend": true,
         "textposition": "auto",
         "type": "bar",
         "x": [
          0
         ],
         "xaxis": "x",
         "y": [
          "Drenthe"
         ],
         "yaxis": "y"
        },
        {
         "alignmentgroup": "True",
         "hovertemplate": "province=%{y}<br>year_month=2020-02<br>number of cases=%{x}<extra></extra>",
         "ids": [
          "Flevoland"
         ],
         "legendgroup": "Flevoland",
         "marker": {
          "color": "#EF553B",
          "pattern": {
           "shape": ""
          }
         },
         "name": "Flevoland",
         "offsetgroup": "Flevoland",
         "orientation": "h",
         "showlegend": true,
         "textposition": "auto",
         "type": "bar",
         "x": [
          0
         ],
         "xaxis": "x",
         "y": [
          "Flevoland"
         ],
         "yaxis": "y"
        },
        {
         "alignmentgroup": "True",
         "hovertemplate": "province=%{y}<br>year_month=2020-02<br>number of cases=%{x}<extra></extra>",
         "ids": [
          "Friesland"
         ],
         "legendgroup": "Friesland",
         "marker": {
          "color": "#00cc96",
          "pattern": {
           "shape": ""
          }
         },
         "name": "Friesland",
         "offsetgroup": "Friesland",
         "orientation": "h",
         "showlegend": true,
         "textposition": "auto",
         "type": "bar",
         "x": [
          0
         ],
         "xaxis": "x",
         "y": [
          "Friesland"
         ],
         "yaxis": "y"
        },
        {
         "alignmentgroup": "True",
         "hovertemplate": "province=%{y}<br>year_month=2020-02<br>number of cases=%{x}<extra></extra>",
         "ids": [
          "Gelderland"
         ],
         "legendgroup": "Gelderland",
         "marker": {
          "color": "#ab63fa",
          "pattern": {
           "shape": ""
          }
         },
         "name": "Gelderland",
         "offsetgroup": "Gelderland",
         "orientation": "h",
         "showlegend": true,
         "textposition": "auto",
         "type": "bar",
         "x": [
          0
         ],
         "xaxis": "x",
         "y": [
          "Gelderland"
         ],
         "yaxis": "y"
        },
        {
         "alignmentgroup": "True",
         "hovertemplate": "province=%{y}<br>year_month=2020-02<br>number of cases=%{x}<extra></extra>",
         "ids": [
          "Groningen"
         ],
         "legendgroup": "Groningen",
         "marker": {
          "color": "#FFA15A",
          "pattern": {
           "shape": ""
          }
         },
         "name": "Groningen",
         "offsetgroup": "Groningen",
         "orientation": "h",
         "showlegend": true,
         "textposition": "auto",
         "type": "bar",
         "x": [
          0
         ],
         "xaxis": "x",
         "y": [
          "Groningen"
         ],
         "yaxis": "y"
        },
        {
         "alignmentgroup": "True",
         "hovertemplate": "province=%{y}<br>year_month=2020-02<br>number of cases=%{x}<extra></extra>",
         "ids": [
          "Noord-Brabant"
         ],
         "legendgroup": "Noord-Brabant",
         "marker": {
          "color": "#19d3f3",
          "pattern": {
           "shape": ""
          }
         },
         "name": "Noord-Brabant",
         "offsetgroup": "Noord-Brabant",
         "orientation": "h",
         "showlegend": true,
         "textposition": "auto",
         "type": "bar",
         "x": [
          2
         ],
         "xaxis": "x",
         "y": [
          "Noord-Brabant"
         ],
         "yaxis": "y"
        },
        {
         "alignmentgroup": "True",
         "hovertemplate": "province=%{y}<br>year_month=2020-02<br>number of cases=%{x}<extra></extra>",
         "ids": [
          "Noord-Holland"
         ],
         "legendgroup": "Noord-Holland",
         "marker": {
          "color": "#FF6692",
          "pattern": {
           "shape": ""
          }
         },
         "name": "Noord-Holland",
         "offsetgroup": "Noord-Holland",
         "orientation": "h",
         "showlegend": true,
         "textposition": "auto",
         "type": "bar",
         "x": [
          3
         ],
         "xaxis": "x",
         "y": [
          "Noord-Holland"
         ],
         "yaxis": "y"
        },
        {
         "alignmentgroup": "True",
         "hovertemplate": "province=%{y}<br>year_month=2020-02<br>number of cases=%{x}<extra></extra>",
         "ids": [
          "Overijssel"
         ],
         "legendgroup": "Overijssel",
         "marker": {
          "color": "#B6E880",
          "pattern": {
           "shape": ""
          }
         },
         "name": "Overijssel",
         "offsetgroup": "Overijssel",
         "orientation": "h",
         "showlegend": true,
         "textposition": "auto",
         "type": "bar",
         "x": [
          0
         ],
         "xaxis": "x",
         "y": [
          "Overijssel"
         ],
         "yaxis": "y"
        },
        {
         "alignmentgroup": "True",
         "hovertemplate": "province=%{y}<br>year_month=2020-02<br>number of cases=%{x}<extra></extra>",
         "ids": [
          "Utrecht"
         ],
         "legendgroup": "Utrecht",
         "marker": {
          "color": "#FF97FF",
          "pattern": {
           "shape": ""
          }
         },
         "name": "Utrecht",
         "offsetgroup": "Utrecht",
         "orientation": "h",
         "showlegend": true,
         "textposition": "auto",
         "type": "bar",
         "x": [
          0
         ],
         "xaxis": "x",
         "y": [
          "Utrecht"
         ],
         "yaxis": "y"
        },
        {
         "alignmentgroup": "True",
         "hovertemplate": "province=%{y}<br>year_month=2020-02<br>number of cases=%{x}<extra></extra>",
         "ids": [
          "Zeeland"
         ],
         "legendgroup": "Zeeland",
         "marker": {
          "color": "#FECB52",
          "pattern": {
           "shape": ""
          }
         },
         "name": "Zeeland",
         "offsetgroup": "Zeeland",
         "orientation": "h",
         "showlegend": true,
         "textposition": "auto",
         "type": "bar",
         "x": [
          0
         ],
         "xaxis": "x",
         "y": [
          "Zeeland"
         ],
         "yaxis": "y"
        },
        {
         "alignmentgroup": "True",
         "hovertemplate": "province=%{y}<br>year_month=2020-02<br>number of cases=%{x}<extra></extra>",
         "ids": [
          "Zuid-Holland"
         ],
         "legendgroup": "Zuid-Holland",
         "marker": {
          "color": "#636efa",
          "pattern": {
           "shape": ""
          }
         },
         "name": "Zuid-Holland",
         "offsetgroup": "Zuid-Holland",
         "orientation": "h",
         "showlegend": true,
         "textposition": "auto",
         "type": "bar",
         "x": [
          1
         ],
         "xaxis": "x",
         "y": [
          "Zuid-Holland"
         ],
         "yaxis": "y"
        },
        {
         "alignmentgroup": "True",
         "hovertemplate": "province=%{y}<br>year_month=2020-02<br>number of cases=%{x}<extra></extra>",
         "ids": [
          "Zuid-Limburg"
         ],
         "legendgroup": "Zuid-Limburg",
         "marker": {
          "color": "#EF553B",
          "pattern": {
           "shape": ""
          }
         },
         "name": "Zuid-Limburg",
         "offsetgroup": "Zuid-Limburg",
         "orientation": "h",
         "showlegend": true,
         "textposition": "auto",
         "type": "bar",
         "x": [
          0
         ],
         "xaxis": "x",
         "y": [
          "Zuid-Limburg"
         ],
         "yaxis": "y"
        }
       ],
       "frames": [
        {
         "data": [
          {
           "alignmentgroup": "True",
           "hovertemplate": "province=%{y}<br>year_month=2020-02<br>number of cases=%{x}<extra></extra>",
           "ids": [
            "Drenthe"
           ],
           "legendgroup": "Drenthe",
           "marker": {
            "color": "#636efa",
            "pattern": {
             "shape": ""
            }
           },
           "name": "Drenthe",
           "offsetgroup": "Drenthe",
           "orientation": "h",
           "showlegend": true,
           "textposition": "auto",
           "type": "bar",
           "x": [
            0
           ],
           "xaxis": "x",
           "y": [
            "Drenthe"
           ],
           "yaxis": "y"
          },
          {
           "alignmentgroup": "True",
           "hovertemplate": "province=%{y}<br>year_month=2020-02<br>number of cases=%{x}<extra></extra>",
           "ids": [
            "Flevoland"
           ],
           "legendgroup": "Flevoland",
           "marker": {
            "color": "#EF553B",
            "pattern": {
             "shape": ""
            }
           },
           "name": "Flevoland",
           "offsetgroup": "Flevoland",
           "orientation": "h",
           "showlegend": true,
           "textposition": "auto",
           "type": "bar",
           "x": [
            0
           ],
           "xaxis": "x",
           "y": [
            "Flevoland"
           ],
           "yaxis": "y"
          },
          {
           "alignmentgroup": "True",
           "hovertemplate": "province=%{y}<br>year_month=2020-02<br>number of cases=%{x}<extra></extra>",
           "ids": [
            "Friesland"
           ],
           "legendgroup": "Friesland",
           "marker": {
            "color": "#00cc96",
            "pattern": {
             "shape": ""
            }
           },
           "name": "Friesland",
           "offsetgroup": "Friesland",
           "orientation": "h",
           "showlegend": true,
           "textposition": "auto",
           "type": "bar",
           "x": [
            0
           ],
           "xaxis": "x",
           "y": [
            "Friesland"
           ],
           "yaxis": "y"
          },
          {
           "alignmentgroup": "True",
           "hovertemplate": "province=%{y}<br>year_month=2020-02<br>number of cases=%{x}<extra></extra>",
           "ids": [
            "Gelderland"
           ],
           "legendgroup": "Gelderland",
           "marker": {
            "color": "#ab63fa",
            "pattern": {
             "shape": ""
            }
           },
           "name": "Gelderland",
           "offsetgroup": "Gelderland",
           "orientation": "h",
           "showlegend": true,
           "textposition": "auto",
           "type": "bar",
           "x": [
            0
           ],
           "xaxis": "x",
           "y": [
            "Gelderland"
           ],
           "yaxis": "y"
          },
          {
           "alignmentgroup": "True",
           "hovertemplate": "province=%{y}<br>year_month=2020-02<br>number of cases=%{x}<extra></extra>",
           "ids": [
            "Groningen"
           ],
           "legendgroup": "Groningen",
           "marker": {
            "color": "#FFA15A",
            "pattern": {
             "shape": ""
            }
           },
           "name": "Groningen",
           "offsetgroup": "Groningen",
           "orientation": "h",
           "showlegend": true,
           "textposition": "auto",
           "type": "bar",
           "x": [
            0
           ],
           "xaxis": "x",
           "y": [
            "Groningen"
           ],
           "yaxis": "y"
          },
          {
           "alignmentgroup": "True",
           "hovertemplate": "province=%{y}<br>year_month=2020-02<br>number of cases=%{x}<extra></extra>",
           "ids": [
            "Noord-Brabant"
           ],
           "legendgroup": "Noord-Brabant",
           "marker": {
            "color": "#19d3f3",
            "pattern": {
             "shape": ""
            }
           },
           "name": "Noord-Brabant",
           "offsetgroup": "Noord-Brabant",
           "orientation": "h",
           "showlegend": true,
           "textposition": "auto",
           "type": "bar",
           "x": [
            2
           ],
           "xaxis": "x",
           "y": [
            "Noord-Brabant"
           ],
           "yaxis": "y"
          },
          {
           "alignmentgroup": "True",
           "hovertemplate": "province=%{y}<br>year_month=2020-02<br>number of cases=%{x}<extra></extra>",
           "ids": [
            "Noord-Holland"
           ],
           "legendgroup": "Noord-Holland",
           "marker": {
            "color": "#FF6692",
            "pattern": {
             "shape": ""
            }
           },
           "name": "Noord-Holland",
           "offsetgroup": "Noord-Holland",
           "orientation": "h",
           "showlegend": true,
           "textposition": "auto",
           "type": "bar",
           "x": [
            3
           ],
           "xaxis": "x",
           "y": [
            "Noord-Holland"
           ],
           "yaxis": "y"
          },
          {
           "alignmentgroup": "True",
           "hovertemplate": "province=%{y}<br>year_month=2020-02<br>number of cases=%{x}<extra></extra>",
           "ids": [
            "Overijssel"
           ],
           "legendgroup": "Overijssel",
           "marker": {
            "color": "#B6E880",
            "pattern": {
             "shape": ""
            }
           },
           "name": "Overijssel",
           "offsetgroup": "Overijssel",
           "orientation": "h",
           "showlegend": true,
           "textposition": "auto",
           "type": "bar",
           "x": [
            0
           ],
           "xaxis": "x",
           "y": [
            "Overijssel"
           ],
           "yaxis": "y"
          },
          {
           "alignmentgroup": "True",
           "hovertemplate": "province=%{y}<br>year_month=2020-02<br>number of cases=%{x}<extra></extra>",
           "ids": [
            "Utrecht"
           ],
           "legendgroup": "Utrecht",
           "marker": {
            "color": "#FF97FF",
            "pattern": {
             "shape": ""
            }
           },
           "name": "Utrecht",
           "offsetgroup": "Utrecht",
           "orientation": "h",
           "showlegend": true,
           "textposition": "auto",
           "type": "bar",
           "x": [
            0
           ],
           "xaxis": "x",
           "y": [
            "Utrecht"
           ],
           "yaxis": "y"
          },
          {
           "alignmentgroup": "True",
           "hovertemplate": "province=%{y}<br>year_month=2020-02<br>number of cases=%{x}<extra></extra>",
           "ids": [
            "Zeeland"
           ],
           "legendgroup": "Zeeland",
           "marker": {
            "color": "#FECB52",
            "pattern": {
             "shape": ""
            }
           },
           "name": "Zeeland",
           "offsetgroup": "Zeeland",
           "orientation": "h",
           "showlegend": true,
           "textposition": "auto",
           "type": "bar",
           "x": [
            0
           ],
           "xaxis": "x",
           "y": [
            "Zeeland"
           ],
           "yaxis": "y"
          },
          {
           "alignmentgroup": "True",
           "hovertemplate": "province=%{y}<br>year_month=2020-02<br>number of cases=%{x}<extra></extra>",
           "ids": [
            "Zuid-Holland"
           ],
           "legendgroup": "Zuid-Holland",
           "marker": {
            "color": "#636efa",
            "pattern": {
             "shape": ""
            }
           },
           "name": "Zuid-Holland",
           "offsetgroup": "Zuid-Holland",
           "orientation": "h",
           "showlegend": true,
           "textposition": "auto",
           "type": "bar",
           "x": [
            1
           ],
           "xaxis": "x",
           "y": [
            "Zuid-Holland"
           ],
           "yaxis": "y"
          },
          {
           "alignmentgroup": "True",
           "hovertemplate": "province=%{y}<br>year_month=2020-02<br>number of cases=%{x}<extra></extra>",
           "ids": [
            "Zuid-Limburg"
           ],
           "legendgroup": "Zuid-Limburg",
           "marker": {
            "color": "#EF553B",
            "pattern": {
             "shape": ""
            }
           },
           "name": "Zuid-Limburg",
           "offsetgroup": "Zuid-Limburg",
           "orientation": "h",
           "showlegend": true,
           "textposition": "auto",
           "type": "bar",
           "x": [
            0
           ],
           "xaxis": "x",
           "y": [
            "Zuid-Limburg"
           ],
           "yaxis": "y"
          }
         ],
         "name": "2020-02"
        },
        {
         "data": [
          {
           "alignmentgroup": "True",
           "hovertemplate": "province=%{y}<br>year_month=2020-03<br>number of cases=%{x}<extra></extra>",
           "ids": [
            "Drenthe"
           ],
           "legendgroup": "Drenthe",
           "marker": {
            "color": "#636efa",
            "pattern": {
             "shape": ""
            }
           },
           "name": "Drenthe",
           "offsetgroup": "Drenthe",
           "orientation": "h",
           "showlegend": true,
           "textposition": "auto",
           "type": "bar",
           "x": [
            123
           ],
           "xaxis": "x",
           "y": [
            "Drenthe"
           ],
           "yaxis": "y"
          },
          {
           "alignmentgroup": "True",
           "hovertemplate": "province=%{y}<br>year_month=2020-03<br>number of cases=%{x}<extra></extra>",
           "ids": [
            "Flevoland"
           ],
           "legendgroup": "Flevoland",
           "marker": {
            "color": "#EF553B",
            "pattern": {
             "shape": ""
            }
           },
           "name": "Flevoland",
           "offsetgroup": "Flevoland",
           "orientation": "h",
           "showlegend": true,
           "textposition": "auto",
           "type": "bar",
           "x": [
            161
           ],
           "xaxis": "x",
           "y": [
            "Flevoland"
           ],
           "yaxis": "y"
          },
          {
           "alignmentgroup": "True",
           "hovertemplate": "province=%{y}<br>year_month=2020-03<br>number of cases=%{x}<extra></extra>",
           "ids": [
            "Friesland"
           ],
           "legendgroup": "Friesland",
           "marker": {
            "color": "#00cc96",
            "pattern": {
             "shape": ""
            }
           },
           "name": "Friesland",
           "offsetgroup": "Friesland",
           "orientation": "h",
           "showlegend": true,
           "textposition": "auto",
           "type": "bar",
           "x": [
            131
           ],
           "xaxis": "x",
           "y": [
            "Friesland"
           ],
           "yaxis": "y"
          },
          {
           "alignmentgroup": "True",
           "hovertemplate": "province=%{y}<br>year_month=2020-03<br>number of cases=%{x}<extra></extra>",
           "ids": [
            "Gelderland"
           ],
           "legendgroup": "Gelderland",
           "marker": {
            "color": "#ab63fa",
            "pattern": {
             "shape": ""
            }
           },
           "name": "Gelderland",
           "offsetgroup": "Gelderland",
           "orientation": "h",
           "showlegend": true,
           "textposition": "auto",
           "type": "bar",
           "x": [
            1455
           ],
           "xaxis": "x",
           "y": [
            "Gelderland"
           ],
           "yaxis": "y"
          },
          {
           "alignmentgroup": "True",
           "hovertemplate": "province=%{y}<br>year_month=2020-03<br>number of cases=%{x}<extra></extra>",
           "ids": [
            "Groningen"
           ],
           "legendgroup": "Groningen",
           "marker": {
            "color": "#FFA15A",
            "pattern": {
             "shape": ""
            }
           },
           "name": "Groningen",
           "offsetgroup": "Groningen",
           "orientation": "h",
           "showlegend": true,
           "textposition": "auto",
           "type": "bar",
           "x": [
            158
           ],
           "xaxis": "x",
           "y": [
            "Groningen"
           ],
           "yaxis": "y"
          },
          {
           "alignmentgroup": "True",
           "hovertemplate": "province=%{y}<br>year_month=2020-03<br>number of cases=%{x}<extra></extra>",
           "ids": [
            "Noord-Brabant"
           ],
           "legendgroup": "Noord-Brabant",
           "marker": {
            "color": "#19d3f3",
            "pattern": {
             "shape": ""
            }
           },
           "name": "Noord-Brabant",
           "offsetgroup": "Noord-Brabant",
           "orientation": "h",
           "showlegend": true,
           "textposition": "auto",
           "type": "bar",
           "x": [
            3372
           ],
           "xaxis": "x",
           "y": [
            "Noord-Brabant"
           ],
           "yaxis": "y"
          },
          {
           "alignmentgroup": "True",
           "hovertemplate": "province=%{y}<br>year_month=2020-03<br>number of cases=%{x}<extra></extra>",
           "ids": [
            "Noord-Holland"
           ],
           "legendgroup": "Noord-Holland",
           "marker": {
            "color": "#FF6692",
            "pattern": {
             "shape": ""
            }
           },
           "name": "Noord-Holland",
           "offsetgroup": "Noord-Holland",
           "orientation": "h",
           "showlegend": true,
           "textposition": "auto",
           "type": "bar",
           "x": [
            1807
           ],
           "xaxis": "x",
           "y": [
            "Noord-Holland"
           ],
           "yaxis": "y"
          },
          {
           "alignmentgroup": "True",
           "hovertemplate": "province=%{y}<br>year_month=2020-03<br>number of cases=%{x}<extra></extra>",
           "ids": [
            "Overijssel"
           ],
           "legendgroup": "Overijssel",
           "marker": {
            "color": "#B6E880",
            "pattern": {
             "shape": ""
            }
           },
           "name": "Overijssel",
           "offsetgroup": "Overijssel",
           "orientation": "h",
           "showlegend": true,
           "textposition": "auto",
           "type": "bar",
           "x": [
            686
           ],
           "xaxis": "x",
           "y": [
            "Overijssel"
           ],
           "yaxis": "y"
          },
          {
           "alignmentgroup": "True",
           "hovertemplate": "province=%{y}<br>year_month=2020-03<br>number of cases=%{x}<extra></extra>",
           "ids": [
            "Utrecht"
           ],
           "legendgroup": "Utrecht",
           "marker": {
            "color": "#FF97FF",
            "pattern": {
             "shape": ""
            }
           },
           "name": "Utrecht",
           "offsetgroup": "Utrecht",
           "orientation": "h",
           "showlegend": true,
           "textposition": "auto",
           "type": "bar",
           "x": [
            1024
           ],
           "xaxis": "x",
           "y": [
            "Utrecht"
           ],
           "yaxis": "y"
          },
          {
           "alignmentgroup": "True",
           "hovertemplate": "province=%{y}<br>year_month=2020-03<br>number of cases=%{x}<extra></extra>",
           "ids": [
            "Zeeland"
           ],
           "legendgroup": "Zeeland",
           "marker": {
            "color": "#FECB52",
            "pattern": {
             "shape": ""
            }
           },
           "name": "Zeeland",
           "offsetgroup": "Zeeland",
           "orientation": "h",
           "showlegend": true,
           "textposition": "auto",
           "type": "bar",
           "x": [
            160
           ],
           "xaxis": "x",
           "y": [
            "Zeeland"
           ],
           "yaxis": "y"
          },
          {
           "alignmentgroup": "True",
           "hovertemplate": "province=%{y}<br>year_month=2020-03<br>number of cases=%{x}<extra></extra>",
           "ids": [
            "Zuid-Holland"
           ],
           "legendgroup": "Zuid-Holland",
           "marker": {
            "color": "#636efa",
            "pattern": {
             "shape": ""
            }
           },
           "name": "Zuid-Holland",
           "offsetgroup": "Zuid-Holland",
           "orientation": "h",
           "showlegend": true,
           "textposition": "auto",
           "type": "bar",
           "x": [
            1931
           ],
           "xaxis": "x",
           "y": [
            "Zuid-Holland"
           ],
           "yaxis": "y"
          },
          {
           "alignmentgroup": "True",
           "hovertemplate": "province=%{y}<br>year_month=2020-03<br>number of cases=%{x}<extra></extra>",
           "ids": [
            "Zuid-Limburg"
           ],
           "legendgroup": "Zuid-Limburg",
           "marker": {
            "color": "#EF553B",
            "pattern": {
             "shape": ""
            }
           },
           "name": "Zuid-Limburg",
           "offsetgroup": "Zuid-Limburg",
           "orientation": "h",
           "showlegend": true,
           "textposition": "auto",
           "type": "bar",
           "x": [
            1402
           ],
           "xaxis": "x",
           "y": [
            "Zuid-Limburg"
           ],
           "yaxis": "y"
          }
         ],
         "name": "2020-03"
        },
        {
         "data": [
          {
           "alignmentgroup": "True",
           "hovertemplate": "province=%{y}<br>year_month=2020-04<br>number of cases=%{x}<extra></extra>",
           "ids": [
            "Drenthe"
           ],
           "legendgroup": "Drenthe",
           "marker": {
            "color": "#636efa",
            "pattern": {
             "shape": ""
            }
           },
           "name": "Drenthe",
           "offsetgroup": "Drenthe",
           "orientation": "h",
           "showlegend": true,
           "textposition": "auto",
           "type": "bar",
           "x": [
            350
           ],
           "xaxis": "x",
           "y": [
            "Drenthe"
           ],
           "yaxis": "y"
          },
          {
           "alignmentgroup": "True",
           "hovertemplate": "province=%{y}<br>year_month=2020-04<br>number of cases=%{x}<extra></extra>",
           "ids": [
            "Flevoland"
           ],
           "legendgroup": "Flevoland",
           "marker": {
            "color": "#EF553B",
            "pattern": {
             "shape": ""
            }
           },
           "name": "Flevoland",
           "offsetgroup": "Flevoland",
           "orientation": "h",
           "showlegend": true,
           "textposition": "auto",
           "type": "bar",
           "x": [
            571
           ],
           "xaxis": "x",
           "y": [
            "Flevoland"
           ],
           "yaxis": "y"
          },
          {
           "alignmentgroup": "True",
           "hovertemplate": "province=%{y}<br>year_month=2020-04<br>number of cases=%{x}<extra></extra>",
           "ids": [
            "Friesland"
           ],
           "legendgroup": "Friesland",
           "marker": {
            "color": "#00cc96",
            "pattern": {
             "shape": ""
            }
           },
           "name": "Friesland",
           "offsetgroup": "Friesland",
           "orientation": "h",
           "showlegend": true,
           "textposition": "auto",
           "type": "bar",
           "x": [
            398
           ],
           "xaxis": "x",
           "y": [
            "Friesland"
           ],
           "yaxis": "y"
          },
          {
           "alignmentgroup": "True",
           "hovertemplate": "province=%{y}<br>year_month=2020-04<br>number of cases=%{x}<extra></extra>",
           "ids": [
            "Gelderland"
           ],
           "legendgroup": "Gelderland",
           "marker": {
            "color": "#ab63fa",
            "pattern": {
             "shape": ""
            }
           },
           "name": "Gelderland",
           "offsetgroup": "Gelderland",
           "orientation": "h",
           "showlegend": true,
           "textposition": "auto",
           "type": "bar",
           "x": [
            3547
           ],
           "xaxis": "x",
           "y": [
            "Gelderland"
           ],
           "yaxis": "y"
          },
          {
           "alignmentgroup": "True",
           "hovertemplate": "province=%{y}<br>year_month=2020-04<br>number of cases=%{x}<extra></extra>",
           "ids": [
            "Groningen"
           ],
           "legendgroup": "Groningen",
           "marker": {
            "color": "#FFA15A",
            "pattern": {
             "shape": ""
            }
           },
           "name": "Groningen",
           "offsetgroup": "Groningen",
           "orientation": "h",
           "showlegend": true,
           "textposition": "auto",
           "type": "bar",
           "x": [
            172
           ],
           "xaxis": "x",
           "y": [
            "Groningen"
           ],
           "yaxis": "y"
          },
          {
           "alignmentgroup": "True",
           "hovertemplate": "province=%{y}<br>year_month=2020-04<br>number of cases=%{x}<extra></extra>",
           "ids": [
            "Noord-Brabant"
           ],
           "legendgroup": "Noord-Brabant",
           "marker": {
            "color": "#19d3f3",
            "pattern": {
             "shape": ""
            }
           },
           "name": "Noord-Brabant",
           "offsetgroup": "Noord-Brabant",
           "orientation": "h",
           "showlegend": true,
           "textposition": "auto",
           "type": "bar",
           "x": [
            4589
           ],
           "xaxis": "x",
           "y": [
            "Noord-Brabant"
           ],
           "yaxis": "y"
          },
          {
           "alignmentgroup": "True",
           "hovertemplate": "province=%{y}<br>year_month=2020-04<br>number of cases=%{x}<extra></extra>",
           "ids": [
            "Noord-Holland"
           ],
           "legendgroup": "Noord-Holland",
           "marker": {
            "color": "#FF6692",
            "pattern": {
             "shape": ""
            }
           },
           "name": "Noord-Holland",
           "offsetgroup": "Noord-Holland",
           "orientation": "h",
           "showlegend": true,
           "textposition": "auto",
           "type": "bar",
           "x": [
            3865
           ],
           "xaxis": "x",
           "y": [
            "Noord-Holland"
           ],
           "yaxis": "y"
          },
          {
           "alignmentgroup": "True",
           "hovertemplate": "province=%{y}<br>year_month=2020-04<br>number of cases=%{x}<extra></extra>",
           "ids": [
            "Overijssel"
           ],
           "legendgroup": "Overijssel",
           "marker": {
            "color": "#B6E880",
            "pattern": {
             "shape": ""
            }
           },
           "name": "Overijssel",
           "offsetgroup": "Overijssel",
           "orientation": "h",
           "showlegend": true,
           "textposition": "auto",
           "type": "bar",
           "x": [
            2001
           ],
           "xaxis": "x",
           "y": [
            "Overijssel"
           ],
           "yaxis": "y"
          },
          {
           "alignmentgroup": "True",
           "hovertemplate": "province=%{y}<br>year_month=2020-04<br>number of cases=%{x}<extra></extra>",
           "ids": [
            "Utrecht"
           ],
           "legendgroup": "Utrecht",
           "marker": {
            "color": "#FF97FF",
            "pattern": {
             "shape": ""
            }
           },
           "name": "Utrecht",
           "offsetgroup": "Utrecht",
           "orientation": "h",
           "showlegend": true,
           "textposition": "auto",
           "type": "bar",
           "x": [
            1778
           ],
           "xaxis": "x",
           "y": [
            "Utrecht"
           ],
           "yaxis": "y"
          },
          {
           "alignmentgroup": "True",
           "hovertemplate": "province=%{y}<br>year_month=2020-04<br>number of cases=%{x}<extra></extra>",
           "ids": [
            "Zeeland"
           ],
           "legendgroup": "Zeeland",
           "marker": {
            "color": "#FECB52",
            "pattern": {
             "shape": ""
            }
           },
           "name": "Zeeland",
           "offsetgroup": "Zeeland",
           "orientation": "h",
           "showlegend": true,
           "textposition": "auto",
           "type": "bar",
           "x": [
            420
           ],
           "xaxis": "x",
           "y": [
            "Zeeland"
           ],
           "yaxis": "y"
          },
          {
           "alignmentgroup": "True",
           "hovertemplate": "province=%{y}<br>year_month=2020-04<br>number of cases=%{x}<extra></extra>",
           "ids": [
            "Zuid-Holland"
           ],
           "legendgroup": "Zuid-Holland",
           "marker": {
            "color": "#636efa",
            "pattern": {
             "shape": ""
            }
           },
           "name": "Zuid-Holland",
           "offsetgroup": "Zuid-Holland",
           "orientation": "h",
           "showlegend": true,
           "textposition": "auto",
           "type": "bar",
           "x": [
            6140
           ],
           "xaxis": "x",
           "y": [
            "Zuid-Holland"
           ],
           "yaxis": "y"
          },
          {
           "alignmentgroup": "True",
           "hovertemplate": "province=%{y}<br>year_month=2020-04<br>number of cases=%{x}<extra></extra>",
           "ids": [
            "Zuid-Limburg"
           ],
           "legendgroup": "Zuid-Limburg",
           "marker": {
            "color": "#EF553B",
            "pattern": {
             "shape": ""
            }
           },
           "name": "Zuid-Limburg",
           "offsetgroup": "Zuid-Limburg",
           "orientation": "h",
           "showlegend": true,
           "textposition": "auto",
           "type": "bar",
           "x": [
            2681
           ],
           "xaxis": "x",
           "y": [
            "Zuid-Limburg"
           ],
           "yaxis": "y"
          }
         ],
         "name": "2020-04"
        },
        {
         "data": [
          {
           "alignmentgroup": "True",
           "hovertemplate": "province=%{y}<br>year_month=2020-05<br>number of cases=%{x}<extra></extra>",
           "ids": [
            "Drenthe"
           ],
           "legendgroup": "Drenthe",
           "marker": {
            "color": "#636efa",
            "pattern": {
             "shape": ""
            }
           },
           "name": "Drenthe",
           "offsetgroup": "Drenthe",
           "orientation": "h",
           "showlegend": true,
           "textposition": "auto",
           "type": "bar",
           "x": [
            38
           ],
           "xaxis": "x",
           "y": [
            "Drenthe"
           ],
           "yaxis": "y"
          },
          {
           "alignmentgroup": "True",
           "hovertemplate": "province=%{y}<br>year_month=2020-05<br>number of cases=%{x}<extra></extra>",
           "ids": [
            "Flevoland"
           ],
           "legendgroup": "Flevoland",
           "marker": {
            "color": "#EF553B",
            "pattern": {
             "shape": ""
            }
           },
           "name": "Flevoland",
           "offsetgroup": "Flevoland",
           "orientation": "h",
           "showlegend": true,
           "textposition": "auto",
           "type": "bar",
           "x": [
            194
           ],
           "xaxis": "x",
           "y": [
            "Flevoland"
           ],
           "yaxis": "y"
          },
          {
           "alignmentgroup": "True",
           "hovertemplate": "province=%{y}<br>year_month=2020-05<br>number of cases=%{x}<extra></extra>",
           "ids": [
            "Friesland"
           ],
           "legendgroup": "Friesland",
           "marker": {
            "color": "#00cc96",
            "pattern": {
             "shape": ""
            }
           },
           "name": "Friesland",
           "offsetgroup": "Friesland",
           "orientation": "h",
           "showlegend": true,
           "textposition": "auto",
           "type": "bar",
           "x": [
            79
           ],
           "xaxis": "x",
           "y": [
            "Friesland"
           ],
           "yaxis": "y"
          },
          {
           "alignmentgroup": "True",
           "hovertemplate": "province=%{y}<br>year_month=2020-05<br>number of cases=%{x}<extra></extra>",
           "ids": [
            "Gelderland"
           ],
           "legendgroup": "Gelderland",
           "marker": {
            "color": "#ab63fa",
            "pattern": {
             "shape": ""
            }
           },
           "name": "Gelderland",
           "offsetgroup": "Gelderland",
           "orientation": "h",
           "showlegend": true,
           "textposition": "auto",
           "type": "bar",
           "x": [
            953
           ],
           "xaxis": "x",
           "y": [
            "Gelderland"
           ],
           "yaxis": "y"
          },
          {
           "alignmentgroup": "True",
           "hovertemplate": "province=%{y}<br>year_month=2020-05<br>number of cases=%{x}<extra></extra>",
           "ids": [
            "Groningen"
           ],
           "legendgroup": "Groningen",
           "marker": {
            "color": "#FFA15A",
            "pattern": {
             "shape": ""
            }
           },
           "name": "Groningen",
           "offsetgroup": "Groningen",
           "orientation": "h",
           "showlegend": true,
           "textposition": "auto",
           "type": "bar",
           "x": [
            19
           ],
           "xaxis": "x",
           "y": [
            "Groningen"
           ],
           "yaxis": "y"
          },
          {
           "alignmentgroup": "True",
           "hovertemplate": "province=%{y}<br>year_month=2020-05<br>number of cases=%{x}<extra></extra>",
           "ids": [
            "Noord-Brabant"
           ],
           "legendgroup": "Noord-Brabant",
           "marker": {
            "color": "#19d3f3",
            "pattern": {
             "shape": ""
            }
           },
           "name": "Noord-Brabant",
           "offsetgroup": "Noord-Brabant",
           "orientation": "h",
           "showlegend": true,
           "textposition": "auto",
           "type": "bar",
           "x": [
            1039
           ],
           "xaxis": "x",
           "y": [
            "Noord-Brabant"
           ],
           "yaxis": "y"
          },
          {
           "alignmentgroup": "True",
           "hovertemplate": "province=%{y}<br>year_month=2020-05<br>number of cases=%{x}<extra></extra>",
           "ids": [
            "Noord-Holland"
           ],
           "legendgroup": "Noord-Holland",
           "marker": {
            "color": "#FF6692",
            "pattern": {
             "shape": ""
            }
           },
           "name": "Noord-Holland",
           "offsetgroup": "Noord-Holland",
           "orientation": "h",
           "showlegend": true,
           "textposition": "auto",
           "type": "bar",
           "x": [
            1020
           ],
           "xaxis": "x",
           "y": [
            "Noord-Holland"
           ],
           "yaxis": "y"
          },
          {
           "alignmentgroup": "True",
           "hovertemplate": "province=%{y}<br>year_month=2020-05<br>number of cases=%{x}<extra></extra>",
           "ids": [
            "Overijssel"
           ],
           "legendgroup": "Overijssel",
           "marker": {
            "color": "#B6E880",
            "pattern": {
             "shape": ""
            }
           },
           "name": "Overijssel",
           "offsetgroup": "Overijssel",
           "orientation": "h",
           "showlegend": true,
           "textposition": "auto",
           "type": "bar",
           "x": [
            294
           ],
           "xaxis": "x",
           "y": [
            "Overijssel"
           ],
           "yaxis": "y"
          },
          {
           "alignmentgroup": "True",
           "hovertemplate": "province=%{y}<br>year_month=2020-05<br>number of cases=%{x}<extra></extra>",
           "ids": [
            "Utrecht"
           ],
           "legendgroup": "Utrecht",
           "marker": {
            "color": "#FF97FF",
            "pattern": {
             "shape": ""
            }
           },
           "name": "Utrecht",
           "offsetgroup": "Utrecht",
           "orientation": "h",
           "showlegend": true,
           "textposition": "auto",
           "type": "bar",
           "x": [
            806
           ],
           "xaxis": "x",
           "y": [
            "Utrecht"
           ],
           "yaxis": "y"
          },
          {
           "alignmentgroup": "True",
           "hovertemplate": "province=%{y}<br>year_month=2020-05<br>number of cases=%{x}<extra></extra>",
           "ids": [
            "Zeeland"
           ],
           "legendgroup": "Zeeland",
           "marker": {
            "color": "#FECB52",
            "pattern": {
             "shape": ""
            }
           },
           "name": "Zeeland",
           "offsetgroup": "Zeeland",
           "orientation": "h",
           "showlegend": true,
           "textposition": "auto",
           "type": "bar",
           "x": [
            112
           ],
           "xaxis": "x",
           "y": [
            "Zeeland"
           ],
           "yaxis": "y"
          },
          {
           "alignmentgroup": "True",
           "hovertemplate": "province=%{y}<br>year_month=2020-05<br>number of cases=%{x}<extra></extra>",
           "ids": [
            "Zuid-Holland"
           ],
           "legendgroup": "Zuid-Holland",
           "marker": {
            "color": "#636efa",
            "pattern": {
             "shape": ""
            }
           },
           "name": "Zuid-Holland",
           "offsetgroup": "Zuid-Holland",
           "orientation": "h",
           "showlegend": true,
           "textposition": "auto",
           "type": "bar",
           "x": [
            1898
           ],
           "xaxis": "x",
           "y": [
            "Zuid-Holland"
           ],
           "yaxis": "y"
          },
          {
           "alignmentgroup": "True",
           "hovertemplate": "province=%{y}<br>year_month=2020-05<br>number of cases=%{x}<extra></extra>",
           "ids": [
            "Zuid-Limburg"
           ],
           "legendgroup": "Zuid-Limburg",
           "marker": {
            "color": "#EF553B",
            "pattern": {
             "shape": ""
            }
           },
           "name": "Zuid-Limburg",
           "offsetgroup": "Zuid-Limburg",
           "orientation": "h",
           "showlegend": true,
           "textposition": "auto",
           "type": "bar",
           "x": [
            595
           ],
           "xaxis": "x",
           "y": [
            "Zuid-Limburg"
           ],
           "yaxis": "y"
          }
         ],
         "name": "2020-05"
        },
        {
         "data": [
          {
           "alignmentgroup": "True",
           "hovertemplate": "province=%{y}<br>year_month=2020-06<br>number of cases=%{x}<extra></extra>",
           "ids": [
            "Drenthe"
           ],
           "legendgroup": "Drenthe",
           "marker": {
            "color": "#636efa",
            "pattern": {
             "shape": ""
            }
           },
           "name": "Drenthe",
           "offsetgroup": "Drenthe",
           "orientation": "h",
           "showlegend": true,
           "textposition": "auto",
           "type": "bar",
           "x": [
            22
           ],
           "xaxis": "x",
           "y": [
            "Drenthe"
           ],
           "yaxis": "y"
          },
          {
           "alignmentgroup": "True",
           "hovertemplate": "province=%{y}<br>year_month=2020-06<br>number of cases=%{x}<extra></extra>",
           "ids": [
            "Flevoland"
           ],
           "legendgroup": "Flevoland",
           "marker": {
            "color": "#EF553B",
            "pattern": {
             "shape": ""
            }
           },
           "name": "Flevoland",
           "offsetgroup": "Flevoland",
           "orientation": "h",
           "showlegend": true,
           "textposition": "auto",
           "type": "bar",
           "x": [
            58
           ],
           "xaxis": "x",
           "y": [
            "Flevoland"
           ],
           "yaxis": "y"
          },
          {
           "alignmentgroup": "True",
           "hovertemplate": "province=%{y}<br>year_month=2020-06<br>number of cases=%{x}<extra></extra>",
           "ids": [
            "Friesland"
           ],
           "legendgroup": "Friesland",
           "marker": {
            "color": "#00cc96",
            "pattern": {
             "shape": ""
            }
           },
           "name": "Friesland",
           "offsetgroup": "Friesland",
           "orientation": "h",
           "showlegend": true,
           "textposition": "auto",
           "type": "bar",
           "x": [
            23
           ],
           "xaxis": "x",
           "y": [
            "Friesland"
           ],
           "yaxis": "y"
          },
          {
           "alignmentgroup": "True",
           "hovertemplate": "province=%{y}<br>year_month=2020-06<br>number of cases=%{x}<extra></extra>",
           "ids": [
            "Gelderland"
           ],
           "legendgroup": "Gelderland",
           "marker": {
            "color": "#ab63fa",
            "pattern": {
             "shape": ""
            }
           },
           "name": "Gelderland",
           "offsetgroup": "Gelderland",
           "orientation": "h",
           "showlegend": true,
           "textposition": "auto",
           "type": "bar",
           "x": [
            517
           ],
           "xaxis": "x",
           "y": [
            "Gelderland"
           ],
           "yaxis": "y"
          },
          {
           "alignmentgroup": "True",
           "hovertemplate": "province=%{y}<br>year_month=2020-06<br>number of cases=%{x}<extra></extra>",
           "ids": [
            "Groningen"
           ],
           "legendgroup": "Groningen",
           "marker": {
            "color": "#FFA15A",
            "pattern": {
             "shape": ""
            }
           },
           "name": "Groningen",
           "offsetgroup": "Groningen",
           "orientation": "h",
           "showlegend": true,
           "textposition": "auto",
           "type": "bar",
           "x": [
            13
           ],
           "xaxis": "x",
           "y": [
            "Groningen"
           ],
           "yaxis": "y"
          },
          {
           "alignmentgroup": "True",
           "hovertemplate": "province=%{y}<br>year_month=2020-06<br>number of cases=%{x}<extra></extra>",
           "ids": [
            "Noord-Brabant"
           ],
           "legendgroup": "Noord-Brabant",
           "marker": {
            "color": "#19d3f3",
            "pattern": {
             "shape": ""
            }
           },
           "name": "Noord-Brabant",
           "offsetgroup": "Noord-Brabant",
           "orientation": "h",
           "showlegend": true,
           "textposition": "auto",
           "type": "bar",
           "x": [
            590
           ],
           "xaxis": "x",
           "y": [
            "Noord-Brabant"
           ],
           "yaxis": "y"
          },
          {
           "alignmentgroup": "True",
           "hovertemplate": "province=%{y}<br>year_month=2020-06<br>number of cases=%{x}<extra></extra>",
           "ids": [
            "Noord-Holland"
           ],
           "legendgroup": "Noord-Holland",
           "marker": {
            "color": "#FF6692",
            "pattern": {
             "shape": ""
            }
           },
           "name": "Noord-Holland",
           "offsetgroup": "Noord-Holland",
           "orientation": "h",
           "showlegend": true,
           "textposition": "auto",
           "type": "bar",
           "x": [
            544
           ],
           "xaxis": "x",
           "y": [
            "Noord-Holland"
           ],
           "yaxis": "y"
          },
          {
           "alignmentgroup": "True",
           "hovertemplate": "province=%{y}<br>year_month=2020-06<br>number of cases=%{x}<extra></extra>",
           "ids": [
            "Overijssel"
           ],
           "legendgroup": "Overijssel",
           "marker": {
            "color": "#B6E880",
            "pattern": {
             "shape": ""
            }
           },
           "name": "Overijssel",
           "offsetgroup": "Overijssel",
           "orientation": "h",
           "showlegend": true,
           "textposition": "auto",
           "type": "bar",
           "x": [
            117
           ],
           "xaxis": "x",
           "y": [
            "Overijssel"
           ],
           "yaxis": "y"
          },
          {
           "alignmentgroup": "True",
           "hovertemplate": "province=%{y}<br>year_month=2020-06<br>number of cases=%{x}<extra></extra>",
           "ids": [
            "Utrecht"
           ],
           "legendgroup": "Utrecht",
           "marker": {
            "color": "#FF97FF",
            "pattern": {
             "shape": ""
            }
           },
           "name": "Utrecht",
           "offsetgroup": "Utrecht",
           "orientation": "h",
           "showlegend": true,
           "textposition": "auto",
           "type": "bar",
           "x": [
            410
           ],
           "xaxis": "x",
           "y": [
            "Utrecht"
           ],
           "yaxis": "y"
          },
          {
           "alignmentgroup": "True",
           "hovertemplate": "province=%{y}<br>year_month=2020-06<br>number of cases=%{x}<extra></extra>",
           "ids": [
            "Zeeland"
           ],
           "legendgroup": "Zeeland",
           "marker": {
            "color": "#FECB52",
            "pattern": {
             "shape": ""
            }
           },
           "name": "Zeeland",
           "offsetgroup": "Zeeland",
           "orientation": "h",
           "showlegend": true,
           "textposition": "auto",
           "type": "bar",
           "x": [
            40
           ],
           "xaxis": "x",
           "y": [
            "Zeeland"
           ],
           "yaxis": "y"
          },
          {
           "alignmentgroup": "True",
           "hovertemplate": "province=%{y}<br>year_month=2020-06<br>number of cases=%{x}<extra></extra>",
           "ids": [
            "Zuid-Holland"
           ],
           "legendgroup": "Zuid-Holland",
           "marker": {
            "color": "#636efa",
            "pattern": {
             "shape": ""
            }
           },
           "name": "Zuid-Holland",
           "offsetgroup": "Zuid-Holland",
           "orientation": "h",
           "showlegend": true,
           "textposition": "auto",
           "type": "bar",
           "x": [
            1285
           ],
           "xaxis": "x",
           "y": [
            "Zuid-Holland"
           ],
           "yaxis": "y"
          },
          {
           "alignmentgroup": "True",
           "hovertemplate": "province=%{y}<br>year_month=2020-06<br>number of cases=%{x}<extra></extra>",
           "ids": [
            "Zuid-Limburg"
           ],
           "legendgroup": "Zuid-Limburg",
           "marker": {
            "color": "#EF553B",
            "pattern": {
             "shape": ""
            }
           },
           "name": "Zuid-Limburg",
           "offsetgroup": "Zuid-Limburg",
           "orientation": "h",
           "showlegend": true,
           "textposition": "auto",
           "type": "bar",
           "x": [
            185
           ],
           "xaxis": "x",
           "y": [
            "Zuid-Limburg"
           ],
           "yaxis": "y"
          }
         ],
         "name": "2020-06"
        },
        {
         "data": [
          {
           "alignmentgroup": "True",
           "hovertemplate": "province=%{y}<br>year_month=2020-07<br>number of cases=%{x}<extra></extra>",
           "ids": [
            "Drenthe"
           ],
           "legendgroup": "Drenthe",
           "marker": {
            "color": "#636efa",
            "pattern": {
             "shape": ""
            }
           },
           "name": "Drenthe",
           "offsetgroup": "Drenthe",
           "orientation": "h",
           "showlegend": true,
           "textposition": "auto",
           "type": "bar",
           "x": [
            18
           ],
           "xaxis": "x",
           "y": [
            "Drenthe"
           ],
           "yaxis": "y"
          },
          {
           "alignmentgroup": "True",
           "hovertemplate": "province=%{y}<br>year_month=2020-07<br>number of cases=%{x}<extra></extra>",
           "ids": [
            "Flevoland"
           ],
           "legendgroup": "Flevoland",
           "marker": {
            "color": "#EF553B",
            "pattern": {
             "shape": ""
            }
           },
           "name": "Flevoland",
           "offsetgroup": "Flevoland",
           "orientation": "h",
           "showlegend": true,
           "textposition": "auto",
           "type": "bar",
           "x": [
            23
           ],
           "xaxis": "x",
           "y": [
            "Flevoland"
           ],
           "yaxis": "y"
          },
          {
           "alignmentgroup": "True",
           "hovertemplate": "province=%{y}<br>year_month=2020-07<br>number of cases=%{x}<extra></extra>",
           "ids": [
            "Friesland"
           ],
           "legendgroup": "Friesland",
           "marker": {
            "color": "#00cc96",
            "pattern": {
             "shape": ""
            }
           },
           "name": "Friesland",
           "offsetgroup": "Friesland",
           "orientation": "h",
           "showlegend": true,
           "textposition": "auto",
           "type": "bar",
           "x": [
            21
           ],
           "xaxis": "x",
           "y": [
            "Friesland"
           ],
           "yaxis": "y"
          },
          {
           "alignmentgroup": "True",
           "hovertemplate": "province=%{y}<br>year_month=2020-07<br>number of cases=%{x}<extra></extra>",
           "ids": [
            "Gelderland"
           ],
           "legendgroup": "Gelderland",
           "marker": {
            "color": "#ab63fa",
            "pattern": {
             "shape": ""
            }
           },
           "name": "Gelderland",
           "offsetgroup": "Gelderland",
           "orientation": "h",
           "showlegend": true,
           "textposition": "auto",
           "type": "bar",
           "x": [
            148
           ],
           "xaxis": "x",
           "y": [
            "Gelderland"
           ],
           "yaxis": "y"
          },
          {
           "alignmentgroup": "True",
           "hovertemplate": "province=%{y}<br>year_month=2020-07<br>number of cases=%{x}<extra></extra>",
           "ids": [
            "Groningen"
           ],
           "legendgroup": "Groningen",
           "marker": {
            "color": "#FFA15A",
            "pattern": {
             "shape": ""
            }
           },
           "name": "Groningen",
           "offsetgroup": "Groningen",
           "orientation": "h",
           "showlegend": true,
           "textposition": "auto",
           "type": "bar",
           "x": [
            23
           ],
           "xaxis": "x",
           "y": [
            "Groningen"
           ],
           "yaxis": "y"
          },
          {
           "alignmentgroup": "True",
           "hovertemplate": "province=%{y}<br>year_month=2020-07<br>number of cases=%{x}<extra></extra>",
           "ids": [
            "Noord-Brabant"
           ],
           "legendgroup": "Noord-Brabant",
           "marker": {
            "color": "#19d3f3",
            "pattern": {
             "shape": ""
            }
           },
           "name": "Noord-Brabant",
           "offsetgroup": "Noord-Brabant",
           "orientation": "h",
           "showlegend": true,
           "textposition": "auto",
           "type": "bar",
           "x": [
            495
           ],
           "xaxis": "x",
           "y": [
            "Noord-Brabant"
           ],
           "yaxis": "y"
          },
          {
           "alignmentgroup": "True",
           "hovertemplate": "province=%{y}<br>year_month=2020-07<br>number of cases=%{x}<extra></extra>",
           "ids": [
            "Noord-Holland"
           ],
           "legendgroup": "Noord-Holland",
           "marker": {
            "color": "#FF6692",
            "pattern": {
             "shape": ""
            }
           },
           "name": "Noord-Holland",
           "offsetgroup": "Noord-Holland",
           "orientation": "h",
           "showlegend": true,
           "textposition": "auto",
           "type": "bar",
           "x": [
            859
           ],
           "xaxis": "x",
           "y": [
            "Noord-Holland"
           ],
           "yaxis": "y"
          },
          {
           "alignmentgroup": "True",
           "hovertemplate": "province=%{y}<br>year_month=2020-07<br>number of cases=%{x}<extra></extra>",
           "ids": [
            "Overijssel"
           ],
           "legendgroup": "Overijssel",
           "marker": {
            "color": "#B6E880",
            "pattern": {
             "shape": ""
            }
           },
           "name": "Overijssel",
           "offsetgroup": "Overijssel",
           "orientation": "h",
           "showlegend": true,
           "textposition": "auto",
           "type": "bar",
           "x": [
            79
           ],
           "xaxis": "x",
           "y": [
            "Overijssel"
           ],
           "yaxis": "y"
          },
          {
           "alignmentgroup": "True",
           "hovertemplate": "province=%{y}<br>year_month=2020-07<br>number of cases=%{x}<extra></extra>",
           "ids": [
            "Utrecht"
           ],
           "legendgroup": "Utrecht",
           "marker": {
            "color": "#FF97FF",
            "pattern": {
             "shape": ""
            }
           },
           "name": "Utrecht",
           "offsetgroup": "Utrecht",
           "orientation": "h",
           "showlegend": true,
           "textposition": "auto",
           "type": "bar",
           "x": [
            348
           ],
           "xaxis": "x",
           "y": [
            "Utrecht"
           ],
           "yaxis": "y"
          },
          {
           "alignmentgroup": "True",
           "hovertemplate": "province=%{y}<br>year_month=2020-07<br>number of cases=%{x}<extra></extra>",
           "ids": [
            "Zeeland"
           ],
           "legendgroup": "Zeeland",
           "marker": {
            "color": "#FECB52",
            "pattern": {
             "shape": ""
            }
           },
           "name": "Zeeland",
           "offsetgroup": "Zeeland",
           "orientation": "h",
           "showlegend": true,
           "textposition": "auto",
           "type": "bar",
           "x": [
            131
           ],
           "xaxis": "x",
           "y": [
            "Zeeland"
           ],
           "yaxis": "y"
          },
          {
           "alignmentgroup": "True",
           "hovertemplate": "province=%{y}<br>year_month=2020-07<br>number of cases=%{x}<extra></extra>",
           "ids": [
            "Zuid-Holland"
           ],
           "legendgroup": "Zuid-Holland",
           "marker": {
            "color": "#636efa",
            "pattern": {
             "shape": ""
            }
           },
           "name": "Zuid-Holland",
           "offsetgroup": "Zuid-Holland",
           "orientation": "h",
           "showlegend": true,
           "textposition": "auto",
           "type": "bar",
           "x": [
            1805
           ],
           "xaxis": "x",
           "y": [
            "Zuid-Holland"
           ],
           "yaxis": "y"
          },
          {
           "alignmentgroup": "True",
           "hovertemplate": "province=%{y}<br>year_month=2020-07<br>number of cases=%{x}<extra></extra>",
           "ids": [
            "Zuid-Limburg"
           ],
           "legendgroup": "Zuid-Limburg",
           "marker": {
            "color": "#EF553B",
            "pattern": {
             "shape": ""
            }
           },
           "name": "Zuid-Limburg",
           "offsetgroup": "Zuid-Limburg",
           "orientation": "h",
           "showlegend": true,
           "textposition": "auto",
           "type": "bar",
           "x": [
            60
           ],
           "xaxis": "x",
           "y": [
            "Zuid-Limburg"
           ],
           "yaxis": "y"
          }
         ],
         "name": "2020-07"
        },
        {
         "data": [
          {
           "alignmentgroup": "True",
           "hovertemplate": "province=%{y}<br>year_month=2020-08<br>number of cases=%{x}<extra></extra>",
           "ids": [
            "Drenthe"
           ],
           "legendgroup": "Drenthe",
           "marker": {
            "color": "#636efa",
            "pattern": {
             "shape": ""
            }
           },
           "name": "Drenthe",
           "offsetgroup": "Drenthe",
           "orientation": "h",
           "showlegend": true,
           "textposition": "auto",
           "type": "bar",
           "x": [
            59
           ],
           "xaxis": "x",
           "y": [
            "Drenthe"
           ],
           "yaxis": "y"
          },
          {
           "alignmentgroup": "True",
           "hovertemplate": "province=%{y}<br>year_month=2020-08<br>number of cases=%{x}<extra></extra>",
           "ids": [
            "Flevoland"
           ],
           "legendgroup": "Flevoland",
           "marker": {
            "color": "#EF553B",
            "pattern": {
             "shape": ""
            }
           },
           "name": "Flevoland",
           "offsetgroup": "Flevoland",
           "orientation": "h",
           "showlegend": true,
           "textposition": "auto",
           "type": "bar",
           "x": [
            311
           ],
           "xaxis": "x",
           "y": [
            "Flevoland"
           ],
           "yaxis": "y"
          },
          {
           "alignmentgroup": "True",
           "hovertemplate": "province=%{y}<br>year_month=2020-08<br>number of cases=%{x}<extra></extra>",
           "ids": [
            "Friesland"
           ],
           "legendgroup": "Friesland",
           "marker": {
            "color": "#00cc96",
            "pattern": {
             "shape": ""
            }
           },
           "name": "Friesland",
           "offsetgroup": "Friesland",
           "orientation": "h",
           "showlegend": true,
           "textposition": "auto",
           "type": "bar",
           "x": [
            172
           ],
           "xaxis": "x",
           "y": [
            "Friesland"
           ],
           "yaxis": "y"
          },
          {
           "alignmentgroup": "True",
           "hovertemplate": "province=%{y}<br>year_month=2020-08<br>number of cases=%{x}<extra></extra>",
           "ids": [
            "Gelderland"
           ],
           "legendgroup": "Gelderland",
           "marker": {
            "color": "#ab63fa",
            "pattern": {
             "shape": ""
            }
           },
           "name": "Gelderland",
           "offsetgroup": "Gelderland",
           "orientation": "h",
           "showlegend": true,
           "textposition": "auto",
           "type": "bar",
           "x": [
            831
           ],
           "xaxis": "x",
           "y": [
            "Gelderland"
           ],
           "yaxis": "y"
          },
          {
           "alignmentgroup": "True",
           "hovertemplate": "province=%{y}<br>year_month=2020-08<br>number of cases=%{x}<extra></extra>",
           "ids": [
            "Groningen"
           ],
           "legendgroup": "Groningen",
           "marker": {
            "color": "#FFA15A",
            "pattern": {
             "shape": ""
            }
           },
           "name": "Groningen",
           "offsetgroup": "Groningen",
           "orientation": "h",
           "showlegend": true,
           "textposition": "auto",
           "type": "bar",
           "x": [
            213
           ],
           "xaxis": "x",
           "y": [
            "Groningen"
           ],
           "yaxis": "y"
          },
          {
           "alignmentgroup": "True",
           "hovertemplate": "province=%{y}<br>year_month=2020-08<br>number of cases=%{x}<extra></extra>",
           "ids": [
            "Noord-Brabant"
           ],
           "legendgroup": "Noord-Brabant",
           "marker": {
            "color": "#19d3f3",
            "pattern": {
             "shape": ""
            }
           },
           "name": "Noord-Brabant",
           "offsetgroup": "Noord-Brabant",
           "orientation": "h",
           "showlegend": true,
           "textposition": "auto",
           "type": "bar",
           "x": [
            2127
           ],
           "xaxis": "x",
           "y": [
            "Noord-Brabant"
           ],
           "yaxis": "y"
          },
          {
           "alignmentgroup": "True",
           "hovertemplate": "province=%{y}<br>year_month=2020-08<br>number of cases=%{x}<extra></extra>",
           "ids": [
            "Noord-Holland"
           ],
           "legendgroup": "Noord-Holland",
           "marker": {
            "color": "#FF6692",
            "pattern": {
             "shape": ""
            }
           },
           "name": "Noord-Holland",
           "offsetgroup": "Noord-Holland",
           "orientation": "h",
           "showlegend": true,
           "textposition": "auto",
           "type": "bar",
           "x": [
            4326
           ],
           "xaxis": "x",
           "y": [
            "Noord-Holland"
           ],
           "yaxis": "y"
          },
          {
           "alignmentgroup": "True",
           "hovertemplate": "province=%{y}<br>year_month=2020-08<br>number of cases=%{x}<extra></extra>",
           "ids": [
            "Overijssel"
           ],
           "legendgroup": "Overijssel",
           "marker": {
            "color": "#B6E880",
            "pattern": {
             "shape": ""
            }
           },
           "name": "Overijssel",
           "offsetgroup": "Overijssel",
           "orientation": "h",
           "showlegend": true,
           "textposition": "auto",
           "type": "bar",
           "x": [
            325
           ],
           "xaxis": "x",
           "y": [
            "Overijssel"
           ],
           "yaxis": "y"
          },
          {
           "alignmentgroup": "True",
           "hovertemplate": "province=%{y}<br>year_month=2020-08<br>number of cases=%{x}<extra></extra>",
           "ids": [
            "Utrecht"
           ],
           "legendgroup": "Utrecht",
           "marker": {
            "color": "#FF97FF",
            "pattern": {
             "shape": ""
            }
           },
           "name": "Utrecht",
           "offsetgroup": "Utrecht",
           "orientation": "h",
           "showlegend": true,
           "textposition": "auto",
           "type": "bar",
           "x": [
            1121
           ],
           "xaxis": "x",
           "y": [
            "Utrecht"
           ],
           "yaxis": "y"
          },
          {
           "alignmentgroup": "True",
           "hovertemplate": "province=%{y}<br>year_month=2020-08<br>number of cases=%{x}<extra></extra>",
           "ids": [
            "Zeeland"
           ],
           "legendgroup": "Zeeland",
           "marker": {
            "color": "#FECB52",
            "pattern": {
             "shape": ""
            }
           },
           "name": "Zeeland",
           "offsetgroup": "Zeeland",
           "orientation": "h",
           "showlegend": true,
           "textposition": "auto",
           "type": "bar",
           "x": [
            191
           ],
           "xaxis": "x",
           "y": [
            "Zeeland"
           ],
           "yaxis": "y"
          },
          {
           "alignmentgroup": "True",
           "hovertemplate": "province=%{y}<br>year_month=2020-08<br>number of cases=%{x}<extra></extra>",
           "ids": [
            "Zuid-Holland"
           ],
           "legendgroup": "Zuid-Holland",
           "marker": {
            "color": "#636efa",
            "pattern": {
             "shape": ""
            }
           },
           "name": "Zuid-Holland",
           "offsetgroup": "Zuid-Holland",
           "orientation": "h",
           "showlegend": true,
           "textposition": "auto",
           "type": "bar",
           "x": [
            6085
           ],
           "xaxis": "x",
           "y": [
            "Zuid-Holland"
           ],
           "yaxis": "y"
          },
          {
           "alignmentgroup": "True",
           "hovertemplate": "province=%{y}<br>year_month=2020-08<br>number of cases=%{x}<extra></extra>",
           "ids": [
            "Zuid-Limburg"
           ],
           "legendgroup": "Zuid-Limburg",
           "marker": {
            "color": "#EF553B",
            "pattern": {
             "shape": ""
            }
           },
           "name": "Zuid-Limburg",
           "offsetgroup": "Zuid-Limburg",
           "orientation": "h",
           "showlegend": true,
           "textposition": "auto",
           "type": "bar",
           "x": [
            501
           ],
           "xaxis": "x",
           "y": [
            "Zuid-Limburg"
           ],
           "yaxis": "y"
          }
         ],
         "name": "2020-08"
        },
        {
         "data": [
          {
           "alignmentgroup": "True",
           "hovertemplate": "province=%{y}<br>year_month=2020-09<br>number of cases=%{x}<extra></extra>",
           "ids": [
            "Drenthe"
           ],
           "legendgroup": "Drenthe",
           "marker": {
            "color": "#636efa",
            "pattern": {
             "shape": ""
            }
           },
           "name": "Drenthe",
           "offsetgroup": "Drenthe",
           "orientation": "h",
           "showlegend": true,
           "textposition": "auto",
           "type": "bar",
           "x": [
            591
           ],
           "xaxis": "x",
           "y": [
            "Drenthe"
           ],
           "yaxis": "y"
          },
          {
           "alignmentgroup": "True",
           "hovertemplate": "province=%{y}<br>year_month=2020-09<br>number of cases=%{x}<extra></extra>",
           "ids": [
            "Flevoland"
           ],
           "legendgroup": "Flevoland",
           "marker": {
            "color": "#EF553B",
            "pattern": {
             "shape": ""
            }
           },
           "name": "Flevoland",
           "offsetgroup": "Flevoland",
           "orientation": "h",
           "showlegend": true,
           "textposition": "auto",
           "type": "bar",
           "x": [
            929
           ],
           "xaxis": "x",
           "y": [
            "Flevoland"
           ],
           "yaxis": "y"
          },
          {
           "alignmentgroup": "True",
           "hovertemplate": "province=%{y}<br>year_month=2020-09<br>number of cases=%{x}<extra></extra>",
           "ids": [
            "Friesland"
           ],
           "legendgroup": "Friesland",
           "marker": {
            "color": "#00cc96",
            "pattern": {
             "shape": ""
            }
           },
           "name": "Friesland",
           "offsetgroup": "Friesland",
           "orientation": "h",
           "showlegend": true,
           "textposition": "auto",
           "type": "bar",
           "x": [
            769
           ],
           "xaxis": "x",
           "y": [
            "Friesland"
           ],
           "yaxis": "y"
          },
          {
           "alignmentgroup": "True",
           "hovertemplate": "province=%{y}<br>year_month=2020-09<br>number of cases=%{x}<extra></extra>",
           "ids": [
            "Gelderland"
           ],
           "legendgroup": "Gelderland",
           "marker": {
            "color": "#ab63fa",
            "pattern": {
             "shape": ""
            }
           },
           "name": "Gelderland",
           "offsetgroup": "Gelderland",
           "orientation": "h",
           "showlegend": true,
           "textposition": "auto",
           "type": "bar",
           "x": [
            4290
           ],
           "xaxis": "x",
           "y": [
            "Gelderland"
           ],
           "yaxis": "y"
          },
          {
           "alignmentgroup": "True",
           "hovertemplate": "province=%{y}<br>year_month=2020-09<br>number of cases=%{x}<extra></extra>",
           "ids": [
            "Groningen"
           ],
           "legendgroup": "Groningen",
           "marker": {
            "color": "#FFA15A",
            "pattern": {
             "shape": ""
            }
           },
           "name": "Groningen",
           "offsetgroup": "Groningen",
           "orientation": "h",
           "showlegend": true,
           "textposition": "auto",
           "type": "bar",
           "x": [
            1204
           ],
           "xaxis": "x",
           "y": [
            "Groningen"
           ],
           "yaxis": "y"
          },
          {
           "alignmentgroup": "True",
           "hovertemplate": "province=%{y}<br>year_month=2020-09<br>number of cases=%{x}<extra></extra>",
           "ids": [
            "Noord-Brabant"
           ],
           "legendgroup": "Noord-Brabant",
           "marker": {
            "color": "#19d3f3",
            "pattern": {
             "shape": ""
            }
           },
           "name": "Noord-Brabant",
           "offsetgroup": "Noord-Brabant",
           "orientation": "h",
           "showlegend": true,
           "textposition": "auto",
           "type": "bar",
           "x": [
            5327
           ],
           "xaxis": "x",
           "y": [
            "Noord-Brabant"
           ],
           "yaxis": "y"
          },
          {
           "alignmentgroup": "True",
           "hovertemplate": "province=%{y}<br>year_month=2020-09<br>number of cases=%{x}<extra></extra>",
           "ids": [
            "Noord-Holland"
           ],
           "legendgroup": "Noord-Holland",
           "marker": {
            "color": "#FF6692",
            "pattern": {
             "shape": ""
            }
           },
           "name": "Noord-Holland",
           "offsetgroup": "Noord-Holland",
           "orientation": "h",
           "showlegend": true,
           "textposition": "auto",
           "type": "bar",
           "x": [
            12387
           ],
           "xaxis": "x",
           "y": [
            "Noord-Holland"
           ],
           "yaxis": "y"
          },
          {
           "alignmentgroup": "True",
           "hovertemplate": "province=%{y}<br>year_month=2020-09<br>number of cases=%{x}<extra></extra>",
           "ids": [
            "Overijssel"
           ],
           "legendgroup": "Overijssel",
           "marker": {
            "color": "#B6E880",
            "pattern": {
             "shape": ""
            }
           },
           "name": "Overijssel",
           "offsetgroup": "Overijssel",
           "orientation": "h",
           "showlegend": true,
           "textposition": "auto",
           "type": "bar",
           "x": [
            1563
           ],
           "xaxis": "x",
           "y": [
            "Overijssel"
           ],
           "yaxis": "y"
          },
          {
           "alignmentgroup": "True",
           "hovertemplate": "province=%{y}<br>year_month=2020-09<br>number of cases=%{x}<extra></extra>",
           "ids": [
            "Utrecht"
           ],
           "legendgroup": "Utrecht",
           "marker": {
            "color": "#FF97FF",
            "pattern": {
             "shape": ""
            }
           },
           "name": "Utrecht",
           "offsetgroup": "Utrecht",
           "orientation": "h",
           "showlegend": true,
           "textposition": "auto",
           "type": "bar",
           "x": [
            4128
           ],
           "xaxis": "x",
           "y": [
            "Utrecht"
           ],
           "yaxis": "y"
          },
          {
           "alignmentgroup": "True",
           "hovertemplate": "province=%{y}<br>year_month=2020-09<br>number of cases=%{x}<extra></extra>",
           "ids": [
            "Zeeland"
           ],
           "legendgroup": "Zeeland",
           "marker": {
            "color": "#FECB52",
            "pattern": {
             "shape": ""
            }
           },
           "name": "Zeeland",
           "offsetgroup": "Zeeland",
           "orientation": "h",
           "showlegend": true,
           "textposition": "auto",
           "type": "bar",
           "x": [
            323
           ],
           "xaxis": "x",
           "y": [
            "Zeeland"
           ],
           "yaxis": "y"
          },
          {
           "alignmentgroup": "True",
           "hovertemplate": "province=%{y}<br>year_month=2020-09<br>number of cases=%{x}<extra></extra>",
           "ids": [
            "Zuid-Holland"
           ],
           "legendgroup": "Zuid-Holland",
           "marker": {
            "color": "#636efa",
            "pattern": {
             "shape": ""
            }
           },
           "name": "Zuid-Holland",
           "offsetgroup": "Zuid-Holland",
           "orientation": "h",
           "showlegend": true,
           "textposition": "auto",
           "type": "bar",
           "x": [
            16982
           ],
           "xaxis": "x",
           "y": [
            "Zuid-Holland"
           ],
           "yaxis": "y"
          },
          {
           "alignmentgroup": "True",
           "hovertemplate": "province=%{y}<br>year_month=2020-09<br>number of cases=%{x}<extra></extra>",
           "ids": [
            "Zuid-Limburg"
           ],
           "legendgroup": "Zuid-Limburg",
           "marker": {
            "color": "#EF553B",
            "pattern": {
             "shape": ""
            }
           },
           "name": "Zuid-Limburg",
           "offsetgroup": "Zuid-Limburg",
           "orientation": "h",
           "showlegend": true,
           "textposition": "auto",
           "type": "bar",
           "x": [
            1275
           ],
           "xaxis": "x",
           "y": [
            "Zuid-Limburg"
           ],
           "yaxis": "y"
          }
         ],
         "name": "2020-09"
        },
        {
         "data": [
          {
           "alignmentgroup": "True",
           "hovertemplate": "province=%{y}<br>year_month=2020-10<br>number of cases=%{x}<extra></extra>",
           "ids": [
            "Drenthe"
           ],
           "legendgroup": "Drenthe",
           "marker": {
            "color": "#636efa",
            "pattern": {
             "shape": ""
            }
           },
           "name": "Drenthe",
           "offsetgroup": "Drenthe",
           "orientation": "h",
           "showlegend": true,
           "textposition": "auto",
           "type": "bar",
           "x": [
            3940
           ],
           "xaxis": "x",
           "y": [
            "Drenthe"
           ],
           "yaxis": "y"
          },
          {
           "alignmentgroup": "True",
           "hovertemplate": "province=%{y}<br>year_month=2020-10<br>number of cases=%{x}<extra></extra>",
           "ids": [
            "Flevoland"
           ],
           "legendgroup": "Flevoland",
           "marker": {
            "color": "#EF553B",
            "pattern": {
             "shape": ""
            }
           },
           "name": "Flevoland",
           "offsetgroup": "Flevoland",
           "orientation": "h",
           "showlegend": true,
           "textposition": "auto",
           "type": "bar",
           "x": [
            4150
           ],
           "xaxis": "x",
           "y": [
            "Flevoland"
           ],
           "yaxis": "y"
          },
          {
           "alignmentgroup": "True",
           "hovertemplate": "province=%{y}<br>year_month=2020-10<br>number of cases=%{x}<extra></extra>",
           "ids": [
            "Friesland"
           ],
           "legendgroup": "Friesland",
           "marker": {
            "color": "#00cc96",
            "pattern": {
             "shape": ""
            }
           },
           "name": "Friesland",
           "offsetgroup": "Friesland",
           "orientation": "h",
           "showlegend": true,
           "textposition": "auto",
           "type": "bar",
           "x": [
            4170
           ],
           "xaxis": "x",
           "y": [
            "Friesland"
           ],
           "yaxis": "y"
          },
          {
           "alignmentgroup": "True",
           "hovertemplate": "province=%{y}<br>year_month=2020-10<br>number of cases=%{x}<extra></extra>",
           "ids": [
            "Gelderland"
           ],
           "legendgroup": "Gelderland",
           "marker": {
            "color": "#ab63fa",
            "pattern": {
             "shape": ""
            }
           },
           "name": "Gelderland",
           "offsetgroup": "Gelderland",
           "orientation": "h",
           "showlegend": true,
           "textposition": "auto",
           "type": "bar",
           "x": [
            21803
           ],
           "xaxis": "x",
           "y": [
            "Gelderland"
           ],
           "yaxis": "y"
          },
          {
           "alignmentgroup": "True",
           "hovertemplate": "province=%{y}<br>year_month=2020-10<br>number of cases=%{x}<extra></extra>",
           "ids": [
            "Groningen"
           ],
           "legendgroup": "Groningen",
           "marker": {
            "color": "#FFA15A",
            "pattern": {
             "shape": ""
            }
           },
           "name": "Groningen",
           "offsetgroup": "Groningen",
           "orientation": "h",
           "showlegend": true,
           "textposition": "auto",
           "type": "bar",
           "x": [
            4218
           ],
           "xaxis": "x",
           "y": [
            "Groningen"
           ],
           "yaxis": "y"
          },
          {
           "alignmentgroup": "True",
           "hovertemplate": "province=%{y}<br>year_month=2020-10<br>number of cases=%{x}<extra></extra>",
           "ids": [
            "Noord-Brabant"
           ],
           "legendgroup": "Noord-Brabant",
           "marker": {
            "color": "#19d3f3",
            "pattern": {
             "shape": ""
            }
           },
           "name": "Noord-Brabant",
           "offsetgroup": "Noord-Brabant",
           "orientation": "h",
           "showlegend": true,
           "textposition": "auto",
           "type": "bar",
           "x": [
            35347
           ],
           "xaxis": "x",
           "y": [
            "Noord-Brabant"
           ],
           "yaxis": "y"
          },
          {
           "alignmentgroup": "True",
           "hovertemplate": "province=%{y}<br>year_month=2020-10<br>number of cases=%{x}<extra></extra>",
           "ids": [
            "Noord-Holland"
           ],
           "legendgroup": "Noord-Holland",
           "marker": {
            "color": "#FF6692",
            "pattern": {
             "shape": ""
            }
           },
           "name": "Noord-Holland",
           "offsetgroup": "Noord-Holland",
           "orientation": "h",
           "showlegend": true,
           "textposition": "auto",
           "type": "bar",
           "x": [
            42168
           ],
           "xaxis": "x",
           "y": [
            "Noord-Holland"
           ],
           "yaxis": "y"
          },
          {
           "alignmentgroup": "True",
           "hovertemplate": "province=%{y}<br>year_month=2020-10<br>number of cases=%{x}<extra></extra>",
           "ids": [
            "Overijssel"
           ],
           "legendgroup": "Overijssel",
           "marker": {
            "color": "#B6E880",
            "pattern": {
             "shape": ""
            }
           },
           "name": "Overijssel",
           "offsetgroup": "Overijssel",
           "orientation": "h",
           "showlegend": true,
           "textposition": "auto",
           "type": "bar",
           "x": [
            14585
           ],
           "xaxis": "x",
           "y": [
            "Overijssel"
           ],
           "yaxis": "y"
          },
          {
           "alignmentgroup": "True",
           "hovertemplate": "province=%{y}<br>year_month=2020-10<br>number of cases=%{x}<extra></extra>",
           "ids": [
            "Utrecht"
           ],
           "legendgroup": "Utrecht",
           "marker": {
            "color": "#FF97FF",
            "pattern": {
             "shape": ""
            }
           },
           "name": "Utrecht",
           "offsetgroup": "Utrecht",
           "orientation": "h",
           "showlegend": true,
           "textposition": "auto",
           "type": "bar",
           "x": [
            21129
           ],
           "xaxis": "x",
           "y": [
            "Utrecht"
           ],
           "yaxis": "y"
          },
          {
           "alignmentgroup": "True",
           "hovertemplate": "province=%{y}<br>year_month=2020-10<br>number of cases=%{x}<extra></extra>",
           "ids": [
            "Zeeland"
           ],
           "legendgroup": "Zeeland",
           "marker": {
            "color": "#FECB52",
            "pattern": {
             "shape": ""
            }
           },
           "name": "Zeeland",
           "offsetgroup": "Zeeland",
           "orientation": "h",
           "showlegend": true,
           "textposition": "auto",
           "type": "bar",
           "x": [
            2114
           ],
           "xaxis": "x",
           "y": [
            "Zeeland"
           ],
           "yaxis": "y"
          },
          {
           "alignmentgroup": "True",
           "hovertemplate": "province=%{y}<br>year_month=2020-10<br>number of cases=%{x}<extra></extra>",
           "ids": [
            "Zuid-Holland"
           ],
           "legendgroup": "Zuid-Holland",
           "marker": {
            "color": "#636efa",
            "pattern": {
             "shape": ""
            }
           },
           "name": "Zuid-Holland",
           "offsetgroup": "Zuid-Holland",
           "orientation": "h",
           "showlegend": true,
           "textposition": "auto",
           "type": "bar",
           "x": [
            66440
           ],
           "xaxis": "x",
           "y": [
            "Zuid-Holland"
           ],
           "yaxis": "y"
          },
          {
           "alignmentgroup": "True",
           "hovertemplate": "province=%{y}<br>year_month=2020-10<br>number of cases=%{x}<extra></extra>",
           "ids": [
            "Zuid-Limburg"
           ],
           "legendgroup": "Zuid-Limburg",
           "marker": {
            "color": "#EF553B",
            "pattern": {
             "shape": ""
            }
           },
           "name": "Zuid-Limburg",
           "offsetgroup": "Zuid-Limburg",
           "orientation": "h",
           "showlegend": true,
           "textposition": "auto",
           "type": "bar",
           "x": [
            8911
           ],
           "xaxis": "x",
           "y": [
            "Zuid-Limburg"
           ],
           "yaxis": "y"
          }
         ],
         "name": "2020-10"
        },
        {
         "data": [
          {
           "alignmentgroup": "True",
           "hovertemplate": "province=%{y}<br>year_month=2020-11<br>number of cases=%{x}<extra></extra>",
           "ids": [
            "Drenthe"
           ],
           "legendgroup": "Drenthe",
           "marker": {
            "color": "#636efa",
            "pattern": {
             "shape": ""
            }
           },
           "name": "Drenthe",
           "offsetgroup": "Drenthe",
           "orientation": "h",
           "showlegend": true,
           "textposition": "auto",
           "type": "bar",
           "x": [
            2666
           ],
           "xaxis": "x",
           "y": [
            "Drenthe"
           ],
           "yaxis": "y"
          },
          {
           "alignmentgroup": "True",
           "hovertemplate": "province=%{y}<br>year_month=2020-11<br>number of cases=%{x}<extra></extra>",
           "ids": [
            "Flevoland"
           ],
           "legendgroup": "Flevoland",
           "marker": {
            "color": "#EF553B",
            "pattern": {
             "shape": ""
            }
           },
           "name": "Flevoland",
           "offsetgroup": "Flevoland",
           "orientation": "h",
           "showlegend": true,
           "textposition": "auto",
           "type": "bar",
           "x": [
            4755
           ],
           "xaxis": "x",
           "y": [
            "Flevoland"
           ],
           "yaxis": "y"
          },
          {
           "alignmentgroup": "True",
           "hovertemplate": "province=%{y}<br>year_month=2020-11<br>number of cases=%{x}<extra></extra>",
           "ids": [
            "Friesland"
           ],
           "legendgroup": "Friesland",
           "marker": {
            "color": "#00cc96",
            "pattern": {
             "shape": ""
            }
           },
           "name": "Friesland",
           "offsetgroup": "Friesland",
           "orientation": "h",
           "showlegend": true,
           "textposition": "auto",
           "type": "bar",
           "x": [
            2928
           ],
           "xaxis": "x",
           "y": [
            "Friesland"
           ],
           "yaxis": "y"
          },
          {
           "alignmentgroup": "True",
           "hovertemplate": "province=%{y}<br>year_month=2020-11<br>number of cases=%{x}<extra></extra>",
           "ids": [
            "Gelderland"
           ],
           "legendgroup": "Gelderland",
           "marker": {
            "color": "#ab63fa",
            "pattern": {
             "shape": ""
            }
           },
           "name": "Gelderland",
           "offsetgroup": "Gelderland",
           "orientation": "h",
           "showlegend": true,
           "textposition": "auto",
           "type": "bar",
           "x": [
            18644
           ],
           "xaxis": "x",
           "y": [
            "Gelderland"
           ],
           "yaxis": "y"
          },
          {
           "alignmentgroup": "True",
           "hovertemplate": "province=%{y}<br>year_month=2020-11<br>number of cases=%{x}<extra></extra>",
           "ids": [
            "Groningen"
           ],
           "legendgroup": "Groningen",
           "marker": {
            "color": "#FFA15A",
            "pattern": {
             "shape": ""
            }
           },
           "name": "Groningen",
           "offsetgroup": "Groningen",
           "orientation": "h",
           "showlegend": true,
           "textposition": "auto",
           "type": "bar",
           "x": [
            2496
           ],
           "xaxis": "x",
           "y": [
            "Groningen"
           ],
           "yaxis": "y"
          },
          {
           "alignmentgroup": "True",
           "hovertemplate": "province=%{y}<br>year_month=2020-11<br>number of cases=%{x}<extra></extra>",
           "ids": [
            "Noord-Brabant"
           ],
           "legendgroup": "Noord-Brabant",
           "marker": {
            "color": "#19d3f3",
            "pattern": {
             "shape": ""
            }
           },
           "name": "Noord-Brabant",
           "offsetgroup": "Noord-Brabant",
           "orientation": "h",
           "showlegend": true,
           "textposition": "auto",
           "type": "bar",
           "x": [
            30182
           ],
           "xaxis": "x",
           "y": [
            "Noord-Brabant"
           ],
           "yaxis": "y"
          },
          {
           "alignmentgroup": "True",
           "hovertemplate": "province=%{y}<br>year_month=2020-11<br>number of cases=%{x}<extra></extra>",
           "ids": [
            "Noord-Holland"
           ],
           "legendgroup": "Noord-Holland",
           "marker": {
            "color": "#FF6692",
            "pattern": {
             "shape": ""
            }
           },
           "name": "Noord-Holland",
           "offsetgroup": "Noord-Holland",
           "orientation": "h",
           "showlegend": true,
           "textposition": "auto",
           "type": "bar",
           "x": [
            27453
           ],
           "xaxis": "x",
           "y": [
            "Noord-Holland"
           ],
           "yaxis": "y"
          },
          {
           "alignmentgroup": "True",
           "hovertemplate": "province=%{y}<br>year_month=2020-11<br>number of cases=%{x}<extra></extra>",
           "ids": [
            "Overijssel"
           ],
           "legendgroup": "Overijssel",
           "marker": {
            "color": "#B6E880",
            "pattern": {
             "shape": ""
            }
           },
           "name": "Overijssel",
           "offsetgroup": "Overijssel",
           "orientation": "h",
           "showlegend": true,
           "textposition": "auto",
           "type": "bar",
           "x": [
            12002
           ],
           "xaxis": "x",
           "y": [
            "Overijssel"
           ],
           "yaxis": "y"
          },
          {
           "alignmentgroup": "True",
           "hovertemplate": "province=%{y}<br>year_month=2020-11<br>number of cases=%{x}<extra></extra>",
           "ids": [
            "Utrecht"
           ],
           "legendgroup": "Utrecht",
           "marker": {
            "color": "#FF97FF",
            "pattern": {
             "shape": ""
            }
           },
           "name": "Utrecht",
           "offsetgroup": "Utrecht",
           "orientation": "h",
           "showlegend": true,
           "textposition": "auto",
           "type": "bar",
           "x": [
            13382
           ],
           "xaxis": "x",
           "y": [
            "Utrecht"
           ],
           "yaxis": "y"
          },
          {
           "alignmentgroup": "True",
           "hovertemplate": "province=%{y}<br>year_month=2020-11<br>number of cases=%{x}<extra></extra>",
           "ids": [
            "Zeeland"
           ],
           "legendgroup": "Zeeland",
           "marker": {
            "color": "#FECB52",
            "pattern": {
             "shape": ""
            }
           },
           "name": "Zeeland",
           "offsetgroup": "Zeeland",
           "orientation": "h",
           "showlegend": true,
           "textposition": "auto",
           "type": "bar",
           "x": [
            2775
           ],
           "xaxis": "x",
           "y": [
            "Zeeland"
           ],
           "yaxis": "y"
          },
          {
           "alignmentgroup": "True",
           "hovertemplate": "province=%{y}<br>year_month=2020-11<br>number of cases=%{x}<extra></extra>",
           "ids": [
            "Zuid-Holland"
           ],
           "legendgroup": "Zuid-Holland",
           "marker": {
            "color": "#636efa",
            "pattern": {
             "shape": ""
            }
           },
           "name": "Zuid-Holland",
           "offsetgroup": "Zuid-Holland",
           "orientation": "h",
           "showlegend": true,
           "textposition": "auto",
           "type": "bar",
           "x": [
            44903
           ],
           "xaxis": "x",
           "y": [
            "Zuid-Holland"
           ],
           "yaxis": "y"
          },
          {
           "alignmentgroup": "True",
           "hovertemplate": "province=%{y}<br>year_month=2020-11<br>number of cases=%{x}<extra></extra>",
           "ids": [
            "Zuid-Limburg"
           ],
           "legendgroup": "Zuid-Limburg",
           "marker": {
            "color": "#EF553B",
            "pattern": {
             "shape": ""
            }
           },
           "name": "Zuid-Limburg",
           "offsetgroup": "Zuid-Limburg",
           "orientation": "h",
           "showlegend": true,
           "textposition": "auto",
           "type": "bar",
           "x": [
            9513
           ],
           "xaxis": "x",
           "y": [
            "Zuid-Limburg"
           ],
           "yaxis": "y"
          }
         ],
         "name": "2020-11"
        },
        {
         "data": [
          {
           "alignmentgroup": "True",
           "hovertemplate": "province=%{y}<br>year_month=2020-12<br>number of cases=%{x}<extra></extra>",
           "ids": [
            "Drenthe"
           ],
           "legendgroup": "Drenthe",
           "marker": {
            "color": "#636efa",
            "pattern": {
             "shape": ""
            }
           },
           "name": "Drenthe",
           "offsetgroup": "Drenthe",
           "orientation": "h",
           "showlegend": true,
           "textposition": "auto",
           "type": "bar",
           "x": [
            5675
           ],
           "xaxis": "x",
           "y": [
            "Drenthe"
           ],
           "yaxis": "y"
          },
          {
           "alignmentgroup": "True",
           "hovertemplate": "province=%{y}<br>year_month=2020-12<br>number of cases=%{x}<extra></extra>",
           "ids": [
            "Flevoland"
           ],
           "legendgroup": "Flevoland",
           "marker": {
            "color": "#EF553B",
            "pattern": {
             "shape": ""
            }
           },
           "name": "Flevoland",
           "offsetgroup": "Flevoland",
           "orientation": "h",
           "showlegend": true,
           "textposition": "auto",
           "type": "bar",
           "x": [
            8386
           ],
           "xaxis": "x",
           "y": [
            "Flevoland"
           ],
           "yaxis": "y"
          },
          {
           "alignmentgroup": "True",
           "hovertemplate": "province=%{y}<br>year_month=2020-12<br>number of cases=%{x}<extra></extra>",
           "ids": [
            "Friesland"
           ],
           "legendgroup": "Friesland",
           "marker": {
            "color": "#00cc96",
            "pattern": {
             "shape": ""
            }
           },
           "name": "Friesland",
           "offsetgroup": "Friesland",
           "orientation": "h",
           "showlegend": true,
           "textposition": "auto",
           "type": "bar",
           "x": [
            6085
           ],
           "xaxis": "x",
           "y": [
            "Friesland"
           ],
           "yaxis": "y"
          },
          {
           "alignmentgroup": "True",
           "hovertemplate": "province=%{y}<br>year_month=2020-12<br>number of cases=%{x}<extra></extra>",
           "ids": [
            "Gelderland"
           ],
           "legendgroup": "Gelderland",
           "marker": {
            "color": "#ab63fa",
            "pattern": {
             "shape": ""
            }
           },
           "name": "Gelderland",
           "offsetgroup": "Gelderland",
           "orientation": "h",
           "showlegend": true,
           "textposition": "auto",
           "type": "bar",
           "x": [
            36064
           ],
           "xaxis": "x",
           "y": [
            "Gelderland"
           ],
           "yaxis": "y"
          },
          {
           "alignmentgroup": "True",
           "hovertemplate": "province=%{y}<br>year_month=2020-12<br>number of cases=%{x}<extra></extra>",
           "ids": [
            "Groningen"
           ],
           "legendgroup": "Groningen",
           "marker": {
            "color": "#FFA15A",
            "pattern": {
             "shape": ""
            }
           },
           "name": "Groningen",
           "offsetgroup": "Groningen",
           "orientation": "h",
           "showlegend": true,
           "textposition": "auto",
           "type": "bar",
           "x": [
            6506
           ],
           "xaxis": "x",
           "y": [
            "Groningen"
           ],
           "yaxis": "y"
          },
          {
           "alignmentgroup": "True",
           "hovertemplate": "province=%{y}<br>year_month=2020-12<br>number of cases=%{x}<extra></extra>",
           "ids": [
            "Noord-Brabant"
           ],
           "legendgroup": "Noord-Brabant",
           "marker": {
            "color": "#19d3f3",
            "pattern": {
             "shape": ""
            }
           },
           "name": "Noord-Brabant",
           "offsetgroup": "Noord-Brabant",
           "orientation": "h",
           "showlegend": true,
           "textposition": "auto",
           "type": "bar",
           "x": [
            41552
           ],
           "xaxis": "x",
           "y": [
            "Noord-Brabant"
           ],
           "yaxis": "y"
          },
          {
           "alignmentgroup": "True",
           "hovertemplate": "province=%{y}<br>year_month=2020-12<br>number of cases=%{x}<extra></extra>",
           "ids": [
            "Noord-Holland"
           ],
           "legendgroup": "Noord-Holland",
           "marker": {
            "color": "#FF6692",
            "pattern": {
             "shape": ""
            }
           },
           "name": "Noord-Holland",
           "offsetgroup": "Noord-Holland",
           "orientation": "h",
           "showlegend": true,
           "textposition": "auto",
           "type": "bar",
           "x": [
            42138
           ],
           "xaxis": "x",
           "y": [
            "Noord-Holland"
           ],
           "yaxis": "y"
          },
          {
           "alignmentgroup": "True",
           "hovertemplate": "province=%{y}<br>year_month=2020-12<br>number of cases=%{x}<extra></extra>",
           "ids": [
            "Overijssel"
           ],
           "legendgroup": "Overijssel",
           "marker": {
            "color": "#B6E880",
            "pattern": {
             "shape": ""
            }
           },
           "name": "Overijssel",
           "offsetgroup": "Overijssel",
           "orientation": "h",
           "showlegend": true,
           "textposition": "auto",
           "type": "bar",
           "x": [
            22367
           ],
           "xaxis": "x",
           "y": [
            "Overijssel"
           ],
           "yaxis": "y"
          },
          {
           "alignmentgroup": "True",
           "hovertemplate": "province=%{y}<br>year_month=2020-12<br>number of cases=%{x}<extra></extra>",
           "ids": [
            "Utrecht"
           ],
           "legendgroup": "Utrecht",
           "marker": {
            "color": "#FF97FF",
            "pattern": {
             "shape": ""
            }
           },
           "name": "Utrecht",
           "offsetgroup": "Utrecht",
           "orientation": "h",
           "showlegend": true,
           "textposition": "auto",
           "type": "bar",
           "x": [
            22730
           ],
           "xaxis": "x",
           "y": [
            "Utrecht"
           ],
           "yaxis": "y"
          },
          {
           "alignmentgroup": "True",
           "hovertemplate": "province=%{y}<br>year_month=2020-12<br>number of cases=%{x}<extra></extra>",
           "ids": [
            "Zeeland"
           ],
           "legendgroup": "Zeeland",
           "marker": {
            "color": "#FECB52",
            "pattern": {
             "shape": ""
            }
           },
           "name": "Zeeland",
           "offsetgroup": "Zeeland",
           "orientation": "h",
           "showlegend": true,
           "textposition": "auto",
           "type": "bar",
           "x": [
            4196
           ],
           "xaxis": "x",
           "y": [
            "Zeeland"
           ],
           "yaxis": "y"
          },
          {
           "alignmentgroup": "True",
           "hovertemplate": "province=%{y}<br>year_month=2020-12<br>number of cases=%{x}<extra></extra>",
           "ids": [
            "Zuid-Holland"
           ],
           "legendgroup": "Zuid-Holland",
           "marker": {
            "color": "#636efa",
            "pattern": {
             "shape": ""
            }
           },
           "name": "Zuid-Holland",
           "offsetgroup": "Zuid-Holland",
           "orientation": "h",
           "showlegend": true,
           "textposition": "auto",
           "type": "bar",
           "x": [
            54767
           ],
           "xaxis": "x",
           "y": [
            "Zuid-Holland"
           ],
           "yaxis": "y"
          },
          {
           "alignmentgroup": "True",
           "hovertemplate": "province=%{y}<br>year_month=2020-12<br>number of cases=%{x}<extra></extra>",
           "ids": [
            "Zuid-Limburg"
           ],
           "legendgroup": "Zuid-Limburg",
           "marker": {
            "color": "#EF553B",
            "pattern": {
             "shape": ""
            }
           },
           "name": "Zuid-Limburg",
           "offsetgroup": "Zuid-Limburg",
           "orientation": "h",
           "showlegend": true,
           "textposition": "auto",
           "type": "bar",
           "x": [
            22353
           ],
           "xaxis": "x",
           "y": [
            "Zuid-Limburg"
           ],
           "yaxis": "y"
          }
         ],
         "name": "2020-12"
        },
        {
         "data": [
          {
           "alignmentgroup": "True",
           "hovertemplate": "province=%{y}<br>year_month=2021-01<br>number of cases=%{x}<extra></extra>",
           "ids": [
            "Drenthe"
           ],
           "legendgroup": "Drenthe",
           "marker": {
            "color": "#636efa",
            "pattern": {
             "shape": ""
            }
           },
           "name": "Drenthe",
           "offsetgroup": "Drenthe",
           "orientation": "h",
           "showlegend": true,
           "textposition": "auto",
           "type": "bar",
           "x": [
            5005
           ],
           "xaxis": "x",
           "y": [
            "Drenthe"
           ],
           "yaxis": "y"
          },
          {
           "alignmentgroup": "True",
           "hovertemplate": "province=%{y}<br>year_month=2021-01<br>number of cases=%{x}<extra></extra>",
           "ids": [
            "Flevoland"
           ],
           "legendgroup": "Flevoland",
           "marker": {
            "color": "#EF553B",
            "pattern": {
             "shape": ""
            }
           },
           "name": "Flevoland",
           "offsetgroup": "Flevoland",
           "orientation": "h",
           "showlegend": true,
           "textposition": "auto",
           "type": "bar",
           "x": [
            4261
           ],
           "xaxis": "x",
           "y": [
            "Flevoland"
           ],
           "yaxis": "y"
          },
          {
           "alignmentgroup": "True",
           "hovertemplate": "province=%{y}<br>year_month=2021-01<br>number of cases=%{x}<extra></extra>",
           "ids": [
            "Friesland"
           ],
           "legendgroup": "Friesland",
           "marker": {
            "color": "#00cc96",
            "pattern": {
             "shape": ""
            }
           },
           "name": "Friesland",
           "offsetgroup": "Friesland",
           "orientation": "h",
           "showlegend": true,
           "textposition": "auto",
           "type": "bar",
           "x": [
            6636
           ],
           "xaxis": "x",
           "y": [
            "Friesland"
           ],
           "yaxis": "y"
          },
          {
           "alignmentgroup": "True",
           "hovertemplate": "province=%{y}<br>year_month=2021-01<br>number of cases=%{x}<extra></extra>",
           "ids": [
            "Gelderland"
           ],
           "legendgroup": "Gelderland",
           "marker": {
            "color": "#ab63fa",
            "pattern": {
             "shape": ""
            }
           },
           "name": "Gelderland",
           "offsetgroup": "Gelderland",
           "orientation": "h",
           "showlegend": true,
           "textposition": "auto",
           "type": "bar",
           "x": [
            23380
           ],
           "xaxis": "x",
           "y": [
            "Gelderland"
           ],
           "yaxis": "y"
          },
          {
           "alignmentgroup": "True",
           "hovertemplate": "province=%{y}<br>year_month=2021-01<br>number of cases=%{x}<extra></extra>",
           "ids": [
            "Groningen"
           ],
           "legendgroup": "Groningen",
           "marker": {
            "color": "#FFA15A",
            "pattern": {
             "shape": ""
            }
           },
           "name": "Groningen",
           "offsetgroup": "Groningen",
           "orientation": "h",
           "showlegend": true,
           "textposition": "auto",
           "type": "bar",
           "x": [
            5419
           ],
           "xaxis": "x",
           "y": [
            "Groningen"
           ],
           "yaxis": "y"
          },
          {
           "alignmentgroup": "True",
           "hovertemplate": "province=%{y}<br>year_month=2021-01<br>number of cases=%{x}<extra></extra>",
           "ids": [
            "Noord-Brabant"
           ],
           "legendgroup": "Noord-Brabant",
           "marker": {
            "color": "#19d3f3",
            "pattern": {
             "shape": ""
            }
           },
           "name": "Noord-Brabant",
           "offsetgroup": "Noord-Brabant",
           "orientation": "h",
           "showlegend": true,
           "textposition": "auto",
           "type": "bar",
           "x": [
            28514
           ],
           "xaxis": "x",
           "y": [
            "Noord-Brabant"
           ],
           "yaxis": "y"
          },
          {
           "alignmentgroup": "True",
           "hovertemplate": "province=%{y}<br>year_month=2021-01<br>number of cases=%{x}<extra></extra>",
           "ids": [
            "Noord-Holland"
           ],
           "legendgroup": "Noord-Holland",
           "marker": {
            "color": "#FF6692",
            "pattern": {
             "shape": ""
            }
           },
           "name": "Noord-Holland",
           "offsetgroup": "Noord-Holland",
           "orientation": "h",
           "showlegend": true,
           "textposition": "auto",
           "type": "bar",
           "x": [
            28434
           ],
           "xaxis": "x",
           "y": [
            "Noord-Holland"
           ],
           "yaxis": "y"
          },
          {
           "alignmentgroup": "True",
           "hovertemplate": "province=%{y}<br>year_month=2021-01<br>number of cases=%{x}<extra></extra>",
           "ids": [
            "Overijssel"
           ],
           "legendgroup": "Overijssel",
           "marker": {
            "color": "#B6E880",
            "pattern": {
             "shape": ""
            }
           },
           "name": "Overijssel",
           "offsetgroup": "Overijssel",
           "orientation": "h",
           "showlegend": true,
           "textposition": "auto",
           "type": "bar",
           "x": [
            15835
           ],
           "xaxis": "x",
           "y": [
            "Overijssel"
           ],
           "yaxis": "y"
          },
          {
           "alignmentgroup": "True",
           "hovertemplate": "province=%{y}<br>year_month=2021-01<br>number of cases=%{x}<extra></extra>",
           "ids": [
            "Utrecht"
           ],
           "legendgroup": "Utrecht",
           "marker": {
            "color": "#FF97FF",
            "pattern": {
             "shape": ""
            }
           },
           "name": "Utrecht",
           "offsetgroup": "Utrecht",
           "orientation": "h",
           "showlegend": true,
           "textposition": "auto",
           "type": "bar",
           "x": [
            11888
           ],
           "xaxis": "x",
           "y": [
            "Utrecht"
           ],
           "yaxis": "y"
          },
          {
           "alignmentgroup": "True",
           "hovertemplate": "province=%{y}<br>year_month=2021-01<br>number of cases=%{x}<extra></extra>",
           "ids": [
            "Zeeland"
           ],
           "legendgroup": "Zeeland",
           "marker": {
            "color": "#FECB52",
            "pattern": {
             "shape": ""
            }
           },
           "name": "Zeeland",
           "offsetgroup": "Zeeland",
           "orientation": "h",
           "showlegend": true,
           "textposition": "auto",
           "type": "bar",
           "x": [
            3900
           ],
           "xaxis": "x",
           "y": [
            "Zeeland"
           ],
           "yaxis": "y"
          },
          {
           "alignmentgroup": "True",
           "hovertemplate": "province=%{y}<br>year_month=2021-01<br>number of cases=%{x}<extra></extra>",
           "ids": [
            "Zuid-Holland"
           ],
           "legendgroup": "Zuid-Holland",
           "marker": {
            "color": "#636efa",
            "pattern": {
             "shape": ""
            }
           },
           "name": "Zuid-Holland",
           "offsetgroup": "Zuid-Holland",
           "orientation": "h",
           "showlegend": true,
           "textposition": "auto",
           "type": "bar",
           "x": [
            32698
           ],
           "xaxis": "x",
           "y": [
            "Zuid-Holland"
           ],
           "yaxis": "y"
          },
          {
           "alignmentgroup": "True",
           "hovertemplate": "province=%{y}<br>year_month=2021-01<br>number of cases=%{x}<extra></extra>",
           "ids": [
            "Zuid-Limburg"
           ],
           "legendgroup": "Zuid-Limburg",
           "marker": {
            "color": "#EF553B",
            "pattern": {
             "shape": ""
            }
           },
           "name": "Zuid-Limburg",
           "offsetgroup": "Zuid-Limburg",
           "orientation": "h",
           "showlegend": true,
           "textposition": "auto",
           "type": "bar",
           "x": [
            15935
           ],
           "xaxis": "x",
           "y": [
            "Zuid-Limburg"
           ],
           "yaxis": "y"
          }
         ],
         "name": "2021-01"
        },
        {
         "data": [
          {
           "alignmentgroup": "True",
           "hovertemplate": "province=%{y}<br>year_month=2021-02<br>number of cases=%{x}<extra></extra>",
           "ids": [
            "Drenthe"
           ],
           "legendgroup": "Drenthe",
           "marker": {
            "color": "#636efa",
            "pattern": {
             "shape": ""
            }
           },
           "name": "Drenthe",
           "offsetgroup": "Drenthe",
           "orientation": "h",
           "showlegend": true,
           "textposition": "auto",
           "type": "bar",
           "x": [
            3304
           ],
           "xaxis": "x",
           "y": [
            "Drenthe"
           ],
           "yaxis": "y"
          },
          {
           "alignmentgroup": "True",
           "hovertemplate": "province=%{y}<br>year_month=2021-02<br>number of cases=%{x}<extra></extra>",
           "ids": [
            "Flevoland"
           ],
           "legendgroup": "Flevoland",
           "marker": {
            "color": "#EF553B",
            "pattern": {
             "shape": ""
            }
           },
           "name": "Flevoland",
           "offsetgroup": "Flevoland",
           "orientation": "h",
           "showlegend": true,
           "textposition": "auto",
           "type": "bar",
           "x": [
            1993
           ],
           "xaxis": "x",
           "y": [
            "Flevoland"
           ],
           "yaxis": "y"
          },
          {
           "alignmentgroup": "True",
           "hovertemplate": "province=%{y}<br>year_month=2021-02<br>number of cases=%{x}<extra></extra>",
           "ids": [
            "Friesland"
           ],
           "legendgroup": "Friesland",
           "marker": {
            "color": "#00cc96",
            "pattern": {
             "shape": ""
            }
           },
           "name": "Friesland",
           "offsetgroup": "Friesland",
           "orientation": "h",
           "showlegend": true,
           "textposition": "auto",
           "type": "bar",
           "x": [
            4938
           ],
           "xaxis": "x",
           "y": [
            "Friesland"
           ],
           "yaxis": "y"
          },
          {
           "alignmentgroup": "True",
           "hovertemplate": "province=%{y}<br>year_month=2021-02<br>number of cases=%{x}<extra></extra>",
           "ids": [
            "Gelderland"
           ],
           "legendgroup": "Gelderland",
           "marker": {
            "color": "#ab63fa",
            "pattern": {
             "shape": ""
            }
           },
           "name": "Gelderland",
           "offsetgroup": "Gelderland",
           "orientation": "h",
           "showlegend": true,
           "textposition": "auto",
           "type": "bar",
           "x": [
            10316
           ],
           "xaxis": "x",
           "y": [
            "Gelderland"
           ],
           "yaxis": "y"
          },
          {
           "alignmentgroup": "True",
           "hovertemplate": "province=%{y}<br>year_month=2021-02<br>number of cases=%{x}<extra></extra>",
           "ids": [
            "Groningen"
           ],
           "legendgroup": "Groningen",
           "marker": {
            "color": "#FFA15A",
            "pattern": {
             "shape": ""
            }
           },
           "name": "Groningen",
           "offsetgroup": "Groningen",
           "orientation": "h",
           "showlegend": true,
           "textposition": "auto",
           "type": "bar",
           "x": [
            3715
           ],
           "xaxis": "x",
           "y": [
            "Groningen"
           ],
           "yaxis": "y"
          },
          {
           "alignmentgroup": "True",
           "hovertemplate": "province=%{y}<br>year_month=2021-02<br>number of cases=%{x}<extra></extra>",
           "ids": [
            "Noord-Brabant"
           ],
           "legendgroup": "Noord-Brabant",
           "marker": {
            "color": "#19d3f3",
            "pattern": {
             "shape": ""
            }
           },
           "name": "Noord-Brabant",
           "offsetgroup": "Noord-Brabant",
           "orientation": "h",
           "showlegend": true,
           "textposition": "auto",
           "type": "bar",
           "x": [
            18466
           ],
           "xaxis": "x",
           "y": [
            "Noord-Brabant"
           ],
           "yaxis": "y"
          },
          {
           "alignmentgroup": "True",
           "hovertemplate": "province=%{y}<br>year_month=2021-02<br>number of cases=%{x}<extra></extra>",
           "ids": [
            "Noord-Holland"
           ],
           "legendgroup": "Noord-Holland",
           "marker": {
            "color": "#FF6692",
            "pattern": {
             "shape": ""
            }
           },
           "name": "Noord-Holland",
           "offsetgroup": "Noord-Holland",
           "orientation": "h",
           "showlegend": true,
           "textposition": "auto",
           "type": "bar",
           "x": [
            21561
           ],
           "xaxis": "x",
           "y": [
            "Noord-Holland"
           ],
           "yaxis": "y"
          },
          {
           "alignmentgroup": "True",
           "hovertemplate": "province=%{y}<br>year_month=2021-02<br>number of cases=%{x}<extra></extra>",
           "ids": [
            "Overijssel"
           ],
           "legendgroup": "Overijssel",
           "marker": {
            "color": "#B6E880",
            "pattern": {
             "shape": ""
            }
           },
           "name": "Overijssel",
           "offsetgroup": "Overijssel",
           "orientation": "h",
           "showlegend": true,
           "textposition": "auto",
           "type": "bar",
           "x": [
            5885
           ],
           "xaxis": "x",
           "y": [
            "Overijssel"
           ],
           "yaxis": "y"
          },
          {
           "alignmentgroup": "True",
           "hovertemplate": "province=%{y}<br>year_month=2021-02<br>number of cases=%{x}<extra></extra>",
           "ids": [
            "Utrecht"
           ],
           "legendgroup": "Utrecht",
           "marker": {
            "color": "#FF97FF",
            "pattern": {
             "shape": ""
            }
           },
           "name": "Utrecht",
           "offsetgroup": "Utrecht",
           "orientation": "h",
           "showlegend": true,
           "textposition": "auto",
           "type": "bar",
           "x": [
            7809
           ],
           "xaxis": "x",
           "y": [
            "Utrecht"
           ],
           "yaxis": "y"
          },
          {
           "alignmentgroup": "True",
           "hovertemplate": "province=%{y}<br>year_month=2021-02<br>number of cases=%{x}<extra></extra>",
           "ids": [
            "Zeeland"
           ],
           "legendgroup": "Zeeland",
           "marker": {
            "color": "#FECB52",
            "pattern": {
             "shape": ""
            }
           },
           "name": "Zeeland",
           "offsetgroup": "Zeeland",
           "orientation": "h",
           "showlegend": true,
           "textposition": "auto",
           "type": "bar",
           "x": [
            2189
           ],
           "xaxis": "x",
           "y": [
            "Zeeland"
           ],
           "yaxis": "y"
          },
          {
           "alignmentgroup": "True",
           "hovertemplate": "province=%{y}<br>year_month=2021-02<br>number of cases=%{x}<extra></extra>",
           "ids": [
            "Zuid-Holland"
           ],
           "legendgroup": "Zuid-Holland",
           "marker": {
            "color": "#636efa",
            "pattern": {
             "shape": ""
            }
           },
           "name": "Zuid-Holland",
           "offsetgroup": "Zuid-Holland",
           "orientation": "h",
           "showlegend": true,
           "textposition": "auto",
           "type": "bar",
           "x": [
            21353
           ],
           "xaxis": "x",
           "y": [
            "Zuid-Holland"
           ],
           "yaxis": "y"
          },
          {
           "alignmentgroup": "True",
           "hovertemplate": "province=%{y}<br>year_month=2021-02<br>number of cases=%{x}<extra></extra>",
           "ids": [
            "Zuid-Limburg"
           ],
           "legendgroup": "Zuid-Limburg",
           "marker": {
            "color": "#EF553B",
            "pattern": {
             "shape": ""
            }
           },
           "name": "Zuid-Limburg",
           "offsetgroup": "Zuid-Limburg",
           "orientation": "h",
           "showlegend": true,
           "textposition": "auto",
           "type": "bar",
           "x": [
            8150
           ],
           "xaxis": "x",
           "y": [
            "Zuid-Limburg"
           ],
           "yaxis": "y"
          }
         ],
         "name": "2021-02"
        },
        {
         "data": [
          {
           "alignmentgroup": "True",
           "hovertemplate": "province=%{y}<br>year_month=2021-03<br>number of cases=%{x}<extra></extra>",
           "ids": [
            "Drenthe"
           ],
           "legendgroup": "Drenthe",
           "marker": {
            "color": "#636efa",
            "pattern": {
             "shape": ""
            }
           },
           "name": "Drenthe",
           "offsetgroup": "Drenthe",
           "orientation": "h",
           "showlegend": true,
           "textposition": "auto",
           "type": "bar",
           "x": [
            4739
           ],
           "xaxis": "x",
           "y": [
            "Drenthe"
           ],
           "yaxis": "y"
          },
          {
           "alignmentgroup": "True",
           "hovertemplate": "province=%{y}<br>year_month=2021-03<br>number of cases=%{x}<extra></extra>",
           "ids": [
            "Flevoland"
           ],
           "legendgroup": "Flevoland",
           "marker": {
            "color": "#EF553B",
            "pattern": {
             "shape": ""
            }
           },
           "name": "Flevoland",
           "offsetgroup": "Flevoland",
           "orientation": "h",
           "showlegend": true,
           "textposition": "auto",
           "type": "bar",
           "x": [
            3185
           ],
           "xaxis": "x",
           "y": [
            "Flevoland"
           ],
           "yaxis": "y"
          },
          {
           "alignmentgroup": "True",
           "hovertemplate": "province=%{y}<br>year_month=2021-03<br>number of cases=%{x}<extra></extra>",
           "ids": [
            "Friesland"
           ],
           "legendgroup": "Friesland",
           "marker": {
            "color": "#00cc96",
            "pattern": {
             "shape": ""
            }
           },
           "name": "Friesland",
           "offsetgroup": "Friesland",
           "orientation": "h",
           "showlegend": true,
           "textposition": "auto",
           "type": "bar",
           "x": [
            6141
           ],
           "xaxis": "x",
           "y": [
            "Friesland"
           ],
           "yaxis": "y"
          },
          {
           "alignmentgroup": "True",
           "hovertemplate": "province=%{y}<br>year_month=2021-03<br>number of cases=%{x}<extra></extra>",
           "ids": [
            "Gelderland"
           ],
           "legendgroup": "Gelderland",
           "marker": {
            "color": "#ab63fa",
            "pattern": {
             "shape": ""
            }
           },
           "name": "Gelderland",
           "offsetgroup": "Gelderland",
           "orientation": "h",
           "showlegend": true,
           "textposition": "auto",
           "type": "bar",
           "x": [
            18163
           ],
           "xaxis": "x",
           "y": [
            "Gelderland"
           ],
           "yaxis": "y"
          },
          {
           "alignmentgroup": "True",
           "hovertemplate": "province=%{y}<br>year_month=2021-03<br>number of cases=%{x}<extra></extra>",
           "ids": [
            "Groningen"
           ],
           "legendgroup": "Groningen",
           "marker": {
            "color": "#FFA15A",
            "pattern": {
             "shape": ""
            }
           },
           "name": "Groningen",
           "offsetgroup": "Groningen",
           "orientation": "h",
           "showlegend": true,
           "textposition": "auto",
           "type": "bar",
           "x": [
            4155
           ],
           "xaxis": "x",
           "y": [
            "Groningen"
           ],
           "yaxis": "y"
          },
          {
           "alignmentgroup": "True",
           "hovertemplate": "province=%{y}<br>year_month=2021-03<br>number of cases=%{x}<extra></extra>",
           "ids": [
            "Noord-Brabant"
           ],
           "legendgroup": "Noord-Brabant",
           "marker": {
            "color": "#19d3f3",
            "pattern": {
             "shape": ""
            }
           },
           "name": "Noord-Brabant",
           "offsetgroup": "Noord-Brabant",
           "orientation": "h",
           "showlegend": true,
           "textposition": "auto",
           "type": "bar",
           "x": [
            27671
           ],
           "xaxis": "x",
           "y": [
            "Noord-Brabant"
           ],
           "yaxis": "y"
          },
          {
           "alignmentgroup": "True",
           "hovertemplate": "province=%{y}<br>year_month=2021-03<br>number of cases=%{x}<extra></extra>",
           "ids": [
            "Noord-Holland"
           ],
           "legendgroup": "Noord-Holland",
           "marker": {
            "color": "#FF6692",
            "pattern": {
             "shape": ""
            }
           },
           "name": "Noord-Holland",
           "offsetgroup": "Noord-Holland",
           "orientation": "h",
           "showlegend": true,
           "textposition": "auto",
           "type": "bar",
           "x": [
            32836
           ],
           "xaxis": "x",
           "y": [
            "Noord-Holland"
           ],
           "yaxis": "y"
          },
          {
           "alignmentgroup": "True",
           "hovertemplate": "province=%{y}<br>year_month=2021-03<br>number of cases=%{x}<extra></extra>",
           "ids": [
            "Overijssel"
           ],
           "legendgroup": "Overijssel",
           "marker": {
            "color": "#B6E880",
            "pattern": {
             "shape": ""
            }
           },
           "name": "Overijssel",
           "offsetgroup": "Overijssel",
           "orientation": "h",
           "showlegend": true,
           "textposition": "auto",
           "type": "bar",
           "x": [
            9160
           ],
           "xaxis": "x",
           "y": [
            "Overijssel"
           ],
           "yaxis": "y"
          },
          {
           "alignmentgroup": "True",
           "hovertemplate": "province=%{y}<br>year_month=2021-03<br>number of cases=%{x}<extra></extra>",
           "ids": [
            "Utrecht"
           ],
           "legendgroup": "Utrecht",
           "marker": {
            "color": "#FF97FF",
            "pattern": {
             "shape": ""
            }
           },
           "name": "Utrecht",
           "offsetgroup": "Utrecht",
           "orientation": "h",
           "showlegend": true,
           "textposition": "auto",
           "type": "bar",
           "x": [
            12388
           ],
           "xaxis": "x",
           "y": [
            "Utrecht"
           ],
           "yaxis": "y"
          },
          {
           "alignmentgroup": "True",
           "hovertemplate": "province=%{y}<br>year_month=2021-03<br>number of cases=%{x}<extra></extra>",
           "ids": [
            "Zeeland"
           ],
           "legendgroup": "Zeeland",
           "marker": {
            "color": "#FECB52",
            "pattern": {
             "shape": ""
            }
           },
           "name": "Zeeland",
           "offsetgroup": "Zeeland",
           "orientation": "h",
           "showlegend": true,
           "textposition": "auto",
           "type": "bar",
           "x": [
            4073
           ],
           "xaxis": "x",
           "y": [
            "Zeeland"
           ],
           "yaxis": "y"
          },
          {
           "alignmentgroup": "True",
           "hovertemplate": "province=%{y}<br>year_month=2021-03<br>number of cases=%{x}<extra></extra>",
           "ids": [
            "Zuid-Holland"
           ],
           "legendgroup": "Zuid-Holland",
           "marker": {
            "color": "#636efa",
            "pattern": {
             "shape": ""
            }
           },
           "name": "Zuid-Holland",
           "offsetgroup": "Zuid-Holland",
           "orientation": "h",
           "showlegend": true,
           "textposition": "auto",
           "type": "bar",
           "x": [
            42037
           ],
           "xaxis": "x",
           "y": [
            "Zuid-Holland"
           ],
           "yaxis": "y"
          },
          {
           "alignmentgroup": "True",
           "hovertemplate": "province=%{y}<br>year_month=2021-03<br>number of cases=%{x}<extra></extra>",
           "ids": [
            "Zuid-Limburg"
           ],
           "legendgroup": "Zuid-Limburg",
           "marker": {
            "color": "#EF553B",
            "pattern": {
             "shape": ""
            }
           },
           "name": "Zuid-Limburg",
           "offsetgroup": "Zuid-Limburg",
           "orientation": "h",
           "showlegend": true,
           "textposition": "auto",
           "type": "bar",
           "x": [
            10784
           ],
           "xaxis": "x",
           "y": [
            "Zuid-Limburg"
           ],
           "yaxis": "y"
          }
         ],
         "name": "2021-03"
        },
        {
         "data": [
          {
           "alignmentgroup": "True",
           "hovertemplate": "province=%{y}<br>year_month=2021-04<br>number of cases=%{x}<extra></extra>",
           "ids": [
            "Drenthe"
           ],
           "legendgroup": "Drenthe",
           "marker": {
            "color": "#636efa",
            "pattern": {
             "shape": ""
            }
           },
           "name": "Drenthe",
           "offsetgroup": "Drenthe",
           "orientation": "h",
           "showlegend": true,
           "textposition": "auto",
           "type": "bar",
           "x": [
            2371
           ],
           "xaxis": "x",
           "y": [
            "Drenthe"
           ],
           "yaxis": "y"
          },
          {
           "alignmentgroup": "True",
           "hovertemplate": "province=%{y}<br>year_month=2021-04<br>number of cases=%{x}<extra></extra>",
           "ids": [
            "Flevoland"
           ],
           "legendgroup": "Flevoland",
           "marker": {
            "color": "#EF553B",
            "pattern": {
             "shape": ""
            }
           },
           "name": "Flevoland",
           "offsetgroup": "Flevoland",
           "orientation": "h",
           "showlegend": true,
           "textposition": "auto",
           "type": "bar",
           "x": [
            2407
           ],
           "xaxis": "x",
           "y": [
            "Flevoland"
           ],
           "yaxis": "y"
          },
          {
           "alignmentgroup": "True",
           "hovertemplate": "province=%{y}<br>year_month=2021-04<br>number of cases=%{x}<extra></extra>",
           "ids": [
            "Friesland"
           ],
           "legendgroup": "Friesland",
           "marker": {
            "color": "#00cc96",
            "pattern": {
             "shape": ""
            }
           },
           "name": "Friesland",
           "offsetgroup": "Friesland",
           "orientation": "h",
           "showlegend": true,
           "textposition": "auto",
           "type": "bar",
           "x": [
            3657
           ],
           "xaxis": "x",
           "y": [
            "Friesland"
           ],
           "yaxis": "y"
          },
          {
           "alignmentgroup": "True",
           "hovertemplate": "province=%{y}<br>year_month=2021-04<br>number of cases=%{x}<extra></extra>",
           "ids": [
            "Gelderland"
           ],
           "legendgroup": "Gelderland",
           "marker": {
            "color": "#ab63fa",
            "pattern": {
             "shape": ""
            }
           },
           "name": "Gelderland",
           "offsetgroup": "Gelderland",
           "orientation": "h",
           "showlegend": true,
           "textposition": "auto",
           "type": "bar",
           "x": [
            13959
           ],
           "xaxis": "x",
           "y": [
            "Gelderland"
           ],
           "yaxis": "y"
          },
          {
           "alignmentgroup": "True",
           "hovertemplate": "province=%{y}<br>year_month=2021-04<br>number of cases=%{x}<extra></extra>",
           "ids": [
            "Groningen"
           ],
           "legendgroup": "Groningen",
           "marker": {
            "color": "#FFA15A",
            "pattern": {
             "shape": ""
            }
           },
           "name": "Groningen",
           "offsetgroup": "Groningen",
           "orientation": "h",
           "showlegend": true,
           "textposition": "auto",
           "type": "bar",
           "x": [
            2191
           ],
           "xaxis": "x",
           "y": [
            "Groningen"
           ],
           "yaxis": "y"
          },
          {
           "alignmentgroup": "True",
           "hovertemplate": "province=%{y}<br>year_month=2021-04<br>number of cases=%{x}<extra></extra>",
           "ids": [
            "Noord-Brabant"
           ],
           "legendgroup": "Noord-Brabant",
           "marker": {
            "color": "#19d3f3",
            "pattern": {
             "shape": ""
            }
           },
           "name": "Noord-Brabant",
           "offsetgroup": "Noord-Brabant",
           "orientation": "h",
           "showlegend": true,
           "textposition": "auto",
           "type": "bar",
           "x": [
            20664
           ],
           "xaxis": "x",
           "y": [
            "Noord-Brabant"
           ],
           "yaxis": "y"
          },
          {
           "alignmentgroup": "True",
           "hovertemplate": "province=%{y}<br>year_month=2021-04<br>number of cases=%{x}<extra></extra>",
           "ids": [
            "Noord-Holland"
           ],
           "legendgroup": "Noord-Holland",
           "marker": {
            "color": "#FF6692",
            "pattern": {
             "shape": ""
            }
           },
           "name": "Noord-Holland",
           "offsetgroup": "Noord-Holland",
           "orientation": "h",
           "showlegend": true,
           "textposition": "auto",
           "type": "bar",
           "x": [
            17973
           ],
           "xaxis": "x",
           "y": [
            "Noord-Holland"
           ],
           "yaxis": "y"
          },
          {
           "alignmentgroup": "True",
           "hovertemplate": "province=%{y}<br>year_month=2021-04<br>number of cases=%{x}<extra></extra>",
           "ids": [
            "Overijssel"
           ],
           "legendgroup": "Overijssel",
           "marker": {
            "color": "#B6E880",
            "pattern": {
             "shape": ""
            }
           },
           "name": "Overijssel",
           "offsetgroup": "Overijssel",
           "orientation": "h",
           "showlegend": true,
           "textposition": "auto",
           "type": "bar",
           "x": [
            6266
           ],
           "xaxis": "x",
           "y": [
            "Overijssel"
           ],
           "yaxis": "y"
          },
          {
           "alignmentgroup": "True",
           "hovertemplate": "province=%{y}<br>year_month=2021-04<br>number of cases=%{x}<extra></extra>",
           "ids": [
            "Utrecht"
           ],
           "legendgroup": "Utrecht",
           "marker": {
            "color": "#FF97FF",
            "pattern": {
             "shape": ""
            }
           },
           "name": "Utrecht",
           "offsetgroup": "Utrecht",
           "orientation": "h",
           "showlegend": true,
           "textposition": "auto",
           "type": "bar",
           "x": [
            8445
           ],
           "xaxis": "x",
           "y": [
            "Utrecht"
           ],
           "yaxis": "y"
          },
          {
           "alignmentgroup": "True",
           "hovertemplate": "province=%{y}<br>year_month=2021-04<br>number of cases=%{x}<extra></extra>",
           "ids": [
            "Zeeland"
           ],
           "legendgroup": "Zeeland",
           "marker": {
            "color": "#FECB52",
            "pattern": {
             "shape": ""
            }
           },
           "name": "Zeeland",
           "offsetgroup": "Zeeland",
           "orientation": "h",
           "showlegend": true,
           "textposition": "auto",
           "type": "bar",
           "x": [
            2714
           ],
           "xaxis": "x",
           "y": [
            "Zeeland"
           ],
           "yaxis": "y"
          },
          {
           "alignmentgroup": "True",
           "hovertemplate": "province=%{y}<br>year_month=2021-04<br>number of cases=%{x}<extra></extra>",
           "ids": [
            "Zuid-Holland"
           ],
           "legendgroup": "Zuid-Holland",
           "marker": {
            "color": "#636efa",
            "pattern": {
             "shape": ""
            }
           },
           "name": "Zuid-Holland",
           "offsetgroup": "Zuid-Holland",
           "orientation": "h",
           "showlegend": true,
           "textposition": "auto",
           "type": "bar",
           "x": [
            31455
           ],
           "xaxis": "x",
           "y": [
            "Zuid-Holland"
           ],
           "yaxis": "y"
          },
          {
           "alignmentgroup": "True",
           "hovertemplate": "province=%{y}<br>year_month=2021-04<br>number of cases=%{x}<extra></extra>",
           "ids": [
            "Zuid-Limburg"
           ],
           "legendgroup": "Zuid-Limburg",
           "marker": {
            "color": "#EF553B",
            "pattern": {
             "shape": ""
            }
           },
           "name": "Zuid-Limburg",
           "offsetgroup": "Zuid-Limburg",
           "orientation": "h",
           "showlegend": true,
           "textposition": "auto",
           "type": "bar",
           "x": [
            9838
           ],
           "xaxis": "x",
           "y": [
            "Zuid-Limburg"
           ],
           "yaxis": "y"
          }
         ],
         "name": "2021-04"
        }
       ],
       "layout": {
        "barmode": "relative",
        "legend": {
         "title": {
          "text": "province"
         },
         "tracegroupgap": 0
        },
        "margin": {
         "t": 60
        },
        "showlegend": false,
        "sliders": [
         {
          "active": 0,
          "currentvalue": {
           "prefix": "year_month="
          },
          "len": 0.9,
          "pad": {
           "b": 10,
           "t": 60
          },
          "steps": [
           {
            "args": [
             [
              "2020-02"
             ],
             {
              "frame": {
               "duration": 0,
               "redraw": true
              },
              "fromcurrent": true,
              "mode": "immediate",
              "transition": {
               "duration": 0,
               "easing": "linear"
              }
             }
            ],
            "label": "2020-02",
            "method": "animate"
           },
           {
            "args": [
             [
              "2020-03"
             ],
             {
              "frame": {
               "duration": 0,
               "redraw": true
              },
              "fromcurrent": true,
              "mode": "immediate",
              "transition": {
               "duration": 0,
               "easing": "linear"
              }
             }
            ],
            "label": "2020-03",
            "method": "animate"
           },
           {
            "args": [
             [
              "2020-04"
             ],
             {
              "frame": {
               "duration": 0,
               "redraw": true
              },
              "fromcurrent": true,
              "mode": "immediate",
              "transition": {
               "duration": 0,
               "easing": "linear"
              }
             }
            ],
            "label": "2020-04",
            "method": "animate"
           },
           {
            "args": [
             [
              "2020-05"
             ],
             {
              "frame": {
               "duration": 0,
               "redraw": true
              },
              "fromcurrent": true,
              "mode": "immediate",
              "transition": {
               "duration": 0,
               "easing": "linear"
              }
             }
            ],
            "label": "2020-05",
            "method": "animate"
           },
           {
            "args": [
             [
              "2020-06"
             ],
             {
              "frame": {
               "duration": 0,
               "redraw": true
              },
              "fromcurrent": true,
              "mode": "immediate",
              "transition": {
               "duration": 0,
               "easing": "linear"
              }
             }
            ],
            "label": "2020-06",
            "method": "animate"
           },
           {
            "args": [
             [
              "2020-07"
             ],
             {
              "frame": {
               "duration": 0,
               "redraw": true
              },
              "fromcurrent": true,
              "mode": "immediate",
              "transition": {
               "duration": 0,
               "easing": "linear"
              }
             }
            ],
            "label": "2020-07",
            "method": "animate"
           },
           {
            "args": [
             [
              "2020-08"
             ],
             {
              "frame": {
               "duration": 0,
               "redraw": true
              },
              "fromcurrent": true,
              "mode": "immediate",
              "transition": {
               "duration": 0,
               "easing": "linear"
              }
             }
            ],
            "label": "2020-08",
            "method": "animate"
           },
           {
            "args": [
             [
              "2020-09"
             ],
             {
              "frame": {
               "duration": 0,
               "redraw": true
              },
              "fromcurrent": true,
              "mode": "immediate",
              "transition": {
               "duration": 0,
               "easing": "linear"
              }
             }
            ],
            "label": "2020-09",
            "method": "animate"
           },
           {
            "args": [
             [
              "2020-10"
             ],
             {
              "frame": {
               "duration": 0,
               "redraw": true
              },
              "fromcurrent": true,
              "mode": "immediate",
              "transition": {
               "duration": 0,
               "easing": "linear"
              }
             }
            ],
            "label": "2020-10",
            "method": "animate"
           },
           {
            "args": [
             [
              "2020-11"
             ],
             {
              "frame": {
               "duration": 0,
               "redraw": true
              },
              "fromcurrent": true,
              "mode": "immediate",
              "transition": {
               "duration": 0,
               "easing": "linear"
              }
             }
            ],
            "label": "2020-11",
            "method": "animate"
           },
           {
            "args": [
             [
              "2020-12"
             ],
             {
              "frame": {
               "duration": 0,
               "redraw": true
              },
              "fromcurrent": true,
              "mode": "immediate",
              "transition": {
               "duration": 0,
               "easing": "linear"
              }
             }
            ],
            "label": "2020-12",
            "method": "animate"
           },
           {
            "args": [
             [
              "2021-01"
             ],
             {
              "frame": {
               "duration": 0,
               "redraw": true
              },
              "fromcurrent": true,
              "mode": "immediate",
              "transition": {
               "duration": 0,
               "easing": "linear"
              }
             }
            ],
            "label": "2021-01",
            "method": "animate"
           },
           {
            "args": [
             [
              "2021-02"
             ],
             {
              "frame": {
               "duration": 0,
               "redraw": true
              },
              "fromcurrent": true,
              "mode": "immediate",
              "transition": {
               "duration": 0,
               "easing": "linear"
              }
             }
            ],
            "label": "2021-02",
            "method": "animate"
           },
           {
            "args": [
             [
              "2021-03"
             ],
             {
              "frame": {
               "duration": 0,
               "redraw": true
              },
              "fromcurrent": true,
              "mode": "immediate",
              "transition": {
               "duration": 0,
               "easing": "linear"
              }
             }
            ],
            "label": "2021-03",
            "method": "animate"
           },
           {
            "args": [
             [
              "2021-04"
             ],
             {
              "frame": {
               "duration": 0,
               "redraw": true
              },
              "fromcurrent": true,
              "mode": "immediate",
              "transition": {
               "duration": 0,
               "easing": "linear"
              }
             }
            ],
            "label": "2021-04",
            "method": "animate"
           }
          ],
          "x": 0.1,
          "xanchor": "left",
          "y": 0,
          "yanchor": "top"
         }
        ],
        "template": {
         "data": {
          "bar": [
           {
            "error_x": {
             "color": "#2a3f5f"
            },
            "error_y": {
             "color": "#2a3f5f"
            },
            "marker": {
             "line": {
              "color": "#E5ECF6",
              "width": 0.5
             },
             "pattern": {
              "fillmode": "overlay",
              "size": 10,
              "solidity": 0.2
             }
            },
            "type": "bar"
           }
          ],
          "barpolar": [
           {
            "marker": {
             "line": {
              "color": "#E5ECF6",
              "width": 0.5
             },
             "pattern": {
              "fillmode": "overlay",
              "size": 10,
              "solidity": 0.2
             }
            },
            "type": "barpolar"
           }
          ],
          "carpet": [
           {
            "aaxis": {
             "endlinecolor": "#2a3f5f",
             "gridcolor": "white",
             "linecolor": "white",
             "minorgridcolor": "white",
             "startlinecolor": "#2a3f5f"
            },
            "baxis": {
             "endlinecolor": "#2a3f5f",
             "gridcolor": "white",
             "linecolor": "white",
             "minorgridcolor": "white",
             "startlinecolor": "#2a3f5f"
            },
            "type": "carpet"
           }
          ],
          "choropleth": [
           {
            "colorbar": {
             "outlinewidth": 0,
             "ticks": ""
            },
            "type": "choropleth"
           }
          ],
          "contour": [
           {
            "colorbar": {
             "outlinewidth": 0,
             "ticks": ""
            },
            "colorscale": [
             [
              0,
              "#0d0887"
             ],
             [
              0.1111111111111111,
              "#46039f"
             ],
             [
              0.2222222222222222,
              "#7201a8"
             ],
             [
              0.3333333333333333,
              "#9c179e"
             ],
             [
              0.4444444444444444,
              "#bd3786"
             ],
             [
              0.5555555555555556,
              "#d8576b"
             ],
             [
              0.6666666666666666,
              "#ed7953"
             ],
             [
              0.7777777777777778,
              "#fb9f3a"
             ],
             [
              0.8888888888888888,
              "#fdca26"
             ],
             [
              1,
              "#f0f921"
             ]
            ],
            "type": "contour"
           }
          ],
          "contourcarpet": [
           {
            "colorbar": {
             "outlinewidth": 0,
             "ticks": ""
            },
            "type": "contourcarpet"
           }
          ],
          "heatmap": [
           {
            "colorbar": {
             "outlinewidth": 0,
             "ticks": ""
            },
            "colorscale": [
             [
              0,
              "#0d0887"
             ],
             [
              0.1111111111111111,
              "#46039f"
             ],
             [
              0.2222222222222222,
              "#7201a8"
             ],
             [
              0.3333333333333333,
              "#9c179e"
             ],
             [
              0.4444444444444444,
              "#bd3786"
             ],
             [
              0.5555555555555556,
              "#d8576b"
             ],
             [
              0.6666666666666666,
              "#ed7953"
             ],
             [
              0.7777777777777778,
              "#fb9f3a"
             ],
             [
              0.8888888888888888,
              "#fdca26"
             ],
             [
              1,
              "#f0f921"
             ]
            ],
            "type": "heatmap"
           }
          ],
          "heatmapgl": [
           {
            "colorbar": {
             "outlinewidth": 0,
             "ticks": ""
            },
            "colorscale": [
             [
              0,
              "#0d0887"
             ],
             [
              0.1111111111111111,
              "#46039f"
             ],
             [
              0.2222222222222222,
              "#7201a8"
             ],
             [
              0.3333333333333333,
              "#9c179e"
             ],
             [
              0.4444444444444444,
              "#bd3786"
             ],
             [
              0.5555555555555556,
              "#d8576b"
             ],
             [
              0.6666666666666666,
              "#ed7953"
             ],
             [
              0.7777777777777778,
              "#fb9f3a"
             ],
             [
              0.8888888888888888,
              "#fdca26"
             ],
             [
              1,
              "#f0f921"
             ]
            ],
            "type": "heatmapgl"
           }
          ],
          "histogram": [
           {
            "marker": {
             "pattern": {
              "fillmode": "overlay",
              "size": 10,
              "solidity": 0.2
             }
            },
            "type": "histogram"
           }
          ],
          "histogram2d": [
           {
            "colorbar": {
             "outlinewidth": 0,
             "ticks": ""
            },
            "colorscale": [
             [
              0,
              "#0d0887"
             ],
             [
              0.1111111111111111,
              "#46039f"
             ],
             [
              0.2222222222222222,
              "#7201a8"
             ],
             [
              0.3333333333333333,
              "#9c179e"
             ],
             [
              0.4444444444444444,
              "#bd3786"
             ],
             [
              0.5555555555555556,
              "#d8576b"
             ],
             [
              0.6666666666666666,
              "#ed7953"
             ],
             [
              0.7777777777777778,
              "#fb9f3a"
             ],
             [
              0.8888888888888888,
              "#fdca26"
             ],
             [
              1,
              "#f0f921"
             ]
            ],
            "type": "histogram2d"
           }
          ],
          "histogram2dcontour": [
           {
            "colorbar": {
             "outlinewidth": 0,
             "ticks": ""
            },
            "colorscale": [
             [
              0,
              "#0d0887"
             ],
             [
              0.1111111111111111,
              "#46039f"
             ],
             [
              0.2222222222222222,
              "#7201a8"
             ],
             [
              0.3333333333333333,
              "#9c179e"
             ],
             [
              0.4444444444444444,
              "#bd3786"
             ],
             [
              0.5555555555555556,
              "#d8576b"
             ],
             [
              0.6666666666666666,
              "#ed7953"
             ],
             [
              0.7777777777777778,
              "#fb9f3a"
             ],
             [
              0.8888888888888888,
              "#fdca26"
             ],
             [
              1,
              "#f0f921"
             ]
            ],
            "type": "histogram2dcontour"
           }
          ],
          "mesh3d": [
           {
            "colorbar": {
             "outlinewidth": 0,
             "ticks": ""
            },
            "type": "mesh3d"
           }
          ],
          "parcoords": [
           {
            "line": {
             "colorbar": {
              "outlinewidth": 0,
              "ticks": ""
             }
            },
            "type": "parcoords"
           }
          ],
          "pie": [
           {
            "automargin": true,
            "type": "pie"
           }
          ],
          "scatter": [
           {
            "marker": {
             "colorbar": {
              "outlinewidth": 0,
              "ticks": ""
             }
            },
            "type": "scatter"
           }
          ],
          "scatter3d": [
           {
            "line": {
             "colorbar": {
              "outlinewidth": 0,
              "ticks": ""
             }
            },
            "marker": {
             "colorbar": {
              "outlinewidth": 0,
              "ticks": ""
             }
            },
            "type": "scatter3d"
           }
          ],
          "scattercarpet": [
           {
            "marker": {
             "colorbar": {
              "outlinewidth": 0,
              "ticks": ""
             }
            },
            "type": "scattercarpet"
           }
          ],
          "scattergeo": [
           {
            "marker": {
             "colorbar": {
              "outlinewidth": 0,
              "ticks": ""
             }
            },
            "type": "scattergeo"
           }
          ],
          "scattergl": [
           {
            "marker": {
             "colorbar": {
              "outlinewidth": 0,
              "ticks": ""
             }
            },
            "type": "scattergl"
           }
          ],
          "scattermapbox": [
           {
            "marker": {
             "colorbar": {
              "outlinewidth": 0,
              "ticks": ""
             }
            },
            "type": "scattermapbox"
           }
          ],
          "scatterpolar": [
           {
            "marker": {
             "colorbar": {
              "outlinewidth": 0,
              "ticks": ""
             }
            },
            "type": "scatterpolar"
           }
          ],
          "scatterpolargl": [
           {
            "marker": {
             "colorbar": {
              "outlinewidth": 0,
              "ticks": ""
             }
            },
            "type": "scatterpolargl"
           }
          ],
          "scatterternary": [
           {
            "marker": {
             "colorbar": {
              "outlinewidth": 0,
              "ticks": ""
             }
            },
            "type": "scatterternary"
           }
          ],
          "surface": [
           {
            "colorbar": {
             "outlinewidth": 0,
             "ticks": ""
            },
            "colorscale": [
             [
              0,
              "#0d0887"
             ],
             [
              0.1111111111111111,
              "#46039f"
             ],
             [
              0.2222222222222222,
              "#7201a8"
             ],
             [
              0.3333333333333333,
              "#9c179e"
             ],
             [
              0.4444444444444444,
              "#bd3786"
             ],
             [
              0.5555555555555556,
              "#d8576b"
             ],
             [
              0.6666666666666666,
              "#ed7953"
             ],
             [
              0.7777777777777778,
              "#fb9f3a"
             ],
             [
              0.8888888888888888,
              "#fdca26"
             ],
             [
              1,
              "#f0f921"
             ]
            ],
            "type": "surface"
           }
          ],
          "table": [
           {
            "cells": {
             "fill": {
              "color": "#EBF0F8"
             },
             "line": {
              "color": "white"
             }
            },
            "header": {
             "fill": {
              "color": "#C8D4E3"
             },
             "line": {
              "color": "white"
             }
            },
            "type": "table"
           }
          ]
         },
         "layout": {
          "annotationdefaults": {
           "arrowcolor": "#2a3f5f",
           "arrowhead": 0,
           "arrowwidth": 1
          },
          "autotypenumbers": "strict",
          "coloraxis": {
           "colorbar": {
            "outlinewidth": 0,
            "ticks": ""
           }
          },
          "colorscale": {
           "diverging": [
            [
             0,
             "#8e0152"
            ],
            [
             0.1,
             "#c51b7d"
            ],
            [
             0.2,
             "#de77ae"
            ],
            [
             0.3,
             "#f1b6da"
            ],
            [
             0.4,
             "#fde0ef"
            ],
            [
             0.5,
             "#f7f7f7"
            ],
            [
             0.6,
             "#e6f5d0"
            ],
            [
             0.7,
             "#b8e186"
            ],
            [
             0.8,
             "#7fbc41"
            ],
            [
             0.9,
             "#4d9221"
            ],
            [
             1,
             "#276419"
            ]
           ],
           "sequential": [
            [
             0,
             "#0d0887"
            ],
            [
             0.1111111111111111,
             "#46039f"
            ],
            [
             0.2222222222222222,
             "#7201a8"
            ],
            [
             0.3333333333333333,
             "#9c179e"
            ],
            [
             0.4444444444444444,
             "#bd3786"
            ],
            [
             0.5555555555555556,
             "#d8576b"
            ],
            [
             0.6666666666666666,
             "#ed7953"
            ],
            [
             0.7777777777777778,
             "#fb9f3a"
            ],
            [
             0.8888888888888888,
             "#fdca26"
            ],
            [
             1,
             "#f0f921"
            ]
           ],
           "sequentialminus": [
            [
             0,
             "#0d0887"
            ],
            [
             0.1111111111111111,
             "#46039f"
            ],
            [
             0.2222222222222222,
             "#7201a8"
            ],
            [
             0.3333333333333333,
             "#9c179e"
            ],
            [
             0.4444444444444444,
             "#bd3786"
            ],
            [
             0.5555555555555556,
             "#d8576b"
            ],
            [
             0.6666666666666666,
             "#ed7953"
            ],
            [
             0.7777777777777778,
             "#fb9f3a"
            ],
            [
             0.8888888888888888,
             "#fdca26"
            ],
            [
             1,
             "#f0f921"
            ]
           ]
          },
          "colorway": [
           "#636efa",
           "#EF553B",
           "#00cc96",
           "#ab63fa",
           "#FFA15A",
           "#19d3f3",
           "#FF6692",
           "#B6E880",
           "#FF97FF",
           "#FECB52"
          ],
          "font": {
           "color": "#2a3f5f"
          },
          "geo": {
           "bgcolor": "white",
           "lakecolor": "white",
           "landcolor": "#E5ECF6",
           "showlakes": true,
           "showland": true,
           "subunitcolor": "white"
          },
          "hoverlabel": {
           "align": "left"
          },
          "hovermode": "closest",
          "mapbox": {
           "style": "light"
          },
          "paper_bgcolor": "white",
          "plot_bgcolor": "#E5ECF6",
          "polar": {
           "angularaxis": {
            "gridcolor": "white",
            "linecolor": "white",
            "ticks": ""
           },
           "bgcolor": "#E5ECF6",
           "radialaxis": {
            "gridcolor": "white",
            "linecolor": "white",
            "ticks": ""
           }
          },
          "scene": {
           "xaxis": {
            "backgroundcolor": "#E5ECF6",
            "gridcolor": "white",
            "gridwidth": 2,
            "linecolor": "white",
            "showbackground": true,
            "ticks": "",
            "zerolinecolor": "white"
           },
           "yaxis": {
            "backgroundcolor": "#E5ECF6",
            "gridcolor": "white",
            "gridwidth": 2,
            "linecolor": "white",
            "showbackground": true,
            "ticks": "",
            "zerolinecolor": "white"
           },
           "zaxis": {
            "backgroundcolor": "#E5ECF6",
            "gridcolor": "white",
            "gridwidth": 2,
            "linecolor": "white",
            "showbackground": true,
            "ticks": "",
            "zerolinecolor": "white"
           }
          },
          "shapedefaults": {
           "line": {
            "color": "#2a3f5f"
           }
          },
          "ternary": {
           "aaxis": {
            "gridcolor": "white",
            "linecolor": "white",
            "ticks": ""
           },
           "baxis": {
            "gridcolor": "white",
            "linecolor": "white",
            "ticks": ""
           },
           "bgcolor": "#E5ECF6",
           "caxis": {
            "gridcolor": "white",
            "linecolor": "white",
            "ticks": ""
           }
          },
          "title": {
           "x": 0.05
          },
          "xaxis": {
           "automargin": true,
           "gridcolor": "white",
           "linecolor": "white",
           "ticks": "",
           "title": {
            "standoff": 15
           },
           "zerolinecolor": "white",
           "zerolinewidth": 2
          },
          "yaxis": {
           "automargin": true,
           "gridcolor": "white",
           "linecolor": "white",
           "ticks": "",
           "title": {
            "standoff": 15
           },
           "zerolinecolor": "white",
           "zerolinewidth": 2
          }
         }
        },
        "updatemenus": [
         {
          "buttons": [
           {
            "args": [
             null,
             {
              "frame": {
               "duration": 500,
               "redraw": true
              },
              "fromcurrent": true,
              "mode": "immediate",
              "transition": {
               "duration": 500,
               "easing": "linear"
              }
             }
            ],
            "label": "&#9654;",
            "method": "animate"
           },
           {
            "args": [
             [
              null
             ],
             {
              "frame": {
               "duration": 0,
               "redraw": true
              },
              "fromcurrent": true,
              "mode": "immediate",
              "transition": {
               "duration": 0,
               "easing": "linear"
              }
             }
            ],
            "label": "&#9724;",
            "method": "animate"
           }
          ],
          "direction": "left",
          "pad": {
           "r": 10,
           "t": 70
          },
          "showactive": false,
          "type": "buttons",
          "x": 0.1,
          "xanchor": "right",
          "y": 0,
          "yanchor": "top"
         }
        ],
        "xaxis": {
         "anchor": "y",
         "domain": [
          0,
          1
         ],
         "range": [
          0,
          100
         ],
         "title": {
          "text": "number of cases"
         }
        },
        "yaxis": {
         "anchor": "x",
         "categoryarray": [
          "Zuid-Limburg",
          "Zuid-Holland",
          "Zeeland",
          "Utrecht",
          "Overijssel",
          "Noord-Holland",
          "Noord-Brabant",
          "Groningen",
          "Gelderland",
          "Friesland",
          "Flevoland",
          "Drenthe"
         ],
         "categoryorder": "total ascending",
         "domain": [
          0,
          1
         ],
         "title": {
          "text": "province"
         }
        }
       }
      }
     },
     "metadata": {},
     "output_type": "display_data"
    }
   ],
   "source": [
    "# Making a bar chart that can be toggled for the months. Here the monthly dataframe created in the first part comes in handy!\n",
    "# First a column is added to the df_month that only shows the year and the month\n",
    "df_full_month['year_month'] = df_full_month['date'].dt.strftime('%Y-%m')\n",
    "\n",
    "# Then the bar chart can be created using this column\n",
    "fig_6 = px.bar(df_full_month, x= 'number of cases', y='province', orientation='h',color='province',\n",
    "                animation_frame='year_month', animation_group='province')\n",
    "fig_6.update_layout(showlegend=False,xaxis_range = [0,100])\n",
    "fig_6.update_layout(yaxis={'categoryorder':'total ascending'})\n",
    "fig_6.show()"
   ]
  },
  {
   "cell_type": "markdown",
   "metadata": {},
   "source": [
    "By autoscaling the axes, the number of cases can also be seen in months with high numbers\n",
    "\n",
    "This shows how the narrative around Noord-Brabant was not completely unfair in the beginning\n",
    "- But it also shows that Zuid-Holland as of April 2020 had more cases than Noord-Brabant\n",
    "- Nevertheless you heard many people talking about how bad Brabant was doing. but not about how bad a.o. Zuid-Holland was doing\n",
    "- As an anecdote: my dad, who lives in Amsterdam, told me in May 2020 that I should watch out in Eindhoven with the number of cases there, even though the number had rapidly increased in Amsterdam/Noord-Holland to more cases per citizen than in Eindhoven\n",
    "- It was interesting to see how the narrative around different provinces impacted the way people perceived the covid crisis in the Netherlands"
   ]
  },
  {
   "cell_type": "markdown",
   "metadata": {},
   "source": [
    "Having observed this, let's add Noord-Holland and Zuid-Holland to the line graph a couple of blocks back."
   ]
  },
  {
   "cell_type": "code",
   "execution_count": 23,
   "metadata": {},
   "outputs": [
    {
     "data": {
      "application/vnd.plotly.v1+json": {
       "config": {
        "plotlyServerURL": "https://plot.ly"
       },
       "data": [
        {
         "name": "number of hospitalized patients Noord-Brabant",
         "type": "scatter",
         "x": [
          "2020-02-27T00:00:00",
          "2020-03-05T00:00:00",
          "2020-03-12T00:00:00",
          "2020-03-19T00:00:00",
          "2020-03-26T00:00:00",
          "2020-04-02T00:00:00",
          "2020-04-09T00:00:00",
          "2020-04-16T00:00:00",
          "2020-04-23T00:00:00",
          "2020-04-30T00:00:00",
          "2020-05-07T00:00:00",
          "2020-05-14T00:00:00",
          "2020-05-21T00:00:00",
          "2020-05-28T00:00:00",
          "2020-06-04T00:00:00",
          "2020-06-11T00:00:00",
          "2020-06-18T00:00:00",
          "2020-06-25T00:00:00",
          "2020-07-02T00:00:00",
          "2020-07-09T00:00:00",
          "2020-07-16T00:00:00",
          "2020-07-23T00:00:00",
          "2020-07-30T00:00:00",
          "2020-08-06T00:00:00",
          "2020-08-13T00:00:00",
          "2020-08-20T00:00:00",
          "2020-08-27T00:00:00",
          "2020-09-03T00:00:00",
          "2020-09-10T00:00:00",
          "2020-09-17T00:00:00",
          "2020-09-24T00:00:00",
          "2020-10-01T00:00:00",
          "2020-10-08T00:00:00",
          "2020-10-15T00:00:00",
          "2020-10-22T00:00:00",
          "2020-10-29T00:00:00",
          "2020-11-05T00:00:00",
          "2020-11-12T00:00:00",
          "2020-11-19T00:00:00",
          "2020-11-26T00:00:00",
          "2020-12-03T00:00:00",
          "2020-12-10T00:00:00",
          "2020-12-17T00:00:00",
          "2020-12-24T00:00:00",
          "2020-12-31T00:00:00",
          "2021-01-07T00:00:00",
          "2021-01-14T00:00:00",
          "2021-01-21T00:00:00",
          "2021-01-28T00:00:00",
          "2021-02-04T00:00:00",
          "2021-02-11T00:00:00",
          "2021-02-18T00:00:00",
          "2021-02-25T00:00:00",
          "2021-03-04T00:00:00",
          "2021-03-11T00:00:00",
          "2021-03-18T00:00:00",
          "2021-03-25T00:00:00",
          "2021-04-01T00:00:00",
          "2021-04-08T00:00:00",
          "2021-04-15T00:00:00"
         ],
         "y": [
          null,
          null,
          18.6,
          42.142857142857146,
          143,
          63.857142857142854,
          41.142857142857146,
          18.714285714285715,
          26,
          15.714285714285714,
          14.571428571428571,
          3.142857142857143,
          0.5714285714285714,
          0.8571428571428571,
          0.5714285714285714,
          1.2857142857142858,
          0.14285714285714285,
          0.42857142857142855,
          0,
          -0.14285714285714285,
          0,
          0.5714285714285714,
          0.8571428571428571,
          0.2857142857142857,
          0.8571428571428571,
          0.7142857142857143,
          0.5714285714285714,
          0.42857142857142855,
          0.2857142857142857,
          1.2857142857142858,
          3.5714285714285716,
          3.857142857142857,
          6.285714285714286,
          11.285714285714286,
          14,
          15.857142857142858,
          9.142857142857142,
          12,
          11,
          9.714285714285714,
          10.428571428571429,
          12.285714285714286,
          13.142857142857142,
          10.285714285714286,
          10.571428571428571,
          12.571428571428571,
          7.857142857142857,
          8.428571428571429,
          7.857142857142857,
          7.142857142857143,
          6.428571428571429,
          7.571428571428571,
          6.285714285714286,
          5.285714285714286,
          6.428571428571429,
          7.333333333333333,
          7.714285714285714,
          6.428571428571429,
          8,
          7.333333333333333
         ]
        },
        {
         "name": "number of casualties Noord-Brabant",
         "type": "scatter",
         "x": [
          "2020-02-27T00:00:00",
          "2020-03-05T00:00:00",
          "2020-03-12T00:00:00",
          "2020-03-19T00:00:00",
          "2020-03-26T00:00:00",
          "2020-04-02T00:00:00",
          "2020-04-09T00:00:00",
          "2020-04-16T00:00:00",
          "2020-04-23T00:00:00",
          "2020-04-30T00:00:00",
          "2020-05-07T00:00:00",
          "2020-05-14T00:00:00",
          "2020-05-21T00:00:00",
          "2020-05-28T00:00:00",
          "2020-06-04T00:00:00",
          "2020-06-11T00:00:00",
          "2020-06-18T00:00:00",
          "2020-06-25T00:00:00",
          "2020-07-02T00:00:00",
          "2020-07-09T00:00:00",
          "2020-07-16T00:00:00",
          "2020-07-23T00:00:00",
          "2020-07-30T00:00:00",
          "2020-08-06T00:00:00",
          "2020-08-13T00:00:00",
          "2020-08-20T00:00:00",
          "2020-08-27T00:00:00",
          "2020-09-03T00:00:00",
          "2020-09-10T00:00:00",
          "2020-09-17T00:00:00",
          "2020-09-24T00:00:00",
          "2020-10-01T00:00:00",
          "2020-10-08T00:00:00",
          "2020-10-15T00:00:00",
          "2020-10-22T00:00:00",
          "2020-10-29T00:00:00",
          "2020-11-05T00:00:00",
          "2020-11-12T00:00:00",
          "2020-11-19T00:00:00",
          "2020-11-26T00:00:00",
          "2020-12-03T00:00:00",
          "2020-12-10T00:00:00",
          "2020-12-17T00:00:00",
          "2020-12-24T00:00:00",
          "2020-12-31T00:00:00",
          "2021-01-07T00:00:00",
          "2021-01-14T00:00:00",
          "2021-01-21T00:00:00",
          "2021-01-28T00:00:00",
          "2021-02-04T00:00:00",
          "2021-02-11T00:00:00",
          "2021-02-18T00:00:00",
          "2021-02-25T00:00:00",
          "2021-03-04T00:00:00",
          "2021-03-11T00:00:00",
          "2021-03-18T00:00:00",
          "2021-03-25T00:00:00",
          "2021-04-01T00:00:00",
          "2021-04-08T00:00:00",
          "2021-04-15T00:00:00"
         ],
         "y": [
          null,
          null,
          6.4,
          19.428571428571427,
          43.714285714285715,
          43,
          29,
          34,
          16,
          10.428571428571429,
          9,
          2.7142857142857144,
          1.4285714285714286,
          1.8571428571428572,
          1.2857142857142858,
          1,
          0.5714285714285714,
          0.5714285714285714,
          0.2857142857142857,
          -0.2857142857142857,
          0,
          0.14285714285714285,
          0.2857142857142857,
          0.5714285714285714,
          0.5714285714285714,
          0.14285714285714285,
          0.42857142857142855,
          0.14285714285714285,
          0,
          0.42857142857142855,
          1.2857142857142858,
          1.5714285714285714,
          2.7142857142857144,
          4.714285714285714,
          6.857142857142857,
          13.571428571428571,
          14.142857142857142,
          12.428571428571429,
          7.285714285714286,
          8,
          6.857142857142857,
          12.857142857142858,
          13.571428571428571,
          10.571428571428571,
          9.857142857142858,
          12.285714285714286,
          8.714285714285714,
          7.714285714285714,
          7.285714285714286,
          8.571428571428571,
          9.142857142857142,
          7.142857142857143,
          4.428571428571429,
          4.142857142857143,
          4.428571428571429,
          3.6666666666666665,
          3,
          2,
          3.4285714285714284,
          1.6666666666666667
         ]
        },
        {
         "name": "number of cases Noord-Brabant",
         "type": "scatter",
         "x": [
          "2020-02-27T00:00:00",
          "2020-03-05T00:00:00",
          "2020-03-12T00:00:00",
          "2020-03-19T00:00:00",
          "2020-03-26T00:00:00",
          "2020-04-02T00:00:00",
          "2020-04-09T00:00:00",
          "2020-04-16T00:00:00",
          "2020-04-23T00:00:00",
          "2020-04-30T00:00:00",
          "2020-05-07T00:00:00",
          "2020-05-14T00:00:00",
          "2020-05-21T00:00:00",
          "2020-05-28T00:00:00",
          "2020-06-04T00:00:00",
          "2020-06-11T00:00:00",
          "2020-06-18T00:00:00",
          "2020-06-25T00:00:00",
          "2020-07-02T00:00:00",
          "2020-07-09T00:00:00",
          "2020-07-16T00:00:00",
          "2020-07-23T00:00:00",
          "2020-07-30T00:00:00",
          "2020-08-06T00:00:00",
          "2020-08-13T00:00:00",
          "2020-08-20T00:00:00",
          "2020-08-27T00:00:00",
          "2020-09-03T00:00:00",
          "2020-09-10T00:00:00",
          "2020-09-17T00:00:00",
          "2020-09-24T00:00:00",
          "2020-10-01T00:00:00",
          "2020-10-08T00:00:00",
          "2020-10-15T00:00:00",
          "2020-10-22T00:00:00",
          "2020-10-29T00:00:00",
          "2020-11-05T00:00:00",
          "2020-11-12T00:00:00",
          "2020-11-19T00:00:00",
          "2020-11-26T00:00:00",
          "2020-12-03T00:00:00",
          "2020-12-10T00:00:00",
          "2020-12-17T00:00:00",
          "2020-12-24T00:00:00",
          "2020-12-31T00:00:00",
          "2021-01-07T00:00:00",
          "2021-01-14T00:00:00",
          "2021-01-21T00:00:00",
          "2021-01-28T00:00:00",
          "2021-02-04T00:00:00",
          "2021-02-11T00:00:00",
          "2021-02-18T00:00:00",
          "2021-02-25T00:00:00",
          "2021-03-04T00:00:00",
          "2021-03-11T00:00:00",
          "2021-03-18T00:00:00",
          "2021-03-25T00:00:00",
          "2021-04-01T00:00:00",
          "2021-04-08T00:00:00",
          "2021-04-15T00:00:00"
         ],
         "y": [
          2.6666666666666665,
          28.714285714285715,
          72.85714285714286,
          163.85714285714286,
          236.14285714285714,
          174.71428571428572,
          181.42857142857142,
          161.71428571428572,
          101.28571428571429,
          62.142857142857146,
          35.142857142857146,
          25.428571428571427,
          22.142857142857142,
          24.571428571428573,
          30.142857142857142,
          26.285714285714285,
          13.285714285714286,
          9.285714285714286,
          8.857142857142858,
          7.285714285714286,
          18.714285714285715,
          23.428571428571427,
          49.57142857142857,
          73.85714285714286,
          65.28571428571429,
          72,
          71.71428571428571,
          86.42857142857143,
          108.57142857142857,
          221.42857142857142,
          327.2857142857143,
          553.5714285714286,
          963.5714285714286,
          1271.2857142857142,
          1544,
          1673.4285714285713,
          982,
          875,
          917.8571428571429,
          780.2857142857143,
          1051.857142857143,
          1449.2857142857142,
          1721.7142857142858,
          1329.2857142857142,
          1102.4285714285713,
          1101.2857142857142,
          809.7142857142857,
          807.5714285714286,
          696.4285714285714,
          589,
          544,
          781,
          742.4285714285714,
          713.4285714285714,
          904,
          1048.3333333333333,
          1158.7142857142858,
          1113.5714285714287,
          1214,
          1457
         ]
        },
        {
         "name": "number of hospitalized patients Noord-Holland",
         "type": "scatter",
         "x": [
          "2020-02-27T00:00:00",
          "2020-03-05T00:00:00",
          "2020-03-12T00:00:00",
          "2020-03-19T00:00:00",
          "2020-03-26T00:00:00",
          "2020-04-02T00:00:00",
          "2020-04-09T00:00:00",
          "2020-04-16T00:00:00",
          "2020-04-23T00:00:00",
          "2020-04-30T00:00:00",
          "2020-05-07T00:00:00",
          "2020-05-14T00:00:00",
          "2020-05-21T00:00:00",
          "2020-05-28T00:00:00",
          "2020-06-04T00:00:00",
          "2020-06-11T00:00:00",
          "2020-06-18T00:00:00",
          "2020-06-25T00:00:00",
          "2020-07-02T00:00:00",
          "2020-07-09T00:00:00",
          "2020-07-16T00:00:00",
          "2020-07-23T00:00:00",
          "2020-07-30T00:00:00",
          "2020-08-06T00:00:00",
          "2020-08-13T00:00:00",
          "2020-08-20T00:00:00",
          "2020-08-27T00:00:00",
          "2020-09-03T00:00:00",
          "2020-09-10T00:00:00",
          "2020-09-17T00:00:00",
          "2020-09-24T00:00:00",
          "2020-10-01T00:00:00",
          "2020-10-08T00:00:00",
          "2020-10-15T00:00:00",
          "2020-10-22T00:00:00",
          "2020-10-29T00:00:00",
          "2020-11-05T00:00:00",
          "2020-11-12T00:00:00",
          "2020-11-19T00:00:00",
          "2020-11-26T00:00:00",
          "2020-12-03T00:00:00",
          "2020-12-10T00:00:00",
          "2020-12-17T00:00:00",
          "2020-12-24T00:00:00",
          "2020-12-31T00:00:00",
          "2021-01-07T00:00:00",
          "2021-01-14T00:00:00",
          "2021-01-21T00:00:00",
          "2021-01-28T00:00:00",
          "2021-02-04T00:00:00",
          "2021-02-11T00:00:00",
          "2021-02-18T00:00:00",
          "2021-02-25T00:00:00",
          "2021-03-04T00:00:00",
          "2021-03-11T00:00:00",
          "2021-03-18T00:00:00",
          "2021-03-25T00:00:00",
          "2021-04-01T00:00:00",
          "2021-04-08T00:00:00",
          "2021-04-15T00:00:00"
         ],
         "y": [
          null,
          null,
          3.8,
          32.42857142857143,
          72.28571428571429,
          46.714285714285715,
          27.142857142857142,
          21.571428571428573,
          11.142857142857142,
          7.714285714285714,
          3.5714285714285716,
          3.142857142857143,
          0.8571428571428571,
          1.5714285714285714,
          0.8571428571428571,
          0.42857142857142855,
          0.8571428571428571,
          0.2857142857142857,
          0,
          0.14285714285714285,
          0,
          1,
          1.4285714285714286,
          2,
          1.1428571428571428,
          2.142857142857143,
          1.7142857142857142,
          1.7142857142857142,
          4.714285714285714,
          6.285714285714286,
          9.857142857142858,
          11.857142857142858,
          13.571428571428571,
          19.428571428571427,
          19,
          21,
          12.285714285714286,
          12.857142857142858,
          8.857142857142858,
          8.428571428571429,
          8.857142857142858,
          10.428571428571429,
          14.428571428571429,
          13.285714285714286,
          13.714285714285714,
          10.714285714285714,
          9.142857142857142,
          10.571428571428571,
          11.142857142857142,
          9.285714285714286,
          11.428571428571429,
          9.428571428571429,
          9.428571428571429,
          12.142857142857142,
          11.714285714285714,
          12.166666666666666,
          12.285714285714286,
          11.428571428571429,
          11.142857142857142,
          12
         ]
        },
        {
         "name": "number of casualties Noord-Holland",
         "type": "scatter",
         "x": [
          "2020-02-27T00:00:00",
          "2020-03-05T00:00:00",
          "2020-03-12T00:00:00",
          "2020-03-19T00:00:00",
          "2020-03-26T00:00:00",
          "2020-04-02T00:00:00",
          "2020-04-09T00:00:00",
          "2020-04-16T00:00:00",
          "2020-04-23T00:00:00",
          "2020-04-30T00:00:00",
          "2020-05-07T00:00:00",
          "2020-05-14T00:00:00",
          "2020-05-21T00:00:00",
          "2020-05-28T00:00:00",
          "2020-06-04T00:00:00",
          "2020-06-11T00:00:00",
          "2020-06-18T00:00:00",
          "2020-06-25T00:00:00",
          "2020-07-02T00:00:00",
          "2020-07-09T00:00:00",
          "2020-07-16T00:00:00",
          "2020-07-23T00:00:00",
          "2020-07-30T00:00:00",
          "2020-08-06T00:00:00",
          "2020-08-13T00:00:00",
          "2020-08-20T00:00:00",
          "2020-08-27T00:00:00",
          "2020-09-03T00:00:00",
          "2020-09-10T00:00:00",
          "2020-09-17T00:00:00",
          "2020-09-24T00:00:00",
          "2020-10-01T00:00:00",
          "2020-10-08T00:00:00",
          "2020-10-15T00:00:00",
          "2020-10-22T00:00:00",
          "2020-10-29T00:00:00",
          "2020-11-05T00:00:00",
          "2020-11-12T00:00:00",
          "2020-11-19T00:00:00",
          "2020-11-26T00:00:00",
          "2020-12-03T00:00:00",
          "2020-12-10T00:00:00",
          "2020-12-17T00:00:00",
          "2020-12-24T00:00:00",
          "2020-12-31T00:00:00",
          "2021-01-07T00:00:00",
          "2021-01-14T00:00:00",
          "2021-01-21T00:00:00",
          "2021-01-28T00:00:00",
          "2021-02-04T00:00:00",
          "2021-02-11T00:00:00",
          "2021-02-18T00:00:00",
          "2021-02-25T00:00:00",
          "2021-03-04T00:00:00",
          "2021-03-11T00:00:00",
          "2021-03-18T00:00:00",
          "2021-03-25T00:00:00",
          "2021-04-01T00:00:00",
          "2021-04-08T00:00:00",
          "2021-04-15T00:00:00"
         ],
         "y": [
          null,
          null,
          0,
          3.2857142857142856,
          13.428571428571429,
          20.142857142857142,
          20.285714285714285,
          16.142857142857142,
          12.428571428571429,
          12.142857142857142,
          7.571428571428571,
          4.571428571428571,
          3.4285714285714284,
          1.1428571428571428,
          1.1428571428571428,
          0.42857142857142855,
          0.42857142857142855,
          0,
          0,
          0.14285714285714285,
          -0.2857142857142857,
          0,
          0,
          0.14285714285714285,
          1,
          0.2857142857142857,
          0.5714285714285714,
          0.14285714285714285,
          0.8571428571428571,
          1,
          2.5714285714285716,
          3.4285714285714284,
          3.4285714285714284,
          3.7142857142857144,
          8.857142857142858,
          8.714285714285714,
          11,
          9,
          7.428571428571429,
          8.142857142857142,
          7.714285714285714,
          11.428571428571429,
          11.285714285714286,
          12.142857142857142,
          16.857142857142858,
          17.285714285714285,
          8.285714285714286,
          8.571428571428571,
          9.428571428571429,
          8.714285714285714,
          11.714285714285714,
          8.714285714285714,
          5.285714285714286,
          4.571428571428571,
          4.857142857142857,
          4,
          7,
          3.7142857142857144,
          4.428571428571429,
          2.6666666666666665
         ]
        },
        {
         "name": "number of cases Noord-Holland",
         "type": "scatter",
         "x": [
          "2020-02-27T00:00:00",
          "2020-03-05T00:00:00",
          "2020-03-12T00:00:00",
          "2020-03-19T00:00:00",
          "2020-03-26T00:00:00",
          "2020-04-02T00:00:00",
          "2020-04-09T00:00:00",
          "2020-04-16T00:00:00",
          "2020-04-23T00:00:00",
          "2020-04-30T00:00:00",
          "2020-05-07T00:00:00",
          "2020-05-14T00:00:00",
          "2020-05-21T00:00:00",
          "2020-05-28T00:00:00",
          "2020-06-04T00:00:00",
          "2020-06-11T00:00:00",
          "2020-06-18T00:00:00",
          "2020-06-25T00:00:00",
          "2020-07-02T00:00:00",
          "2020-07-09T00:00:00",
          "2020-07-16T00:00:00",
          "2020-07-23T00:00:00",
          "2020-07-30T00:00:00",
          "2020-08-06T00:00:00",
          "2020-08-13T00:00:00",
          "2020-08-20T00:00:00",
          "2020-08-27T00:00:00",
          "2020-09-03T00:00:00",
          "2020-09-10T00:00:00",
          "2020-09-17T00:00:00",
          "2020-09-24T00:00:00",
          "2020-10-01T00:00:00",
          "2020-10-08T00:00:00",
          "2020-10-15T00:00:00",
          "2020-10-22T00:00:00",
          "2020-10-29T00:00:00",
          "2020-11-05T00:00:00",
          "2020-11-12T00:00:00",
          "2020-11-19T00:00:00",
          "2020-11-26T00:00:00",
          "2020-12-03T00:00:00",
          "2020-12-10T00:00:00",
          "2020-12-17T00:00:00",
          "2020-12-24T00:00:00",
          "2020-12-31T00:00:00",
          "2021-01-07T00:00:00",
          "2021-01-14T00:00:00",
          "2021-01-21T00:00:00",
          "2021-01-28T00:00:00",
          "2021-02-04T00:00:00",
          "2021-02-11T00:00:00",
          "2021-02-18T00:00:00",
          "2021-02-25T00:00:00",
          "2021-03-04T00:00:00",
          "2021-03-11T00:00:00",
          "2021-03-18T00:00:00",
          "2021-03-25T00:00:00",
          "2021-04-01T00:00:00",
          "2021-04-08T00:00:00",
          "2021-04-15T00:00:00"
         ],
         "y": [
          1.1666666666666667,
          4,
          19.857142857142858,
          94.71428571428571,
          163.57142857142858,
          159.42857142857142,
          149.28571428571428,
          134.42857142857142,
          77,
          55.285714285714285,
          39,
          27.714285714285715,
          20.857142857142858,
          13.571428571428571,
          26.857142857142858,
          25,
          12.428571428571429,
          11.857142857142858,
          12.142857142857142,
          11.428571428571429,
          30.285714285714285,
          43.142857142857146,
          94.28571428571429,
          161,
          159,
          134.42857142857142,
          140.14285714285714,
          217.42857142857142,
          329.42857142857144,
          515,
          660.8571428571429,
          840.2857142857143,
          1230.5714285714287,
          1570.4285714285713,
          1680.2857142857142,
          1366.7142857142858,
          996.8571428571429,
          865.5714285714286,
          836.7142857142857,
          765.4285714285714,
          1003.7142857142857,
          1336.857142857143,
          1773.857142857143,
          1467.2857142857142,
          1183.5714285714287,
          1007.8571428571429,
          860.4285714285714,
          827.8571428571429,
          675.8571428571429,
          592.2857142857143,
          738.8571428571429,
          877.4285714285714,
          1014,
          955.5714285714286,
          1074.857142857143,
          1181.3333333333333,
          1242.857142857143,
          1034,
          1004.5714285714286,
          1234.3333333333333
         ]
        },
        {
         "name": "number of hospitalized patients Zuid-Holland",
         "type": "scatter",
         "x": [
          "2020-02-27T00:00:00",
          "2020-03-05T00:00:00",
          "2020-03-12T00:00:00",
          "2020-03-19T00:00:00",
          "2020-03-26T00:00:00",
          "2020-04-02T00:00:00",
          "2020-04-09T00:00:00",
          "2020-04-16T00:00:00",
          "2020-04-23T00:00:00",
          "2020-04-30T00:00:00",
          "2020-05-07T00:00:00",
          "2020-05-14T00:00:00",
          "2020-05-21T00:00:00",
          "2020-05-28T00:00:00",
          "2020-06-04T00:00:00",
          "2020-06-11T00:00:00",
          "2020-06-18T00:00:00",
          "2020-06-25T00:00:00",
          "2020-07-02T00:00:00",
          "2020-07-09T00:00:00",
          "2020-07-16T00:00:00",
          "2020-07-23T00:00:00",
          "2020-07-30T00:00:00",
          "2020-08-06T00:00:00",
          "2020-08-13T00:00:00",
          "2020-08-20T00:00:00",
          "2020-08-27T00:00:00",
          "2020-09-03T00:00:00",
          "2020-09-10T00:00:00",
          "2020-09-17T00:00:00",
          "2020-09-24T00:00:00",
          "2020-10-01T00:00:00",
          "2020-10-08T00:00:00",
          "2020-10-15T00:00:00",
          "2020-10-22T00:00:00",
          "2020-10-29T00:00:00",
          "2020-11-05T00:00:00",
          "2020-11-12T00:00:00",
          "2020-11-19T00:00:00",
          "2020-11-26T00:00:00",
          "2020-12-03T00:00:00",
          "2020-12-10T00:00:00",
          "2020-12-17T00:00:00",
          "2020-12-24T00:00:00",
          "2020-12-31T00:00:00",
          "2021-01-07T00:00:00",
          "2021-01-14T00:00:00",
          "2021-01-21T00:00:00",
          "2021-01-28T00:00:00",
          "2021-02-04T00:00:00",
          "2021-02-11T00:00:00",
          "2021-02-18T00:00:00",
          "2021-02-25T00:00:00",
          "2021-03-04T00:00:00",
          "2021-03-11T00:00:00",
          "2021-03-18T00:00:00",
          "2021-03-25T00:00:00",
          "2021-04-01T00:00:00",
          "2021-04-08T00:00:00",
          "2021-04-15T00:00:00"
         ],
         "y": [
          null,
          null,
          7.4,
          32.857142857142854,
          73.85714285714286,
          63.42857142857143,
          42.57142857142857,
          26.714285714285715,
          17.571428571428573,
          14.571428571428571,
          12.285714285714286,
          7.571428571428571,
          4,
          3.5714285714285716,
          2.2857142857142856,
          1.4285714285714286,
          1.4285714285714286,
          1.2857142857142858,
          0.8571428571428571,
          1.4285714285714286,
          0.2857142857142857,
          1,
          2,
          2.2857142857142856,
          4.285714285714286,
          5.142857142857143,
          2.4285714285714284,
          3,
          5,
          9.857142857142858,
          11.714285714285714,
          15.142857142857142,
          20.571428571428573,
          20,
          32.285714285714285,
          30.428571428571427,
          35.142857142857146,
          35.57142857142857,
          27.428571428571427,
          23.142857142857142,
          19.857142857142858,
          16.857142857142858,
          27,
          24.857142857142858,
          26.857142857142858,
          22.714285714285715,
          24,
          27.142857142857142,
          15.285714285714286,
          21.142857142857142,
          19.714285714285715,
          23.285714285714285,
          22.571428571428573,
          21,
          18.428571428571427,
          21.833333333333332,
          23.714285714285715,
          27.142857142857142,
          23.857142857142858,
          27.333333333333332
         ]
        },
        {
         "name": "number of casualties Zuid-Holland",
         "type": "scatter",
         "x": [
          "2020-02-27T00:00:00",
          "2020-03-05T00:00:00",
          "2020-03-12T00:00:00",
          "2020-03-19T00:00:00",
          "2020-03-26T00:00:00",
          "2020-04-02T00:00:00",
          "2020-04-09T00:00:00",
          "2020-04-16T00:00:00",
          "2020-04-23T00:00:00",
          "2020-04-30T00:00:00",
          "2020-05-07T00:00:00",
          "2020-05-14T00:00:00",
          "2020-05-21T00:00:00",
          "2020-05-28T00:00:00",
          "2020-06-04T00:00:00",
          "2020-06-11T00:00:00",
          "2020-06-18T00:00:00",
          "2020-06-25T00:00:00",
          "2020-07-02T00:00:00",
          "2020-07-09T00:00:00",
          "2020-07-16T00:00:00",
          "2020-07-23T00:00:00",
          "2020-07-30T00:00:00",
          "2020-08-06T00:00:00",
          "2020-08-13T00:00:00",
          "2020-08-20T00:00:00",
          "2020-08-27T00:00:00",
          "2020-09-03T00:00:00",
          "2020-09-10T00:00:00",
          "2020-09-17T00:00:00",
          "2020-09-24T00:00:00",
          "2020-10-01T00:00:00",
          "2020-10-08T00:00:00",
          "2020-10-15T00:00:00",
          "2020-10-22T00:00:00",
          "2020-10-29T00:00:00",
          "2020-11-05T00:00:00",
          "2020-11-12T00:00:00",
          "2020-11-19T00:00:00",
          "2020-11-26T00:00:00",
          "2020-12-03T00:00:00",
          "2020-12-10T00:00:00",
          "2020-12-17T00:00:00",
          "2020-12-24T00:00:00",
          "2020-12-31T00:00:00",
          "2021-01-07T00:00:00",
          "2021-01-14T00:00:00",
          "2021-01-21T00:00:00",
          "2021-01-28T00:00:00",
          "2021-02-04T00:00:00",
          "2021-02-11T00:00:00",
          "2021-02-18T00:00:00",
          "2021-02-25T00:00:00",
          "2021-03-04T00:00:00",
          "2021-03-11T00:00:00",
          "2021-03-18T00:00:00",
          "2021-03-25T00:00:00",
          "2021-04-01T00:00:00",
          "2021-04-08T00:00:00",
          "2021-04-15T00:00:00"
         ],
         "y": [
          null,
          null,
          0,
          2.142857142857143,
          9.571428571428571,
          20.428571428571427,
          24.714285714285715,
          34.57142857142857,
          27,
          21,
          16.571428571428573,
          9.142857142857142,
          7,
          5.714285714285714,
          3.857142857142857,
          0.8571428571428571,
          1.4285714285714286,
          0.8571428571428571,
          1.1428571428571428,
          0.14285714285714285,
          0.42857142857142855,
          0.5714285714285714,
          0.2857142857142857,
          0.2857142857142857,
          1.1428571428571428,
          2.7142857142857144,
          1,
          0.5714285714285714,
          0.7142857142857143,
          2.142857142857143,
          5,
          4.857142857142857,
          6.428571428571429,
          10.142857142857142,
          15.857142857142858,
          22.142857142857142,
          19.857142857142858,
          18.285714285714285,
          23.285714285714285,
          15.857142857142858,
          13.142857142857142,
          13.142857142857142,
          18.142857142857142,
          17.571428571428573,
          15.857142857142858,
          22.571428571428573,
          16.285714285714285,
          20.285714285714285,
          15.857142857142858,
          12.428571428571429,
          11,
          13.285714285714286,
          12.142857142857142,
          9.285714285714286,
          8,
          9,
          4.142857142857143,
          4,
          6.714285714285714,
          3
         ]
        },
        {
         "name": "number of cases Zuid-Holland",
         "type": "scatter",
         "x": [
          "2020-02-27T00:00:00",
          "2020-03-05T00:00:00",
          "2020-03-12T00:00:00",
          "2020-03-19T00:00:00",
          "2020-03-26T00:00:00",
          "2020-04-02T00:00:00",
          "2020-04-09T00:00:00",
          "2020-04-16T00:00:00",
          "2020-04-23T00:00:00",
          "2020-04-30T00:00:00",
          "2020-05-07T00:00:00",
          "2020-05-14T00:00:00",
          "2020-05-21T00:00:00",
          "2020-05-28T00:00:00",
          "2020-06-04T00:00:00",
          "2020-06-11T00:00:00",
          "2020-06-18T00:00:00",
          "2020-06-25T00:00:00",
          "2020-07-02T00:00:00",
          "2020-07-09T00:00:00",
          "2020-07-16T00:00:00",
          "2020-07-23T00:00:00",
          "2020-07-30T00:00:00",
          "2020-08-06T00:00:00",
          "2020-08-13T00:00:00",
          "2020-08-20T00:00:00",
          "2020-08-27T00:00:00",
          "2020-09-03T00:00:00",
          "2020-09-10T00:00:00",
          "2020-09-17T00:00:00",
          "2020-09-24T00:00:00",
          "2020-10-01T00:00:00",
          "2020-10-08T00:00:00",
          "2020-10-15T00:00:00",
          "2020-10-22T00:00:00",
          "2020-10-29T00:00:00",
          "2020-11-05T00:00:00",
          "2020-11-12T00:00:00",
          "2020-11-19T00:00:00",
          "2020-11-26T00:00:00",
          "2020-12-03T00:00:00",
          "2020-12-10T00:00:00",
          "2020-12-17T00:00:00",
          "2020-12-24T00:00:00",
          "2020-12-31T00:00:00",
          "2021-01-07T00:00:00",
          "2021-01-14T00:00:00",
          "2021-01-21T00:00:00",
          "2021-01-28T00:00:00",
          "2021-02-04T00:00:00",
          "2021-02-11T00:00:00",
          "2021-02-18T00:00:00",
          "2021-02-25T00:00:00",
          "2021-03-04T00:00:00",
          "2021-03-11T00:00:00",
          "2021-03-18T00:00:00",
          "2021-03-25T00:00:00",
          "2021-04-01T00:00:00",
          "2021-04-08T00:00:00",
          "2021-04-15T00:00:00"
         ],
         "y": [
          1.1666666666666667,
          7.142857142857143,
          25,
          92.42857142857143,
          185.85714285714286,
          220,
          249.42857142857142,
          221.57142857142858,
          130.85714285714286,
          86.42857142857143,
          76.71428571428571,
          56,
          52,
          32,
          59.42857142857143,
          52.285714285714285,
          31,
          32.285714285714285,
          22.857142857142858,
          35.714285714285715,
          60.285714285714285,
          92.28571428571429,
          184.85714285714286,
          244.71428571428572,
          201.57142857142858,
          163.71428571428572,
          183.71428571428572,
          304.2857142857143,
          439.57142857142856,
          671.1428571428571,
          944.8571428571429,
          1290.857142857143,
          1916.857142857143,
          2217.5714285714284,
          2826,
          2559,
          1610.2857142857142,
          1363.7142857142858,
          1307,
          1130.857142857143,
          1351.142857142857,
          1826.2857142857142,
          2252.5714285714284,
          1814.142857142857,
          1432.7142857142858,
          1232,
          933.4285714285714,
          907.5714285714286,
          710.5714285714286,
          636.2857142857143,
          723,
          836.2857142857143,
          972,
          1003.4285714285714,
          1362.4285714285713,
          1605.6666666666667,
          1864.5714285714287,
          1709.142857142857,
          1851.4285714285713,
          2177
         ]
        }
       ],
       "layout": {
        "template": {
         "data": {
          "bar": [
           {
            "error_x": {
             "color": "#2a3f5f"
            },
            "error_y": {
             "color": "#2a3f5f"
            },
            "marker": {
             "line": {
              "color": "#E5ECF6",
              "width": 0.5
             },
             "pattern": {
              "fillmode": "overlay",
              "size": 10,
              "solidity": 0.2
             }
            },
            "type": "bar"
           }
          ],
          "barpolar": [
           {
            "marker": {
             "line": {
              "color": "#E5ECF6",
              "width": 0.5
             },
             "pattern": {
              "fillmode": "overlay",
              "size": 10,
              "solidity": 0.2
             }
            },
            "type": "barpolar"
           }
          ],
          "carpet": [
           {
            "aaxis": {
             "endlinecolor": "#2a3f5f",
             "gridcolor": "white",
             "linecolor": "white",
             "minorgridcolor": "white",
             "startlinecolor": "#2a3f5f"
            },
            "baxis": {
             "endlinecolor": "#2a3f5f",
             "gridcolor": "white",
             "linecolor": "white",
             "minorgridcolor": "white",
             "startlinecolor": "#2a3f5f"
            },
            "type": "carpet"
           }
          ],
          "choropleth": [
           {
            "colorbar": {
             "outlinewidth": 0,
             "ticks": ""
            },
            "type": "choropleth"
           }
          ],
          "contour": [
           {
            "colorbar": {
             "outlinewidth": 0,
             "ticks": ""
            },
            "colorscale": [
             [
              0,
              "#0d0887"
             ],
             [
              0.1111111111111111,
              "#46039f"
             ],
             [
              0.2222222222222222,
              "#7201a8"
             ],
             [
              0.3333333333333333,
              "#9c179e"
             ],
             [
              0.4444444444444444,
              "#bd3786"
             ],
             [
              0.5555555555555556,
              "#d8576b"
             ],
             [
              0.6666666666666666,
              "#ed7953"
             ],
             [
              0.7777777777777778,
              "#fb9f3a"
             ],
             [
              0.8888888888888888,
              "#fdca26"
             ],
             [
              1,
              "#f0f921"
             ]
            ],
            "type": "contour"
           }
          ],
          "contourcarpet": [
           {
            "colorbar": {
             "outlinewidth": 0,
             "ticks": ""
            },
            "type": "contourcarpet"
           }
          ],
          "heatmap": [
           {
            "colorbar": {
             "outlinewidth": 0,
             "ticks": ""
            },
            "colorscale": [
             [
              0,
              "#0d0887"
             ],
             [
              0.1111111111111111,
              "#46039f"
             ],
             [
              0.2222222222222222,
              "#7201a8"
             ],
             [
              0.3333333333333333,
              "#9c179e"
             ],
             [
              0.4444444444444444,
              "#bd3786"
             ],
             [
              0.5555555555555556,
              "#d8576b"
             ],
             [
              0.6666666666666666,
              "#ed7953"
             ],
             [
              0.7777777777777778,
              "#fb9f3a"
             ],
             [
              0.8888888888888888,
              "#fdca26"
             ],
             [
              1,
              "#f0f921"
             ]
            ],
            "type": "heatmap"
           }
          ],
          "heatmapgl": [
           {
            "colorbar": {
             "outlinewidth": 0,
             "ticks": ""
            },
            "colorscale": [
             [
              0,
              "#0d0887"
             ],
             [
              0.1111111111111111,
              "#46039f"
             ],
             [
              0.2222222222222222,
              "#7201a8"
             ],
             [
              0.3333333333333333,
              "#9c179e"
             ],
             [
              0.4444444444444444,
              "#bd3786"
             ],
             [
              0.5555555555555556,
              "#d8576b"
             ],
             [
              0.6666666666666666,
              "#ed7953"
             ],
             [
              0.7777777777777778,
              "#fb9f3a"
             ],
             [
              0.8888888888888888,
              "#fdca26"
             ],
             [
              1,
              "#f0f921"
             ]
            ],
            "type": "heatmapgl"
           }
          ],
          "histogram": [
           {
            "marker": {
             "pattern": {
              "fillmode": "overlay",
              "size": 10,
              "solidity": 0.2
             }
            },
            "type": "histogram"
           }
          ],
          "histogram2d": [
           {
            "colorbar": {
             "outlinewidth": 0,
             "ticks": ""
            },
            "colorscale": [
             [
              0,
              "#0d0887"
             ],
             [
              0.1111111111111111,
              "#46039f"
             ],
             [
              0.2222222222222222,
              "#7201a8"
             ],
             [
              0.3333333333333333,
              "#9c179e"
             ],
             [
              0.4444444444444444,
              "#bd3786"
             ],
             [
              0.5555555555555556,
              "#d8576b"
             ],
             [
              0.6666666666666666,
              "#ed7953"
             ],
             [
              0.7777777777777778,
              "#fb9f3a"
             ],
             [
              0.8888888888888888,
              "#fdca26"
             ],
             [
              1,
              "#f0f921"
             ]
            ],
            "type": "histogram2d"
           }
          ],
          "histogram2dcontour": [
           {
            "colorbar": {
             "outlinewidth": 0,
             "ticks": ""
            },
            "colorscale": [
             [
              0,
              "#0d0887"
             ],
             [
              0.1111111111111111,
              "#46039f"
             ],
             [
              0.2222222222222222,
              "#7201a8"
             ],
             [
              0.3333333333333333,
              "#9c179e"
             ],
             [
              0.4444444444444444,
              "#bd3786"
             ],
             [
              0.5555555555555556,
              "#d8576b"
             ],
             [
              0.6666666666666666,
              "#ed7953"
             ],
             [
              0.7777777777777778,
              "#fb9f3a"
             ],
             [
              0.8888888888888888,
              "#fdca26"
             ],
             [
              1,
              "#f0f921"
             ]
            ],
            "type": "histogram2dcontour"
           }
          ],
          "mesh3d": [
           {
            "colorbar": {
             "outlinewidth": 0,
             "ticks": ""
            },
            "type": "mesh3d"
           }
          ],
          "parcoords": [
           {
            "line": {
             "colorbar": {
              "outlinewidth": 0,
              "ticks": ""
             }
            },
            "type": "parcoords"
           }
          ],
          "pie": [
           {
            "automargin": true,
            "type": "pie"
           }
          ],
          "scatter": [
           {
            "marker": {
             "colorbar": {
              "outlinewidth": 0,
              "ticks": ""
             }
            },
            "type": "scatter"
           }
          ],
          "scatter3d": [
           {
            "line": {
             "colorbar": {
              "outlinewidth": 0,
              "ticks": ""
             }
            },
            "marker": {
             "colorbar": {
              "outlinewidth": 0,
              "ticks": ""
             }
            },
            "type": "scatter3d"
           }
          ],
          "scattercarpet": [
           {
            "marker": {
             "colorbar": {
              "outlinewidth": 0,
              "ticks": ""
             }
            },
            "type": "scattercarpet"
           }
          ],
          "scattergeo": [
           {
            "marker": {
             "colorbar": {
              "outlinewidth": 0,
              "ticks": ""
             }
            },
            "type": "scattergeo"
           }
          ],
          "scattergl": [
           {
            "marker": {
             "colorbar": {
              "outlinewidth": 0,
              "ticks": ""
             }
            },
            "type": "scattergl"
           }
          ],
          "scattermapbox": [
           {
            "marker": {
             "colorbar": {
              "outlinewidth": 0,
              "ticks": ""
             }
            },
            "type": "scattermapbox"
           }
          ],
          "scatterpolar": [
           {
            "marker": {
             "colorbar": {
              "outlinewidth": 0,
              "ticks": ""
             }
            },
            "type": "scatterpolar"
           }
          ],
          "scatterpolargl": [
           {
            "marker": {
             "colorbar": {
              "outlinewidth": 0,
              "ticks": ""
             }
            },
            "type": "scatterpolargl"
           }
          ],
          "scatterternary": [
           {
            "marker": {
             "colorbar": {
              "outlinewidth": 0,
              "ticks": ""
             }
            },
            "type": "scatterternary"
           }
          ],
          "surface": [
           {
            "colorbar": {
             "outlinewidth": 0,
             "ticks": ""
            },
            "colorscale": [
             [
              0,
              "#0d0887"
             ],
             [
              0.1111111111111111,
              "#46039f"
             ],
             [
              0.2222222222222222,
              "#7201a8"
             ],
             [
              0.3333333333333333,
              "#9c179e"
             ],
             [
              0.4444444444444444,
              "#bd3786"
             ],
             [
              0.5555555555555556,
              "#d8576b"
             ],
             [
              0.6666666666666666,
              "#ed7953"
             ],
             [
              0.7777777777777778,
              "#fb9f3a"
             ],
             [
              0.8888888888888888,
              "#fdca26"
             ],
             [
              1,
              "#f0f921"
             ]
            ],
            "type": "surface"
           }
          ],
          "table": [
           {
            "cells": {
             "fill": {
              "color": "#EBF0F8"
             },
             "line": {
              "color": "white"
             }
            },
            "header": {
             "fill": {
              "color": "#C8D4E3"
             },
             "line": {
              "color": "white"
             }
            },
            "type": "table"
           }
          ]
         },
         "layout": {
          "annotationdefaults": {
           "arrowcolor": "#2a3f5f",
           "arrowhead": 0,
           "arrowwidth": 1
          },
          "autotypenumbers": "strict",
          "coloraxis": {
           "colorbar": {
            "outlinewidth": 0,
            "ticks": ""
           }
          },
          "colorscale": {
           "diverging": [
            [
             0,
             "#8e0152"
            ],
            [
             0.1,
             "#c51b7d"
            ],
            [
             0.2,
             "#de77ae"
            ],
            [
             0.3,
             "#f1b6da"
            ],
            [
             0.4,
             "#fde0ef"
            ],
            [
             0.5,
             "#f7f7f7"
            ],
            [
             0.6,
             "#e6f5d0"
            ],
            [
             0.7,
             "#b8e186"
            ],
            [
             0.8,
             "#7fbc41"
            ],
            [
             0.9,
             "#4d9221"
            ],
            [
             1,
             "#276419"
            ]
           ],
           "sequential": [
            [
             0,
             "#0d0887"
            ],
            [
             0.1111111111111111,
             "#46039f"
            ],
            [
             0.2222222222222222,
             "#7201a8"
            ],
            [
             0.3333333333333333,
             "#9c179e"
            ],
            [
             0.4444444444444444,
             "#bd3786"
            ],
            [
             0.5555555555555556,
             "#d8576b"
            ],
            [
             0.6666666666666666,
             "#ed7953"
            ],
            [
             0.7777777777777778,
             "#fb9f3a"
            ],
            [
             0.8888888888888888,
             "#fdca26"
            ],
            [
             1,
             "#f0f921"
            ]
           ],
           "sequentialminus": [
            [
             0,
             "#0d0887"
            ],
            [
             0.1111111111111111,
             "#46039f"
            ],
            [
             0.2222222222222222,
             "#7201a8"
            ],
            [
             0.3333333333333333,
             "#9c179e"
            ],
            [
             0.4444444444444444,
             "#bd3786"
            ],
            [
             0.5555555555555556,
             "#d8576b"
            ],
            [
             0.6666666666666666,
             "#ed7953"
            ],
            [
             0.7777777777777778,
             "#fb9f3a"
            ],
            [
             0.8888888888888888,
             "#fdca26"
            ],
            [
             1,
             "#f0f921"
            ]
           ]
          },
          "colorway": [
           "#636efa",
           "#EF553B",
           "#00cc96",
           "#ab63fa",
           "#FFA15A",
           "#19d3f3",
           "#FF6692",
           "#B6E880",
           "#FF97FF",
           "#FECB52"
          ],
          "font": {
           "color": "#2a3f5f"
          },
          "geo": {
           "bgcolor": "white",
           "lakecolor": "white",
           "landcolor": "#E5ECF6",
           "showlakes": true,
           "showland": true,
           "subunitcolor": "white"
          },
          "hoverlabel": {
           "align": "left"
          },
          "hovermode": "closest",
          "mapbox": {
           "style": "light"
          },
          "paper_bgcolor": "white",
          "plot_bgcolor": "#E5ECF6",
          "polar": {
           "angularaxis": {
            "gridcolor": "white",
            "linecolor": "white",
            "ticks": ""
           },
           "bgcolor": "#E5ECF6",
           "radialaxis": {
            "gridcolor": "white",
            "linecolor": "white",
            "ticks": ""
           }
          },
          "scene": {
           "xaxis": {
            "backgroundcolor": "#E5ECF6",
            "gridcolor": "white",
            "gridwidth": 2,
            "linecolor": "white",
            "showbackground": true,
            "ticks": "",
            "zerolinecolor": "white"
           },
           "yaxis": {
            "backgroundcolor": "#E5ECF6",
            "gridcolor": "white",
            "gridwidth": 2,
            "linecolor": "white",
            "showbackground": true,
            "ticks": "",
            "zerolinecolor": "white"
           },
           "zaxis": {
            "backgroundcolor": "#E5ECF6",
            "gridcolor": "white",
            "gridwidth": 2,
            "linecolor": "white",
            "showbackground": true,
            "ticks": "",
            "zerolinecolor": "white"
           }
          },
          "shapedefaults": {
           "line": {
            "color": "#2a3f5f"
           }
          },
          "ternary": {
           "aaxis": {
            "gridcolor": "white",
            "linecolor": "white",
            "ticks": ""
           },
           "baxis": {
            "gridcolor": "white",
            "linecolor": "white",
            "ticks": ""
           },
           "bgcolor": "#E5ECF6",
           "caxis": {
            "gridcolor": "white",
            "linecolor": "white",
            "ticks": ""
           }
          },
          "title": {
           "x": 0.05
          },
          "xaxis": {
           "automargin": true,
           "gridcolor": "white",
           "linecolor": "white",
           "ticks": "",
           "title": {
            "standoff": 15
           },
           "zerolinecolor": "white",
           "zerolinewidth": 2
          },
          "yaxis": {
           "automargin": true,
           "gridcolor": "white",
           "linecolor": "white",
           "ticks": "",
           "title": {
            "standoff": 15
           },
           "zerolinecolor": "white",
           "zerolinewidth": 2
          }
         }
        },
        "title": {
         "text": "covid data in Noord-Brabant, Noord-Holland and Zuid-Holland"
        }
       }
      }
     },
     "metadata": {},
     "output_type": "display_data"
    }
   ],
   "source": [
    "# Making a line graph\n",
    "fig_7 = go.Figure()\n",
    "\n",
    "for province in provinces_story:\n",
    "    df_province_story_1 = (df_full.loc[df_full['province'] == province])\n",
    "    df_province_story_1.reset_index(inplace=True)\n",
    "\n",
    "    for activity in activities_story_1:\n",
    "        x1 = df_province_story_1['date']\n",
    "        y1 = df_province_story_1[activity]\n",
    "        fig_7.add_trace(go.Scatter(x=x1,y=y1,name=activity + ' ' + province))\n",
    "\n",
    "fig_7.update_layout(title='covid data in ' + province_1 + ', ' + province_2 + ' and ' + province_3)\n",
    "fig_7.show()"
   ]
  },
  {
   "cell_type": "markdown",
   "metadata": {},
   "source": [
    "From this plot, it can be seen that Noord-Brabant for a short while had the most reported cases and hospitalizations, but the other two provinces quickly took over, especially Zuid-Holland. The narrative around Brabant being the worst province was thus not really fair, or at least only for April 2020."
   ]
  },
  {
   "cell_type": "markdown",
   "metadata": {},
   "source": [
    "As mentioned, another thing I experienced during covid is that this narrative around Noord-Brabant made people in Eindhoven adhere to the covid rules quite strictly\n",
    "- When I went to the supermarket for example, everyone was very concise in keeping distance both outside and inside.\n",
    "- However, when I was in Amsterdam a bit later on, people were barely keeping distance from me, both outside and inside. \n",
    "- This made me question whether people were also stricter in limiting trips in Noord-Brabant than in the other two provinces, despite having around the same number of cases etc.\n",
    "\n",
    "Let's find out! We make a graph showing the trips for three trip purposes during the covid period."
   ]
  },
  {
   "cell_type": "code",
   "execution_count": 24,
   "metadata": {},
   "outputs": [
    {
     "data": {
      "application/vnd.plotly.v1+json": {
       "config": {
        "plotlyServerURL": "https://plot.ly"
       },
       "data": [
        {
         "name": "work trips Noord-Brabant",
         "type": "scatter",
         "x": [
          "2020-02-27T00:00:00",
          "2020-03-05T00:00:00",
          "2020-03-12T00:00:00",
          "2020-03-19T00:00:00",
          "2020-03-26T00:00:00",
          "2020-04-02T00:00:00",
          "2020-04-09T00:00:00",
          "2020-04-16T00:00:00",
          "2020-04-23T00:00:00",
          "2020-04-30T00:00:00",
          "2020-05-07T00:00:00",
          "2020-05-14T00:00:00",
          "2020-05-21T00:00:00",
          "2020-05-28T00:00:00",
          "2020-06-04T00:00:00",
          "2020-06-11T00:00:00",
          "2020-06-18T00:00:00",
          "2020-06-25T00:00:00",
          "2020-07-02T00:00:00",
          "2020-07-09T00:00:00",
          "2020-07-16T00:00:00",
          "2020-07-23T00:00:00",
          "2020-07-30T00:00:00",
          "2020-08-06T00:00:00",
          "2020-08-13T00:00:00",
          "2020-08-20T00:00:00",
          "2020-08-27T00:00:00",
          "2020-09-03T00:00:00",
          "2020-09-10T00:00:00",
          "2020-09-17T00:00:00",
          "2020-09-24T00:00:00",
          "2020-10-01T00:00:00",
          "2020-10-08T00:00:00",
          "2020-10-15T00:00:00",
          "2020-10-22T00:00:00",
          "2020-10-29T00:00:00",
          "2020-11-05T00:00:00",
          "2020-11-12T00:00:00",
          "2020-11-19T00:00:00",
          "2020-11-26T00:00:00",
          "2020-12-03T00:00:00",
          "2020-12-10T00:00:00",
          "2020-12-17T00:00:00",
          "2020-12-24T00:00:00",
          "2020-12-31T00:00:00",
          "2021-01-07T00:00:00",
          "2021-01-14T00:00:00",
          "2021-01-21T00:00:00",
          "2021-01-28T00:00:00",
          "2021-02-04T00:00:00",
          "2021-02-11T00:00:00",
          "2021-02-18T00:00:00",
          "2021-02-25T00:00:00",
          "2021-03-04T00:00:00",
          "2021-03-11T00:00:00",
          "2021-03-18T00:00:00",
          "2021-03-25T00:00:00",
          "2021-04-01T00:00:00",
          "2021-04-08T00:00:00",
          "2021-04-15T00:00:00"
         ],
         "y": [
          -6,
          -3.5714285714285716,
          -25.571428571428573,
          -41,
          -43.57142857142857,
          -41.285714285714285,
          -45.42857142857143,
          -37.142857142857146,
          -41.142857142857146,
          -37.857142857142854,
          -26.285714285714285,
          -24.571428571428573,
          -33.714285714285715,
          -26.285714285714285,
          -18.428571428571427,
          -17,
          -15.571428571428571,
          -17.571428571428573,
          -18,
          -20.857142857142858,
          -26.285714285714285,
          -31.428571428571427,
          -35.857142857142854,
          -37.285714285714285,
          -30.857142857142858,
          -23.571428571428573,
          -19.428571428571427,
          -20.285714285714285,
          -17.857142857142858,
          -16.142857142857142,
          -15,
          -18,
          -17.428571428571427,
          -27.571428571428573,
          -24.857142857142858,
          -19.428571428571427,
          -20,
          -19.285714285714285,
          -17.714285714285715,
          -16.285714285714285,
          -16.142857142857142,
          -18.857142857142858,
          -33.285714285714285,
          -55.142857142857146,
          -41.857142857142854,
          -27,
          -28,
          -27.857142857142858,
          -27.142857142857142,
          -33,
          -30.714285714285715,
          -25.571428571428573,
          -21.285714285714285,
          -20.571428571428573,
          -20.428571428571427,
          -19,
          -19.285714285714285,
          -28.714285714285715,
          -18.857142857142858,
          -17.714285714285715
         ]
        },
        {
         "name": "grocery and pharmacy trips Noord-Brabant",
         "type": "scatter",
         "x": [
          "2020-02-27T00:00:00",
          "2020-03-05T00:00:00",
          "2020-03-12T00:00:00",
          "2020-03-19T00:00:00",
          "2020-03-26T00:00:00",
          "2020-04-02T00:00:00",
          "2020-04-09T00:00:00",
          "2020-04-16T00:00:00",
          "2020-04-23T00:00:00",
          "2020-04-30T00:00:00",
          "2020-05-07T00:00:00",
          "2020-05-14T00:00:00",
          "2020-05-21T00:00:00",
          "2020-05-28T00:00:00",
          "2020-06-04T00:00:00",
          "2020-06-11T00:00:00",
          "2020-06-18T00:00:00",
          "2020-06-25T00:00:00",
          "2020-07-02T00:00:00",
          "2020-07-09T00:00:00",
          "2020-07-16T00:00:00",
          "2020-07-23T00:00:00",
          "2020-07-30T00:00:00",
          "2020-08-06T00:00:00",
          "2020-08-13T00:00:00",
          "2020-08-20T00:00:00",
          "2020-08-27T00:00:00",
          "2020-09-03T00:00:00",
          "2020-09-10T00:00:00",
          "2020-09-17T00:00:00",
          "2020-09-24T00:00:00",
          "2020-10-01T00:00:00",
          "2020-10-08T00:00:00",
          "2020-10-15T00:00:00",
          "2020-10-22T00:00:00",
          "2020-10-29T00:00:00",
          "2020-11-05T00:00:00",
          "2020-11-12T00:00:00",
          "2020-11-19T00:00:00",
          "2020-11-26T00:00:00",
          "2020-12-03T00:00:00",
          "2020-12-10T00:00:00",
          "2020-12-17T00:00:00",
          "2020-12-24T00:00:00",
          "2020-12-31T00:00:00",
          "2021-01-07T00:00:00",
          "2021-01-14T00:00:00",
          "2021-01-21T00:00:00",
          "2021-01-28T00:00:00",
          "2021-02-04T00:00:00",
          "2021-02-11T00:00:00",
          "2021-02-18T00:00:00",
          "2021-02-25T00:00:00",
          "2021-03-04T00:00:00",
          "2021-03-11T00:00:00",
          "2021-03-18T00:00:00",
          "2021-03-25T00:00:00",
          "2021-04-01T00:00:00",
          "2021-04-08T00:00:00",
          "2021-04-15T00:00:00"
         ],
         "y": [
          1,
          2.142857142857143,
          8.428571428571429,
          -8.857142857142858,
          -17.142857142857142,
          -12.285714285714286,
          -16.285714285714285,
          -10.285714285714286,
          -6,
          -7.285714285714286,
          -2.7142857142857144,
          0.14285714285714285,
          -2.7142857142857144,
          -0.14285714285714285,
          -2,
          -1.5714285714285714,
          2,
          -0.2857142857142857,
          -0.42857142857142855,
          -2,
          -2.7142857142857144,
          -4.285714285714286,
          -5.714285714285714,
          -8,
          -6.571428571428571,
          -2.857142857142857,
          -3.857142857142857,
          -5.857142857142857,
          -4.714285714285714,
          -5.285714285714286,
          -3,
          -5,
          -5.285714285714286,
          -5,
          -3.5714285714285716,
          -5.285714285714286,
          -3.857142857142857,
          -3.7142857142857144,
          -2,
          -1.5714285714285714,
          -4,
          -1.7142857142857142,
          3.857142857142857,
          -17.428571428571427,
          -16.714285714285715,
          -10,
          -13.142857142857142,
          -10.571428571428571,
          -12,
          -11.428571428571429,
          -5.857142857142857,
          -1.1428571428571428,
          0,
          -0.5714285714285714,
          -1.7142857142857142,
          1.1428571428571428,
          2.7142857142857144,
          -4.285714285714286,
          1.8571428571428572,
          4.714285714285714
         ]
        },
        {
         "name": "retail and recreation trips Noord-Brabant",
         "type": "scatter",
         "x": [
          "2020-02-27T00:00:00",
          "2020-03-05T00:00:00",
          "2020-03-12T00:00:00",
          "2020-03-19T00:00:00",
          "2020-03-26T00:00:00",
          "2020-04-02T00:00:00",
          "2020-04-09T00:00:00",
          "2020-04-16T00:00:00",
          "2020-04-23T00:00:00",
          "2020-04-30T00:00:00",
          "2020-05-07T00:00:00",
          "2020-05-14T00:00:00",
          "2020-05-21T00:00:00",
          "2020-05-28T00:00:00",
          "2020-06-04T00:00:00",
          "2020-06-11T00:00:00",
          "2020-06-18T00:00:00",
          "2020-06-25T00:00:00",
          "2020-07-02T00:00:00",
          "2020-07-09T00:00:00",
          "2020-07-16T00:00:00",
          "2020-07-23T00:00:00",
          "2020-07-30T00:00:00",
          "2020-08-06T00:00:00",
          "2020-08-13T00:00:00",
          "2020-08-20T00:00:00",
          "2020-08-27T00:00:00",
          "2020-09-03T00:00:00",
          "2020-09-10T00:00:00",
          "2020-09-17T00:00:00",
          "2020-09-24T00:00:00",
          "2020-10-01T00:00:00",
          "2020-10-08T00:00:00",
          "2020-10-15T00:00:00",
          "2020-10-22T00:00:00",
          "2020-10-29T00:00:00",
          "2020-11-05T00:00:00",
          "2020-11-12T00:00:00",
          "2020-11-19T00:00:00",
          "2020-11-26T00:00:00",
          "2020-12-03T00:00:00",
          "2020-12-10T00:00:00",
          "2020-12-17T00:00:00",
          "2020-12-24T00:00:00",
          "2020-12-31T00:00:00",
          "2021-01-07T00:00:00",
          "2021-01-14T00:00:00",
          "2021-01-21T00:00:00",
          "2021-01-28T00:00:00",
          "2021-02-04T00:00:00",
          "2021-02-11T00:00:00",
          "2021-02-18T00:00:00",
          "2021-02-25T00:00:00",
          "2021-03-04T00:00:00",
          "2021-03-11T00:00:00",
          "2021-03-18T00:00:00",
          "2021-03-25T00:00:00",
          "2021-04-01T00:00:00",
          "2021-04-08T00:00:00",
          "2021-04-15T00:00:00"
         ],
         "y": [
          -2.2857142857142856,
          -6,
          -26.714285714285715,
          -46.714285714285715,
          -49.142857142857146,
          -43.714285714285715,
          -46.857142857142854,
          -39,
          -36.285714285714285,
          -33.714285714285715,
          -32.857142857142854,
          -26.285714285714285,
          -25.857142857142858,
          -19.571428571428573,
          -16.285714285714285,
          -10.571428571428571,
          -4.857142857142857,
          -5.285714285714286,
          -0.5714285714285714,
          1.4285714285714286,
          4,
          4.714285714285714,
          0.42857142857142855,
          -10.857142857142858,
          -1.4285714285714286,
          0.42857142857142855,
          -1.2857142857142858,
          -4.571428571428571,
          -2,
          -2.7142857142857144,
          -8.714285714285714,
          -15.857142857142858,
          -15.285714285714286,
          -27,
          -26.571428571428573,
          -29,
          -28.857142857142858,
          -30.571428571428573,
          -24.571428571428573,
          -23.428571428571427,
          -27.714285714285715,
          -30.428571428571427,
          -49,
          -58.57142857142857,
          -58.857142857142854,
          -56,
          -57.857142857142854,
          -55.857142857142854,
          -56.857142857142854,
          -57.857142857142854,
          -52.285714285714285,
          -44.285714285714285,
          -43.142857142857146,
          -42,
          -41.857142857142854,
          -39,
          -34.142857142857146,
          -42.857142857142854,
          -38.42857142857143,
          -33.42857142857143
         ]
        },
        {
         "name": "work trips Noord-Holland",
         "type": "scatter",
         "x": [
          "2020-02-27T00:00:00",
          "2020-03-05T00:00:00",
          "2020-03-12T00:00:00",
          "2020-03-19T00:00:00",
          "2020-03-26T00:00:00",
          "2020-04-02T00:00:00",
          "2020-04-09T00:00:00",
          "2020-04-16T00:00:00",
          "2020-04-23T00:00:00",
          "2020-04-30T00:00:00",
          "2020-05-07T00:00:00",
          "2020-05-14T00:00:00",
          "2020-05-21T00:00:00",
          "2020-05-28T00:00:00",
          "2020-06-04T00:00:00",
          "2020-06-11T00:00:00",
          "2020-06-18T00:00:00",
          "2020-06-25T00:00:00",
          "2020-07-02T00:00:00",
          "2020-07-09T00:00:00",
          "2020-07-16T00:00:00",
          "2020-07-23T00:00:00",
          "2020-07-30T00:00:00",
          "2020-08-06T00:00:00",
          "2020-08-13T00:00:00",
          "2020-08-20T00:00:00",
          "2020-08-27T00:00:00",
          "2020-09-03T00:00:00",
          "2020-09-10T00:00:00",
          "2020-09-17T00:00:00",
          "2020-09-24T00:00:00",
          "2020-10-01T00:00:00",
          "2020-10-08T00:00:00",
          "2020-10-15T00:00:00",
          "2020-10-22T00:00:00",
          "2020-10-29T00:00:00",
          "2020-11-05T00:00:00",
          "2020-11-12T00:00:00",
          "2020-11-19T00:00:00",
          "2020-11-26T00:00:00",
          "2020-12-03T00:00:00",
          "2020-12-10T00:00:00",
          "2020-12-17T00:00:00",
          "2020-12-24T00:00:00",
          "2020-12-31T00:00:00",
          "2021-01-07T00:00:00",
          "2021-01-14T00:00:00",
          "2021-01-21T00:00:00",
          "2021-01-28T00:00:00",
          "2021-02-04T00:00:00",
          "2021-02-11T00:00:00",
          "2021-02-18T00:00:00",
          "2021-02-25T00:00:00",
          "2021-03-04T00:00:00",
          "2021-03-11T00:00:00",
          "2021-03-18T00:00:00",
          "2021-03-25T00:00:00",
          "2021-04-01T00:00:00",
          "2021-04-08T00:00:00",
          "2021-04-15T00:00:00"
         ],
         "y": [
          1.4285714285714286,
          0.2857142857142857,
          -24.714285714285715,
          -48.42857142857143,
          -51.285714285714285,
          -49.42857142857143,
          -52.714285714285715,
          -44.857142857142854,
          -47.714285714285715,
          -45.857142857142854,
          -36,
          -33.57142857142857,
          -39.42857142857143,
          -31.857142857142858,
          -27,
          -24.714285714285715,
          -23.428571428571427,
          -24.714285714285715,
          -29,
          -30.571428571428573,
          -32.42857142857143,
          -34.857142857142854,
          -35.857142857142854,
          -35.142857142857146,
          -29.428571428571427,
          -26.428571428571427,
          -25.285714285714285,
          -25.857142857142858,
          -22.714285714285715,
          -21.571428571428573,
          -21.714285714285715,
          -25.142857142857142,
          -30.857142857142858,
          -32,
          -26.857142857142858,
          -26.428571428571427,
          -26.428571428571427,
          -26.571428571428573,
          -24.285714285714285,
          -23.142857142857142,
          -22.857142857142858,
          -26,
          -39.857142857142854,
          -56.285714285714285,
          -46.42857142857143,
          -35,
          -36.42857142857143,
          -35.42857142857143,
          -35.285714285714285,
          -41.714285714285715,
          -34.285714285714285,
          -33.142857142857146,
          -31.285714285714285,
          -28,
          -28,
          -26.428571428571427,
          -26.714285714285715,
          -34.142857142857146,
          -25.285714285714285,
          -23.857142857142858
         ]
        },
        {
         "name": "grocery and pharmacy trips Noord-Holland",
         "type": "scatter",
         "x": [
          "2020-02-27T00:00:00",
          "2020-03-05T00:00:00",
          "2020-03-12T00:00:00",
          "2020-03-19T00:00:00",
          "2020-03-26T00:00:00",
          "2020-04-02T00:00:00",
          "2020-04-09T00:00:00",
          "2020-04-16T00:00:00",
          "2020-04-23T00:00:00",
          "2020-04-30T00:00:00",
          "2020-05-07T00:00:00",
          "2020-05-14T00:00:00",
          "2020-05-21T00:00:00",
          "2020-05-28T00:00:00",
          "2020-06-04T00:00:00",
          "2020-06-11T00:00:00",
          "2020-06-18T00:00:00",
          "2020-06-25T00:00:00",
          "2020-07-02T00:00:00",
          "2020-07-09T00:00:00",
          "2020-07-16T00:00:00",
          "2020-07-23T00:00:00",
          "2020-07-30T00:00:00",
          "2020-08-06T00:00:00",
          "2020-08-13T00:00:00",
          "2020-08-20T00:00:00",
          "2020-08-27T00:00:00",
          "2020-09-03T00:00:00",
          "2020-09-10T00:00:00",
          "2020-09-17T00:00:00",
          "2020-09-24T00:00:00",
          "2020-10-01T00:00:00",
          "2020-10-08T00:00:00",
          "2020-10-15T00:00:00",
          "2020-10-22T00:00:00",
          "2020-10-29T00:00:00",
          "2020-11-05T00:00:00",
          "2020-11-12T00:00:00",
          "2020-11-19T00:00:00",
          "2020-11-26T00:00:00",
          "2020-12-03T00:00:00",
          "2020-12-10T00:00:00",
          "2020-12-17T00:00:00",
          "2020-12-24T00:00:00",
          "2020-12-31T00:00:00",
          "2021-01-07T00:00:00",
          "2021-01-14T00:00:00",
          "2021-01-21T00:00:00",
          "2021-01-28T00:00:00",
          "2021-02-04T00:00:00",
          "2021-02-11T00:00:00",
          "2021-02-18T00:00:00",
          "2021-02-25T00:00:00",
          "2021-03-04T00:00:00",
          "2021-03-11T00:00:00",
          "2021-03-18T00:00:00",
          "2021-03-25T00:00:00",
          "2021-04-01T00:00:00",
          "2021-04-08T00:00:00",
          "2021-04-15T00:00:00"
         ],
         "y": [
          2.2857142857142856,
          2.2857142857142856,
          12,
          -11.285714285714286,
          -20.428571428571427,
          -16.714285714285715,
          -19.142857142857142,
          -14,
          -11.857142857142858,
          -12.142857142857142,
          -7.428571428571429,
          -4.571428571428571,
          -5.428571428571429,
          -2.5714285714285716,
          -6.142857142857143,
          -3.7142857142857144,
          -0.8571428571428571,
          -1.7142857142857142,
          -6.571428571428571,
          -7.857142857142857,
          -6.285714285714286,
          -6.285714285714286,
          -6.285714285714286,
          -4.714285714285714,
          -4.571428571428571,
          -5.714285714285714,
          -6.571428571428571,
          -7.857142857142857,
          -6.285714285714286,
          -7.571428571428571,
          -7.142857142857143,
          -10.285714285714286,
          -12.285714285714286,
          -10.142857142857142,
          -7.857142857142857,
          -10.571428571428571,
          -7.285714285714286,
          -10.285714285714286,
          -7.428571428571429,
          -7.428571428571429,
          -9.428571428571429,
          -8,
          -4.714285714285714,
          -22.142857142857142,
          -20.857142857142858,
          -15.142857142857142,
          -18.285714285714285,
          -15,
          -16.428571428571427,
          -16,
          -11.285714285714286,
          -4.285714285714286,
          -3.857142857142857,
          -5.428571428571429,
          -6.571428571428571,
          -3.2857142857142856,
          -2.4285714285714284,
          -7.285714285714286,
          -2.142857142857143,
          0.7142857142857143
         ]
        },
        {
         "name": "retail and recreation trips Noord-Holland",
         "type": "scatter",
         "x": [
          "2020-02-27T00:00:00",
          "2020-03-05T00:00:00",
          "2020-03-12T00:00:00",
          "2020-03-19T00:00:00",
          "2020-03-26T00:00:00",
          "2020-04-02T00:00:00",
          "2020-04-09T00:00:00",
          "2020-04-16T00:00:00",
          "2020-04-23T00:00:00",
          "2020-04-30T00:00:00",
          "2020-05-07T00:00:00",
          "2020-05-14T00:00:00",
          "2020-05-21T00:00:00",
          "2020-05-28T00:00:00",
          "2020-06-04T00:00:00",
          "2020-06-11T00:00:00",
          "2020-06-18T00:00:00",
          "2020-06-25T00:00:00",
          "2020-07-02T00:00:00",
          "2020-07-09T00:00:00",
          "2020-07-16T00:00:00",
          "2020-07-23T00:00:00",
          "2020-07-30T00:00:00",
          "2020-08-06T00:00:00",
          "2020-08-13T00:00:00",
          "2020-08-20T00:00:00",
          "2020-08-27T00:00:00",
          "2020-09-03T00:00:00",
          "2020-09-10T00:00:00",
          "2020-09-17T00:00:00",
          "2020-09-24T00:00:00",
          "2020-10-01T00:00:00",
          "2020-10-08T00:00:00",
          "2020-10-15T00:00:00",
          "2020-10-22T00:00:00",
          "2020-10-29T00:00:00",
          "2020-11-05T00:00:00",
          "2020-11-12T00:00:00",
          "2020-11-19T00:00:00",
          "2020-11-26T00:00:00",
          "2020-12-03T00:00:00",
          "2020-12-10T00:00:00",
          "2020-12-17T00:00:00",
          "2020-12-24T00:00:00",
          "2020-12-31T00:00:00",
          "2021-01-07T00:00:00",
          "2021-01-14T00:00:00",
          "2021-01-21T00:00:00",
          "2021-01-28T00:00:00",
          "2021-02-04T00:00:00",
          "2021-02-11T00:00:00",
          "2021-02-18T00:00:00",
          "2021-02-25T00:00:00",
          "2021-03-04T00:00:00",
          "2021-03-11T00:00:00",
          "2021-03-18T00:00:00",
          "2021-03-25T00:00:00",
          "2021-04-01T00:00:00",
          "2021-04-08T00:00:00",
          "2021-04-15T00:00:00"
         ],
         "y": [
          0.42857142857142855,
          -2.4285714285714284,
          -26.714285714285715,
          -50.42857142857143,
          -53.714285714285715,
          -49.714285714285715,
          -51.714285714285715,
          -47,
          -45.714285714285715,
          -42.714285714285715,
          -40.142857142857146,
          -35.57142857142857,
          -34.142857142857146,
          -27.857142857142858,
          -27,
          -20.285714285714285,
          -14.571428571428571,
          -14.142857142857142,
          -14,
          -12.428571428571429,
          -9.142857142857142,
          -7.857142857142857,
          -8.142857142857142,
          -13.142857142857142,
          -11.571428571428571,
          -14.142857142857142,
          -14,
          -16.571428571428573,
          -12.142857142857142,
          -15.428571428571429,
          -20.428571428571427,
          -28.142857142857142,
          -26,
          -36.714285714285715,
          -35.42857142857143,
          -37.714285714285715,
          -36.714285714285715,
          -40,
          -34,
          -33.285714285714285,
          -36.57142857142857,
          -38.857142857142854,
          -52.714285714285715,
          -61.142857142857146,
          -60.57142857142857,
          -58.285714285714285,
          -59.857142857142854,
          -57.714285714285715,
          -58.714285714285715,
          -60.57142857142857,
          -55.142857142857146,
          -47.857142857142854,
          -47.285714285714285,
          -47.42857142857143,
          -48,
          -44.714285714285715,
          -41.857142857142854,
          -47.857142857142854,
          -44.142857142857146,
          -39.714285714285715
         ]
        },
        {
         "name": "work trips Zuid-Holland",
         "type": "scatter",
         "x": [
          "2020-02-27T00:00:00",
          "2020-03-05T00:00:00",
          "2020-03-12T00:00:00",
          "2020-03-19T00:00:00",
          "2020-03-26T00:00:00",
          "2020-04-02T00:00:00",
          "2020-04-09T00:00:00",
          "2020-04-16T00:00:00",
          "2020-04-23T00:00:00",
          "2020-04-30T00:00:00",
          "2020-05-07T00:00:00",
          "2020-05-14T00:00:00",
          "2020-05-21T00:00:00",
          "2020-05-28T00:00:00",
          "2020-06-04T00:00:00",
          "2020-06-11T00:00:00",
          "2020-06-18T00:00:00",
          "2020-06-25T00:00:00",
          "2020-07-02T00:00:00",
          "2020-07-09T00:00:00",
          "2020-07-16T00:00:00",
          "2020-07-23T00:00:00",
          "2020-07-30T00:00:00",
          "2020-08-06T00:00:00",
          "2020-08-13T00:00:00",
          "2020-08-20T00:00:00",
          "2020-08-27T00:00:00",
          "2020-09-03T00:00:00",
          "2020-09-10T00:00:00",
          "2020-09-17T00:00:00",
          "2020-09-24T00:00:00",
          "2020-10-01T00:00:00",
          "2020-10-08T00:00:00",
          "2020-10-15T00:00:00",
          "2020-10-22T00:00:00",
          "2020-10-29T00:00:00",
          "2020-11-05T00:00:00",
          "2020-11-12T00:00:00",
          "2020-11-19T00:00:00",
          "2020-11-26T00:00:00",
          "2020-12-03T00:00:00",
          "2020-12-10T00:00:00",
          "2020-12-17T00:00:00",
          "2020-12-24T00:00:00",
          "2020-12-31T00:00:00",
          "2021-01-07T00:00:00",
          "2021-01-14T00:00:00",
          "2021-01-21T00:00:00",
          "2021-01-28T00:00:00",
          "2021-02-04T00:00:00",
          "2021-02-11T00:00:00",
          "2021-02-18T00:00:00",
          "2021-02-25T00:00:00",
          "2021-03-04T00:00:00",
          "2021-03-11T00:00:00",
          "2021-03-18T00:00:00",
          "2021-03-25T00:00:00",
          "2021-04-01T00:00:00",
          "2021-04-08T00:00:00",
          "2021-04-15T00:00:00"
         ],
         "y": [
          -5.571428571428571,
          0.42857142857142855,
          -22.571428571428573,
          -44.142857142857146,
          -47.142857142857146,
          -45,
          -49.285714285714285,
          -40.57142857142857,
          -44,
          -41.42857142857143,
          -31.428571428571427,
          -28.857142857142858,
          -36.142857142857146,
          -28.571428571428573,
          -23.714285714285715,
          -21.142857142857142,
          -19.571428571428573,
          -21.571428571428573,
          -22,
          -20.571428571428573,
          -25.857142857142858,
          -30.857142857142858,
          -34,
          -36,
          -34.57142857142857,
          -31.857142857142858,
          -27.428571428571427,
          -24.571428571428573,
          -22.285714285714285,
          -21,
          -20.714285714285715,
          -23.714285714285715,
          -23,
          -31.857142857142858,
          -29.142857142857142,
          -24,
          -24,
          -24,
          -21.571428571428573,
          -20.857142857142858,
          -20.285714285714285,
          -22.571428571428573,
          -37.142857142857146,
          -54.42857142857143,
          -44.42857142857143,
          -32,
          -33.142857142857146,
          -32.285714285714285,
          -31.571428571428573,
          -36.714285714285715,
          -31,
          -29.714285714285715,
          -27.428571428571427,
          -24,
          -23.857142857142858,
          -22.142857142857142,
          -22.285714285714285,
          -31.285714285714285,
          -22,
          -20.285714285714285
         ]
        },
        {
         "name": "grocery and pharmacy trips Zuid-Holland",
         "type": "scatter",
         "x": [
          "2020-02-27T00:00:00",
          "2020-03-05T00:00:00",
          "2020-03-12T00:00:00",
          "2020-03-19T00:00:00",
          "2020-03-26T00:00:00",
          "2020-04-02T00:00:00",
          "2020-04-09T00:00:00",
          "2020-04-16T00:00:00",
          "2020-04-23T00:00:00",
          "2020-04-30T00:00:00",
          "2020-05-07T00:00:00",
          "2020-05-14T00:00:00",
          "2020-05-21T00:00:00",
          "2020-05-28T00:00:00",
          "2020-06-04T00:00:00",
          "2020-06-11T00:00:00",
          "2020-06-18T00:00:00",
          "2020-06-25T00:00:00",
          "2020-07-02T00:00:00",
          "2020-07-09T00:00:00",
          "2020-07-16T00:00:00",
          "2020-07-23T00:00:00",
          "2020-07-30T00:00:00",
          "2020-08-06T00:00:00",
          "2020-08-13T00:00:00",
          "2020-08-20T00:00:00",
          "2020-08-27T00:00:00",
          "2020-09-03T00:00:00",
          "2020-09-10T00:00:00",
          "2020-09-17T00:00:00",
          "2020-09-24T00:00:00",
          "2020-10-01T00:00:00",
          "2020-10-08T00:00:00",
          "2020-10-15T00:00:00",
          "2020-10-22T00:00:00",
          "2020-10-29T00:00:00",
          "2020-11-05T00:00:00",
          "2020-11-12T00:00:00",
          "2020-11-19T00:00:00",
          "2020-11-26T00:00:00",
          "2020-12-03T00:00:00",
          "2020-12-10T00:00:00",
          "2020-12-17T00:00:00",
          "2020-12-24T00:00:00",
          "2020-12-31T00:00:00",
          "2021-01-07T00:00:00",
          "2021-01-14T00:00:00",
          "2021-01-21T00:00:00",
          "2021-01-28T00:00:00",
          "2021-02-04T00:00:00",
          "2021-02-11T00:00:00",
          "2021-02-18T00:00:00",
          "2021-02-25T00:00:00",
          "2021-03-04T00:00:00",
          "2021-03-11T00:00:00",
          "2021-03-18T00:00:00",
          "2021-03-25T00:00:00",
          "2021-04-01T00:00:00",
          "2021-04-08T00:00:00",
          "2021-04-15T00:00:00"
         ],
         "y": [
          1,
          2.2857142857142856,
          15.428571428571429,
          -5.714285714285714,
          -15.857142857142858,
          -12.285714285714286,
          -16.714285714285715,
          -10.285714285714286,
          -7.857142857142857,
          -8,
          -3.4285714285714284,
          -0.14285714285714285,
          -3.2857142857142856,
          -1.7142857142857142,
          -3.5714285714285716,
          -2.7142857142857144,
          0,
          -1.2857142857142858,
          -2,
          -0.8571428571428571,
          -2.2857142857142856,
          -5.714285714285714,
          -8.571428571428571,
          -9.142857142857142,
          -11.285714285714286,
          -9.428571428571429,
          -5.142857142857143,
          -5.857142857142857,
          -5.571428571428571,
          -6.428571428571429,
          -5,
          -8.285714285714286,
          -7.857142857142857,
          -7.714285714285714,
          -6.285714285714286,
          -7.285714285714286,
          -5.571428571428571,
          -7.285714285714286,
          -4,
          -3.4285714285714284,
          -5.428571428571429,
          -3.2857142857142856,
          0.2857142857142857,
          -20.285714285714285,
          -18.142857142857142,
          -10.857142857142858,
          -15.142857142857142,
          -11.428571428571429,
          -12.857142857142858,
          -10.857142857142858,
          -7.714285714285714,
          -1.5714285714285714,
          -0.42857142857142855,
          -1.4285714285714286,
          -2.5714285714285716,
          0.14285714285714285,
          2,
          -7.142857142857143,
          1,
          3.2857142857142856
         ]
        },
        {
         "name": "retail and recreation trips Zuid-Holland",
         "type": "scatter",
         "x": [
          "2020-02-27T00:00:00",
          "2020-03-05T00:00:00",
          "2020-03-12T00:00:00",
          "2020-03-19T00:00:00",
          "2020-03-26T00:00:00",
          "2020-04-02T00:00:00",
          "2020-04-09T00:00:00",
          "2020-04-16T00:00:00",
          "2020-04-23T00:00:00",
          "2020-04-30T00:00:00",
          "2020-05-07T00:00:00",
          "2020-05-14T00:00:00",
          "2020-05-21T00:00:00",
          "2020-05-28T00:00:00",
          "2020-06-04T00:00:00",
          "2020-06-11T00:00:00",
          "2020-06-18T00:00:00",
          "2020-06-25T00:00:00",
          "2020-07-02T00:00:00",
          "2020-07-09T00:00:00",
          "2020-07-16T00:00:00",
          "2020-07-23T00:00:00",
          "2020-07-30T00:00:00",
          "2020-08-06T00:00:00",
          "2020-08-13T00:00:00",
          "2020-08-20T00:00:00",
          "2020-08-27T00:00:00",
          "2020-09-03T00:00:00",
          "2020-09-10T00:00:00",
          "2020-09-17T00:00:00",
          "2020-09-24T00:00:00",
          "2020-10-01T00:00:00",
          "2020-10-08T00:00:00",
          "2020-10-15T00:00:00",
          "2020-10-22T00:00:00",
          "2020-10-29T00:00:00",
          "2020-11-05T00:00:00",
          "2020-11-12T00:00:00",
          "2020-11-19T00:00:00",
          "2020-11-26T00:00:00",
          "2020-12-03T00:00:00",
          "2020-12-10T00:00:00",
          "2020-12-17T00:00:00",
          "2020-12-24T00:00:00",
          "2020-12-31T00:00:00",
          "2021-01-07T00:00:00",
          "2021-01-14T00:00:00",
          "2021-01-21T00:00:00",
          "2021-01-28T00:00:00",
          "2021-02-04T00:00:00",
          "2021-02-11T00:00:00",
          "2021-02-18T00:00:00",
          "2021-02-25T00:00:00",
          "2021-03-04T00:00:00",
          "2021-03-11T00:00:00",
          "2021-03-18T00:00:00",
          "2021-03-25T00:00:00",
          "2021-04-01T00:00:00",
          "2021-04-08T00:00:00",
          "2021-04-15T00:00:00"
         ],
         "y": [
          -1.2857142857142858,
          -2,
          -21.571428571428573,
          -42.857142857142854,
          -46.714285714285715,
          -42,
          -45.142857142857146,
          -38.142857142857146,
          -35.142857142857146,
          -32.57142857142857,
          -30.857142857142858,
          -25.571428571428573,
          -24.571428571428573,
          -19.571428571428573,
          -18.857142857142858,
          -12.857142857142858,
          -6.571428571428571,
          -7.714285714285714,
          -5.857142857142857,
          -0.8571428571428571,
          0.5714285714285714,
          -1.8571428571428572,
          -5.142857142857143,
          -11.571428571428571,
          -12.285714285714286,
          -10,
          -6.714285714285714,
          -9.285714285714286,
          -6.571428571428571,
          -9.714285714285714,
          -15.142857142857142,
          -22.142857142857142,
          -21.285714285714285,
          -29.857142857142858,
          -28.857142857142858,
          -30.714285714285715,
          -29.857142857142858,
          -32.714285714285715,
          -26.571428571428573,
          -25.285714285714285,
          -28.571428571428573,
          -30.714285714285715,
          -45.57142857142857,
          -56,
          -55.857142857142854,
          -52,
          -54.142857142857146,
          -51.57142857142857,
          -52.285714285714285,
          -53.42857142857143,
          -48.42857142857143,
          -38.714285714285715,
          -38.714285714285715,
          -38.857142857142854,
          -39.42857142857143,
          -35,
          -31.142857142857142,
          -40.285714285714285,
          -35,
          -30.571428571428573
         ]
        }
       ],
       "layout": {
        "template": {
         "data": {
          "bar": [
           {
            "error_x": {
             "color": "#2a3f5f"
            },
            "error_y": {
             "color": "#2a3f5f"
            },
            "marker": {
             "line": {
              "color": "#E5ECF6",
              "width": 0.5
             },
             "pattern": {
              "fillmode": "overlay",
              "size": 10,
              "solidity": 0.2
             }
            },
            "type": "bar"
           }
          ],
          "barpolar": [
           {
            "marker": {
             "line": {
              "color": "#E5ECF6",
              "width": 0.5
             },
             "pattern": {
              "fillmode": "overlay",
              "size": 10,
              "solidity": 0.2
             }
            },
            "type": "barpolar"
           }
          ],
          "carpet": [
           {
            "aaxis": {
             "endlinecolor": "#2a3f5f",
             "gridcolor": "white",
             "linecolor": "white",
             "minorgridcolor": "white",
             "startlinecolor": "#2a3f5f"
            },
            "baxis": {
             "endlinecolor": "#2a3f5f",
             "gridcolor": "white",
             "linecolor": "white",
             "minorgridcolor": "white",
             "startlinecolor": "#2a3f5f"
            },
            "type": "carpet"
           }
          ],
          "choropleth": [
           {
            "colorbar": {
             "outlinewidth": 0,
             "ticks": ""
            },
            "type": "choropleth"
           }
          ],
          "contour": [
           {
            "colorbar": {
             "outlinewidth": 0,
             "ticks": ""
            },
            "colorscale": [
             [
              0,
              "#0d0887"
             ],
             [
              0.1111111111111111,
              "#46039f"
             ],
             [
              0.2222222222222222,
              "#7201a8"
             ],
             [
              0.3333333333333333,
              "#9c179e"
             ],
             [
              0.4444444444444444,
              "#bd3786"
             ],
             [
              0.5555555555555556,
              "#d8576b"
             ],
             [
              0.6666666666666666,
              "#ed7953"
             ],
             [
              0.7777777777777778,
              "#fb9f3a"
             ],
             [
              0.8888888888888888,
              "#fdca26"
             ],
             [
              1,
              "#f0f921"
             ]
            ],
            "type": "contour"
           }
          ],
          "contourcarpet": [
           {
            "colorbar": {
             "outlinewidth": 0,
             "ticks": ""
            },
            "type": "contourcarpet"
           }
          ],
          "heatmap": [
           {
            "colorbar": {
             "outlinewidth": 0,
             "ticks": ""
            },
            "colorscale": [
             [
              0,
              "#0d0887"
             ],
             [
              0.1111111111111111,
              "#46039f"
             ],
             [
              0.2222222222222222,
              "#7201a8"
             ],
             [
              0.3333333333333333,
              "#9c179e"
             ],
             [
              0.4444444444444444,
              "#bd3786"
             ],
             [
              0.5555555555555556,
              "#d8576b"
             ],
             [
              0.6666666666666666,
              "#ed7953"
             ],
             [
              0.7777777777777778,
              "#fb9f3a"
             ],
             [
              0.8888888888888888,
              "#fdca26"
             ],
             [
              1,
              "#f0f921"
             ]
            ],
            "type": "heatmap"
           }
          ],
          "heatmapgl": [
           {
            "colorbar": {
             "outlinewidth": 0,
             "ticks": ""
            },
            "colorscale": [
             [
              0,
              "#0d0887"
             ],
             [
              0.1111111111111111,
              "#46039f"
             ],
             [
              0.2222222222222222,
              "#7201a8"
             ],
             [
              0.3333333333333333,
              "#9c179e"
             ],
             [
              0.4444444444444444,
              "#bd3786"
             ],
             [
              0.5555555555555556,
              "#d8576b"
             ],
             [
              0.6666666666666666,
              "#ed7953"
             ],
             [
              0.7777777777777778,
              "#fb9f3a"
             ],
             [
              0.8888888888888888,
              "#fdca26"
             ],
             [
              1,
              "#f0f921"
             ]
            ],
            "type": "heatmapgl"
           }
          ],
          "histogram": [
           {
            "marker": {
             "pattern": {
              "fillmode": "overlay",
              "size": 10,
              "solidity": 0.2
             }
            },
            "type": "histogram"
           }
          ],
          "histogram2d": [
           {
            "colorbar": {
             "outlinewidth": 0,
             "ticks": ""
            },
            "colorscale": [
             [
              0,
              "#0d0887"
             ],
             [
              0.1111111111111111,
              "#46039f"
             ],
             [
              0.2222222222222222,
              "#7201a8"
             ],
             [
              0.3333333333333333,
              "#9c179e"
             ],
             [
              0.4444444444444444,
              "#bd3786"
             ],
             [
              0.5555555555555556,
              "#d8576b"
             ],
             [
              0.6666666666666666,
              "#ed7953"
             ],
             [
              0.7777777777777778,
              "#fb9f3a"
             ],
             [
              0.8888888888888888,
              "#fdca26"
             ],
             [
              1,
              "#f0f921"
             ]
            ],
            "type": "histogram2d"
           }
          ],
          "histogram2dcontour": [
           {
            "colorbar": {
             "outlinewidth": 0,
             "ticks": ""
            },
            "colorscale": [
             [
              0,
              "#0d0887"
             ],
             [
              0.1111111111111111,
              "#46039f"
             ],
             [
              0.2222222222222222,
              "#7201a8"
             ],
             [
              0.3333333333333333,
              "#9c179e"
             ],
             [
              0.4444444444444444,
              "#bd3786"
             ],
             [
              0.5555555555555556,
              "#d8576b"
             ],
             [
              0.6666666666666666,
              "#ed7953"
             ],
             [
              0.7777777777777778,
              "#fb9f3a"
             ],
             [
              0.8888888888888888,
              "#fdca26"
             ],
             [
              1,
              "#f0f921"
             ]
            ],
            "type": "histogram2dcontour"
           }
          ],
          "mesh3d": [
           {
            "colorbar": {
             "outlinewidth": 0,
             "ticks": ""
            },
            "type": "mesh3d"
           }
          ],
          "parcoords": [
           {
            "line": {
             "colorbar": {
              "outlinewidth": 0,
              "ticks": ""
             }
            },
            "type": "parcoords"
           }
          ],
          "pie": [
           {
            "automargin": true,
            "type": "pie"
           }
          ],
          "scatter": [
           {
            "marker": {
             "colorbar": {
              "outlinewidth": 0,
              "ticks": ""
             }
            },
            "type": "scatter"
           }
          ],
          "scatter3d": [
           {
            "line": {
             "colorbar": {
              "outlinewidth": 0,
              "ticks": ""
             }
            },
            "marker": {
             "colorbar": {
              "outlinewidth": 0,
              "ticks": ""
             }
            },
            "type": "scatter3d"
           }
          ],
          "scattercarpet": [
           {
            "marker": {
             "colorbar": {
              "outlinewidth": 0,
              "ticks": ""
             }
            },
            "type": "scattercarpet"
           }
          ],
          "scattergeo": [
           {
            "marker": {
             "colorbar": {
              "outlinewidth": 0,
              "ticks": ""
             }
            },
            "type": "scattergeo"
           }
          ],
          "scattergl": [
           {
            "marker": {
             "colorbar": {
              "outlinewidth": 0,
              "ticks": ""
             }
            },
            "type": "scattergl"
           }
          ],
          "scattermapbox": [
           {
            "marker": {
             "colorbar": {
              "outlinewidth": 0,
              "ticks": ""
             }
            },
            "type": "scattermapbox"
           }
          ],
          "scatterpolar": [
           {
            "marker": {
             "colorbar": {
              "outlinewidth": 0,
              "ticks": ""
             }
            },
            "type": "scatterpolar"
           }
          ],
          "scatterpolargl": [
           {
            "marker": {
             "colorbar": {
              "outlinewidth": 0,
              "ticks": ""
             }
            },
            "type": "scatterpolargl"
           }
          ],
          "scatterternary": [
           {
            "marker": {
             "colorbar": {
              "outlinewidth": 0,
              "ticks": ""
             }
            },
            "type": "scatterternary"
           }
          ],
          "surface": [
           {
            "colorbar": {
             "outlinewidth": 0,
             "ticks": ""
            },
            "colorscale": [
             [
              0,
              "#0d0887"
             ],
             [
              0.1111111111111111,
              "#46039f"
             ],
             [
              0.2222222222222222,
              "#7201a8"
             ],
             [
              0.3333333333333333,
              "#9c179e"
             ],
             [
              0.4444444444444444,
              "#bd3786"
             ],
             [
              0.5555555555555556,
              "#d8576b"
             ],
             [
              0.6666666666666666,
              "#ed7953"
             ],
             [
              0.7777777777777778,
              "#fb9f3a"
             ],
             [
              0.8888888888888888,
              "#fdca26"
             ],
             [
              1,
              "#f0f921"
             ]
            ],
            "type": "surface"
           }
          ],
          "table": [
           {
            "cells": {
             "fill": {
              "color": "#EBF0F8"
             },
             "line": {
              "color": "white"
             }
            },
            "header": {
             "fill": {
              "color": "#C8D4E3"
             },
             "line": {
              "color": "white"
             }
            },
            "type": "table"
           }
          ]
         },
         "layout": {
          "annotationdefaults": {
           "arrowcolor": "#2a3f5f",
           "arrowhead": 0,
           "arrowwidth": 1
          },
          "autotypenumbers": "strict",
          "coloraxis": {
           "colorbar": {
            "outlinewidth": 0,
            "ticks": ""
           }
          },
          "colorscale": {
           "diverging": [
            [
             0,
             "#8e0152"
            ],
            [
             0.1,
             "#c51b7d"
            ],
            [
             0.2,
             "#de77ae"
            ],
            [
             0.3,
             "#f1b6da"
            ],
            [
             0.4,
             "#fde0ef"
            ],
            [
             0.5,
             "#f7f7f7"
            ],
            [
             0.6,
             "#e6f5d0"
            ],
            [
             0.7,
             "#b8e186"
            ],
            [
             0.8,
             "#7fbc41"
            ],
            [
             0.9,
             "#4d9221"
            ],
            [
             1,
             "#276419"
            ]
           ],
           "sequential": [
            [
             0,
             "#0d0887"
            ],
            [
             0.1111111111111111,
             "#46039f"
            ],
            [
             0.2222222222222222,
             "#7201a8"
            ],
            [
             0.3333333333333333,
             "#9c179e"
            ],
            [
             0.4444444444444444,
             "#bd3786"
            ],
            [
             0.5555555555555556,
             "#d8576b"
            ],
            [
             0.6666666666666666,
             "#ed7953"
            ],
            [
             0.7777777777777778,
             "#fb9f3a"
            ],
            [
             0.8888888888888888,
             "#fdca26"
            ],
            [
             1,
             "#f0f921"
            ]
           ],
           "sequentialminus": [
            [
             0,
             "#0d0887"
            ],
            [
             0.1111111111111111,
             "#46039f"
            ],
            [
             0.2222222222222222,
             "#7201a8"
            ],
            [
             0.3333333333333333,
             "#9c179e"
            ],
            [
             0.4444444444444444,
             "#bd3786"
            ],
            [
             0.5555555555555556,
             "#d8576b"
            ],
            [
             0.6666666666666666,
             "#ed7953"
            ],
            [
             0.7777777777777778,
             "#fb9f3a"
            ],
            [
             0.8888888888888888,
             "#fdca26"
            ],
            [
             1,
             "#f0f921"
            ]
           ]
          },
          "colorway": [
           "#636efa",
           "#EF553B",
           "#00cc96",
           "#ab63fa",
           "#FFA15A",
           "#19d3f3",
           "#FF6692",
           "#B6E880",
           "#FF97FF",
           "#FECB52"
          ],
          "font": {
           "color": "#2a3f5f"
          },
          "geo": {
           "bgcolor": "white",
           "lakecolor": "white",
           "landcolor": "#E5ECF6",
           "showlakes": true,
           "showland": true,
           "subunitcolor": "white"
          },
          "hoverlabel": {
           "align": "left"
          },
          "hovermode": "closest",
          "mapbox": {
           "style": "light"
          },
          "paper_bgcolor": "white",
          "plot_bgcolor": "#E5ECF6",
          "polar": {
           "angularaxis": {
            "gridcolor": "white",
            "linecolor": "white",
            "ticks": ""
           },
           "bgcolor": "#E5ECF6",
           "radialaxis": {
            "gridcolor": "white",
            "linecolor": "white",
            "ticks": ""
           }
          },
          "scene": {
           "xaxis": {
            "backgroundcolor": "#E5ECF6",
            "gridcolor": "white",
            "gridwidth": 2,
            "linecolor": "white",
            "showbackground": true,
            "ticks": "",
            "zerolinecolor": "white"
           },
           "yaxis": {
            "backgroundcolor": "#E5ECF6",
            "gridcolor": "white",
            "gridwidth": 2,
            "linecolor": "white",
            "showbackground": true,
            "ticks": "",
            "zerolinecolor": "white"
           },
           "zaxis": {
            "backgroundcolor": "#E5ECF6",
            "gridcolor": "white",
            "gridwidth": 2,
            "linecolor": "white",
            "showbackground": true,
            "ticks": "",
            "zerolinecolor": "white"
           }
          },
          "shapedefaults": {
           "line": {
            "color": "#2a3f5f"
           }
          },
          "ternary": {
           "aaxis": {
            "gridcolor": "white",
            "linecolor": "white",
            "ticks": ""
           },
           "baxis": {
            "gridcolor": "white",
            "linecolor": "white",
            "ticks": ""
           },
           "bgcolor": "#E5ECF6",
           "caxis": {
            "gridcolor": "white",
            "linecolor": "white",
            "ticks": ""
           }
          },
          "title": {
           "x": 0.05
          },
          "xaxis": {
           "automargin": true,
           "gridcolor": "white",
           "linecolor": "white",
           "ticks": "",
           "title": {
            "standoff": 15
           },
           "zerolinecolor": "white",
           "zerolinewidth": 2
          },
          "yaxis": {
           "automargin": true,
           "gridcolor": "white",
           "linecolor": "white",
           "ticks": "",
           "title": {
            "standoff": 15
           },
           "zerolinecolor": "white",
           "zerolinewidth": 2
          }
         }
        },
        "title": {
         "text": "mobility during covid in Noord-Brabant, Noord-Holland and Zuid-Holland"
        }
       }
      }
     },
     "metadata": {},
     "output_type": "display_data"
    }
   ],
   "source": [
    "# Making a line graph again\n",
    "fig_8 = go.Figure()\n",
    "\n",
    "for province in provinces_story:\n",
    "    df_province_story_2 = (df_full.loc[df_full['province'] == province])\n",
    "    df_province_story_2.reset_index(inplace=True)\n",
    "\n",
    "    for activity in activities_story_2:\n",
    "        x1 = df_province_story_2['date']\n",
    "        y1 = df_province_story_2[activity]\n",
    "        fig_8.add_trace(go.Scatter(x=x1,y=y1,name=activity + ' ' + province))\n",
    "\n",
    "fig_8.update_layout(title='mobility during covid in ' + province_1 + ', ' + province_2 + ' and ' + province_3)\n",
    "fig_8.show()"
   ]
  },
  {
   "cell_type": "markdown",
   "metadata": {},
   "source": [
    "This plot shows some interesting findings. You can look at specific data by toggling. Clearly my personal, anecdotical, experience was not representative of the whole province. The province of Noord-Brabant shows to have the relatively highest number of trips for all three trip purposes over the covid period. It would be interesting to look into the differences between specific cities, as those might give off different results. For now, it is interesting to see that (although the differences are not huge) the citizens of Noord-Brabant seem to travel the most of these three provinces during the covid times despite the high number of cases. In the other two provinces, people have decreased their trips more because of covid. \n",
    "\n",
    "What would also be interesting, however, is to see if people from the three provinces reacted the same to peaks in the number of cases in their respective province. So if peaks in cases/hospitalizations resulted in fewer trips in the week(s) after. For Noord-Brabant, we have already seen this at the end of part II of this assignment. Let's put the results together for all three provinces."
   ]
  },
  {
   "cell_type": "code",
   "execution_count": 25,
   "metadata": {},
   "outputs": [
    {
     "name": "stdout",
     "output_type": "stream",
     "text": [
      "Peaks in number of cases for which grocery and pharmacy trips has a valley in the same week in Noord-Brabant : ['2020-03-26', '2020-08-06', '2020-06-04', '2020-04-09', '2020-10-29']\n",
      "Peaks in number of cases for which grocery and pharmacy trips has a valley within 2 week(s) after in Noord-Brabant : ['2020-03-26', '2021-03-25', '2020-12-17', '2020-08-20', '2020-11-19']\n",
      "Peaks in number of cases for which grocery and pharmacy trips has a valley in the same week in Noord-Holland : ['2020-03-26', '2020-08-06', '2020-06-04', '2020-04-09', '2020-10-29']\n",
      "Peaks in number of cases for which grocery and pharmacy trips has a valley within 2 week(s) after in Noord-Holland : ['2020-03-26', '2021-03-25', '2020-12-17', '2020-08-20', '2020-07-02', '2021-02-25', '2020-11-19', '2020-10-22']\n",
      "Peaks in number of cases for which grocery and pharmacy trips has a valley in the same week in Zuid-Holland : ['2020-03-26', '2020-08-06', '2020-06-04', '2020-04-09', '2020-10-29']\n",
      "Peaks in number of cases for which grocery and pharmacy trips has a valley within 2 week(s) after in Zuid-Holland : ['2020-03-26', '2020-08-06', '2021-03-25', '2020-12-17', '2020-06-25', '2020-08-20', '2020-07-02', '2021-02-25', '2020-11-19', '2020-10-22']\n"
     ]
    }
   ],
   "source": [
    "# The same idea done in the second part, but now for multiple provinces at the same time\n",
    "peaks_date_dict_3 = {}\n",
    "valleys_date_dict_3 = {}\n",
    "\n",
    "margin_4 = list(range(1,weeks_4+1))\n",
    "\n",
    "common_peaks_4 = {}\n",
    "common_peaks_4['in same week'] = []\n",
    "common_peaks_4['in margin_2 after'] = []\n",
    "\n",
    "# Here the for loop with the provinces is added\n",
    "for province in provinces_story:\n",
    "    df_province_story_3 = (df_full.loc[df_full['province'] == province])\n",
    "    df_province_story_3.reset_index(inplace=True)\n",
    "    for activity in activities_story_3:\n",
    "        max_ind = my_find_peaks(df_province_story_3, activity)\n",
    "        min_ind = my_find_valleys(df_province_story_3,activity)\n",
    "\n",
    "        df_max_3 = df_province_story_3.iloc[max_ind]\n",
    "        df_min_3 = df_province_story_3.iloc[min_ind]\n",
    "        peaks_date_dict_3[activity] = df_max_3['date']\n",
    "        valleys_date_dict_3[activity] = df_min_3['date']        \n",
    "\n",
    "    for date5 in peaks_date_dict_3[activity_5]:\n",
    "        for date2 in valleys_date_dict_3[activity_2]:\n",
    "            for number in margin_4:\n",
    "                if date5.date() == date2.date():\n",
    "                    common_peaks_4['in same week'].append(str(date5.date()))\n",
    "                if date5.date() + datetime.timedelta(weeks=number) == date2.date():\n",
    "                    common_peaks_4['in margin_2 after'].append(str(date5.date()))\n",
    "\n",
    "    unique_common_peaks_4 = {a:list(set(b)) for a, b in common_peaks_4.items()}\n",
    "\n",
    "    print('Peaks in', activity_5, 'for which', activity_2, 'has a valley in the same week in', province, ':', unique_common_peaks_4['in same week'])\n",
    "    print('Peaks in', activity_5, 'for which', activity_2, 'has a valley within', weeks_4, 'week(s) after in', province, ':', unique_common_peaks_4['in margin_2 after'])"
   ]
  },
  {
   "cell_type": "markdown",
   "metadata": {},
   "source": [
    "This could be done for all of the trip purposes, but at least for grocery and pharmacy trips:\n",
    "- It can be seen that people in Noord-Holland and Zuid-Holland reacted to the peaks in cases in terms of lowering trips more often than in Noord-Brabant\n",
    "- It can also be seen that the provinces have precisely common peaks for cases and valleys for the trips at the same moments in time"
   ]
  },
  {
   "cell_type": "markdown",
   "metadata": {},
   "source": [
    "All with all, it can be stated that:\n",
    "- The citizens of Zuid-Holland rightfully decreased their number of trips during the covid crisis, as the number of cases there has often been the highest\n",
    "- The citizens of Noord-Brabant decreased their number of trips the least of all three provinces, despite the fact that the number of cases has been relatively high there as well\n",
    "- My personal experience was not representative for the whole province :)\n",
    "\n",
    "It should be noted, however, that taking the provincial data does generalise quite different regions:\n",
    "- These provinces consist of larger cities and countryside that have showed totally different numbers of cases and hospitalizations\n",
    "- The composition of these provinces in terms of city-countryside is also different\n",
    "\n",
    "Therefore, it would be good to look into the city data before coming to hard conclusions."
   ]
  }
 ],
 "metadata": {
  "interpreter": {
   "hash": "13b144fba200076560b4f833c59a5abf9d79ef7cb58ea18c1416052701640047"
  },
  "kernelspec": {
   "display_name": "Python 3.9.7 64-bit ('geo-env': conda)",
   "name": "python3"
  },
  "language_info": {
   "codemirror_mode": {
    "name": "ipython",
    "version": 3
   },
   "file_extension": ".py",
   "mimetype": "text/x-python",
   "name": "python",
   "nbconvert_exporter": "python",
   "pygments_lexer": "ipython3",
   "version": "3.9.7"
  }
 },
 "nbformat": 4,
 "nbformat_minor": 4
}
