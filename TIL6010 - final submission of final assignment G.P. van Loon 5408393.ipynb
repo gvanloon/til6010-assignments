{
 "cells": [
  {
   "cell_type": "markdown",
   "metadata": {
    "heading_collapsed": true
   },
   "source": [
    "# TIL6010 - final assignment G.P. van Loon 5408393"
   ]
  },
  {
   "cell_type": "markdown",
   "metadata": {},
   "source": [
    "For this assignment, I'm going to compare covid and mobility data on a provincial level in the Netherlands.\n",
    "As a first step, I'm importing the necessary libraries."
   ]
  },
  {
   "cell_type": "code",
   "execution_count": 28,
   "metadata": {},
   "outputs": [],
   "source": [
    "import pandas as pd\n",
    "from pathlib import Path\n",
    "import numpy as np\n",
    "import math\n",
    "import scipy\n",
    "from scipy.signal import find_peaks\n",
    "import plotly.graph_objects as go\n",
    "import plotly.express as px\n",
    "from plotly.subplots import make_subplots\n",
    "import datetime\n",
    "import matplotlib.pyplot as plt\n",
    "%matplotlib inline\n",
    "import geopandas as gpd"
   ]
  },
  {
   "cell_type": "markdown",
   "metadata": {
    "heading_collapsed": true,
    "hidden": true
   },
   "source": [
    "## Part I - Data import"
   ]
  },
  {
   "cell_type": "markdown",
   "metadata": {
    "hidden": true
   },
   "source": [
    "First, I'm going to import and combine dataframes of the two types of data I found:\n",
    "- Covid data from the RIVM on provincial level, giving cases, hospitalizations and casualties per day (absolute and cumulative)\n",
    "- Mobility data from Google on provincial level, giving difference in trip numbers for several trip rates (percentage difference to baseline)\n",
    "\n",
    "I'm starting off with the covid data."
   ]
  },
  {
   "cell_type": "code",
   "execution_count": 2,
   "metadata": {},
   "outputs": [
    {
     "data": {
      "text/html": [
       "<div>\n",
       "<style scoped>\n",
       "    .dataframe tbody tr th:only-of-type {\n",
       "        vertical-align: middle;\n",
       "    }\n",
       "\n",
       "    .dataframe tbody tr th {\n",
       "        vertical-align: top;\n",
       "    }\n",
       "\n",
       "    .dataframe thead th {\n",
       "        text-align: right;\n",
       "    }\n",
       "</style>\n",
       "<table border=\"1\" class=\"dataframe\">\n",
       "  <thead>\n",
       "    <tr style=\"text-align: right;\">\n",
       "      <th></th>\n",
       "      <th>date</th>\n",
       "      <th>province</th>\n",
       "      <th>number of casualties</th>\n",
       "      <th>number of hospitalized patients</th>\n",
       "      <th>number of cases</th>\n",
       "      <th>number of casualties_cum</th>\n",
       "      <th>number of hospitalized patients_cum</th>\n",
       "      <th>number of cases_cum</th>\n",
       "    </tr>\n",
       "  </thead>\n",
       "  <tbody>\n",
       "    <tr>\n",
       "      <th>0</th>\n",
       "      <td>2020-02-27</td>\n",
       "      <td>Drenthe</td>\n",
       "      <td>NaN</td>\n",
       "      <td>NaN</td>\n",
       "      <td>NaN</td>\n",
       "      <td>NaN</td>\n",
       "      <td>NaN</td>\n",
       "      <td>NaN</td>\n",
       "    </tr>\n",
       "    <tr>\n",
       "      <th>1</th>\n",
       "      <td>2020-02-27</td>\n",
       "      <td>Drenthe</td>\n",
       "      <td>NaN</td>\n",
       "      <td>NaN</td>\n",
       "      <td>NaN</td>\n",
       "      <td>NaN</td>\n",
       "      <td>NaN</td>\n",
       "      <td>0.0</td>\n",
       "    </tr>\n",
       "    <tr>\n",
       "      <th>2</th>\n",
       "      <td>2020-02-27</td>\n",
       "      <td>Drenthe</td>\n",
       "      <td>NaN</td>\n",
       "      <td>NaN</td>\n",
       "      <td>NaN</td>\n",
       "      <td>NaN</td>\n",
       "      <td>NaN</td>\n",
       "      <td>NaN</td>\n",
       "    </tr>\n",
       "    <tr>\n",
       "      <th>3</th>\n",
       "      <td>2020-02-28</td>\n",
       "      <td>Drenthe</td>\n",
       "      <td>NaN</td>\n",
       "      <td>NaN</td>\n",
       "      <td>NaN</td>\n",
       "      <td>NaN</td>\n",
       "      <td>NaN</td>\n",
       "      <td>NaN</td>\n",
       "    </tr>\n",
       "    <tr>\n",
       "      <th>4</th>\n",
       "      <td>2020-02-28</td>\n",
       "      <td>Drenthe</td>\n",
       "      <td>NaN</td>\n",
       "      <td>NaN</td>\n",
       "      <td>0.0</td>\n",
       "      <td>NaN</td>\n",
       "      <td>NaN</td>\n",
       "      <td>0.0</td>\n",
       "    </tr>\n",
       "    <tr>\n",
       "      <th>...</th>\n",
       "      <td>...</td>\n",
       "      <td>...</td>\n",
       "      <td>...</td>\n",
       "      <td>...</td>\n",
       "      <td>...</td>\n",
       "      <td>...</td>\n",
       "      <td>...</td>\n",
       "      <td>...</td>\n",
       "    </tr>\n",
       "    <tr>\n",
       "      <th>14925</th>\n",
       "      <td>2021-04-13</td>\n",
       "      <td>Zuid-Limburg</td>\n",
       "      <td>2.0</td>\n",
       "      <td>NaN</td>\n",
       "      <td>NaN</td>\n",
       "      <td>1533.0</td>\n",
       "      <td>NaN</td>\n",
       "      <td>NaN</td>\n",
       "    </tr>\n",
       "    <tr>\n",
       "      <th>14926</th>\n",
       "      <td>2021-04-13</td>\n",
       "      <td>Zuid-Limburg</td>\n",
       "      <td>NaN</td>\n",
       "      <td>NaN</td>\n",
       "      <td>562.0</td>\n",
       "      <td>NaN</td>\n",
       "      <td>NaN</td>\n",
       "      <td>90113.0</td>\n",
       "    </tr>\n",
       "    <tr>\n",
       "      <th>14927</th>\n",
       "      <td>2021-04-13</td>\n",
       "      <td>Zuid-Limburg</td>\n",
       "      <td>NaN</td>\n",
       "      <td>10.0</td>\n",
       "      <td>NaN</td>\n",
       "      <td>NaN</td>\n",
       "      <td>2405.0</td>\n",
       "      <td>NaN</td>\n",
       "    </tr>\n",
       "    <tr>\n",
       "      <th>14928</th>\n",
       "      <td>2021-04-14</td>\n",
       "      <td>Zuid-Limburg</td>\n",
       "      <td>4.0</td>\n",
       "      <td>NaN</td>\n",
       "      <td>NaN</td>\n",
       "      <td>1537.0</td>\n",
       "      <td>NaN</td>\n",
       "      <td>NaN</td>\n",
       "    </tr>\n",
       "    <tr>\n",
       "      <th>14929</th>\n",
       "      <td>2021-04-14</td>\n",
       "      <td>Zuid-Limburg</td>\n",
       "      <td>NaN</td>\n",
       "      <td>NaN</td>\n",
       "      <td>468.0</td>\n",
       "      <td>NaN</td>\n",
       "      <td>NaN</td>\n",
       "      <td>90581.0</td>\n",
       "    </tr>\n",
       "  </tbody>\n",
       "</table>\n",
       "<p>14930 rows × 8 columns</p>\n",
       "</div>"
      ],
      "text/plain": [
       "            date      province  number of casualties  \\\n",
       "0     2020-02-27       Drenthe                   NaN   \n",
       "1     2020-02-27       Drenthe                   NaN   \n",
       "2     2020-02-27       Drenthe                   NaN   \n",
       "3     2020-02-28       Drenthe                   NaN   \n",
       "4     2020-02-28       Drenthe                   NaN   \n",
       "...          ...           ...                   ...   \n",
       "14925 2021-04-13  Zuid-Limburg                   2.0   \n",
       "14926 2021-04-13  Zuid-Limburg                   NaN   \n",
       "14927 2021-04-13  Zuid-Limburg                   NaN   \n",
       "14928 2021-04-14  Zuid-Limburg                   4.0   \n",
       "14929 2021-04-14  Zuid-Limburg                   NaN   \n",
       "\n",
       "       number of hospitalized patients  number of cases  \\\n",
       "0                                  NaN              NaN   \n",
       "1                                  NaN              NaN   \n",
       "2                                  NaN              NaN   \n",
       "3                                  NaN              NaN   \n",
       "4                                  NaN              0.0   \n",
       "...                                ...              ...   \n",
       "14925                              NaN              NaN   \n",
       "14926                              NaN            562.0   \n",
       "14927                             10.0              NaN   \n",
       "14928                              NaN              NaN   \n",
       "14929                              NaN            468.0   \n",
       "\n",
       "       number of casualties_cum  number of hospitalized patients_cum  \\\n",
       "0                           NaN                                  NaN   \n",
       "1                           NaN                                  NaN   \n",
       "2                           NaN                                  NaN   \n",
       "3                           NaN                                  NaN   \n",
       "4                           NaN                                  NaN   \n",
       "...                         ...                                  ...   \n",
       "14925                    1533.0                                  NaN   \n",
       "14926                       NaN                                  NaN   \n",
       "14927                       NaN                               2405.0   \n",
       "14928                    1537.0                                  NaN   \n",
       "14929                       NaN                                  NaN   \n",
       "\n",
       "       number of cases_cum  \n",
       "0                      NaN  \n",
       "1                      0.0  \n",
       "2                      NaN  \n",
       "3                      NaN  \n",
       "4                      0.0  \n",
       "...                    ...  \n",
       "14925                  NaN  \n",
       "14926              90113.0  \n",
       "14927                  NaN  \n",
       "14928                  NaN  \n",
       "14929              90581.0  \n",
       "\n",
       "[14930 rows x 8 columns]"
      ]
     },
     "execution_count": 2,
     "metadata": {},
     "output_type": "execute_result"
    }
   ],
   "source": [
    "# import the files for the covid data. I've chosen provincial data. Then eventually I can compare the number of cases, number of hospitalized patients and victims against the mobility patterns in provinces\n",
    "file_path_covid = r'C:\\Users\\Govert\\OneDrive - Delft University of Technology\\Studie\\Master jaar 2\\Kwartiel 1\\TIL6010 - TIL programming\\til6010-assignments\\Final assignment\\RIVM_NL_provincial.csv'\n",
    "\n",
    "df_covid = pd.read_csv(file_path_covid)\n",
    "\n",
    "# again drop the unnecessary columns and change the column names to English and match the province column to the mobility dataframe\n",
    "df_covid = df_covid[(df_covid['Provincienaam'].notna())]\n",
    "df_covid.rename(columns =      {'Datum': 'date', \n",
    "                                'Provincienaam': 'province', \n",
    "                                'Provinciecode': 'province_code', \n",
    "                                'Type': 'type', \n",
    "                                'Aantal': 'number', \n",
    "                                'AantalCumulatief': 'number_cumulative'}, inplace=True)\n",
    "\n",
    "# the covid dataframe has three rows for each data, with in every row either the number of cases, the victims or the number of hospitalized patients. I eventually want only one row per day, so I put everything in columns\n",
    "df_covid['number of casualties'] = np.where(df_covid['type'] == 'Overleden', df_covid['number'], np.nan)\n",
    "df_covid['number of hospitalized patients'] = np.where(df_covid['type'] == 'Ziekenhuisopname', df_covid['number'], np.nan)\n",
    "df_covid['number of cases'] = np.where(df_covid['type'] == 'Totaal', df_covid['number'], np.nan)\n",
    "df_covid['number of casualties_cum'] = np.where(df_covid['type'] == 'Overleden', df_covid['number_cumulative'], np.nan)\n",
    "df_covid['number of hospitalized patients_cum'] = np.where(df_covid['type'] == 'Ziekenhuisopname', df_covid['number_cumulative'], np.nan)\n",
    "df_covid['number of cases_cum'] = np.where(df_covid['type'] == 'Totaal', df_covid['number_cumulative'], np.nan)\n",
    "\n",
    "# then I drop the old columns with the information in rows\n",
    "df_covid = df_covid.drop(columns = ['province_code', 'type', 'number', 'number_cumulative'])\n",
    "\n",
    "# I turn the dates to datetime\n",
    "df_datetime_1 = pd.to_datetime(df_covid['date'],format='%d/%m/%Y')\n",
    "df_covid['date'] = df_datetime_1\n",
    "\n",
    "# Then I sort the columns again to make it clearer\n",
    "df_covid = df_covid.sort_values(by=['province', 'date'], ascending=[True,True])\n",
    "df_covid.reset_index(inplace=True)\n",
    "df_covid = df_covid.drop(columns = ['index'])\n",
    "df_covid.head(-10)\n"
   ]
  },
  {
   "cell_type": "markdown",
   "metadata": {},
   "source": [
    "Then, I want to get rid of the fact that there are now three rows per date per province. I want to have only one row per date per province that has all information.\n",
    "\n",
    "When I just resample over the dates, the information is forced into one row, but it ends up idential for all provinces. This is not wanted, so I try the following:\n",
    "- I loop over all provinces to create new dataframes containing only the information for that specific province.\n",
    "- Then I resample and add the result to the covid_final dataframe. \n",
    "- I also make a monthly dataframe that comes in handy at the end of the assignment.\n",
    "\n",
    "This way I can resample without losing data. The resampling also gets rid of the provinces as those are strings, but I readd them as well."
   ]
  },
  {
   "cell_type": "code",
   "execution_count": 3,
   "metadata": {},
   "outputs": [
    {
     "data": {
      "text/html": [
       "<div>\n",
       "<style scoped>\n",
       "    .dataframe tbody tr th:only-of-type {\n",
       "        vertical-align: middle;\n",
       "    }\n",
       "\n",
       "    .dataframe tbody tr th {\n",
       "        vertical-align: top;\n",
       "    }\n",
       "\n",
       "    .dataframe thead th {\n",
       "        text-align: right;\n",
       "    }\n",
       "</style>\n",
       "<table border=\"1\" class=\"dataframe\">\n",
       "  <thead>\n",
       "    <tr style=\"text-align: right;\">\n",
       "      <th></th>\n",
       "      <th>index</th>\n",
       "      <th>date</th>\n",
       "      <th>province</th>\n",
       "      <th>number of casualties</th>\n",
       "      <th>number of hospitalized patients</th>\n",
       "      <th>number of cases</th>\n",
       "      <th>number of casualties_cum</th>\n",
       "      <th>number of hospitalized patients_cum</th>\n",
       "      <th>number of cases_cum</th>\n",
       "    </tr>\n",
       "  </thead>\n",
       "  <tbody>\n",
       "    <tr>\n",
       "      <th>0</th>\n",
       "      <td>0</td>\n",
       "      <td>2020-02-27</td>\n",
       "      <td>Drenthe</td>\n",
       "      <td>NaN</td>\n",
       "      <td>NaN</td>\n",
       "      <td>0.333333</td>\n",
       "      <td>NaN</td>\n",
       "      <td>NaN</td>\n",
       "      <td>0.857143</td>\n",
       "    </tr>\n",
       "    <tr>\n",
       "      <th>1</th>\n",
       "      <td>1</td>\n",
       "      <td>2020-03-05</td>\n",
       "      <td>Drenthe</td>\n",
       "      <td>NaN</td>\n",
       "      <td>NaN</td>\n",
       "      <td>1.428571</td>\n",
       "      <td>NaN</td>\n",
       "      <td>NaN</td>\n",
       "      <td>7.285714</td>\n",
       "    </tr>\n",
       "    <tr>\n",
       "      <th>2</th>\n",
       "      <td>2</td>\n",
       "      <td>2020-03-12</td>\n",
       "      <td>Drenthe</td>\n",
       "      <td>0.000000</td>\n",
       "      <td>0.200000</td>\n",
       "      <td>1.428571</td>\n",
       "      <td>0.000000</td>\n",
       "      <td>0.500000</td>\n",
       "      <td>15.857143</td>\n",
       "    </tr>\n",
       "    <tr>\n",
       "      <th>3</th>\n",
       "      <td>3</td>\n",
       "      <td>2020-03-19</td>\n",
       "      <td>Drenthe</td>\n",
       "      <td>0.285714</td>\n",
       "      <td>1.857143</td>\n",
       "      <td>5.428571</td>\n",
       "      <td>1.428571</td>\n",
       "      <td>6.285714</td>\n",
       "      <td>43.714286</td>\n",
       "    </tr>\n",
       "    <tr>\n",
       "      <th>4</th>\n",
       "      <td>4</td>\n",
       "      <td>2020-03-26</td>\n",
       "      <td>Drenthe</td>\n",
       "      <td>0.428571</td>\n",
       "      <td>4.142857</td>\n",
       "      <td>11.714286</td>\n",
       "      <td>3.285714</td>\n",
       "      <td>28.285714</td>\n",
       "      <td>105.714286</td>\n",
       "    </tr>\n",
       "    <tr>\n",
       "      <th>...</th>\n",
       "      <td>...</td>\n",
       "      <td>...</td>\n",
       "      <td>...</td>\n",
       "      <td>...</td>\n",
       "      <td>...</td>\n",
       "      <td>...</td>\n",
       "      <td>...</td>\n",
       "      <td>...</td>\n",
       "      <td>...</td>\n",
       "    </tr>\n",
       "    <tr>\n",
       "      <th>705</th>\n",
       "      <td>45</td>\n",
       "      <td>2021-01-07</td>\n",
       "      <td>Zuid-Limburg</td>\n",
       "      <td>8.285714</td>\n",
       "      <td>6.857143</td>\n",
       "      <td>607.142857</td>\n",
       "      <td>1146.142857</td>\n",
       "      <td>2013.857143</td>\n",
       "      <td>53463.142857</td>\n",
       "    </tr>\n",
       "    <tr>\n",
       "      <th>706</th>\n",
       "      <td>46</td>\n",
       "      <td>2021-01-14</td>\n",
       "      <td>Zuid-Limburg</td>\n",
       "      <td>8.000000</td>\n",
       "      <td>5.857143</td>\n",
       "      <td>518.000000</td>\n",
       "      <td>1205.142857</td>\n",
       "      <td>2063.000000</td>\n",
       "      <td>57374.714286</td>\n",
       "    </tr>\n",
       "    <tr>\n",
       "      <th>707</th>\n",
       "      <td>47</td>\n",
       "      <td>2021-01-21</td>\n",
       "      <td>Zuid-Limburg</td>\n",
       "      <td>6.285714</td>\n",
       "      <td>4.571429</td>\n",
       "      <td>428.714286</td>\n",
       "      <td>1254.571429</td>\n",
       "      <td>2098.714286</td>\n",
       "      <td>60704.142857</td>\n",
       "    </tr>\n",
       "    <tr>\n",
       "      <th>708</th>\n",
       "      <td>48</td>\n",
       "      <td>2021-01-28</td>\n",
       "      <td>Zuid-Limburg</td>\n",
       "      <td>5.428571</td>\n",
       "      <td>4.428571</td>\n",
       "      <td>365.428571</td>\n",
       "      <td>1294.714286</td>\n",
       "      <td>2127.714286</td>\n",
       "      <td>63372.714286</td>\n",
       "    </tr>\n",
       "    <tr>\n",
       "      <th>709</th>\n",
       "      <td>49</td>\n",
       "      <td>2021-02-04</td>\n",
       "      <td>Zuid-Limburg</td>\n",
       "      <td>5.142857</td>\n",
       "      <td>4.000000</td>\n",
       "      <td>293.857143</td>\n",
       "      <td>1328.571429</td>\n",
       "      <td>2159.571429</td>\n",
       "      <td>65731.000000</td>\n",
       "    </tr>\n",
       "  </tbody>\n",
       "</table>\n",
       "<p>710 rows × 9 columns</p>\n",
       "</div>"
      ],
      "text/plain": [
       "     index       date      province  number of casualties  \\\n",
       "0        0 2020-02-27       Drenthe                   NaN   \n",
       "1        1 2020-03-05       Drenthe                   NaN   \n",
       "2        2 2020-03-12       Drenthe              0.000000   \n",
       "3        3 2020-03-19       Drenthe              0.285714   \n",
       "4        4 2020-03-26       Drenthe              0.428571   \n",
       "..     ...        ...           ...                   ...   \n",
       "705     45 2021-01-07  Zuid-Limburg              8.285714   \n",
       "706     46 2021-01-14  Zuid-Limburg              8.000000   \n",
       "707     47 2021-01-21  Zuid-Limburg              6.285714   \n",
       "708     48 2021-01-28  Zuid-Limburg              5.428571   \n",
       "709     49 2021-02-04  Zuid-Limburg              5.142857   \n",
       "\n",
       "     number of hospitalized patients  number of cases  \\\n",
       "0                                NaN         0.333333   \n",
       "1                                NaN         1.428571   \n",
       "2                           0.200000         1.428571   \n",
       "3                           1.857143         5.428571   \n",
       "4                           4.142857        11.714286   \n",
       "..                               ...              ...   \n",
       "705                         6.857143       607.142857   \n",
       "706                         5.857143       518.000000   \n",
       "707                         4.571429       428.714286   \n",
       "708                         4.428571       365.428571   \n",
       "709                         4.000000       293.857143   \n",
       "\n",
       "     number of casualties_cum  number of hospitalized patients_cum  \\\n",
       "0                         NaN                                  NaN   \n",
       "1                         NaN                                  NaN   \n",
       "2                    0.000000                             0.500000   \n",
       "3                    1.428571                             6.285714   \n",
       "4                    3.285714                            28.285714   \n",
       "..                        ...                                  ...   \n",
       "705               1146.142857                          2013.857143   \n",
       "706               1205.142857                          2063.000000   \n",
       "707               1254.571429                          2098.714286   \n",
       "708               1294.714286                          2127.714286   \n",
       "709               1328.571429                          2159.571429   \n",
       "\n",
       "     number of cases_cum  \n",
       "0               0.857143  \n",
       "1               7.285714  \n",
       "2              15.857143  \n",
       "3              43.714286  \n",
       "4             105.714286  \n",
       "..                   ...  \n",
       "705         53463.142857  \n",
       "706         57374.714286  \n",
       "707         60704.142857  \n",
       "708         63372.714286  \n",
       "709         65731.000000  \n",
       "\n",
       "[710 rows x 9 columns]"
      ]
     },
     "execution_count": 3,
     "metadata": {},
     "output_type": "execute_result"
    }
   ],
   "source": [
    "# I create an empty dataframe with the same columns as the covid dataframe\n",
    "rows = []\n",
    "columns = []\n",
    "df_covid_final = pd.DataFrame(rows, columns = df_covid.columns.values.tolist())\n",
    "df_covid_month_final = pd.DataFrame(rows, columns = df_covid.columns.values.tolist())\n",
    "\n",
    "# I create a list of the unique provinces in the covid dataframe to loop through\n",
    "provinces = df_covid['province'].unique()\n",
    "\n",
    "# I resample each province separately, because otherwise the all provinces end up with identical data\n",
    "for province in provinces:\n",
    "    df_province_1 = (df_covid.loc[df_covid['province'] == province])\n",
    "    df_province_1_agg = (df_province_1.resample('7D',on='date').mean())\n",
    "    df_province_1_agg.reset_index(inplace=True)\n",
    "    df_province_1_agg['province'] = province\n",
    "    df_covid_final = pd.concat((df_covid_final, df_province_1_agg))\n",
    "\n",
    "# The monthly dataframe comes in handy later during the assignment\n",
    "    df_province_1_aggmonth = (df_province_1.resample('M',on='date').sum())\n",
    "    df_province_1_aggmonth.reset_index(inplace=True)\n",
    "    df_province_1_aggmonth['province'] = province\n",
    "    df_covid_month_final = pd.concat((df_covid_month_final,df_province_1_aggmonth))\n",
    "\n",
    "df_covid_final.reset_index(inplace=True)\n",
    "df_covid_month_final.reset_index(inplace=True)\n",
    "\n",
    "df_covid_final.head(-10)"
   ]
  },
  {
   "cell_type": "markdown",
   "metadata": {},
   "source": [
    "Now, I'm importing the mobility data. The most noteworthy thing I do is changing the column names and reordering the columns."
   ]
  },
  {
   "cell_type": "code",
   "execution_count": 4,
   "metadata": {},
   "outputs": [
    {
     "data": {
      "text/html": [
       "<div>\n",
       "<style scoped>\n",
       "    .dataframe tbody tr th:only-of-type {\n",
       "        vertical-align: middle;\n",
       "    }\n",
       "\n",
       "    .dataframe tbody tr th {\n",
       "        vertical-align: top;\n",
       "    }\n",
       "\n",
       "    .dataframe thead th {\n",
       "        text-align: right;\n",
       "    }\n",
       "</style>\n",
       "<table border=\"1\" class=\"dataframe\">\n",
       "  <thead>\n",
       "    <tr style=\"text-align: right;\">\n",
       "      <th></th>\n",
       "      <th>date</th>\n",
       "      <th>province</th>\n",
       "      <th>retail and recreation trips</th>\n",
       "      <th>grocery and pharmacy trips</th>\n",
       "      <th>park trips</th>\n",
       "      <th>transit station trips</th>\n",
       "      <th>work trips</th>\n",
       "      <th>residential trips</th>\n",
       "    </tr>\n",
       "  </thead>\n",
       "  <tbody>\n",
       "    <tr>\n",
       "      <th>321</th>\n",
       "      <td>2020-02-15</td>\n",
       "      <td>Drenthe</td>\n",
       "      <td>-6.0</td>\n",
       "      <td>0.0</td>\n",
       "      <td>18.0</td>\n",
       "      <td>6.0</td>\n",
       "      <td>1.0</td>\n",
       "      <td>0.0</td>\n",
       "    </tr>\n",
       "    <tr>\n",
       "      <th>322</th>\n",
       "      <td>2020-02-16</td>\n",
       "      <td>Drenthe</td>\n",
       "      <td>-10.0</td>\n",
       "      <td>-10.0</td>\n",
       "      <td>-38.0</td>\n",
       "      <td>-12.0</td>\n",
       "      <td>-2.0</td>\n",
       "      <td>1.0</td>\n",
       "    </tr>\n",
       "    <tr>\n",
       "      <th>323</th>\n",
       "      <td>2020-02-17</td>\n",
       "      <td>Drenthe</td>\n",
       "      <td>3.0</td>\n",
       "      <td>-2.0</td>\n",
       "      <td>52.0</td>\n",
       "      <td>-24.0</td>\n",
       "      <td>-22.0</td>\n",
       "      <td>3.0</td>\n",
       "    </tr>\n",
       "    <tr>\n",
       "      <th>324</th>\n",
       "      <td>2020-02-18</td>\n",
       "      <td>Drenthe</td>\n",
       "      <td>8.0</td>\n",
       "      <td>0.0</td>\n",
       "      <td>45.0</td>\n",
       "      <td>-21.0</td>\n",
       "      <td>-22.0</td>\n",
       "      <td>3.0</td>\n",
       "    </tr>\n",
       "    <tr>\n",
       "      <th>325</th>\n",
       "      <td>2020-02-19</td>\n",
       "      <td>Drenthe</td>\n",
       "      <td>4.0</td>\n",
       "      <td>-4.0</td>\n",
       "      <td>49.0</td>\n",
       "      <td>-19.0</td>\n",
       "      <td>-22.0</td>\n",
       "      <td>2.0</td>\n",
       "    </tr>\n",
       "    <tr>\n",
       "      <th>...</th>\n",
       "      <td>...</td>\n",
       "      <td>...</td>\n",
       "      <td>...</td>\n",
       "      <td>...</td>\n",
       "      <td>...</td>\n",
       "      <td>...</td>\n",
       "      <td>...</td>\n",
       "      <td>...</td>\n",
       "    </tr>\n",
       "    <tr>\n",
       "      <th>26570</th>\n",
       "      <td>2021-08-27</td>\n",
       "      <td>Zuid-Limburg</td>\n",
       "      <td>6.0</td>\n",
       "      <td>13.0</td>\n",
       "      <td>148.0</td>\n",
       "      <td>-21.0</td>\n",
       "      <td>-37.0</td>\n",
       "      <td>5.0</td>\n",
       "    </tr>\n",
       "    <tr>\n",
       "      <th>26571</th>\n",
       "      <td>2021-08-28</td>\n",
       "      <td>Zuid-Limburg</td>\n",
       "      <td>-9.0</td>\n",
       "      <td>2.0</td>\n",
       "      <td>107.0</td>\n",
       "      <td>-5.0</td>\n",
       "      <td>4.0</td>\n",
       "      <td>1.0</td>\n",
       "    </tr>\n",
       "    <tr>\n",
       "      <th>26572</th>\n",
       "      <td>2021-08-29</td>\n",
       "      <td>Zuid-Limburg</td>\n",
       "      <td>-11.0</td>\n",
       "      <td>4.0</td>\n",
       "      <td>47.0</td>\n",
       "      <td>-6.0</td>\n",
       "      <td>11.0</td>\n",
       "      <td>1.0</td>\n",
       "    </tr>\n",
       "    <tr>\n",
       "      <th>26573</th>\n",
       "      <td>2021-08-30</td>\n",
       "      <td>Zuid-Limburg</td>\n",
       "      <td>25.0</td>\n",
       "      <td>18.0</td>\n",
       "      <td>162.0</td>\n",
       "      <td>-15.0</td>\n",
       "      <td>-34.0</td>\n",
       "      <td>5.0</td>\n",
       "    </tr>\n",
       "    <tr>\n",
       "      <th>26574</th>\n",
       "      <td>2021-08-31</td>\n",
       "      <td>Zuid-Limburg</td>\n",
       "      <td>27.0</td>\n",
       "      <td>22.0</td>\n",
       "      <td>236.0</td>\n",
       "      <td>-10.0</td>\n",
       "      <td>-33.0</td>\n",
       "      <td>5.0</td>\n",
       "    </tr>\n",
       "  </tbody>\n",
       "</table>\n",
       "<p>6878 rows × 8 columns</p>\n",
       "</div>"
      ],
      "text/plain": [
       "            date      province  retail and recreation trips  \\\n",
       "321   2020-02-15       Drenthe                         -6.0   \n",
       "322   2020-02-16       Drenthe                        -10.0   \n",
       "323   2020-02-17       Drenthe                          3.0   \n",
       "324   2020-02-18       Drenthe                          8.0   \n",
       "325   2020-02-19       Drenthe                          4.0   \n",
       "...          ...           ...                          ...   \n",
       "26570 2021-08-27  Zuid-Limburg                          6.0   \n",
       "26571 2021-08-28  Zuid-Limburg                         -9.0   \n",
       "26572 2021-08-29  Zuid-Limburg                        -11.0   \n",
       "26573 2021-08-30  Zuid-Limburg                         25.0   \n",
       "26574 2021-08-31  Zuid-Limburg                         27.0   \n",
       "\n",
       "       grocery and pharmacy trips  park trips  transit station trips  \\\n",
       "321                           0.0        18.0                    6.0   \n",
       "322                         -10.0       -38.0                  -12.0   \n",
       "323                          -2.0        52.0                  -24.0   \n",
       "324                           0.0        45.0                  -21.0   \n",
       "325                          -4.0        49.0                  -19.0   \n",
       "...                           ...         ...                    ...   \n",
       "26570                        13.0       148.0                  -21.0   \n",
       "26571                         2.0       107.0                   -5.0   \n",
       "26572                         4.0        47.0                   -6.0   \n",
       "26573                        18.0       162.0                  -15.0   \n",
       "26574                        22.0       236.0                  -10.0   \n",
       "\n",
       "       work trips  residential trips  \n",
       "321           1.0                0.0  \n",
       "322          -2.0                1.0  \n",
       "323         -22.0                3.0  \n",
       "324         -22.0                3.0  \n",
       "325         -22.0                2.0  \n",
       "...           ...                ...  \n",
       "26570       -37.0                5.0  \n",
       "26571         4.0                1.0  \n",
       "26572        11.0                1.0  \n",
       "26573       -34.0                5.0  \n",
       "26574       -33.0                5.0  \n",
       "\n",
       "[6878 rows x 8 columns]"
      ]
     },
     "execution_count": 4,
     "metadata": {},
     "output_type": "execute_result"
    }
   ],
   "source": [
    "# import the files for the mobility data\n",
    "file_path_mobility_2020 = r'C:\\Users\\Govert\\OneDrive - Delft University of Technology\\Studie\\Master jaar 2\\Kwartiel 1\\TIL6010 - TIL programming\\til6010-assignments\\Final assignment\\2020_NL_Region_Mobility_report.csv'\n",
    "file_path_mobility_2021 = r'C:\\Users\\Govert\\OneDrive - Delft University of Technology\\Studie\\Master jaar 2\\Kwartiel 1\\TIL6010 - TIL programming\\til6010-assignments\\Final assignment\\2021_NL_Region_Mobility_report.csv'\n",
    "\n",
    "# open the files as dataframes\n",
    "df_mob_2020 = pd.read_csv(file_path_mobility_2020)\n",
    "df_mob_2021 = pd.read_csv(file_path_mobility_2021)\n",
    "\n",
    "# combine the mobility dataframes and only leave the provincial data and drop all the unnecessary columns and rename most of the columns\n",
    "df_mob_combined = pd.concat((df_mob_2020, df_mob_2021))\n",
    "df_mobility = df_mob_combined[(df_mob_combined['sub_region_1'].notna()) & (df_mob_combined['sub_region_2'].isna())]\n",
    "df_mobility = df_mobility.drop(columns = ['country_region_code', 'country_region', 'sub_region_2', 'metro_area', 'iso_3166_2_code', 'census_fips_code', 'place_id'])\n",
    "df_mobility.rename(columns =    {'sub_region_1': 'province', \n",
    "                                'retail_and_recreation_percent_change_from_baseline': 'retail and recreation trips', \n",
    "                                'grocery_and_pharmacy_percent_change_from_baseline': 'grocery and pharmacy trips', \n",
    "                                'parks_percent_change_from_baseline': 'park trips',\n",
    "                                'transit_stations_percent_change_from_baseline': 'transit station trips',\n",
    "                                'workplaces_percent_change_from_baseline': 'work trips',\n",
    "                                'residential_percent_change_from_baseline': 'residential trips'},inplace=True)\n",
    "\n",
    "# set the date and reformat the dataframes\n",
    "df_datetime_2 = pd.to_datetime(df_mobility['date'],format='%d/%m/%Y')\n",
    "df_mobility['date'] = df_datetime_2\n",
    "df_mobility = df_mobility.sort_values(by=['province','date'],ascending=[True,True])\n",
    "\n",
    "# Reorder the columns\n",
    "cols = list(df_mobility.columns.values)\n",
    "df_mobility = df_mobility[[cols[1]] + [cols[0]]+ cols[2:8]]\n",
    "df_mobility.head(-10)"
   ]
  },
  {
   "cell_type": "markdown",
   "metadata": {},
   "source": [
    "Here I do something similar as I did with the covid data, but a bit different:\n",
    "- I loop again over the provinces\n",
    "- But I drop the first twelve days to make sure the dataframe begins at the same data as the covid data\n",
    "- When I now resample, the dataframes are resampled to the same date. This is necessary for the merge I'm doing in the next code block\n",
    "- Then I again add the provinces to the final dataframe\n",
    "- The monthly dataframe is made again, for the end of the assignment"
   ]
  },
  {
   "cell_type": "code",
   "execution_count": 5,
   "metadata": {},
   "outputs": [
    {
     "data": {
      "text/html": [
       "<div>\n",
       "<style scoped>\n",
       "    .dataframe tbody tr th:only-of-type {\n",
       "        vertical-align: middle;\n",
       "    }\n",
       "\n",
       "    .dataframe tbody tr th {\n",
       "        vertical-align: top;\n",
       "    }\n",
       "\n",
       "    .dataframe thead th {\n",
       "        text-align: right;\n",
       "    }\n",
       "</style>\n",
       "<table border=\"1\" class=\"dataframe\">\n",
       "  <thead>\n",
       "    <tr style=\"text-align: right;\">\n",
       "      <th></th>\n",
       "      <th>index</th>\n",
       "      <th>date</th>\n",
       "      <th>province</th>\n",
       "      <th>retail and recreation trips</th>\n",
       "      <th>grocery and pharmacy trips</th>\n",
       "      <th>park trips</th>\n",
       "      <th>transit station trips</th>\n",
       "      <th>work trips</th>\n",
       "      <th>residential trips</th>\n",
       "    </tr>\n",
       "  </thead>\n",
       "  <tbody>\n",
       "    <tr>\n",
       "      <th>0</th>\n",
       "      <td>0</td>\n",
       "      <td>2020-02-27</td>\n",
       "      <td>Drenthe</td>\n",
       "      <td>3.142857</td>\n",
       "      <td>2.714286</td>\n",
       "      <td>14.000000</td>\n",
       "      <td>1.285714</td>\n",
       "      <td>3.142857</td>\n",
       "      <td>0.428571</td>\n",
       "    </tr>\n",
       "    <tr>\n",
       "      <th>1</th>\n",
       "      <td>1</td>\n",
       "      <td>2020-03-05</td>\n",
       "      <td>Drenthe</td>\n",
       "      <td>2.142857</td>\n",
       "      <td>1.857143</td>\n",
       "      <td>10.857143</td>\n",
       "      <td>-0.857143</td>\n",
       "      <td>2.571429</td>\n",
       "      <td>0.285714</td>\n",
       "    </tr>\n",
       "    <tr>\n",
       "      <th>2</th>\n",
       "      <td>2</td>\n",
       "      <td>2020-03-12</td>\n",
       "      <td>Drenthe</td>\n",
       "      <td>-15.714286</td>\n",
       "      <td>11.571429</td>\n",
       "      <td>17.428571</td>\n",
       "      <td>-31.714286</td>\n",
       "      <td>-17.285714</td>\n",
       "      <td>7.428571</td>\n",
       "    </tr>\n",
       "    <tr>\n",
       "      <th>3</th>\n",
       "      <td>3</td>\n",
       "      <td>2020-03-19</td>\n",
       "      <td>Drenthe</td>\n",
       "      <td>-39.000000</td>\n",
       "      <td>-9.714286</td>\n",
       "      <td>14.285714</td>\n",
       "      <td>-54.571429</td>\n",
       "      <td>-37.428571</td>\n",
       "      <td>13.571429</td>\n",
       "    </tr>\n",
       "    <tr>\n",
       "      <th>4</th>\n",
       "      <td>4</td>\n",
       "      <td>2020-03-26</td>\n",
       "      <td>Drenthe</td>\n",
       "      <td>-43.714286</td>\n",
       "      <td>-18.714286</td>\n",
       "      <td>5.285714</td>\n",
       "      <td>-59.285714</td>\n",
       "      <td>-40.571429</td>\n",
       "      <td>14.571429</td>\n",
       "    </tr>\n",
       "    <tr>\n",
       "      <th>...</th>\n",
       "      <td>...</td>\n",
       "      <td>...</td>\n",
       "      <td>...</td>\n",
       "      <td>...</td>\n",
       "      <td>...</td>\n",
       "      <td>...</td>\n",
       "      <td>...</td>\n",
       "      <td>...</td>\n",
       "      <td>...</td>\n",
       "    </tr>\n",
       "    <tr>\n",
       "      <th>957</th>\n",
       "      <td>66</td>\n",
       "      <td>2021-06-03</td>\n",
       "      <td>Zuid-Limburg</td>\n",
       "      <td>2.285714</td>\n",
       "      <td>17.285714</td>\n",
       "      <td>177.428571</td>\n",
       "      <td>-15.714286</td>\n",
       "      <td>-8.285714</td>\n",
       "      <td>4.428571</td>\n",
       "    </tr>\n",
       "    <tr>\n",
       "      <th>958</th>\n",
       "      <td>67</td>\n",
       "      <td>2021-06-10</td>\n",
       "      <td>Zuid-Limburg</td>\n",
       "      <td>4.714286</td>\n",
       "      <td>18.285714</td>\n",
       "      <td>203.714286</td>\n",
       "      <td>-11.571429</td>\n",
       "      <td>-7.142857</td>\n",
       "      <td>2.857143</td>\n",
       "    </tr>\n",
       "    <tr>\n",
       "      <th>959</th>\n",
       "      <td>68</td>\n",
       "      <td>2021-06-17</td>\n",
       "      <td>Zuid-Limburg</td>\n",
       "      <td>-0.857143</td>\n",
       "      <td>14.428571</td>\n",
       "      <td>160.285714</td>\n",
       "      <td>-17.428571</td>\n",
       "      <td>-7.857143</td>\n",
       "      <td>3.714286</td>\n",
       "    </tr>\n",
       "    <tr>\n",
       "      <th>960</th>\n",
       "      <td>69</td>\n",
       "      <td>2021-06-24</td>\n",
       "      <td>Zuid-Limburg</td>\n",
       "      <td>5.285714</td>\n",
       "      <td>14.285714</td>\n",
       "      <td>168.142857</td>\n",
       "      <td>-13.571429</td>\n",
       "      <td>-8.571429</td>\n",
       "      <td>2.857143</td>\n",
       "    </tr>\n",
       "    <tr>\n",
       "      <th>961</th>\n",
       "      <td>70</td>\n",
       "      <td>2021-07-01</td>\n",
       "      <td>Zuid-Limburg</td>\n",
       "      <td>8.571429</td>\n",
       "      <td>14.428571</td>\n",
       "      <td>166.285714</td>\n",
       "      <td>-12.000000</td>\n",
       "      <td>-8.571429</td>\n",
       "      <td>3.428571</td>\n",
       "    </tr>\n",
       "  </tbody>\n",
       "</table>\n",
       "<p>962 rows × 9 columns</p>\n",
       "</div>"
      ],
      "text/plain": [
       "     index       date      province  retail and recreation trips  \\\n",
       "0        0 2020-02-27       Drenthe                     3.142857   \n",
       "1        1 2020-03-05       Drenthe                     2.142857   \n",
       "2        2 2020-03-12       Drenthe                   -15.714286   \n",
       "3        3 2020-03-19       Drenthe                   -39.000000   \n",
       "4        4 2020-03-26       Drenthe                   -43.714286   \n",
       "..     ...        ...           ...                          ...   \n",
       "957     66 2021-06-03  Zuid-Limburg                     2.285714   \n",
       "958     67 2021-06-10  Zuid-Limburg                     4.714286   \n",
       "959     68 2021-06-17  Zuid-Limburg                    -0.857143   \n",
       "960     69 2021-06-24  Zuid-Limburg                     5.285714   \n",
       "961     70 2021-07-01  Zuid-Limburg                     8.571429   \n",
       "\n",
       "     grocery and pharmacy trips  park trips  transit station trips  \\\n",
       "0                      2.714286   14.000000               1.285714   \n",
       "1                      1.857143   10.857143              -0.857143   \n",
       "2                     11.571429   17.428571             -31.714286   \n",
       "3                     -9.714286   14.285714             -54.571429   \n",
       "4                    -18.714286    5.285714             -59.285714   \n",
       "..                          ...         ...                    ...   \n",
       "957                   17.285714  177.428571             -15.714286   \n",
       "958                   18.285714  203.714286             -11.571429   \n",
       "959                   14.428571  160.285714             -17.428571   \n",
       "960                   14.285714  168.142857             -13.571429   \n",
       "961                   14.428571  166.285714             -12.000000   \n",
       "\n",
       "     work trips  residential trips  \n",
       "0      3.142857           0.428571  \n",
       "1      2.571429           0.285714  \n",
       "2    -17.285714           7.428571  \n",
       "3    -37.428571          13.571429  \n",
       "4    -40.571429          14.571429  \n",
       "..          ...                ...  \n",
       "957   -8.285714           4.428571  \n",
       "958   -7.142857           2.857143  \n",
       "959   -7.857143           3.714286  \n",
       "960   -8.571429           2.857143  \n",
       "961   -8.571429           3.428571  \n",
       "\n",
       "[962 rows x 9 columns]"
      ]
     },
     "execution_count": 5,
     "metadata": {},
     "output_type": "execute_result"
    }
   ],
   "source": [
    "# Again I create an empty dataframe, this time with the columns of the mobility dataframe\n",
    "rows = []\n",
    "columns = []\n",
    "df_mobility_final = pd.DataFrame(rows, columns = df_mobility.columns.values.tolist())\n",
    "df_mobility_month_final = pd.DataFrame(rows, columns = df_mobility.columns.values.tolist())\n",
    "\n",
    "# Again a list of all unique provinces\n",
    "provinces = df_mobility['province'].unique()\n",
    "\n",
    "# Then I loop through the provinces again, but this time I also drop the rows at the beginning until the date the covid dataframe starts. This way the mobility data is resampled to the same days/weeks as the covid data\n",
    "for province in provinces:\n",
    "    df_province_2 = (df_mobility.loc[df_mobility['province'] == province])\n",
    "    df_province_2 = df_province_2.drop(df_province_2.index[0:12])\n",
    "    df_province_2_agg = (df_province_2.resample('7D',on='date').mean())\n",
    "    df_province_2_agg.reset_index(inplace=True)\n",
    "    df_province_2_agg['province'] = province\n",
    "    df_mobility_final = pd.concat((df_mobility_final, df_province_2_agg))\n",
    "\n",
    "# The monthly dataframe comes in handy later during the assignment\n",
    "    df_province_2_aggmonth = (df_province_2.resample('M',on='date').sum())\n",
    "    df_province_2_aggmonth.reset_index(inplace=True)\n",
    "    df_province_2_aggmonth['province'] = province\n",
    "    df_mobility_month_final = pd.concat((df_mobility_month_final,df_province_2_aggmonth))\n",
    "\n",
    "df_mobility_final.reset_index(inplace=True)\n",
    "df_mobility_month_final.reset_index(inplace=True)\n",
    "\n",
    "df_mobility_final.head(-10)"
   ]
  },
  {
   "cell_type": "markdown",
   "metadata": {},
   "source": [
    "Merging the dataframes then becomes relatively easily:\n",
    "- I mention which columns to take from both dataframes\n",
    "- I remove the old indices\n",
    "- The monthly dataframe is also merged"
   ]
  },
  {
   "cell_type": "code",
   "execution_count": 6,
   "metadata": {},
   "outputs": [
    {
     "data": {
      "text/html": [
       "<div>\n",
       "<style scoped>\n",
       "    .dataframe tbody tr th:only-of-type {\n",
       "        vertical-align: middle;\n",
       "    }\n",
       "\n",
       "    .dataframe tbody tr th {\n",
       "        vertical-align: top;\n",
       "    }\n",
       "\n",
       "    .dataframe thead th {\n",
       "        text-align: right;\n",
       "    }\n",
       "</style>\n",
       "<table border=\"1\" class=\"dataframe\">\n",
       "  <thead>\n",
       "    <tr style=\"text-align: right;\">\n",
       "      <th></th>\n",
       "      <th>date</th>\n",
       "      <th>province</th>\n",
       "      <th>number of casualties</th>\n",
       "      <th>number of hospitalized patients</th>\n",
       "      <th>number of cases</th>\n",
       "      <th>number of casualties_cum</th>\n",
       "      <th>number of hospitalized patients_cum</th>\n",
       "      <th>number of cases_cum</th>\n",
       "      <th>retail and recreation trips</th>\n",
       "      <th>grocery and pharmacy trips</th>\n",
       "      <th>park trips</th>\n",
       "      <th>transit station trips</th>\n",
       "      <th>work trips</th>\n",
       "      <th>residential trips</th>\n",
       "    </tr>\n",
       "  </thead>\n",
       "  <tbody>\n",
       "    <tr>\n",
       "      <th>0</th>\n",
       "      <td>2020-02-27</td>\n",
       "      <td>Drenthe</td>\n",
       "      <td>NaN</td>\n",
       "      <td>NaN</td>\n",
       "      <td>0.333333</td>\n",
       "      <td>NaN</td>\n",
       "      <td>NaN</td>\n",
       "      <td>0.857143</td>\n",
       "      <td>3.142857</td>\n",
       "      <td>2.714286</td>\n",
       "      <td>14.000000</td>\n",
       "      <td>1.285714</td>\n",
       "      <td>3.142857</td>\n",
       "      <td>0.428571</td>\n",
       "    </tr>\n",
       "    <tr>\n",
       "      <th>1</th>\n",
       "      <td>2020-03-05</td>\n",
       "      <td>Drenthe</td>\n",
       "      <td>NaN</td>\n",
       "      <td>NaN</td>\n",
       "      <td>1.428571</td>\n",
       "      <td>NaN</td>\n",
       "      <td>NaN</td>\n",
       "      <td>7.285714</td>\n",
       "      <td>2.142857</td>\n",
       "      <td>1.857143</td>\n",
       "      <td>10.857143</td>\n",
       "      <td>-0.857143</td>\n",
       "      <td>2.571429</td>\n",
       "      <td>0.285714</td>\n",
       "    </tr>\n",
       "    <tr>\n",
       "      <th>2</th>\n",
       "      <td>2020-03-12</td>\n",
       "      <td>Drenthe</td>\n",
       "      <td>0.000000</td>\n",
       "      <td>0.200000</td>\n",
       "      <td>1.428571</td>\n",
       "      <td>0.000000</td>\n",
       "      <td>0.500000</td>\n",
       "      <td>15.857143</td>\n",
       "      <td>-15.714286</td>\n",
       "      <td>11.571429</td>\n",
       "      <td>17.428571</td>\n",
       "      <td>-31.714286</td>\n",
       "      <td>-17.285714</td>\n",
       "      <td>7.428571</td>\n",
       "    </tr>\n",
       "    <tr>\n",
       "      <th>3</th>\n",
       "      <td>2020-03-19</td>\n",
       "      <td>Drenthe</td>\n",
       "      <td>0.285714</td>\n",
       "      <td>1.857143</td>\n",
       "      <td>5.428571</td>\n",
       "      <td>1.428571</td>\n",
       "      <td>6.285714</td>\n",
       "      <td>43.714286</td>\n",
       "      <td>-39.000000</td>\n",
       "      <td>-9.714286</td>\n",
       "      <td>14.285714</td>\n",
       "      <td>-54.571429</td>\n",
       "      <td>-37.428571</td>\n",
       "      <td>13.571429</td>\n",
       "    </tr>\n",
       "    <tr>\n",
       "      <th>4</th>\n",
       "      <td>2020-03-26</td>\n",
       "      <td>Drenthe</td>\n",
       "      <td>0.428571</td>\n",
       "      <td>4.142857</td>\n",
       "      <td>11.714286</td>\n",
       "      <td>3.285714</td>\n",
       "      <td>28.285714</td>\n",
       "      <td>105.714286</td>\n",
       "      <td>-43.714286</td>\n",
       "      <td>-18.714286</td>\n",
       "      <td>5.285714</td>\n",
       "      <td>-59.285714</td>\n",
       "      <td>-40.571429</td>\n",
       "      <td>14.571429</td>\n",
       "    </tr>\n",
       "    <tr>\n",
       "      <th>...</th>\n",
       "      <td>...</td>\n",
       "      <td>...</td>\n",
       "      <td>...</td>\n",
       "      <td>...</td>\n",
       "      <td>...</td>\n",
       "      <td>...</td>\n",
       "      <td>...</td>\n",
       "      <td>...</td>\n",
       "      <td>...</td>\n",
       "      <td>...</td>\n",
       "      <td>...</td>\n",
       "      <td>...</td>\n",
       "      <td>...</td>\n",
       "      <td>...</td>\n",
       "    </tr>\n",
       "    <tr>\n",
       "      <th>705</th>\n",
       "      <td>2021-01-07</td>\n",
       "      <td>Zuid-Limburg</td>\n",
       "      <td>8.285714</td>\n",
       "      <td>6.857143</td>\n",
       "      <td>607.142857</td>\n",
       "      <td>1146.142857</td>\n",
       "      <td>2013.857143</td>\n",
       "      <td>53463.142857</td>\n",
       "      <td>-60.714286</td>\n",
       "      <td>-12.571429</td>\n",
       "      <td>-6.000000</td>\n",
       "      <td>-49.000000</td>\n",
       "      <td>-25.285714</td>\n",
       "      <td>12.142857</td>\n",
       "    </tr>\n",
       "    <tr>\n",
       "      <th>706</th>\n",
       "      <td>2021-01-14</td>\n",
       "      <td>Zuid-Limburg</td>\n",
       "      <td>8.000000</td>\n",
       "      <td>5.857143</td>\n",
       "      <td>518.000000</td>\n",
       "      <td>1205.142857</td>\n",
       "      <td>2063.000000</td>\n",
       "      <td>57374.714286</td>\n",
       "      <td>-61.857143</td>\n",
       "      <td>-15.285714</td>\n",
       "      <td>-9.571429</td>\n",
       "      <td>-50.142857</td>\n",
       "      <td>-27.000000</td>\n",
       "      <td>11.571429</td>\n",
       "    </tr>\n",
       "    <tr>\n",
       "      <th>707</th>\n",
       "      <td>2021-01-21</td>\n",
       "      <td>Zuid-Limburg</td>\n",
       "      <td>6.285714</td>\n",
       "      <td>4.571429</td>\n",
       "      <td>428.714286</td>\n",
       "      <td>1254.571429</td>\n",
       "      <td>2098.714286</td>\n",
       "      <td>60704.142857</td>\n",
       "      <td>-60.714286</td>\n",
       "      <td>-12.571429</td>\n",
       "      <td>3.714286</td>\n",
       "      <td>-48.285714</td>\n",
       "      <td>-26.571429</td>\n",
       "      <td>12.000000</td>\n",
       "    </tr>\n",
       "    <tr>\n",
       "      <th>708</th>\n",
       "      <td>2021-01-28</td>\n",
       "      <td>Zuid-Limburg</td>\n",
       "      <td>5.428571</td>\n",
       "      <td>4.428571</td>\n",
       "      <td>365.428571</td>\n",
       "      <td>1294.714286</td>\n",
       "      <td>2127.714286</td>\n",
       "      <td>63372.714286</td>\n",
       "      <td>-60.714286</td>\n",
       "      <td>-12.857143</td>\n",
       "      <td>-10.714286</td>\n",
       "      <td>-50.000000</td>\n",
       "      <td>-25.571429</td>\n",
       "      <td>12.142857</td>\n",
       "    </tr>\n",
       "    <tr>\n",
       "      <th>709</th>\n",
       "      <td>2021-02-04</td>\n",
       "      <td>Zuid-Limburg</td>\n",
       "      <td>5.142857</td>\n",
       "      <td>4.000000</td>\n",
       "      <td>293.857143</td>\n",
       "      <td>1328.571429</td>\n",
       "      <td>2159.571429</td>\n",
       "      <td>65731.000000</td>\n",
       "      <td>-61.571429</td>\n",
       "      <td>-12.285714</td>\n",
       "      <td>-2.857143</td>\n",
       "      <td>-52.571429</td>\n",
       "      <td>-28.571429</td>\n",
       "      <td>12.571429</td>\n",
       "    </tr>\n",
       "  </tbody>\n",
       "</table>\n",
       "<p>710 rows × 14 columns</p>\n",
       "</div>"
      ],
      "text/plain": [
       "          date      province  number of casualties  \\\n",
       "0   2020-02-27       Drenthe                   NaN   \n",
       "1   2020-03-05       Drenthe                   NaN   \n",
       "2   2020-03-12       Drenthe              0.000000   \n",
       "3   2020-03-19       Drenthe              0.285714   \n",
       "4   2020-03-26       Drenthe              0.428571   \n",
       "..         ...           ...                   ...   \n",
       "705 2021-01-07  Zuid-Limburg              8.285714   \n",
       "706 2021-01-14  Zuid-Limburg              8.000000   \n",
       "707 2021-01-21  Zuid-Limburg              6.285714   \n",
       "708 2021-01-28  Zuid-Limburg              5.428571   \n",
       "709 2021-02-04  Zuid-Limburg              5.142857   \n",
       "\n",
       "     number of hospitalized patients  number of cases  \\\n",
       "0                                NaN         0.333333   \n",
       "1                                NaN         1.428571   \n",
       "2                           0.200000         1.428571   \n",
       "3                           1.857143         5.428571   \n",
       "4                           4.142857        11.714286   \n",
       "..                               ...              ...   \n",
       "705                         6.857143       607.142857   \n",
       "706                         5.857143       518.000000   \n",
       "707                         4.571429       428.714286   \n",
       "708                         4.428571       365.428571   \n",
       "709                         4.000000       293.857143   \n",
       "\n",
       "     number of casualties_cum  number of hospitalized patients_cum  \\\n",
       "0                         NaN                                  NaN   \n",
       "1                         NaN                                  NaN   \n",
       "2                    0.000000                             0.500000   \n",
       "3                    1.428571                             6.285714   \n",
       "4                    3.285714                            28.285714   \n",
       "..                        ...                                  ...   \n",
       "705               1146.142857                          2013.857143   \n",
       "706               1205.142857                          2063.000000   \n",
       "707               1254.571429                          2098.714286   \n",
       "708               1294.714286                          2127.714286   \n",
       "709               1328.571429                          2159.571429   \n",
       "\n",
       "     number of cases_cum  retail and recreation trips  \\\n",
       "0               0.857143                     3.142857   \n",
       "1               7.285714                     2.142857   \n",
       "2              15.857143                   -15.714286   \n",
       "3              43.714286                   -39.000000   \n",
       "4             105.714286                   -43.714286   \n",
       "..                   ...                          ...   \n",
       "705         53463.142857                   -60.714286   \n",
       "706         57374.714286                   -61.857143   \n",
       "707         60704.142857                   -60.714286   \n",
       "708         63372.714286                   -60.714286   \n",
       "709         65731.000000                   -61.571429   \n",
       "\n",
       "     grocery and pharmacy trips  park trips  transit station trips  \\\n",
       "0                      2.714286   14.000000               1.285714   \n",
       "1                      1.857143   10.857143              -0.857143   \n",
       "2                     11.571429   17.428571             -31.714286   \n",
       "3                     -9.714286   14.285714             -54.571429   \n",
       "4                    -18.714286    5.285714             -59.285714   \n",
       "..                          ...         ...                    ...   \n",
       "705                  -12.571429   -6.000000             -49.000000   \n",
       "706                  -15.285714   -9.571429             -50.142857   \n",
       "707                  -12.571429    3.714286             -48.285714   \n",
       "708                  -12.857143  -10.714286             -50.000000   \n",
       "709                  -12.285714   -2.857143             -52.571429   \n",
       "\n",
       "     work trips  residential trips  \n",
       "0      3.142857           0.428571  \n",
       "1      2.571429           0.285714  \n",
       "2    -17.285714           7.428571  \n",
       "3    -37.428571          13.571429  \n",
       "4    -40.571429          14.571429  \n",
       "..          ...                ...  \n",
       "705  -25.285714          12.142857  \n",
       "706  -27.000000          11.571429  \n",
       "707  -26.571429          12.000000  \n",
       "708  -25.571429          12.142857  \n",
       "709  -28.571429          12.571429  \n",
       "\n",
       "[710 rows x 14 columns]"
      ]
     },
     "execution_count": 6,
     "metadata": {},
     "output_type": "execute_result"
    }
   ],
   "source": [
    "# then I merge the covid and the mobility dataframes and drop the columns with the old indices\n",
    "df_full = df_covid_final.merge(df_mobility_final, how='inner', left_on=['date','province'], right_on=['date','province'])\n",
    "df_full = df_full.drop(columns=['index_x','index_y'])\n",
    "\n",
    "# The monthly dataframe is also merged the same way\n",
    "df_full_month = df_covid_month_final.merge(df_mobility_month_final,how='inner', left_on=['date','province'], right_on=['date','province'])\n",
    "df_full_month = df_full_month.drop(columns=['index_x','index_y'])\n",
    "\n",
    "df_full.head(-10)"
   ]
  },
  {
   "cell_type": "markdown",
   "metadata": {
    "heading_collapsed": true,
    "hidden": true
   },
   "source": [
    "## Part II - Data processing"
   ]
  },
  {
   "cell_type": "markdown",
   "metadata": {},
   "source": [
    "In the second part, I'm going to find common peaks for two kinds of trips and for two types of covid data. All for the province of Noord-Brabant.\n",
    "- First, I would use my old find-my-peaks algorithm to define how to find the peaks and the valleys.\n",
    "- Then, I would plot graphs of the peaks and valleys like in one of the previous assignments.\n",
    "\n",
    "The peaks_dict is necessary to create a list of the peaks to plot. I will also include the dates_dict containing the dates of the peaks and valleys. \n",
    "I do this because I eventually want to be able to compare dates and not numbers. \n",
    "\n",
    "When I have the plots, I'm going to use code to look for common peaks and valleys as well. Just reading them from the graphs is too simple of course :)\n",
    "- A margin is needed to also report peaks that differ 1 or 2 weeks, to be able to e.g. see the effect of higher covid deaths on number of trips\n",
    "- This margin can easily be adapted by changing the weeks variables\n",
    "- This margin is then turned into a range from 1 to that number of weeks\n",
    "- I loop over the peaks of both the activity variables (trips or covid data)\n",
    "- I loop over all the number in the margin range (so if weeks=3, I loop over 1, 2, and 3)\n",
    "- In the loop, it is checked whether the two peaks are on the same date, or if peak A equals peak B if you add or distract the week number\n",
    "- If one of those is the case, peak A is added to one of three lists: precise, before or after. These show whether peak B is either in the same week, in the margin before or in the margin after that week\n",
    "- Then I print those dictionary lists in nicely formulated sentences that also change if the margin is adapted.\n",
    "\n",
    "Additional information is also given in the comments in the code."
   ]
  },
  {
   "cell_type": "code",
   "execution_count": 7,
   "metadata": {},
   "outputs": [],
   "source": [
    "# In this block, all the variables can be adjusted. The defaults can be seen below. \n",
    "# The weeks variables are the margins for the common peak finding. \n",
    "activity_1 = 'work trips'\n",
    "activity_2 = 'grocery and pharmacy trips'\n",
    "activities_1 = [activity_1, activity_2]\n",
    "weeks_1 = 1\n",
    "\n",
    "activity_3 = 'number of hospitalized patients'\n",
    "activity_4 = 'number of casualties'\n",
    "activities_2 = [activity_3, activity_4]\n",
    "weeks_2 = 1\n",
    "\n",
    "province_1 = 'Noord-Brabant'\n",
    "\n",
    "weeks_3 = 1"
   ]
  },
  {
   "cell_type": "code",
   "execution_count": 8,
   "metadata": {},
   "outputs": [],
   "source": [
    "# first, I'm going to use my find_peaks function from assignment 2 to give the peaks in a list for each province for a specific activity\n",
    "def my_find_peaks(data, activity, **kwargs):\n",
    "\n",
    "    diff_1 = data[activity].diff(periods = -1)\n",
    "    diff_2 = data[activity].diff(periods = 1)\n",
    "    \n",
    "    peaks = []\n",
    "    for i in range(len(diff_1)):\n",
    "        if diff_1[i] > 0 and diff_2[i] > 0:\n",
    "            peaks.append(int(i))          \n",
    "            \n",
    "    return peaks\n",
    "\n",
    "# And do the same for the valleys\n",
    "def my_find_valleys(data, activity, **kwargs):\n",
    "\n",
    "    diff_1 = data[activity].diff(periods = -1)\n",
    "    diff_2 = data[activity].diff(periods = 1)\n",
    "\n",
    "    valleys = []\n",
    "    for i in range(len(diff_1)):\n",
    "        if diff_1[i] < 0 and diff_2[i] < 0:\n",
    "            valleys.append(int(i))          \n",
    "            \n",
    "    return valleys"
   ]
  },
  {
   "cell_type": "code",
   "execution_count": 9,
   "metadata": {},
   "outputs": [
    {
     "data": {
      "application/vnd.plotly.v1+json": {
       "config": {
        "plotlyServerURL": "https://plot.ly"
       },
       "data": [
        {
         "name": "work trips",
         "type": "scatter",
         "x": [
          "2020-02-27T00:00:00",
          "2020-03-05T00:00:00",
          "2020-03-12T00:00:00",
          "2020-03-19T00:00:00",
          "2020-03-26T00:00:00",
          "2020-04-02T00:00:00",
          "2020-04-09T00:00:00",
          "2020-04-16T00:00:00",
          "2020-04-23T00:00:00",
          "2020-04-30T00:00:00",
          "2020-05-07T00:00:00",
          "2020-05-14T00:00:00",
          "2020-05-21T00:00:00",
          "2020-05-28T00:00:00",
          "2020-06-04T00:00:00",
          "2020-06-11T00:00:00",
          "2020-06-18T00:00:00",
          "2020-06-25T00:00:00",
          "2020-07-02T00:00:00",
          "2020-07-09T00:00:00",
          "2020-07-16T00:00:00",
          "2020-07-23T00:00:00",
          "2020-07-30T00:00:00",
          "2020-08-06T00:00:00",
          "2020-08-13T00:00:00",
          "2020-08-20T00:00:00",
          "2020-08-27T00:00:00",
          "2020-09-03T00:00:00",
          "2020-09-10T00:00:00",
          "2020-09-17T00:00:00",
          "2020-09-24T00:00:00",
          "2020-10-01T00:00:00",
          "2020-10-08T00:00:00",
          "2020-10-15T00:00:00",
          "2020-10-22T00:00:00",
          "2020-10-29T00:00:00",
          "2020-11-05T00:00:00",
          "2020-11-12T00:00:00",
          "2020-11-19T00:00:00",
          "2020-11-26T00:00:00",
          "2020-12-03T00:00:00",
          "2020-12-10T00:00:00",
          "2020-12-17T00:00:00",
          "2020-12-24T00:00:00",
          "2020-12-31T00:00:00",
          "2021-01-07T00:00:00",
          "2021-01-14T00:00:00",
          "2021-01-21T00:00:00",
          "2021-01-28T00:00:00",
          "2021-02-04T00:00:00",
          "2021-02-11T00:00:00",
          "2021-02-18T00:00:00",
          "2021-02-25T00:00:00",
          "2021-03-04T00:00:00",
          "2021-03-11T00:00:00",
          "2021-03-18T00:00:00",
          "2021-03-25T00:00:00",
          "2021-04-01T00:00:00",
          "2021-04-08T00:00:00",
          "2021-04-15T00:00:00"
         ],
         "y": [
          -6,
          -3.5714285714285716,
          -25.571428571428573,
          -41,
          -43.57142857142857,
          -41.285714285714285,
          -45.42857142857143,
          -37.142857142857146,
          -41.142857142857146,
          -37.857142857142854,
          -26.285714285714285,
          -24.571428571428573,
          -33.714285714285715,
          -26.285714285714285,
          -18.428571428571427,
          -17,
          -15.571428571428571,
          -17.571428571428573,
          -18,
          -20.857142857142858,
          -26.285714285714285,
          -31.428571428571427,
          -35.857142857142854,
          -37.285714285714285,
          -30.857142857142858,
          -23.571428571428573,
          -19.428571428571427,
          -20.285714285714285,
          -17.857142857142858,
          -16.142857142857142,
          -15,
          -18,
          -17.428571428571427,
          -27.571428571428573,
          -24.857142857142858,
          -19.428571428571427,
          -20,
          -19.285714285714285,
          -17.714285714285715,
          -16.285714285714285,
          -16.142857142857142,
          -18.857142857142858,
          -33.285714285714285,
          -55.142857142857146,
          -41.857142857142854,
          -27,
          -28,
          -27.857142857142858,
          -27.142857142857142,
          -33,
          -30.714285714285715,
          -25.571428571428573,
          -21.285714285714285,
          -20.571428571428573,
          -20.428571428571427,
          -19,
          -19.285714285714285,
          -28.714285714285715,
          -18.857142857142858,
          -17.714285714285715
         ]
        },
        {
         "mode": "markers",
         "name": "peaks work trips",
         "type": "scatter",
         "x": [
          "2020-03-05T00:00:00",
          "2020-04-02T00:00:00",
          "2020-04-16T00:00:00",
          "2020-05-14T00:00:00",
          "2020-06-18T00:00:00",
          "2020-08-27T00:00:00",
          "2020-09-24T00:00:00",
          "2020-10-08T00:00:00",
          "2020-10-29T00:00:00",
          "2020-12-03T00:00:00",
          "2021-01-07T00:00:00",
          "2021-01-28T00:00:00",
          "2021-03-18T00:00:00"
         ],
         "y": [
          -3.5714285714285716,
          -41.285714285714285,
          -37.142857142857146,
          -24.571428571428573,
          -15.571428571428571,
          -19.428571428571427,
          -15,
          -17.428571428571427,
          -19.428571428571427,
          -16.142857142857142,
          -27,
          -27.142857142857142,
          -19
         ]
        },
        {
         "mode": "markers",
         "name": "valleys work trips",
         "type": "scatter",
         "x": [
          "2020-03-26T00:00:00",
          "2020-04-09T00:00:00",
          "2020-04-23T00:00:00",
          "2020-05-21T00:00:00",
          "2020-08-06T00:00:00",
          "2020-09-03T00:00:00",
          "2020-10-01T00:00:00",
          "2020-10-15T00:00:00",
          "2020-11-05T00:00:00",
          "2020-12-24T00:00:00",
          "2021-01-14T00:00:00",
          "2021-02-04T00:00:00",
          "2021-04-01T00:00:00"
         ],
         "y": [
          -43.57142857142857,
          -45.42857142857143,
          -41.142857142857146,
          -33.714285714285715,
          -37.285714285714285,
          -20.285714285714285,
          -18,
          -27.571428571428573,
          -20,
          -55.142857142857146,
          -28,
          -33,
          -28.714285714285715
         ]
        },
        {
         "name": "grocery and pharmacy trips",
         "type": "scatter",
         "x": [
          "2020-02-27T00:00:00",
          "2020-03-05T00:00:00",
          "2020-03-12T00:00:00",
          "2020-03-19T00:00:00",
          "2020-03-26T00:00:00",
          "2020-04-02T00:00:00",
          "2020-04-09T00:00:00",
          "2020-04-16T00:00:00",
          "2020-04-23T00:00:00",
          "2020-04-30T00:00:00",
          "2020-05-07T00:00:00",
          "2020-05-14T00:00:00",
          "2020-05-21T00:00:00",
          "2020-05-28T00:00:00",
          "2020-06-04T00:00:00",
          "2020-06-11T00:00:00",
          "2020-06-18T00:00:00",
          "2020-06-25T00:00:00",
          "2020-07-02T00:00:00",
          "2020-07-09T00:00:00",
          "2020-07-16T00:00:00",
          "2020-07-23T00:00:00",
          "2020-07-30T00:00:00",
          "2020-08-06T00:00:00",
          "2020-08-13T00:00:00",
          "2020-08-20T00:00:00",
          "2020-08-27T00:00:00",
          "2020-09-03T00:00:00",
          "2020-09-10T00:00:00",
          "2020-09-17T00:00:00",
          "2020-09-24T00:00:00",
          "2020-10-01T00:00:00",
          "2020-10-08T00:00:00",
          "2020-10-15T00:00:00",
          "2020-10-22T00:00:00",
          "2020-10-29T00:00:00",
          "2020-11-05T00:00:00",
          "2020-11-12T00:00:00",
          "2020-11-19T00:00:00",
          "2020-11-26T00:00:00",
          "2020-12-03T00:00:00",
          "2020-12-10T00:00:00",
          "2020-12-17T00:00:00",
          "2020-12-24T00:00:00",
          "2020-12-31T00:00:00",
          "2021-01-07T00:00:00",
          "2021-01-14T00:00:00",
          "2021-01-21T00:00:00",
          "2021-01-28T00:00:00",
          "2021-02-04T00:00:00",
          "2021-02-11T00:00:00",
          "2021-02-18T00:00:00",
          "2021-02-25T00:00:00",
          "2021-03-04T00:00:00",
          "2021-03-11T00:00:00",
          "2021-03-18T00:00:00",
          "2021-03-25T00:00:00",
          "2021-04-01T00:00:00",
          "2021-04-08T00:00:00",
          "2021-04-15T00:00:00"
         ],
         "y": [
          1,
          2.142857142857143,
          8.428571428571429,
          -8.857142857142858,
          -17.142857142857142,
          -12.285714285714286,
          -16.285714285714285,
          -10.285714285714286,
          -6,
          -7.285714285714286,
          -2.7142857142857144,
          0.14285714285714285,
          -2.7142857142857144,
          -0.14285714285714285,
          -2,
          -1.5714285714285714,
          2,
          -0.2857142857142857,
          -0.42857142857142855,
          -2,
          -2.7142857142857144,
          -4.285714285714286,
          -5.714285714285714,
          -8,
          -6.571428571428571,
          -2.857142857142857,
          -3.857142857142857,
          -5.857142857142857,
          -4.714285714285714,
          -5.285714285714286,
          -3,
          -5,
          -5.285714285714286,
          -5,
          -3.5714285714285716,
          -5.285714285714286,
          -3.857142857142857,
          -3.7142857142857144,
          -2,
          -1.5714285714285714,
          -4,
          -1.7142857142857142,
          3.857142857142857,
          -17.428571428571427,
          -16.714285714285715,
          -10,
          -13.142857142857142,
          -10.571428571428571,
          -12,
          -11.428571428571429,
          -5.857142857142857,
          -1.1428571428571428,
          0,
          -0.5714285714285714,
          -1.7142857142857142,
          1.1428571428571428,
          2.7142857142857144,
          -4.285714285714286,
          1.8571428571428572,
          4.714285714285714
         ]
        },
        {
         "mode": "markers",
         "name": "peaks grocery and pharmacy trips",
         "type": "scatter",
         "x": [
          "2020-03-12T00:00:00",
          "2020-04-02T00:00:00",
          "2020-04-23T00:00:00",
          "2020-05-14T00:00:00",
          "2020-05-28T00:00:00",
          "2020-06-18T00:00:00",
          "2020-08-20T00:00:00",
          "2020-09-10T00:00:00",
          "2020-09-24T00:00:00",
          "2020-10-22T00:00:00",
          "2020-11-26T00:00:00",
          "2020-12-17T00:00:00",
          "2021-01-07T00:00:00",
          "2021-01-21T00:00:00",
          "2021-02-25T00:00:00",
          "2021-03-25T00:00:00"
         ],
         "y": [
          8.428571428571429,
          -12.285714285714286,
          -6,
          0.14285714285714285,
          -0.14285714285714285,
          2,
          -2.857142857142857,
          -4.714285714285714,
          -3,
          -3.5714285714285716,
          -1.5714285714285714,
          3.857142857142857,
          -10,
          -10.571428571428571,
          0,
          2.7142857142857144
         ]
        },
        {
         "mode": "markers",
         "name": "valleys grocery and pharmacy trips",
         "type": "scatter",
         "x": [
          "2020-03-26T00:00:00",
          "2020-04-09T00:00:00",
          "2020-04-30T00:00:00",
          "2020-05-21T00:00:00",
          "2020-06-04T00:00:00",
          "2020-08-06T00:00:00",
          "2020-09-03T00:00:00",
          "2020-09-17T00:00:00",
          "2020-10-08T00:00:00",
          "2020-10-29T00:00:00",
          "2020-12-03T00:00:00",
          "2020-12-24T00:00:00",
          "2021-01-14T00:00:00",
          "2021-01-28T00:00:00",
          "2021-03-11T00:00:00",
          "2021-04-01T00:00:00"
         ],
         "y": [
          -17.142857142857142,
          -16.285714285714285,
          -7.285714285714286,
          -2.7142857142857144,
          -2,
          -8,
          -5.857142857142857,
          -5.285714285714286,
          -5.285714285714286,
          -5.285714285714286,
          -4,
          -17.428571428571427,
          -13.142857142857142,
          -12,
          -1.7142857142857142,
          -4.285714285714286
         ]
        }
       ],
       "layout": {
        "template": {
         "data": {
          "bar": [
           {
            "error_x": {
             "color": "#2a3f5f"
            },
            "error_y": {
             "color": "#2a3f5f"
            },
            "marker": {
             "line": {
              "color": "#E5ECF6",
              "width": 0.5
             },
             "pattern": {
              "fillmode": "overlay",
              "size": 10,
              "solidity": 0.2
             }
            },
            "type": "bar"
           }
          ],
          "barpolar": [
           {
            "marker": {
             "line": {
              "color": "#E5ECF6",
              "width": 0.5
             },
             "pattern": {
              "fillmode": "overlay",
              "size": 10,
              "solidity": 0.2
             }
            },
            "type": "barpolar"
           }
          ],
          "carpet": [
           {
            "aaxis": {
             "endlinecolor": "#2a3f5f",
             "gridcolor": "white",
             "linecolor": "white",
             "minorgridcolor": "white",
             "startlinecolor": "#2a3f5f"
            },
            "baxis": {
             "endlinecolor": "#2a3f5f",
             "gridcolor": "white",
             "linecolor": "white",
             "minorgridcolor": "white",
             "startlinecolor": "#2a3f5f"
            },
            "type": "carpet"
           }
          ],
          "choropleth": [
           {
            "colorbar": {
             "outlinewidth": 0,
             "ticks": ""
            },
            "type": "choropleth"
           }
          ],
          "contour": [
           {
            "colorbar": {
             "outlinewidth": 0,
             "ticks": ""
            },
            "colorscale": [
             [
              0,
              "#0d0887"
             ],
             [
              0.1111111111111111,
              "#46039f"
             ],
             [
              0.2222222222222222,
              "#7201a8"
             ],
             [
              0.3333333333333333,
              "#9c179e"
             ],
             [
              0.4444444444444444,
              "#bd3786"
             ],
             [
              0.5555555555555556,
              "#d8576b"
             ],
             [
              0.6666666666666666,
              "#ed7953"
             ],
             [
              0.7777777777777778,
              "#fb9f3a"
             ],
             [
              0.8888888888888888,
              "#fdca26"
             ],
             [
              1,
              "#f0f921"
             ]
            ],
            "type": "contour"
           }
          ],
          "contourcarpet": [
           {
            "colorbar": {
             "outlinewidth": 0,
             "ticks": ""
            },
            "type": "contourcarpet"
           }
          ],
          "heatmap": [
           {
            "colorbar": {
             "outlinewidth": 0,
             "ticks": ""
            },
            "colorscale": [
             [
              0,
              "#0d0887"
             ],
             [
              0.1111111111111111,
              "#46039f"
             ],
             [
              0.2222222222222222,
              "#7201a8"
             ],
             [
              0.3333333333333333,
              "#9c179e"
             ],
             [
              0.4444444444444444,
              "#bd3786"
             ],
             [
              0.5555555555555556,
              "#d8576b"
             ],
             [
              0.6666666666666666,
              "#ed7953"
             ],
             [
              0.7777777777777778,
              "#fb9f3a"
             ],
             [
              0.8888888888888888,
              "#fdca26"
             ],
             [
              1,
              "#f0f921"
             ]
            ],
            "type": "heatmap"
           }
          ],
          "heatmapgl": [
           {
            "colorbar": {
             "outlinewidth": 0,
             "ticks": ""
            },
            "colorscale": [
             [
              0,
              "#0d0887"
             ],
             [
              0.1111111111111111,
              "#46039f"
             ],
             [
              0.2222222222222222,
              "#7201a8"
             ],
             [
              0.3333333333333333,
              "#9c179e"
             ],
             [
              0.4444444444444444,
              "#bd3786"
             ],
             [
              0.5555555555555556,
              "#d8576b"
             ],
             [
              0.6666666666666666,
              "#ed7953"
             ],
             [
              0.7777777777777778,
              "#fb9f3a"
             ],
             [
              0.8888888888888888,
              "#fdca26"
             ],
             [
              1,
              "#f0f921"
             ]
            ],
            "type": "heatmapgl"
           }
          ],
          "histogram": [
           {
            "marker": {
             "pattern": {
              "fillmode": "overlay",
              "size": 10,
              "solidity": 0.2
             }
            },
            "type": "histogram"
           }
          ],
          "histogram2d": [
           {
            "colorbar": {
             "outlinewidth": 0,
             "ticks": ""
            },
            "colorscale": [
             [
              0,
              "#0d0887"
             ],
             [
              0.1111111111111111,
              "#46039f"
             ],
             [
              0.2222222222222222,
              "#7201a8"
             ],
             [
              0.3333333333333333,
              "#9c179e"
             ],
             [
              0.4444444444444444,
              "#bd3786"
             ],
             [
              0.5555555555555556,
              "#d8576b"
             ],
             [
              0.6666666666666666,
              "#ed7953"
             ],
             [
              0.7777777777777778,
              "#fb9f3a"
             ],
             [
              0.8888888888888888,
              "#fdca26"
             ],
             [
              1,
              "#f0f921"
             ]
            ],
            "type": "histogram2d"
           }
          ],
          "histogram2dcontour": [
           {
            "colorbar": {
             "outlinewidth": 0,
             "ticks": ""
            },
            "colorscale": [
             [
              0,
              "#0d0887"
             ],
             [
              0.1111111111111111,
              "#46039f"
             ],
             [
              0.2222222222222222,
              "#7201a8"
             ],
             [
              0.3333333333333333,
              "#9c179e"
             ],
             [
              0.4444444444444444,
              "#bd3786"
             ],
             [
              0.5555555555555556,
              "#d8576b"
             ],
             [
              0.6666666666666666,
              "#ed7953"
             ],
             [
              0.7777777777777778,
              "#fb9f3a"
             ],
             [
              0.8888888888888888,
              "#fdca26"
             ],
             [
              1,
              "#f0f921"
             ]
            ],
            "type": "histogram2dcontour"
           }
          ],
          "mesh3d": [
           {
            "colorbar": {
             "outlinewidth": 0,
             "ticks": ""
            },
            "type": "mesh3d"
           }
          ],
          "parcoords": [
           {
            "line": {
             "colorbar": {
              "outlinewidth": 0,
              "ticks": ""
             }
            },
            "type": "parcoords"
           }
          ],
          "pie": [
           {
            "automargin": true,
            "type": "pie"
           }
          ],
          "scatter": [
           {
            "marker": {
             "colorbar": {
              "outlinewidth": 0,
              "ticks": ""
             }
            },
            "type": "scatter"
           }
          ],
          "scatter3d": [
           {
            "line": {
             "colorbar": {
              "outlinewidth": 0,
              "ticks": ""
             }
            },
            "marker": {
             "colorbar": {
              "outlinewidth": 0,
              "ticks": ""
             }
            },
            "type": "scatter3d"
           }
          ],
          "scattercarpet": [
           {
            "marker": {
             "colorbar": {
              "outlinewidth": 0,
              "ticks": ""
             }
            },
            "type": "scattercarpet"
           }
          ],
          "scattergeo": [
           {
            "marker": {
             "colorbar": {
              "outlinewidth": 0,
              "ticks": ""
             }
            },
            "type": "scattergeo"
           }
          ],
          "scattergl": [
           {
            "marker": {
             "colorbar": {
              "outlinewidth": 0,
              "ticks": ""
             }
            },
            "type": "scattergl"
           }
          ],
          "scattermapbox": [
           {
            "marker": {
             "colorbar": {
              "outlinewidth": 0,
              "ticks": ""
             }
            },
            "type": "scattermapbox"
           }
          ],
          "scatterpolar": [
           {
            "marker": {
             "colorbar": {
              "outlinewidth": 0,
              "ticks": ""
             }
            },
            "type": "scatterpolar"
           }
          ],
          "scatterpolargl": [
           {
            "marker": {
             "colorbar": {
              "outlinewidth": 0,
              "ticks": ""
             }
            },
            "type": "scatterpolargl"
           }
          ],
          "scatterternary": [
           {
            "marker": {
             "colorbar": {
              "outlinewidth": 0,
              "ticks": ""
             }
            },
            "type": "scatterternary"
           }
          ],
          "surface": [
           {
            "colorbar": {
             "outlinewidth": 0,
             "ticks": ""
            },
            "colorscale": [
             [
              0,
              "#0d0887"
             ],
             [
              0.1111111111111111,
              "#46039f"
             ],
             [
              0.2222222222222222,
              "#7201a8"
             ],
             [
              0.3333333333333333,
              "#9c179e"
             ],
             [
              0.4444444444444444,
              "#bd3786"
             ],
             [
              0.5555555555555556,
              "#d8576b"
             ],
             [
              0.6666666666666666,
              "#ed7953"
             ],
             [
              0.7777777777777778,
              "#fb9f3a"
             ],
             [
              0.8888888888888888,
              "#fdca26"
             ],
             [
              1,
              "#f0f921"
             ]
            ],
            "type": "surface"
           }
          ],
          "table": [
           {
            "cells": {
             "fill": {
              "color": "#EBF0F8"
             },
             "line": {
              "color": "white"
             }
            },
            "header": {
             "fill": {
              "color": "#C8D4E3"
             },
             "line": {
              "color": "white"
             }
            },
            "type": "table"
           }
          ]
         },
         "layout": {
          "annotationdefaults": {
           "arrowcolor": "#2a3f5f",
           "arrowhead": 0,
           "arrowwidth": 1
          },
          "autotypenumbers": "strict",
          "coloraxis": {
           "colorbar": {
            "outlinewidth": 0,
            "ticks": ""
           }
          },
          "colorscale": {
           "diverging": [
            [
             0,
             "#8e0152"
            ],
            [
             0.1,
             "#c51b7d"
            ],
            [
             0.2,
             "#de77ae"
            ],
            [
             0.3,
             "#f1b6da"
            ],
            [
             0.4,
             "#fde0ef"
            ],
            [
             0.5,
             "#f7f7f7"
            ],
            [
             0.6,
             "#e6f5d0"
            ],
            [
             0.7,
             "#b8e186"
            ],
            [
             0.8,
             "#7fbc41"
            ],
            [
             0.9,
             "#4d9221"
            ],
            [
             1,
             "#276419"
            ]
           ],
           "sequential": [
            [
             0,
             "#0d0887"
            ],
            [
             0.1111111111111111,
             "#46039f"
            ],
            [
             0.2222222222222222,
             "#7201a8"
            ],
            [
             0.3333333333333333,
             "#9c179e"
            ],
            [
             0.4444444444444444,
             "#bd3786"
            ],
            [
             0.5555555555555556,
             "#d8576b"
            ],
            [
             0.6666666666666666,
             "#ed7953"
            ],
            [
             0.7777777777777778,
             "#fb9f3a"
            ],
            [
             0.8888888888888888,
             "#fdca26"
            ],
            [
             1,
             "#f0f921"
            ]
           ],
           "sequentialminus": [
            [
             0,
             "#0d0887"
            ],
            [
             0.1111111111111111,
             "#46039f"
            ],
            [
             0.2222222222222222,
             "#7201a8"
            ],
            [
             0.3333333333333333,
             "#9c179e"
            ],
            [
             0.4444444444444444,
             "#bd3786"
            ],
            [
             0.5555555555555556,
             "#d8576b"
            ],
            [
             0.6666666666666666,
             "#ed7953"
            ],
            [
             0.7777777777777778,
             "#fb9f3a"
            ],
            [
             0.8888888888888888,
             "#fdca26"
            ],
            [
             1,
             "#f0f921"
            ]
           ]
          },
          "colorway": [
           "#636efa",
           "#EF553B",
           "#00cc96",
           "#ab63fa",
           "#FFA15A",
           "#19d3f3",
           "#FF6692",
           "#B6E880",
           "#FF97FF",
           "#FECB52"
          ],
          "font": {
           "color": "#2a3f5f"
          },
          "geo": {
           "bgcolor": "white",
           "lakecolor": "white",
           "landcolor": "#E5ECF6",
           "showlakes": true,
           "showland": true,
           "subunitcolor": "white"
          },
          "hoverlabel": {
           "align": "left"
          },
          "hovermode": "closest",
          "mapbox": {
           "style": "light"
          },
          "paper_bgcolor": "white",
          "plot_bgcolor": "#E5ECF6",
          "polar": {
           "angularaxis": {
            "gridcolor": "white",
            "linecolor": "white",
            "ticks": ""
           },
           "bgcolor": "#E5ECF6",
           "radialaxis": {
            "gridcolor": "white",
            "linecolor": "white",
            "ticks": ""
           }
          },
          "scene": {
           "xaxis": {
            "backgroundcolor": "#E5ECF6",
            "gridcolor": "white",
            "gridwidth": 2,
            "linecolor": "white",
            "showbackground": true,
            "ticks": "",
            "zerolinecolor": "white"
           },
           "yaxis": {
            "backgroundcolor": "#E5ECF6",
            "gridcolor": "white",
            "gridwidth": 2,
            "linecolor": "white",
            "showbackground": true,
            "ticks": "",
            "zerolinecolor": "white"
           },
           "zaxis": {
            "backgroundcolor": "#E5ECF6",
            "gridcolor": "white",
            "gridwidth": 2,
            "linecolor": "white",
            "showbackground": true,
            "ticks": "",
            "zerolinecolor": "white"
           }
          },
          "shapedefaults": {
           "line": {
            "color": "#2a3f5f"
           }
          },
          "ternary": {
           "aaxis": {
            "gridcolor": "white",
            "linecolor": "white",
            "ticks": ""
           },
           "baxis": {
            "gridcolor": "white",
            "linecolor": "white",
            "ticks": ""
           },
           "bgcolor": "#E5ECF6",
           "caxis": {
            "gridcolor": "white",
            "linecolor": "white",
            "ticks": ""
           }
          },
          "title": {
           "x": 0.05
          },
          "xaxis": {
           "automargin": true,
           "gridcolor": "white",
           "linecolor": "white",
           "ticks": "",
           "title": {
            "standoff": 15
           },
           "zerolinecolor": "white",
           "zerolinewidth": 2
          },
          "yaxis": {
           "automargin": true,
           "gridcolor": "white",
           "linecolor": "white",
           "ticks": "",
           "title": {
            "standoff": 15
           },
           "zerolinecolor": "white",
           "zerolinewidth": 2
          }
         }
        },
        "title": {
         "text": "work trips and grocery and pharmacy trips during covid times in Noord-Brabant"
        }
       }
      }
     },
     "metadata": {},
     "output_type": "display_data"
    }
   ],
   "source": [
    "# Then I start the fig_1ure and create several dictionaries that are necessary. The peaks and valleys dictionaries are for the graphs and the date dictionaries are for the next steps\n",
    "fig_1 = go.Figure()\n",
    "peaks_dict_1 = {}\n",
    "valleys_dict_1 = {}\n",
    "peaks_date_dict_1 = {}\n",
    "valleys_date_dict_1 = {}\n",
    "\n",
    "# I create a dataframe that contains only the data for the selected province and reset the indices for it\n",
    "df_full_province_1 = (df_full.loc[df_full['province'] == province_1])\n",
    "df_full_province_1.reset_index(inplace=True)\n",
    "\n",
    "# I find the peaks and valleys and add them to the dictionaries\n",
    "for activity in activities_1:\n",
    "    max_ind = my_find_peaks(df_full_province_1, activity)\n",
    "    peaks_dict_1[activity]=max_ind\n",
    "\n",
    "    min_ind = my_find_valleys(df_full_province_1,activity)\n",
    "    valleys_dict_1[activity]=min_ind\n",
    "    \n",
    "    # Then I turn them into dataframes to be able to use the dates for the graphs, and for the date dictionaries\n",
    "    df_max_1 = df_full_province_1.iloc[max_ind]\n",
    "    df_min_1 = df_full_province_1.iloc[min_ind]\n",
    "\n",
    "    # The date dictionaries are filled with the dates of the peaks and the valleys\n",
    "    peaks_date_dict_1[activity] = df_max_1['date']\n",
    "    valleys_date_dict_1[activity] = df_min_1['date']\n",
    "    \n",
    "    # The graphs are formatted\n",
    "    x1 = df_full_province_1['date']\n",
    "    y1 = df_full_province_1[activity]\n",
    "    x2 = df_max_1['date']\n",
    "    y2 = df_max_1[activity]\n",
    "    x3 = df_min_1['date']\n",
    "    y3 = df_min_1[activity]\n",
    "    fig_1.add_trace(go.Scatter(x=x1,y=y1,name=activity))\n",
    "    fig_1.add_trace(go.Scatter(x=x2,y=y2,mode='markers',name='peaks ' + activity))\n",
    "    fig_1.add_trace(go.Scatter(x=x3,y=y3,mode='markers',name='valleys ' + activity))\n",
    "\n",
    "fig_1.update_layout(title= activity_1 + ' and ' + activity_2 + ' during covid times in ' + province_1)\n",
    "fig_1.show()"
   ]
  },
  {
   "cell_type": "code",
   "execution_count": 10,
   "metadata": {},
   "outputs": [
    {
     "name": "stdout",
     "output_type": "stream",
     "text": [
      "Peaks for work trips for which grocery and pharmacy trips has a peak in the same week in Noord-Brabant : ['2020-04-02', '2020-05-14', '2020-06-18', '2020-09-24', '2021-01-07']\n",
      "Peaks for work trips for which grocery and pharmacy trips has a peak within 1 week(s) prior in Noord-Brabant : ['2020-08-27', '2020-10-29', '2020-12-03', '2021-01-28']\n",
      "Peaks for work trips for which grocery and pharmacy trips has a peak within 1 week(s) after in Noord-Brabant : ['2020-03-05', '2020-04-16', '2021-03-18']\n"
     ]
    }
   ],
   "source": [
    "# Now I'm going to compare the two date dictionaries and see if there are any common peaks\n",
    "# The margin can be adapted by changing the number for the weeks_1 variable. The default is set to a margin of 1 week\n",
    "margin_1 = list(range(1,weeks_1+1))\n",
    "\n",
    "# A dictionary is made with the three lists for common peaks in the same week, peak B one week after peak A or peak B one week before peak A\n",
    "common_peaks_1 = {}\n",
    "common_peaks_1['in same week'] = []\n",
    "common_peaks_1['in margin_1 after'] = []\n",
    "common_peaks_1['in margin_1 before'] = []\n",
    "\n",
    "# Then all the peaks are for-looped to add them to the right lists\n",
    "for date1 in peaks_date_dict_1[activity_1]:\n",
    "    for date2 in peaks_date_dict_1[activity_2]:\n",
    "        for number in margin_1:\n",
    "            if date1.date() == date2.date():\n",
    "                common_peaks_1['in same week'].append(str(date1.date()))\n",
    "            if date1.date() + datetime.timedelta(weeks=number) == date2.date():\n",
    "                common_peaks_1['in margin_1 after'].append(str(date1.date()))\n",
    "            if date1.date() - datetime.timedelta(weeks=number) == date2.date():\n",
    "                common_peaks_1['in margin_1 before'].append(str(date1.date()))\n",
    "\n",
    "# And then they are printed\n",
    "print('Peaks for', activity_1, 'for which', activity_2, 'has a peak in the same week in', province_1, ':', common_peaks_1['in same week'])\n",
    "print('Peaks for', activity_1, 'for which', activity_2, 'has a peak within', weeks_1, 'week(s) prior in', province_1, ':', common_peaks_1['in margin_1 before'])\n",
    "print('Peaks for', activity_1, 'for which', activity_2, 'has a peak within', weeks_1, 'week(s) after in', province_1, ':', common_peaks_1['in margin_1 after'])"
   ]
  },
  {
   "cell_type": "code",
   "execution_count": 11,
   "metadata": {},
   "outputs": [
    {
     "name": "stdout",
     "output_type": "stream",
     "text": [
      "Valleys for work trips for which grocery and pharmacy trips has a valley in the same week in Noord-Brabant : ['2020-03-26', '2020-04-09', '2020-05-21', '2020-08-06', '2020-09-03', '2020-12-24', '2021-01-14', '2021-04-01']\n",
      "Valleys for work trips for which grocery and pharmacy trips has a valley within 1 week(s) prior in Noord-Brabant : ['2020-10-15', '2020-11-05', '2021-02-04']\n",
      "Valleys for work trips for which grocery and pharmacy trips has a valley within 1 week(s) after in Noord-Brabant : ['2020-04-23', '2020-10-01']\n"
     ]
    }
   ],
   "source": [
    "# Then I do the same for the valleys\n",
    "common_valleys_1 = {}\n",
    "common_valleys_1['in same week'] = []\n",
    "common_valleys_1['in margin_1 after'] = []\n",
    "common_valleys_1['in margin_1 before'] = []\n",
    "\n",
    "for date1 in valleys_date_dict_1[activity_1]:\n",
    "    for date2 in valleys_date_dict_1[activity_2]:\n",
    "        for number in margin_1:\n",
    "            if date1.date() == date2.date():\n",
    "                common_valleys_1['in same week'].append(str(date1.date()))\n",
    "            if date1.date() + datetime.timedelta(weeks=number) == date2.date():\n",
    "                common_valleys_1['in margin_1 after'].append(str(date1.date()))\n",
    "            if date1.date() - datetime.timedelta(weeks=number) == date2.date():\n",
    "                common_valleys_1['in margin_1 before'].append(str(date1.date()))\n",
    "\n",
    "print('Valleys for', activity_1, 'for which', activity_2, 'has a valley in the same week in', province_1, ':', common_valleys_1['in same week'])\n",
    "print('Valleys for', activity_1, 'for which', activity_2, 'has a valley within', weeks_1, 'week(s) prior in', province_1, ':', common_valleys_1['in margin_1 before'])\n",
    "print('Valleys for', activity_1, 'for which', activity_2, 'has a valley within', weeks_1, 'week(s) after in', province_1, ':', common_valleys_1['in margin_1 after'])"
   ]
  },
  {
   "cell_type": "code",
   "execution_count": 12,
   "metadata": {},
   "outputs": [
    {
     "data": {
      "application/vnd.plotly.v1+json": {
       "config": {
        "plotlyServerURL": "https://plot.ly"
       },
       "data": [
        {
         "name": "number of hospitalized patients",
         "type": "scatter",
         "x": [
          "2020-02-27T00:00:00",
          "2020-03-05T00:00:00",
          "2020-03-12T00:00:00",
          "2020-03-19T00:00:00",
          "2020-03-26T00:00:00",
          "2020-04-02T00:00:00",
          "2020-04-09T00:00:00",
          "2020-04-16T00:00:00",
          "2020-04-23T00:00:00",
          "2020-04-30T00:00:00",
          "2020-05-07T00:00:00",
          "2020-05-14T00:00:00",
          "2020-05-21T00:00:00",
          "2020-05-28T00:00:00",
          "2020-06-04T00:00:00",
          "2020-06-11T00:00:00",
          "2020-06-18T00:00:00",
          "2020-06-25T00:00:00",
          "2020-07-02T00:00:00",
          "2020-07-09T00:00:00",
          "2020-07-16T00:00:00",
          "2020-07-23T00:00:00",
          "2020-07-30T00:00:00",
          "2020-08-06T00:00:00",
          "2020-08-13T00:00:00",
          "2020-08-20T00:00:00",
          "2020-08-27T00:00:00",
          "2020-09-03T00:00:00",
          "2020-09-10T00:00:00",
          "2020-09-17T00:00:00",
          "2020-09-24T00:00:00",
          "2020-10-01T00:00:00",
          "2020-10-08T00:00:00",
          "2020-10-15T00:00:00",
          "2020-10-22T00:00:00",
          "2020-10-29T00:00:00",
          "2020-11-05T00:00:00",
          "2020-11-12T00:00:00",
          "2020-11-19T00:00:00",
          "2020-11-26T00:00:00",
          "2020-12-03T00:00:00",
          "2020-12-10T00:00:00",
          "2020-12-17T00:00:00",
          "2020-12-24T00:00:00",
          "2020-12-31T00:00:00",
          "2021-01-07T00:00:00",
          "2021-01-14T00:00:00",
          "2021-01-21T00:00:00",
          "2021-01-28T00:00:00",
          "2021-02-04T00:00:00",
          "2021-02-11T00:00:00",
          "2021-02-18T00:00:00",
          "2021-02-25T00:00:00",
          "2021-03-04T00:00:00",
          "2021-03-11T00:00:00",
          "2021-03-18T00:00:00",
          "2021-03-25T00:00:00",
          "2021-04-01T00:00:00",
          "2021-04-08T00:00:00",
          "2021-04-15T00:00:00"
         ],
         "y": [
          null,
          null,
          18.6,
          42.142857142857146,
          143,
          63.857142857142854,
          41.142857142857146,
          18.714285714285715,
          26,
          15.714285714285714,
          14.571428571428571,
          3.142857142857143,
          0.5714285714285714,
          0.8571428571428571,
          0.5714285714285714,
          1.2857142857142858,
          0.14285714285714285,
          0.42857142857142855,
          0,
          -0.14285714285714285,
          0,
          0.5714285714285714,
          0.8571428571428571,
          0.2857142857142857,
          0.8571428571428571,
          0.7142857142857143,
          0.5714285714285714,
          0.42857142857142855,
          0.2857142857142857,
          1.2857142857142858,
          3.5714285714285716,
          3.857142857142857,
          6.285714285714286,
          11.285714285714286,
          14,
          15.857142857142858,
          9.142857142857142,
          12,
          11,
          9.714285714285714,
          10.428571428571429,
          12.285714285714286,
          13.142857142857142,
          10.285714285714286,
          10.571428571428571,
          12.571428571428571,
          7.857142857142857,
          8.428571428571429,
          7.857142857142857,
          7.142857142857143,
          6.428571428571429,
          7.571428571428571,
          6.285714285714286,
          5.285714285714286,
          6.428571428571429,
          7.333333333333333,
          7.714285714285714,
          6.428571428571429,
          8,
          7.333333333333333
         ]
        },
        {
         "mode": "markers",
         "name": "peaks number of hospitalized patients",
         "type": "scatter",
         "x": [
          "2020-03-26T00:00:00",
          "2020-04-23T00:00:00",
          "2020-05-28T00:00:00",
          "2020-06-11T00:00:00",
          "2020-06-25T00:00:00",
          "2020-07-30T00:00:00",
          "2020-08-13T00:00:00",
          "2020-10-29T00:00:00",
          "2020-11-12T00:00:00",
          "2020-12-17T00:00:00",
          "2021-01-07T00:00:00",
          "2021-01-21T00:00:00",
          "2021-02-18T00:00:00",
          "2021-03-25T00:00:00",
          "2021-04-08T00:00:00"
         ],
         "y": [
          143,
          26,
          0.8571428571428571,
          1.2857142857142858,
          0.42857142857142855,
          0.8571428571428571,
          0.8571428571428571,
          15.857142857142858,
          12,
          13.142857142857142,
          12.571428571428571,
          8.428571428571429,
          7.571428571428571,
          7.714285714285714,
          8
         ]
        },
        {
         "mode": "markers",
         "name": "valleys number of hospitalized patients",
         "type": "scatter",
         "x": [
          "2020-04-16T00:00:00",
          "2020-05-21T00:00:00",
          "2020-06-04T00:00:00",
          "2020-06-18T00:00:00",
          "2020-07-09T00:00:00",
          "2020-08-06T00:00:00",
          "2020-09-10T00:00:00",
          "2020-11-05T00:00:00",
          "2020-11-26T00:00:00",
          "2020-12-24T00:00:00",
          "2021-01-14T00:00:00",
          "2021-02-11T00:00:00",
          "2021-03-04T00:00:00",
          "2021-04-01T00:00:00"
         ],
         "y": [
          18.714285714285715,
          0.5714285714285714,
          0.5714285714285714,
          0.14285714285714285,
          -0.14285714285714285,
          0.2857142857142857,
          0.2857142857142857,
          9.142857142857142,
          9.714285714285714,
          10.285714285714286,
          7.857142857142857,
          6.428571428571429,
          5.285714285714286,
          6.428571428571429
         ]
        },
        {
         "name": "number of casualties",
         "type": "scatter",
         "x": [
          "2020-02-27T00:00:00",
          "2020-03-05T00:00:00",
          "2020-03-12T00:00:00",
          "2020-03-19T00:00:00",
          "2020-03-26T00:00:00",
          "2020-04-02T00:00:00",
          "2020-04-09T00:00:00",
          "2020-04-16T00:00:00",
          "2020-04-23T00:00:00",
          "2020-04-30T00:00:00",
          "2020-05-07T00:00:00",
          "2020-05-14T00:00:00",
          "2020-05-21T00:00:00",
          "2020-05-28T00:00:00",
          "2020-06-04T00:00:00",
          "2020-06-11T00:00:00",
          "2020-06-18T00:00:00",
          "2020-06-25T00:00:00",
          "2020-07-02T00:00:00",
          "2020-07-09T00:00:00",
          "2020-07-16T00:00:00",
          "2020-07-23T00:00:00",
          "2020-07-30T00:00:00",
          "2020-08-06T00:00:00",
          "2020-08-13T00:00:00",
          "2020-08-20T00:00:00",
          "2020-08-27T00:00:00",
          "2020-09-03T00:00:00",
          "2020-09-10T00:00:00",
          "2020-09-17T00:00:00",
          "2020-09-24T00:00:00",
          "2020-10-01T00:00:00",
          "2020-10-08T00:00:00",
          "2020-10-15T00:00:00",
          "2020-10-22T00:00:00",
          "2020-10-29T00:00:00",
          "2020-11-05T00:00:00",
          "2020-11-12T00:00:00",
          "2020-11-19T00:00:00",
          "2020-11-26T00:00:00",
          "2020-12-03T00:00:00",
          "2020-12-10T00:00:00",
          "2020-12-17T00:00:00",
          "2020-12-24T00:00:00",
          "2020-12-31T00:00:00",
          "2021-01-07T00:00:00",
          "2021-01-14T00:00:00",
          "2021-01-21T00:00:00",
          "2021-01-28T00:00:00",
          "2021-02-04T00:00:00",
          "2021-02-11T00:00:00",
          "2021-02-18T00:00:00",
          "2021-02-25T00:00:00",
          "2021-03-04T00:00:00",
          "2021-03-11T00:00:00",
          "2021-03-18T00:00:00",
          "2021-03-25T00:00:00",
          "2021-04-01T00:00:00",
          "2021-04-08T00:00:00",
          "2021-04-15T00:00:00"
         ],
         "y": [
          null,
          null,
          6.4,
          19.428571428571427,
          43.714285714285715,
          43,
          29,
          34,
          16,
          10.428571428571429,
          9,
          2.7142857142857144,
          1.4285714285714286,
          1.8571428571428572,
          1.2857142857142858,
          1,
          0.5714285714285714,
          0.5714285714285714,
          0.2857142857142857,
          -0.2857142857142857,
          0,
          0.14285714285714285,
          0.2857142857142857,
          0.5714285714285714,
          0.5714285714285714,
          0.14285714285714285,
          0.42857142857142855,
          0.14285714285714285,
          0,
          0.42857142857142855,
          1.2857142857142858,
          1.5714285714285714,
          2.7142857142857144,
          4.714285714285714,
          6.857142857142857,
          13.571428571428571,
          14.142857142857142,
          12.428571428571429,
          7.285714285714286,
          8,
          6.857142857142857,
          12.857142857142858,
          13.571428571428571,
          10.571428571428571,
          9.857142857142858,
          12.285714285714286,
          8.714285714285714,
          7.714285714285714,
          7.285714285714286,
          8.571428571428571,
          9.142857142857142,
          7.142857142857143,
          4.428571428571429,
          4.142857142857143,
          4.428571428571429,
          3.6666666666666665,
          3,
          2,
          3.4285714285714284,
          1.6666666666666667
         ]
        },
        {
         "mode": "markers",
         "name": "peaks number of casualties",
         "type": "scatter",
         "x": [
          "2020-03-26T00:00:00",
          "2020-04-16T00:00:00",
          "2020-05-28T00:00:00",
          "2020-08-27T00:00:00",
          "2020-11-05T00:00:00",
          "2020-11-26T00:00:00",
          "2020-12-17T00:00:00",
          "2021-01-07T00:00:00",
          "2021-02-11T00:00:00",
          "2021-03-11T00:00:00",
          "2021-04-08T00:00:00"
         ],
         "y": [
          43.714285714285715,
          34,
          1.8571428571428572,
          0.42857142857142855,
          14.142857142857142,
          8,
          13.571428571428571,
          12.285714285714286,
          9.142857142857142,
          4.428571428571429,
          3.4285714285714284
         ]
        },
        {
         "mode": "markers",
         "name": "valleys number of casualties",
         "type": "scatter",
         "x": [
          "2020-04-09T00:00:00",
          "2020-05-21T00:00:00",
          "2020-07-09T00:00:00",
          "2020-08-20T00:00:00",
          "2020-09-10T00:00:00",
          "2020-11-19T00:00:00",
          "2020-12-03T00:00:00",
          "2020-12-31T00:00:00",
          "2021-01-28T00:00:00",
          "2021-03-04T00:00:00",
          "2021-04-01T00:00:00"
         ],
         "y": [
          29,
          1.4285714285714286,
          -0.2857142857142857,
          0.14285714285714285,
          0,
          7.285714285714286,
          6.857142857142857,
          9.857142857142858,
          7.285714285714286,
          4.142857142857143,
          2
         ]
        }
       ],
       "layout": {
        "template": {
         "data": {
          "bar": [
           {
            "error_x": {
             "color": "#2a3f5f"
            },
            "error_y": {
             "color": "#2a3f5f"
            },
            "marker": {
             "line": {
              "color": "#E5ECF6",
              "width": 0.5
             },
             "pattern": {
              "fillmode": "overlay",
              "size": 10,
              "solidity": 0.2
             }
            },
            "type": "bar"
           }
          ],
          "barpolar": [
           {
            "marker": {
             "line": {
              "color": "#E5ECF6",
              "width": 0.5
             },
             "pattern": {
              "fillmode": "overlay",
              "size": 10,
              "solidity": 0.2
             }
            },
            "type": "barpolar"
           }
          ],
          "carpet": [
           {
            "aaxis": {
             "endlinecolor": "#2a3f5f",
             "gridcolor": "white",
             "linecolor": "white",
             "minorgridcolor": "white",
             "startlinecolor": "#2a3f5f"
            },
            "baxis": {
             "endlinecolor": "#2a3f5f",
             "gridcolor": "white",
             "linecolor": "white",
             "minorgridcolor": "white",
             "startlinecolor": "#2a3f5f"
            },
            "type": "carpet"
           }
          ],
          "choropleth": [
           {
            "colorbar": {
             "outlinewidth": 0,
             "ticks": ""
            },
            "type": "choropleth"
           }
          ],
          "contour": [
           {
            "colorbar": {
             "outlinewidth": 0,
             "ticks": ""
            },
            "colorscale": [
             [
              0,
              "#0d0887"
             ],
             [
              0.1111111111111111,
              "#46039f"
             ],
             [
              0.2222222222222222,
              "#7201a8"
             ],
             [
              0.3333333333333333,
              "#9c179e"
             ],
             [
              0.4444444444444444,
              "#bd3786"
             ],
             [
              0.5555555555555556,
              "#d8576b"
             ],
             [
              0.6666666666666666,
              "#ed7953"
             ],
             [
              0.7777777777777778,
              "#fb9f3a"
             ],
             [
              0.8888888888888888,
              "#fdca26"
             ],
             [
              1,
              "#f0f921"
             ]
            ],
            "type": "contour"
           }
          ],
          "contourcarpet": [
           {
            "colorbar": {
             "outlinewidth": 0,
             "ticks": ""
            },
            "type": "contourcarpet"
           }
          ],
          "heatmap": [
           {
            "colorbar": {
             "outlinewidth": 0,
             "ticks": ""
            },
            "colorscale": [
             [
              0,
              "#0d0887"
             ],
             [
              0.1111111111111111,
              "#46039f"
             ],
             [
              0.2222222222222222,
              "#7201a8"
             ],
             [
              0.3333333333333333,
              "#9c179e"
             ],
             [
              0.4444444444444444,
              "#bd3786"
             ],
             [
              0.5555555555555556,
              "#d8576b"
             ],
             [
              0.6666666666666666,
              "#ed7953"
             ],
             [
              0.7777777777777778,
              "#fb9f3a"
             ],
             [
              0.8888888888888888,
              "#fdca26"
             ],
             [
              1,
              "#f0f921"
             ]
            ],
            "type": "heatmap"
           }
          ],
          "heatmapgl": [
           {
            "colorbar": {
             "outlinewidth": 0,
             "ticks": ""
            },
            "colorscale": [
             [
              0,
              "#0d0887"
             ],
             [
              0.1111111111111111,
              "#46039f"
             ],
             [
              0.2222222222222222,
              "#7201a8"
             ],
             [
              0.3333333333333333,
              "#9c179e"
             ],
             [
              0.4444444444444444,
              "#bd3786"
             ],
             [
              0.5555555555555556,
              "#d8576b"
             ],
             [
              0.6666666666666666,
              "#ed7953"
             ],
             [
              0.7777777777777778,
              "#fb9f3a"
             ],
             [
              0.8888888888888888,
              "#fdca26"
             ],
             [
              1,
              "#f0f921"
             ]
            ],
            "type": "heatmapgl"
           }
          ],
          "histogram": [
           {
            "marker": {
             "pattern": {
              "fillmode": "overlay",
              "size": 10,
              "solidity": 0.2
             }
            },
            "type": "histogram"
           }
          ],
          "histogram2d": [
           {
            "colorbar": {
             "outlinewidth": 0,
             "ticks": ""
            },
            "colorscale": [
             [
              0,
              "#0d0887"
             ],
             [
              0.1111111111111111,
              "#46039f"
             ],
             [
              0.2222222222222222,
              "#7201a8"
             ],
             [
              0.3333333333333333,
              "#9c179e"
             ],
             [
              0.4444444444444444,
              "#bd3786"
             ],
             [
              0.5555555555555556,
              "#d8576b"
             ],
             [
              0.6666666666666666,
              "#ed7953"
             ],
             [
              0.7777777777777778,
              "#fb9f3a"
             ],
             [
              0.8888888888888888,
              "#fdca26"
             ],
             [
              1,
              "#f0f921"
             ]
            ],
            "type": "histogram2d"
           }
          ],
          "histogram2dcontour": [
           {
            "colorbar": {
             "outlinewidth": 0,
             "ticks": ""
            },
            "colorscale": [
             [
              0,
              "#0d0887"
             ],
             [
              0.1111111111111111,
              "#46039f"
             ],
             [
              0.2222222222222222,
              "#7201a8"
             ],
             [
              0.3333333333333333,
              "#9c179e"
             ],
             [
              0.4444444444444444,
              "#bd3786"
             ],
             [
              0.5555555555555556,
              "#d8576b"
             ],
             [
              0.6666666666666666,
              "#ed7953"
             ],
             [
              0.7777777777777778,
              "#fb9f3a"
             ],
             [
              0.8888888888888888,
              "#fdca26"
             ],
             [
              1,
              "#f0f921"
             ]
            ],
            "type": "histogram2dcontour"
           }
          ],
          "mesh3d": [
           {
            "colorbar": {
             "outlinewidth": 0,
             "ticks": ""
            },
            "type": "mesh3d"
           }
          ],
          "parcoords": [
           {
            "line": {
             "colorbar": {
              "outlinewidth": 0,
              "ticks": ""
             }
            },
            "type": "parcoords"
           }
          ],
          "pie": [
           {
            "automargin": true,
            "type": "pie"
           }
          ],
          "scatter": [
           {
            "marker": {
             "colorbar": {
              "outlinewidth": 0,
              "ticks": ""
             }
            },
            "type": "scatter"
           }
          ],
          "scatter3d": [
           {
            "line": {
             "colorbar": {
              "outlinewidth": 0,
              "ticks": ""
             }
            },
            "marker": {
             "colorbar": {
              "outlinewidth": 0,
              "ticks": ""
             }
            },
            "type": "scatter3d"
           }
          ],
          "scattercarpet": [
           {
            "marker": {
             "colorbar": {
              "outlinewidth": 0,
              "ticks": ""
             }
            },
            "type": "scattercarpet"
           }
          ],
          "scattergeo": [
           {
            "marker": {
             "colorbar": {
              "outlinewidth": 0,
              "ticks": ""
             }
            },
            "type": "scattergeo"
           }
          ],
          "scattergl": [
           {
            "marker": {
             "colorbar": {
              "outlinewidth": 0,
              "ticks": ""
             }
            },
            "type": "scattergl"
           }
          ],
          "scattermapbox": [
           {
            "marker": {
             "colorbar": {
              "outlinewidth": 0,
              "ticks": ""
             }
            },
            "type": "scattermapbox"
           }
          ],
          "scatterpolar": [
           {
            "marker": {
             "colorbar": {
              "outlinewidth": 0,
              "ticks": ""
             }
            },
            "type": "scatterpolar"
           }
          ],
          "scatterpolargl": [
           {
            "marker": {
             "colorbar": {
              "outlinewidth": 0,
              "ticks": ""
             }
            },
            "type": "scatterpolargl"
           }
          ],
          "scatterternary": [
           {
            "marker": {
             "colorbar": {
              "outlinewidth": 0,
              "ticks": ""
             }
            },
            "type": "scatterternary"
           }
          ],
          "surface": [
           {
            "colorbar": {
             "outlinewidth": 0,
             "ticks": ""
            },
            "colorscale": [
             [
              0,
              "#0d0887"
             ],
             [
              0.1111111111111111,
              "#46039f"
             ],
             [
              0.2222222222222222,
              "#7201a8"
             ],
             [
              0.3333333333333333,
              "#9c179e"
             ],
             [
              0.4444444444444444,
              "#bd3786"
             ],
             [
              0.5555555555555556,
              "#d8576b"
             ],
             [
              0.6666666666666666,
              "#ed7953"
             ],
             [
              0.7777777777777778,
              "#fb9f3a"
             ],
             [
              0.8888888888888888,
              "#fdca26"
             ],
             [
              1,
              "#f0f921"
             ]
            ],
            "type": "surface"
           }
          ],
          "table": [
           {
            "cells": {
             "fill": {
              "color": "#EBF0F8"
             },
             "line": {
              "color": "white"
             }
            },
            "header": {
             "fill": {
              "color": "#C8D4E3"
             },
             "line": {
              "color": "white"
             }
            },
            "type": "table"
           }
          ]
         },
         "layout": {
          "annotationdefaults": {
           "arrowcolor": "#2a3f5f",
           "arrowhead": 0,
           "arrowwidth": 1
          },
          "autotypenumbers": "strict",
          "coloraxis": {
           "colorbar": {
            "outlinewidth": 0,
            "ticks": ""
           }
          },
          "colorscale": {
           "diverging": [
            [
             0,
             "#8e0152"
            ],
            [
             0.1,
             "#c51b7d"
            ],
            [
             0.2,
             "#de77ae"
            ],
            [
             0.3,
             "#f1b6da"
            ],
            [
             0.4,
             "#fde0ef"
            ],
            [
             0.5,
             "#f7f7f7"
            ],
            [
             0.6,
             "#e6f5d0"
            ],
            [
             0.7,
             "#b8e186"
            ],
            [
             0.8,
             "#7fbc41"
            ],
            [
             0.9,
             "#4d9221"
            ],
            [
             1,
             "#276419"
            ]
           ],
           "sequential": [
            [
             0,
             "#0d0887"
            ],
            [
             0.1111111111111111,
             "#46039f"
            ],
            [
             0.2222222222222222,
             "#7201a8"
            ],
            [
             0.3333333333333333,
             "#9c179e"
            ],
            [
             0.4444444444444444,
             "#bd3786"
            ],
            [
             0.5555555555555556,
             "#d8576b"
            ],
            [
             0.6666666666666666,
             "#ed7953"
            ],
            [
             0.7777777777777778,
             "#fb9f3a"
            ],
            [
             0.8888888888888888,
             "#fdca26"
            ],
            [
             1,
             "#f0f921"
            ]
           ],
           "sequentialminus": [
            [
             0,
             "#0d0887"
            ],
            [
             0.1111111111111111,
             "#46039f"
            ],
            [
             0.2222222222222222,
             "#7201a8"
            ],
            [
             0.3333333333333333,
             "#9c179e"
            ],
            [
             0.4444444444444444,
             "#bd3786"
            ],
            [
             0.5555555555555556,
             "#d8576b"
            ],
            [
             0.6666666666666666,
             "#ed7953"
            ],
            [
             0.7777777777777778,
             "#fb9f3a"
            ],
            [
             0.8888888888888888,
             "#fdca26"
            ],
            [
             1,
             "#f0f921"
            ]
           ]
          },
          "colorway": [
           "#636efa",
           "#EF553B",
           "#00cc96",
           "#ab63fa",
           "#FFA15A",
           "#19d3f3",
           "#FF6692",
           "#B6E880",
           "#FF97FF",
           "#FECB52"
          ],
          "font": {
           "color": "#2a3f5f"
          },
          "geo": {
           "bgcolor": "white",
           "lakecolor": "white",
           "landcolor": "#E5ECF6",
           "showlakes": true,
           "showland": true,
           "subunitcolor": "white"
          },
          "hoverlabel": {
           "align": "left"
          },
          "hovermode": "closest",
          "mapbox": {
           "style": "light"
          },
          "paper_bgcolor": "white",
          "plot_bgcolor": "#E5ECF6",
          "polar": {
           "angularaxis": {
            "gridcolor": "white",
            "linecolor": "white",
            "ticks": ""
           },
           "bgcolor": "#E5ECF6",
           "radialaxis": {
            "gridcolor": "white",
            "linecolor": "white",
            "ticks": ""
           }
          },
          "scene": {
           "xaxis": {
            "backgroundcolor": "#E5ECF6",
            "gridcolor": "white",
            "gridwidth": 2,
            "linecolor": "white",
            "showbackground": true,
            "ticks": "",
            "zerolinecolor": "white"
           },
           "yaxis": {
            "backgroundcolor": "#E5ECF6",
            "gridcolor": "white",
            "gridwidth": 2,
            "linecolor": "white",
            "showbackground": true,
            "ticks": "",
            "zerolinecolor": "white"
           },
           "zaxis": {
            "backgroundcolor": "#E5ECF6",
            "gridcolor": "white",
            "gridwidth": 2,
            "linecolor": "white",
            "showbackground": true,
            "ticks": "",
            "zerolinecolor": "white"
           }
          },
          "shapedefaults": {
           "line": {
            "color": "#2a3f5f"
           }
          },
          "ternary": {
           "aaxis": {
            "gridcolor": "white",
            "linecolor": "white",
            "ticks": ""
           },
           "baxis": {
            "gridcolor": "white",
            "linecolor": "white",
            "ticks": ""
           },
           "bgcolor": "#E5ECF6",
           "caxis": {
            "gridcolor": "white",
            "linecolor": "white",
            "ticks": ""
           }
          },
          "title": {
           "x": 0.05
          },
          "xaxis": {
           "automargin": true,
           "gridcolor": "white",
           "linecolor": "white",
           "ticks": "",
           "title": {
            "standoff": 15
           },
           "zerolinecolor": "white",
           "zerolinewidth": 2
          },
          "yaxis": {
           "automargin": true,
           "gridcolor": "white",
           "linecolor": "white",
           "ticks": "",
           "title": {
            "standoff": 15
           },
           "zerolinecolor": "white",
           "zerolinewidth": 2
          }
         }
        },
        "title": {
         "text": "number of hospitalized patients and number of casualties because of covid in Noord-Brabant"
        }
       }
      }
     },
     "metadata": {},
     "output_type": "display_data"
    }
   ],
   "source": [
    "# And then the same is done for the covid data\n",
    "fig_2 = go.Figure()\n",
    "peaks_dict_2 = {}\n",
    "valleys_dict_2 = {}\n",
    "peaks_date_dict_2 = {}\n",
    "valleys_date_dict_2 = {}\n",
    "df_full_province_2 = (df_full.loc[df_full['province'] == province_1])\n",
    "df_full_province_2.reset_index(inplace=True)\n",
    "\n",
    "for activity in activities_2:\n",
    "    max_ind = my_find_peaks(df_full_province_2, activity)\n",
    "    peaks_dict_2[activity]=max_ind\n",
    "\n",
    "    min_ind = my_find_valleys(df_full_province_2,activity)\n",
    "    valleys_dict_2[activity]=min_ind\n",
    "    \n",
    "    df_max_2 = df_full_province_2.iloc[max_ind]\n",
    "    df_min_2 = df_full_province_2.iloc[min_ind]\n",
    "    peaks_date_dict_2[activity] = df_max_2['date']\n",
    "    valleys_date_dict_2[activity] = df_min_2['date']\n",
    "    \n",
    "    x1 = df_full_province_2['date']\n",
    "    y1 = df_full_province_2[activity]\n",
    "    x2 = df_max_2['date']\n",
    "    y2 = df_max_2[activity]\n",
    "    x3 = df_min_2['date']\n",
    "    y3 = df_min_2[activity]\n",
    "    fig_2.add_trace(go.Scatter(x=x1,y=y1,name=activity))\n",
    "    fig_2.add_trace(go.Scatter(x=x2,y=y2,mode='markers',name='peaks ' + activity))\n",
    "    fig_2.add_trace(go.Scatter(x=x3,y=y3,mode='markers',name='valleys ' + activity))\n",
    "\n",
    "fig_2.update_layout(title=activity_3 + ' and ' + activity_4 + ' because of covid in ' + province_1)\n",
    "fig_2.show()"
   ]
  },
  {
   "cell_type": "code",
   "execution_count": 13,
   "metadata": {},
   "outputs": [
    {
     "name": "stdout",
     "output_type": "stream",
     "text": [
      "Peaks for number of hospitalized patients for which number of casualties has a peak in the same week in Zuid-Limburg : ['2020-03-26', '2020-05-28', '2020-12-17', '2021-01-07', '2021-04-08']\n",
      "Peaks for number of hospitalized patients for which number of casualties has a peak within 1 week(s) prior in Zuid-Limburg : ['2020-04-23', '2020-11-12', '2021-02-18']\n",
      "Peaks for number of hospitalized patients for which number of casualties has a peak within 1 week(s) after in Zuid-Limburg : ['2020-10-29']\n"
     ]
    }
   ],
   "source": [
    "# Same as for mobility data\n",
    "margin_2 = list(range(1,weeks_2+1))\n",
    "\n",
    "common_peaks_2 = {}\n",
    "common_peaks_2['in same week'] = []\n",
    "common_peaks_2['in margin_2 after'] = []\n",
    "common_peaks_2['in margin_2 before'] = []\n",
    "\n",
    "for date3 in peaks_date_dict_2[activity_3]:\n",
    "    for date4 in peaks_date_dict_2[activity_4]:\n",
    "        for number in margin_2:\n",
    "            if date3.date() == date4.date():\n",
    "                common_peaks_2['in same week'].append(str(date3.date()))\n",
    "            if date3.date() + datetime.timedelta(weeks=number) == date4.date():\n",
    "                common_peaks_2['in margin_2 after'].append(str(date3.date()))\n",
    "            if date3.date() - datetime.timedelta(weeks=number) == date4.date():\n",
    "                common_peaks_2['in margin_2 before'].append(str(date3.date()))\n",
    "\n",
    "print('Peaks for', activity_3, 'for which', activity_4, 'has a peak in the same week in', province, ':', common_peaks_2['in same week'])\n",
    "print('Peaks for', activity_3, 'for which', activity_4, 'has a peak within', weeks_2, 'week(s) prior in', province, ':', common_peaks_2['in margin_2 before'])\n",
    "print('Peaks for', activity_3, 'for which', activity_4, 'has a peak within', weeks_2, 'week(s) after in', province, ':', common_peaks_2['in margin_2 after'])"
   ]
  },
  {
   "cell_type": "code",
   "execution_count": 14,
   "metadata": {},
   "outputs": [
    {
     "name": "stdout",
     "output_type": "stream",
     "text": [
      "Valleys for number of hospitalized patients for which number of casualties has a peak in the same week in Zuid-Limburg : ['2020-05-21', '2020-07-09', '2020-09-10', '2021-03-04', '2021-04-01']\n",
      "Valleys for number of hospitalized patients for which number of casualties has a peak within 1 week(s) prior in Zuid-Limburg : ['2020-04-16', '2020-11-26']\n",
      "Valleys for number of hospitalized patients for which number of casualties has a peak within 1 week(s) after in Zuid-Limburg : ['2020-11-26', '2020-12-24']\n"
     ]
    }
   ],
   "source": [
    "# Same as for mobility data\n",
    "common_valleys_2 = {}\n",
    "common_valleys_2['in same week'] = []\n",
    "common_valleys_2['in margin_2 after'] = []\n",
    "common_valleys_2['in margin_2 before'] = []\n",
    "\n",
    "for date3 in valleys_date_dict_2[activity_3]:\n",
    "    for date4 in valleys_date_dict_2[activity_4]:\n",
    "        for number in margin_2:\n",
    "            if date3.date() == date4.date():\n",
    "                common_valleys_2['in same week'].append(str(date3.date()))\n",
    "            if date3.date() + datetime.timedelta(weeks=number) == date4.date():\n",
    "                common_valleys_2['in margin_2 after'].append(str(date3.date()))\n",
    "            if date3.date() - datetime.timedelta(weeks=number) == date4.date():\n",
    "                common_valleys_2['in margin_2 before'].append(str(date3.date()))\n",
    "\n",
    "print('Valleys for', activity_3, 'for which', activity_4, 'has a peak in the same week in', province, ':', common_valleys_2['in same week'])\n",
    "print('Valleys for', activity_3, 'for which', activity_4, 'has a peak within', weeks_2, 'week(s) prior in', province, ':', common_valleys_2['in margin_2 before'])\n",
    "print('Valleys for', activity_3, 'for which', activity_4, 'has a peak within', weeks_2, 'week(s) after in', province, ':', common_valleys_2['in margin_2 after'])"
   ]
  },
  {
   "cell_type": "markdown",
   "metadata": {},
   "source": [
    "Now I'm going to compare the mobility and the covid data\n",
    "\n",
    "- As the units (percentages and absolute numbers) are very different, I don't first show a plot.\n",
    "- As people tend to move less with higher cases/hospitalizations/casualties, I want to see common peaks for covid with valleys for mobility.\n",
    "- Therefore, the only relationships that are printed are the common peaks and the peaks for the hospitalizations for which the trips had a valley after that peak. \n",
    "\n",
    "The logic is the same as for the previous questions. "
   ]
  },
  {
   "cell_type": "code",
   "execution_count": 15,
   "metadata": {},
   "outputs": [
    {
     "name": "stdout",
     "output_type": "stream",
     "text": [
      "Peaks in number of hospitalized patients for which grocery and pharmacy trips has a valley in the same week in Zuid-Limburg : ['2020-03-26', '2020-10-29']\n",
      "Peaks in number of hospitalized patients for which grocery and pharmacy trips has a valley within 1 week(s) after in Zuid-Limburg : ['2020-04-23', '2020-05-28', '2020-07-30', '2020-12-17', '2021-01-07', '2021-01-21', '2021-03-25']\n"
     ]
    }
   ],
   "source": [
    "# The same as for the previous questions, but now with peaks for covid and valleys for mobility\n",
    "margin_3 = list(range(1,weeks_3+1))\n",
    "\n",
    "common_peaks_3 = {}\n",
    "common_peaks_3['in same week'] = []\n",
    "common_peaks_3['in margin_2 after'] = []\n",
    "\n",
    "for date3 in peaks_date_dict_2[activity_3]:\n",
    "    for date2 in valleys_date_dict_1[activity_2]:\n",
    "        for number in margin_3:\n",
    "            if date3.date() == date2.date():\n",
    "                common_peaks_3['in same week'].append(str(date3.date()))\n",
    "            if date3.date() + datetime.timedelta(weeks=number) == date2.date():\n",
    "                common_peaks_3['in margin_2 after'].append(str(date3.date()))\n",
    "\n",
    "print('Peaks in', activity_3, 'for which', activity_2, 'has a valley in the same week in', province, ':', common_peaks_3['in same week'])\n",
    "print('Peaks in', activity_3, 'for which', activity_2, 'has a valley within', weeks_3, 'week(s) after in', province, ':', common_peaks_3['in margin_2 after'])"
   ]
  },
  {
   "cell_type": "markdown",
   "metadata": {},
   "source": [
    "As can be seen, there are quite some peaks in hospitalizations that are followed by peaks in trips. It could therefore be stated that the covid numbers actually affected transport behaviour in Noord Brabant."
   ]
  },
  {
   "cell_type": "markdown",
   "metadata": {},
   "source": [
    "Although I don't think it'll add much, I will show plots of the two activities below, also to verify the found results As mentioned, they are not in the same plot because of the different units."
   ]
  },
  {
   "cell_type": "code",
   "execution_count": 16,
   "metadata": {},
   "outputs": [
    {
     "data": {
      "application/vnd.plotly.v1+json": {
       "config": {
        "plotlyServerURL": "https://plot.ly"
       },
       "data": [
        {
         "name": "number of hospitalized patients",
         "type": "scatter",
         "x": [
          "2020-02-27T00:00:00",
          "2020-03-05T00:00:00",
          "2020-03-12T00:00:00",
          "2020-03-19T00:00:00",
          "2020-03-26T00:00:00",
          "2020-04-02T00:00:00",
          "2020-04-09T00:00:00",
          "2020-04-16T00:00:00",
          "2020-04-23T00:00:00",
          "2020-04-30T00:00:00",
          "2020-05-07T00:00:00",
          "2020-05-14T00:00:00",
          "2020-05-21T00:00:00",
          "2020-05-28T00:00:00",
          "2020-06-04T00:00:00",
          "2020-06-11T00:00:00",
          "2020-06-18T00:00:00",
          "2020-06-25T00:00:00",
          "2020-07-02T00:00:00",
          "2020-07-09T00:00:00",
          "2020-07-16T00:00:00",
          "2020-07-23T00:00:00",
          "2020-07-30T00:00:00",
          "2020-08-06T00:00:00",
          "2020-08-13T00:00:00",
          "2020-08-20T00:00:00",
          "2020-08-27T00:00:00",
          "2020-09-03T00:00:00",
          "2020-09-10T00:00:00",
          "2020-09-17T00:00:00",
          "2020-09-24T00:00:00",
          "2020-10-01T00:00:00",
          "2020-10-08T00:00:00",
          "2020-10-15T00:00:00",
          "2020-10-22T00:00:00",
          "2020-10-29T00:00:00",
          "2020-11-05T00:00:00",
          "2020-11-12T00:00:00",
          "2020-11-19T00:00:00",
          "2020-11-26T00:00:00",
          "2020-12-03T00:00:00",
          "2020-12-10T00:00:00",
          "2020-12-17T00:00:00",
          "2020-12-24T00:00:00",
          "2020-12-31T00:00:00",
          "2021-01-07T00:00:00",
          "2021-01-14T00:00:00",
          "2021-01-21T00:00:00",
          "2021-01-28T00:00:00",
          "2021-02-04T00:00:00",
          "2021-02-11T00:00:00",
          "2021-02-18T00:00:00",
          "2021-02-25T00:00:00",
          "2021-03-04T00:00:00",
          "2021-03-11T00:00:00",
          "2021-03-18T00:00:00",
          "2021-03-25T00:00:00",
          "2021-04-01T00:00:00",
          "2021-04-08T00:00:00",
          "2021-04-15T00:00:00"
         ],
         "xaxis": "x",
         "y": [
          null,
          null,
          18.6,
          42.142857142857146,
          143,
          63.857142857142854,
          41.142857142857146,
          18.714285714285715,
          26,
          15.714285714285714,
          14.571428571428571,
          3.142857142857143,
          0.5714285714285714,
          0.8571428571428571,
          0.5714285714285714,
          1.2857142857142858,
          0.14285714285714285,
          0.42857142857142855,
          0,
          -0.14285714285714285,
          0,
          0.5714285714285714,
          0.8571428571428571,
          0.2857142857142857,
          0.8571428571428571,
          0.7142857142857143,
          0.5714285714285714,
          0.42857142857142855,
          0.2857142857142857,
          1.2857142857142858,
          3.5714285714285716,
          3.857142857142857,
          6.285714285714286,
          11.285714285714286,
          14,
          15.857142857142858,
          9.142857142857142,
          12,
          11,
          9.714285714285714,
          10.428571428571429,
          12.285714285714286,
          13.142857142857142,
          10.285714285714286,
          10.571428571428571,
          12.571428571428571,
          7.857142857142857,
          8.428571428571429,
          7.857142857142857,
          7.142857142857143,
          6.428571428571429,
          7.571428571428571,
          6.285714285714286,
          5.285714285714286,
          6.428571428571429,
          7.333333333333333,
          7.714285714285714,
          6.428571428571429,
          8,
          7.333333333333333
         ],
         "yaxis": "y"
        },
        {
         "mode": "markers",
         "name": "peaks number of hospitalized patients",
         "type": "scatter",
         "x": [
          "2020-03-26T00:00:00",
          "2020-04-16T00:00:00",
          "2020-05-28T00:00:00",
          "2020-08-27T00:00:00",
          "2020-11-05T00:00:00",
          "2020-11-26T00:00:00",
          "2020-12-17T00:00:00",
          "2021-01-07T00:00:00",
          "2021-02-11T00:00:00",
          "2021-03-11T00:00:00",
          "2021-04-08T00:00:00"
         ],
         "xaxis": "x",
         "y": [
          143,
          18.714285714285715,
          0.8571428571428571,
          0.5714285714285714,
          9.142857142857142,
          9.714285714285714,
          13.142857142857142,
          12.571428571428571,
          6.428571428571429,
          6.428571428571429,
          8
         ],
         "yaxis": "y"
        },
        {
         "name": "grocery and pharmacy trips",
         "type": "scatter",
         "x": [
          "2020-02-27T00:00:00",
          "2020-03-05T00:00:00",
          "2020-03-12T00:00:00",
          "2020-03-19T00:00:00",
          "2020-03-26T00:00:00",
          "2020-04-02T00:00:00",
          "2020-04-09T00:00:00",
          "2020-04-16T00:00:00",
          "2020-04-23T00:00:00",
          "2020-04-30T00:00:00",
          "2020-05-07T00:00:00",
          "2020-05-14T00:00:00",
          "2020-05-21T00:00:00",
          "2020-05-28T00:00:00",
          "2020-06-04T00:00:00",
          "2020-06-11T00:00:00",
          "2020-06-18T00:00:00",
          "2020-06-25T00:00:00",
          "2020-07-02T00:00:00",
          "2020-07-09T00:00:00",
          "2020-07-16T00:00:00",
          "2020-07-23T00:00:00",
          "2020-07-30T00:00:00",
          "2020-08-06T00:00:00",
          "2020-08-13T00:00:00",
          "2020-08-20T00:00:00",
          "2020-08-27T00:00:00",
          "2020-09-03T00:00:00",
          "2020-09-10T00:00:00",
          "2020-09-17T00:00:00",
          "2020-09-24T00:00:00",
          "2020-10-01T00:00:00",
          "2020-10-08T00:00:00",
          "2020-10-15T00:00:00",
          "2020-10-22T00:00:00",
          "2020-10-29T00:00:00",
          "2020-11-05T00:00:00",
          "2020-11-12T00:00:00",
          "2020-11-19T00:00:00",
          "2020-11-26T00:00:00",
          "2020-12-03T00:00:00",
          "2020-12-10T00:00:00",
          "2020-12-17T00:00:00",
          "2020-12-24T00:00:00",
          "2020-12-31T00:00:00",
          "2021-01-07T00:00:00",
          "2021-01-14T00:00:00",
          "2021-01-21T00:00:00",
          "2021-01-28T00:00:00",
          "2021-02-04T00:00:00",
          "2021-02-11T00:00:00",
          "2021-02-18T00:00:00",
          "2021-02-25T00:00:00",
          "2021-03-04T00:00:00",
          "2021-03-11T00:00:00",
          "2021-03-18T00:00:00",
          "2021-03-25T00:00:00",
          "2021-04-01T00:00:00",
          "2021-04-08T00:00:00",
          "2021-04-15T00:00:00"
         ],
         "xaxis": "x2",
         "y": [
          1,
          2.142857142857143,
          8.428571428571429,
          -8.857142857142858,
          -17.142857142857142,
          -12.285714285714286,
          -16.285714285714285,
          -10.285714285714286,
          -6,
          -7.285714285714286,
          -2.7142857142857144,
          0.14285714285714285,
          -2.7142857142857144,
          -0.14285714285714285,
          -2,
          -1.5714285714285714,
          2,
          -0.2857142857142857,
          -0.42857142857142855,
          -2,
          -2.7142857142857144,
          -4.285714285714286,
          -5.714285714285714,
          -8,
          -6.571428571428571,
          -2.857142857142857,
          -3.857142857142857,
          -5.857142857142857,
          -4.714285714285714,
          -5.285714285714286,
          -3,
          -5,
          -5.285714285714286,
          -5,
          -3.5714285714285716,
          -5.285714285714286,
          -3.857142857142857,
          -3.7142857142857144,
          -2,
          -1.5714285714285714,
          -4,
          -1.7142857142857142,
          3.857142857142857,
          -17.428571428571427,
          -16.714285714285715,
          -10,
          -13.142857142857142,
          -10.571428571428571,
          -12,
          -11.428571428571429,
          -5.857142857142857,
          -1.1428571428571428,
          0,
          -0.5714285714285714,
          -1.7142857142857142,
          1.1428571428571428,
          2.7142857142857144,
          -4.285714285714286,
          1.8571428571428572,
          4.714285714285714
         ],
         "yaxis": "y2"
        },
        {
         "mode": "markers",
         "name": "valleys grocery and pharmacy trips",
         "type": "scatter",
         "x": [
          "2020-03-26T00:00:00",
          "2020-04-09T00:00:00",
          "2020-04-30T00:00:00",
          "2020-05-21T00:00:00",
          "2020-06-04T00:00:00",
          "2020-08-06T00:00:00",
          "2020-09-03T00:00:00",
          "2020-09-17T00:00:00",
          "2020-10-08T00:00:00",
          "2020-10-29T00:00:00",
          "2020-12-03T00:00:00",
          "2020-12-24T00:00:00",
          "2021-01-14T00:00:00",
          "2021-01-28T00:00:00",
          "2021-03-11T00:00:00",
          "2021-04-01T00:00:00"
         ],
         "xaxis": "x2",
         "y": [
          -17.142857142857142,
          -16.285714285714285,
          -7.285714285714286,
          -2.7142857142857144,
          -2,
          -8,
          -5.857142857142857,
          -5.285714285714286,
          -5.285714285714286,
          -5.285714285714286,
          -4,
          -17.428571428571427,
          -13.142857142857142,
          -12,
          -1.7142857142857142,
          -4.285714285714286
         ],
         "yaxis": "y2"
        }
       ],
       "layout": {
        "template": {
         "data": {
          "bar": [
           {
            "error_x": {
             "color": "#2a3f5f"
            },
            "error_y": {
             "color": "#2a3f5f"
            },
            "marker": {
             "line": {
              "color": "#E5ECF6",
              "width": 0.5
             },
             "pattern": {
              "fillmode": "overlay",
              "size": 10,
              "solidity": 0.2
             }
            },
            "type": "bar"
           }
          ],
          "barpolar": [
           {
            "marker": {
             "line": {
              "color": "#E5ECF6",
              "width": 0.5
             },
             "pattern": {
              "fillmode": "overlay",
              "size": 10,
              "solidity": 0.2
             }
            },
            "type": "barpolar"
           }
          ],
          "carpet": [
           {
            "aaxis": {
             "endlinecolor": "#2a3f5f",
             "gridcolor": "white",
             "linecolor": "white",
             "minorgridcolor": "white",
             "startlinecolor": "#2a3f5f"
            },
            "baxis": {
             "endlinecolor": "#2a3f5f",
             "gridcolor": "white",
             "linecolor": "white",
             "minorgridcolor": "white",
             "startlinecolor": "#2a3f5f"
            },
            "type": "carpet"
           }
          ],
          "choropleth": [
           {
            "colorbar": {
             "outlinewidth": 0,
             "ticks": ""
            },
            "type": "choropleth"
           }
          ],
          "contour": [
           {
            "colorbar": {
             "outlinewidth": 0,
             "ticks": ""
            },
            "colorscale": [
             [
              0,
              "#0d0887"
             ],
             [
              0.1111111111111111,
              "#46039f"
             ],
             [
              0.2222222222222222,
              "#7201a8"
             ],
             [
              0.3333333333333333,
              "#9c179e"
             ],
             [
              0.4444444444444444,
              "#bd3786"
             ],
             [
              0.5555555555555556,
              "#d8576b"
             ],
             [
              0.6666666666666666,
              "#ed7953"
             ],
             [
              0.7777777777777778,
              "#fb9f3a"
             ],
             [
              0.8888888888888888,
              "#fdca26"
             ],
             [
              1,
              "#f0f921"
             ]
            ],
            "type": "contour"
           }
          ],
          "contourcarpet": [
           {
            "colorbar": {
             "outlinewidth": 0,
             "ticks": ""
            },
            "type": "contourcarpet"
           }
          ],
          "heatmap": [
           {
            "colorbar": {
             "outlinewidth": 0,
             "ticks": ""
            },
            "colorscale": [
             [
              0,
              "#0d0887"
             ],
             [
              0.1111111111111111,
              "#46039f"
             ],
             [
              0.2222222222222222,
              "#7201a8"
             ],
             [
              0.3333333333333333,
              "#9c179e"
             ],
             [
              0.4444444444444444,
              "#bd3786"
             ],
             [
              0.5555555555555556,
              "#d8576b"
             ],
             [
              0.6666666666666666,
              "#ed7953"
             ],
             [
              0.7777777777777778,
              "#fb9f3a"
             ],
             [
              0.8888888888888888,
              "#fdca26"
             ],
             [
              1,
              "#f0f921"
             ]
            ],
            "type": "heatmap"
           }
          ],
          "heatmapgl": [
           {
            "colorbar": {
             "outlinewidth": 0,
             "ticks": ""
            },
            "colorscale": [
             [
              0,
              "#0d0887"
             ],
             [
              0.1111111111111111,
              "#46039f"
             ],
             [
              0.2222222222222222,
              "#7201a8"
             ],
             [
              0.3333333333333333,
              "#9c179e"
             ],
             [
              0.4444444444444444,
              "#bd3786"
             ],
             [
              0.5555555555555556,
              "#d8576b"
             ],
             [
              0.6666666666666666,
              "#ed7953"
             ],
             [
              0.7777777777777778,
              "#fb9f3a"
             ],
             [
              0.8888888888888888,
              "#fdca26"
             ],
             [
              1,
              "#f0f921"
             ]
            ],
            "type": "heatmapgl"
           }
          ],
          "histogram": [
           {
            "marker": {
             "pattern": {
              "fillmode": "overlay",
              "size": 10,
              "solidity": 0.2
             }
            },
            "type": "histogram"
           }
          ],
          "histogram2d": [
           {
            "colorbar": {
             "outlinewidth": 0,
             "ticks": ""
            },
            "colorscale": [
             [
              0,
              "#0d0887"
             ],
             [
              0.1111111111111111,
              "#46039f"
             ],
             [
              0.2222222222222222,
              "#7201a8"
             ],
             [
              0.3333333333333333,
              "#9c179e"
             ],
             [
              0.4444444444444444,
              "#bd3786"
             ],
             [
              0.5555555555555556,
              "#d8576b"
             ],
             [
              0.6666666666666666,
              "#ed7953"
             ],
             [
              0.7777777777777778,
              "#fb9f3a"
             ],
             [
              0.8888888888888888,
              "#fdca26"
             ],
             [
              1,
              "#f0f921"
             ]
            ],
            "type": "histogram2d"
           }
          ],
          "histogram2dcontour": [
           {
            "colorbar": {
             "outlinewidth": 0,
             "ticks": ""
            },
            "colorscale": [
             [
              0,
              "#0d0887"
             ],
             [
              0.1111111111111111,
              "#46039f"
             ],
             [
              0.2222222222222222,
              "#7201a8"
             ],
             [
              0.3333333333333333,
              "#9c179e"
             ],
             [
              0.4444444444444444,
              "#bd3786"
             ],
             [
              0.5555555555555556,
              "#d8576b"
             ],
             [
              0.6666666666666666,
              "#ed7953"
             ],
             [
              0.7777777777777778,
              "#fb9f3a"
             ],
             [
              0.8888888888888888,
              "#fdca26"
             ],
             [
              1,
              "#f0f921"
             ]
            ],
            "type": "histogram2dcontour"
           }
          ],
          "mesh3d": [
           {
            "colorbar": {
             "outlinewidth": 0,
             "ticks": ""
            },
            "type": "mesh3d"
           }
          ],
          "parcoords": [
           {
            "line": {
             "colorbar": {
              "outlinewidth": 0,
              "ticks": ""
             }
            },
            "type": "parcoords"
           }
          ],
          "pie": [
           {
            "automargin": true,
            "type": "pie"
           }
          ],
          "scatter": [
           {
            "marker": {
             "colorbar": {
              "outlinewidth": 0,
              "ticks": ""
             }
            },
            "type": "scatter"
           }
          ],
          "scatter3d": [
           {
            "line": {
             "colorbar": {
              "outlinewidth": 0,
              "ticks": ""
             }
            },
            "marker": {
             "colorbar": {
              "outlinewidth": 0,
              "ticks": ""
             }
            },
            "type": "scatter3d"
           }
          ],
          "scattercarpet": [
           {
            "marker": {
             "colorbar": {
              "outlinewidth": 0,
              "ticks": ""
             }
            },
            "type": "scattercarpet"
           }
          ],
          "scattergeo": [
           {
            "marker": {
             "colorbar": {
              "outlinewidth": 0,
              "ticks": ""
             }
            },
            "type": "scattergeo"
           }
          ],
          "scattergl": [
           {
            "marker": {
             "colorbar": {
              "outlinewidth": 0,
              "ticks": ""
             }
            },
            "type": "scattergl"
           }
          ],
          "scattermapbox": [
           {
            "marker": {
             "colorbar": {
              "outlinewidth": 0,
              "ticks": ""
             }
            },
            "type": "scattermapbox"
           }
          ],
          "scatterpolar": [
           {
            "marker": {
             "colorbar": {
              "outlinewidth": 0,
              "ticks": ""
             }
            },
            "type": "scatterpolar"
           }
          ],
          "scatterpolargl": [
           {
            "marker": {
             "colorbar": {
              "outlinewidth": 0,
              "ticks": ""
             }
            },
            "type": "scatterpolargl"
           }
          ],
          "scatterternary": [
           {
            "marker": {
             "colorbar": {
              "outlinewidth": 0,
              "ticks": ""
             }
            },
            "type": "scatterternary"
           }
          ],
          "surface": [
           {
            "colorbar": {
             "outlinewidth": 0,
             "ticks": ""
            },
            "colorscale": [
             [
              0,
              "#0d0887"
             ],
             [
              0.1111111111111111,
              "#46039f"
             ],
             [
              0.2222222222222222,
              "#7201a8"
             ],
             [
              0.3333333333333333,
              "#9c179e"
             ],
             [
              0.4444444444444444,
              "#bd3786"
             ],
             [
              0.5555555555555556,
              "#d8576b"
             ],
             [
              0.6666666666666666,
              "#ed7953"
             ],
             [
              0.7777777777777778,
              "#fb9f3a"
             ],
             [
              0.8888888888888888,
              "#fdca26"
             ],
             [
              1,
              "#f0f921"
             ]
            ],
            "type": "surface"
           }
          ],
          "table": [
           {
            "cells": {
             "fill": {
              "color": "#EBF0F8"
             },
             "line": {
              "color": "white"
             }
            },
            "header": {
             "fill": {
              "color": "#C8D4E3"
             },
             "line": {
              "color": "white"
             }
            },
            "type": "table"
           }
          ]
         },
         "layout": {
          "annotationdefaults": {
           "arrowcolor": "#2a3f5f",
           "arrowhead": 0,
           "arrowwidth": 1
          },
          "autotypenumbers": "strict",
          "coloraxis": {
           "colorbar": {
            "outlinewidth": 0,
            "ticks": ""
           }
          },
          "colorscale": {
           "diverging": [
            [
             0,
             "#8e0152"
            ],
            [
             0.1,
             "#c51b7d"
            ],
            [
             0.2,
             "#de77ae"
            ],
            [
             0.3,
             "#f1b6da"
            ],
            [
             0.4,
             "#fde0ef"
            ],
            [
             0.5,
             "#f7f7f7"
            ],
            [
             0.6,
             "#e6f5d0"
            ],
            [
             0.7,
             "#b8e186"
            ],
            [
             0.8,
             "#7fbc41"
            ],
            [
             0.9,
             "#4d9221"
            ],
            [
             1,
             "#276419"
            ]
           ],
           "sequential": [
            [
             0,
             "#0d0887"
            ],
            [
             0.1111111111111111,
             "#46039f"
            ],
            [
             0.2222222222222222,
             "#7201a8"
            ],
            [
             0.3333333333333333,
             "#9c179e"
            ],
            [
             0.4444444444444444,
             "#bd3786"
            ],
            [
             0.5555555555555556,
             "#d8576b"
            ],
            [
             0.6666666666666666,
             "#ed7953"
            ],
            [
             0.7777777777777778,
             "#fb9f3a"
            ],
            [
             0.8888888888888888,
             "#fdca26"
            ],
            [
             1,
             "#f0f921"
            ]
           ],
           "sequentialminus": [
            [
             0,
             "#0d0887"
            ],
            [
             0.1111111111111111,
             "#46039f"
            ],
            [
             0.2222222222222222,
             "#7201a8"
            ],
            [
             0.3333333333333333,
             "#9c179e"
            ],
            [
             0.4444444444444444,
             "#bd3786"
            ],
            [
             0.5555555555555556,
             "#d8576b"
            ],
            [
             0.6666666666666666,
             "#ed7953"
            ],
            [
             0.7777777777777778,
             "#fb9f3a"
            ],
            [
             0.8888888888888888,
             "#fdca26"
            ],
            [
             1,
             "#f0f921"
            ]
           ]
          },
          "colorway": [
           "#636efa",
           "#EF553B",
           "#00cc96",
           "#ab63fa",
           "#FFA15A",
           "#19d3f3",
           "#FF6692",
           "#B6E880",
           "#FF97FF",
           "#FECB52"
          ],
          "font": {
           "color": "#2a3f5f"
          },
          "geo": {
           "bgcolor": "white",
           "lakecolor": "white",
           "landcolor": "#E5ECF6",
           "showlakes": true,
           "showland": true,
           "subunitcolor": "white"
          },
          "hoverlabel": {
           "align": "left"
          },
          "hovermode": "closest",
          "mapbox": {
           "style": "light"
          },
          "paper_bgcolor": "white",
          "plot_bgcolor": "#E5ECF6",
          "polar": {
           "angularaxis": {
            "gridcolor": "white",
            "linecolor": "white",
            "ticks": ""
           },
           "bgcolor": "#E5ECF6",
           "radialaxis": {
            "gridcolor": "white",
            "linecolor": "white",
            "ticks": ""
           }
          },
          "scene": {
           "xaxis": {
            "backgroundcolor": "#E5ECF6",
            "gridcolor": "white",
            "gridwidth": 2,
            "linecolor": "white",
            "showbackground": true,
            "ticks": "",
            "zerolinecolor": "white"
           },
           "yaxis": {
            "backgroundcolor": "#E5ECF6",
            "gridcolor": "white",
            "gridwidth": 2,
            "linecolor": "white",
            "showbackground": true,
            "ticks": "",
            "zerolinecolor": "white"
           },
           "zaxis": {
            "backgroundcolor": "#E5ECF6",
            "gridcolor": "white",
            "gridwidth": 2,
            "linecolor": "white",
            "showbackground": true,
            "ticks": "",
            "zerolinecolor": "white"
           }
          },
          "shapedefaults": {
           "line": {
            "color": "#2a3f5f"
           }
          },
          "ternary": {
           "aaxis": {
            "gridcolor": "white",
            "linecolor": "white",
            "ticks": ""
           },
           "baxis": {
            "gridcolor": "white",
            "linecolor": "white",
            "ticks": ""
           },
           "bgcolor": "#E5ECF6",
           "caxis": {
            "gridcolor": "white",
            "linecolor": "white",
            "ticks": ""
           }
          },
          "title": {
           "x": 0.05
          },
          "xaxis": {
           "automargin": true,
           "gridcolor": "white",
           "linecolor": "white",
           "ticks": "",
           "title": {
            "standoff": 15
           },
           "zerolinecolor": "white",
           "zerolinewidth": 2
          },
          "yaxis": {
           "automargin": true,
           "gridcolor": "white",
           "linecolor": "white",
           "ticks": "",
           "title": {
            "standoff": 15
           },
           "zerolinecolor": "white",
           "zerolinewidth": 2
          }
         }
        },
        "title": {
         "text": "Covid and mobility data in Noord-Brabant"
        },
        "xaxis": {
         "anchor": "y",
         "domain": [
          0,
          1
         ]
        },
        "xaxis2": {
         "anchor": "y2",
         "domain": [
          0,
          1
         ]
        },
        "yaxis": {
         "anchor": "x",
         "domain": [
          0.575,
          1
         ]
        },
        "yaxis2": {
         "anchor": "x2",
         "domain": [
          0,
          0.425
         ]
        }
       }
      }
     },
     "metadata": {},
     "output_type": "display_data"
    }
   ],
   "source": [
    "# Two different graphs as the units are different, but in a subplot\n",
    "fig_3 = make_subplots(rows=2,cols=1)\n",
    "\n",
    "x1 = df_full_province_2['date']\n",
    "y1 = df_full_province_2[activity_3]\n",
    "x2 = df_max_2['date']\n",
    "y2 = df_max_2[activity_3]\n",
    "x3 = df_full_province_1['date']\n",
    "y3 = df_full_province_1[activity_2]\n",
    "x4 = df_min_1['date']\n",
    "y4 = df_min_1[activity_2]\n",
    "\n",
    "fig_3.append_trace(go.Scatter(x=x1,y=y1,name=activity_3),row=1,col=1)\n",
    "fig_3.append_trace(go.Scatter(x=x2,y=y2,mode='markers',name='peaks ' + activity_3),row=1,col=1)\n",
    "fig_3.append_trace(go.Scatter(x=x3,y=y3,name=activity_2),row=2,col=1)\n",
    "fig_3.append_trace(go.Scatter(x=x4,y=y4,mode='markers',name='valleys ' + activity_2),row=2,col=1)\n",
    "\n",
    "fig_3.update_layout(title='Covid and mobility data in ' + province_1)\n",
    "\n",
    "fig_3.show()"
   ]
  },
  {
   "cell_type": "markdown",
   "metadata": {
    "heading_collapsed": true,
    "hidden": true
   },
   "source": [
    "## Part III - Data visualisation"
   ]
  },
  {
   "cell_type": "markdown",
   "metadata": {
    "hidden": true
   },
   "source": [
    "For this last part, I'm going to tell check my personal experience on the covid narrative around the province of Noord-Brabant, by:\n",
    "- Telling about my personal experiences on living in Eindhoven during the first covid wave in the second quarter of 2020\n",
    "- Showing covid data on Brabant \n",
    "- Telling about the covid narrative around Noord-Brabant during the first wave and how this impacted my perspective on how people dealt with covid in their regions\n",
    "- Comparing the number of cases in Noord-Brabant with the other provinces in a visual\n",
    "- Comparing Noord-Brabant specifically to two other provinces\n",
    "- Comparing how people reacted to covid in terms of mobility between these provinces\n",
    "- Interpreting the results"
   ]
  },
  {
   "cell_type": "markdown",
   "metadata": {},
   "source": [
    "First, I show my variables for this part. "
   ]
  },
  {
   "cell_type": "code",
   "execution_count": 17,
   "metadata": {},
   "outputs": [],
   "source": [
    "# Variables from previous part\n",
    "activity_1 = 'work trips'\n",
    "activity_2 = 'grocery and pharmacy trips'\n",
    "activity_3 = 'number of hospitalized patients'\n",
    "activity_4 = 'number of casualties'\n",
    "\n",
    "province_1 = 'Noord-Brabant'\n",
    "\n",
    "# New variable\n",
    "activity_5 = 'number of cases'\n",
    "activity_6 = 'retail and recreation trips'\n",
    "activities_story_1 = [activity_3, activity_4, activity_5]\n",
    "activities_story_2 = [activity_1, activity_2, activity_6]\n",
    "activities_story_3 = [activity_5, activity_2]\n",
    "\n",
    "province_2 = 'Noord-Holland'\n",
    "province_3 = 'Zuid-Holland'\n",
    "provinces_story = [province_1, province_2, province_3]\n",
    "\n",
    "weeks_4 = 2"
   ]
  },
  {
   "cell_type": "markdown",
   "metadata": {},
   "source": [
    "Then, I'm going to make a graph of the covid data of Noord-Brabant, just to explore the data and do some findings."
   ]
  },
  {
   "cell_type": "code",
   "execution_count": 18,
   "metadata": {},
   "outputs": [
    {
     "data": {
      "application/vnd.plotly.v1+json": {
       "config": {
        "plotlyServerURL": "https://plot.ly"
       },
       "data": [
        {
         "name": "number of hospitalized patients",
         "type": "scatter",
         "x": [
          "2020-02-27T00:00:00",
          "2020-03-05T00:00:00",
          "2020-03-12T00:00:00",
          "2020-03-19T00:00:00",
          "2020-03-26T00:00:00",
          "2020-04-02T00:00:00",
          "2020-04-09T00:00:00",
          "2020-04-16T00:00:00",
          "2020-04-23T00:00:00",
          "2020-04-30T00:00:00",
          "2020-05-07T00:00:00",
          "2020-05-14T00:00:00",
          "2020-05-21T00:00:00",
          "2020-05-28T00:00:00",
          "2020-06-04T00:00:00",
          "2020-06-11T00:00:00",
          "2020-06-18T00:00:00",
          "2020-06-25T00:00:00",
          "2020-07-02T00:00:00",
          "2020-07-09T00:00:00",
          "2020-07-16T00:00:00",
          "2020-07-23T00:00:00",
          "2020-07-30T00:00:00",
          "2020-08-06T00:00:00",
          "2020-08-13T00:00:00",
          "2020-08-20T00:00:00",
          "2020-08-27T00:00:00",
          "2020-09-03T00:00:00",
          "2020-09-10T00:00:00",
          "2020-09-17T00:00:00",
          "2020-09-24T00:00:00",
          "2020-10-01T00:00:00",
          "2020-10-08T00:00:00",
          "2020-10-15T00:00:00",
          "2020-10-22T00:00:00",
          "2020-10-29T00:00:00",
          "2020-11-05T00:00:00",
          "2020-11-12T00:00:00",
          "2020-11-19T00:00:00",
          "2020-11-26T00:00:00",
          "2020-12-03T00:00:00",
          "2020-12-10T00:00:00",
          "2020-12-17T00:00:00",
          "2020-12-24T00:00:00",
          "2020-12-31T00:00:00",
          "2021-01-07T00:00:00",
          "2021-01-14T00:00:00",
          "2021-01-21T00:00:00",
          "2021-01-28T00:00:00",
          "2021-02-04T00:00:00",
          "2021-02-11T00:00:00",
          "2021-02-18T00:00:00",
          "2021-02-25T00:00:00",
          "2021-03-04T00:00:00",
          "2021-03-11T00:00:00",
          "2021-03-18T00:00:00",
          "2021-03-25T00:00:00",
          "2021-04-01T00:00:00",
          "2021-04-08T00:00:00",
          "2021-04-15T00:00:00"
         ],
         "y": [
          null,
          null,
          18.6,
          42.142857142857146,
          143,
          63.857142857142854,
          41.142857142857146,
          18.714285714285715,
          26,
          15.714285714285714,
          14.571428571428571,
          3.142857142857143,
          0.5714285714285714,
          0.8571428571428571,
          0.5714285714285714,
          1.2857142857142858,
          0.14285714285714285,
          0.42857142857142855,
          0,
          -0.14285714285714285,
          0,
          0.5714285714285714,
          0.8571428571428571,
          0.2857142857142857,
          0.8571428571428571,
          0.7142857142857143,
          0.5714285714285714,
          0.42857142857142855,
          0.2857142857142857,
          1.2857142857142858,
          3.5714285714285716,
          3.857142857142857,
          6.285714285714286,
          11.285714285714286,
          14,
          15.857142857142858,
          9.142857142857142,
          12,
          11,
          9.714285714285714,
          10.428571428571429,
          12.285714285714286,
          13.142857142857142,
          10.285714285714286,
          10.571428571428571,
          12.571428571428571,
          7.857142857142857,
          8.428571428571429,
          7.857142857142857,
          7.142857142857143,
          6.428571428571429,
          7.571428571428571,
          6.285714285714286,
          5.285714285714286,
          6.428571428571429,
          7.333333333333333,
          7.714285714285714,
          6.428571428571429,
          8,
          7.333333333333333
         ]
        },
        {
         "name": "number of casualties",
         "type": "scatter",
         "x": [
          "2020-02-27T00:00:00",
          "2020-03-05T00:00:00",
          "2020-03-12T00:00:00",
          "2020-03-19T00:00:00",
          "2020-03-26T00:00:00",
          "2020-04-02T00:00:00",
          "2020-04-09T00:00:00",
          "2020-04-16T00:00:00",
          "2020-04-23T00:00:00",
          "2020-04-30T00:00:00",
          "2020-05-07T00:00:00",
          "2020-05-14T00:00:00",
          "2020-05-21T00:00:00",
          "2020-05-28T00:00:00",
          "2020-06-04T00:00:00",
          "2020-06-11T00:00:00",
          "2020-06-18T00:00:00",
          "2020-06-25T00:00:00",
          "2020-07-02T00:00:00",
          "2020-07-09T00:00:00",
          "2020-07-16T00:00:00",
          "2020-07-23T00:00:00",
          "2020-07-30T00:00:00",
          "2020-08-06T00:00:00",
          "2020-08-13T00:00:00",
          "2020-08-20T00:00:00",
          "2020-08-27T00:00:00",
          "2020-09-03T00:00:00",
          "2020-09-10T00:00:00",
          "2020-09-17T00:00:00",
          "2020-09-24T00:00:00",
          "2020-10-01T00:00:00",
          "2020-10-08T00:00:00",
          "2020-10-15T00:00:00",
          "2020-10-22T00:00:00",
          "2020-10-29T00:00:00",
          "2020-11-05T00:00:00",
          "2020-11-12T00:00:00",
          "2020-11-19T00:00:00",
          "2020-11-26T00:00:00",
          "2020-12-03T00:00:00",
          "2020-12-10T00:00:00",
          "2020-12-17T00:00:00",
          "2020-12-24T00:00:00",
          "2020-12-31T00:00:00",
          "2021-01-07T00:00:00",
          "2021-01-14T00:00:00",
          "2021-01-21T00:00:00",
          "2021-01-28T00:00:00",
          "2021-02-04T00:00:00",
          "2021-02-11T00:00:00",
          "2021-02-18T00:00:00",
          "2021-02-25T00:00:00",
          "2021-03-04T00:00:00",
          "2021-03-11T00:00:00",
          "2021-03-18T00:00:00",
          "2021-03-25T00:00:00",
          "2021-04-01T00:00:00",
          "2021-04-08T00:00:00",
          "2021-04-15T00:00:00"
         ],
         "y": [
          null,
          null,
          6.4,
          19.428571428571427,
          43.714285714285715,
          43,
          29,
          34,
          16,
          10.428571428571429,
          9,
          2.7142857142857144,
          1.4285714285714286,
          1.8571428571428572,
          1.2857142857142858,
          1,
          0.5714285714285714,
          0.5714285714285714,
          0.2857142857142857,
          -0.2857142857142857,
          0,
          0.14285714285714285,
          0.2857142857142857,
          0.5714285714285714,
          0.5714285714285714,
          0.14285714285714285,
          0.42857142857142855,
          0.14285714285714285,
          0,
          0.42857142857142855,
          1.2857142857142858,
          1.5714285714285714,
          2.7142857142857144,
          4.714285714285714,
          6.857142857142857,
          13.571428571428571,
          14.142857142857142,
          12.428571428571429,
          7.285714285714286,
          8,
          6.857142857142857,
          12.857142857142858,
          13.571428571428571,
          10.571428571428571,
          9.857142857142858,
          12.285714285714286,
          8.714285714285714,
          7.714285714285714,
          7.285714285714286,
          8.571428571428571,
          9.142857142857142,
          7.142857142857143,
          4.428571428571429,
          4.142857142857143,
          4.428571428571429,
          3.6666666666666665,
          3,
          2,
          3.4285714285714284,
          1.6666666666666667
         ]
        },
        {
         "name": "number of cases",
         "type": "scatter",
         "x": [
          "2020-02-27T00:00:00",
          "2020-03-05T00:00:00",
          "2020-03-12T00:00:00",
          "2020-03-19T00:00:00",
          "2020-03-26T00:00:00",
          "2020-04-02T00:00:00",
          "2020-04-09T00:00:00",
          "2020-04-16T00:00:00",
          "2020-04-23T00:00:00",
          "2020-04-30T00:00:00",
          "2020-05-07T00:00:00",
          "2020-05-14T00:00:00",
          "2020-05-21T00:00:00",
          "2020-05-28T00:00:00",
          "2020-06-04T00:00:00",
          "2020-06-11T00:00:00",
          "2020-06-18T00:00:00",
          "2020-06-25T00:00:00",
          "2020-07-02T00:00:00",
          "2020-07-09T00:00:00",
          "2020-07-16T00:00:00",
          "2020-07-23T00:00:00",
          "2020-07-30T00:00:00",
          "2020-08-06T00:00:00",
          "2020-08-13T00:00:00",
          "2020-08-20T00:00:00",
          "2020-08-27T00:00:00",
          "2020-09-03T00:00:00",
          "2020-09-10T00:00:00",
          "2020-09-17T00:00:00",
          "2020-09-24T00:00:00",
          "2020-10-01T00:00:00",
          "2020-10-08T00:00:00",
          "2020-10-15T00:00:00",
          "2020-10-22T00:00:00",
          "2020-10-29T00:00:00",
          "2020-11-05T00:00:00",
          "2020-11-12T00:00:00",
          "2020-11-19T00:00:00",
          "2020-11-26T00:00:00",
          "2020-12-03T00:00:00",
          "2020-12-10T00:00:00",
          "2020-12-17T00:00:00",
          "2020-12-24T00:00:00",
          "2020-12-31T00:00:00",
          "2021-01-07T00:00:00",
          "2021-01-14T00:00:00",
          "2021-01-21T00:00:00",
          "2021-01-28T00:00:00",
          "2021-02-04T00:00:00",
          "2021-02-11T00:00:00",
          "2021-02-18T00:00:00",
          "2021-02-25T00:00:00",
          "2021-03-04T00:00:00",
          "2021-03-11T00:00:00",
          "2021-03-18T00:00:00",
          "2021-03-25T00:00:00",
          "2021-04-01T00:00:00",
          "2021-04-08T00:00:00",
          "2021-04-15T00:00:00"
         ],
         "y": [
          2.6666666666666665,
          28.714285714285715,
          72.85714285714286,
          163.85714285714286,
          236.14285714285714,
          174.71428571428572,
          181.42857142857142,
          161.71428571428572,
          101.28571428571429,
          62.142857142857146,
          35.142857142857146,
          25.428571428571427,
          22.142857142857142,
          24.571428571428573,
          30.142857142857142,
          26.285714285714285,
          13.285714285714286,
          9.285714285714286,
          8.857142857142858,
          7.285714285714286,
          18.714285714285715,
          23.428571428571427,
          49.57142857142857,
          73.85714285714286,
          65.28571428571429,
          72,
          71.71428571428571,
          86.42857142857143,
          108.57142857142857,
          221.42857142857142,
          327.2857142857143,
          553.5714285714286,
          963.5714285714286,
          1271.2857142857142,
          1544,
          1673.4285714285713,
          982,
          875,
          917.8571428571429,
          780.2857142857143,
          1051.857142857143,
          1449.2857142857142,
          1721.7142857142858,
          1329.2857142857142,
          1102.4285714285713,
          1101.2857142857142,
          809.7142857142857,
          807.5714285714286,
          696.4285714285714,
          589,
          544,
          781,
          742.4285714285714,
          713.4285714285714,
          904,
          1048.3333333333333,
          1158.7142857142858,
          1113.5714285714287,
          1214,
          1457
         ]
        }
       ],
       "layout": {
        "template": {
         "data": {
          "bar": [
           {
            "error_x": {
             "color": "#2a3f5f"
            },
            "error_y": {
             "color": "#2a3f5f"
            },
            "marker": {
             "line": {
              "color": "#E5ECF6",
              "width": 0.5
             },
             "pattern": {
              "fillmode": "overlay",
              "size": 10,
              "solidity": 0.2
             }
            },
            "type": "bar"
           }
          ],
          "barpolar": [
           {
            "marker": {
             "line": {
              "color": "#E5ECF6",
              "width": 0.5
             },
             "pattern": {
              "fillmode": "overlay",
              "size": 10,
              "solidity": 0.2
             }
            },
            "type": "barpolar"
           }
          ],
          "carpet": [
           {
            "aaxis": {
             "endlinecolor": "#2a3f5f",
             "gridcolor": "white",
             "linecolor": "white",
             "minorgridcolor": "white",
             "startlinecolor": "#2a3f5f"
            },
            "baxis": {
             "endlinecolor": "#2a3f5f",
             "gridcolor": "white",
             "linecolor": "white",
             "minorgridcolor": "white",
             "startlinecolor": "#2a3f5f"
            },
            "type": "carpet"
           }
          ],
          "choropleth": [
           {
            "colorbar": {
             "outlinewidth": 0,
             "ticks": ""
            },
            "type": "choropleth"
           }
          ],
          "contour": [
           {
            "colorbar": {
             "outlinewidth": 0,
             "ticks": ""
            },
            "colorscale": [
             [
              0,
              "#0d0887"
             ],
             [
              0.1111111111111111,
              "#46039f"
             ],
             [
              0.2222222222222222,
              "#7201a8"
             ],
             [
              0.3333333333333333,
              "#9c179e"
             ],
             [
              0.4444444444444444,
              "#bd3786"
             ],
             [
              0.5555555555555556,
              "#d8576b"
             ],
             [
              0.6666666666666666,
              "#ed7953"
             ],
             [
              0.7777777777777778,
              "#fb9f3a"
             ],
             [
              0.8888888888888888,
              "#fdca26"
             ],
             [
              1,
              "#f0f921"
             ]
            ],
            "type": "contour"
           }
          ],
          "contourcarpet": [
           {
            "colorbar": {
             "outlinewidth": 0,
             "ticks": ""
            },
            "type": "contourcarpet"
           }
          ],
          "heatmap": [
           {
            "colorbar": {
             "outlinewidth": 0,
             "ticks": ""
            },
            "colorscale": [
             [
              0,
              "#0d0887"
             ],
             [
              0.1111111111111111,
              "#46039f"
             ],
             [
              0.2222222222222222,
              "#7201a8"
             ],
             [
              0.3333333333333333,
              "#9c179e"
             ],
             [
              0.4444444444444444,
              "#bd3786"
             ],
             [
              0.5555555555555556,
              "#d8576b"
             ],
             [
              0.6666666666666666,
              "#ed7953"
             ],
             [
              0.7777777777777778,
              "#fb9f3a"
             ],
             [
              0.8888888888888888,
              "#fdca26"
             ],
             [
              1,
              "#f0f921"
             ]
            ],
            "type": "heatmap"
           }
          ],
          "heatmapgl": [
           {
            "colorbar": {
             "outlinewidth": 0,
             "ticks": ""
            },
            "colorscale": [
             [
              0,
              "#0d0887"
             ],
             [
              0.1111111111111111,
              "#46039f"
             ],
             [
              0.2222222222222222,
              "#7201a8"
             ],
             [
              0.3333333333333333,
              "#9c179e"
             ],
             [
              0.4444444444444444,
              "#bd3786"
             ],
             [
              0.5555555555555556,
              "#d8576b"
             ],
             [
              0.6666666666666666,
              "#ed7953"
             ],
             [
              0.7777777777777778,
              "#fb9f3a"
             ],
             [
              0.8888888888888888,
              "#fdca26"
             ],
             [
              1,
              "#f0f921"
             ]
            ],
            "type": "heatmapgl"
           }
          ],
          "histogram": [
           {
            "marker": {
             "pattern": {
              "fillmode": "overlay",
              "size": 10,
              "solidity": 0.2
             }
            },
            "type": "histogram"
           }
          ],
          "histogram2d": [
           {
            "colorbar": {
             "outlinewidth": 0,
             "ticks": ""
            },
            "colorscale": [
             [
              0,
              "#0d0887"
             ],
             [
              0.1111111111111111,
              "#46039f"
             ],
             [
              0.2222222222222222,
              "#7201a8"
             ],
             [
              0.3333333333333333,
              "#9c179e"
             ],
             [
              0.4444444444444444,
              "#bd3786"
             ],
             [
              0.5555555555555556,
              "#d8576b"
             ],
             [
              0.6666666666666666,
              "#ed7953"
             ],
             [
              0.7777777777777778,
              "#fb9f3a"
             ],
             [
              0.8888888888888888,
              "#fdca26"
             ],
             [
              1,
              "#f0f921"
             ]
            ],
            "type": "histogram2d"
           }
          ],
          "histogram2dcontour": [
           {
            "colorbar": {
             "outlinewidth": 0,
             "ticks": ""
            },
            "colorscale": [
             [
              0,
              "#0d0887"
             ],
             [
              0.1111111111111111,
              "#46039f"
             ],
             [
              0.2222222222222222,
              "#7201a8"
             ],
             [
              0.3333333333333333,
              "#9c179e"
             ],
             [
              0.4444444444444444,
              "#bd3786"
             ],
             [
              0.5555555555555556,
              "#d8576b"
             ],
             [
              0.6666666666666666,
              "#ed7953"
             ],
             [
              0.7777777777777778,
              "#fb9f3a"
             ],
             [
              0.8888888888888888,
              "#fdca26"
             ],
             [
              1,
              "#f0f921"
             ]
            ],
            "type": "histogram2dcontour"
           }
          ],
          "mesh3d": [
           {
            "colorbar": {
             "outlinewidth": 0,
             "ticks": ""
            },
            "type": "mesh3d"
           }
          ],
          "parcoords": [
           {
            "line": {
             "colorbar": {
              "outlinewidth": 0,
              "ticks": ""
             }
            },
            "type": "parcoords"
           }
          ],
          "pie": [
           {
            "automargin": true,
            "type": "pie"
           }
          ],
          "scatter": [
           {
            "marker": {
             "colorbar": {
              "outlinewidth": 0,
              "ticks": ""
             }
            },
            "type": "scatter"
           }
          ],
          "scatter3d": [
           {
            "line": {
             "colorbar": {
              "outlinewidth": 0,
              "ticks": ""
             }
            },
            "marker": {
             "colorbar": {
              "outlinewidth": 0,
              "ticks": ""
             }
            },
            "type": "scatter3d"
           }
          ],
          "scattercarpet": [
           {
            "marker": {
             "colorbar": {
              "outlinewidth": 0,
              "ticks": ""
             }
            },
            "type": "scattercarpet"
           }
          ],
          "scattergeo": [
           {
            "marker": {
             "colorbar": {
              "outlinewidth": 0,
              "ticks": ""
             }
            },
            "type": "scattergeo"
           }
          ],
          "scattergl": [
           {
            "marker": {
             "colorbar": {
              "outlinewidth": 0,
              "ticks": ""
             }
            },
            "type": "scattergl"
           }
          ],
          "scattermapbox": [
           {
            "marker": {
             "colorbar": {
              "outlinewidth": 0,
              "ticks": ""
             }
            },
            "type": "scattermapbox"
           }
          ],
          "scatterpolar": [
           {
            "marker": {
             "colorbar": {
              "outlinewidth": 0,
              "ticks": ""
             }
            },
            "type": "scatterpolar"
           }
          ],
          "scatterpolargl": [
           {
            "marker": {
             "colorbar": {
              "outlinewidth": 0,
              "ticks": ""
             }
            },
            "type": "scatterpolargl"
           }
          ],
          "scatterternary": [
           {
            "marker": {
             "colorbar": {
              "outlinewidth": 0,
              "ticks": ""
             }
            },
            "type": "scatterternary"
           }
          ],
          "surface": [
           {
            "colorbar": {
             "outlinewidth": 0,
             "ticks": ""
            },
            "colorscale": [
             [
              0,
              "#0d0887"
             ],
             [
              0.1111111111111111,
              "#46039f"
             ],
             [
              0.2222222222222222,
              "#7201a8"
             ],
             [
              0.3333333333333333,
              "#9c179e"
             ],
             [
              0.4444444444444444,
              "#bd3786"
             ],
             [
              0.5555555555555556,
              "#d8576b"
             ],
             [
              0.6666666666666666,
              "#ed7953"
             ],
             [
              0.7777777777777778,
              "#fb9f3a"
             ],
             [
              0.8888888888888888,
              "#fdca26"
             ],
             [
              1,
              "#f0f921"
             ]
            ],
            "type": "surface"
           }
          ],
          "table": [
           {
            "cells": {
             "fill": {
              "color": "#EBF0F8"
             },
             "line": {
              "color": "white"
             }
            },
            "header": {
             "fill": {
              "color": "#C8D4E3"
             },
             "line": {
              "color": "white"
             }
            },
            "type": "table"
           }
          ]
         },
         "layout": {
          "annotationdefaults": {
           "arrowcolor": "#2a3f5f",
           "arrowhead": 0,
           "arrowwidth": 1
          },
          "autotypenumbers": "strict",
          "coloraxis": {
           "colorbar": {
            "outlinewidth": 0,
            "ticks": ""
           }
          },
          "colorscale": {
           "diverging": [
            [
             0,
             "#8e0152"
            ],
            [
             0.1,
             "#c51b7d"
            ],
            [
             0.2,
             "#de77ae"
            ],
            [
             0.3,
             "#f1b6da"
            ],
            [
             0.4,
             "#fde0ef"
            ],
            [
             0.5,
             "#f7f7f7"
            ],
            [
             0.6,
             "#e6f5d0"
            ],
            [
             0.7,
             "#b8e186"
            ],
            [
             0.8,
             "#7fbc41"
            ],
            [
             0.9,
             "#4d9221"
            ],
            [
             1,
             "#276419"
            ]
           ],
           "sequential": [
            [
             0,
             "#0d0887"
            ],
            [
             0.1111111111111111,
             "#46039f"
            ],
            [
             0.2222222222222222,
             "#7201a8"
            ],
            [
             0.3333333333333333,
             "#9c179e"
            ],
            [
             0.4444444444444444,
             "#bd3786"
            ],
            [
             0.5555555555555556,
             "#d8576b"
            ],
            [
             0.6666666666666666,
             "#ed7953"
            ],
            [
             0.7777777777777778,
             "#fb9f3a"
            ],
            [
             0.8888888888888888,
             "#fdca26"
            ],
            [
             1,
             "#f0f921"
            ]
           ],
           "sequentialminus": [
            [
             0,
             "#0d0887"
            ],
            [
             0.1111111111111111,
             "#46039f"
            ],
            [
             0.2222222222222222,
             "#7201a8"
            ],
            [
             0.3333333333333333,
             "#9c179e"
            ],
            [
             0.4444444444444444,
             "#bd3786"
            ],
            [
             0.5555555555555556,
             "#d8576b"
            ],
            [
             0.6666666666666666,
             "#ed7953"
            ],
            [
             0.7777777777777778,
             "#fb9f3a"
            ],
            [
             0.8888888888888888,
             "#fdca26"
            ],
            [
             1,
             "#f0f921"
            ]
           ]
          },
          "colorway": [
           "#636efa",
           "#EF553B",
           "#00cc96",
           "#ab63fa",
           "#FFA15A",
           "#19d3f3",
           "#FF6692",
           "#B6E880",
           "#FF97FF",
           "#FECB52"
          ],
          "font": {
           "color": "#2a3f5f"
          },
          "geo": {
           "bgcolor": "white",
           "lakecolor": "white",
           "landcolor": "#E5ECF6",
           "showlakes": true,
           "showland": true,
           "subunitcolor": "white"
          },
          "hoverlabel": {
           "align": "left"
          },
          "hovermode": "closest",
          "mapbox": {
           "style": "light"
          },
          "paper_bgcolor": "white",
          "plot_bgcolor": "#E5ECF6",
          "polar": {
           "angularaxis": {
            "gridcolor": "white",
            "linecolor": "white",
            "ticks": ""
           },
           "bgcolor": "#E5ECF6",
           "radialaxis": {
            "gridcolor": "white",
            "linecolor": "white",
            "ticks": ""
           }
          },
          "scene": {
           "xaxis": {
            "backgroundcolor": "#E5ECF6",
            "gridcolor": "white",
            "gridwidth": 2,
            "linecolor": "white",
            "showbackground": true,
            "ticks": "",
            "zerolinecolor": "white"
           },
           "yaxis": {
            "backgroundcolor": "#E5ECF6",
            "gridcolor": "white",
            "gridwidth": 2,
            "linecolor": "white",
            "showbackground": true,
            "ticks": "",
            "zerolinecolor": "white"
           },
           "zaxis": {
            "backgroundcolor": "#E5ECF6",
            "gridcolor": "white",
            "gridwidth": 2,
            "linecolor": "white",
            "showbackground": true,
            "ticks": "",
            "zerolinecolor": "white"
           }
          },
          "shapedefaults": {
           "line": {
            "color": "#2a3f5f"
           }
          },
          "ternary": {
           "aaxis": {
            "gridcolor": "white",
            "linecolor": "white",
            "ticks": ""
           },
           "baxis": {
            "gridcolor": "white",
            "linecolor": "white",
            "ticks": ""
           },
           "bgcolor": "#E5ECF6",
           "caxis": {
            "gridcolor": "white",
            "linecolor": "white",
            "ticks": ""
           }
          },
          "title": {
           "x": 0.05
          },
          "xaxis": {
           "automargin": true,
           "gridcolor": "white",
           "linecolor": "white",
           "ticks": "",
           "title": {
            "standoff": 15
           },
           "zerolinecolor": "white",
           "zerolinewidth": 2
          },
          "yaxis": {
           "automargin": true,
           "gridcolor": "white",
           "linecolor": "white",
           "ticks": "",
           "title": {
            "standoff": 15
           },
           "zerolinecolor": "white",
           "zerolinewidth": 2
          }
         }
        },
        "title": {
         "text": "covid in Noord-Brabant"
        }
       }
      }
     },
     "metadata": {},
     "output_type": "display_data"
    }
   ],
   "source": [
    "# First, I'll make a graph of all covid data on the province of Noord-Brabant\n",
    "# I have to add the number of cases as a new activity and then I'm able to make the graph\n",
    "fig_5 = go.Figure()\n",
    "\n",
    "for activity in activities_story_1:\n",
    "    x1 = df_full_province_2['date']\n",
    "    y1 = df_full_province_2[activity]\n",
    "    fig_5.add_trace(go.Scatter(x=x1,y=y1,name=activity))\n",
    "\n",
    "\n",
    "fig_5.update_layout(title='covid in ' + province_1)\n",
    "fig_5.show()"
   ]
  },
  {
   "cell_type": "markdown",
   "metadata": {},
   "source": [
    "What is interesting is that the number of cases seems to be very low during the first wave, especially compared with the end of 2020 and the whole of 2021. This is the case, however, because the Netherlands only started up free CPR testing in June 2020. However, because of the lockdown and the nice weather the number of cases was very low by then. So when looking at the first wave, it's better to toggle off the number of cases and look at the number of hospitalized patients and number of casualties. \n",
    "\n",
    "- When you toggle off the number of cases, you can see however that there are quite some hospitalizations and casualties that occurred during the first wave\n",
    "- This does show that there were quite some severe cases in the province and the toal number of cases probably was much higher\n",
    "- The first covid case in the Netherlands was spotted in Tilburg, at the end of the carnaval week\n",
    "- Many people thought this must have meant that many people had gotten covid over the course of Carnaval, and as we went into a strict lockdown relatively quickly after carnaval, this was probably the case\n",
    "- The number of hospitalizations during March-May 2020 never would've been so high of only just a few people had gotten covid around the time of carnaval 2020. "
   ]
  },
  {
   "cell_type": "markdown",
   "metadata": {},
   "source": [
    "I moved to The Hague in July 2020, but before that I lived in Eindhoven. During the first wave from March-May 2020, I noticed the following things:\n",
    "- The fact that the first covid case was spotted in Noord-Brabant, resulted in quite some judgmental reactions about the province\n",
    "- The severity of the first wave in Noord-Brabant only contributed to this\n",
    "- Me and my housemates in Eindhoven got quite some interesting comments on covid in Noord-Brabant from family members who were living in the Randstad\n",
    "- I did notice that people in Eindhoven were following the covid rules very strictly, especially in terms of keeping distance both outside and inside\n",
    "\n",
    "- When I went to the Randstad to visit familiy, however, I noticed that people were adhering to the rules a lot less\n",
    "- This interested me, as I found that the number of cases didn't differ that much anymore between central provinces around the time of April-May\n",
    "- It made me feel like people were thinking like Noord-Brabant was doing very badly in terms of covid, while their own provinces were also not doing that great\n",
    "- So the narrative around covid numbers in Noord-Brabant just wasn't good\n",
    "\n",
    "For this story, I want to check whether this feeling I had was rightfully there, or if Noord-Brabant was actually doing much worse than other provinces."
   ]
  },
  {
   "cell_type": "markdown",
   "metadata": {},
   "source": [
    "So let's make a bar chart showing the number of cases per province for every month."
   ]
  },
  {
   "cell_type": "code",
   "execution_count": 19,
   "metadata": {},
   "outputs": [
    {
     "data": {
      "application/vnd.plotly.v1+json": {
       "config": {
        "plotlyServerURL": "https://plot.ly"
       },
       "data": [
        {
         "alignmentgroup": "True",
         "hovertemplate": "province=%{y}<br>year_month=2020-02<br>number of cases=%{x}<extra></extra>",
         "ids": [
          "Drenthe"
         ],
         "legendgroup": "Drenthe",
         "marker": {
          "color": "#636efa",
          "pattern": {
           "shape": ""
          }
         },
         "name": "Drenthe",
         "offsetgroup": "Drenthe",
         "orientation": "h",
         "showlegend": true,
         "textposition": "auto",
         "type": "bar",
         "x": [
          0
         ],
         "xaxis": "x",
         "y": [
          "Drenthe"
         ],
         "yaxis": "y"
        },
        {
         "alignmentgroup": "True",
         "hovertemplate": "province=%{y}<br>year_month=2020-02<br>number of cases=%{x}<extra></extra>",
         "ids": [
          "Flevoland"
         ],
         "legendgroup": "Flevoland",
         "marker": {
          "color": "#EF553B",
          "pattern": {
           "shape": ""
          }
         },
         "name": "Flevoland",
         "offsetgroup": "Flevoland",
         "orientation": "h",
         "showlegend": true,
         "textposition": "auto",
         "type": "bar",
         "x": [
          0
         ],
         "xaxis": "x",
         "y": [
          "Flevoland"
         ],
         "yaxis": "y"
        },
        {
         "alignmentgroup": "True",
         "hovertemplate": "province=%{y}<br>year_month=2020-02<br>number of cases=%{x}<extra></extra>",
         "ids": [
          "Friesland"
         ],
         "legendgroup": "Friesland",
         "marker": {
          "color": "#00cc96",
          "pattern": {
           "shape": ""
          }
         },
         "name": "Friesland",
         "offsetgroup": "Friesland",
         "orientation": "h",
         "showlegend": true,
         "textposition": "auto",
         "type": "bar",
         "x": [
          0
         ],
         "xaxis": "x",
         "y": [
          "Friesland"
         ],
         "yaxis": "y"
        },
        {
         "alignmentgroup": "True",
         "hovertemplate": "province=%{y}<br>year_month=2020-02<br>number of cases=%{x}<extra></extra>",
         "ids": [
          "Gelderland"
         ],
         "legendgroup": "Gelderland",
         "marker": {
          "color": "#ab63fa",
          "pattern": {
           "shape": ""
          }
         },
         "name": "Gelderland",
         "offsetgroup": "Gelderland",
         "orientation": "h",
         "showlegend": true,
         "textposition": "auto",
         "type": "bar",
         "x": [
          0
         ],
         "xaxis": "x",
         "y": [
          "Gelderland"
         ],
         "yaxis": "y"
        },
        {
         "alignmentgroup": "True",
         "hovertemplate": "province=%{y}<br>year_month=2020-02<br>number of cases=%{x}<extra></extra>",
         "ids": [
          "Groningen"
         ],
         "legendgroup": "Groningen",
         "marker": {
          "color": "#FFA15A",
          "pattern": {
           "shape": ""
          }
         },
         "name": "Groningen",
         "offsetgroup": "Groningen",
         "orientation": "h",
         "showlegend": true,
         "textposition": "auto",
         "type": "bar",
         "x": [
          0
         ],
         "xaxis": "x",
         "y": [
          "Groningen"
         ],
         "yaxis": "y"
        },
        {
         "alignmentgroup": "True",
         "hovertemplate": "province=%{y}<br>year_month=2020-02<br>number of cases=%{x}<extra></extra>",
         "ids": [
          "Noord-Brabant"
         ],
         "legendgroup": "Noord-Brabant",
         "marker": {
          "color": "#19d3f3",
          "pattern": {
           "shape": ""
          }
         },
         "name": "Noord-Brabant",
         "offsetgroup": "Noord-Brabant",
         "orientation": "h",
         "showlegend": true,
         "textposition": "auto",
         "type": "bar",
         "x": [
          2
         ],
         "xaxis": "x",
         "y": [
          "Noord-Brabant"
         ],
         "yaxis": "y"
        },
        {
         "alignmentgroup": "True",
         "hovertemplate": "province=%{y}<br>year_month=2020-02<br>number of cases=%{x}<extra></extra>",
         "ids": [
          "Noord-Holland"
         ],
         "legendgroup": "Noord-Holland",
         "marker": {
          "color": "#FF6692",
          "pattern": {
           "shape": ""
          }
         },
         "name": "Noord-Holland",
         "offsetgroup": "Noord-Holland",
         "orientation": "h",
         "showlegend": true,
         "textposition": "auto",
         "type": "bar",
         "x": [
          3
         ],
         "xaxis": "x",
         "y": [
          "Noord-Holland"
         ],
         "yaxis": "y"
        },
        {
         "alignmentgroup": "True",
         "hovertemplate": "province=%{y}<br>year_month=2020-02<br>number of cases=%{x}<extra></extra>",
         "ids": [
          "Overijssel"
         ],
         "legendgroup": "Overijssel",
         "marker": {
          "color": "#B6E880",
          "pattern": {
           "shape": ""
          }
         },
         "name": "Overijssel",
         "offsetgroup": "Overijssel",
         "orientation": "h",
         "showlegend": true,
         "textposition": "auto",
         "type": "bar",
         "x": [
          0
         ],
         "xaxis": "x",
         "y": [
          "Overijssel"
         ],
         "yaxis": "y"
        },
        {
         "alignmentgroup": "True",
         "hovertemplate": "province=%{y}<br>year_month=2020-02<br>number of cases=%{x}<extra></extra>",
         "ids": [
          "Utrecht"
         ],
         "legendgroup": "Utrecht",
         "marker": {
          "color": "#FF97FF",
          "pattern": {
           "shape": ""
          }
         },
         "name": "Utrecht",
         "offsetgroup": "Utrecht",
         "orientation": "h",
         "showlegend": true,
         "textposition": "auto",
         "type": "bar",
         "x": [
          0
         ],
         "xaxis": "x",
         "y": [
          "Utrecht"
         ],
         "yaxis": "y"
        },
        {
         "alignmentgroup": "True",
         "hovertemplate": "province=%{y}<br>year_month=2020-02<br>number of cases=%{x}<extra></extra>",
         "ids": [
          "Zeeland"
         ],
         "legendgroup": "Zeeland",
         "marker": {
          "color": "#FECB52",
          "pattern": {
           "shape": ""
          }
         },
         "name": "Zeeland",
         "offsetgroup": "Zeeland",
         "orientation": "h",
         "showlegend": true,
         "textposition": "auto",
         "type": "bar",
         "x": [
          0
         ],
         "xaxis": "x",
         "y": [
          "Zeeland"
         ],
         "yaxis": "y"
        },
        {
         "alignmentgroup": "True",
         "hovertemplate": "province=%{y}<br>year_month=2020-02<br>number of cases=%{x}<extra></extra>",
         "ids": [
          "Zuid-Holland"
         ],
         "legendgroup": "Zuid-Holland",
         "marker": {
          "color": "#636efa",
          "pattern": {
           "shape": ""
          }
         },
         "name": "Zuid-Holland",
         "offsetgroup": "Zuid-Holland",
         "orientation": "h",
         "showlegend": true,
         "textposition": "auto",
         "type": "bar",
         "x": [
          1
         ],
         "xaxis": "x",
         "y": [
          "Zuid-Holland"
         ],
         "yaxis": "y"
        },
        {
         "alignmentgroup": "True",
         "hovertemplate": "province=%{y}<br>year_month=2020-02<br>number of cases=%{x}<extra></extra>",
         "ids": [
          "Zuid-Limburg"
         ],
         "legendgroup": "Zuid-Limburg",
         "marker": {
          "color": "#EF553B",
          "pattern": {
           "shape": ""
          }
         },
         "name": "Zuid-Limburg",
         "offsetgroup": "Zuid-Limburg",
         "orientation": "h",
         "showlegend": true,
         "textposition": "auto",
         "type": "bar",
         "x": [
          0
         ],
         "xaxis": "x",
         "y": [
          "Zuid-Limburg"
         ],
         "yaxis": "y"
        }
       ],
       "frames": [
        {
         "data": [
          {
           "alignmentgroup": "True",
           "hovertemplate": "province=%{y}<br>year_month=2020-02<br>number of cases=%{x}<extra></extra>",
           "ids": [
            "Drenthe"
           ],
           "legendgroup": "Drenthe",
           "marker": {
            "color": "#636efa",
            "pattern": {
             "shape": ""
            }
           },
           "name": "Drenthe",
           "offsetgroup": "Drenthe",
           "orientation": "h",
           "showlegend": true,
           "textposition": "auto",
           "type": "bar",
           "x": [
            0
           ],
           "xaxis": "x",
           "y": [
            "Drenthe"
           ],
           "yaxis": "y"
          },
          {
           "alignmentgroup": "True",
           "hovertemplate": "province=%{y}<br>year_month=2020-02<br>number of cases=%{x}<extra></extra>",
           "ids": [
            "Flevoland"
           ],
           "legendgroup": "Flevoland",
           "marker": {
            "color": "#EF553B",
            "pattern": {
             "shape": ""
            }
           },
           "name": "Flevoland",
           "offsetgroup": "Flevoland",
           "orientation": "h",
           "showlegend": true,
           "textposition": "auto",
           "type": "bar",
           "x": [
            0
           ],
           "xaxis": "x",
           "y": [
            "Flevoland"
           ],
           "yaxis": "y"
          },
          {
           "alignmentgroup": "True",
           "hovertemplate": "province=%{y}<br>year_month=2020-02<br>number of cases=%{x}<extra></extra>",
           "ids": [
            "Friesland"
           ],
           "legendgroup": "Friesland",
           "marker": {
            "color": "#00cc96",
            "pattern": {
             "shape": ""
            }
           },
           "name": "Friesland",
           "offsetgroup": "Friesland",
           "orientation": "h",
           "showlegend": true,
           "textposition": "auto",
           "type": "bar",
           "x": [
            0
           ],
           "xaxis": "x",
           "y": [
            "Friesland"
           ],
           "yaxis": "y"
          },
          {
           "alignmentgroup": "True",
           "hovertemplate": "province=%{y}<br>year_month=2020-02<br>number of cases=%{x}<extra></extra>",
           "ids": [
            "Gelderland"
           ],
           "legendgroup": "Gelderland",
           "marker": {
            "color": "#ab63fa",
            "pattern": {
             "shape": ""
            }
           },
           "name": "Gelderland",
           "offsetgroup": "Gelderland",
           "orientation": "h",
           "showlegend": true,
           "textposition": "auto",
           "type": "bar",
           "x": [
            0
           ],
           "xaxis": "x",
           "y": [
            "Gelderland"
           ],
           "yaxis": "y"
          },
          {
           "alignmentgroup": "True",
           "hovertemplate": "province=%{y}<br>year_month=2020-02<br>number of cases=%{x}<extra></extra>",
           "ids": [
            "Groningen"
           ],
           "legendgroup": "Groningen",
           "marker": {
            "color": "#FFA15A",
            "pattern": {
             "shape": ""
            }
           },
           "name": "Groningen",
           "offsetgroup": "Groningen",
           "orientation": "h",
           "showlegend": true,
           "textposition": "auto",
           "type": "bar",
           "x": [
            0
           ],
           "xaxis": "x",
           "y": [
            "Groningen"
           ],
           "yaxis": "y"
          },
          {
           "alignmentgroup": "True",
           "hovertemplate": "province=%{y}<br>year_month=2020-02<br>number of cases=%{x}<extra></extra>",
           "ids": [
            "Noord-Brabant"
           ],
           "legendgroup": "Noord-Brabant",
           "marker": {
            "color": "#19d3f3",
            "pattern": {
             "shape": ""
            }
           },
           "name": "Noord-Brabant",
           "offsetgroup": "Noord-Brabant",
           "orientation": "h",
           "showlegend": true,
           "textposition": "auto",
           "type": "bar",
           "x": [
            2
           ],
           "xaxis": "x",
           "y": [
            "Noord-Brabant"
           ],
           "yaxis": "y"
          },
          {
           "alignmentgroup": "True",
           "hovertemplate": "province=%{y}<br>year_month=2020-02<br>number of cases=%{x}<extra></extra>",
           "ids": [
            "Noord-Holland"
           ],
           "legendgroup": "Noord-Holland",
           "marker": {
            "color": "#FF6692",
            "pattern": {
             "shape": ""
            }
           },
           "name": "Noord-Holland",
           "offsetgroup": "Noord-Holland",
           "orientation": "h",
           "showlegend": true,
           "textposition": "auto",
           "type": "bar",
           "x": [
            3
           ],
           "xaxis": "x",
           "y": [
            "Noord-Holland"
           ],
           "yaxis": "y"
          },
          {
           "alignmentgroup": "True",
           "hovertemplate": "province=%{y}<br>year_month=2020-02<br>number of cases=%{x}<extra></extra>",
           "ids": [
            "Overijssel"
           ],
           "legendgroup": "Overijssel",
           "marker": {
            "color": "#B6E880",
            "pattern": {
             "shape": ""
            }
           },
           "name": "Overijssel",
           "offsetgroup": "Overijssel",
           "orientation": "h",
           "showlegend": true,
           "textposition": "auto",
           "type": "bar",
           "x": [
            0
           ],
           "xaxis": "x",
           "y": [
            "Overijssel"
           ],
           "yaxis": "y"
          },
          {
           "alignmentgroup": "True",
           "hovertemplate": "province=%{y}<br>year_month=2020-02<br>number of cases=%{x}<extra></extra>",
           "ids": [
            "Utrecht"
           ],
           "legendgroup": "Utrecht",
           "marker": {
            "color": "#FF97FF",
            "pattern": {
             "shape": ""
            }
           },
           "name": "Utrecht",
           "offsetgroup": "Utrecht",
           "orientation": "h",
           "showlegend": true,
           "textposition": "auto",
           "type": "bar",
           "x": [
            0
           ],
           "xaxis": "x",
           "y": [
            "Utrecht"
           ],
           "yaxis": "y"
          },
          {
           "alignmentgroup": "True",
           "hovertemplate": "province=%{y}<br>year_month=2020-02<br>number of cases=%{x}<extra></extra>",
           "ids": [
            "Zeeland"
           ],
           "legendgroup": "Zeeland",
           "marker": {
            "color": "#FECB52",
            "pattern": {
             "shape": ""
            }
           },
           "name": "Zeeland",
           "offsetgroup": "Zeeland",
           "orientation": "h",
           "showlegend": true,
           "textposition": "auto",
           "type": "bar",
           "x": [
            0
           ],
           "xaxis": "x",
           "y": [
            "Zeeland"
           ],
           "yaxis": "y"
          },
          {
           "alignmentgroup": "True",
           "hovertemplate": "province=%{y}<br>year_month=2020-02<br>number of cases=%{x}<extra></extra>",
           "ids": [
            "Zuid-Holland"
           ],
           "legendgroup": "Zuid-Holland",
           "marker": {
            "color": "#636efa",
            "pattern": {
             "shape": ""
            }
           },
           "name": "Zuid-Holland",
           "offsetgroup": "Zuid-Holland",
           "orientation": "h",
           "showlegend": true,
           "textposition": "auto",
           "type": "bar",
           "x": [
            1
           ],
           "xaxis": "x",
           "y": [
            "Zuid-Holland"
           ],
           "yaxis": "y"
          },
          {
           "alignmentgroup": "True",
           "hovertemplate": "province=%{y}<br>year_month=2020-02<br>number of cases=%{x}<extra></extra>",
           "ids": [
            "Zuid-Limburg"
           ],
           "legendgroup": "Zuid-Limburg",
           "marker": {
            "color": "#EF553B",
            "pattern": {
             "shape": ""
            }
           },
           "name": "Zuid-Limburg",
           "offsetgroup": "Zuid-Limburg",
           "orientation": "h",
           "showlegend": true,
           "textposition": "auto",
           "type": "bar",
           "x": [
            0
           ],
           "xaxis": "x",
           "y": [
            "Zuid-Limburg"
           ],
           "yaxis": "y"
          }
         ],
         "name": "2020-02"
        },
        {
         "data": [
          {
           "alignmentgroup": "True",
           "hovertemplate": "province=%{y}<br>year_month=2020-03<br>number of cases=%{x}<extra></extra>",
           "ids": [
            "Drenthe"
           ],
           "legendgroup": "Drenthe",
           "marker": {
            "color": "#636efa",
            "pattern": {
             "shape": ""
            }
           },
           "name": "Drenthe",
           "offsetgroup": "Drenthe",
           "orientation": "h",
           "showlegend": true,
           "textposition": "auto",
           "type": "bar",
           "x": [
            123
           ],
           "xaxis": "x",
           "y": [
            "Drenthe"
           ],
           "yaxis": "y"
          },
          {
           "alignmentgroup": "True",
           "hovertemplate": "province=%{y}<br>year_month=2020-03<br>number of cases=%{x}<extra></extra>",
           "ids": [
            "Flevoland"
           ],
           "legendgroup": "Flevoland",
           "marker": {
            "color": "#EF553B",
            "pattern": {
             "shape": ""
            }
           },
           "name": "Flevoland",
           "offsetgroup": "Flevoland",
           "orientation": "h",
           "showlegend": true,
           "textposition": "auto",
           "type": "bar",
           "x": [
            161
           ],
           "xaxis": "x",
           "y": [
            "Flevoland"
           ],
           "yaxis": "y"
          },
          {
           "alignmentgroup": "True",
           "hovertemplate": "province=%{y}<br>year_month=2020-03<br>number of cases=%{x}<extra></extra>",
           "ids": [
            "Friesland"
           ],
           "legendgroup": "Friesland",
           "marker": {
            "color": "#00cc96",
            "pattern": {
             "shape": ""
            }
           },
           "name": "Friesland",
           "offsetgroup": "Friesland",
           "orientation": "h",
           "showlegend": true,
           "textposition": "auto",
           "type": "bar",
           "x": [
            131
           ],
           "xaxis": "x",
           "y": [
            "Friesland"
           ],
           "yaxis": "y"
          },
          {
           "alignmentgroup": "True",
           "hovertemplate": "province=%{y}<br>year_month=2020-03<br>number of cases=%{x}<extra></extra>",
           "ids": [
            "Gelderland"
           ],
           "legendgroup": "Gelderland",
           "marker": {
            "color": "#ab63fa",
            "pattern": {
             "shape": ""
            }
           },
           "name": "Gelderland",
           "offsetgroup": "Gelderland",
           "orientation": "h",
           "showlegend": true,
           "textposition": "auto",
           "type": "bar",
           "x": [
            1455
           ],
           "xaxis": "x",
           "y": [
            "Gelderland"
           ],
           "yaxis": "y"
          },
          {
           "alignmentgroup": "True",
           "hovertemplate": "province=%{y}<br>year_month=2020-03<br>number of cases=%{x}<extra></extra>",
           "ids": [
            "Groningen"
           ],
           "legendgroup": "Groningen",
           "marker": {
            "color": "#FFA15A",
            "pattern": {
             "shape": ""
            }
           },
           "name": "Groningen",
           "offsetgroup": "Groningen",
           "orientation": "h",
           "showlegend": true,
           "textposition": "auto",
           "type": "bar",
           "x": [
            158
           ],
           "xaxis": "x",
           "y": [
            "Groningen"
           ],
           "yaxis": "y"
          },
          {
           "alignmentgroup": "True",
           "hovertemplate": "province=%{y}<br>year_month=2020-03<br>number of cases=%{x}<extra></extra>",
           "ids": [
            "Noord-Brabant"
           ],
           "legendgroup": "Noord-Brabant",
           "marker": {
            "color": "#19d3f3",
            "pattern": {
             "shape": ""
            }
           },
           "name": "Noord-Brabant",
           "offsetgroup": "Noord-Brabant",
           "orientation": "h",
           "showlegend": true,
           "textposition": "auto",
           "type": "bar",
           "x": [
            3372
           ],
           "xaxis": "x",
           "y": [
            "Noord-Brabant"
           ],
           "yaxis": "y"
          },
          {
           "alignmentgroup": "True",
           "hovertemplate": "province=%{y}<br>year_month=2020-03<br>number of cases=%{x}<extra></extra>",
           "ids": [
            "Noord-Holland"
           ],
           "legendgroup": "Noord-Holland",
           "marker": {
            "color": "#FF6692",
            "pattern": {
             "shape": ""
            }
           },
           "name": "Noord-Holland",
           "offsetgroup": "Noord-Holland",
           "orientation": "h",
           "showlegend": true,
           "textposition": "auto",
           "type": "bar",
           "x": [
            1807
           ],
           "xaxis": "x",
           "y": [
            "Noord-Holland"
           ],
           "yaxis": "y"
          },
          {
           "alignmentgroup": "True",
           "hovertemplate": "province=%{y}<br>year_month=2020-03<br>number of cases=%{x}<extra></extra>",
           "ids": [
            "Overijssel"
           ],
           "legendgroup": "Overijssel",
           "marker": {
            "color": "#B6E880",
            "pattern": {
             "shape": ""
            }
           },
           "name": "Overijssel",
           "offsetgroup": "Overijssel",
           "orientation": "h",
           "showlegend": true,
           "textposition": "auto",
           "type": "bar",
           "x": [
            686
           ],
           "xaxis": "x",
           "y": [
            "Overijssel"
           ],
           "yaxis": "y"
          },
          {
           "alignmentgroup": "True",
           "hovertemplate": "province=%{y}<br>year_month=2020-03<br>number of cases=%{x}<extra></extra>",
           "ids": [
            "Utrecht"
           ],
           "legendgroup": "Utrecht",
           "marker": {
            "color": "#FF97FF",
            "pattern": {
             "shape": ""
            }
           },
           "name": "Utrecht",
           "offsetgroup": "Utrecht",
           "orientation": "h",
           "showlegend": true,
           "textposition": "auto",
           "type": "bar",
           "x": [
            1024
           ],
           "xaxis": "x",
           "y": [
            "Utrecht"
           ],
           "yaxis": "y"
          },
          {
           "alignmentgroup": "True",
           "hovertemplate": "province=%{y}<br>year_month=2020-03<br>number of cases=%{x}<extra></extra>",
           "ids": [
            "Zeeland"
           ],
           "legendgroup": "Zeeland",
           "marker": {
            "color": "#FECB52",
            "pattern": {
             "shape": ""
            }
           },
           "name": "Zeeland",
           "offsetgroup": "Zeeland",
           "orientation": "h",
           "showlegend": true,
           "textposition": "auto",
           "type": "bar",
           "x": [
            160
           ],
           "xaxis": "x",
           "y": [
            "Zeeland"
           ],
           "yaxis": "y"
          },
          {
           "alignmentgroup": "True",
           "hovertemplate": "province=%{y}<br>year_month=2020-03<br>number of cases=%{x}<extra></extra>",
           "ids": [
            "Zuid-Holland"
           ],
           "legendgroup": "Zuid-Holland",
           "marker": {
            "color": "#636efa",
            "pattern": {
             "shape": ""
            }
           },
           "name": "Zuid-Holland",
           "offsetgroup": "Zuid-Holland",
           "orientation": "h",
           "showlegend": true,
           "textposition": "auto",
           "type": "bar",
           "x": [
            1931
           ],
           "xaxis": "x",
           "y": [
            "Zuid-Holland"
           ],
           "yaxis": "y"
          },
          {
           "alignmentgroup": "True",
           "hovertemplate": "province=%{y}<br>year_month=2020-03<br>number of cases=%{x}<extra></extra>",
           "ids": [
            "Zuid-Limburg"
           ],
           "legendgroup": "Zuid-Limburg",
           "marker": {
            "color": "#EF553B",
            "pattern": {
             "shape": ""
            }
           },
           "name": "Zuid-Limburg",
           "offsetgroup": "Zuid-Limburg",
           "orientation": "h",
           "showlegend": true,
           "textposition": "auto",
           "type": "bar",
           "x": [
            1402
           ],
           "xaxis": "x",
           "y": [
            "Zuid-Limburg"
           ],
           "yaxis": "y"
          }
         ],
         "name": "2020-03"
        },
        {
         "data": [
          {
           "alignmentgroup": "True",
           "hovertemplate": "province=%{y}<br>year_month=2020-04<br>number of cases=%{x}<extra></extra>",
           "ids": [
            "Drenthe"
           ],
           "legendgroup": "Drenthe",
           "marker": {
            "color": "#636efa",
            "pattern": {
             "shape": ""
            }
           },
           "name": "Drenthe",
           "offsetgroup": "Drenthe",
           "orientation": "h",
           "showlegend": true,
           "textposition": "auto",
           "type": "bar",
           "x": [
            350
           ],
           "xaxis": "x",
           "y": [
            "Drenthe"
           ],
           "yaxis": "y"
          },
          {
           "alignmentgroup": "True",
           "hovertemplate": "province=%{y}<br>year_month=2020-04<br>number of cases=%{x}<extra></extra>",
           "ids": [
            "Flevoland"
           ],
           "legendgroup": "Flevoland",
           "marker": {
            "color": "#EF553B",
            "pattern": {
             "shape": ""
            }
           },
           "name": "Flevoland",
           "offsetgroup": "Flevoland",
           "orientation": "h",
           "showlegend": true,
           "textposition": "auto",
           "type": "bar",
           "x": [
            571
           ],
           "xaxis": "x",
           "y": [
            "Flevoland"
           ],
           "yaxis": "y"
          },
          {
           "alignmentgroup": "True",
           "hovertemplate": "province=%{y}<br>year_month=2020-04<br>number of cases=%{x}<extra></extra>",
           "ids": [
            "Friesland"
           ],
           "legendgroup": "Friesland",
           "marker": {
            "color": "#00cc96",
            "pattern": {
             "shape": ""
            }
           },
           "name": "Friesland",
           "offsetgroup": "Friesland",
           "orientation": "h",
           "showlegend": true,
           "textposition": "auto",
           "type": "bar",
           "x": [
            398
           ],
           "xaxis": "x",
           "y": [
            "Friesland"
           ],
           "yaxis": "y"
          },
          {
           "alignmentgroup": "True",
           "hovertemplate": "province=%{y}<br>year_month=2020-04<br>number of cases=%{x}<extra></extra>",
           "ids": [
            "Gelderland"
           ],
           "legendgroup": "Gelderland",
           "marker": {
            "color": "#ab63fa",
            "pattern": {
             "shape": ""
            }
           },
           "name": "Gelderland",
           "offsetgroup": "Gelderland",
           "orientation": "h",
           "showlegend": true,
           "textposition": "auto",
           "type": "bar",
           "x": [
            3547
           ],
           "xaxis": "x",
           "y": [
            "Gelderland"
           ],
           "yaxis": "y"
          },
          {
           "alignmentgroup": "True",
           "hovertemplate": "province=%{y}<br>year_month=2020-04<br>number of cases=%{x}<extra></extra>",
           "ids": [
            "Groningen"
           ],
           "legendgroup": "Groningen",
           "marker": {
            "color": "#FFA15A",
            "pattern": {
             "shape": ""
            }
           },
           "name": "Groningen",
           "offsetgroup": "Groningen",
           "orientation": "h",
           "showlegend": true,
           "textposition": "auto",
           "type": "bar",
           "x": [
            172
           ],
           "xaxis": "x",
           "y": [
            "Groningen"
           ],
           "yaxis": "y"
          },
          {
           "alignmentgroup": "True",
           "hovertemplate": "province=%{y}<br>year_month=2020-04<br>number of cases=%{x}<extra></extra>",
           "ids": [
            "Noord-Brabant"
           ],
           "legendgroup": "Noord-Brabant",
           "marker": {
            "color": "#19d3f3",
            "pattern": {
             "shape": ""
            }
           },
           "name": "Noord-Brabant",
           "offsetgroup": "Noord-Brabant",
           "orientation": "h",
           "showlegend": true,
           "textposition": "auto",
           "type": "bar",
           "x": [
            4589
           ],
           "xaxis": "x",
           "y": [
            "Noord-Brabant"
           ],
           "yaxis": "y"
          },
          {
           "alignmentgroup": "True",
           "hovertemplate": "province=%{y}<br>year_month=2020-04<br>number of cases=%{x}<extra></extra>",
           "ids": [
            "Noord-Holland"
           ],
           "legendgroup": "Noord-Holland",
           "marker": {
            "color": "#FF6692",
            "pattern": {
             "shape": ""
            }
           },
           "name": "Noord-Holland",
           "offsetgroup": "Noord-Holland",
           "orientation": "h",
           "showlegend": true,
           "textposition": "auto",
           "type": "bar",
           "x": [
            3865
           ],
           "xaxis": "x",
           "y": [
            "Noord-Holland"
           ],
           "yaxis": "y"
          },
          {
           "alignmentgroup": "True",
           "hovertemplate": "province=%{y}<br>year_month=2020-04<br>number of cases=%{x}<extra></extra>",
           "ids": [
            "Overijssel"
           ],
           "legendgroup": "Overijssel",
           "marker": {
            "color": "#B6E880",
            "pattern": {
             "shape": ""
            }
           },
           "name": "Overijssel",
           "offsetgroup": "Overijssel",
           "orientation": "h",
           "showlegend": true,
           "textposition": "auto",
           "type": "bar",
           "x": [
            2001
           ],
           "xaxis": "x",
           "y": [
            "Overijssel"
           ],
           "yaxis": "y"
          },
          {
           "alignmentgroup": "True",
           "hovertemplate": "province=%{y}<br>year_month=2020-04<br>number of cases=%{x}<extra></extra>",
           "ids": [
            "Utrecht"
           ],
           "legendgroup": "Utrecht",
           "marker": {
            "color": "#FF97FF",
            "pattern": {
             "shape": ""
            }
           },
           "name": "Utrecht",
           "offsetgroup": "Utrecht",
           "orientation": "h",
           "showlegend": true,
           "textposition": "auto",
           "type": "bar",
           "x": [
            1778
           ],
           "xaxis": "x",
           "y": [
            "Utrecht"
           ],
           "yaxis": "y"
          },
          {
           "alignmentgroup": "True",
           "hovertemplate": "province=%{y}<br>year_month=2020-04<br>number of cases=%{x}<extra></extra>",
           "ids": [
            "Zeeland"
           ],
           "legendgroup": "Zeeland",
           "marker": {
            "color": "#FECB52",
            "pattern": {
             "shape": ""
            }
           },
           "name": "Zeeland",
           "offsetgroup": "Zeeland",
           "orientation": "h",
           "showlegend": true,
           "textposition": "auto",
           "type": "bar",
           "x": [
            420
           ],
           "xaxis": "x",
           "y": [
            "Zeeland"
           ],
           "yaxis": "y"
          },
          {
           "alignmentgroup": "True",
           "hovertemplate": "province=%{y}<br>year_month=2020-04<br>number of cases=%{x}<extra></extra>",
           "ids": [
            "Zuid-Holland"
           ],
           "legendgroup": "Zuid-Holland",
           "marker": {
            "color": "#636efa",
            "pattern": {
             "shape": ""
            }
           },
           "name": "Zuid-Holland",
           "offsetgroup": "Zuid-Holland",
           "orientation": "h",
           "showlegend": true,
           "textposition": "auto",
           "type": "bar",
           "x": [
            6140
           ],
           "xaxis": "x",
           "y": [
            "Zuid-Holland"
           ],
           "yaxis": "y"
          },
          {
           "alignmentgroup": "True",
           "hovertemplate": "province=%{y}<br>year_month=2020-04<br>number of cases=%{x}<extra></extra>",
           "ids": [
            "Zuid-Limburg"
           ],
           "legendgroup": "Zuid-Limburg",
           "marker": {
            "color": "#EF553B",
            "pattern": {
             "shape": ""
            }
           },
           "name": "Zuid-Limburg",
           "offsetgroup": "Zuid-Limburg",
           "orientation": "h",
           "showlegend": true,
           "textposition": "auto",
           "type": "bar",
           "x": [
            2681
           ],
           "xaxis": "x",
           "y": [
            "Zuid-Limburg"
           ],
           "yaxis": "y"
          }
         ],
         "name": "2020-04"
        },
        {
         "data": [
          {
           "alignmentgroup": "True",
           "hovertemplate": "province=%{y}<br>year_month=2020-05<br>number of cases=%{x}<extra></extra>",
           "ids": [
            "Drenthe"
           ],
           "legendgroup": "Drenthe",
           "marker": {
            "color": "#636efa",
            "pattern": {
             "shape": ""
            }
           },
           "name": "Drenthe",
           "offsetgroup": "Drenthe",
           "orientation": "h",
           "showlegend": true,
           "textposition": "auto",
           "type": "bar",
           "x": [
            38
           ],
           "xaxis": "x",
           "y": [
            "Drenthe"
           ],
           "yaxis": "y"
          },
          {
           "alignmentgroup": "True",
           "hovertemplate": "province=%{y}<br>year_month=2020-05<br>number of cases=%{x}<extra></extra>",
           "ids": [
            "Flevoland"
           ],
           "legendgroup": "Flevoland",
           "marker": {
            "color": "#EF553B",
            "pattern": {
             "shape": ""
            }
           },
           "name": "Flevoland",
           "offsetgroup": "Flevoland",
           "orientation": "h",
           "showlegend": true,
           "textposition": "auto",
           "type": "bar",
           "x": [
            194
           ],
           "xaxis": "x",
           "y": [
            "Flevoland"
           ],
           "yaxis": "y"
          },
          {
           "alignmentgroup": "True",
           "hovertemplate": "province=%{y}<br>year_month=2020-05<br>number of cases=%{x}<extra></extra>",
           "ids": [
            "Friesland"
           ],
           "legendgroup": "Friesland",
           "marker": {
            "color": "#00cc96",
            "pattern": {
             "shape": ""
            }
           },
           "name": "Friesland",
           "offsetgroup": "Friesland",
           "orientation": "h",
           "showlegend": true,
           "textposition": "auto",
           "type": "bar",
           "x": [
            79
           ],
           "xaxis": "x",
           "y": [
            "Friesland"
           ],
           "yaxis": "y"
          },
          {
           "alignmentgroup": "True",
           "hovertemplate": "province=%{y}<br>year_month=2020-05<br>number of cases=%{x}<extra></extra>",
           "ids": [
            "Gelderland"
           ],
           "legendgroup": "Gelderland",
           "marker": {
            "color": "#ab63fa",
            "pattern": {
             "shape": ""
            }
           },
           "name": "Gelderland",
           "offsetgroup": "Gelderland",
           "orientation": "h",
           "showlegend": true,
           "textposition": "auto",
           "type": "bar",
           "x": [
            953
           ],
           "xaxis": "x",
           "y": [
            "Gelderland"
           ],
           "yaxis": "y"
          },
          {
           "alignmentgroup": "True",
           "hovertemplate": "province=%{y}<br>year_month=2020-05<br>number of cases=%{x}<extra></extra>",
           "ids": [
            "Groningen"
           ],
           "legendgroup": "Groningen",
           "marker": {
            "color": "#FFA15A",
            "pattern": {
             "shape": ""
            }
           },
           "name": "Groningen",
           "offsetgroup": "Groningen",
           "orientation": "h",
           "showlegend": true,
           "textposition": "auto",
           "type": "bar",
           "x": [
            19
           ],
           "xaxis": "x",
           "y": [
            "Groningen"
           ],
           "yaxis": "y"
          },
          {
           "alignmentgroup": "True",
           "hovertemplate": "province=%{y}<br>year_month=2020-05<br>number of cases=%{x}<extra></extra>",
           "ids": [
            "Noord-Brabant"
           ],
           "legendgroup": "Noord-Brabant",
           "marker": {
            "color": "#19d3f3",
            "pattern": {
             "shape": ""
            }
           },
           "name": "Noord-Brabant",
           "offsetgroup": "Noord-Brabant",
           "orientation": "h",
           "showlegend": true,
           "textposition": "auto",
           "type": "bar",
           "x": [
            1039
           ],
           "xaxis": "x",
           "y": [
            "Noord-Brabant"
           ],
           "yaxis": "y"
          },
          {
           "alignmentgroup": "True",
           "hovertemplate": "province=%{y}<br>year_month=2020-05<br>number of cases=%{x}<extra></extra>",
           "ids": [
            "Noord-Holland"
           ],
           "legendgroup": "Noord-Holland",
           "marker": {
            "color": "#FF6692",
            "pattern": {
             "shape": ""
            }
           },
           "name": "Noord-Holland",
           "offsetgroup": "Noord-Holland",
           "orientation": "h",
           "showlegend": true,
           "textposition": "auto",
           "type": "bar",
           "x": [
            1020
           ],
           "xaxis": "x",
           "y": [
            "Noord-Holland"
           ],
           "yaxis": "y"
          },
          {
           "alignmentgroup": "True",
           "hovertemplate": "province=%{y}<br>year_month=2020-05<br>number of cases=%{x}<extra></extra>",
           "ids": [
            "Overijssel"
           ],
           "legendgroup": "Overijssel",
           "marker": {
            "color": "#B6E880",
            "pattern": {
             "shape": ""
            }
           },
           "name": "Overijssel",
           "offsetgroup": "Overijssel",
           "orientation": "h",
           "showlegend": true,
           "textposition": "auto",
           "type": "bar",
           "x": [
            294
           ],
           "xaxis": "x",
           "y": [
            "Overijssel"
           ],
           "yaxis": "y"
          },
          {
           "alignmentgroup": "True",
           "hovertemplate": "province=%{y}<br>year_month=2020-05<br>number of cases=%{x}<extra></extra>",
           "ids": [
            "Utrecht"
           ],
           "legendgroup": "Utrecht",
           "marker": {
            "color": "#FF97FF",
            "pattern": {
             "shape": ""
            }
           },
           "name": "Utrecht",
           "offsetgroup": "Utrecht",
           "orientation": "h",
           "showlegend": true,
           "textposition": "auto",
           "type": "bar",
           "x": [
            806
           ],
           "xaxis": "x",
           "y": [
            "Utrecht"
           ],
           "yaxis": "y"
          },
          {
           "alignmentgroup": "True",
           "hovertemplate": "province=%{y}<br>year_month=2020-05<br>number of cases=%{x}<extra></extra>",
           "ids": [
            "Zeeland"
           ],
           "legendgroup": "Zeeland",
           "marker": {
            "color": "#FECB52",
            "pattern": {
             "shape": ""
            }
           },
           "name": "Zeeland",
           "offsetgroup": "Zeeland",
           "orientation": "h",
           "showlegend": true,
           "textposition": "auto",
           "type": "bar",
           "x": [
            112
           ],
           "xaxis": "x",
           "y": [
            "Zeeland"
           ],
           "yaxis": "y"
          },
          {
           "alignmentgroup": "True",
           "hovertemplate": "province=%{y}<br>year_month=2020-05<br>number of cases=%{x}<extra></extra>",
           "ids": [
            "Zuid-Holland"
           ],
           "legendgroup": "Zuid-Holland",
           "marker": {
            "color": "#636efa",
            "pattern": {
             "shape": ""
            }
           },
           "name": "Zuid-Holland",
           "offsetgroup": "Zuid-Holland",
           "orientation": "h",
           "showlegend": true,
           "textposition": "auto",
           "type": "bar",
           "x": [
            1898
           ],
           "xaxis": "x",
           "y": [
            "Zuid-Holland"
           ],
           "yaxis": "y"
          },
          {
           "alignmentgroup": "True",
           "hovertemplate": "province=%{y}<br>year_month=2020-05<br>number of cases=%{x}<extra></extra>",
           "ids": [
            "Zuid-Limburg"
           ],
           "legendgroup": "Zuid-Limburg",
           "marker": {
            "color": "#EF553B",
            "pattern": {
             "shape": ""
            }
           },
           "name": "Zuid-Limburg",
           "offsetgroup": "Zuid-Limburg",
           "orientation": "h",
           "showlegend": true,
           "textposition": "auto",
           "type": "bar",
           "x": [
            595
           ],
           "xaxis": "x",
           "y": [
            "Zuid-Limburg"
           ],
           "yaxis": "y"
          }
         ],
         "name": "2020-05"
        },
        {
         "data": [
          {
           "alignmentgroup": "True",
           "hovertemplate": "province=%{y}<br>year_month=2020-06<br>number of cases=%{x}<extra></extra>",
           "ids": [
            "Drenthe"
           ],
           "legendgroup": "Drenthe",
           "marker": {
            "color": "#636efa",
            "pattern": {
             "shape": ""
            }
           },
           "name": "Drenthe",
           "offsetgroup": "Drenthe",
           "orientation": "h",
           "showlegend": true,
           "textposition": "auto",
           "type": "bar",
           "x": [
            22
           ],
           "xaxis": "x",
           "y": [
            "Drenthe"
           ],
           "yaxis": "y"
          },
          {
           "alignmentgroup": "True",
           "hovertemplate": "province=%{y}<br>year_month=2020-06<br>number of cases=%{x}<extra></extra>",
           "ids": [
            "Flevoland"
           ],
           "legendgroup": "Flevoland",
           "marker": {
            "color": "#EF553B",
            "pattern": {
             "shape": ""
            }
           },
           "name": "Flevoland",
           "offsetgroup": "Flevoland",
           "orientation": "h",
           "showlegend": true,
           "textposition": "auto",
           "type": "bar",
           "x": [
            58
           ],
           "xaxis": "x",
           "y": [
            "Flevoland"
           ],
           "yaxis": "y"
          },
          {
           "alignmentgroup": "True",
           "hovertemplate": "province=%{y}<br>year_month=2020-06<br>number of cases=%{x}<extra></extra>",
           "ids": [
            "Friesland"
           ],
           "legendgroup": "Friesland",
           "marker": {
            "color": "#00cc96",
            "pattern": {
             "shape": ""
            }
           },
           "name": "Friesland",
           "offsetgroup": "Friesland",
           "orientation": "h",
           "showlegend": true,
           "textposition": "auto",
           "type": "bar",
           "x": [
            23
           ],
           "xaxis": "x",
           "y": [
            "Friesland"
           ],
           "yaxis": "y"
          },
          {
           "alignmentgroup": "True",
           "hovertemplate": "province=%{y}<br>year_month=2020-06<br>number of cases=%{x}<extra></extra>",
           "ids": [
            "Gelderland"
           ],
           "legendgroup": "Gelderland",
           "marker": {
            "color": "#ab63fa",
            "pattern": {
             "shape": ""
            }
           },
           "name": "Gelderland",
           "offsetgroup": "Gelderland",
           "orientation": "h",
           "showlegend": true,
           "textposition": "auto",
           "type": "bar",
           "x": [
            517
           ],
           "xaxis": "x",
           "y": [
            "Gelderland"
           ],
           "yaxis": "y"
          },
          {
           "alignmentgroup": "True",
           "hovertemplate": "province=%{y}<br>year_month=2020-06<br>number of cases=%{x}<extra></extra>",
           "ids": [
            "Groningen"
           ],
           "legendgroup": "Groningen",
           "marker": {
            "color": "#FFA15A",
            "pattern": {
             "shape": ""
            }
           },
           "name": "Groningen",
           "offsetgroup": "Groningen",
           "orientation": "h",
           "showlegend": true,
           "textposition": "auto",
           "type": "bar",
           "x": [
            13
           ],
           "xaxis": "x",
           "y": [
            "Groningen"
           ],
           "yaxis": "y"
          },
          {
           "alignmentgroup": "True",
           "hovertemplate": "province=%{y}<br>year_month=2020-06<br>number of cases=%{x}<extra></extra>",
           "ids": [
            "Noord-Brabant"
           ],
           "legendgroup": "Noord-Brabant",
           "marker": {
            "color": "#19d3f3",
            "pattern": {
             "shape": ""
            }
           },
           "name": "Noord-Brabant",
           "offsetgroup": "Noord-Brabant",
           "orientation": "h",
           "showlegend": true,
           "textposition": "auto",
           "type": "bar",
           "x": [
            590
           ],
           "xaxis": "x",
           "y": [
            "Noord-Brabant"
           ],
           "yaxis": "y"
          },
          {
           "alignmentgroup": "True",
           "hovertemplate": "province=%{y}<br>year_month=2020-06<br>number of cases=%{x}<extra></extra>",
           "ids": [
            "Noord-Holland"
           ],
           "legendgroup": "Noord-Holland",
           "marker": {
            "color": "#FF6692",
            "pattern": {
             "shape": ""
            }
           },
           "name": "Noord-Holland",
           "offsetgroup": "Noord-Holland",
           "orientation": "h",
           "showlegend": true,
           "textposition": "auto",
           "type": "bar",
           "x": [
            544
           ],
           "xaxis": "x",
           "y": [
            "Noord-Holland"
           ],
           "yaxis": "y"
          },
          {
           "alignmentgroup": "True",
           "hovertemplate": "province=%{y}<br>year_month=2020-06<br>number of cases=%{x}<extra></extra>",
           "ids": [
            "Overijssel"
           ],
           "legendgroup": "Overijssel",
           "marker": {
            "color": "#B6E880",
            "pattern": {
             "shape": ""
            }
           },
           "name": "Overijssel",
           "offsetgroup": "Overijssel",
           "orientation": "h",
           "showlegend": true,
           "textposition": "auto",
           "type": "bar",
           "x": [
            117
           ],
           "xaxis": "x",
           "y": [
            "Overijssel"
           ],
           "yaxis": "y"
          },
          {
           "alignmentgroup": "True",
           "hovertemplate": "province=%{y}<br>year_month=2020-06<br>number of cases=%{x}<extra></extra>",
           "ids": [
            "Utrecht"
           ],
           "legendgroup": "Utrecht",
           "marker": {
            "color": "#FF97FF",
            "pattern": {
             "shape": ""
            }
           },
           "name": "Utrecht",
           "offsetgroup": "Utrecht",
           "orientation": "h",
           "showlegend": true,
           "textposition": "auto",
           "type": "bar",
           "x": [
            410
           ],
           "xaxis": "x",
           "y": [
            "Utrecht"
           ],
           "yaxis": "y"
          },
          {
           "alignmentgroup": "True",
           "hovertemplate": "province=%{y}<br>year_month=2020-06<br>number of cases=%{x}<extra></extra>",
           "ids": [
            "Zeeland"
           ],
           "legendgroup": "Zeeland",
           "marker": {
            "color": "#FECB52",
            "pattern": {
             "shape": ""
            }
           },
           "name": "Zeeland",
           "offsetgroup": "Zeeland",
           "orientation": "h",
           "showlegend": true,
           "textposition": "auto",
           "type": "bar",
           "x": [
            40
           ],
           "xaxis": "x",
           "y": [
            "Zeeland"
           ],
           "yaxis": "y"
          },
          {
           "alignmentgroup": "True",
           "hovertemplate": "province=%{y}<br>year_month=2020-06<br>number of cases=%{x}<extra></extra>",
           "ids": [
            "Zuid-Holland"
           ],
           "legendgroup": "Zuid-Holland",
           "marker": {
            "color": "#636efa",
            "pattern": {
             "shape": ""
            }
           },
           "name": "Zuid-Holland",
           "offsetgroup": "Zuid-Holland",
           "orientation": "h",
           "showlegend": true,
           "textposition": "auto",
           "type": "bar",
           "x": [
            1285
           ],
           "xaxis": "x",
           "y": [
            "Zuid-Holland"
           ],
           "yaxis": "y"
          },
          {
           "alignmentgroup": "True",
           "hovertemplate": "province=%{y}<br>year_month=2020-06<br>number of cases=%{x}<extra></extra>",
           "ids": [
            "Zuid-Limburg"
           ],
           "legendgroup": "Zuid-Limburg",
           "marker": {
            "color": "#EF553B",
            "pattern": {
             "shape": ""
            }
           },
           "name": "Zuid-Limburg",
           "offsetgroup": "Zuid-Limburg",
           "orientation": "h",
           "showlegend": true,
           "textposition": "auto",
           "type": "bar",
           "x": [
            185
           ],
           "xaxis": "x",
           "y": [
            "Zuid-Limburg"
           ],
           "yaxis": "y"
          }
         ],
         "name": "2020-06"
        },
        {
         "data": [
          {
           "alignmentgroup": "True",
           "hovertemplate": "province=%{y}<br>year_month=2020-07<br>number of cases=%{x}<extra></extra>",
           "ids": [
            "Drenthe"
           ],
           "legendgroup": "Drenthe",
           "marker": {
            "color": "#636efa",
            "pattern": {
             "shape": ""
            }
           },
           "name": "Drenthe",
           "offsetgroup": "Drenthe",
           "orientation": "h",
           "showlegend": true,
           "textposition": "auto",
           "type": "bar",
           "x": [
            18
           ],
           "xaxis": "x",
           "y": [
            "Drenthe"
           ],
           "yaxis": "y"
          },
          {
           "alignmentgroup": "True",
           "hovertemplate": "province=%{y}<br>year_month=2020-07<br>number of cases=%{x}<extra></extra>",
           "ids": [
            "Flevoland"
           ],
           "legendgroup": "Flevoland",
           "marker": {
            "color": "#EF553B",
            "pattern": {
             "shape": ""
            }
           },
           "name": "Flevoland",
           "offsetgroup": "Flevoland",
           "orientation": "h",
           "showlegend": true,
           "textposition": "auto",
           "type": "bar",
           "x": [
            23
           ],
           "xaxis": "x",
           "y": [
            "Flevoland"
           ],
           "yaxis": "y"
          },
          {
           "alignmentgroup": "True",
           "hovertemplate": "province=%{y}<br>year_month=2020-07<br>number of cases=%{x}<extra></extra>",
           "ids": [
            "Friesland"
           ],
           "legendgroup": "Friesland",
           "marker": {
            "color": "#00cc96",
            "pattern": {
             "shape": ""
            }
           },
           "name": "Friesland",
           "offsetgroup": "Friesland",
           "orientation": "h",
           "showlegend": true,
           "textposition": "auto",
           "type": "bar",
           "x": [
            21
           ],
           "xaxis": "x",
           "y": [
            "Friesland"
           ],
           "yaxis": "y"
          },
          {
           "alignmentgroup": "True",
           "hovertemplate": "province=%{y}<br>year_month=2020-07<br>number of cases=%{x}<extra></extra>",
           "ids": [
            "Gelderland"
           ],
           "legendgroup": "Gelderland",
           "marker": {
            "color": "#ab63fa",
            "pattern": {
             "shape": ""
            }
           },
           "name": "Gelderland",
           "offsetgroup": "Gelderland",
           "orientation": "h",
           "showlegend": true,
           "textposition": "auto",
           "type": "bar",
           "x": [
            148
           ],
           "xaxis": "x",
           "y": [
            "Gelderland"
           ],
           "yaxis": "y"
          },
          {
           "alignmentgroup": "True",
           "hovertemplate": "province=%{y}<br>year_month=2020-07<br>number of cases=%{x}<extra></extra>",
           "ids": [
            "Groningen"
           ],
           "legendgroup": "Groningen",
           "marker": {
            "color": "#FFA15A",
            "pattern": {
             "shape": ""
            }
           },
           "name": "Groningen",
           "offsetgroup": "Groningen",
           "orientation": "h",
           "showlegend": true,
           "textposition": "auto",
           "type": "bar",
           "x": [
            23
           ],
           "xaxis": "x",
           "y": [
            "Groningen"
           ],
           "yaxis": "y"
          },
          {
           "alignmentgroup": "True",
           "hovertemplate": "province=%{y}<br>year_month=2020-07<br>number of cases=%{x}<extra></extra>",
           "ids": [
            "Noord-Brabant"
           ],
           "legendgroup": "Noord-Brabant",
           "marker": {
            "color": "#19d3f3",
            "pattern": {
             "shape": ""
            }
           },
           "name": "Noord-Brabant",
           "offsetgroup": "Noord-Brabant",
           "orientation": "h",
           "showlegend": true,
           "textposition": "auto",
           "type": "bar",
           "x": [
            495
           ],
           "xaxis": "x",
           "y": [
            "Noord-Brabant"
           ],
           "yaxis": "y"
          },
          {
           "alignmentgroup": "True",
           "hovertemplate": "province=%{y}<br>year_month=2020-07<br>number of cases=%{x}<extra></extra>",
           "ids": [
            "Noord-Holland"
           ],
           "legendgroup": "Noord-Holland",
           "marker": {
            "color": "#FF6692",
            "pattern": {
             "shape": ""
            }
           },
           "name": "Noord-Holland",
           "offsetgroup": "Noord-Holland",
           "orientation": "h",
           "showlegend": true,
           "textposition": "auto",
           "type": "bar",
           "x": [
            859
           ],
           "xaxis": "x",
           "y": [
            "Noord-Holland"
           ],
           "yaxis": "y"
          },
          {
           "alignmentgroup": "True",
           "hovertemplate": "province=%{y}<br>year_month=2020-07<br>number of cases=%{x}<extra></extra>",
           "ids": [
            "Overijssel"
           ],
           "legendgroup": "Overijssel",
           "marker": {
            "color": "#B6E880",
            "pattern": {
             "shape": ""
            }
           },
           "name": "Overijssel",
           "offsetgroup": "Overijssel",
           "orientation": "h",
           "showlegend": true,
           "textposition": "auto",
           "type": "bar",
           "x": [
            79
           ],
           "xaxis": "x",
           "y": [
            "Overijssel"
           ],
           "yaxis": "y"
          },
          {
           "alignmentgroup": "True",
           "hovertemplate": "province=%{y}<br>year_month=2020-07<br>number of cases=%{x}<extra></extra>",
           "ids": [
            "Utrecht"
           ],
           "legendgroup": "Utrecht",
           "marker": {
            "color": "#FF97FF",
            "pattern": {
             "shape": ""
            }
           },
           "name": "Utrecht",
           "offsetgroup": "Utrecht",
           "orientation": "h",
           "showlegend": true,
           "textposition": "auto",
           "type": "bar",
           "x": [
            348
           ],
           "xaxis": "x",
           "y": [
            "Utrecht"
           ],
           "yaxis": "y"
          },
          {
           "alignmentgroup": "True",
           "hovertemplate": "province=%{y}<br>year_month=2020-07<br>number of cases=%{x}<extra></extra>",
           "ids": [
            "Zeeland"
           ],
           "legendgroup": "Zeeland",
           "marker": {
            "color": "#FECB52",
            "pattern": {
             "shape": ""
            }
           },
           "name": "Zeeland",
           "offsetgroup": "Zeeland",
           "orientation": "h",
           "showlegend": true,
           "textposition": "auto",
           "type": "bar",
           "x": [
            131
           ],
           "xaxis": "x",
           "y": [
            "Zeeland"
           ],
           "yaxis": "y"
          },
          {
           "alignmentgroup": "True",
           "hovertemplate": "province=%{y}<br>year_month=2020-07<br>number of cases=%{x}<extra></extra>",
           "ids": [
            "Zuid-Holland"
           ],
           "legendgroup": "Zuid-Holland",
           "marker": {
            "color": "#636efa",
            "pattern": {
             "shape": ""
            }
           },
           "name": "Zuid-Holland",
           "offsetgroup": "Zuid-Holland",
           "orientation": "h",
           "showlegend": true,
           "textposition": "auto",
           "type": "bar",
           "x": [
            1805
           ],
           "xaxis": "x",
           "y": [
            "Zuid-Holland"
           ],
           "yaxis": "y"
          },
          {
           "alignmentgroup": "True",
           "hovertemplate": "province=%{y}<br>year_month=2020-07<br>number of cases=%{x}<extra></extra>",
           "ids": [
            "Zuid-Limburg"
           ],
           "legendgroup": "Zuid-Limburg",
           "marker": {
            "color": "#EF553B",
            "pattern": {
             "shape": ""
            }
           },
           "name": "Zuid-Limburg",
           "offsetgroup": "Zuid-Limburg",
           "orientation": "h",
           "showlegend": true,
           "textposition": "auto",
           "type": "bar",
           "x": [
            60
           ],
           "xaxis": "x",
           "y": [
            "Zuid-Limburg"
           ],
           "yaxis": "y"
          }
         ],
         "name": "2020-07"
        },
        {
         "data": [
          {
           "alignmentgroup": "True",
           "hovertemplate": "province=%{y}<br>year_month=2020-08<br>number of cases=%{x}<extra></extra>",
           "ids": [
            "Drenthe"
           ],
           "legendgroup": "Drenthe",
           "marker": {
            "color": "#636efa",
            "pattern": {
             "shape": ""
            }
           },
           "name": "Drenthe",
           "offsetgroup": "Drenthe",
           "orientation": "h",
           "showlegend": true,
           "textposition": "auto",
           "type": "bar",
           "x": [
            59
           ],
           "xaxis": "x",
           "y": [
            "Drenthe"
           ],
           "yaxis": "y"
          },
          {
           "alignmentgroup": "True",
           "hovertemplate": "province=%{y}<br>year_month=2020-08<br>number of cases=%{x}<extra></extra>",
           "ids": [
            "Flevoland"
           ],
           "legendgroup": "Flevoland",
           "marker": {
            "color": "#EF553B",
            "pattern": {
             "shape": ""
            }
           },
           "name": "Flevoland",
           "offsetgroup": "Flevoland",
           "orientation": "h",
           "showlegend": true,
           "textposition": "auto",
           "type": "bar",
           "x": [
            311
           ],
           "xaxis": "x",
           "y": [
            "Flevoland"
           ],
           "yaxis": "y"
          },
          {
           "alignmentgroup": "True",
           "hovertemplate": "province=%{y}<br>year_month=2020-08<br>number of cases=%{x}<extra></extra>",
           "ids": [
            "Friesland"
           ],
           "legendgroup": "Friesland",
           "marker": {
            "color": "#00cc96",
            "pattern": {
             "shape": ""
            }
           },
           "name": "Friesland",
           "offsetgroup": "Friesland",
           "orientation": "h",
           "showlegend": true,
           "textposition": "auto",
           "type": "bar",
           "x": [
            172
           ],
           "xaxis": "x",
           "y": [
            "Friesland"
           ],
           "yaxis": "y"
          },
          {
           "alignmentgroup": "True",
           "hovertemplate": "province=%{y}<br>year_month=2020-08<br>number of cases=%{x}<extra></extra>",
           "ids": [
            "Gelderland"
           ],
           "legendgroup": "Gelderland",
           "marker": {
            "color": "#ab63fa",
            "pattern": {
             "shape": ""
            }
           },
           "name": "Gelderland",
           "offsetgroup": "Gelderland",
           "orientation": "h",
           "showlegend": true,
           "textposition": "auto",
           "type": "bar",
           "x": [
            831
           ],
           "xaxis": "x",
           "y": [
            "Gelderland"
           ],
           "yaxis": "y"
          },
          {
           "alignmentgroup": "True",
           "hovertemplate": "province=%{y}<br>year_month=2020-08<br>number of cases=%{x}<extra></extra>",
           "ids": [
            "Groningen"
           ],
           "legendgroup": "Groningen",
           "marker": {
            "color": "#FFA15A",
            "pattern": {
             "shape": ""
            }
           },
           "name": "Groningen",
           "offsetgroup": "Groningen",
           "orientation": "h",
           "showlegend": true,
           "textposition": "auto",
           "type": "bar",
           "x": [
            213
           ],
           "xaxis": "x",
           "y": [
            "Groningen"
           ],
           "yaxis": "y"
          },
          {
           "alignmentgroup": "True",
           "hovertemplate": "province=%{y}<br>year_month=2020-08<br>number of cases=%{x}<extra></extra>",
           "ids": [
            "Noord-Brabant"
           ],
           "legendgroup": "Noord-Brabant",
           "marker": {
            "color": "#19d3f3",
            "pattern": {
             "shape": ""
            }
           },
           "name": "Noord-Brabant",
           "offsetgroup": "Noord-Brabant",
           "orientation": "h",
           "showlegend": true,
           "textposition": "auto",
           "type": "bar",
           "x": [
            2127
           ],
           "xaxis": "x",
           "y": [
            "Noord-Brabant"
           ],
           "yaxis": "y"
          },
          {
           "alignmentgroup": "True",
           "hovertemplate": "province=%{y}<br>year_month=2020-08<br>number of cases=%{x}<extra></extra>",
           "ids": [
            "Noord-Holland"
           ],
           "legendgroup": "Noord-Holland",
           "marker": {
            "color": "#FF6692",
            "pattern": {
             "shape": ""
            }
           },
           "name": "Noord-Holland",
           "offsetgroup": "Noord-Holland",
           "orientation": "h",
           "showlegend": true,
           "textposition": "auto",
           "type": "bar",
           "x": [
            4326
           ],
           "xaxis": "x",
           "y": [
            "Noord-Holland"
           ],
           "yaxis": "y"
          },
          {
           "alignmentgroup": "True",
           "hovertemplate": "province=%{y}<br>year_month=2020-08<br>number of cases=%{x}<extra></extra>",
           "ids": [
            "Overijssel"
           ],
           "legendgroup": "Overijssel",
           "marker": {
            "color": "#B6E880",
            "pattern": {
             "shape": ""
            }
           },
           "name": "Overijssel",
           "offsetgroup": "Overijssel",
           "orientation": "h",
           "showlegend": true,
           "textposition": "auto",
           "type": "bar",
           "x": [
            325
           ],
           "xaxis": "x",
           "y": [
            "Overijssel"
           ],
           "yaxis": "y"
          },
          {
           "alignmentgroup": "True",
           "hovertemplate": "province=%{y}<br>year_month=2020-08<br>number of cases=%{x}<extra></extra>",
           "ids": [
            "Utrecht"
           ],
           "legendgroup": "Utrecht",
           "marker": {
            "color": "#FF97FF",
            "pattern": {
             "shape": ""
            }
           },
           "name": "Utrecht",
           "offsetgroup": "Utrecht",
           "orientation": "h",
           "showlegend": true,
           "textposition": "auto",
           "type": "bar",
           "x": [
            1121
           ],
           "xaxis": "x",
           "y": [
            "Utrecht"
           ],
           "yaxis": "y"
          },
          {
           "alignmentgroup": "True",
           "hovertemplate": "province=%{y}<br>year_month=2020-08<br>number of cases=%{x}<extra></extra>",
           "ids": [
            "Zeeland"
           ],
           "legendgroup": "Zeeland",
           "marker": {
            "color": "#FECB52",
            "pattern": {
             "shape": ""
            }
           },
           "name": "Zeeland",
           "offsetgroup": "Zeeland",
           "orientation": "h",
           "showlegend": true,
           "textposition": "auto",
           "type": "bar",
           "x": [
            191
           ],
           "xaxis": "x",
           "y": [
            "Zeeland"
           ],
           "yaxis": "y"
          },
          {
           "alignmentgroup": "True",
           "hovertemplate": "province=%{y}<br>year_month=2020-08<br>number of cases=%{x}<extra></extra>",
           "ids": [
            "Zuid-Holland"
           ],
           "legendgroup": "Zuid-Holland",
           "marker": {
            "color": "#636efa",
            "pattern": {
             "shape": ""
            }
           },
           "name": "Zuid-Holland",
           "offsetgroup": "Zuid-Holland",
           "orientation": "h",
           "showlegend": true,
           "textposition": "auto",
           "type": "bar",
           "x": [
            6085
           ],
           "xaxis": "x",
           "y": [
            "Zuid-Holland"
           ],
           "yaxis": "y"
          },
          {
           "alignmentgroup": "True",
           "hovertemplate": "province=%{y}<br>year_month=2020-08<br>number of cases=%{x}<extra></extra>",
           "ids": [
            "Zuid-Limburg"
           ],
           "legendgroup": "Zuid-Limburg",
           "marker": {
            "color": "#EF553B",
            "pattern": {
             "shape": ""
            }
           },
           "name": "Zuid-Limburg",
           "offsetgroup": "Zuid-Limburg",
           "orientation": "h",
           "showlegend": true,
           "textposition": "auto",
           "type": "bar",
           "x": [
            501
           ],
           "xaxis": "x",
           "y": [
            "Zuid-Limburg"
           ],
           "yaxis": "y"
          }
         ],
         "name": "2020-08"
        },
        {
         "data": [
          {
           "alignmentgroup": "True",
           "hovertemplate": "province=%{y}<br>year_month=2020-09<br>number of cases=%{x}<extra></extra>",
           "ids": [
            "Drenthe"
           ],
           "legendgroup": "Drenthe",
           "marker": {
            "color": "#636efa",
            "pattern": {
             "shape": ""
            }
           },
           "name": "Drenthe",
           "offsetgroup": "Drenthe",
           "orientation": "h",
           "showlegend": true,
           "textposition": "auto",
           "type": "bar",
           "x": [
            591
           ],
           "xaxis": "x",
           "y": [
            "Drenthe"
           ],
           "yaxis": "y"
          },
          {
           "alignmentgroup": "True",
           "hovertemplate": "province=%{y}<br>year_month=2020-09<br>number of cases=%{x}<extra></extra>",
           "ids": [
            "Flevoland"
           ],
           "legendgroup": "Flevoland",
           "marker": {
            "color": "#EF553B",
            "pattern": {
             "shape": ""
            }
           },
           "name": "Flevoland",
           "offsetgroup": "Flevoland",
           "orientation": "h",
           "showlegend": true,
           "textposition": "auto",
           "type": "bar",
           "x": [
            929
           ],
           "xaxis": "x",
           "y": [
            "Flevoland"
           ],
           "yaxis": "y"
          },
          {
           "alignmentgroup": "True",
           "hovertemplate": "province=%{y}<br>year_month=2020-09<br>number of cases=%{x}<extra></extra>",
           "ids": [
            "Friesland"
           ],
           "legendgroup": "Friesland",
           "marker": {
            "color": "#00cc96",
            "pattern": {
             "shape": ""
            }
           },
           "name": "Friesland",
           "offsetgroup": "Friesland",
           "orientation": "h",
           "showlegend": true,
           "textposition": "auto",
           "type": "bar",
           "x": [
            769
           ],
           "xaxis": "x",
           "y": [
            "Friesland"
           ],
           "yaxis": "y"
          },
          {
           "alignmentgroup": "True",
           "hovertemplate": "province=%{y}<br>year_month=2020-09<br>number of cases=%{x}<extra></extra>",
           "ids": [
            "Gelderland"
           ],
           "legendgroup": "Gelderland",
           "marker": {
            "color": "#ab63fa",
            "pattern": {
             "shape": ""
            }
           },
           "name": "Gelderland",
           "offsetgroup": "Gelderland",
           "orientation": "h",
           "showlegend": true,
           "textposition": "auto",
           "type": "bar",
           "x": [
            4290
           ],
           "xaxis": "x",
           "y": [
            "Gelderland"
           ],
           "yaxis": "y"
          },
          {
           "alignmentgroup": "True",
           "hovertemplate": "province=%{y}<br>year_month=2020-09<br>number of cases=%{x}<extra></extra>",
           "ids": [
            "Groningen"
           ],
           "legendgroup": "Groningen",
           "marker": {
            "color": "#FFA15A",
            "pattern": {
             "shape": ""
            }
           },
           "name": "Groningen",
           "offsetgroup": "Groningen",
           "orientation": "h",
           "showlegend": true,
           "textposition": "auto",
           "type": "bar",
           "x": [
            1204
           ],
           "xaxis": "x",
           "y": [
            "Groningen"
           ],
           "yaxis": "y"
          },
          {
           "alignmentgroup": "True",
           "hovertemplate": "province=%{y}<br>year_month=2020-09<br>number of cases=%{x}<extra></extra>",
           "ids": [
            "Noord-Brabant"
           ],
           "legendgroup": "Noord-Brabant",
           "marker": {
            "color": "#19d3f3",
            "pattern": {
             "shape": ""
            }
           },
           "name": "Noord-Brabant",
           "offsetgroup": "Noord-Brabant",
           "orientation": "h",
           "showlegend": true,
           "textposition": "auto",
           "type": "bar",
           "x": [
            5327
           ],
           "xaxis": "x",
           "y": [
            "Noord-Brabant"
           ],
           "yaxis": "y"
          },
          {
           "alignmentgroup": "True",
           "hovertemplate": "province=%{y}<br>year_month=2020-09<br>number of cases=%{x}<extra></extra>",
           "ids": [
            "Noord-Holland"
           ],
           "legendgroup": "Noord-Holland",
           "marker": {
            "color": "#FF6692",
            "pattern": {
             "shape": ""
            }
           },
           "name": "Noord-Holland",
           "offsetgroup": "Noord-Holland",
           "orientation": "h",
           "showlegend": true,
           "textposition": "auto",
           "type": "bar",
           "x": [
            12387
           ],
           "xaxis": "x",
           "y": [
            "Noord-Holland"
           ],
           "yaxis": "y"
          },
          {
           "alignmentgroup": "True",
           "hovertemplate": "province=%{y}<br>year_month=2020-09<br>number of cases=%{x}<extra></extra>",
           "ids": [
            "Overijssel"
           ],
           "legendgroup": "Overijssel",
           "marker": {
            "color": "#B6E880",
            "pattern": {
             "shape": ""
            }
           },
           "name": "Overijssel",
           "offsetgroup": "Overijssel",
           "orientation": "h",
           "showlegend": true,
           "textposition": "auto",
           "type": "bar",
           "x": [
            1563
           ],
           "xaxis": "x",
           "y": [
            "Overijssel"
           ],
           "yaxis": "y"
          },
          {
           "alignmentgroup": "True",
           "hovertemplate": "province=%{y}<br>year_month=2020-09<br>number of cases=%{x}<extra></extra>",
           "ids": [
            "Utrecht"
           ],
           "legendgroup": "Utrecht",
           "marker": {
            "color": "#FF97FF",
            "pattern": {
             "shape": ""
            }
           },
           "name": "Utrecht",
           "offsetgroup": "Utrecht",
           "orientation": "h",
           "showlegend": true,
           "textposition": "auto",
           "type": "bar",
           "x": [
            4128
           ],
           "xaxis": "x",
           "y": [
            "Utrecht"
           ],
           "yaxis": "y"
          },
          {
           "alignmentgroup": "True",
           "hovertemplate": "province=%{y}<br>year_month=2020-09<br>number of cases=%{x}<extra></extra>",
           "ids": [
            "Zeeland"
           ],
           "legendgroup": "Zeeland",
           "marker": {
            "color": "#FECB52",
            "pattern": {
             "shape": ""
            }
           },
           "name": "Zeeland",
           "offsetgroup": "Zeeland",
           "orientation": "h",
           "showlegend": true,
           "textposition": "auto",
           "type": "bar",
           "x": [
            323
           ],
           "xaxis": "x",
           "y": [
            "Zeeland"
           ],
           "yaxis": "y"
          },
          {
           "alignmentgroup": "True",
           "hovertemplate": "province=%{y}<br>year_month=2020-09<br>number of cases=%{x}<extra></extra>",
           "ids": [
            "Zuid-Holland"
           ],
           "legendgroup": "Zuid-Holland",
           "marker": {
            "color": "#636efa",
            "pattern": {
             "shape": ""
            }
           },
           "name": "Zuid-Holland",
           "offsetgroup": "Zuid-Holland",
           "orientation": "h",
           "showlegend": true,
           "textposition": "auto",
           "type": "bar",
           "x": [
            16982
           ],
           "xaxis": "x",
           "y": [
            "Zuid-Holland"
           ],
           "yaxis": "y"
          },
          {
           "alignmentgroup": "True",
           "hovertemplate": "province=%{y}<br>year_month=2020-09<br>number of cases=%{x}<extra></extra>",
           "ids": [
            "Zuid-Limburg"
           ],
           "legendgroup": "Zuid-Limburg",
           "marker": {
            "color": "#EF553B",
            "pattern": {
             "shape": ""
            }
           },
           "name": "Zuid-Limburg",
           "offsetgroup": "Zuid-Limburg",
           "orientation": "h",
           "showlegend": true,
           "textposition": "auto",
           "type": "bar",
           "x": [
            1275
           ],
           "xaxis": "x",
           "y": [
            "Zuid-Limburg"
           ],
           "yaxis": "y"
          }
         ],
         "name": "2020-09"
        },
        {
         "data": [
          {
           "alignmentgroup": "True",
           "hovertemplate": "province=%{y}<br>year_month=2020-10<br>number of cases=%{x}<extra></extra>",
           "ids": [
            "Drenthe"
           ],
           "legendgroup": "Drenthe",
           "marker": {
            "color": "#636efa",
            "pattern": {
             "shape": ""
            }
           },
           "name": "Drenthe",
           "offsetgroup": "Drenthe",
           "orientation": "h",
           "showlegend": true,
           "textposition": "auto",
           "type": "bar",
           "x": [
            3940
           ],
           "xaxis": "x",
           "y": [
            "Drenthe"
           ],
           "yaxis": "y"
          },
          {
           "alignmentgroup": "True",
           "hovertemplate": "province=%{y}<br>year_month=2020-10<br>number of cases=%{x}<extra></extra>",
           "ids": [
            "Flevoland"
           ],
           "legendgroup": "Flevoland",
           "marker": {
            "color": "#EF553B",
            "pattern": {
             "shape": ""
            }
           },
           "name": "Flevoland",
           "offsetgroup": "Flevoland",
           "orientation": "h",
           "showlegend": true,
           "textposition": "auto",
           "type": "bar",
           "x": [
            4150
           ],
           "xaxis": "x",
           "y": [
            "Flevoland"
           ],
           "yaxis": "y"
          },
          {
           "alignmentgroup": "True",
           "hovertemplate": "province=%{y}<br>year_month=2020-10<br>number of cases=%{x}<extra></extra>",
           "ids": [
            "Friesland"
           ],
           "legendgroup": "Friesland",
           "marker": {
            "color": "#00cc96",
            "pattern": {
             "shape": ""
            }
           },
           "name": "Friesland",
           "offsetgroup": "Friesland",
           "orientation": "h",
           "showlegend": true,
           "textposition": "auto",
           "type": "bar",
           "x": [
            4170
           ],
           "xaxis": "x",
           "y": [
            "Friesland"
           ],
           "yaxis": "y"
          },
          {
           "alignmentgroup": "True",
           "hovertemplate": "province=%{y}<br>year_month=2020-10<br>number of cases=%{x}<extra></extra>",
           "ids": [
            "Gelderland"
           ],
           "legendgroup": "Gelderland",
           "marker": {
            "color": "#ab63fa",
            "pattern": {
             "shape": ""
            }
           },
           "name": "Gelderland",
           "offsetgroup": "Gelderland",
           "orientation": "h",
           "showlegend": true,
           "textposition": "auto",
           "type": "bar",
           "x": [
            21803
           ],
           "xaxis": "x",
           "y": [
            "Gelderland"
           ],
           "yaxis": "y"
          },
          {
           "alignmentgroup": "True",
           "hovertemplate": "province=%{y}<br>year_month=2020-10<br>number of cases=%{x}<extra></extra>",
           "ids": [
            "Groningen"
           ],
           "legendgroup": "Groningen",
           "marker": {
            "color": "#FFA15A",
            "pattern": {
             "shape": ""
            }
           },
           "name": "Groningen",
           "offsetgroup": "Groningen",
           "orientation": "h",
           "showlegend": true,
           "textposition": "auto",
           "type": "bar",
           "x": [
            4218
           ],
           "xaxis": "x",
           "y": [
            "Groningen"
           ],
           "yaxis": "y"
          },
          {
           "alignmentgroup": "True",
           "hovertemplate": "province=%{y}<br>year_month=2020-10<br>number of cases=%{x}<extra></extra>",
           "ids": [
            "Noord-Brabant"
           ],
           "legendgroup": "Noord-Brabant",
           "marker": {
            "color": "#19d3f3",
            "pattern": {
             "shape": ""
            }
           },
           "name": "Noord-Brabant",
           "offsetgroup": "Noord-Brabant",
           "orientation": "h",
           "showlegend": true,
           "textposition": "auto",
           "type": "bar",
           "x": [
            35347
           ],
           "xaxis": "x",
           "y": [
            "Noord-Brabant"
           ],
           "yaxis": "y"
          },
          {
           "alignmentgroup": "True",
           "hovertemplate": "province=%{y}<br>year_month=2020-10<br>number of cases=%{x}<extra></extra>",
           "ids": [
            "Noord-Holland"
           ],
           "legendgroup": "Noord-Holland",
           "marker": {
            "color": "#FF6692",
            "pattern": {
             "shape": ""
            }
           },
           "name": "Noord-Holland",
           "offsetgroup": "Noord-Holland",
           "orientation": "h",
           "showlegend": true,
           "textposition": "auto",
           "type": "bar",
           "x": [
            42168
           ],
           "xaxis": "x",
           "y": [
            "Noord-Holland"
           ],
           "yaxis": "y"
          },
          {
           "alignmentgroup": "True",
           "hovertemplate": "province=%{y}<br>year_month=2020-10<br>number of cases=%{x}<extra></extra>",
           "ids": [
            "Overijssel"
           ],
           "legendgroup": "Overijssel",
           "marker": {
            "color": "#B6E880",
            "pattern": {
             "shape": ""
            }
           },
           "name": "Overijssel",
           "offsetgroup": "Overijssel",
           "orientation": "h",
           "showlegend": true,
           "textposition": "auto",
           "type": "bar",
           "x": [
            14585
           ],
           "xaxis": "x",
           "y": [
            "Overijssel"
           ],
           "yaxis": "y"
          },
          {
           "alignmentgroup": "True",
           "hovertemplate": "province=%{y}<br>year_month=2020-10<br>number of cases=%{x}<extra></extra>",
           "ids": [
            "Utrecht"
           ],
           "legendgroup": "Utrecht",
           "marker": {
            "color": "#FF97FF",
            "pattern": {
             "shape": ""
            }
           },
           "name": "Utrecht",
           "offsetgroup": "Utrecht",
           "orientation": "h",
           "showlegend": true,
           "textposition": "auto",
           "type": "bar",
           "x": [
            21129
           ],
           "xaxis": "x",
           "y": [
            "Utrecht"
           ],
           "yaxis": "y"
          },
          {
           "alignmentgroup": "True",
           "hovertemplate": "province=%{y}<br>year_month=2020-10<br>number of cases=%{x}<extra></extra>",
           "ids": [
            "Zeeland"
           ],
           "legendgroup": "Zeeland",
           "marker": {
            "color": "#FECB52",
            "pattern": {
             "shape": ""
            }
           },
           "name": "Zeeland",
           "offsetgroup": "Zeeland",
           "orientation": "h",
           "showlegend": true,
           "textposition": "auto",
           "type": "bar",
           "x": [
            2114
           ],
           "xaxis": "x",
           "y": [
            "Zeeland"
           ],
           "yaxis": "y"
          },
          {
           "alignmentgroup": "True",
           "hovertemplate": "province=%{y}<br>year_month=2020-10<br>number of cases=%{x}<extra></extra>",
           "ids": [
            "Zuid-Holland"
           ],
           "legendgroup": "Zuid-Holland",
           "marker": {
            "color": "#636efa",
            "pattern": {
             "shape": ""
            }
           },
           "name": "Zuid-Holland",
           "offsetgroup": "Zuid-Holland",
           "orientation": "h",
           "showlegend": true,
           "textposition": "auto",
           "type": "bar",
           "x": [
            66440
           ],
           "xaxis": "x",
           "y": [
            "Zuid-Holland"
           ],
           "yaxis": "y"
          },
          {
           "alignmentgroup": "True",
           "hovertemplate": "province=%{y}<br>year_month=2020-10<br>number of cases=%{x}<extra></extra>",
           "ids": [
            "Zuid-Limburg"
           ],
           "legendgroup": "Zuid-Limburg",
           "marker": {
            "color": "#EF553B",
            "pattern": {
             "shape": ""
            }
           },
           "name": "Zuid-Limburg",
           "offsetgroup": "Zuid-Limburg",
           "orientation": "h",
           "showlegend": true,
           "textposition": "auto",
           "type": "bar",
           "x": [
            8911
           ],
           "xaxis": "x",
           "y": [
            "Zuid-Limburg"
           ],
           "yaxis": "y"
          }
         ],
         "name": "2020-10"
        },
        {
         "data": [
          {
           "alignmentgroup": "True",
           "hovertemplate": "province=%{y}<br>year_month=2020-11<br>number of cases=%{x}<extra></extra>",
           "ids": [
            "Drenthe"
           ],
           "legendgroup": "Drenthe",
           "marker": {
            "color": "#636efa",
            "pattern": {
             "shape": ""
            }
           },
           "name": "Drenthe",
           "offsetgroup": "Drenthe",
           "orientation": "h",
           "showlegend": true,
           "textposition": "auto",
           "type": "bar",
           "x": [
            2666
           ],
           "xaxis": "x",
           "y": [
            "Drenthe"
           ],
           "yaxis": "y"
          },
          {
           "alignmentgroup": "True",
           "hovertemplate": "province=%{y}<br>year_month=2020-11<br>number of cases=%{x}<extra></extra>",
           "ids": [
            "Flevoland"
           ],
           "legendgroup": "Flevoland",
           "marker": {
            "color": "#EF553B",
            "pattern": {
             "shape": ""
            }
           },
           "name": "Flevoland",
           "offsetgroup": "Flevoland",
           "orientation": "h",
           "showlegend": true,
           "textposition": "auto",
           "type": "bar",
           "x": [
            4755
           ],
           "xaxis": "x",
           "y": [
            "Flevoland"
           ],
           "yaxis": "y"
          },
          {
           "alignmentgroup": "True",
           "hovertemplate": "province=%{y}<br>year_month=2020-11<br>number of cases=%{x}<extra></extra>",
           "ids": [
            "Friesland"
           ],
           "legendgroup": "Friesland",
           "marker": {
            "color": "#00cc96",
            "pattern": {
             "shape": ""
            }
           },
           "name": "Friesland",
           "offsetgroup": "Friesland",
           "orientation": "h",
           "showlegend": true,
           "textposition": "auto",
           "type": "bar",
           "x": [
            2928
           ],
           "xaxis": "x",
           "y": [
            "Friesland"
           ],
           "yaxis": "y"
          },
          {
           "alignmentgroup": "True",
           "hovertemplate": "province=%{y}<br>year_month=2020-11<br>number of cases=%{x}<extra></extra>",
           "ids": [
            "Gelderland"
           ],
           "legendgroup": "Gelderland",
           "marker": {
            "color": "#ab63fa",
            "pattern": {
             "shape": ""
            }
           },
           "name": "Gelderland",
           "offsetgroup": "Gelderland",
           "orientation": "h",
           "showlegend": true,
           "textposition": "auto",
           "type": "bar",
           "x": [
            18644
           ],
           "xaxis": "x",
           "y": [
            "Gelderland"
           ],
           "yaxis": "y"
          },
          {
           "alignmentgroup": "True",
           "hovertemplate": "province=%{y}<br>year_month=2020-11<br>number of cases=%{x}<extra></extra>",
           "ids": [
            "Groningen"
           ],
           "legendgroup": "Groningen",
           "marker": {
            "color": "#FFA15A",
            "pattern": {
             "shape": ""
            }
           },
           "name": "Groningen",
           "offsetgroup": "Groningen",
           "orientation": "h",
           "showlegend": true,
           "textposition": "auto",
           "type": "bar",
           "x": [
            2496
           ],
           "xaxis": "x",
           "y": [
            "Groningen"
           ],
           "yaxis": "y"
          },
          {
           "alignmentgroup": "True",
           "hovertemplate": "province=%{y}<br>year_month=2020-11<br>number of cases=%{x}<extra></extra>",
           "ids": [
            "Noord-Brabant"
           ],
           "legendgroup": "Noord-Brabant",
           "marker": {
            "color": "#19d3f3",
            "pattern": {
             "shape": ""
            }
           },
           "name": "Noord-Brabant",
           "offsetgroup": "Noord-Brabant",
           "orientation": "h",
           "showlegend": true,
           "textposition": "auto",
           "type": "bar",
           "x": [
            30182
           ],
           "xaxis": "x",
           "y": [
            "Noord-Brabant"
           ],
           "yaxis": "y"
          },
          {
           "alignmentgroup": "True",
           "hovertemplate": "province=%{y}<br>year_month=2020-11<br>number of cases=%{x}<extra></extra>",
           "ids": [
            "Noord-Holland"
           ],
           "legendgroup": "Noord-Holland",
           "marker": {
            "color": "#FF6692",
            "pattern": {
             "shape": ""
            }
           },
           "name": "Noord-Holland",
           "offsetgroup": "Noord-Holland",
           "orientation": "h",
           "showlegend": true,
           "textposition": "auto",
           "type": "bar",
           "x": [
            27453
           ],
           "xaxis": "x",
           "y": [
            "Noord-Holland"
           ],
           "yaxis": "y"
          },
          {
           "alignmentgroup": "True",
           "hovertemplate": "province=%{y}<br>year_month=2020-11<br>number of cases=%{x}<extra></extra>",
           "ids": [
            "Overijssel"
           ],
           "legendgroup": "Overijssel",
           "marker": {
            "color": "#B6E880",
            "pattern": {
             "shape": ""
            }
           },
           "name": "Overijssel",
           "offsetgroup": "Overijssel",
           "orientation": "h",
           "showlegend": true,
           "textposition": "auto",
           "type": "bar",
           "x": [
            12002
           ],
           "xaxis": "x",
           "y": [
            "Overijssel"
           ],
           "yaxis": "y"
          },
          {
           "alignmentgroup": "True",
           "hovertemplate": "province=%{y}<br>year_month=2020-11<br>number of cases=%{x}<extra></extra>",
           "ids": [
            "Utrecht"
           ],
           "legendgroup": "Utrecht",
           "marker": {
            "color": "#FF97FF",
            "pattern": {
             "shape": ""
            }
           },
           "name": "Utrecht",
           "offsetgroup": "Utrecht",
           "orientation": "h",
           "showlegend": true,
           "textposition": "auto",
           "type": "bar",
           "x": [
            13382
           ],
           "xaxis": "x",
           "y": [
            "Utrecht"
           ],
           "yaxis": "y"
          },
          {
           "alignmentgroup": "True",
           "hovertemplate": "province=%{y}<br>year_month=2020-11<br>number of cases=%{x}<extra></extra>",
           "ids": [
            "Zeeland"
           ],
           "legendgroup": "Zeeland",
           "marker": {
            "color": "#FECB52",
            "pattern": {
             "shape": ""
            }
           },
           "name": "Zeeland",
           "offsetgroup": "Zeeland",
           "orientation": "h",
           "showlegend": true,
           "textposition": "auto",
           "type": "bar",
           "x": [
            2775
           ],
           "xaxis": "x",
           "y": [
            "Zeeland"
           ],
           "yaxis": "y"
          },
          {
           "alignmentgroup": "True",
           "hovertemplate": "province=%{y}<br>year_month=2020-11<br>number of cases=%{x}<extra></extra>",
           "ids": [
            "Zuid-Holland"
           ],
           "legendgroup": "Zuid-Holland",
           "marker": {
            "color": "#636efa",
            "pattern": {
             "shape": ""
            }
           },
           "name": "Zuid-Holland",
           "offsetgroup": "Zuid-Holland",
           "orientation": "h",
           "showlegend": true,
           "textposition": "auto",
           "type": "bar",
           "x": [
            44903
           ],
           "xaxis": "x",
           "y": [
            "Zuid-Holland"
           ],
           "yaxis": "y"
          },
          {
           "alignmentgroup": "True",
           "hovertemplate": "province=%{y}<br>year_month=2020-11<br>number of cases=%{x}<extra></extra>",
           "ids": [
            "Zuid-Limburg"
           ],
           "legendgroup": "Zuid-Limburg",
           "marker": {
            "color": "#EF553B",
            "pattern": {
             "shape": ""
            }
           },
           "name": "Zuid-Limburg",
           "offsetgroup": "Zuid-Limburg",
           "orientation": "h",
           "showlegend": true,
           "textposition": "auto",
           "type": "bar",
           "x": [
            9513
           ],
           "xaxis": "x",
           "y": [
            "Zuid-Limburg"
           ],
           "yaxis": "y"
          }
         ],
         "name": "2020-11"
        },
        {
         "data": [
          {
           "alignmentgroup": "True",
           "hovertemplate": "province=%{y}<br>year_month=2020-12<br>number of cases=%{x}<extra></extra>",
           "ids": [
            "Drenthe"
           ],
           "legendgroup": "Drenthe",
           "marker": {
            "color": "#636efa",
            "pattern": {
             "shape": ""
            }
           },
           "name": "Drenthe",
           "offsetgroup": "Drenthe",
           "orientation": "h",
           "showlegend": true,
           "textposition": "auto",
           "type": "bar",
           "x": [
            5675
           ],
           "xaxis": "x",
           "y": [
            "Drenthe"
           ],
           "yaxis": "y"
          },
          {
           "alignmentgroup": "True",
           "hovertemplate": "province=%{y}<br>year_month=2020-12<br>number of cases=%{x}<extra></extra>",
           "ids": [
            "Flevoland"
           ],
           "legendgroup": "Flevoland",
           "marker": {
            "color": "#EF553B",
            "pattern": {
             "shape": ""
            }
           },
           "name": "Flevoland",
           "offsetgroup": "Flevoland",
           "orientation": "h",
           "showlegend": true,
           "textposition": "auto",
           "type": "bar",
           "x": [
            8386
           ],
           "xaxis": "x",
           "y": [
            "Flevoland"
           ],
           "yaxis": "y"
          },
          {
           "alignmentgroup": "True",
           "hovertemplate": "province=%{y}<br>year_month=2020-12<br>number of cases=%{x}<extra></extra>",
           "ids": [
            "Friesland"
           ],
           "legendgroup": "Friesland",
           "marker": {
            "color": "#00cc96",
            "pattern": {
             "shape": ""
            }
           },
           "name": "Friesland",
           "offsetgroup": "Friesland",
           "orientation": "h",
           "showlegend": true,
           "textposition": "auto",
           "type": "bar",
           "x": [
            6085
           ],
           "xaxis": "x",
           "y": [
            "Friesland"
           ],
           "yaxis": "y"
          },
          {
           "alignmentgroup": "True",
           "hovertemplate": "province=%{y}<br>year_month=2020-12<br>number of cases=%{x}<extra></extra>",
           "ids": [
            "Gelderland"
           ],
           "legendgroup": "Gelderland",
           "marker": {
            "color": "#ab63fa",
            "pattern": {
             "shape": ""
            }
           },
           "name": "Gelderland",
           "offsetgroup": "Gelderland",
           "orientation": "h",
           "showlegend": true,
           "textposition": "auto",
           "type": "bar",
           "x": [
            36064
           ],
           "xaxis": "x",
           "y": [
            "Gelderland"
           ],
           "yaxis": "y"
          },
          {
           "alignmentgroup": "True",
           "hovertemplate": "province=%{y}<br>year_month=2020-12<br>number of cases=%{x}<extra></extra>",
           "ids": [
            "Groningen"
           ],
           "legendgroup": "Groningen",
           "marker": {
            "color": "#FFA15A",
            "pattern": {
             "shape": ""
            }
           },
           "name": "Groningen",
           "offsetgroup": "Groningen",
           "orientation": "h",
           "showlegend": true,
           "textposition": "auto",
           "type": "bar",
           "x": [
            6506
           ],
           "xaxis": "x",
           "y": [
            "Groningen"
           ],
           "yaxis": "y"
          },
          {
           "alignmentgroup": "True",
           "hovertemplate": "province=%{y}<br>year_month=2020-12<br>number of cases=%{x}<extra></extra>",
           "ids": [
            "Noord-Brabant"
           ],
           "legendgroup": "Noord-Brabant",
           "marker": {
            "color": "#19d3f3",
            "pattern": {
             "shape": ""
            }
           },
           "name": "Noord-Brabant",
           "offsetgroup": "Noord-Brabant",
           "orientation": "h",
           "showlegend": true,
           "textposition": "auto",
           "type": "bar",
           "x": [
            41552
           ],
           "xaxis": "x",
           "y": [
            "Noord-Brabant"
           ],
           "yaxis": "y"
          },
          {
           "alignmentgroup": "True",
           "hovertemplate": "province=%{y}<br>year_month=2020-12<br>number of cases=%{x}<extra></extra>",
           "ids": [
            "Noord-Holland"
           ],
           "legendgroup": "Noord-Holland",
           "marker": {
            "color": "#FF6692",
            "pattern": {
             "shape": ""
            }
           },
           "name": "Noord-Holland",
           "offsetgroup": "Noord-Holland",
           "orientation": "h",
           "showlegend": true,
           "textposition": "auto",
           "type": "bar",
           "x": [
            42138
           ],
           "xaxis": "x",
           "y": [
            "Noord-Holland"
           ],
           "yaxis": "y"
          },
          {
           "alignmentgroup": "True",
           "hovertemplate": "province=%{y}<br>year_month=2020-12<br>number of cases=%{x}<extra></extra>",
           "ids": [
            "Overijssel"
           ],
           "legendgroup": "Overijssel",
           "marker": {
            "color": "#B6E880",
            "pattern": {
             "shape": ""
            }
           },
           "name": "Overijssel",
           "offsetgroup": "Overijssel",
           "orientation": "h",
           "showlegend": true,
           "textposition": "auto",
           "type": "bar",
           "x": [
            22367
           ],
           "xaxis": "x",
           "y": [
            "Overijssel"
           ],
           "yaxis": "y"
          },
          {
           "alignmentgroup": "True",
           "hovertemplate": "province=%{y}<br>year_month=2020-12<br>number of cases=%{x}<extra></extra>",
           "ids": [
            "Utrecht"
           ],
           "legendgroup": "Utrecht",
           "marker": {
            "color": "#FF97FF",
            "pattern": {
             "shape": ""
            }
           },
           "name": "Utrecht",
           "offsetgroup": "Utrecht",
           "orientation": "h",
           "showlegend": true,
           "textposition": "auto",
           "type": "bar",
           "x": [
            22730
           ],
           "xaxis": "x",
           "y": [
            "Utrecht"
           ],
           "yaxis": "y"
          },
          {
           "alignmentgroup": "True",
           "hovertemplate": "province=%{y}<br>year_month=2020-12<br>number of cases=%{x}<extra></extra>",
           "ids": [
            "Zeeland"
           ],
           "legendgroup": "Zeeland",
           "marker": {
            "color": "#FECB52",
            "pattern": {
             "shape": ""
            }
           },
           "name": "Zeeland",
           "offsetgroup": "Zeeland",
           "orientation": "h",
           "showlegend": true,
           "textposition": "auto",
           "type": "bar",
           "x": [
            4196
           ],
           "xaxis": "x",
           "y": [
            "Zeeland"
           ],
           "yaxis": "y"
          },
          {
           "alignmentgroup": "True",
           "hovertemplate": "province=%{y}<br>year_month=2020-12<br>number of cases=%{x}<extra></extra>",
           "ids": [
            "Zuid-Holland"
           ],
           "legendgroup": "Zuid-Holland",
           "marker": {
            "color": "#636efa",
            "pattern": {
             "shape": ""
            }
           },
           "name": "Zuid-Holland",
           "offsetgroup": "Zuid-Holland",
           "orientation": "h",
           "showlegend": true,
           "textposition": "auto",
           "type": "bar",
           "x": [
            54767
           ],
           "xaxis": "x",
           "y": [
            "Zuid-Holland"
           ],
           "yaxis": "y"
          },
          {
           "alignmentgroup": "True",
           "hovertemplate": "province=%{y}<br>year_month=2020-12<br>number of cases=%{x}<extra></extra>",
           "ids": [
            "Zuid-Limburg"
           ],
           "legendgroup": "Zuid-Limburg",
           "marker": {
            "color": "#EF553B",
            "pattern": {
             "shape": ""
            }
           },
           "name": "Zuid-Limburg",
           "offsetgroup": "Zuid-Limburg",
           "orientation": "h",
           "showlegend": true,
           "textposition": "auto",
           "type": "bar",
           "x": [
            22353
           ],
           "xaxis": "x",
           "y": [
            "Zuid-Limburg"
           ],
           "yaxis": "y"
          }
         ],
         "name": "2020-12"
        },
        {
         "data": [
          {
           "alignmentgroup": "True",
           "hovertemplate": "province=%{y}<br>year_month=2021-01<br>number of cases=%{x}<extra></extra>",
           "ids": [
            "Drenthe"
           ],
           "legendgroup": "Drenthe",
           "marker": {
            "color": "#636efa",
            "pattern": {
             "shape": ""
            }
           },
           "name": "Drenthe",
           "offsetgroup": "Drenthe",
           "orientation": "h",
           "showlegend": true,
           "textposition": "auto",
           "type": "bar",
           "x": [
            5005
           ],
           "xaxis": "x",
           "y": [
            "Drenthe"
           ],
           "yaxis": "y"
          },
          {
           "alignmentgroup": "True",
           "hovertemplate": "province=%{y}<br>year_month=2021-01<br>number of cases=%{x}<extra></extra>",
           "ids": [
            "Flevoland"
           ],
           "legendgroup": "Flevoland",
           "marker": {
            "color": "#EF553B",
            "pattern": {
             "shape": ""
            }
           },
           "name": "Flevoland",
           "offsetgroup": "Flevoland",
           "orientation": "h",
           "showlegend": true,
           "textposition": "auto",
           "type": "bar",
           "x": [
            4261
           ],
           "xaxis": "x",
           "y": [
            "Flevoland"
           ],
           "yaxis": "y"
          },
          {
           "alignmentgroup": "True",
           "hovertemplate": "province=%{y}<br>year_month=2021-01<br>number of cases=%{x}<extra></extra>",
           "ids": [
            "Friesland"
           ],
           "legendgroup": "Friesland",
           "marker": {
            "color": "#00cc96",
            "pattern": {
             "shape": ""
            }
           },
           "name": "Friesland",
           "offsetgroup": "Friesland",
           "orientation": "h",
           "showlegend": true,
           "textposition": "auto",
           "type": "bar",
           "x": [
            6636
           ],
           "xaxis": "x",
           "y": [
            "Friesland"
           ],
           "yaxis": "y"
          },
          {
           "alignmentgroup": "True",
           "hovertemplate": "province=%{y}<br>year_month=2021-01<br>number of cases=%{x}<extra></extra>",
           "ids": [
            "Gelderland"
           ],
           "legendgroup": "Gelderland",
           "marker": {
            "color": "#ab63fa",
            "pattern": {
             "shape": ""
            }
           },
           "name": "Gelderland",
           "offsetgroup": "Gelderland",
           "orientation": "h",
           "showlegend": true,
           "textposition": "auto",
           "type": "bar",
           "x": [
            23380
           ],
           "xaxis": "x",
           "y": [
            "Gelderland"
           ],
           "yaxis": "y"
          },
          {
           "alignmentgroup": "True",
           "hovertemplate": "province=%{y}<br>year_month=2021-01<br>number of cases=%{x}<extra></extra>",
           "ids": [
            "Groningen"
           ],
           "legendgroup": "Groningen",
           "marker": {
            "color": "#FFA15A",
            "pattern": {
             "shape": ""
            }
           },
           "name": "Groningen",
           "offsetgroup": "Groningen",
           "orientation": "h",
           "showlegend": true,
           "textposition": "auto",
           "type": "bar",
           "x": [
            5419
           ],
           "xaxis": "x",
           "y": [
            "Groningen"
           ],
           "yaxis": "y"
          },
          {
           "alignmentgroup": "True",
           "hovertemplate": "province=%{y}<br>year_month=2021-01<br>number of cases=%{x}<extra></extra>",
           "ids": [
            "Noord-Brabant"
           ],
           "legendgroup": "Noord-Brabant",
           "marker": {
            "color": "#19d3f3",
            "pattern": {
             "shape": ""
            }
           },
           "name": "Noord-Brabant",
           "offsetgroup": "Noord-Brabant",
           "orientation": "h",
           "showlegend": true,
           "textposition": "auto",
           "type": "bar",
           "x": [
            28514
           ],
           "xaxis": "x",
           "y": [
            "Noord-Brabant"
           ],
           "yaxis": "y"
          },
          {
           "alignmentgroup": "True",
           "hovertemplate": "province=%{y}<br>year_month=2021-01<br>number of cases=%{x}<extra></extra>",
           "ids": [
            "Noord-Holland"
           ],
           "legendgroup": "Noord-Holland",
           "marker": {
            "color": "#FF6692",
            "pattern": {
             "shape": ""
            }
           },
           "name": "Noord-Holland",
           "offsetgroup": "Noord-Holland",
           "orientation": "h",
           "showlegend": true,
           "textposition": "auto",
           "type": "bar",
           "x": [
            28434
           ],
           "xaxis": "x",
           "y": [
            "Noord-Holland"
           ],
           "yaxis": "y"
          },
          {
           "alignmentgroup": "True",
           "hovertemplate": "province=%{y}<br>year_month=2021-01<br>number of cases=%{x}<extra></extra>",
           "ids": [
            "Overijssel"
           ],
           "legendgroup": "Overijssel",
           "marker": {
            "color": "#B6E880",
            "pattern": {
             "shape": ""
            }
           },
           "name": "Overijssel",
           "offsetgroup": "Overijssel",
           "orientation": "h",
           "showlegend": true,
           "textposition": "auto",
           "type": "bar",
           "x": [
            15835
           ],
           "xaxis": "x",
           "y": [
            "Overijssel"
           ],
           "yaxis": "y"
          },
          {
           "alignmentgroup": "True",
           "hovertemplate": "province=%{y}<br>year_month=2021-01<br>number of cases=%{x}<extra></extra>",
           "ids": [
            "Utrecht"
           ],
           "legendgroup": "Utrecht",
           "marker": {
            "color": "#FF97FF",
            "pattern": {
             "shape": ""
            }
           },
           "name": "Utrecht",
           "offsetgroup": "Utrecht",
           "orientation": "h",
           "showlegend": true,
           "textposition": "auto",
           "type": "bar",
           "x": [
            11888
           ],
           "xaxis": "x",
           "y": [
            "Utrecht"
           ],
           "yaxis": "y"
          },
          {
           "alignmentgroup": "True",
           "hovertemplate": "province=%{y}<br>year_month=2021-01<br>number of cases=%{x}<extra></extra>",
           "ids": [
            "Zeeland"
           ],
           "legendgroup": "Zeeland",
           "marker": {
            "color": "#FECB52",
            "pattern": {
             "shape": ""
            }
           },
           "name": "Zeeland",
           "offsetgroup": "Zeeland",
           "orientation": "h",
           "showlegend": true,
           "textposition": "auto",
           "type": "bar",
           "x": [
            3900
           ],
           "xaxis": "x",
           "y": [
            "Zeeland"
           ],
           "yaxis": "y"
          },
          {
           "alignmentgroup": "True",
           "hovertemplate": "province=%{y}<br>year_month=2021-01<br>number of cases=%{x}<extra></extra>",
           "ids": [
            "Zuid-Holland"
           ],
           "legendgroup": "Zuid-Holland",
           "marker": {
            "color": "#636efa",
            "pattern": {
             "shape": ""
            }
           },
           "name": "Zuid-Holland",
           "offsetgroup": "Zuid-Holland",
           "orientation": "h",
           "showlegend": true,
           "textposition": "auto",
           "type": "bar",
           "x": [
            32698
           ],
           "xaxis": "x",
           "y": [
            "Zuid-Holland"
           ],
           "yaxis": "y"
          },
          {
           "alignmentgroup": "True",
           "hovertemplate": "province=%{y}<br>year_month=2021-01<br>number of cases=%{x}<extra></extra>",
           "ids": [
            "Zuid-Limburg"
           ],
           "legendgroup": "Zuid-Limburg",
           "marker": {
            "color": "#EF553B",
            "pattern": {
             "shape": ""
            }
           },
           "name": "Zuid-Limburg",
           "offsetgroup": "Zuid-Limburg",
           "orientation": "h",
           "showlegend": true,
           "textposition": "auto",
           "type": "bar",
           "x": [
            15935
           ],
           "xaxis": "x",
           "y": [
            "Zuid-Limburg"
           ],
           "yaxis": "y"
          }
         ],
         "name": "2021-01"
        },
        {
         "data": [
          {
           "alignmentgroup": "True",
           "hovertemplate": "province=%{y}<br>year_month=2021-02<br>number of cases=%{x}<extra></extra>",
           "ids": [
            "Drenthe"
           ],
           "legendgroup": "Drenthe",
           "marker": {
            "color": "#636efa",
            "pattern": {
             "shape": ""
            }
           },
           "name": "Drenthe",
           "offsetgroup": "Drenthe",
           "orientation": "h",
           "showlegend": true,
           "textposition": "auto",
           "type": "bar",
           "x": [
            3304
           ],
           "xaxis": "x",
           "y": [
            "Drenthe"
           ],
           "yaxis": "y"
          },
          {
           "alignmentgroup": "True",
           "hovertemplate": "province=%{y}<br>year_month=2021-02<br>number of cases=%{x}<extra></extra>",
           "ids": [
            "Flevoland"
           ],
           "legendgroup": "Flevoland",
           "marker": {
            "color": "#EF553B",
            "pattern": {
             "shape": ""
            }
           },
           "name": "Flevoland",
           "offsetgroup": "Flevoland",
           "orientation": "h",
           "showlegend": true,
           "textposition": "auto",
           "type": "bar",
           "x": [
            1993
           ],
           "xaxis": "x",
           "y": [
            "Flevoland"
           ],
           "yaxis": "y"
          },
          {
           "alignmentgroup": "True",
           "hovertemplate": "province=%{y}<br>year_month=2021-02<br>number of cases=%{x}<extra></extra>",
           "ids": [
            "Friesland"
           ],
           "legendgroup": "Friesland",
           "marker": {
            "color": "#00cc96",
            "pattern": {
             "shape": ""
            }
           },
           "name": "Friesland",
           "offsetgroup": "Friesland",
           "orientation": "h",
           "showlegend": true,
           "textposition": "auto",
           "type": "bar",
           "x": [
            4938
           ],
           "xaxis": "x",
           "y": [
            "Friesland"
           ],
           "yaxis": "y"
          },
          {
           "alignmentgroup": "True",
           "hovertemplate": "province=%{y}<br>year_month=2021-02<br>number of cases=%{x}<extra></extra>",
           "ids": [
            "Gelderland"
           ],
           "legendgroup": "Gelderland",
           "marker": {
            "color": "#ab63fa",
            "pattern": {
             "shape": ""
            }
           },
           "name": "Gelderland",
           "offsetgroup": "Gelderland",
           "orientation": "h",
           "showlegend": true,
           "textposition": "auto",
           "type": "bar",
           "x": [
            10316
           ],
           "xaxis": "x",
           "y": [
            "Gelderland"
           ],
           "yaxis": "y"
          },
          {
           "alignmentgroup": "True",
           "hovertemplate": "province=%{y}<br>year_month=2021-02<br>number of cases=%{x}<extra></extra>",
           "ids": [
            "Groningen"
           ],
           "legendgroup": "Groningen",
           "marker": {
            "color": "#FFA15A",
            "pattern": {
             "shape": ""
            }
           },
           "name": "Groningen",
           "offsetgroup": "Groningen",
           "orientation": "h",
           "showlegend": true,
           "textposition": "auto",
           "type": "bar",
           "x": [
            3715
           ],
           "xaxis": "x",
           "y": [
            "Groningen"
           ],
           "yaxis": "y"
          },
          {
           "alignmentgroup": "True",
           "hovertemplate": "province=%{y}<br>year_month=2021-02<br>number of cases=%{x}<extra></extra>",
           "ids": [
            "Noord-Brabant"
           ],
           "legendgroup": "Noord-Brabant",
           "marker": {
            "color": "#19d3f3",
            "pattern": {
             "shape": ""
            }
           },
           "name": "Noord-Brabant",
           "offsetgroup": "Noord-Brabant",
           "orientation": "h",
           "showlegend": true,
           "textposition": "auto",
           "type": "bar",
           "x": [
            18466
           ],
           "xaxis": "x",
           "y": [
            "Noord-Brabant"
           ],
           "yaxis": "y"
          },
          {
           "alignmentgroup": "True",
           "hovertemplate": "province=%{y}<br>year_month=2021-02<br>number of cases=%{x}<extra></extra>",
           "ids": [
            "Noord-Holland"
           ],
           "legendgroup": "Noord-Holland",
           "marker": {
            "color": "#FF6692",
            "pattern": {
             "shape": ""
            }
           },
           "name": "Noord-Holland",
           "offsetgroup": "Noord-Holland",
           "orientation": "h",
           "showlegend": true,
           "textposition": "auto",
           "type": "bar",
           "x": [
            21561
           ],
           "xaxis": "x",
           "y": [
            "Noord-Holland"
           ],
           "yaxis": "y"
          },
          {
           "alignmentgroup": "True",
           "hovertemplate": "province=%{y}<br>year_month=2021-02<br>number of cases=%{x}<extra></extra>",
           "ids": [
            "Overijssel"
           ],
           "legendgroup": "Overijssel",
           "marker": {
            "color": "#B6E880",
            "pattern": {
             "shape": ""
            }
           },
           "name": "Overijssel",
           "offsetgroup": "Overijssel",
           "orientation": "h",
           "showlegend": true,
           "textposition": "auto",
           "type": "bar",
           "x": [
            5885
           ],
           "xaxis": "x",
           "y": [
            "Overijssel"
           ],
           "yaxis": "y"
          },
          {
           "alignmentgroup": "True",
           "hovertemplate": "province=%{y}<br>year_month=2021-02<br>number of cases=%{x}<extra></extra>",
           "ids": [
            "Utrecht"
           ],
           "legendgroup": "Utrecht",
           "marker": {
            "color": "#FF97FF",
            "pattern": {
             "shape": ""
            }
           },
           "name": "Utrecht",
           "offsetgroup": "Utrecht",
           "orientation": "h",
           "showlegend": true,
           "textposition": "auto",
           "type": "bar",
           "x": [
            7809
           ],
           "xaxis": "x",
           "y": [
            "Utrecht"
           ],
           "yaxis": "y"
          },
          {
           "alignmentgroup": "True",
           "hovertemplate": "province=%{y}<br>year_month=2021-02<br>number of cases=%{x}<extra></extra>",
           "ids": [
            "Zeeland"
           ],
           "legendgroup": "Zeeland",
           "marker": {
            "color": "#FECB52",
            "pattern": {
             "shape": ""
            }
           },
           "name": "Zeeland",
           "offsetgroup": "Zeeland",
           "orientation": "h",
           "showlegend": true,
           "textposition": "auto",
           "type": "bar",
           "x": [
            2189
           ],
           "xaxis": "x",
           "y": [
            "Zeeland"
           ],
           "yaxis": "y"
          },
          {
           "alignmentgroup": "True",
           "hovertemplate": "province=%{y}<br>year_month=2021-02<br>number of cases=%{x}<extra></extra>",
           "ids": [
            "Zuid-Holland"
           ],
           "legendgroup": "Zuid-Holland",
           "marker": {
            "color": "#636efa",
            "pattern": {
             "shape": ""
            }
           },
           "name": "Zuid-Holland",
           "offsetgroup": "Zuid-Holland",
           "orientation": "h",
           "showlegend": true,
           "textposition": "auto",
           "type": "bar",
           "x": [
            21353
           ],
           "xaxis": "x",
           "y": [
            "Zuid-Holland"
           ],
           "yaxis": "y"
          },
          {
           "alignmentgroup": "True",
           "hovertemplate": "province=%{y}<br>year_month=2021-02<br>number of cases=%{x}<extra></extra>",
           "ids": [
            "Zuid-Limburg"
           ],
           "legendgroup": "Zuid-Limburg",
           "marker": {
            "color": "#EF553B",
            "pattern": {
             "shape": ""
            }
           },
           "name": "Zuid-Limburg",
           "offsetgroup": "Zuid-Limburg",
           "orientation": "h",
           "showlegend": true,
           "textposition": "auto",
           "type": "bar",
           "x": [
            8150
           ],
           "xaxis": "x",
           "y": [
            "Zuid-Limburg"
           ],
           "yaxis": "y"
          }
         ],
         "name": "2021-02"
        },
        {
         "data": [
          {
           "alignmentgroup": "True",
           "hovertemplate": "province=%{y}<br>year_month=2021-03<br>number of cases=%{x}<extra></extra>",
           "ids": [
            "Drenthe"
           ],
           "legendgroup": "Drenthe",
           "marker": {
            "color": "#636efa",
            "pattern": {
             "shape": ""
            }
           },
           "name": "Drenthe",
           "offsetgroup": "Drenthe",
           "orientation": "h",
           "showlegend": true,
           "textposition": "auto",
           "type": "bar",
           "x": [
            4739
           ],
           "xaxis": "x",
           "y": [
            "Drenthe"
           ],
           "yaxis": "y"
          },
          {
           "alignmentgroup": "True",
           "hovertemplate": "province=%{y}<br>year_month=2021-03<br>number of cases=%{x}<extra></extra>",
           "ids": [
            "Flevoland"
           ],
           "legendgroup": "Flevoland",
           "marker": {
            "color": "#EF553B",
            "pattern": {
             "shape": ""
            }
           },
           "name": "Flevoland",
           "offsetgroup": "Flevoland",
           "orientation": "h",
           "showlegend": true,
           "textposition": "auto",
           "type": "bar",
           "x": [
            3185
           ],
           "xaxis": "x",
           "y": [
            "Flevoland"
           ],
           "yaxis": "y"
          },
          {
           "alignmentgroup": "True",
           "hovertemplate": "province=%{y}<br>year_month=2021-03<br>number of cases=%{x}<extra></extra>",
           "ids": [
            "Friesland"
           ],
           "legendgroup": "Friesland",
           "marker": {
            "color": "#00cc96",
            "pattern": {
             "shape": ""
            }
           },
           "name": "Friesland",
           "offsetgroup": "Friesland",
           "orientation": "h",
           "showlegend": true,
           "textposition": "auto",
           "type": "bar",
           "x": [
            6141
           ],
           "xaxis": "x",
           "y": [
            "Friesland"
           ],
           "yaxis": "y"
          },
          {
           "alignmentgroup": "True",
           "hovertemplate": "province=%{y}<br>year_month=2021-03<br>number of cases=%{x}<extra></extra>",
           "ids": [
            "Gelderland"
           ],
           "legendgroup": "Gelderland",
           "marker": {
            "color": "#ab63fa",
            "pattern": {
             "shape": ""
            }
           },
           "name": "Gelderland",
           "offsetgroup": "Gelderland",
           "orientation": "h",
           "showlegend": true,
           "textposition": "auto",
           "type": "bar",
           "x": [
            18163
           ],
           "xaxis": "x",
           "y": [
            "Gelderland"
           ],
           "yaxis": "y"
          },
          {
           "alignmentgroup": "True",
           "hovertemplate": "province=%{y}<br>year_month=2021-03<br>number of cases=%{x}<extra></extra>",
           "ids": [
            "Groningen"
           ],
           "legendgroup": "Groningen",
           "marker": {
            "color": "#FFA15A",
            "pattern": {
             "shape": ""
            }
           },
           "name": "Groningen",
           "offsetgroup": "Groningen",
           "orientation": "h",
           "showlegend": true,
           "textposition": "auto",
           "type": "bar",
           "x": [
            4155
           ],
           "xaxis": "x",
           "y": [
            "Groningen"
           ],
           "yaxis": "y"
          },
          {
           "alignmentgroup": "True",
           "hovertemplate": "province=%{y}<br>year_month=2021-03<br>number of cases=%{x}<extra></extra>",
           "ids": [
            "Noord-Brabant"
           ],
           "legendgroup": "Noord-Brabant",
           "marker": {
            "color": "#19d3f3",
            "pattern": {
             "shape": ""
            }
           },
           "name": "Noord-Brabant",
           "offsetgroup": "Noord-Brabant",
           "orientation": "h",
           "showlegend": true,
           "textposition": "auto",
           "type": "bar",
           "x": [
            27671
           ],
           "xaxis": "x",
           "y": [
            "Noord-Brabant"
           ],
           "yaxis": "y"
          },
          {
           "alignmentgroup": "True",
           "hovertemplate": "province=%{y}<br>year_month=2021-03<br>number of cases=%{x}<extra></extra>",
           "ids": [
            "Noord-Holland"
           ],
           "legendgroup": "Noord-Holland",
           "marker": {
            "color": "#FF6692",
            "pattern": {
             "shape": ""
            }
           },
           "name": "Noord-Holland",
           "offsetgroup": "Noord-Holland",
           "orientation": "h",
           "showlegend": true,
           "textposition": "auto",
           "type": "bar",
           "x": [
            32836
           ],
           "xaxis": "x",
           "y": [
            "Noord-Holland"
           ],
           "yaxis": "y"
          },
          {
           "alignmentgroup": "True",
           "hovertemplate": "province=%{y}<br>year_month=2021-03<br>number of cases=%{x}<extra></extra>",
           "ids": [
            "Overijssel"
           ],
           "legendgroup": "Overijssel",
           "marker": {
            "color": "#B6E880",
            "pattern": {
             "shape": ""
            }
           },
           "name": "Overijssel",
           "offsetgroup": "Overijssel",
           "orientation": "h",
           "showlegend": true,
           "textposition": "auto",
           "type": "bar",
           "x": [
            9160
           ],
           "xaxis": "x",
           "y": [
            "Overijssel"
           ],
           "yaxis": "y"
          },
          {
           "alignmentgroup": "True",
           "hovertemplate": "province=%{y}<br>year_month=2021-03<br>number of cases=%{x}<extra></extra>",
           "ids": [
            "Utrecht"
           ],
           "legendgroup": "Utrecht",
           "marker": {
            "color": "#FF97FF",
            "pattern": {
             "shape": ""
            }
           },
           "name": "Utrecht",
           "offsetgroup": "Utrecht",
           "orientation": "h",
           "showlegend": true,
           "textposition": "auto",
           "type": "bar",
           "x": [
            12388
           ],
           "xaxis": "x",
           "y": [
            "Utrecht"
           ],
           "yaxis": "y"
          },
          {
           "alignmentgroup": "True",
           "hovertemplate": "province=%{y}<br>year_month=2021-03<br>number of cases=%{x}<extra></extra>",
           "ids": [
            "Zeeland"
           ],
           "legendgroup": "Zeeland",
           "marker": {
            "color": "#FECB52",
            "pattern": {
             "shape": ""
            }
           },
           "name": "Zeeland",
           "offsetgroup": "Zeeland",
           "orientation": "h",
           "showlegend": true,
           "textposition": "auto",
           "type": "bar",
           "x": [
            4073
           ],
           "xaxis": "x",
           "y": [
            "Zeeland"
           ],
           "yaxis": "y"
          },
          {
           "alignmentgroup": "True",
           "hovertemplate": "province=%{y}<br>year_month=2021-03<br>number of cases=%{x}<extra></extra>",
           "ids": [
            "Zuid-Holland"
           ],
           "legendgroup": "Zuid-Holland",
           "marker": {
            "color": "#636efa",
            "pattern": {
             "shape": ""
            }
           },
           "name": "Zuid-Holland",
           "offsetgroup": "Zuid-Holland",
           "orientation": "h",
           "showlegend": true,
           "textposition": "auto",
           "type": "bar",
           "x": [
            42037
           ],
           "xaxis": "x",
           "y": [
            "Zuid-Holland"
           ],
           "yaxis": "y"
          },
          {
           "alignmentgroup": "True",
           "hovertemplate": "province=%{y}<br>year_month=2021-03<br>number of cases=%{x}<extra></extra>",
           "ids": [
            "Zuid-Limburg"
           ],
           "legendgroup": "Zuid-Limburg",
           "marker": {
            "color": "#EF553B",
            "pattern": {
             "shape": ""
            }
           },
           "name": "Zuid-Limburg",
           "offsetgroup": "Zuid-Limburg",
           "orientation": "h",
           "showlegend": true,
           "textposition": "auto",
           "type": "bar",
           "x": [
            10784
           ],
           "xaxis": "x",
           "y": [
            "Zuid-Limburg"
           ],
           "yaxis": "y"
          }
         ],
         "name": "2021-03"
        },
        {
         "data": [
          {
           "alignmentgroup": "True",
           "hovertemplate": "province=%{y}<br>year_month=2021-04<br>number of cases=%{x}<extra></extra>",
           "ids": [
            "Drenthe"
           ],
           "legendgroup": "Drenthe",
           "marker": {
            "color": "#636efa",
            "pattern": {
             "shape": ""
            }
           },
           "name": "Drenthe",
           "offsetgroup": "Drenthe",
           "orientation": "h",
           "showlegend": true,
           "textposition": "auto",
           "type": "bar",
           "x": [
            2371
           ],
           "xaxis": "x",
           "y": [
            "Drenthe"
           ],
           "yaxis": "y"
          },
          {
           "alignmentgroup": "True",
           "hovertemplate": "province=%{y}<br>year_month=2021-04<br>number of cases=%{x}<extra></extra>",
           "ids": [
            "Flevoland"
           ],
           "legendgroup": "Flevoland",
           "marker": {
            "color": "#EF553B",
            "pattern": {
             "shape": ""
            }
           },
           "name": "Flevoland",
           "offsetgroup": "Flevoland",
           "orientation": "h",
           "showlegend": true,
           "textposition": "auto",
           "type": "bar",
           "x": [
            2407
           ],
           "xaxis": "x",
           "y": [
            "Flevoland"
           ],
           "yaxis": "y"
          },
          {
           "alignmentgroup": "True",
           "hovertemplate": "province=%{y}<br>year_month=2021-04<br>number of cases=%{x}<extra></extra>",
           "ids": [
            "Friesland"
           ],
           "legendgroup": "Friesland",
           "marker": {
            "color": "#00cc96",
            "pattern": {
             "shape": ""
            }
           },
           "name": "Friesland",
           "offsetgroup": "Friesland",
           "orientation": "h",
           "showlegend": true,
           "textposition": "auto",
           "type": "bar",
           "x": [
            3657
           ],
           "xaxis": "x",
           "y": [
            "Friesland"
           ],
           "yaxis": "y"
          },
          {
           "alignmentgroup": "True",
           "hovertemplate": "province=%{y}<br>year_month=2021-04<br>number of cases=%{x}<extra></extra>",
           "ids": [
            "Gelderland"
           ],
           "legendgroup": "Gelderland",
           "marker": {
            "color": "#ab63fa",
            "pattern": {
             "shape": ""
            }
           },
           "name": "Gelderland",
           "offsetgroup": "Gelderland",
           "orientation": "h",
           "showlegend": true,
           "textposition": "auto",
           "type": "bar",
           "x": [
            13959
           ],
           "xaxis": "x",
           "y": [
            "Gelderland"
           ],
           "yaxis": "y"
          },
          {
           "alignmentgroup": "True",
           "hovertemplate": "province=%{y}<br>year_month=2021-04<br>number of cases=%{x}<extra></extra>",
           "ids": [
            "Groningen"
           ],
           "legendgroup": "Groningen",
           "marker": {
            "color": "#FFA15A",
            "pattern": {
             "shape": ""
            }
           },
           "name": "Groningen",
           "offsetgroup": "Groningen",
           "orientation": "h",
           "showlegend": true,
           "textposition": "auto",
           "type": "bar",
           "x": [
            2191
           ],
           "xaxis": "x",
           "y": [
            "Groningen"
           ],
           "yaxis": "y"
          },
          {
           "alignmentgroup": "True",
           "hovertemplate": "province=%{y}<br>year_month=2021-04<br>number of cases=%{x}<extra></extra>",
           "ids": [
            "Noord-Brabant"
           ],
           "legendgroup": "Noord-Brabant",
           "marker": {
            "color": "#19d3f3",
            "pattern": {
             "shape": ""
            }
           },
           "name": "Noord-Brabant",
           "offsetgroup": "Noord-Brabant",
           "orientation": "h",
           "showlegend": true,
           "textposition": "auto",
           "type": "bar",
           "x": [
            20664
           ],
           "xaxis": "x",
           "y": [
            "Noord-Brabant"
           ],
           "yaxis": "y"
          },
          {
           "alignmentgroup": "True",
           "hovertemplate": "province=%{y}<br>year_month=2021-04<br>number of cases=%{x}<extra></extra>",
           "ids": [
            "Noord-Holland"
           ],
           "legendgroup": "Noord-Holland",
           "marker": {
            "color": "#FF6692",
            "pattern": {
             "shape": ""
            }
           },
           "name": "Noord-Holland",
           "offsetgroup": "Noord-Holland",
           "orientation": "h",
           "showlegend": true,
           "textposition": "auto",
           "type": "bar",
           "x": [
            17973
           ],
           "xaxis": "x",
           "y": [
            "Noord-Holland"
           ],
           "yaxis": "y"
          },
          {
           "alignmentgroup": "True",
           "hovertemplate": "province=%{y}<br>year_month=2021-04<br>number of cases=%{x}<extra></extra>",
           "ids": [
            "Overijssel"
           ],
           "legendgroup": "Overijssel",
           "marker": {
            "color": "#B6E880",
            "pattern": {
             "shape": ""
            }
           },
           "name": "Overijssel",
           "offsetgroup": "Overijssel",
           "orientation": "h",
           "showlegend": true,
           "textposition": "auto",
           "type": "bar",
           "x": [
            6266
           ],
           "xaxis": "x",
           "y": [
            "Overijssel"
           ],
           "yaxis": "y"
          },
          {
           "alignmentgroup": "True",
           "hovertemplate": "province=%{y}<br>year_month=2021-04<br>number of cases=%{x}<extra></extra>",
           "ids": [
            "Utrecht"
           ],
           "legendgroup": "Utrecht",
           "marker": {
            "color": "#FF97FF",
            "pattern": {
             "shape": ""
            }
           },
           "name": "Utrecht",
           "offsetgroup": "Utrecht",
           "orientation": "h",
           "showlegend": true,
           "textposition": "auto",
           "type": "bar",
           "x": [
            8445
           ],
           "xaxis": "x",
           "y": [
            "Utrecht"
           ],
           "yaxis": "y"
          },
          {
           "alignmentgroup": "True",
           "hovertemplate": "province=%{y}<br>year_month=2021-04<br>number of cases=%{x}<extra></extra>",
           "ids": [
            "Zeeland"
           ],
           "legendgroup": "Zeeland",
           "marker": {
            "color": "#FECB52",
            "pattern": {
             "shape": ""
            }
           },
           "name": "Zeeland",
           "offsetgroup": "Zeeland",
           "orientation": "h",
           "showlegend": true,
           "textposition": "auto",
           "type": "bar",
           "x": [
            2714
           ],
           "xaxis": "x",
           "y": [
            "Zeeland"
           ],
           "yaxis": "y"
          },
          {
           "alignmentgroup": "True",
           "hovertemplate": "province=%{y}<br>year_month=2021-04<br>number of cases=%{x}<extra></extra>",
           "ids": [
            "Zuid-Holland"
           ],
           "legendgroup": "Zuid-Holland",
           "marker": {
            "color": "#636efa",
            "pattern": {
             "shape": ""
            }
           },
           "name": "Zuid-Holland",
           "offsetgroup": "Zuid-Holland",
           "orientation": "h",
           "showlegend": true,
           "textposition": "auto",
           "type": "bar",
           "x": [
            31455
           ],
           "xaxis": "x",
           "y": [
            "Zuid-Holland"
           ],
           "yaxis": "y"
          },
          {
           "alignmentgroup": "True",
           "hovertemplate": "province=%{y}<br>year_month=2021-04<br>number of cases=%{x}<extra></extra>",
           "ids": [
            "Zuid-Limburg"
           ],
           "legendgroup": "Zuid-Limburg",
           "marker": {
            "color": "#EF553B",
            "pattern": {
             "shape": ""
            }
           },
           "name": "Zuid-Limburg",
           "offsetgroup": "Zuid-Limburg",
           "orientation": "h",
           "showlegend": true,
           "textposition": "auto",
           "type": "bar",
           "x": [
            9838
           ],
           "xaxis": "x",
           "y": [
            "Zuid-Limburg"
           ],
           "yaxis": "y"
          }
         ],
         "name": "2021-04"
        }
       ],
       "layout": {
        "barmode": "relative",
        "legend": {
         "title": {
          "text": "province"
         },
         "tracegroupgap": 0
        },
        "margin": {
         "t": 60
        },
        "showlegend": false,
        "sliders": [
         {
          "active": 0,
          "currentvalue": {
           "prefix": "year_month="
          },
          "len": 0.9,
          "pad": {
           "b": 10,
           "t": 60
          },
          "steps": [
           {
            "args": [
             [
              "2020-02"
             ],
             {
              "frame": {
               "duration": 0,
               "redraw": true
              },
              "fromcurrent": true,
              "mode": "immediate",
              "transition": {
               "duration": 0,
               "easing": "linear"
              }
             }
            ],
            "label": "2020-02",
            "method": "animate"
           },
           {
            "args": [
             [
              "2020-03"
             ],
             {
              "frame": {
               "duration": 0,
               "redraw": true
              },
              "fromcurrent": true,
              "mode": "immediate",
              "transition": {
               "duration": 0,
               "easing": "linear"
              }
             }
            ],
            "label": "2020-03",
            "method": "animate"
           },
           {
            "args": [
             [
              "2020-04"
             ],
             {
              "frame": {
               "duration": 0,
               "redraw": true
              },
              "fromcurrent": true,
              "mode": "immediate",
              "transition": {
               "duration": 0,
               "easing": "linear"
              }
             }
            ],
            "label": "2020-04",
            "method": "animate"
           },
           {
            "args": [
             [
              "2020-05"
             ],
             {
              "frame": {
               "duration": 0,
               "redraw": true
              },
              "fromcurrent": true,
              "mode": "immediate",
              "transition": {
               "duration": 0,
               "easing": "linear"
              }
             }
            ],
            "label": "2020-05",
            "method": "animate"
           },
           {
            "args": [
             [
              "2020-06"
             ],
             {
              "frame": {
               "duration": 0,
               "redraw": true
              },
              "fromcurrent": true,
              "mode": "immediate",
              "transition": {
               "duration": 0,
               "easing": "linear"
              }
             }
            ],
            "label": "2020-06",
            "method": "animate"
           },
           {
            "args": [
             [
              "2020-07"
             ],
             {
              "frame": {
               "duration": 0,
               "redraw": true
              },
              "fromcurrent": true,
              "mode": "immediate",
              "transition": {
               "duration": 0,
               "easing": "linear"
              }
             }
            ],
            "label": "2020-07",
            "method": "animate"
           },
           {
            "args": [
             [
              "2020-08"
             ],
             {
              "frame": {
               "duration": 0,
               "redraw": true
              },
              "fromcurrent": true,
              "mode": "immediate",
              "transition": {
               "duration": 0,
               "easing": "linear"
              }
             }
            ],
            "label": "2020-08",
            "method": "animate"
           },
           {
            "args": [
             [
              "2020-09"
             ],
             {
              "frame": {
               "duration": 0,
               "redraw": true
              },
              "fromcurrent": true,
              "mode": "immediate",
              "transition": {
               "duration": 0,
               "easing": "linear"
              }
             }
            ],
            "label": "2020-09",
            "method": "animate"
           },
           {
            "args": [
             [
              "2020-10"
             ],
             {
              "frame": {
               "duration": 0,
               "redraw": true
              },
              "fromcurrent": true,
              "mode": "immediate",
              "transition": {
               "duration": 0,
               "easing": "linear"
              }
             }
            ],
            "label": "2020-10",
            "method": "animate"
           },
           {
            "args": [
             [
              "2020-11"
             ],
             {
              "frame": {
               "duration": 0,
               "redraw": true
              },
              "fromcurrent": true,
              "mode": "immediate",
              "transition": {
               "duration": 0,
               "easing": "linear"
              }
             }
            ],
            "label": "2020-11",
            "method": "animate"
           },
           {
            "args": [
             [
              "2020-12"
             ],
             {
              "frame": {
               "duration": 0,
               "redraw": true
              },
              "fromcurrent": true,
              "mode": "immediate",
              "transition": {
               "duration": 0,
               "easing": "linear"
              }
             }
            ],
            "label": "2020-12",
            "method": "animate"
           },
           {
            "args": [
             [
              "2021-01"
             ],
             {
              "frame": {
               "duration": 0,
               "redraw": true
              },
              "fromcurrent": true,
              "mode": "immediate",
              "transition": {
               "duration": 0,
               "easing": "linear"
              }
             }
            ],
            "label": "2021-01",
            "method": "animate"
           },
           {
            "args": [
             [
              "2021-02"
             ],
             {
              "frame": {
               "duration": 0,
               "redraw": true
              },
              "fromcurrent": true,
              "mode": "immediate",
              "transition": {
               "duration": 0,
               "easing": "linear"
              }
             }
            ],
            "label": "2021-02",
            "method": "animate"
           },
           {
            "args": [
             [
              "2021-03"
             ],
             {
              "frame": {
               "duration": 0,
               "redraw": true
              },
              "fromcurrent": true,
              "mode": "immediate",
              "transition": {
               "duration": 0,
               "easing": "linear"
              }
             }
            ],
            "label": "2021-03",
            "method": "animate"
           },
           {
            "args": [
             [
              "2021-04"
             ],
             {
              "frame": {
               "duration": 0,
               "redraw": true
              },
              "fromcurrent": true,
              "mode": "immediate",
              "transition": {
               "duration": 0,
               "easing": "linear"
              }
             }
            ],
            "label": "2021-04",
            "method": "animate"
           }
          ],
          "x": 0.1,
          "xanchor": "left",
          "y": 0,
          "yanchor": "top"
         }
        ],
        "template": {
         "data": {
          "bar": [
           {
            "error_x": {
             "color": "#2a3f5f"
            },
            "error_y": {
             "color": "#2a3f5f"
            },
            "marker": {
             "line": {
              "color": "#E5ECF6",
              "width": 0.5
             },
             "pattern": {
              "fillmode": "overlay",
              "size": 10,
              "solidity": 0.2
             }
            },
            "type": "bar"
           }
          ],
          "barpolar": [
           {
            "marker": {
             "line": {
              "color": "#E5ECF6",
              "width": 0.5
             },
             "pattern": {
              "fillmode": "overlay",
              "size": 10,
              "solidity": 0.2
             }
            },
            "type": "barpolar"
           }
          ],
          "carpet": [
           {
            "aaxis": {
             "endlinecolor": "#2a3f5f",
             "gridcolor": "white",
             "linecolor": "white",
             "minorgridcolor": "white",
             "startlinecolor": "#2a3f5f"
            },
            "baxis": {
             "endlinecolor": "#2a3f5f",
             "gridcolor": "white",
             "linecolor": "white",
             "minorgridcolor": "white",
             "startlinecolor": "#2a3f5f"
            },
            "type": "carpet"
           }
          ],
          "choropleth": [
           {
            "colorbar": {
             "outlinewidth": 0,
             "ticks": ""
            },
            "type": "choropleth"
           }
          ],
          "contour": [
           {
            "colorbar": {
             "outlinewidth": 0,
             "ticks": ""
            },
            "colorscale": [
             [
              0,
              "#0d0887"
             ],
             [
              0.1111111111111111,
              "#46039f"
             ],
             [
              0.2222222222222222,
              "#7201a8"
             ],
             [
              0.3333333333333333,
              "#9c179e"
             ],
             [
              0.4444444444444444,
              "#bd3786"
             ],
             [
              0.5555555555555556,
              "#d8576b"
             ],
             [
              0.6666666666666666,
              "#ed7953"
             ],
             [
              0.7777777777777778,
              "#fb9f3a"
             ],
             [
              0.8888888888888888,
              "#fdca26"
             ],
             [
              1,
              "#f0f921"
             ]
            ],
            "type": "contour"
           }
          ],
          "contourcarpet": [
           {
            "colorbar": {
             "outlinewidth": 0,
             "ticks": ""
            },
            "type": "contourcarpet"
           }
          ],
          "heatmap": [
           {
            "colorbar": {
             "outlinewidth": 0,
             "ticks": ""
            },
            "colorscale": [
             [
              0,
              "#0d0887"
             ],
             [
              0.1111111111111111,
              "#46039f"
             ],
             [
              0.2222222222222222,
              "#7201a8"
             ],
             [
              0.3333333333333333,
              "#9c179e"
             ],
             [
              0.4444444444444444,
              "#bd3786"
             ],
             [
              0.5555555555555556,
              "#d8576b"
             ],
             [
              0.6666666666666666,
              "#ed7953"
             ],
             [
              0.7777777777777778,
              "#fb9f3a"
             ],
             [
              0.8888888888888888,
              "#fdca26"
             ],
             [
              1,
              "#f0f921"
             ]
            ],
            "type": "heatmap"
           }
          ],
          "heatmapgl": [
           {
            "colorbar": {
             "outlinewidth": 0,
             "ticks": ""
            },
            "colorscale": [
             [
              0,
              "#0d0887"
             ],
             [
              0.1111111111111111,
              "#46039f"
             ],
             [
              0.2222222222222222,
              "#7201a8"
             ],
             [
              0.3333333333333333,
              "#9c179e"
             ],
             [
              0.4444444444444444,
              "#bd3786"
             ],
             [
              0.5555555555555556,
              "#d8576b"
             ],
             [
              0.6666666666666666,
              "#ed7953"
             ],
             [
              0.7777777777777778,
              "#fb9f3a"
             ],
             [
              0.8888888888888888,
              "#fdca26"
             ],
             [
              1,
              "#f0f921"
             ]
            ],
            "type": "heatmapgl"
           }
          ],
          "histogram": [
           {
            "marker": {
             "pattern": {
              "fillmode": "overlay",
              "size": 10,
              "solidity": 0.2
             }
            },
            "type": "histogram"
           }
          ],
          "histogram2d": [
           {
            "colorbar": {
             "outlinewidth": 0,
             "ticks": ""
            },
            "colorscale": [
             [
              0,
              "#0d0887"
             ],
             [
              0.1111111111111111,
              "#46039f"
             ],
             [
              0.2222222222222222,
              "#7201a8"
             ],
             [
              0.3333333333333333,
              "#9c179e"
             ],
             [
              0.4444444444444444,
              "#bd3786"
             ],
             [
              0.5555555555555556,
              "#d8576b"
             ],
             [
              0.6666666666666666,
              "#ed7953"
             ],
             [
              0.7777777777777778,
              "#fb9f3a"
             ],
             [
              0.8888888888888888,
              "#fdca26"
             ],
             [
              1,
              "#f0f921"
             ]
            ],
            "type": "histogram2d"
           }
          ],
          "histogram2dcontour": [
           {
            "colorbar": {
             "outlinewidth": 0,
             "ticks": ""
            },
            "colorscale": [
             [
              0,
              "#0d0887"
             ],
             [
              0.1111111111111111,
              "#46039f"
             ],
             [
              0.2222222222222222,
              "#7201a8"
             ],
             [
              0.3333333333333333,
              "#9c179e"
             ],
             [
              0.4444444444444444,
              "#bd3786"
             ],
             [
              0.5555555555555556,
              "#d8576b"
             ],
             [
              0.6666666666666666,
              "#ed7953"
             ],
             [
              0.7777777777777778,
              "#fb9f3a"
             ],
             [
              0.8888888888888888,
              "#fdca26"
             ],
             [
              1,
              "#f0f921"
             ]
            ],
            "type": "histogram2dcontour"
           }
          ],
          "mesh3d": [
           {
            "colorbar": {
             "outlinewidth": 0,
             "ticks": ""
            },
            "type": "mesh3d"
           }
          ],
          "parcoords": [
           {
            "line": {
             "colorbar": {
              "outlinewidth": 0,
              "ticks": ""
             }
            },
            "type": "parcoords"
           }
          ],
          "pie": [
           {
            "automargin": true,
            "type": "pie"
           }
          ],
          "scatter": [
           {
            "marker": {
             "colorbar": {
              "outlinewidth": 0,
              "ticks": ""
             }
            },
            "type": "scatter"
           }
          ],
          "scatter3d": [
           {
            "line": {
             "colorbar": {
              "outlinewidth": 0,
              "ticks": ""
             }
            },
            "marker": {
             "colorbar": {
              "outlinewidth": 0,
              "ticks": ""
             }
            },
            "type": "scatter3d"
           }
          ],
          "scattercarpet": [
           {
            "marker": {
             "colorbar": {
              "outlinewidth": 0,
              "ticks": ""
             }
            },
            "type": "scattercarpet"
           }
          ],
          "scattergeo": [
           {
            "marker": {
             "colorbar": {
              "outlinewidth": 0,
              "ticks": ""
             }
            },
            "type": "scattergeo"
           }
          ],
          "scattergl": [
           {
            "marker": {
             "colorbar": {
              "outlinewidth": 0,
              "ticks": ""
             }
            },
            "type": "scattergl"
           }
          ],
          "scattermapbox": [
           {
            "marker": {
             "colorbar": {
              "outlinewidth": 0,
              "ticks": ""
             }
            },
            "type": "scattermapbox"
           }
          ],
          "scatterpolar": [
           {
            "marker": {
             "colorbar": {
              "outlinewidth": 0,
              "ticks": ""
             }
            },
            "type": "scatterpolar"
           }
          ],
          "scatterpolargl": [
           {
            "marker": {
             "colorbar": {
              "outlinewidth": 0,
              "ticks": ""
             }
            },
            "type": "scatterpolargl"
           }
          ],
          "scatterternary": [
           {
            "marker": {
             "colorbar": {
              "outlinewidth": 0,
              "ticks": ""
             }
            },
            "type": "scatterternary"
           }
          ],
          "surface": [
           {
            "colorbar": {
             "outlinewidth": 0,
             "ticks": ""
            },
            "colorscale": [
             [
              0,
              "#0d0887"
             ],
             [
              0.1111111111111111,
              "#46039f"
             ],
             [
              0.2222222222222222,
              "#7201a8"
             ],
             [
              0.3333333333333333,
              "#9c179e"
             ],
             [
              0.4444444444444444,
              "#bd3786"
             ],
             [
              0.5555555555555556,
              "#d8576b"
             ],
             [
              0.6666666666666666,
              "#ed7953"
             ],
             [
              0.7777777777777778,
              "#fb9f3a"
             ],
             [
              0.8888888888888888,
              "#fdca26"
             ],
             [
              1,
              "#f0f921"
             ]
            ],
            "type": "surface"
           }
          ],
          "table": [
           {
            "cells": {
             "fill": {
              "color": "#EBF0F8"
             },
             "line": {
              "color": "white"
             }
            },
            "header": {
             "fill": {
              "color": "#C8D4E3"
             },
             "line": {
              "color": "white"
             }
            },
            "type": "table"
           }
          ]
         },
         "layout": {
          "annotationdefaults": {
           "arrowcolor": "#2a3f5f",
           "arrowhead": 0,
           "arrowwidth": 1
          },
          "autotypenumbers": "strict",
          "coloraxis": {
           "colorbar": {
            "outlinewidth": 0,
            "ticks": ""
           }
          },
          "colorscale": {
           "diverging": [
            [
             0,
             "#8e0152"
            ],
            [
             0.1,
             "#c51b7d"
            ],
            [
             0.2,
             "#de77ae"
            ],
            [
             0.3,
             "#f1b6da"
            ],
            [
             0.4,
             "#fde0ef"
            ],
            [
             0.5,
             "#f7f7f7"
            ],
            [
             0.6,
             "#e6f5d0"
            ],
            [
             0.7,
             "#b8e186"
            ],
            [
             0.8,
             "#7fbc41"
            ],
            [
             0.9,
             "#4d9221"
            ],
            [
             1,
             "#276419"
            ]
           ],
           "sequential": [
            [
             0,
             "#0d0887"
            ],
            [
             0.1111111111111111,
             "#46039f"
            ],
            [
             0.2222222222222222,
             "#7201a8"
            ],
            [
             0.3333333333333333,
             "#9c179e"
            ],
            [
             0.4444444444444444,
             "#bd3786"
            ],
            [
             0.5555555555555556,
             "#d8576b"
            ],
            [
             0.6666666666666666,
             "#ed7953"
            ],
            [
             0.7777777777777778,
             "#fb9f3a"
            ],
            [
             0.8888888888888888,
             "#fdca26"
            ],
            [
             1,
             "#f0f921"
            ]
           ],
           "sequentialminus": [
            [
             0,
             "#0d0887"
            ],
            [
             0.1111111111111111,
             "#46039f"
            ],
            [
             0.2222222222222222,
             "#7201a8"
            ],
            [
             0.3333333333333333,
             "#9c179e"
            ],
            [
             0.4444444444444444,
             "#bd3786"
            ],
            [
             0.5555555555555556,
             "#d8576b"
            ],
            [
             0.6666666666666666,
             "#ed7953"
            ],
            [
             0.7777777777777778,
             "#fb9f3a"
            ],
            [
             0.8888888888888888,
             "#fdca26"
            ],
            [
             1,
             "#f0f921"
            ]
           ]
          },
          "colorway": [
           "#636efa",
           "#EF553B",
           "#00cc96",
           "#ab63fa",
           "#FFA15A",
           "#19d3f3",
           "#FF6692",
           "#B6E880",
           "#FF97FF",
           "#FECB52"
          ],
          "font": {
           "color": "#2a3f5f"
          },
          "geo": {
           "bgcolor": "white",
           "lakecolor": "white",
           "landcolor": "#E5ECF6",
           "showlakes": true,
           "showland": true,
           "subunitcolor": "white"
          },
          "hoverlabel": {
           "align": "left"
          },
          "hovermode": "closest",
          "mapbox": {
           "style": "light"
          },
          "paper_bgcolor": "white",
          "plot_bgcolor": "#E5ECF6",
          "polar": {
           "angularaxis": {
            "gridcolor": "white",
            "linecolor": "white",
            "ticks": ""
           },
           "bgcolor": "#E5ECF6",
           "radialaxis": {
            "gridcolor": "white",
            "linecolor": "white",
            "ticks": ""
           }
          },
          "scene": {
           "xaxis": {
            "backgroundcolor": "#E5ECF6",
            "gridcolor": "white",
            "gridwidth": 2,
            "linecolor": "white",
            "showbackground": true,
            "ticks": "",
            "zerolinecolor": "white"
           },
           "yaxis": {
            "backgroundcolor": "#E5ECF6",
            "gridcolor": "white",
            "gridwidth": 2,
            "linecolor": "white",
            "showbackground": true,
            "ticks": "",
            "zerolinecolor": "white"
           },
           "zaxis": {
            "backgroundcolor": "#E5ECF6",
            "gridcolor": "white",
            "gridwidth": 2,
            "linecolor": "white",
            "showbackground": true,
            "ticks": "",
            "zerolinecolor": "white"
           }
          },
          "shapedefaults": {
           "line": {
            "color": "#2a3f5f"
           }
          },
          "ternary": {
           "aaxis": {
            "gridcolor": "white",
            "linecolor": "white",
            "ticks": ""
           },
           "baxis": {
            "gridcolor": "white",
            "linecolor": "white",
            "ticks": ""
           },
           "bgcolor": "#E5ECF6",
           "caxis": {
            "gridcolor": "white",
            "linecolor": "white",
            "ticks": ""
           }
          },
          "title": {
           "x": 0.05
          },
          "xaxis": {
           "automargin": true,
           "gridcolor": "white",
           "linecolor": "white",
           "ticks": "",
           "title": {
            "standoff": 15
           },
           "zerolinecolor": "white",
           "zerolinewidth": 2
          },
          "yaxis": {
           "automargin": true,
           "gridcolor": "white",
           "linecolor": "white",
           "ticks": "",
           "title": {
            "standoff": 15
           },
           "zerolinecolor": "white",
           "zerolinewidth": 2
          }
         }
        },
        "updatemenus": [
         {
          "buttons": [
           {
            "args": [
             null,
             {
              "frame": {
               "duration": 500,
               "redraw": true
              },
              "fromcurrent": true,
              "mode": "immediate",
              "transition": {
               "duration": 500,
               "easing": "linear"
              }
             }
            ],
            "label": "&#9654;",
            "method": "animate"
           },
           {
            "args": [
             [
              null
             ],
             {
              "frame": {
               "duration": 0,
               "redraw": true
              },
              "fromcurrent": true,
              "mode": "immediate",
              "transition": {
               "duration": 0,
               "easing": "linear"
              }
             }
            ],
            "label": "&#9724;",
            "method": "animate"
           }
          ],
          "direction": "left",
          "pad": {
           "r": 10,
           "t": 70
          },
          "showactive": false,
          "type": "buttons",
          "x": 0.1,
          "xanchor": "right",
          "y": 0,
          "yanchor": "top"
         }
        ],
        "xaxis": {
         "anchor": "y",
         "domain": [
          0,
          1
         ],
         "range": [
          0,
          100
         ],
         "title": {
          "text": "number of cases"
         }
        },
        "yaxis": {
         "anchor": "x",
         "categoryarray": [
          "Zuid-Limburg",
          "Zuid-Holland",
          "Zeeland",
          "Utrecht",
          "Overijssel",
          "Noord-Holland",
          "Noord-Brabant",
          "Groningen",
          "Gelderland",
          "Friesland",
          "Flevoland",
          "Drenthe"
         ],
         "categoryorder": "total ascending",
         "domain": [
          0,
          1
         ],
         "title": {
          "text": "province"
         }
        }
       }
      }
     },
     "metadata": {},
     "output_type": "display_data"
    }
   ],
   "source": [
    "# Making a bar chart that can be toggled for the months. Here the monthly dataframe created in the first part comes in handy!\n",
    "# First a column is added to the df_month that only shows the year and the month\n",
    "df_full_month['year_month'] = df_full_month['date'].dt.strftime('%Y-%m')\n",
    "\n",
    "# Then the bar chart can be created using this column\n",
    "fig_6 = px.bar(df_full_month, x= 'number of cases', y='province', orientation='h',color='province',\n",
    "                animation_frame='year_month', animation_group='province')\n",
    "fig_6.update_layout(showlegend=False,xaxis_range = [0,100])\n",
    "fig_6.update_layout(yaxis={'categoryorder':'total ascending'})\n",
    "fig_6.show()"
   ]
  },
  {
   "cell_type": "markdown",
   "metadata": {},
   "source": [
    "By autoscaling the axes, the number of cases can also be seen in months with high numbers\n",
    "\n",
    "This shows how the narrative around Noord-Brabant was not completely unfair in the beginning\n",
    "- But it also shows that Zuid-Holland as of April 2020 had more cases than Noord-Brabant\n",
    "- Nevertheless you heard many people talking about how bad Brabant was doing. but not about how bad a.o. Zuid-Holland was doing\n",
    "- As an anecdote: my dad, who lives in Amsterdam, told me in May 2020 that I should watch out in Eindhoven with the number of cases there, even though the number had rapidly increased in Amsterdam/Noord-Holland to more cases per citizen than in Eindhoven\n",
    "- It was interesting to see how the narrative around different provinces impacted the way people perceived the covid crisis in the Netherlands"
   ]
  },
  {
   "cell_type": "markdown",
   "metadata": {},
   "source": [
    "To further illustrate this, let's add a geospatial map of the cumulative number of cases for each province at the latest date of the dataframe."
   ]
  },
  {
   "cell_type": "code",
   "execution_count": 37,
   "metadata": {},
   "outputs": [
    {
     "data": {
      "text/plain": [
       "<AxesSubplot:title={'center':'Cumulative number of covid cases per province on the 4th of February 2021'}>"
      ]
     },
     "execution_count": 37,
     "metadata": {},
     "output_type": "execute_result"
    },
    {
     "data": {
      "image/png": "[encoded data removed]",
      "image/svg+xml": "<?xml version=\"1.0\" encoding=\"utf-8\" standalone=\"no\"?>\r\n<!DOCTYPE svg PUBLIC \"-//W3C//DTD SVG 1.1//EN\"\r\n  \"http://www.w3.org/Graphics/SVG/1.1/DTD/svg11.dtd\">\r\n<svg height=\"365.556094pt\" version=\"1.1\" viewBox=\"0 0 972.595312 365.556094\" width=\"972.595312pt\" xmlns=\"http://www.w3.org/2000/svg\" xmlns:xlink=\"http://www.w3.org/1999/xlink\">\r\n <metadata>\r\n  <rdf:RDF xmlns:cc=\"http://creativecommons.org/ns#\" xmlns:dc=\"http://purl.org/dc/elements/1.1/\" xmlns:rdf=\"http://www.w3.org/1999/02/22-rdf-syntax-ns#\">\r\n   <cc:Work>\r\n    <dc:type rdf:resource=\"http://purl.org/dc/dcmitype/StillImage\"/>\r\n    <dc:date>2021-11-02T20:41:52.593268</dc:date>\r\n    <dc:format>image/svg+xml</dc:format>\r\n    <dc:creator>\r\n     <cc:Agent>\r\n      <dc:title>Matplotlib v3.4.3, https://matplotlib.org/</dc:title>\r\n     </cc:Agent>\r\n    </dc:creator>\r\n   </cc:Work>\r\n  </rdf:RDF>\r\n </metadata>\r\n <defs>\r\n  <style type=\"text/css\">*{stroke-linecap:butt;stroke-linejoin:round;}</style>\r\n </defs>\r\n <g id=\"figure_1\">\r\n  <g id=\"patch_1\">\r\n   <path d=\"M 0 365.556094 \r\nL 972.595312 365.556094 \r\nL 972.595312 0 \r\nL 0 0 \r\nz\r\n\" style=\"fill:none;\"/>\r\n  </g>\r\n  <g id=\"axes_1\">\r\n   <g id=\"PatchCollection_1\">\r\n    <path clip-path=\"url(#pab055609a1)\" d=\"M 610.368683 79.462987 \r\nL 610.271761 79.629461 \r\nL 610.183379 79.445136 \r\nL 610.283887 79.436099 \r\nL 610.28756 79.213349 \r\nL 610.415019 79.052438 \r\nL 610.470091 79.413815 \r\nL 610.368683 79.462987 \r\n\" style=\"fill:#f3f8fe;stroke:#333333;stroke-width:0.6;\"/>\r\n    <path clip-path=\"url(#pab055609a1)\" d=\"M 547.166209 67.420908 \r\nL 547.140285 67.557017 \r\nL 546.967346 67.470832 \r\nL 547.064542 67.347745 \r\nL 547.166209 67.420908 \r\n\" style=\"fill:#f3f8fe;stroke:#333333;stroke-width:0.6;\"/>\r\n    <path clip-path=\"url(#pab055609a1)\" d=\"M 546.970502 66.563001 \r\nL 546.978698 66.774289 \r\nL 546.870381 66.756474 \r\nL 546.783443 66.596493 \r\nL 546.80814 66.54015 \r\nL 546.894836 66.510095 \r\nL 546.970502 66.563001 \r\n\" style=\"fill:#f3f8fe;stroke:#333333;stroke-width:0.6;\"/>\r\n    <path clip-path=\"url(#pab055609a1)\" d=\"M 546.80732 66.784509 \r\nL 546.746894 67.181996 \r\nL 546.901249 67.338536 \r\nL 546.835871 67.484059 \r\nL 546.136347 67.453483 \r\nL 545.21529 66.782791 \r\nL 545.291023 66.421462 \r\nL 545.580311 66.528216 \r\nL 545.745502 66.879998 \r\nL 545.798241 66.801549 \r\nL 545.776309 66.470151 \r\nL 545.859166 66.312009 \r\nL 546.003141 66.305764 \r\nL 546.175642 66.467712 \r\nL 546.700776 66.58015 \r\nL 546.80732 66.784509 \r\n\" style=\"fill:#f3f8fe;stroke:#333333;stroke-width:0.6;\"/>\r\n    <path clip-path=\"url(#pab055609a1)\" d=\"M 545.649845 65.147216 \r\nL 545.350118 65.371791 \r\nL 545.303198 65.064973 \r\nL 545.471165 64.968354 \r\nL 545.583769 65.020562 \r\nL 545.649845 65.147216 \r\n\" style=\"fill:#f3f8fe;stroke:#333333;stroke-width:0.6;\"/>\r\n    <path clip-path=\"url(#pab055609a1)\" d=\"M 548.065062 64.67038 \r\nL 547.824371 64.711849 \r\nL 547.541333 64.599607 \r\nL 547.768347 64.412276 \r\nL 548.103324 64.322989 \r\nL 548.191538 64.362176 \r\nL 548.310496 64.52199 \r\nL 548.065062 64.67038 \r\n\" style=\"fill:#f3f8fe;stroke:#333333;stroke-width:0.6;\"/>\r\n    <path clip-path=\"url(#pab055609a1)\" d=\"M 582.726117 56.677219 \r\nL 583.641992 57.190601 \r\nL 583.879212 57.24735 \r\nL 583.973572 57.259096 \r\nL 584.922395 56.368318 \r\nL 585.888083 56.730639 \r\nL 585.969147 56.718181 \r\nL 586.111341 56.436785 \r\nL 586.249577 56.422561 \r\nL 586.24634 56.461181 \r\nL 586.127392 56.47585 \r\nL 586.006633 56.72968 \r\nL 586.18294 56.868768 \r\nL 586.239362 57.093514 \r\nL 586.094528 57.108042 \r\nL 585.613078 56.933786 \r\nL 585.581076 57.067492 \r\nL 586.249063 57.255679 \r\nL 586.111881 57.668997 \r\nL 585.011016 57.398326 \r\nL 584.94052 57.445739 \r\nL 584.887908 57.662996 \r\nL 585.944353 57.93895 \r\nL 585.891093 58.189354 \r\nL 585.340774 58.063405 \r\nL 585.296104 58.283119 \r\nL 586.212132 58.492963 \r\nL 586.450343 58.422297 \r\nL 587.120215 58.568518 \r\nL 587.144646 58.526807 \r\nL 587.602542 58.599267 \r\nL 587.65517 58.381378 \r\nL 586.512322 58.069905 \r\nL 586.755504 56.971272 \r\nL 586.750007 56.844088 \r\nL 586.648963 56.643256 \r\nL 586.685223 56.637494 \r\nL 586.789545 56.848481 \r\nL 586.780759 57.079124 \r\nL 587.666373 57.422704 \r\nL 588.066476 57.64073 \r\nL 589.128903 58.585737 \r\nL 589.182826 58.515451 \r\nL 589.368304 58.648605 \r\nL 589.30634 58.734317 \r\nL 589.371269 59.184052 \r\nL 588.896039 60.657807 \r\nL 588.85613 62.122797 \r\nL 589.162248 62.420662 \r\nL 589.756371 63.379562 \r\nL 589.595468 63.640947 \r\nL 589.587347 63.75383 \r\nL 589.836903 63.87325 \r\nL 589.930939 64.124939 \r\nL 589.821447 64.673114 \r\nL 589.850432 65.033721 \r\nL 590.135527 65.975101 \r\nL 590.295691 66.151374 \r\nL 590.231921 66.625041 \r\nL 590.267926 66.81948 \r\nL 590.361334 66.965238 \r\nL 590.350756 67.266798 \r\nL 590.418106 67.630515 \r\nL 590.749353 68.476345 \r\nL 591.156832 68.495406 \r\nL 591.447866 68.768789 \r\nL 591.82218 69.016693 \r\nL 592.536489 69.708709 \r\nL 592.572183 69.773573 \r\nL 592.679817 69.80128 \r\nL 592.94261 69.853558 \r\nL 593.45819 70.300459 \r\nL 593.415761 70.556461 \r\nL 594.03297 70.839973 \r\nL 595.11696 71.100465 \r\nL 596.183686 71.523271 \r\nL 596.784749 71.598139 \r\nL 597.321725 71.543657 \r\nL 597.32868 71.572122 \r\nL 597.311812 71.581745 \r\nL 597.237521 71.650614 \r\nL 596.562457 71.704381 \r\nL 596.227144 71.643873 \r\nL 595.125562 71.203299 \r\nL 593.968519 70.964952 \r\nL 593.581103 70.808264 \r\nL 593.221493 70.45218 \r\nL 593.168805 70.467867 \r\nL 592.818262 69.957065 \r\nL 592.621434 70.061946 \r\nL 592.500192 70.395095 \r\nL 592.472041 70.38513 \r\nL 592.439071 70.534004 \r\nL 592.589063 70.587276 \r\nL 592.675157 70.683501 \r\nL 592.935531 70.667003 \r\nL 593.826956 71.09815 \r\nL 594.351688 71.241056 \r\nL 594.658451 71.418774 \r\nL 594.999728 71.395861 \r\nL 595.430047 71.602317 \r\nL 595.703912 71.662568 \r\nL 596.784847 72.131581 \r\nL 597.062813 72.36205 \r\nL 597.693388 71.884624 \r\nL 597.594603 71.716151 \r\nL 597.657493 71.676409 \r\nL 597.837794 72.152353 \r\nL 597.651167 72.654931 \r\nL 597.684246 72.696733 \r\nL 598.749263 73.059676 \r\nL 599.001451 73.039973 \r\nL 599.43648 72.808804 \r\nL 599.52036 73.048333 \r\nL 599.876994 73.151011 \r\nL 600.053296 73.335257 \r\nL 601.361448 73.284852 \r\nL 601.469648 73.236486 \r\nL 601.899324 73.217264 \r\nL 602.144095 72.850416 \r\nL 602.492564 72.793359 \r\nL 602.789753 72.683467 \r\nL 602.867201 72.63005 \r\nL 603.060392 72.369149 \r\nL 603.248055 72.29299 \r\nL 603.35051 72.377734 \r\nL 603.303849 72.529199 \r\nL 603.257082 72.68101 \r\nL 603.084221 72.718189 \r\nL 602.761063 73.169906 \r\nL 602.460902 73.471031 \r\nL 602.422416 73.443647 \r\nL 602.377262 73.493144 \r\nL 602.287721 74.163411 \r\nL 602.482706 75.080577 \r\nL 602.22099 75.626612 \r\nL 602.068632 76.330307 \r\nL 602.084926 76.772352 \r\nL 602.495498 77.292626 \r\nL 603.052792 77.74637 \r\nL 603.23165 77.882537 \r\nL 603.338478 77.847559 \r\nL 603.721128 78.244595 \r\nL 603.82531 78.192713 \r\nL 603.908076 78.279668 \r\nL 604.014769 78.196912 \r\nL 604.245283 78.399567 \r\nL 604.448925 78.23212 \r\nL 604.548262 78.397039 \r\nL 604.713392 78.335659 \r\nL 604.823979 78.471109 \r\nL 605.016482 78.410214 \r\nL 605.651051 78.422372 \r\nL 605.74697 78.605243 \r\nL 606.017087 78.693029 \r\nL 606.234642 78.878916 \r\nL 606.489151 78.804048 \r\nL 606.68407 78.921402 \r\nL 607.052495 79.102576 \r\nL 607.067069 78.940987 \r\nL 607.224035 78.925851 \r\nL 607.267441 78.811911 \r\nL 607.507913 78.882023 \r\nL 607.72763 79.034304 \r\nL 607.80687 79.151142 \r\nL 607.975094 79.15472 \r\nL 608.149424 79.381174 \r\nL 608.190612 79.273462 \r\nL 608.427364 79.296633 \r\nL 608.795938 79.509709 \r\nL 608.81693 79.430303 \r\nL 608.987196 79.546495 \r\nL 609.065781 79.503605 \r\nL 609.203131 79.624074 \r\nL 609.517002 79.608264 \r\nL 610.173165 79.729453 \r\nL 610.321928 80.183974 \r\nL 610.445199 80.241335 \r\nL 610.281526 79.716369 \r\nL 610.370674 79.497137 \r\nL 610.47916 79.437973 \r\nL 610.68008 80.618051 \r\nL 610.552009 80.599274 \r\nL 611.002476 82.027737 \r\nL 611.08581 83.816083 \r\nL 611.023995 84.057375 \r\nL 610.708895 84.386441 \r\nL 610.512319 84.798913 \r\nL 611.161646 85.248043 \r\nL 611.759171 85.651661 \r\nL 610.911485 85.998005 \r\nL 610.405504 86.085501 \r\nL 610.25691 86.082155 \r\nL 610.082735 86.433512 \r\nL 609.486875 87.656915 \r\nL 609.510567 87.895891 \r\nL 609.398749 88.136254 \r\nL 609.400164 88.393955 \r\nL 609.4411 89.124061 \r\nL 609.212662 89.477671 \r\nL 609.050525 89.959066 \r\nL 608.874552 90.187036 \r\nL 608.790545 90.134936 \r\nL 608.880311 90.89597 \r\nL 608.949684 91.278867 \r\nL 609.123613 91.57144 \r\nL 609.267016 91.635694 \r\nL 609.097702 91.908831 \r\nL 610.370284 92.75046 \r\nL 610.228256 96.13684 \r\nL 610.32834 96.842844 \r\nL 610.616285 98.853636 \r\nL 611.287901 103.538625 \r\nL 611.586032 103.95609 \r\nL 611.503524 104.075973 \r\nL 611.528772 104.104076 \r\nL 611.101513 104.658172 \r\nL 610.575464 106.680803 \r\nL 609.470119 110.92292 \r\nL 607.558131 114.292748 \r\nL 604.745613 119.239833 \r\nL 603.687281 120.748211 \r\nL 603.726245 120.874029 \r\nL 604.066748 121.974055 \r\nL 602.764439 121.971074 \r\nL 602.715401 121.891497 \r\nL 602.73607 121.264407 \r\nL 602.990918 120.885002 \r\nL 602.982625 120.74965 \r\nL 602.59391 120.994968 \r\nL 602.534306 120.988934 \r\nL 602.319192 120.594884 \r\nL 602.215401 120.660532 \r\nL 602.180311 120.582525 \r\nL 602.115716 120.617938 \r\nL 601.425071 119.574865 \r\nL 601.372194 119.609202 \r\nL 601.135625 119.263555 \r\nL 601.039597 119.12325 \r\nL 600.852891 119.194819 \r\nL 600.630089 118.39727 \r\nL 599.243087 118.412267 \r\nL 599.001771 118.416491 \r\nL 599.108504 118.154309 \r\nL 600.498594 114.73686 \r\nL 600.501055 114.730811 \r\nL 600.86056 113.84011 \r\nL 599.661319 113.537823 \r\nL 599.519994 113.453054 \r\nL 598.935697 112.943924 \r\nL 598.53152 112.395629 \r\nL 598.093195 111.80115 \r\nL 597.574955 111.097378 \r\nL 597.105059 110.459819 \r\nL 596.982846 110.293992 \r\nL 596.577673 109.744733 \r\nL 596.492369 109.629103 \r\nL 595.952584 108.896147 \r\nL 595.90221 108.827734 \r\nL 595.488594 108.267117 \r\nL 595.056803 107.679545 \r\nL 595.052176 107.673247 \r\nL 594.510972 106.936796 \r\nL 594.150824 106.44671 \r\nL 593.736104 105.882369 \r\nL 593.675788 105.821037 \r\nL 593.610322 105.754471 \r\nL 592.795567 104.926042 \r\nL 591.819792 103.93389 \r\nL 591.816281 103.930318 \r\nL 591.652867 103.764164 \r\nL 591.162665 103.265735 \r\nL 588.834269 100.903456 \r\nL 587.663572 99.715814 \r\nL 587.267122 99.313572 \r\nL 585.797351 97.825254 \r\nL 585.759005 97.786563 \r\nL 584.193948 96.197557 \r\nL 583.330242 95.321533 \r\nL 581.269876 93.197047 \r\nL 581.173484 93.05942 \r\nL 581.119428 93.081307 \r\nL 580.799168 92.760862 \r\nL 579.896444 92.715303 \r\nL 579.777157 92.709283 \r\nL 579.678598 92.701792 \r\nL 579.608226 92.699992 \r\nL 578.122887 92.629174 \r\nL 578.075506 92.642516 \r\nL 577.074682 92.97208 \r\nL 576.558771 93.149417 \r\nL 575.490902 93.684908 \r\nL 575.381297 93.735965 \r\nL 574.851792 94.008956 \r\nL 574.305726 94.27827 \r\nL 574.355751 94.10357 \r\nL 574.444846 94.054205 \r\nL 574.405458 93.575209 \r\nL 574.207657 93.416152 \r\nL 573.961349 93.382671 \r\nL 573.864987 93.25203 \r\nL 573.84747 93.126899 \r\nL 574.011014 92.891085 \r\nL 573.888406 92.881819 \r\nL 573.798949 92.530604 \r\nL 573.508461 92.267371 \r\nL 573.438683 92.165308 \r\nL 573.407003 91.959025 \r\nL 573.255449 91.795707 \r\nL 573.252285 91.616142 \r\nL 573.130856 91.556735 \r\nL 573.102194 91.475341 \r\nL 572.911479 91.504366 \r\nL 572.954537 91.201306 \r\nL 572.710445 90.953393 \r\nL 572.618076 90.906389 \r\nL 572.553631 90.85563 \r\nL 572.447535 90.813147 \r\nL 572.032402 90.261686 \r\nL 571.776081 90.30534 \r\nL 571.757512 90.176804 \r\nL 571.264304 90.191846 \r\nL 571.216244 89.844322 \r\nL 571.032212 89.253652 \r\nL 571.184123 89.048273 \r\nL 570.949104 88.797719 \r\nL 570.785501 88.426668 \r\nL 570.816428 88.28293 \r\nL 569.762864 88.885458 \r\nL 569.696527 88.923641 \r\nL 569.485193 88.030611 \r\nL 569.399224 87.692583 \r\nL 568.698086 86.507495 \r\nL 568.685379 86.484909 \r\nL 568.673012 86.462729 \r\nL 568.551697 86.55118 \r\nL 568.378448 86.687308 \r\nL 568.251968 86.683827 \r\nL 568.196328 86.569584 \r\nL 568.026811 86.344888 \r\nL 567.785941 86.161432 \r\nL 567.524971 85.239242 \r\nL 567.465894 84.993222 \r\nL 567.526348 84.953783 \r\nL 566.584861 84.678324 \r\nL 566.439447 84.825404 \r\nL 566.43622 84.821597 \r\nL 566.019436 84.493156 \r\nL 565.362268 84.715344 \r\nL 565.176369 84.680228 \r\nL 565.121661 84.46142 \r\nL 564.674013 84.125632 \r\nL 564.407869 84.157968 \r\nL 563.269078 84.544248 \r\nL 562.417554 84.911894 \r\nL 562.276189 84.941026 \r\nL 562.154616 85.515742 \r\nL 561.982432 85.864137 \r\nL 561.678141 86.089187 \r\nL 560.826064 86.521164 \r\nL 559.783695 86.908798 \r\nL 559.635413 87.087634 \r\nL 559.62785 87.108003 \r\nL 559.547246 87.460595 \r\nL 559.554869 87.923315 \r\nL 559.465162 88.090033 \r\nL 559.208654 88.320011 \r\nL 559.146978 88.357773 \r\nL 558.988493 88.463908 \r\nL 558.742906 88.901368 \r\nL 558.592689 89.051725 \r\nL 558.138775 89.541546 \r\nL 558.145046 89.567877 \r\nL 558.149159 89.947274 \r\nL 558.216852 89.948682 \r\nL 558.14718 90.143177 \r\nL 557.204424 92.815116 \r\nL 557.179249 92.949419 \r\nL 557.164441 93.135746 \r\nL 557.067598 94.400803 \r\nL 556.627367 94.456983 \r\nL 555.881584 96.571998 \r\nL 555.661575 96.491066 \r\nL 555.456915 96.415175 \r\nL 554.010622 95.867588 \r\nL 552.814321 95.419191 \r\nL 552.60649 95.340848 \r\nL 552.439996 95.277567 \r\nL 551.953179 94.540846 \r\nL 551.381374 94.094047 \r\nL 550.586118 93.773077 \r\nL 550.199369 93.787572 \r\nL 550.122371 93.795703 \r\nL 549.924617 93.818621 \r\nL 549.169269 93.885497 \r\nL 548.316722 93.799265 \r\nL 548.102832 93.736911 \r\nL 547.483298 93.710429 \r\nL 547.064453 93.692827 \r\nL 547.060261 93.692528 \r\nL 547.022404 93.690985 \r\nL 546.815228 93.508099 \r\nL 546.208298 92.866973 \r\nL 545.742583 92.253683 \r\nL 545.314886 91.753792 \r\nL 545.098263 91.641662 \r\nL 545.117554 89.771412 \r\nL 545.138118 89.061643 \r\nL 545.166688 88.271632 \r\nL 545.409397 87.913568 \r\nL 545.51891 87.528388 \r\nL 545.689239 87.014555 \r\nL 545.827238 86.627122 \r\nL 546.140367 85.906496 \r\nL 546.275948 85.670463 \r\nL 546.386966 85.614581 \r\nL 546.560171 85.263427 \r\nL 546.543296 84.943369 \r\nL 546.826502 84.791991 \r\nL 547.172666 84.766668 \r\nL 547.777875 84.108279 \r\nL 548.12549 83.483942 \r\nL 548.116657 83.212146 \r\nL 548.379092 82.973921 \r\nL 548.444661 82.866182 \r\nL 548.450666 82.378019 \r\nL 548.140643 82.063251 \r\nL 548.09015 81.576122 \r\nL 547.901191 81.409995 \r\nL 547.449104 81.199465 \r\nL 547.460818 80.994691 \r\nL 547.505856 80.853021 \r\nL 547.80293 80.811302 \r\nL 548.101224 80.676358 \r\nL 548.077304 80.559617 \r\nL 547.96401 80.582399 \r\nL 547.684273 80.353983 \r\nL 547.654128 80.328899 \r\nL 547.746431 80.229134 \r\nL 548.10269 80.042977 \r\nL 548.26858 79.972481 \r\nL 548.393567 80.022531 \r\nL 548.481019 79.98418 \r\nL 548.540611 79.770236 \r\nL 548.381735 79.583222 \r\nL 548.425267 79.422911 \r\nL 548.637242 79.42332 \r\nL 548.724474 79.110145 \r\nL 548.566222 78.984323 \r\nL 548.509028 78.838975 \r\nL 548.534881 78.754106 \r\nL 548.710441 78.756637 \r\nL 548.876512 78.665627 \r\nL 548.948488 78.439431 \r\nL 548.896123 78.239223 \r\nL 548.985482 78.073371 \r\nL 549.124248 77.98635 \r\nL 549.24017 77.825707 \r\nL 549.247809 77.720043 \r\nL 549.450485 77.523706 \r\nL 549.648976 77.634944 \r\nL 549.869698 77.579002 \r\nL 549.961692 77.493419 \r\nL 550.010643 77.248677 \r\nL 549.830171 76.972965 \r\nL 549.726871 76.574269 \r\nL 549.814708 75.812405 \r\nL 549.893226 75.369651 \r\nL 550.246814 75.108453 \r\nL 550.72496 75.125955 \r\nL 550.840304 75.185413 \r\nL 550.932081 74.996132 \r\nL 550.901032 74.88039 \r\nL 551.155345 74.525702 \r\nL 551.159037 74.244884 \r\nL 551.39594 73.863512 \r\nL 551.469259 73.799932 \r\nL 552.147842 73.574626 \r\nL 552.38207 73.255822 \r\nL 552.354091 73.230127 \r\nL 552.301807 73.095932 \r\nL 551.918554 72.87704 \r\nL 551.745853 72.902239 \r\nL 551.521946 72.821666 \r\nL 551.888962 69.813112 \r\nL 551.98872 69.861399 \r\nL 552.027437 69.887212 \r\nL 552.119894 69.97982 \r\nL 552.229849 70.078551 \r\nL 552.40653 70.111216 \r\nL 552.514148 70.205121 \r\nL 552.539036 70.174041 \r\nL 552.392896 69.941654 \r\nL 552.541465 69.888107 \r\nL 552.508252 69.791143 \r\nL 552.197587 69.904865 \r\nL 551.902555 69.715452 \r\nL 551.42554 69.576328 \r\nL 551.046208 69.320695 \r\nL 550.176177 69.098577 \r\nL 550.180927 69.005469 \r\nL 549.999639 69.040803 \r\nL 549.741541 68.956338 \r\nL 549.476595 68.996986 \r\nL 548.938544 69.490335 \r\nL 548.59588 69.564038 \r\nL 548.479859 69.524245 \r\nL 548.419602 69.405025 \r\nL 548.511195 69.215537 \r\nL 548.402881 68.761184 \r\nL 548.429832 68.666395 \r\nL 548.665741 68.645083 \r\nL 549.292765 68.439788 \r\nL 549.674191 68.018284 \r\nL 549.764796 68.008995 \r\nL 549.972905 68.124334 \r\nL 549.934641 67.97191 \r\nL 549.789928 67.802647 \r\nL 549.62779 67.703085 \r\nL 549.433929 67.681516 \r\nL 549.176208 67.908133 \r\nL 548.917235 68.002863 \r\nL 548.776232 67.985508 \r\nL 548.466084 67.803628 \r\nL 548.747069 67.488765 \r\nL 548.971721 67.337378 \r\nL 548.888673 67.238659 \r\nL 548.77978 66.887315 \r\nL 548.717693 66.863043 \r\nL 548.412796 67.123343 \r\nL 548.023939 67.269569 \r\nL 547.662843 67.26001 \r\nL 547.460701 67.432061 \r\nL 546.968785 67.091267 \r\nL 546.985831 66.919009 \r\nL 547.14322 66.840457 \r\nL 547.215315 66.6072 \r\nL 548.379188 66.526354 \r\nL 548.487403 66.454612 \r\nL 547.996579 66.336367 \r\nL 547.729847 66.390534 \r\nL 547.070195 66.210342 \r\nL 546.399901 66.220918 \r\nL 545.842316 65.998875 \r\nL 545.453957 65.983776 \r\nL 545.370922 65.928777 \r\nL 545.304646 65.643731 \r\nL 545.410186 65.464922 \r\nL 545.800017 65.519688 \r\nL 546.386603 65.485243 \r\nL 546.448047 65.439968 \r\nL 546.461545 65.290842 \r\nL 546.448496 65.179688 \r\nL 546.131253 64.635579 \r\nL 545.93941 64.628429 \r\nL 545.86501 64.680582 \r\nL 545.800612 64.6553 \r\nL 545.806345 64.595255 \r\nL 545.918808 64.516208 \r\nL 545.567829 64.331483 \r\nL 545.133216 64.304033 \r\nL 545.032577 64.238032 \r\nL 545.062403 64.108324 \r\nL 545.002003 64.076808 \r\nL 545.212755 63.887943 \r\nL 545.221443 63.756843 \r\nL 545.16419 63.665655 \r\nL 545.210725 63.463278 \r\nL 545.360575 63.330246 \r\nL 546.166705 63.335387 \r\nL 546.381242 63.537264 \r\nL 546.490785 63.738737 \r\nL 547.034313 64.1079 \r\nL 547.347523 64.641829 \r\nL 547.680451 64.872652 \r\nL 547.875094 64.914982 \r\nL 547.962274 64.840291 \r\nL 548.466428 64.782401 \r\nL 548.653792 64.563702 \r\nL 548.538527 64.421016 \r\nL 548.450171 64.402276 \r\nL 548.518426 64.333386 \r\nL 548.485506 64.269834 \r\nL 548.430659 64.287286 \r\nL 548.397789 64.100498 \r\nL 548.267393 64.039668 \r\nL 548.143048 64.079721 \r\nL 547.839793 64.003475 \r\nL 547.777042 63.921721 \r\nL 547.663295 63.980217 \r\nL 547.696541 64.062912 \r\nL 547.525621 63.932104 \r\nL 547.467857 63.751331 \r\nL 547.392586 63.789928 \r\nL 547.209087 63.690558 \r\nL 547.109483 63.536821 \r\nL 547.053508 63.585955 \r\nL 547.003319 63.437218 \r\nL 546.931721 63.417785 \r\nL 546.90905 63.505288 \r\nL 546.928499 63.320535 \r\nL 546.994517 63.187413 \r\nL 546.932288 63.100768 \r\nL 546.566471 63.22432 \r\nL 546.474913 63.17368 \r\nL 546.47057 63.100595 \r\nL 546.761486 63.088902 \r\nL 546.757115 62.951793 \r\nL 546.440877 62.976608 \r\nL 546.366864 63.109939 \r\nL 546.092823 62.928643 \r\nL 546.07292 62.857788 \r\nL 546.082566 62.821988 \r\nL 545.987753 62.846607 \r\nL 545.847714 62.751611 \r\nL 545.820693 62.583048 \r\nL 545.7471 62.528532 \r\nL 545.775511 62.48647 \r\nL 545.934294 62.560513 \r\nL 546.126025 62.427009 \r\nL 546.304479 62.435798 \r\nL 546.158516 62.483419 \r\nL 546.108422 62.715884 \r\nL 546.25785 62.725068 \r\nL 546.259569 62.820043 \r\nL 546.827974 62.724045 \r\nL 547.092227 62.626268 \r\nL 547.045022 62.474709 \r\nL 546.758029 62.556192 \r\nL 546.467682 62.656426 \r\nL 546.297489 62.656429 \r\nL 546.415351 62.62189 \r\nL 546.396243 62.476633 \r\nL 546.472111 62.605257 \r\nL 546.739238 62.526976 \r\nL 547.125232 62.411711 \r\nL 547.244992 62.667485 \r\nL 549.103892 62.02342 \r\nL 549.42073 61.976767 \r\nL 549.782462 62.009451 \r\nL 550.137123 62.136857 \r\nL 552.141516 63.252608 \r\nL 552.426848 63.468919 \r\nL 552.664057 63.76451 \r\nL 552.932274 63.995201 \r\nL 553.132517 63.924607 \r\nL 553.422971 63.933469 \r\nL 553.473681 63.817664 \r\nL 554.378435 63.274866 \r\nL 554.472973 63.124508 \r\nL 555.098799 62.864684 \r\nL 555.046381 62.425776 \r\nL 555.103032 62.400739 \r\nL 555.48022 62.45696 \r\nL 555.67634 62.426602 \r\nL 555.761443 62.250673 \r\nL 556.065452 62.237243 \r\nL 556.232268 62.150383 \r\nL 556.243513 62.033963 \r\nL 556.879347 61.789094 \r\nL 558.039895 61.444224 \r\nL 558.635251 61.318932 \r\nL 559.59007 61.239064 \r\nL 559.816858 61.074137 \r\nL 560.552467 61.126145 \r\nL 563.740605 60.608208 \r\nL 563.83994 60.505006 \r\nL 565.158547 60.200576 \r\nL 565.363843 60.259359 \r\nL 567.097093 59.97023 \r\nL 567.500263 60.021308 \r\nL 568.065679 59.871723 \r\nL 568.124575 60.103157 \r\nL 568.079706 59.86747 \r\nL 569.191966 59.54668 \r\nL 569.310089 59.587122 \r\nL 569.427944 59.617315 \r\nL 570.788531 59.124083 \r\nL 571.054283 59.09722 \r\nL 571.039887 58.894901 \r\nL 572.840766 58.115956 \r\nL 572.984002 58.110791 \r\nL 573.038801 58.023182 \r\nL 573.800922 57.636553 \r\nL 573.922742 57.726467 \r\nL 573.907685 57.598014 \r\nL 574.387813 57.399195 \r\nL 575.714024 57.04201 \r\nL 575.794946 57.111635 \r\nL 576.133148 57.066735 \r\nL 576.133602 56.917249 \r\nL 576.499398 56.731601 \r\nL 577.158091 56.695532 \r\nL 579.505512 56.318001 \r\nL 580.530958 56.16613 \r\nL 581.247542 56.215289 \r\nL 582.726117 56.677219 \r\nM 548.84794 66.846213 \r\nL 549.082279 67.167426 \r\nL 549.200076 66.990884 \r\nL 549.786266 67.028804 \r\nL 549.678249 66.931696 \r\nL 549.04561 66.895965 \r\nL 548.931504 66.456316 \r\nL 548.893687 66.525611 \r\nL 548.828506 66.681722 \r\nL 548.84794 66.846213 \r\n\" style=\"fill:#f3f8fe;stroke:#333333;stroke-width:0.6;\"/>\r\n    <path clip-path=\"url(#pab055609a1)\" d=\"M 571.278096 50.568258 \r\nL 571.135631 50.660202 \r\nL 570.867731 50.655904 \r\nL 570.358899 50.291941 \r\nL 570.502542 50.029864 \r\nL 570.728057 49.99036 \r\nL 570.900037 50.017876 \r\nL 571.124911 50.162448 \r\nL 571.311672 50.521816 \r\nL 571.278096 50.568258 \r\n\" style=\"fill:#f3f8fe;stroke:#333333;stroke-width:0.6;\"/>\r\n    <path clip-path=\"url(#pab055609a1)\" d=\"M 572.020671 48.509959 \r\nL 572.35963 48.798758 \r\nL 572.48883 49.154437 \r\nL 572.40523 49.187877 \r\nL 572.311048 49.037367 \r\nL 571.821486 48.898226 \r\nL 571.596444 48.773404 \r\nL 571.360681 48.922017 \r\nL 570.394138 48.884975 \r\nL 570.248964 49.063221 \r\nL 569.677409 48.601637 \r\nL 569.104616 48.56026 \r\nL 569.045994 48.624377 \r\nL 568.906766 49.395628 \r\nL 568.754715 49.456082 \r\nL 568.692428 49.300367 \r\nL 568.926189 48.40133 \r\nL 569.116693 48.307727 \r\nL 569.683516 48.254857 \r\nL 571.04463 48.172152 \r\nL 571.520593 48.271319 \r\nL 572.020671 48.509959 \r\n\" style=\"fill:#f3f8fe;stroke:#333333;stroke-width:0.6;\"/>\r\n    <path clip-path=\"url(#pab055609a1)\" d=\"M 564.93919 47.575457 \r\nL 565.459817 48.419396 \r\nL 565.671396 48.630975 \r\nL 566.515335 48.8901 \r\nL 566.788724 49.077906 \r\nL 566.881438 49.268089 \r\nL 566.631569 49.294633 \r\nL 565.592929 48.87264 \r\nL 564.871673 48.326895 \r\nL 564.239204 47.690609 \r\nL 563.770498 47.699005 \r\nL 563.566064 47.630634 \r\nL 563.491724 47.808456 \r\nL 563.546879 47.869029 \r\nL 564.273488 48.016563 \r\nL 565.423105 49.000399 \r\nL 565.609647 49.072912 \r\nL 565.655737 49.250687 \r\nL 565.583602 49.373921 \r\nL 565.372458 49.337358 \r\nL 565.253633 49.098063 \r\nL 565.127402 49.216435 \r\nL 564.765919 49.364447 \r\nL 564.286284 49.340693 \r\nL 564.080766 49.448467 \r\nL 564.027739 49.539026 \r\nL 564.055601 49.723929 \r\nL 564.121458 49.964558 \r\nL 564.217709 50.068408 \r\nL 564.152306 50.278438 \r\nL 563.87654 50.551827 \r\nL 563.743413 50.910798 \r\nL 563.557984 50.994004 \r\nL 563.484288 50.963099 \r\nL 563.34165 50.349758 \r\nL 563.149089 49.886185 \r\nL 562.699781 49.061265 \r\nL 562.459674 48.764104 \r\nL 562.45492 48.502601 \r\nL 562.557144 48.229213 \r\nL 562.671253 48.036652 \r\nL 563.296481 47.466102 \r\nL 563.653076 47.197468 \r\nL 564.035819 47.021548 \r\nL 564.354376 47.031057 \r\nL 564.93919 47.575457 \r\n\" style=\"fill:#f3f8fe;stroke:#333333;stroke-width:0.6;\"/>\r\n    <path clip-path=\"url(#pab055609a1)\" d=\"M 494.127431 98.548604 \r\nL 494.350301 98.650627 \r\nL 494.456203 98.639405 \r\nL 494.467145 98.542299 \r\nL 494.637268 98.514444 \r\nL 494.95356 98.88158 \r\nL 495.263759 99.883854 \r\nL 495.494518 100.089344 \r\nL 495.555639 100.331307 \r\nL 494.276331 100.259977 \r\nL 493.665099 98.913642 \r\nL 493.559475 98.252569 \r\nL 493.595827 98.180639 \r\nL 493.779083 98.120266 \r\nL 494.127431 98.548604 \r\n\" style=\"fill:#f1f7fd;stroke:#333333;stroke-width:0.6;\"/>\r\n    <path clip-path=\"url(#pab055609a1)\" d=\"M 486.995961 79.746767 \r\nL 486.424343 79.846555 \r\nL 486.301813 79.761223 \r\nL 486.104769 79.362802 \r\nL 486.202926 79.202889 \r\nL 486.325948 79.200151 \r\nL 486.525637 79.194731 \r\nL 486.660069 79.305439 \r\nL 487.442079 79.494595 \r\nL 486.995961 79.746767 \r\n\" style=\"fill:#f1f7fd;stroke:#333333;stroke-width:0.6;\"/>\r\n    <path clip-path=\"url(#pab055609a1)\" d=\"M 480.641288 74.883458 \r\nL 480.642385 74.89773 \r\nL 480.639175 74.89628 \r\nL 480.641288 74.883458 \r\n\" style=\"fill:#f1f7fd;stroke:#333333;stroke-width:0.6;\"/>\r\n    <path clip-path=\"url(#pab055609a1)\" d=\"M 480.641288 74.883458 \r\nL 480.461609 75.289031 \r\nL 480.28541 75.339374 \r\nL 479.951316 75.213516 \r\nL 479.646245 75.299709 \r\nL 479.466089 75.476127 \r\nL 478.221355 76.060191 \r\nL 478.102363 76.231813 \r\nL 478.047444 76.254697 \r\nL 477.937605 76.160875 \r\nL 477.807171 75.829071 \r\nL 477.827766 75.687196 \r\nL 477.926163 75.510996 \r\nL 478.237373 75.215804 \r\nL 478.784919 74.375459 \r\nL 479.068133 74.367563 \r\nL 479.518826 74.591096 \r\nL 480.164129 74.657457 \r\nL 480.514241 74.778738 \r\nL 480.641288 74.883458 \r\n\" style=\"fill:#f1f7fd;stroke:#333333;stroke-width:0.6;\"/>\r\n    <path clip-path=\"url(#pab055609a1)\" d=\"M 476.888841 74.37432 \r\nL 476.443739 74.913449 \r\nL 476.391734 74.934345 \r\nL 476.314416 74.987968 \r\nL 476.290226 74.824521 \r\nL 476.076945 74.683556 \r\nL 476.028002 74.704523 \r\nL 475.992888 74.777012 \r\nL 476.162524 74.822035 \r\nL 476.316401 75.034083 \r\nL 476.065343 74.83559 \r\nL 475.490953 74.839289 \r\nL 474.516618 75.088728 \r\nL 474.445836 75.190991 \r\nL 474.314983 75.384152 \r\nL 473.470172 76.002645 \r\nL 472.635055 76.448217 \r\nL 469.736689 77.501318 \r\nL 468.746395 78.138397 \r\nL 468.71754 78.437828 \r\nL 468.895763 78.99962 \r\nL 469.006999 79.160997 \r\nL 469.19385 79.083113 \r\nL 469.266746 79.198442 \r\nL 469.210783 79.472828 \r\nL 469.152541 79.521027 \r\nL 468.764936 79.541111 \r\nL 468.558404 79.679809 \r\nL 468.724883 80.035563 \r\nL 468.401041 80.446014 \r\nL 468.532837 80.558982 \r\nL 468.529071 80.630528 \r\nL 468.269245 80.822574 \r\nL 467.873858 80.897886 \r\nL 467.742061 80.995791 \r\nL 466.548367 82.072752 \r\nL 465.896919 82.901184 \r\nL 465.381031 83.251384 \r\nL 464.661802 83.266447 \r\nL 463.079604 83.089909 \r\nL 462.577507 83.354815 \r\nL 462.167809 84.035635 \r\nL 461.971999 84.240484 \r\nL 461.798781 84.300733 \r\nL 461.490002 84.284164 \r\nL 461.215866 84.177222 \r\nL 461.114949 84.059735 \r\nL 460.967337 83.622926 \r\nL 461.106644 82.792225 \r\nL 461.212584 82.610941 \r\nL 466.274557 79.111388 \r\nL 468.020458 77.469572 \r\nL 470.597589 75.55895 \r\nL 472.830877 74.236181 \r\nL 473.360124 73.984969 \r\nL 474.588203 73.626685 \r\nL 475.196104 73.647195 \r\nL 476.528184 73.872503 \r\nL 476.776874 73.965038 \r\nL 476.910708 74.142657 \r\nL 476.888841 74.37432 \r\n\" style=\"fill:#f1f7fd;stroke:#333333;stroke-width:0.6;\"/>\r\n    <path clip-path=\"url(#pab055609a1)\" d=\"M 545.020278 69.723505 \r\nL 544.976543 69.792114 \r\nL 544.808894 69.650941 \r\nL 544.782914 69.461507 \r\nL 544.863328 69.371231 \r\nL 545.020278 69.723505 \r\n\" style=\"fill:#f1f7fd;stroke:#333333;stroke-width:0.6;\"/>\r\n    <path clip-path=\"url(#pab055609a1)\" d=\"M 544.386156 67.95452 \r\nL 544.415242 68.000465 \r\nL 544.171446 67.946687 \r\nL 544.239625 67.64007 \r\nL 544.175497 67.3966 \r\nL 544.229094 67.416511 \r\nL 544.399602 67.816398 \r\nL 544.386156 67.95452 \r\n\" style=\"fill:#f1f7fd;stroke:#333333;stroke-width:0.6;\"/>\r\n    <path clip-path=\"url(#pab055609a1)\" d=\"M 545.273734 62.323341 \r\nL 545.368635 62.457379 \r\nL 545.1798 62.382172 \r\nL 545.099065 62.266895 \r\nL 545.273734 62.323341 \r\n\" style=\"fill:#f1f7fd;stroke:#333333;stroke-width:0.6;\"/>\r\n    <path clip-path=\"url(#pab055609a1)\" d=\"M 545.267755 62.153733 \r\nL 545.64379 62.344824 \r\nL 545.775511 62.48647 \r\nL 545.7471 62.528532 \r\nL 545.235537 62.247197 \r\nL 544.946968 62.211999 \r\nL 543.726922 62.80966 \r\nL 543.785487 62.852296 \r\nL 543.932202 62.798657 \r\nL 543.578048 63.62622 \r\nL 543.491899 64.494207 \r\nL 543.676581 65.147087 \r\nL 543.850686 65.316435 \r\nL 543.875022 65.512992 \r\nL 543.644188 65.340682 \r\nL 543.54477 65.524538 \r\nL 543.666087 65.528168 \r\nL 543.819995 65.634149 \r\nL 544.08244 65.980324 \r\nL 543.81357 65.973634 \r\nL 543.652457 65.819723 \r\nL 543.52094 65.840098 \r\nL 543.692117 65.932919 \r\nL 543.689477 65.987189 \r\nL 543.417241 65.991945 \r\nL 543.446156 66.069978 \r\nL 543.653955 66.099213 \r\nL 543.778696 66.007857 \r\nL 544.031934 66.023585 \r\nL 544.074712 66.166614 \r\nL 544.037949 66.635128 \r\nL 543.959387 66.97141 \r\nL 544.044724 67.111617 \r\nL 544.039912 67.323354 \r\nL 543.983739 67.363714 \r\nL 544.126012 67.859876 \r\nL 544.085675 67.993936 \r\nL 543.832629 68.112965 \r\nL 544.189448 67.985464 \r\nL 544.338392 68.036278 \r\nL 544.250538 68.490357 \r\nL 544.351304 68.996116 \r\nL 544.195477 69.382476 \r\nL 544.209418 69.394622 \r\nL 544.290501 69.361828 \r\nL 544.361101 69.00744 \r\nL 544.424619 69.054748 \r\nL 544.379437 69.052856 \r\nL 544.363839 69.124922 \r\nL 544.546215 69.548578 \r\nL 545.023537 69.972081 \r\nL 545.054518 70.093948 \r\nL 545.031398 70.222745 \r\nL 544.76741 70.630524 \r\nL 544.930223 71.538239 \r\nL 545.090034 71.859168 \r\nL 545.043445 72.056993 \r\nL 544.81934 72.184076 \r\nL 544.576766 72.145255 \r\nL 544.460767 72.232903 \r\nL 543.862635 72.246644 \r\nL 543.859145 72.29629 \r\nL 543.99045 72.339245 \r\nL 543.847863 72.456765 \r\nL 543.907427 72.449089 \r\nL 544.202903 72.329753 \r\nL 544.174952 72.41275 \r\nL 544.649455 72.365881 \r\nL 544.637299 72.276931 \r\nL 544.93266 72.233698 \r\nL 545.217227 72.040194 \r\nL 545.200089 71.84993 \r\nL 545.013539 71.558199 \r\nL 544.843281 70.789129 \r\nL 544.889043 70.568508 \r\nL 545.205789 70.158623 \r\nL 545.298813 70.132564 \r\nL 545.450138 70.342948 \r\nL 545.929195 70.704327 \r\nL 546.115608 70.766465 \r\nL 546.350866 70.713371 \r\nL 546.453338 70.626744 \r\nL 546.140804 70.736989 \r\nL 545.894222 70.637104 \r\nL 545.835418 70.499313 \r\nL 545.905582 70.376991 \r\nL 545.682027 70.209592 \r\nL 545.647475 70.072741 \r\nL 544.807904 68.968367 \r\nL 544.762906 68.859643 \r\nL 544.828602 68.427834 \r\nL 545.164317 68.174153 \r\nL 546.180785 68.649633 \r\nL 546.247414 69.006358 \r\nL 546.149885 69.444841 \r\nL 546.179198 69.867086 \r\nL 546.272877 69.967992 \r\nL 546.223241 69.552305 \r\nL 546.32161 69.523883 \r\nL 546.404804 69.675539 \r\nL 546.464859 69.620801 \r\nL 546.455425 69.348686 \r\nL 546.405984 69.271298 \r\nL 546.480897 69.184223 \r\nL 546.640593 68.565132 \r\nL 546.803347 68.426476 \r\nL 546.88209 68.502354 \r\nL 547.493247 68.52545 \r\nL 547.579677 68.879666 \r\nL 547.497955 69.093543 \r\nL 547.534899 69.340319 \r\nL 547.749376 69.734128 \r\nL 547.940796 69.917815 \r\nL 548.190104 70.054984 \r\nL 548.285077 70.310812 \r\nL 548.269213 70.812788 \r\nL 548.367062 71.128791 \r\nL 548.300594 70.647552 \r\nL 548.339339 70.494877 \r\nL 548.496908 70.301088 \r\nL 548.798964 70.478928 \r\nL 548.817993 70.403951 \r\nL 548.678971 70.31916 \r\nL 548.352228 69.901757 \r\nL 548.17895 69.785563 \r\nL 547.841503 69.343521 \r\nL 547.695285 69.06449 \r\nL 547.82085 68.753726 \r\nL 547.920544 68.823121 \r\nL 548.174731 69.490629 \r\nL 548.33173 69.661759 \r\nL 548.669443 69.809478 \r\nL 549.100745 69.616449 \r\nL 549.52966 69.16609 \r\nL 549.777883 69.104833 \r\nL 550.463486 69.33078 \r\nL 551.006934 69.406328 \r\nL 551.362737 69.660738 \r\nL 551.888962 69.813112 \r\nL 551.521946 72.821666 \r\nL 551.745853 72.902239 \r\nL 551.918554 72.87704 \r\nL 552.301807 73.095932 \r\nL 552.354091 73.230127 \r\nL 552.38207 73.255822 \r\nL 552.147842 73.574626 \r\nL 551.469259 73.799932 \r\nL 551.39594 73.863512 \r\nL 551.159037 74.244884 \r\nL 551.155345 74.525702 \r\nL 550.901032 74.88039 \r\nL 550.932081 74.996132 \r\nL 550.840304 75.185413 \r\nL 550.72496 75.125955 \r\nL 550.246814 75.108453 \r\nL 549.893226 75.369651 \r\nL 549.814708 75.812405 \r\nL 549.726871 76.574269 \r\nL 549.830171 76.972965 \r\nL 550.010643 77.248677 \r\nL 549.961692 77.493419 \r\nL 549.869698 77.579002 \r\nL 549.648976 77.634944 \r\nL 549.450485 77.523706 \r\nL 549.247809 77.720043 \r\nL 549.24017 77.825707 \r\nL 549.124248 77.98635 \r\nL 548.985482 78.073371 \r\nL 548.896123 78.239223 \r\nL 548.948488 78.439431 \r\nL 548.876512 78.665627 \r\nL 548.710441 78.756637 \r\nL 548.534881 78.754106 \r\nL 548.509028 78.838975 \r\nL 548.566222 78.984323 \r\nL 548.724474 79.110145 \r\nL 548.637242 79.42332 \r\nL 548.425267 79.422911 \r\nL 548.381735 79.583222 \r\nL 548.540611 79.770236 \r\nL 548.481019 79.98418 \r\nL 548.393567 80.022531 \r\nL 548.26858 79.972481 \r\nL 548.10269 80.042977 \r\nL 547.746431 80.229134 \r\nL 547.654128 80.328899 \r\nL 547.684273 80.353983 \r\nL 547.96401 80.582399 \r\nL 548.077304 80.559617 \r\nL 548.101224 80.676358 \r\nL 547.80293 80.811302 \r\nL 547.505856 80.853021 \r\nL 547.460818 80.994691 \r\nL 547.449104 81.199465 \r\nL 547.901191 81.409995 \r\nL 548.09015 81.576122 \r\nL 548.140643 82.063251 \r\nL 548.450666 82.378019 \r\nL 548.444661 82.866182 \r\nL 548.379092 82.973921 \r\nL 548.116657 83.212146 \r\nL 548.12549 83.483942 \r\nL 547.777875 84.108279 \r\nL 547.172666 84.766668 \r\nL 546.826502 84.791991 \r\nL 546.543296 84.943369 \r\nL 546.560171 85.263427 \r\nL 546.386966 85.614581 \r\nL 546.275948 85.670463 \r\nL 546.140367 85.906496 \r\nL 545.827238 86.627122 \r\nL 545.689239 87.014555 \r\nL 545.51891 87.528388 \r\nL 545.409397 87.913568 \r\nL 545.166688 88.271632 \r\nL 545.138118 89.061643 \r\nL 545.117554 89.771412 \r\nL 545.098263 91.641662 \r\nL 545.314886 91.753792 \r\nL 545.742583 92.253683 \r\nL 546.208298 92.866973 \r\nL 546.815228 93.508099 \r\nL 547.022404 93.690985 \r\nL 547.060261 93.692528 \r\nL 547.064453 93.692827 \r\nL 547.483298 93.710429 \r\nL 548.102832 93.736911 \r\nL 548.316722 93.799265 \r\nL 549.169269 93.885497 \r\nL 549.924617 93.818621 \r\nL 550.122371 93.795703 \r\nL 550.199369 93.787572 \r\nL 550.586118 93.773077 \r\nL 551.381374 94.094047 \r\nL 551.953179 94.540846 \r\nL 552.439996 95.277567 \r\nL 552.60649 95.340848 \r\nL 552.814321 95.419191 \r\nL 554.010622 95.867588 \r\nL 553.399744 97.233766 \r\nL 555.110579 97.835771 \r\nL 555.131419 97.843122 \r\nL 556.367371 98.278263 \r\nL 557.39541 98.641548 \r\nL 557.233862 100.268097 \r\nL 557.143558 101.612068 \r\nL 557.106733 102.171549 \r\nL 557.857774 103.324264 \r\nL 559.719971 106.18159 \r\nL 560.409985 107.241588 \r\nL 561.018813 108.175867 \r\nL 561.344202 108.67571 \r\nL 559.796679 111.7003 \r\nL 559.223193 112.821157 \r\nL 557.681663 113.989997 \r\nL 555.42241 115.669528 \r\nL 553.463674 113.729014 \r\nL 552.19689 113.620804 \r\nL 550.500246 113.483854 \r\nL 549.92845 113.907753 \r\nL 549.910108 113.944321 \r\nL 549.759832 114.343187 \r\nL 549.60271 114.476175 \r\nL 548.967316 115.001807 \r\nL 548.747432 115.335502 \r\nL 547.374024 117.41652 \r\nL 546.988085 117.670639 \r\nL 546.345639 118.089612 \r\nL 544.429163 119.3732 \r\nL 543.209658 120.306959 \r\nL 543.164866 120.341378 \r\nL 541.927241 121.286301 \r\nL 541.852623 121.33297 \r\nL 540.160873 122.367221 \r\nL 539.7972 122.525508 \r\nL 539.533514 122.911011 \r\nL 539.387397 122.992099 \r\nL 538.140976 122.944361 \r\nL 537.697257 123.124283 \r\nL 537.573533 123.156277 \r\nL 537.731028 123.78748 \r\nL 538.011779 124.264421 \r\nL 538.054083 124.336567 \r\nL 537.918225 124.408139 \r\nL 537.6074 124.55137 \r\nL 537.228529 124.934639 \r\nL 536.671666 125.236631 \r\nL 536.22389 125.528198 \r\nL 535.927029 124.888147 \r\nL 535.794065 124.734421 \r\nL 535.368753 124.806188 \r\nL 534.704245 125.007685 \r\nL 534.169468 125.343412 \r\nL 534.005356 125.381596 \r\nL 533.856075 125.113112 \r\nL 533.621397 124.853194 \r\nL 533.514144 124.804739 \r\nL 533.358976 124.844128 \r\nL 533.353806 124.828242 \r\nL 533.052012 124.046314 \r\nL 532.689102 123.472274 \r\nL 532.472724 122.844175 \r\nL 532.444035 122.717375 \r\nL 532.487653 122.65863 \r\nL 532.286265 122.670227 \r\nL 531.569586 122.951466 \r\nL 531.383626 123.198327 \r\nL 531.45396 123.514437 \r\nL 531.38657 123.64253 \r\nL 530.773381 123.204901 \r\nL 530.501421 123.355326 \r\nL 530.248985 123.424636 \r\nL 529.746615 123.467388 \r\nL 529.528947 123.650745 \r\nL 529.780529 123.759111 \r\nL 529.746793 123.853443 \r\nL 529.546356 123.831691 \r\nL 529.298321 123.890795 \r\nL 529.276826 124.013636 \r\nL 529.512348 124.190229 \r\nL 529.291384 124.261308 \r\nL 529.374786 124.676267 \r\nL 528.87333 125.029401 \r\nL 528.717183 125.205624 \r\nL 528.597947 125.471103 \r\nL 528.383439 125.726467 \r\nL 527.877806 125.929349 \r\nL 527.703241 126.355197 \r\nL 527.378276 126.54251 \r\nL 526.726961 126.772053 \r\nL 526.537148 127.060213 \r\nL 526.326968 127.098363 \r\nL 525.838532 126.904062 \r\nL 525.642445 126.7022 \r\nL 525.25887 126.716784 \r\nL 525.089821 126.433593 \r\nL 524.948683 126.615126 \r\nL 524.637893 126.549186 \r\nL 524.231845 126.670989 \r\nL 524.141105 126.402143 \r\nL 523.901781 126.576509 \r\nL 523.751897 126.576643 \r\nL 523.831217 126.332548 \r\nL 523.575954 125.964719 \r\nL 523.274809 125.790636 \r\nL 522.982799 125.806125 \r\nL 522.866488 125.615472 \r\nL 522.734931 125.527493 \r\nL 522.708154 125.427022 \r\nL 522.698152 125.387479 \r\nL 522.07796 125.749589 \r\nL 521.133137 126.532292 \r\nL 520.791204 126.833046 \r\nL 520.632558 126.276715 \r\nL 520.436112 125.379639 \r\nL 518.148844 123.047321 \r\nL 517.951101 122.989535 \r\nL 516.604331 122.600514 \r\nL 516.613579 122.638368 \r\nL 516.771835 123.345779 \r\nL 516.922193 123.681838 \r\nL 516.864136 123.716802 \r\nL 516.481452 123.435992 \r\nL 515.865589 123.232652 \r\nL 515.798884 123.016785 \r\nL 515.839874 122.918975 \r\nL 515.709324 122.982542 \r\nL 515.68096 123.136119 \r\nL 515.594267 123.185474 \r\nL 515.668965 122.949771 \r\nL 516.090271 122.752446 \r\nL 516.00259 122.677027 \r\nL 515.960874 122.756253 \r\nL 515.754218 122.851244 \r\nL 515.650988 122.827178 \r\nL 515.536796 123.221631 \r\nL 515.422971 123.154558 \r\nL 515.525143 122.840984 \r\nL 515.177041 122.659064 \r\nL 515.390193 122.846416 \r\nL 515.415174 122.946724 \r\nL 515.24067 123.263764 \r\nL 514.986361 122.937619 \r\nL 515.039458 122.720045 \r\nL 514.898854 122.580936 \r\nL 514.076357 122.404494 \r\nL 513.984239 122.527518 \r\nL 513.767736 122.478859 \r\nL 513.773208 122.405554 \r\nL 513.726987 122.382028 \r\nL 513.653558 122.49146 \r\nL 513.336125 122.494603 \r\nL 512.316064 122.648823 \r\nL 512.078476 122.274749 \r\nL 512.11929 122.218166 \r\nL 512.236756 122.228747 \r\nL 512.289648 121.561207 \r\nL 511.427261 120.823268 \r\nL 510.842138 121.104951 \r\nL 509.811985 121.889895 \r\nL 509.693168 121.91742 \r\nL 509.135423 121.803325 \r\nL 508.719332 121.78573 \r\nL 507.689886 122.063853 \r\nL 507.527296 122.279629 \r\nL 507.54566 122.516203 \r\nL 507.356284 123.083202 \r\nL 506.915859 123.460514 \r\nL 506.548731 123.666193 \r\nL 506.008703 123.796089 \r\nL 505.617214 123.841614 \r\nL 505.11111 123.792495 \r\nL 503.965595 123.331885 \r\nL 502.241611 122.456201 \r\nL 501.356974 122.097424 \r\nL 499.278226 121.516731 \r\nL 499.071017 121.582197 \r\nL 498.981334 121.788745 \r\nL 498.873548 121.853182 \r\nL 498.469347 121.917588 \r\nL 498.311405 121.898005 \r\nL 497.816746 122.010613 \r\nL 497.518538 122.211837 \r\nL 496.799721 121.988387 \r\nL 495.725725 121.265872 \r\nL 495.200393 120.754682 \r\nL 494.838838 120.271338 \r\nL 494.524121 120.061738 \r\nL 494.170757 119.779223 \r\nL 493.879944 119.651452 \r\nL 493.618105 119.609819 \r\nL 493.701794 119.529141 \r\nL 493.511435 119.210692 \r\nL 493.46412 118.940455 \r\nL 493.275222 118.95641 \r\nL 493.066062 118.397847 \r\nL 492.979239 118.32263 \r\nL 492.929256 118.180639 \r\nL 493.177395 118.219163 \r\nL 493.086494 118.152976 \r\nL 493.380605 118.105844 \r\nL 493.377427 118.049791 \r\nL 492.906552 118.071106 \r\nL 493.142066 117.886038 \r\nL 493.31594 117.546571 \r\nL 493.566991 117.343669 \r\nL 493.856392 116.947028 \r\nL 494.019844 116.799721 \r\nL 494.785739 116.463213 \r\nL 495.13205 116.162455 \r\nL 495.266921 116.141251 \r\nL 495.428968 116.239491 \r\nL 495.91246 116.097563 \r\nL 496.280778 115.668467 \r\nL 496.3081 115.33951 \r\nL 496.353188 115.282888 \r\nL 496.303826 114.899327 \r\nL 496.439901 114.465319 \r\nL 496.223096 113.968555 \r\nL 495.987729 112.860428 \r\nL 495.912214 112.599417 \r\nL 495.585547 112.193328 \r\nL 495.986536 111.970416 \r\nL 495.956723 112.039495 \r\nL 496.043505 112.101398 \r\nL 496.027697 112.018175 \r\nL 496.080187 112.010943 \r\nL 496.085395 112.092181 \r\nL 496.154248 112.093959 \r\nL 496.156803 111.97578 \r\nL 496.25319 111.97284 \r\nL 496.254249 111.782256 \r\nL 496.106922 111.777061 \r\nL 495.996505 111.833931 \r\nL 496.098503 111.752596 \r\nL 496.2674 111.753764 \r\nL 496.348451 111.834897 \r\nL 496.427963 111.68011 \r\nL 496.408417 111.389306 \r\nL 496.457388 111.304443 \r\nL 496.416588 111.039236 \r\nL 496.339318 111.077719 \r\nL 496.280663 110.796251 \r\nL 496.378626 110.72634 \r\nL 496.36012 110.447962 \r\nL 496.236155 110.50617 \r\nL 496.135434 110.425112 \r\nL 496.537701 110.344248 \r\nL 497.900477 109.235813 \r\nL 497.884328 109.217838 \r\nL 497.237543 109.732517 \r\nL 497.013846 109.459378 \r\nL 496.960132 109.464619 \r\nL 496.998555 109.702892 \r\nL 497.086419 109.852774 \r\nL 496.568967 110.264536 \r\nL 496.661387 110.028906 \r\nL 496.502542 109.303724 \r\nL 496.364692 108.894653 \r\nL 496.220281 108.672724 \r\nL 496.030417 107.822569 \r\nL 495.81222 107.233122 \r\nL 495.758012 106.532832 \r\nL 495.641577 105.880322 \r\nL 495.918645 105.61844 \r\nL 496.18734 104.937575 \r\nL 496.284032 104.97955 \r\nL 496.348601 104.771794 \r\nL 496.209097 104.84829 \r\nL 496.14473 104.768539 \r\nL 496.262552 104.651609 \r\nL 496.379232 104.227958 \r\nL 496.360613 104.034775 \r\nL 495.696889 103.703838 \r\nL 495.639679 103.530496 \r\nL 495.742355 103.232786 \r\nL 495.597388 103.15512 \r\nL 495.628981 102.995498 \r\nL 495.920539 102.975306 \r\nL 496.028192 102.837379 \r\nL 495.905624 102.451537 \r\nL 495.912634 102.197734 \r\nL 495.986504 102.187867 \r\nL 496.079113 102.283846 \r\nL 496.162929 102.57338 \r\nL 496.279175 102.683775 \r\nL 496.043867 101.997995 \r\nL 496.12469 101.730162 \r\nL 496.13654 101.189894 \r\nL 496.067767 101.05475 \r\nL 496.049186 101.522491 \r\nL 495.927787 101.826474 \r\nL 495.849284 102.626552 \r\nL 495.761998 102.748967 \r\nL 495.481436 102.78584 \r\nL 495.391227 102.631011 \r\nL 495.438426 102.54097 \r\nL 495.157738 101.888287 \r\nL 494.885722 101.470007 \r\nL 494.830977 101.425858 \r\nL 494.329574 101.656866 \r\nL 494.20548 101.499787 \r\nL 494.166606 101.352063 \r\nL 494.567573 101.204727 \r\nL 494.583222 101.123874 \r\nL 494.447329 100.541536 \r\nL 494.321952 100.397198 \r\nL 495.395165 100.387827 \r\nL 495.587972 100.72076 \r\nL 495.528557 100.875472 \r\nL 495.871755 100.909639 \r\nL 495.901203 100.849574 \r\nL 495.637628 100.830675 \r\nL 495.628767 100.727648 \r\nL 495.687897 100.7009 \r\nL 495.63088 100.679162 \r\nL 495.516376 100.390853 \r\nL 495.659433 100.391792 \r\nL 495.791237 100.709384 \r\nL 495.859171 100.713718 \r\nL 495.735036 100.39579 \r\nL 495.921362 100.486017 \r\nL 496.014577 100.721298 \r\nL 496.08349 100.714431 \r\nL 495.978625 100.429383 \r\nL 495.910916 100.396045 \r\nL 495.659022 99.917942 \r\nL 495.515967 99.75251 \r\nL 495.375645 99.508497 \r\nL 495.283837 99.127961 \r\nL 495.204029 98.838056 \r\nL 495.283726 98.47473 \r\nL 495.170054 98.215971 \r\nL 495.171912 98.070365 \r\nL 494.747358 97.210065 \r\nL 494.535086 96.50096 \r\nL 494.229345 96.566913 \r\nL 492.716438 98.012852 \r\nL 492.266014 98.307497 \r\nL 492.21316 98.390795 \r\nL 491.905978 98.497725 \r\nL 491.968165 98.996355 \r\nL 491.913334 98.874177 \r\nL 491.873084 98.878947 \r\nL 491.789896 98.442824 \r\nL 491.714615 98.394443 \r\nL 491.681101 98.575993 \r\nL 491.733519 98.798338 \r\nL 491.8056 98.787305 \r\nL 491.850325 98.956405 \r\nL 491.77438 98.971658 \r\nL 491.862255 99.332953 \r\nL 491.618851 98.534221 \r\nL 491.467729 98.438824 \r\nL 491.229088 98.502601 \r\nL 491.179085 98.641435 \r\nL 491.160787 98.591277 \r\nL 490.941739 98.58663 \r\nL 489.59141 98.940268 \r\nL 489.301554 99.074574 \r\nL 484.50194 103.199492 \r\nL 483.964553 103.713305 \r\nL 483.92098 103.919459 \r\nL 483.809576 104.023119 \r\nL 483.615266 104.16559 \r\nL 483.529317 104.101857 \r\nL 483.410334 104.194277 \r\nL 483.57081 104.361512 \r\nL 483.271827 104.31414 \r\nL 480.988615 106.234888 \r\nL 480.932797 106.170509 \r\nL 483.232486 104.181717 \r\nL 483.214528 103.962052 \r\nL 483.336067 104.092139 \r\nL 489.0541 99.147133 \r\nL 489.558257 98.85906 \r\nL 490.988982 98.484912 \r\nL 491.069889 98.324903 \r\nL 490.980632 97.823268 \r\nL 491.211257 97.777935 \r\nL 490.991693 97.863645 \r\nL 491.127872 98.394162 \r\nL 491.225042 98.466859 \r\nL 491.455227 98.402663 \r\nL 491.541259 98.290855 \r\nL 491.486139 97.989759 \r\nL 491.602863 97.800228 \r\nL 491.590472 97.71138 \r\nL 491.661642 97.772109 \r\nL 491.518267 98.007227 \r\nL 491.579871 98.243032 \r\nL 491.703025 98.343228 \r\nL 491.742158 98.208456 \r\nL 491.706322 98.03875 \r\nL 491.810836 98.019043 \r\nL 491.925312 98.245639 \r\nL 492.264981 98.144342 \r\nL 492.571927 97.972797 \r\nL 494.437221 96.15381 \r\nL 494.614187 95.809071 \r\nL 494.724395 95.133258 \r\nL 494.521289 94.867551 \r\nL 494.510496 94.768111 \r\nL 495.043971 94.438702 \r\nL 495.593059 94.08992 \r\nL 495.781696 93.918343 \r\nL 495.902357 93.769073 \r\nL 496.122815 93.346293 \r\nL 496.23535 92.797506 \r\nL 496.459422 91.668892 \r\nL 496.578989 90.134837 \r\nL 496.628117 89.673037 \r\nL 496.845357 88.79948 \r\nL 496.795172 88.362385 \r\nL 496.55358 88.249617 \r\nL 496.329888 87.948903 \r\nL 496.123943 87.875027 \r\nL 496.016707 87.595654 \r\nL 496.132667 87.849297 \r\nL 496.35541 87.940939 \r\nL 496.552484 88.218689 \r\nL 496.802727 88.288536 \r\nL 496.728851 88.150448 \r\nL 496.694218 88.211176 \r\nL 496.43847 87.738981 \r\nL 496.551687 87.852818 \r\nL 496.542212 87.668503 \r\nL 496.722959 87.638126 \r\nL 496.723608 87.580418 \r\nL 496.590092 87.648233 \r\nL 496.53131 87.596062 \r\nL 497.061979 87.267879 \r\nL 496.795109 87.310281 \r\nL 496.769734 87.219529 \r\nL 497.001128 87.140193 \r\nL 497.091093 86.929325 \r\nL 497.491923 86.763995 \r\nL 498.059131 86.213803 \r\nL 498.251708 85.788753 \r\nL 498.313957 85.710248 \r\nL 498.095642 85.559648 \r\nL 498.040045 85.637296 \r\nL 497.89253 85.849698 \r\nL 498.049495 85.957414 \r\nL 498.020209 86.038371 \r\nL 497.931905 86.144268 \r\nL 497.832946 86.124611 \r\nL 497.588751 86.593247 \r\nL 496.719369 86.931102 \r\nL 496.595281 87.385631 \r\nL 496.404075 87.638788 \r\nL 496.215376 87.6788 \r\nL 496.37799 87.606856 \r\nL 496.546595 87.375801 \r\nL 496.598618 87.016361 \r\nL 496.68236 86.878761 \r\nL 497.23761 86.639797 \r\nL 497.466298 85.987733 \r\nL 497.663591 85.407406 \r\nL 498.249851 84.02029 \r\nL 498.932646 82.91514 \r\nL 499.179727 82.661999 \r\nL 499.74895 82.262432 \r\nL 500.482233 81.388321 \r\nL 500.917137 81.05184 \r\nL 501.081008 80.766681 \r\nL 501.522647 80.616856 \r\nL 502.455567 79.91081 \r\nL 503.140968 79.561558 \r\nL 503.198388 79.427458 \r\nL 503.394316 79.313182 \r\nL 503.716066 79.161808 \r\nL 503.900846 78.996445 \r\nL 504.475353 78.283955 \r\nL 504.584833 78.121549 \r\nL 505.104648 77.473273 \r\nL 505.515235 77.152481 \r\nL 506.07564 76.066039 \r\nL 507.133342 74.904992 \r\nL 507.67023 74.433952 \r\nL 509.591172 73.446646 \r\nL 510.112016 73.342388 \r\nL 510.279628 73.131996 \r\nL 510.645237 72.939256 \r\nL 511.232825 72.461712 \r\nL 513.562247 71.494849 \r\nL 515.897401 70.343663 \r\nL 516.844979 69.906226 \r\nL 518.582466 68.926444 \r\nL 518.806565 69.098339 \r\nL 518.959736 68.995578 \r\nL 519.080045 68.729087 \r\nL 519.467496 68.516465 \r\nL 519.790275 68.561942 \r\nL 520.038275 68.468134 \r\nL 520.049635 68.37746 \r\nL 520.377556 68.116064 \r\nL 520.533201 68.156858 \r\nL 520.674788 68.079161 \r\nL 520.730895 68.012887 \r\nL 520.579501 67.838518 \r\nL 521.979031 67.300988 \r\nL 522.318797 67.024957 \r\nL 522.642283 66.960288 \r\nL 522.695477 66.991031 \r\nL 522.807511 66.928584 \r\nL 523.046546 66.923508 \r\nL 523.060851 66.777226 \r\nL 523.260662 66.600027 \r\nL 523.478931 66.642942 \r\nL 523.773802 66.486509 \r\nL 523.828113 66.335624 \r\nL 523.783031 66.199483 \r\nL 523.927884 66.196355 \r\nL 524.055752 66.335151 \r\nL 524.106031 66.285132 \r\nL 524.028476 66.147414 \r\nL 524.10304 65.97358 \r\nL 524.338435 65.846173 \r\nL 524.473474 65.856771 \r\nL 525.021618 65.615459 \r\nL 525.839042 65.407355 \r\nL 526.021358 65.250227 \r\nL 526.480071 65.022687 \r\nL 526.033493 64.302745 \r\nL 526.231313 64.347634 \r\nL 526.401768 64.594401 \r\nL 526.473294 64.588248 \r\nL 526.635242 64.795508 \r\nL 527.866078 65.044103 \r\nL 528.460652 65.040213 \r\nL 528.674603 64.970193 \r\nL 528.694068 65.009542 \r\nL 529.494142 65.044902 \r\nL 530.37774 64.770541 \r\nL 531.104786 64.474785 \r\nL 531.807033 64.318094 \r\nL 531.930877 64.057025 \r\nL 532.09761 64.227886 \r\nL 532.291814 64.197704 \r\nL 534.101907 63.669519 \r\nL 534.689839 63.458706 \r\nL 534.894525 63.440928 \r\nL 535.007057 63.488047 \r\nL 535.143108 63.431016 \r\nL 535.828649 63.406481 \r\nL 537.533205 63.062665 \r\nL 538.061619 62.965223 \r\nL 538.571548 63.148349 \r\nL 538.715532 63.104096 \r\nL 539.135056 63.227152 \r\nL 539.537449 62.70673 \r\nL 539.493884 62.917717 \r\nL 539.680874 62.869193 \r\nL 540.860636 63.041682 \r\nL 541.153748 63.199452 \r\nL 541.527448 63.127686 \r\nL 542.081236 63.20522 \r\nL 542.371378 63.316147 \r\nL 542.477893 63.320897 \r\nL 544.850221 62.119985 \r\nL 545.267755 62.153733 \r\n\" style=\"fill:#f1f7fd;stroke:#333333;stroke-width:0.6;\"/>\r\n    <path clip-path=\"url(#pab055609a1)\" d=\"M 500.241511 63.250083 \r\nL 499.542099 63.455183 \r\nL 497.602991 63.503432 \r\nL 496.120175 63.453928 \r\nL 495.342128 63.591406 \r\nL 494.823012 63.733007 \r\nL 494.431252 63.938245 \r\nL 494.041537 64.306941 \r\nL 493.810447 64.450085 \r\nL 493.110623 65.232208 \r\nL 492.655696 65.518822 \r\nL 492.344865 65.714546 \r\nL 491.864716 65.889613 \r\nL 491.596495 65.899333 \r\nL 491.383776 66.027929 \r\nL 491.095577 66.239635 \r\nL 490.923221 66.235625 \r\nL 490.358724 66.017075 \r\nL 490.204368 66.270185 \r\nL 490.033209 66.398786 \r\nL 489.864674 66.48505 \r\nL 489.535903 66.487007 \r\nL 489.305309 66.457647 \r\nL 489.259579 66.517997 \r\nL 489.23943 66.981102 \r\nL 489.112445 67.058812 \r\nL 488.448076 66.888903 \r\nL 488.145605 66.748373 \r\nL 487.916034 66.746856 \r\nL 487.500346 66.951519 \r\nL 486.980169 66.78811 \r\nL 486.795998 66.813532 \r\nL 486.546212 67.12075 \r\nL 485.943717 67.522797 \r\nL 485.957342 67.578914 \r\nL 485.598189 67.394932 \r\nL 485.464223 67.478361 \r\nL 485.343777 67.459167 \r\nL 485.301018 67.509387 \r\nL 484.885238 67.553258 \r\nL 484.850587 67.688723 \r\nL 484.636161 67.731542 \r\nL 484.842592 67.674306 \r\nL 484.851308 67.550005 \r\nL 484.548637 67.609598 \r\nL 484.561765 67.687161 \r\nL 484.326474 68.076513 \r\nL 484.252707 68.306894 \r\nL 484.317494 68.453941 \r\nL 484.227177 68.550251 \r\nL 484.164015 68.463303 \r\nL 484.004752 68.583769 \r\nL 483.920338 68.528071 \r\nL 483.79568 68.487027 \r\nL 483.481204 68.653165 \r\nL 483.105373 68.948067 \r\nL 482.931128 69.229338 \r\nL 482.26108 69.331085 \r\nL 481.539294 69.287375 \r\nL 481.013408 68.969218 \r\nL 480.789162 69.034884 \r\nL 480.376942 68.65042 \r\nL 480.332535 68.247632 \r\nL 481.012562 67.108462 \r\nL 481.907973 65.916519 \r\nL 482.038564 65.57778 \r\nL 482.45395 65.23941 \r\nL 482.805942 64.711421 \r\nL 483.305016 64.492328 \r\nL 486.449453 63.501123 \r\nL 489.35598 62.739579 \r\nL 490.437947 62.4594 \r\nL 493.567717 61.644759 \r\nL 494.32687 61.499208 \r\nL 500.424094 59.591323 \r\nL 501.809455 59.267648 \r\nL 502.838832 59.153306 \r\nL 503.839125 59.224066 \r\nL 504.286617 59.325237 \r\nL 504.687414 59.491783 \r\nL 505.054747 59.757943 \r\nL 504.926405 60.142092 \r\nL 504.726585 60.416909 \r\nL 503.96273 60.735227 \r\nL 502.827076 61.013698 \r\nL 500.653421 62.092327 \r\nL 500.528403 62.477171 \r\nL 500.566573 62.802139 \r\nL 500.758697 62.883643 \r\nL 500.643412 63.054775 \r\nL 500.241511 63.250083 \r\n\" style=\"fill:#f1f7fd;stroke:#333333;stroke-width:0.6;\"/>\r\n    <path clip-path=\"url(#pab055609a1)\" d=\"M 516.703023 57.380624 \r\nL 517.912909 57.498891 \r\nL 519.247089 57.48802 \r\nL 520.073918 57.409626 \r\nL 526.310791 56.780004 \r\nL 529.272061 56.601054 \r\nL 531.111234 56.618824 \r\nL 531.619491 56.849467 \r\nL 531.739298 57.098053 \r\nL 531.670782 57.649542 \r\nL 531.543863 57.854311 \r\nL 531.345768 58.018639 \r\nL 531.359209 57.933319 \r\nL 531.514338 57.793703 \r\nL 531.597177 57.395273 \r\nL 531.595168 57.299376 \r\nL 531.45559 57.234607 \r\nL 530.279217 57.5223 \r\nL 530.155705 57.646313 \r\nL 529.655064 57.758186 \r\nL 529.295588 57.713008 \r\nL 527.994412 57.727784 \r\nL 527.469097 57.937191 \r\nL 527.025885 58.198305 \r\nL 526.783087 58.423319 \r\nL 525.159373 58.762944 \r\nL 525.176592 58.82783 \r\nL 525.092501 58.867948 \r\nL 523.179696 59.329614 \r\nL 521.373546 59.899907 \r\nL 520.32954 59.840261 \r\nL 519.799812 59.894816 \r\nL 519.522097 60.086514 \r\nL 519.503934 60.335804 \r\nL 519.372176 60.425082 \r\nL 519.449328 60.196604 \r\nL 519.450919 59.851047 \r\nL 519.323865 59.699733 \r\nL 518.045557 59.621289 \r\nL 517.341402 59.407542 \r\nL 516.643725 59.346082 \r\nL 516.136656 59.486813 \r\nL 515.743305 60.12309 \r\nL 514.988135 60.682795 \r\nL 514.964869 60.752475 \r\nL 514.084789 60.995154 \r\nL 513.521667 61.299836 \r\nL 512.979402 61.266851 \r\nL 512.886635 61.456235 \r\nL 511.800612 61.160818 \r\nL 511.691048 61.15844 \r\nL 511.609594 61.318804 \r\nL 511.137097 61.13771 \r\nL 510.325959 60.710464 \r\nL 509.484033 59.745057 \r\nL 509.298909 59.02071 \r\nL 509.337706 58.571495 \r\nL 509.431086 58.275317 \r\nL 509.765675 57.884114 \r\nL 511.305209 56.596321 \r\nL 511.643576 56.44166 \r\nL 512.228073 56.360043 \r\nL 512.80826 56.699429 \r\nL 513.892149 57.04211 \r\nL 516.703023 57.380624 \r\n\" style=\"fill:#f1f7fd;stroke:#333333;stroke-width:0.6;\"/>\r\n    <path clip-path=\"url(#pab055609a1)\" d=\"M 557.568175 51.725683 \r\nL 557.285755 51.961034 \r\nL 556.937573 51.871623 \r\nL 556.554323 52.112174 \r\nL 556.027346 52.332061 \r\nL 555.481584 52.347247 \r\nL 555.291131 52.278369 \r\nL 554.825201 52.373764 \r\nL 554.643377 52.534359 \r\nL 554.731005 52.633877 \r\nL 554.689834 52.713205 \r\nL 554.417105 52.894757 \r\nL 553.697524 53.027507 \r\nL 553.011562 53.47629 \r\nL 551.818287 53.925467 \r\nL 551.41534 53.997303 \r\nL 551.00263 54.151542 \r\nL 550.869542 54.242508 \r\nL 550.882803 54.401444 \r\nL 550.70823 54.636737 \r\nL 550.007783 54.850977 \r\nL 550.1622 55.073297 \r\nL 549.524113 55.378836 \r\nL 548.822777 55.535112 \r\nL 548.576256 55.478382 \r\nL 547.965303 55.496313 \r\nL 546.080367 55.957992 \r\nL 546.040128 56.007921 \r\nL 546.161653 56.201706 \r\nL 546.431182 56.412333 \r\nL 546.371132 56.444059 \r\nL 545.93382 56.009021 \r\nL 544.311907 56.017557 \r\nL 544.19333 56.275057 \r\nL 544.220855 56.47739 \r\nL 544.139193 56.501938 \r\nL 544.088865 56.07585 \r\nL 543.757182 56.083728 \r\nL 543.53791 56.248516 \r\nL 543.46824 56.641485 \r\nL 543.11639 56.749873 \r\nL 543.238351 57.128176 \r\nL 543.110257 57.333788 \r\nL 542.802862 57.263581 \r\nL 542.706493 57.128176 \r\nL 542.844565 57.131125 \r\nL 542.880887 57.079468 \r\nL 542.813338 56.721731 \r\nL 542.232964 56.388809 \r\nL 541.931059 56.026248 \r\nL 541.85248 55.834627 \r\nL 541.893015 55.032214 \r\nL 542.145865 54.43801 \r\nL 542.387865 54.035345 \r\nL 542.99654 53.319132 \r\nL 543.369756 53.116494 \r\nL 548.032907 52.508758 \r\nL 551.816189 52.122675 \r\nL 553.750451 51.749881 \r\nL 555.32468 51.341407 \r\nL 556.692155 51.12785 \r\nL 558.024121 51.132377 \r\nL 558.558526 51.246293 \r\nL 558.689531 51.318077 \r\nL 558.707477 51.45985 \r\nL 557.568175 51.725683 \r\n\" style=\"fill:#f1f7fd;stroke:#333333;stroke-width:0.6;\"/>\r\n    <path clip-path=\"url(#pab055609a1)\" d=\"M 565.176369 84.680228 \r\nL 565.362268 84.715344 \r\nL 566.019436 84.493156 \r\nL 566.43622 84.821597 \r\nL 566.439447 84.825404 \r\nL 566.584861 84.678324 \r\nL 567.526348 84.953783 \r\nL 567.465894 84.993222 \r\nL 567.524971 85.239242 \r\nL 567.785941 86.161432 \r\nL 568.026811 86.344888 \r\nL 568.196328 86.569584 \r\nL 568.251968 86.683827 \r\nL 568.378448 86.687308 \r\nL 568.551697 86.55118 \r\nL 568.673012 86.462729 \r\nL 568.685379 86.484909 \r\nL 568.698086 86.507495 \r\nL 569.399224 87.692583 \r\nL 569.485193 88.030611 \r\nL 569.696527 88.923641 \r\nL 569.762864 88.885458 \r\nL 570.816428 88.28293 \r\nL 570.785501 88.426668 \r\nL 570.949104 88.797719 \r\nL 571.184123 89.048273 \r\nL 571.032212 89.253652 \r\nL 571.216244 89.844322 \r\nL 571.264304 90.191846 \r\nL 571.757512 90.176804 \r\nL 571.776081 90.30534 \r\nL 572.032402 90.261686 \r\nL 572.447535 90.813147 \r\nL 572.553631 90.85563 \r\nL 572.618076 90.906389 \r\nL 572.710445 90.953393 \r\nL 572.954537 91.201306 \r\nL 572.911479 91.504366 \r\nL 573.102194 91.475341 \r\nL 573.130856 91.556735 \r\nL 573.252285 91.616142 \r\nL 573.255449 91.795707 \r\nL 573.407003 91.959025 \r\nL 573.438683 92.165308 \r\nL 573.508461 92.267371 \r\nL 573.798949 92.530604 \r\nL 573.888406 92.881819 \r\nL 574.011014 92.891085 \r\nL 573.84747 93.126899 \r\nL 573.864987 93.25203 \r\nL 573.961349 93.382671 \r\nL 574.207657 93.416152 \r\nL 574.405458 93.575209 \r\nL 574.444846 94.054205 \r\nL 574.355751 94.10357 \r\nL 574.305726 94.27827 \r\nL 574.851792 94.008956 \r\nL 575.381297 93.735965 \r\nL 575.490902 93.684908 \r\nL 576.558771 93.149417 \r\nL 577.074682 92.97208 \r\nL 578.075506 92.642516 \r\nL 578.122887 92.629174 \r\nL 579.608226 92.699992 \r\nL 579.678598 92.701792 \r\nL 579.777157 92.709283 \r\nL 579.896444 92.715303 \r\nL 580.799168 92.760862 \r\nL 581.119428 93.081307 \r\nL 581.173484 93.05942 \r\nL 581.269876 93.197047 \r\nL 583.330242 95.321533 \r\nL 584.193948 96.197557 \r\nL 585.759005 97.786563 \r\nL 585.797351 97.825254 \r\nL 587.267122 99.313572 \r\nL 587.663572 99.715814 \r\nL 588.834269 100.903456 \r\nL 591.162665 103.265735 \r\nL 591.652867 103.764164 \r\nL 591.816281 103.930318 \r\nL 591.819792 103.93389 \r\nL 592.795567 104.926042 \r\nL 593.610322 105.754471 \r\nL 593.675788 105.821037 \r\nL 593.736104 105.882369 \r\nL 593.854352 106.043281 \r\nL 594.150824 106.44671 \r\nL 594.510972 106.936796 \r\nL 595.052176 107.673247 \r\nL 595.056803 107.679545 \r\nL 595.488594 108.267117 \r\nL 595.90221 108.827734 \r\nL 595.953221 108.897014 \r\nL 596.492369 109.629103 \r\nL 596.577673 109.744733 \r\nL 596.982846 110.293992 \r\nL 597.105059 110.459819 \r\nL 597.574955 111.097378 \r\nL 598.093195 111.80115 \r\nL 598.53152 112.395629 \r\nL 598.935697 112.943924 \r\nL 599.519994 113.453054 \r\nL 599.661319 113.537823 \r\nL 600.86056 113.84011 \r\nL 600.501055 114.730811 \r\nL 600.498596 114.736855 \r\nL 600.498594 114.73686 \r\nL 599.108504 118.154309 \r\nL 599.001771 118.416491 \r\nL 599.243087 118.412267 \r\nL 600.630089 118.39727 \r\nL 600.852891 119.194819 \r\nL 601.039597 119.12325 \r\nL 601.135625 119.263555 \r\nL 601.372194 119.609202 \r\nL 601.425071 119.574865 \r\nL 602.115716 120.617938 \r\nL 602.180311 120.582525 \r\nL 602.215401 120.660532 \r\nL 602.319192 120.594884 \r\nL 602.534306 120.988934 \r\nL 602.59391 120.994968 \r\nL 602.982625 120.74965 \r\nL 602.990918 120.885002 \r\nL 602.73607 121.264407 \r\nL 602.715401 121.891497 \r\nL 602.764439 121.971074 \r\nL 604.066748 121.974055 \r\nL 603.262262 123.744061 \r\nL 602.780721 124.937788 \r\nL 602.696311 128.118577 \r\nL 602.521113 134.155497 \r\nL 602.278082 139.072876 \r\nL 602.167071 141.325104 \r\nL 602.124104 142.203869 \r\nL 602.110804 142.485199 \r\nL 602.1678 142.490551 \r\nL 602.175067 142.581216 \r\nL 601.302978 143.740751 \r\nL 601.101764 143.728369 \r\nL 600.895407 143.523587 \r\nL 600.46534 143.555941 \r\nL 599.415358 143.354101 \r\nL 599.032722 143.178362 \r\nL 598.891871 142.932801 \r\nL 598.721607 142.826562 \r\nL 598.551248 142.805669 \r\nL 598.11823 142.901945 \r\nL 597.587076 142.670341 \r\nL 597.433227 142.528427 \r\nL 597.048968 142.405727 \r\nL 596.981564 142.422711 \r\nL 596.56702 142.883538 \r\nL 595.983805 142.906784 \r\nL 595.625695 143.203952 \r\nL 595.102759 143.178087 \r\nL 594.667853 143.341311 \r\nL 594.412689 143.300503 \r\nL 594.015289 143.11242 \r\nL 593.421135 143.160904 \r\nL 593.230462 143.007823 \r\nL 593.09852 142.466897 \r\nL 592.353837 142.259506 \r\nL 591.978017 141.974051 \r\nL 591.612918 141.965649 \r\nL 590.873712 142.0839 \r\nL 590.409449 141.805982 \r\nL 589.899006 142.176726 \r\nL 589.715147 142.19823 \r\nL 589.177372 142.226724 \r\nL 589.008882 142.326179 \r\nL 588.142903 141.992165 \r\nL 587.774359 142.046575 \r\nL 587.537804 142.295897 \r\nL 587.136185 142.461056 \r\nL 586.919737 142.461728 \r\nL 586.781911 142.370674 \r\nL 586.288038 142.337482 \r\nL 586.211293 142.296985 \r\nL 586.086447 142.093177 \r\nL 585.94429 142.043479 \r\nL 585.374097 142.182727 \r\nL 585.087725 141.96287 \r\nL 584.902414 142.010215 \r\nL 584.69791 141.99778 \r\nL 584.289701 142.097698 \r\nL 584.083655 142.255997 \r\nL 583.950025 142.274203 \r\nL 583.686187 142.617178 \r\nL 583.102395 142.419796 \r\nL 582.890864 142.589116 \r\nL 582.761925 142.745069 \r\nL 582.660377 142.617709 \r\nL 582.750565 142.558024 \r\nL 582.762903 142.512347 \r\nL 582.70254 142.502835 \r\nL 582.569629 142.634608 \r\nL 582.026555 142.808896 \r\nL 581.63451 143.339745 \r\nL 581.316848 143.646657 \r\nL 581.088758 144.030053 \r\nL 581.049483 144.106175 \r\nL 580.692541 144.301602 \r\nL 580.526719 144.317889 \r\nL 580.324156 144.431579 \r\nL 580.010128 144.695548 \r\nL 579.879269 144.67821 \r\nL 579.826079 144.810334 \r\nL 579.68433 144.755977 \r\nL 579.494191 144.763378 \r\nL 579.418678 144.653536 \r\nL 579.419846 144.539411 \r\nL 579.542925 144.402605 \r\nL 579.644659 144.140528 \r\nL 579.56164 144.014059 \r\nL 579.575272 143.930033 \r\nL 579.574909 143.92159 \r\nL 579.574798 143.92077 \r\nL 579.571574 143.827217 \r\nL 579.760954 143.462293 \r\nL 579.705213 143.320947 \r\nL 579.478315 143.304661 \r\nL 579.412874 143.244105 \r\nL 579.468959 143.158824 \r\nL 579.680321 143.06474 \r\nL 579.685172 142.818478 \r\nL 579.841474 142.597177 \r\nL 579.859315 142.487224 \r\nL 579.41227 142.340885 \r\nL 578.421585 142.019913 \r\nL 576.45223 141.146456 \r\nL 575.875442 140.881373 \r\nL 574.756838 140.3676 \r\nL 573.791125 139.923587 \r\nL 573.692256 139.947544 \r\nL 573.105459 140.089763 \r\nL 571.650924 140.442671 \r\nL 569.845969 140.881621 \r\nL 569.522969 141.05826 \r\nL 568.360006 142.076124 \r\nL 568.353877 142.081981 \r\nL 567.377221 142.958835 \r\nL 567.388682 143.066546 \r\nL 567.679528 145.844787 \r\nL 567.691093 145.942737 \r\nL 567.708066 146.103012 \r\nL 567.73495 146.353937 \r\nL 567.31303 146.406787 \r\nL 566.833752 146.058836 \r\nL 566.533833 145.962684 \r\nL 565.987366 145.844291 \r\nL 565.496689 145.861655 \r\nL 565.285218 145.962191 \r\nL 565.119653 145.914373 \r\nL 564.87113 145.694931 \r\nL 564.747377 145.291926 \r\nL 564.592326 145.251337 \r\nL 564.213129 145.374194 \r\nL 564.010131 146.104133 \r\nL 563.550271 146.431482 \r\nL 562.875705 146.204877 \r\nL 562.832133 146.246897 \r\nL 562.577333 146.11641 \r\nL 562.350614 145.886238 \r\nL 562.319085 145.763462 \r\nL 562.391071 145.72013 \r\nL 562.392409 145.644406 \r\nL 562.267043 145.135264 \r\nL 562.212885 144.992886 \r\nL 562.104939 144.930616 \r\nL 561.90289 144.952647 \r\nL 561.767976 145.131549 \r\nL 561.82541 145.328613 \r\nL 561.488819 145.501723 \r\nL 561.314921 145.92883 \r\nL 561.144657 145.968794 \r\nL 560.879362 145.845767 \r\nL 560.821077 145.745709 \r\nL 560.712944 145.651228 \r\nL 560.508236 145.777563 \r\nL 560.485611 145.973782 \r\nL 560.548965 146.070857 \r\nL 560.349603 146.234874 \r\nL 560.182741 146.236648 \r\nL 559.853544 146.079875 \r\nL 559.713669 146.140372 \r\nL 559.568365 146.428965 \r\nL 559.264838 146.528139 \r\nL 559.09372 146.67514 \r\nL 558.957958 146.318502 \r\nL 558.843487 146.385971 \r\nL 558.602986 146.191615 \r\nL 558.56991 146.095309 \r\nL 558.642645 145.861626 \r\nL 558.405225 145.515063 \r\nL 558.525263 145.21468 \r\nL 558.50133 145.082771 \r\nL 558.430372 144.914623 \r\nL 558.310123 144.864612 \r\nL 558.223863 144.637586 \r\nL 558.108931 144.583046 \r\nL 558.068374 144.442712 \r\nL 558.141748 144.285852 \r\nL 557.921799 144.029997 \r\nL 557.759869 143.934765 \r\nL 557.76561 143.431492 \r\nL 557.46289 143.184591 \r\nL 557.078844 143.109284 \r\nL 556.963592 142.897122 \r\nL 556.437604 142.602842 \r\nL 556.313588 142.337577 \r\nL 555.81677 142.237121 \r\nL 555.633481 141.979533 \r\nL 555.412916 141.820689 \r\nL 555.318988 141.793885 \r\nL 555.288652 141.715024 \r\nL 555.373718 141.635991 \r\nL 555.285881 141.562406 \r\nL 555.282708 141.38767 \r\nL 555.39463 141.290357 \r\nL 555.449887 141.114315 \r\nL 555.499493 141.11152 \r\nL 555.415966 141.035191 \r\nL 555.46051 140.970533 \r\nL 555.343309 140.711423 \r\nL 555.058677 140.58515 \r\nL 554.869915 140.591795 \r\nL 554.830624 140.663757 \r\nL 554.68789 140.647217 \r\nL 554.693318 140.689573 \r\nL 554.574091 140.698381 \r\nL 554.56632 140.769623 \r\nL 554.505659 140.776987 \r\nL 554.521142 140.843335 \r\nL 554.391326 140.845284 \r\nL 554.365289 140.921296 \r\nL 554.238402 140.984769 \r\nL 553.992342 141.04214 \r\nL 553.785217 140.927885 \r\nL 553.738679 140.965363 \r\nL 553.765029 141.025229 \r\nL 553.597298 141.019935 \r\nL 553.599 141.090257 \r\nL 553.461839 141.035106 \r\nL 553.313597 141.331761 \r\nL 553.337866 141.464 \r\nL 553.106577 141.454747 \r\nL 552.91996 141.371358 \r\nL 552.868637 141.30461 \r\nL 552.818967 141.351137 \r\nL 552.801274 141.274485 \r\nL 552.660164 141.148088 \r\nL 552.686195 140.979097 \r\nL 552.624378 140.96284 \r\nL 552.505791 140.851727 \r\nL 552.270546 140.766791 \r\nL 552.19734 140.821743 \r\nL 552.161215 140.780888 \r\nL 552.092945 140.952503 \r\nL 551.981767 140.997704 \r\nL 551.908965 141.208482 \r\nL 551.699116 141.223302 \r\nL 551.428812 141.016883 \r\nL 551.401956 140.889719 \r\nL 551.39967 140.768179 \r\nL 551.080057 140.6307 \r\nL 550.92951 140.702147 \r\nL 550.880204 140.640528 \r\nL 550.78445 140.726776 \r\nL 550.730422 140.67776 \r\nL 550.709 140.730095 \r\nL 550.677443 140.665106 \r\nL 550.533147 140.700253 \r\nL 550.420487 140.573378 \r\nL 550.441496 140.491675 \r\nL 550.35149 140.542412 \r\nL 550.230204 140.398277 \r\nL 550.333264 140.278211 \r\nL 550.292562 140.097544 \r\nL 549.976342 139.766729 \r\nL 549.785478 139.880574 \r\nL 549.565657 139.902277 \r\nL 549.547938 139.85168 \r\nL 549.292213 139.740589 \r\nL 549.296539 139.660172 \r\nL 549.36895 139.620549 \r\nL 549.276942 139.489781 \r\nL 549.149774 139.523036 \r\nL 549.022717 139.475601 \r\nL 548.993625 139.514212 \r\nL 548.958898 139.468242 \r\nL 548.926346 139.518556 \r\nL 548.778832 139.395832 \r\nL 548.638351 139.3709 \r\nL 548.52739 139.356879 \r\nL 548.53792 139.288305 \r\nL 548.379273 139.194962 \r\nL 548.447725 139.054042 \r\nL 548.357246 139.023399 \r\nL 548.295196 139.075651 \r\nL 548.240161 138.983746 \r\nL 548.080592 138.993731 \r\nL 548.058802 139.063957 \r\nL 547.954656 139.101515 \r\nL 547.980224 139.172543 \r\nL 547.830771 139.111817 \r\nL 547.592692 139.153132 \r\nL 547.49867 139.227841 \r\nL 547.430815 139.17519 \r\nL 547.286191 139.181751 \r\nL 546.956759 139.581874 \r\nL 546.830669 139.798753 \r\nL 546.817532 140.030708 \r\nL 546.678205 140.053707 \r\nL 546.635644 139.748683 \r\nL 546.405446 139.720208 \r\nL 546.274293 139.416543 \r\nL 545.933865 139.51697 \r\nL 546.173786 139.976796 \r\nL 546.028189 140.014259 \r\nL 546.108182 140.203952 \r\nL 545.269744 139.909787 \r\nL 544.809433 139.690303 \r\nL 545.186651 139.108533 \r\nL 545.229502 139.046043 \r\nL 545.133837 138.834313 \r\nL 545.014656 138.75015 \r\nL 544.923152 138.757012 \r\nL 544.770268 138.529363 \r\nL 544.53786 138.416444 \r\nL 544.526373 138.382142 \r\nL 544.378734 138.420652 \r\nL 544.201357 137.872802 \r\nL 544.043895 137.447954 \r\nL 544.078868 137.424306 \r\nL 544.041373 137.288949 \r\nL 543.547538 136.092353 \r\nL 543.46375 135.875576 \r\nL 543.285436 135.45128 \r\nL 542.827335 134.291023 \r\nL 542.574781 133.593385 \r\nL 542.44073 133.358716 \r\nL 541.999617 132.309618 \r\nL 542.073584 131.889935 \r\nL 542.373932 131.609792 \r\nL 542.765059 131.412169 \r\nL 543.301444 131.307944 \r\nL 544.299564 130.975624 \r\nL 544.531518 130.761083 \r\nL 544.771958 130.569423 \r\nL 545.064859 130.498251 \r\nL 545.33853 129.865903 \r\nL 545.571548 129.636825 \r\nL 546.092271 129.092101 \r\nL 546.661086 128.441884 \r\nL 547.159528 127.666205 \r\nL 546.988863 127.44299 \r\nL 546.080788 126.249845 \r\nL 545.778032 125.850873 \r\nL 545.568259 125.555748 \r\nL 545.258466 125.370335 \r\nL 545.194253 125.411535 \r\nL 544.302793 124.388472 \r\nL 543.920978 124.142961 \r\nL 543.803841 124.067677 \r\nL 543.758974 124.03874 \r\nL 543.782298 124.032523 \r\nL 543.935194 123.991763 \r\nL 543.826946 123.875638 \r\nL 542.956003 122.946597 \r\nL 542.543333 122.417947 \r\nL 542.426733 122.003674 \r\nL 541.852623 121.33297 \r\nL 541.927241 121.286301 \r\nL 543.164866 120.341378 \r\nL 543.209658 120.306959 \r\nL 544.429163 119.3732 \r\nL 546.345639 118.089612 \r\nL 546.988085 117.670639 \r\nL 547.374024 117.41652 \r\nL 548.747432 115.335502 \r\nL 548.967316 115.001807 \r\nL 549.60271 114.476175 \r\nL 549.759832 114.343187 \r\nL 549.910108 113.944321 \r\nL 549.92845 113.907753 \r\nL 550.500246 113.483854 \r\nL 552.19689 113.620804 \r\nL 553.463674 113.729014 \r\nL 555.42241 115.669528 \r\nL 557.681663 113.989997 \r\nL 559.223193 112.821157 \r\nL 559.796679 111.7003 \r\nL 561.344202 108.67571 \r\nL 561.018813 108.175867 \r\nL 560.409985 107.241588 \r\nL 559.719971 106.18159 \r\nL 557.857774 103.324264 \r\nL 557.106733 102.171549 \r\nL 557.143558 101.612068 \r\nL 557.233862 100.268097 \r\nL 557.39541 98.641548 \r\nL 556.367371 98.278263 \r\nL 555.131419 97.843122 \r\nL 555.110579 97.835771 \r\nL 553.399744 97.233766 \r\nL 554.010622 95.867588 \r\nL 555.456915 96.415175 \r\nL 555.661575 96.491066 \r\nL 555.881584 96.571998 \r\nL 556.627367 94.456983 \r\nL 557.067598 94.400803 \r\nL 557.164441 93.135746 \r\nL 557.179249 92.949419 \r\nL 557.204424 92.815116 \r\nL 558.14718 90.143177 \r\nL 558.216852 89.948682 \r\nL 558.149159 89.947274 \r\nL 558.145046 89.567877 \r\nL 558.138775 89.541546 \r\nL 558.592689 89.051725 \r\nL 558.742906 88.901368 \r\nL 558.988493 88.463908 \r\nL 559.146978 88.357773 \r\nL 559.208654 88.320011 \r\nL 559.465162 88.090033 \r\nL 559.554869 87.923315 \r\nL 559.547246 87.460595 \r\nL 559.62785 87.108003 \r\nL 559.635413 87.087634 \r\nL 559.783695 86.908798 \r\nL 560.826064 86.521164 \r\nL 561.678141 86.089187 \r\nL 561.982432 85.864137 \r\nL 562.154616 85.515742 \r\nL 562.276189 84.941026 \r\nL 562.417554 84.911894 \r\nL 563.269078 84.544248 \r\nL 564.407869 84.157968 \r\nL 564.674013 84.125632 \r\nL 565.121661 84.46142 \r\nL 565.176369 84.680228 \r\n\" style=\"fill:#f3f8fe;stroke:#333333;stroke-width:0.6;\"/>\r\n    <path clip-path=\"url(#pab055609a1)\" d=\"M 521.333036 149.150103 \r\nL 521.428041 149.311969 \r\nL 521.08232 149.2698 \r\nL 520.86345 149.155709 \r\nL 520.779246 149.18298 \r\nL 520.823742 149.341743 \r\nL 520.979341 149.453683 \r\nL 521.027169 149.601241 \r\nL 520.952156 149.669086 \r\nL 520.619304 149.194142 \r\nL 520.724215 149.058609 \r\nL 521.164659 149.025648 \r\nL 521.333036 149.150103 \r\n\" style=\"fill:#c6dbef;stroke:#333333;stroke-width:0.6;\"/>\r\n    <path clip-path=\"url(#pab055609a1)\" d=\"M 522.002855 149.324301 \r\nL 522.118088 149.365561 \r\nL 522.212878 149.305791 \r\nL 522.330099 149.008556 \r\nL 522.702733 149.20426 \r\nL 522.085112 149.483582 \r\nL 521.720188 149.163506 \r\nL 521.595611 148.783924 \r\nL 521.610909 148.668389 \r\nL 521.678816 148.617964 \r\nL 521.963836 148.745448 \r\nL 522.037115 148.890505 \r\nL 522.002855 149.324301 \r\n\" style=\"fill:#c6dbef;stroke:#333333;stroke-width:0.6;\"/>\r\n    <path clip-path=\"url(#pab055609a1)\" d=\"M 523.740743 147.546079 \r\nL 523.754712 147.739084 \r\nL 523.343177 148.176157 \r\nL 523.457826 149.027739 \r\nL 523.09981 149.007253 \r\nL 522.564148 148.584421 \r\nL 522.202469 148.551773 \r\nL 521.698355 148.003567 \r\nL 521.687835 147.823233 \r\nL 521.791635 147.695454 \r\nL 522.083619 147.561658 \r\nL 522.253182 147.607092 \r\nL 523.740743 147.546079 \r\n\" style=\"fill:#c6dbef;stroke:#333333;stroke-width:0.6;\"/>\r\n    <path clip-path=\"url(#pab055609a1)\" d=\"M 542.956003 122.946597 \r\nL 543.826946 123.875638 \r\nL 543.935194 123.991763 \r\nL 543.782298 124.032523 \r\nL 543.758974 124.03874 \r\nL 543.803841 124.067677 \r\nL 543.920978 124.142961 \r\nL 544.302793 124.388472 \r\nL 545.194253 125.411535 \r\nL 545.258466 125.370335 \r\nL 545.568259 125.555748 \r\nL 545.778032 125.850873 \r\nL 546.080788 126.249845 \r\nL 546.988863 127.44299 \r\nL 547.159528 127.666205 \r\nL 546.661086 128.441884 \r\nL 546.092271 129.092101 \r\nL 545.571548 129.636825 \r\nL 545.33853 129.865903 \r\nL 545.064859 130.498251 \r\nL 544.771958 130.569423 \r\nL 544.531518 130.761083 \r\nL 544.299564 130.975624 \r\nL 543.301444 131.307944 \r\nL 542.765059 131.412169 \r\nL 542.373932 131.609792 \r\nL 542.073584 131.889935 \r\nL 541.999617 132.309618 \r\nL 542.44073 133.358716 \r\nL 542.574781 133.593385 \r\nL 542.827335 134.291023 \r\nL 543.285436 135.45128 \r\nL 543.46375 135.875576 \r\nL 543.547538 136.092353 \r\nL 544.041373 137.288949 \r\nL 544.078868 137.424306 \r\nL 544.043895 137.447954 \r\nL 544.201357 137.872802 \r\nL 544.378734 138.420652 \r\nL 544.526373 138.382142 \r\nL 544.53786 138.416444 \r\nL 544.770268 138.529363 \r\nL 544.923152 138.757012 \r\nL 545.014656 138.75015 \r\nL 545.133837 138.834313 \r\nL 545.229502 139.046043 \r\nL 545.186651 139.108533 \r\nL 544.809433 139.690303 \r\nL 545.269744 139.909787 \r\nL 546.108182 140.203952 \r\nL 546.028189 140.014259 \r\nL 546.173786 139.976796 \r\nL 545.933865 139.51697 \r\nL 546.274293 139.416543 \r\nL 546.405446 139.720208 \r\nL 546.635644 139.748683 \r\nL 546.678205 140.053707 \r\nL 546.817532 140.030708 \r\nL 546.830669 139.798753 \r\nL 546.956759 139.581874 \r\nL 547.286191 139.181751 \r\nL 547.430815 139.17519 \r\nL 547.49867 139.227841 \r\nL 547.592692 139.153132 \r\nL 547.830771 139.111817 \r\nL 547.980224 139.172543 \r\nL 547.954656 139.101515 \r\nL 548.058802 139.063957 \r\nL 548.080592 138.993731 \r\nL 548.240161 138.983746 \r\nL 548.295196 139.075651 \r\nL 548.357246 139.023399 \r\nL 548.447725 139.054042 \r\nL 548.379273 139.194962 \r\nL 548.53792 139.288305 \r\nL 548.52739 139.356879 \r\nL 548.638351 139.3709 \r\nL 548.778832 139.395832 \r\nL 548.926346 139.518556 \r\nL 548.958898 139.468242 \r\nL 548.993625 139.514212 \r\nL 549.022717 139.475601 \r\nL 549.149774 139.523036 \r\nL 549.276942 139.489781 \r\nL 549.36895 139.620549 \r\nL 549.296539 139.660172 \r\nL 549.292213 139.740589 \r\nL 549.547938 139.85168 \r\nL 549.565657 139.902277 \r\nL 549.785478 139.880574 \r\nL 549.976342 139.766729 \r\nL 550.292562 140.097544 \r\nL 550.333264 140.278211 \r\nL 550.230204 140.398277 \r\nL 550.35149 140.542412 \r\nL 550.441496 140.491675 \r\nL 550.420487 140.573378 \r\nL 550.533147 140.700253 \r\nL 550.677443 140.665106 \r\nL 550.709 140.730095 \r\nL 550.730422 140.67776 \r\nL 550.78445 140.726776 \r\nL 550.880204 140.640528 \r\nL 550.92951 140.702147 \r\nL 551.080057 140.6307 \r\nL 551.39967 140.768179 \r\nL 551.401956 140.889719 \r\nL 551.428812 141.016883 \r\nL 551.699116 141.223302 \r\nL 551.908965 141.208482 \r\nL 551.981767 140.997704 \r\nL 552.092945 140.952503 \r\nL 552.161215 140.780888 \r\nL 552.19734 140.821743 \r\nL 552.270546 140.766791 \r\nL 552.505791 140.851727 \r\nL 552.624378 140.96284 \r\nL 552.686195 140.979097 \r\nL 552.660164 141.148088 \r\nL 552.801274 141.274485 \r\nL 552.818967 141.351137 \r\nL 552.868637 141.30461 \r\nL 552.91996 141.371358 \r\nL 553.106577 141.454747 \r\nL 553.337866 141.464 \r\nL 553.313597 141.331761 \r\nL 553.461839 141.035106 \r\nL 553.599 141.090257 \r\nL 553.597298 141.019935 \r\nL 553.765029 141.025229 \r\nL 553.738679 140.965363 \r\nL 553.785217 140.927885 \r\nL 553.992342 141.04214 \r\nL 554.238402 140.984769 \r\nL 554.365289 140.921296 \r\nL 554.391326 140.845284 \r\nL 554.521142 140.843335 \r\nL 554.505659 140.776987 \r\nL 554.56632 140.769623 \r\nL 554.574091 140.698381 \r\nL 554.693318 140.689573 \r\nL 554.68789 140.647217 \r\nL 554.830624 140.663757 \r\nL 554.869915 140.591795 \r\nL 555.058677 140.58515 \r\nL 555.343309 140.711423 \r\nL 555.46051 140.970533 \r\nL 555.415966 141.035191 \r\nL 555.499493 141.11152 \r\nL 555.449887 141.114315 \r\nL 555.39463 141.290357 \r\nL 555.282708 141.38767 \r\nL 555.285881 141.562406 \r\nL 555.373718 141.635991 \r\nL 555.288652 141.715024 \r\nL 555.318988 141.793885 \r\nL 555.412916 141.820689 \r\nL 555.633481 141.979533 \r\nL 555.81677 142.237121 \r\nL 556.313588 142.337577 \r\nL 556.437604 142.602842 \r\nL 556.963592 142.897122 \r\nL 557.078844 143.109284 \r\nL 557.46289 143.184591 \r\nL 557.76561 143.431492 \r\nL 557.759869 143.934765 \r\nL 557.921799 144.029997 \r\nL 558.141748 144.285852 \r\nL 558.068374 144.442712 \r\nL 558.108931 144.583046 \r\nL 558.223863 144.637586 \r\nL 558.310123 144.864612 \r\nL 558.430372 144.914623 \r\nL 558.50133 145.082771 \r\nL 558.525263 145.21468 \r\nL 558.405225 145.515063 \r\nL 558.642645 145.861626 \r\nL 558.56991 146.095309 \r\nL 558.602986 146.191615 \r\nL 558.843487 146.385971 \r\nL 558.957958 146.318502 \r\nL 559.09372 146.67514 \r\nL 559.264838 146.528139 \r\nL 559.568365 146.428965 \r\nL 559.713669 146.140372 \r\nL 559.853544 146.079875 \r\nL 560.182741 146.236648 \r\nL 560.349603 146.234874 \r\nL 560.548965 146.070857 \r\nL 560.485611 145.973782 \r\nL 560.508236 145.777563 \r\nL 560.712944 145.651228 \r\nL 560.821077 145.745709 \r\nL 560.879362 145.845767 \r\nL 561.144657 145.968794 \r\nL 561.314921 145.92883 \r\nL 561.488819 145.501723 \r\nL 561.82541 145.328613 \r\nL 561.767976 145.131549 \r\nL 561.90289 144.952647 \r\nL 562.104939 144.930616 \r\nL 562.212885 144.992886 \r\nL 562.267043 145.135264 \r\nL 562.392409 145.644406 \r\nL 562.391071 145.72013 \r\nL 562.319085 145.763462 \r\nL 562.350614 145.886238 \r\nL 562.577333 146.11641 \r\nL 562.832133 146.246897 \r\nL 562.875705 146.204877 \r\nL 563.550271 146.431482 \r\nL 564.010131 146.104133 \r\nL 564.213129 145.374194 \r\nL 564.592326 145.251337 \r\nL 564.747377 145.291926 \r\nL 564.87113 145.694931 \r\nL 565.119653 145.914373 \r\nL 565.285218 145.962191 \r\nL 565.496689 145.861655 \r\nL 565.987366 145.844291 \r\nL 566.533833 145.962684 \r\nL 566.833752 146.058836 \r\nL 567.31303 146.406787 \r\nL 567.73495 146.353937 \r\nL 567.708066 146.103012 \r\nL 567.691093 145.942737 \r\nL 567.679528 145.844787 \r\nL 567.388682 143.066546 \r\nL 567.377221 142.958835 \r\nL 568.353877 142.081981 \r\nL 568.360006 142.076124 \r\nL 569.522969 141.05826 \r\nL 569.845969 140.881621 \r\nL 571.650924 140.442671 \r\nL 573.105459 140.089763 \r\nL 573.692256 139.947544 \r\nL 573.791125 139.923587 \r\nL 574.756838 140.3676 \r\nL 575.875442 140.881373 \r\nL 576.45223 141.146456 \r\nL 578.421585 142.019913 \r\nL 579.41227 142.340885 \r\nL 579.859315 142.487224 \r\nL 579.841474 142.597177 \r\nL 579.685172 142.818478 \r\nL 579.680321 143.06474 \r\nL 579.468959 143.158824 \r\nL 579.412874 143.244105 \r\nL 579.478315 143.304661 \r\nL 579.705213 143.320947 \r\nL 579.760954 143.462293 \r\nL 579.571574 143.827217 \r\nL 579.574798 143.92077 \r\nL 579.574909 143.92159 \r\nL 579.575272 143.930033 \r\nL 579.56164 144.014059 \r\nL 579.644659 144.140528 \r\nL 579.542925 144.402605 \r\nL 579.419846 144.539411 \r\nL 579.418678 144.653536 \r\nL 579.494191 144.763378 \r\nL 579.68433 144.755977 \r\nL 579.826079 144.810334 \r\nL 579.879269 144.67821 \r\nL 580.010128 144.695548 \r\nL 580.017027 144.748787 \r\nL 580.137398 144.797592 \r\nL 580.281239 144.801776 \r\nL 580.545316 145.15442 \r\nL 580.574215 145.305452 \r\nL 580.850484 145.466605 \r\nL 581.142476 146.036112 \r\nL 580.966752 146.736128 \r\nL 580.938418 147.285854 \r\nL 580.768966 147.793441 \r\nL 580.755469 147.994204 \r\nL 580.814335 148.159805 \r\nL 580.713027 148.331929 \r\nL 580.64638 148.821197 \r\nL 583.775671 151.413855 \r\nL 583.781554 151.613941 \r\nL 583.611411 151.622737 \r\nL 582.875899 151.905261 \r\nL 582.070254 151.602271 \r\nL 581.70209 151.639873 \r\nL 581.155518 151.502337 \r\nL 580.857748 152.579374 \r\nL 580.796948 152.722398 \r\nL 580.558168 152.881753 \r\nL 580.562914 153.058798 \r\nL 579.3543 152.813429 \r\nL 578.476853 152.634732 \r\nL 578.27687 152.594156 \r\nL 579.215808 154.535598 \r\nL 579.912375 155.976408 \r\nL 579.47983 159.649388 \r\nL 580.792368 160.487799 \r\nL 580.971633 160.585046 \r\nL 581.185429 160.598197 \r\nL 583.077926 161.925753 \r\nL 583.363789 162.016301 \r\nL 584.495923 162.375043 \r\nL 587.581477 162.291379 \r\nL 588.183455 162.264839 \r\nL 589.019793 162.329681 \r\nL 589.635372 162.262562 \r\nL 589.543072 163.298511 \r\nL 589.633918 163.273403 \r\nL 590.138099 163.133921 \r\nL 591.905742 163.605821 \r\nL 593.012843 164.037027 \r\nL 595.323167 164.707902 \r\nL 595.684484 164.573864 \r\nL 596.077271 164.215801 \r\nL 596.555324 163.77705 \r\nL 596.602843 163.814447 \r\nL 596.627999 163.776017 \r\nL 596.616576 163.699984 \r\nL 597.381152 162.099422 \r\nL 597.567467 161.464123 \r\nL 598.208376 161.018491 \r\nL 598.623477 161.461431 \r\nL 598.674336 161.814965 \r\nL 599.04326 162.589937 \r\nL 599.390173 163.569877 \r\nL 599.625956 164.537962 \r\nL 599.797443 165.273857 \r\nL 600.535209 165.906984 \r\nL 600.95239 166.887202 \r\nL 601.492903 168.031333 \r\nL 601.834694 168.03351 \r\nL 602.205827 168.212674 \r\nL 602.434826 168.211406 \r\nL 602.505492 168.297294 \r\nL 602.739341 168.174819 \r\nL 602.963356 168.34109 \r\nL 602.957604 168.681149 \r\nL 603.306748 169.255381 \r\nL 603.898787 171.129357 \r\nL 603.949605 171.761571 \r\nL 603.944268 173.336707 \r\nL 603.013828 174.73666 \r\nL 602.95159 174.831501 \r\nL 602.953504 175.148068 \r\nL 602.878322 175.33762 \r\nL 602.917936 175.443216 \r\nL 602.40078 176.344738 \r\nL 602.411995 176.606515 \r\nL 602.470128 176.743998 \r\nL 602.329847 177.116539 \r\nL 602.364981 177.097752 \r\nL 602.437015 177.245558 \r\nL 602.181146 177.387731 \r\nL 602.192127 177.43439 \r\nL 601.878621 177.556786 \r\nL 602.047054 177.69314 \r\nL 601.942438 178.057303 \r\nL 601.588792 178.606283 \r\nL 601.13621 179.729256 \r\nL 601.133425 180.219673 \r\nL 601.361432 180.826822 \r\nL 601.368979 180.968835 \r\nL 601.238623 181.203433 \r\nL 601.317955 181.661959 \r\nL 601.547878 181.864054 \r\nL 602.038742 182.989665 \r\nL 602.254284 183.486927 \r\nL 603.806053 185.025679 \r\nL 603.529997 185.721015 \r\nL 602.708846 186.168144 \r\nL 602.595805 186.232219 \r\nL 602.343118 186.375393 \r\nL 602.187102 186.463295 \r\nL 602.03518 186.526687 \r\nL 601.290748 186.722247 \r\nL 600.904686 186.707255 \r\nL 600.831967 186.797195 \r\nL 600.414725 186.578617 \r\nL 600.397244 186.627081 \r\nL 600.30259 186.546271 \r\nL 600.052405 186.498735 \r\nL 599.952896 186.479839 \r\nL 599.798268 186.452129 \r\nL 599.382061 186.622998 \r\nL 598.871503 186.657141 \r\nL 598.743407 186.808386 \r\nL 598.60937 186.855331 \r\nL 598.637791 187.008587 \r\nL 598.477391 187.134411 \r\nL 598.366229 187.313077 \r\nL 598.281435 187.589797 \r\nL 598.286895 187.906301 \r\nL 598.217053 188.21875 \r\nL 598.060117 188.507908 \r\nL 597.946893 188.941552 \r\nL 597.746154 189.20182 \r\nL 597.530451 189.7436 \r\nL 597.21408 190.130117 \r\nL 597.208976 190.223713 \r\nL 597.226424 190.438167 \r\nL 596.52123 191.543304 \r\nL 596.409603 191.604132 \r\nL 595.65787 191.729821 \r\nL 595.391406 191.843099 \r\nL 594.217993 191.956074 \r\nL 593.826239 192.087257 \r\nL 593.647236 192.236912 \r\nL 593.593723 192.364518 \r\nL 593.592034 192.782175 \r\nL 592.574641 193.723024 \r\nL 591.982759 194.283955 \r\nL 592.080351 194.285435 \r\nL 591.567927 196.724896 \r\nL 591.583972 197.008634 \r\nL 591.17494 197.250607 \r\nL 590.436713 198.069085 \r\nL 589.641832 198.21868 \r\nL 588.312276 198.328889 \r\nL 584.472488 198.365405 \r\nL 584.274044 198.367389 \r\nL 582.905665 198.416693 \r\nL 582.905723 198.464381 \r\nL 581.396587 198.474778 \r\nL 581.070069 198.328931 \r\nL 580.186882 197.938939 \r\nL 578.875211 197.708486 \r\nL 578.539009 197.565436 \r\nL 577.913537 197.298705 \r\nL 578.25236 196.594427 \r\nL 578.52037 196.305103 \r\nL 578.629604 195.937362 \r\nL 578.577295 195.356283 \r\nL 578.414863 195.129879 \r\nL 578.5037 195.123106 \r\nL 578.57477 194.953301 \r\nL 578.482739 194.856941 \r\nL 578.522778 194.674454 \r\nL 578.358339 194.501351 \r\nL 578.568353 194.244847 \r\nL 578.548619 194.13455 \r\nL 578.516107 194.108038 \r\nL 578.573711 193.988276 \r\nL 578.490216 193.975438 \r\nL 578.526524 193.778336 \r\nL 578.430941 193.601849 \r\nL 578.38834 193.522784 \r\nL 576.938881 192.788501 \r\nL 576.665775 192.654318 \r\nL 576.369211 193.376286 \r\nL 576.007543 192.87865 \r\nL 575.759147 192.781029 \r\nL 575.635249 192.900309 \r\nL 575.422746 192.854678 \r\nL 575.387393 192.889841 \r\nL 575.471625 192.963899 \r\nL 575.372087 193.261986 \r\nL 575.18029 193.294489 \r\nL 574.885116 193.624921 \r\nL 574.550753 193.854907 \r\nL 574.360491 193.649377 \r\nL 574.23706 193.705553 \r\nL 573.936795 193.236479 \r\nL 573.955608 193.067175 \r\nL 574.148859 192.889999 \r\nL 574.155342 192.814577 \r\nL 573.480739 192.112876 \r\nL 573.149583 191.861985 \r\nL 573.076284 191.839529 \r\nL 572.949208 191.89202 \r\nL 572.753209 191.946025 \r\nL 570.839874 192.428527 \r\nL 568.386314 192.043865 \r\nL 568.100803 192.05216 \r\nL 566.978242 192.500774 \r\nL 566.754758 192.480271 \r\nL 566.636922 192.21905 \r\nL 565.878859 191.941588 \r\nL 565.83313 191.81266 \r\nL 565.457845 191.267874 \r\nL 565.276859 190.885209 \r\nL 565.233375 190.295495 \r\nL 565.283865 190.178839 \r\nL 565.077875 190.074688 \r\nL 564.43933 190.024045 \r\nL 564.363338 189.946553 \r\nL 564.188156 189.689063 \r\nL 564.136234 189.446491 \r\nL 563.709178 188.785084 \r\nL 563.291331 188.340737 \r\nL 562.740737 187.907681 \r\nL 562.593206 187.710091 \r\nL 562.100849 186.683516 \r\nL 561.759625 186.244875 \r\nL 561.729322 185.992037 \r\nL 561.727113 185.71321 \r\nL 560.831021 185.609142 \r\nL 560.005521 185.695861 \r\nL 559.58529 185.547864 \r\nL 559.481211 185.327893 \r\nL 559.191406 185.47575 \r\nL 558.515817 185.824663 \r\nL 557.481415 185.822907 \r\nL 557.401658 185.8703 \r\nL 557.339726 186.139316 \r\nL 557.208483 186.106379 \r\nL 556.912157 186.261903 \r\nL 556.878797 186.403551 \r\nL 556.657249 186.409946 \r\nL 556.712034 187.36683 \r\nL 555.851776 187.394536 \r\nL 555.529152 187.538859 \r\nL 554.071628 187.572096 \r\nL 554.002821 187.20646 \r\nL 553.748263 187.155673 \r\nL 553.733187 187.017052 \r\nL 553.667178 187.011738 \r\nL 553.312741 187.071399 \r\nL 552.76245 187.289009 \r\nL 552.322484 187.34246 \r\nL 552.34281 187.500186 \r\nL 552.220205 187.497059 \r\nL 551.915689 187.417305 \r\nL 551.661658 187.22789 \r\nL 551.434428 187.420106 \r\nL 551.01846 187.461493 \r\nL 550.186612 187.38833 \r\nL 550.001319 187.343949 \r\nL 549.917041 187.252342 \r\nL 549.049135 187.211431 \r\nL 548.783641 187.007913 \r\nL 548.655422 187.014385 \r\nL 548.820033 187.535486 \r\nL 547.919646 187.250561 \r\nL 547.013934 187.27151 \r\nL 546.58042 186.784464 \r\nL 546.042577 186.900521 \r\nL 545.529598 187.092671 \r\nL 545.322349 187.35795 \r\nL 545.619523 187.442885 \r\nL 545.674296 187.485409 \r\nL 545.638382 187.585079 \r\nL 545.288779 187.422201 \r\nL 545.502717 187.88587 \r\nL 545.474522 187.95596 \r\nL 545.697062 188.179827 \r\nL 545.623419 188.243402 \r\nL 545.632774 188.373063 \r\nL 545.570419 188.381483 \r\nL 545.524802 188.492435 \r\nL 545.402346 188.527007 \r\nL 545.307821 188.427294 \r\nL 545.392206 188.083142 \r\nL 545.27184 187.818365 \r\nL 545.139704 187.708184 \r\nL 544.902948 187.660931 \r\nL 544.317259 187.447134 \r\nL 544.025831 187.044764 \r\nL 543.934085 186.776107 \r\nL 543.963696 186.323546 \r\nL 544.53788 185.887138 \r\nL 544.709479 185.698075 \r\nL 544.730683 185.532902 \r\nL 544.673488 185.408281 \r\nL 544.457181 185.277412 \r\nL 544.101457 185.407158 \r\nL 544.036938 185.482854 \r\nL 543.594764 185.209877 \r\nL 542.759133 184.960814 \r\nL 542.742008 184.728009 \r\nL 542.836285 184.395815 \r\nL 543.151092 183.984447 \r\nL 542.98013 183.879187 \r\nL 542.747861 183.585745 \r\nL 542.682845 183.08508 \r\nL 542.558607 182.793884 \r\nL 541.985684 182.136702 \r\nL 541.912067 181.882416 \r\nL 541.907697 181.091687 \r\nL 541.550034 180.652136 \r\nL 541.47677 180.404333 \r\nL 541.489695 180.247096 \r\nL 541.246727 179.724306 \r\nL 541.079905 179.732795 \r\nL 541.110262 179.841403 \r\nL 540.573767 179.861305 \r\nL 540.393899 179.82221 \r\nL 540.26971 179.662773 \r\nL 540.129969 179.686493 \r\nL 540.050448 179.113542 \r\nL 540.141188 178.655328 \r\nL 539.920235 178.6099 \r\nL 539.830584 178.00486 \r\nL 539.447626 177.998011 \r\nL 539.323136 178.057874 \r\nL 538.978491 177.995236 \r\nL 538.94773 177.737504 \r\nL 539.030716 177.61428 \r\nL 539.244886 177.562749 \r\nL 539.428635 176.643851 \r\nL 539.470299 176.433725 \r\nL 539.552125 176.354363 \r\nL 539.448791 176.226175 \r\nL 539.547261 176.202213 \r\nL 539.619937 175.78883 \r\nL 539.52128 175.166373 \r\nL 539.571964 175.048303 \r\nL 539.563095 174.530968 \r\nL 539.693052 174.404571 \r\nL 539.686621 174.33383 \r\nL 540.281812 174.173599 \r\nL 540.76593 173.847835 \r\nL 540.682927 173.664875 \r\nL 540.499544 173.479532 \r\nL 540.354992 173.406872 \r\nL 539.862567 173.317604 \r\nL 539.66401 173.080801 \r\nL 539.682378 172.579237 \r\nL 539.777545 172.407435 \r\nL 539.954595 172.257465 \r\nL 540.771419 172.062489 \r\nL 541.946201 171.695311 \r\nL 542.427133 171.444139 \r\nL 542.605891 171.254798 \r\nL 542.743739 170.964078 \r\nL 542.765262 170.751924 \r\nL 542.694374 170.059933 \r\nL 542.995454 169.425911 \r\nL 543.031557 169.280438 \r\nL 542.839942 169.32045 \r\nL 542.69683 169.262785 \r\nL 542.585896 169.080334 \r\nL 542.286912 169.006747 \r\nL 542.102577 168.772825 \r\nL 542.010621 168.550957 \r\nL 541.748256 168.466255 \r\nL 541.995422 167.783541 \r\nL 541.917181 167.504541 \r\nL 541.933386 167.19318 \r\nL 542.208391 166.47348 \r\nL 542.201592 166.284248 \r\nL 542.08459 166.099338 \r\nL 542.281991 165.809511 \r\nL 541.929297 165.276652 \r\nL 541.634592 165.013097 \r\nL 541.338494 164.798991 \r\nL 541.159123 164.464467 \r\nL 541.137096 164.250568 \r\nL 541.231281 163.598881 \r\nL 541.099406 162.292754 \r\nL 540.930596 161.875988 \r\nL 540.610746 161.477874 \r\nL 540.28702 161.195937 \r\nL 539.455514 160.843687 \r\nL 539.131618 160.647839 \r\nL 538.802828 160.327519 \r\nL 538.610452 160.025001 \r\nL 538.501416 159.77844 \r\nL 538.278335 159.188755 \r\nL 538.005495 158.791776 \r\nL 537.484046 158.366476 \r\nL 537.115961 158.116736 \r\nL 536.297842 157.770525 \r\nL 536.138924 158.092133 \r\nL 535.979348 158.224607 \r\nL 535.753453 158.279838 \r\nL 535.478167 158.162372 \r\nL 535.303425 158.166315 \r\nL 534.998476 158.346282 \r\nL 534.562705 158.784047 \r\nL 533.984123 159.448775 \r\nL 533.436781 159.973078 \r\nL 532.711741 160.79442 \r\nL 532.296865 161.305333 \r\nL 531.838768 160.504627 \r\nL 531.489171 160.467733 \r\nL 531.296864 160.535736 \r\nL 531.055477 160.724365 \r\nL 530.464231 161.313841 \r\nL 530.368746 161.220288 \r\nL 529.736413 161.57707 \r\nL 529.426323 160.682271 \r\nL 528.686784 159.061826 \r\nL 528.166912 158.250024 \r\nL 527.237237 157.071237 \r\nL 526.980648 156.827587 \r\nL 526.934843 156.856357 \r\nL 526.702236 156.572844 \r\nL 526.621471 156.627568 \r\nL 526.520561 156.535712 \r\nL 525.852935 156.895645 \r\nL 525.661097 156.568954 \r\nL 525.655645 156.109432 \r\nL 525.594335 155.900998 \r\nL 525.618669 155.532283 \r\nL 525.467715 155.063414 \r\nL 525.504044 154.920343 \r\nL 525.630568 154.84092 \r\nL 525.513607 154.799533 \r\nL 525.492201 154.866525 \r\nL 525.421052 154.405048 \r\nL 525.265535 154.22113 \r\nL 525.314361 154.098954 \r\nL 525.235832 154.028867 \r\nL 525.368222 153.897893 \r\nL 525.34598 153.85178 \r\nL 525.288976 153.8659 \r\nL 525.203046 153.39037 \r\nL 525.161586 153.461225 \r\nL 525.096055 153.425579 \r\nL 525.1059 153.337947 \r\nL 524.988623 153.291708 \r\nL 524.993258 153.12571 \r\nL 524.873999 152.809123 \r\nL 524.663712 152.721543 \r\nL 524.711388 152.621676 \r\nL 524.292467 152.276038 \r\nL 524.209324 152.051632 \r\nL 524.152292 151.516523 \r\nL 523.648786 150.778181 \r\nL 523.120717 150.453895 \r\nL 522.82113 150.4264 \r\nL 522.481956 150.169529 \r\nL 523.391245 150.175072 \r\nL 524.048367 150.250909 \r\nL 524.131329 150.192016 \r\nL 524.053174 150.105512 \r\nL 523.495058 150.037606 \r\nL 522.013191 150.010731 \r\nL 522.545122 149.557616 \r\nL 522.869276 149.48952 \r\nL 522.849192 149.602074 \r\nL 522.483664 149.715776 \r\nL 522.499731 149.919062 \r\nL 522.696327 149.933068 \r\nL 522.895782 149.740692 \r\nL 523.364713 149.661862 \r\nL 523.642337 149.762239 \r\nL 524.140372 150.139353 \r\nL 524.252791 150.027276 \r\nL 523.891287 149.704901 \r\nL 523.581198 149.24379 \r\nL 523.86289 148.734216 \r\nL 523.83631 148.618933 \r\nL 523.634204 148.549253 \r\nL 523.616123 148.288902 \r\nL 524.172198 147.217541 \r\nL 524.323809 147.182711 \r\nL 527.21618 146.518251 \r\nL 527.743159 146.397192 \r\nL 528.360608 146.359781 \r\nL 528.483895 146.616651 \r\nL 529.12223 146.950396 \r\nL 529.694409 146.875908 \r\nL 530.003118 146.813568 \r\nL 530.656024 146.41658 \r\nL 531.251306 146.158688 \r\nL 531.518687 146.009091 \r\nL 531.558861 145.849279 \r\nL 531.729154 145.648223 \r\nL 532.387399 145.82208 \r\nL 532.809749 145.83094 \r\nL 533.526604 145.609273 \r\nL 533.574612 145.406962 \r\nL 533.782797 145.520918 \r\nL 535.082165 144.31579 \r\nL 535.159358 144.348151 \r\nL 535.213069 144.040174 \r\nL 535.53352 144.108859 \r\nL 535.695003 144.231343 \r\nL 535.695207 144.150232 \r\nL 535.814743 144.059409 \r\nL 535.58145 143.667863 \r\nL 535.507902 143.651669 \r\nL 535.409011 143.591087 \r\nL 535.312886 143.390902 \r\nL 534.74 142.765763 \r\nL 534.504208 142.593026 \r\nL 534.169164 142.430546 \r\nL 533.35124 142.215343 \r\nL 533.055508 141.867391 \r\nL 532.490946 141.376467 \r\nL 532.235441 141.231622 \r\nL 531.991863 141.252771 \r\nL 531.910279 141.15859 \r\nL 531.677351 141.106274 \r\nL 531.410773 141.12267 \r\nL 530.611078 140.828747 \r\nL 530.515372 140.838994 \r\nL 530.492572 141.007181 \r\nL 530.198431 140.96734 \r\nL 530.162412 140.909775 \r\nL 530.064355 140.754057 \r\nL 530.041422 140.550945 \r\nL 530.111425 140.305308 \r\nL 530.512079 139.910266 \r\nL 530.844286 139.582713 \r\nL 530.801001 139.539637 \r\nL 530.937271 139.402363 \r\nL 531.107249 139.220428 \r\nL 531.235528 139.299834 \r\nL 531.314298 139.268799 \r\nL 531.737639 138.76815 \r\nL 531.910806 138.724504 \r\nL 532.103784 138.383094 \r\nL 532.078764 137.904514 \r\nL 531.701095 137.299474 \r\nL 531.433583 137.311697 \r\nL 531.461241 136.942563 \r\nL 531.251534 136.562587 \r\nL 531.191019 136.452939 \r\nL 530.636696 136.131747 \r\nL 530.545818 135.863354 \r\nL 530.175963 134.525174 \r\nL 529.821894 133.542304 \r\nL 529.27965 132.323329 \r\nL 528.258503 131.258496 \r\nL 527.877186 131.274977 \r\nL 527.729674 131.176815 \r\nL 527.621794 131.105026 \r\nL 527.51104 130.861732 \r\nL 527.393076 130.775349 \r\nL 526.91587 130.425896 \r\nL 526.580287 130.027965 \r\nL 525.431527 129.198288 \r\nL 524.67459 128.832795 \r\nL 524.23253 128.842702 \r\nL 524.118682 128.772177 \r\nL 523.843005 128.785991 \r\nL 523.762189 128.721962 \r\nL 523.256062 128.734556 \r\nL 522.657789 128.827777 \r\nL 522.647277 128.517526 \r\nL 522.265435 128.144903 \r\nL 521.669888 127.549483 \r\nL 521.133137 126.532292 \r\nL 522.07796 125.749589 \r\nL 522.698152 125.387479 \r\nL 522.708154 125.427022 \r\nL 522.734931 125.527493 \r\nL 522.866488 125.615472 \r\nL 522.982799 125.806125 \r\nL 523.274809 125.790636 \r\nL 523.575954 125.964719 \r\nL 523.831217 126.332548 \r\nL 523.751897 126.576643 \r\nL 523.901781 126.576509 \r\nL 524.141105 126.402143 \r\nL 524.231845 126.670989 \r\nL 524.637893 126.549186 \r\nL 524.948683 126.615126 \r\nL 525.089821 126.433593 \r\nL 525.25887 126.716784 \r\nL 525.642445 126.7022 \r\nL 525.838532 126.904062 \r\nL 526.326968 127.098363 \r\nL 526.537148 127.060213 \r\nL 526.726961 126.772053 \r\nL 527.378276 126.54251 \r\nL 527.703241 126.355197 \r\nL 527.877806 125.929349 \r\nL 528.383439 125.726467 \r\nL 528.597947 125.471103 \r\nL 528.717183 125.205624 \r\nL 528.87333 125.029401 \r\nL 529.374786 124.676267 \r\nL 529.291384 124.261308 \r\nL 529.512348 124.190229 \r\nL 529.276826 124.013636 \r\nL 529.298321 123.890795 \r\nL 529.546356 123.831691 \r\nL 529.746793 123.853443 \r\nL 529.780529 123.759111 \r\nL 529.528947 123.650745 \r\nL 529.746615 123.467388 \r\nL 530.248985 123.424636 \r\nL 530.501421 123.355326 \r\nL 530.773381 123.204901 \r\nL 531.38657 123.64253 \r\nL 531.45396 123.514437 \r\nL 531.383626 123.198327 \r\nL 531.569586 122.951466 \r\nL 532.286265 122.670227 \r\nL 532.487653 122.65863 \r\nL 532.444035 122.717375 \r\nL 532.472724 122.844175 \r\nL 532.689102 123.472274 \r\nL 533.052012 124.046314 \r\nL 533.353806 124.828242 \r\nL 533.358976 124.844128 \r\nL 533.514144 124.804739 \r\nL 533.621397 124.853194 \r\nL 533.856075 125.113112 \r\nL 534.005356 125.381596 \r\nL 534.169468 125.343412 \r\nL 534.704245 125.007685 \r\nL 535.368753 124.806188 \r\nL 535.794065 124.734421 \r\nL 535.927029 124.888147 \r\nL 536.22389 125.528198 \r\nL 536.671666 125.236631 \r\nL 537.228529 124.934639 \r\nL 537.6074 124.55137 \r\nL 537.918225 124.408139 \r\nL 538.054083 124.336567 \r\nL 538.011779 124.264421 \r\nL 537.731028 123.78748 \r\nL 537.573533 123.156277 \r\nL 537.697257 123.124283 \r\nL 538.140976 122.944361 \r\nL 539.387397 122.992099 \r\nL 539.533514 122.911011 \r\nL 539.7972 122.525508 \r\nL 540.160873 122.367221 \r\nL 541.852623 121.33297 \r\nL 542.426733 122.003674 \r\nL 542.543333 122.417947 \r\nL 542.956003 122.946597 \r\n\" style=\"fill:#c6dbef;stroke:#333333;stroke-width:0.6;\"/>\r\n    <path clip-path=\"url(#pab055609a1)\" d=\"M 504.43621 150.753147 \r\nL 504.178643 151.029542 \r\nL 503.931619 150.796075 \r\nL 504.18872 150.529394 \r\nL 504.43621 150.753147 \r\n\" style=\"fill:#eff6fc;stroke:#333333;stroke-width:0.6;\"/>\r\n    <path clip-path=\"url(#pab055609a1)\" d=\"M 518.866736 149.325077 \r\nL 518.783606 149.580344 \r\nL 518.126196 149.456609 \r\nL 517.687735 149.301936 \r\nL 517.4177 148.99392 \r\nL 517.333435 148.699808 \r\nL 517.376221 148.115352 \r\nL 517.804926 147.849661 \r\nL 518.362241 147.924245 \r\nL 518.6675 148.136864 \r\nL 518.866736 149.325077 \r\n\" style=\"fill:#eff6fc;stroke:#333333;stroke-width:0.6;\"/>\r\n    <path clip-path=\"url(#pab055609a1)\" d=\"M 527.21618 146.518251 \r\nL 524.323809 147.182711 \r\nL 525.731372 146.660003 \r\nL 525.915457 146.610795 \r\nL 526.05267 146.656929 \r\nL 526.082161 146.572578 \r\nL 527.110985 146.204684 \r\nL 527.202245 146.147931 \r\nL 527.522777 146.217658 \r\nL 527.593652 146.342265 \r\nL 527.743159 146.397192 \r\nL 527.21618 146.518251 \r\n\" style=\"fill:#eff6fc;stroke:#333333;stroke-width:0.6;\"/>\r\n    <path clip-path=\"url(#pab055609a1)\" d=\"M 535.062964 143.756825 \r\nL 534.947588 143.775311 \r\nL 534.634884 143.644494 \r\nL 534.334735 143.418739 \r\nL 534.325356 143.200102 \r\nL 534.550368 143.099074 \r\nL 534.892525 143.174433 \r\nL 535.035911 143.272506 \r\nL 535.125928 143.487128 \r\nL 535.062964 143.756825 \r\n\" style=\"fill:#eff6fc;stroke:#333333;stroke-width:0.6;\"/>\r\n    <path clip-path=\"url(#pab055609a1)\" d=\"M 518.148844 123.047321 \r\nL 520.436112 125.379639 \r\nL 520.632558 126.276715 \r\nL 520.791204 126.833046 \r\nL 521.133137 126.532292 \r\nL 521.669888 127.549483 \r\nL 522.265435 128.144903 \r\nL 522.647277 128.517526 \r\nL 522.657789 128.827777 \r\nL 523.256062 128.734556 \r\nL 523.762189 128.721962 \r\nL 523.843005 128.785991 \r\nL 524.118682 128.772177 \r\nL 524.23253 128.842702 \r\nL 524.67459 128.832795 \r\nL 525.431527 129.198288 \r\nL 526.580287 130.027965 \r\nL 526.91587 130.425896 \r\nL 527.393076 130.775349 \r\nL 527.51104 130.861732 \r\nL 527.621794 131.105026 \r\nL 527.729674 131.176815 \r\nL 527.877186 131.274977 \r\nL 528.258503 131.258496 \r\nL 529.27965 132.323329 \r\nL 529.821894 133.542304 \r\nL 530.175963 134.525174 \r\nL 530.545818 135.863354 \r\nL 530.636696 136.131747 \r\nL 531.191019 136.452939 \r\nL 531.251534 136.562587 \r\nL 531.461241 136.942563 \r\nL 531.433583 137.311697 \r\nL 531.701095 137.299474 \r\nL 532.078764 137.904514 \r\nL 532.103784 138.383094 \r\nL 531.910806 138.724504 \r\nL 531.737639 138.76815 \r\nL 531.314298 139.268799 \r\nL 531.235528 139.299834 \r\nL 531.107249 139.220428 \r\nL 530.937271 139.402363 \r\nL 530.801001 139.539637 \r\nL 530.844286 139.582713 \r\nL 530.512079 139.910266 \r\nL 530.111425 140.305308 \r\nL 530.041422 140.550945 \r\nL 530.064355 140.754057 \r\nL 530.162412 140.909775 \r\nL 530.198431 140.96734 \r\nL 530.492572 141.007181 \r\nL 530.515372 140.838994 \r\nL 530.611078 140.828747 \r\nL 531.410773 141.12267 \r\nL 531.677351 141.106274 \r\nL 531.910279 141.15859 \r\nL 531.991863 141.252771 \r\nL 532.235441 141.231622 \r\nL 532.490946 141.376467 \r\nL 533.055508 141.867391 \r\nL 533.35124 142.215343 \r\nL 533.206204 142.096478 \r\nL 533.166185 142.120313 \r\nL 533.333989 142.305341 \r\nL 533.328754 142.381182 \r\nL 532.347074 143.908132 \r\nL 532.058604 144.17239 \r\nL 527.006232 145.892436 \r\nL 523.601408 146.998415 \r\nL 519.731082 146.997073 \r\nL 518.353056 146.999314 \r\nL 518.255321 147.057222 \r\nL 518.06959 147.049687 \r\nL 518.074007 147.167477 \r\nL 518.339128 147.176466 \r\nL 518.359348 147.21715 \r\nL 518.053055 147.209343 \r\nL 517.915157 147.043487 \r\nL 517.80578 147.074803 \r\nL 517.696751 146.998484 \r\nL 512.775314 146.998839 \r\nL 512.452218 146.92887 \r\nL 512.146827 146.746337 \r\nL 511.995968 146.820115 \r\nL 511.404426 147.341725 \r\nL 511.27612 147.551107 \r\nL 511.976024 148.451136 \r\nL 512.231296 148.659405 \r\nL 516.787395 149.791185 \r\nL 518.728875 150.261171 \r\nL 518.79705 150.32526 \r\nL 518.808785 150.505522 \r\nL 518.998207 150.500627 \r\nL 519.062495 150.295412 \r\nL 519.25985 150.331079 \r\nL 519.097296 150.345004 \r\nL 519.072521 150.529785 \r\nL 519.482906 150.531489 \r\nL 520.572326 150.467145 \r\nL 521.835473 150.477902 \r\nL 522.158675 150.554683 \r\nL 522.404575 150.708783 \r\nL 524.924518 153.464103 \r\nL 525.136433 154.110661 \r\nL 525.198438 153.991561 \r\nL 525.221001 154.104286 \r\nL 525.235832 154.028867 \r\nL 525.314361 154.098954 \r\nL 525.265535 154.22113 \r\nL 525.213816 154.141094 \r\nL 525.179466 154.201564 \r\nL 525.243097 154.24405 \r\nL 525.158408 154.245743 \r\nL 525.139392 154.326065 \r\nL 525.286116 156.948132 \r\nL 525.188571 157.091312 \r\nL 525.020417 157.93271 \r\nL 525.035853 158.239471 \r\nL 524.694339 159.564331 \r\nL 522.90652 162.945208 \r\nL 522.690306 163.229569 \r\nL 522.708651 163.35006 \r\nL 522.775507 163.392615 \r\nL 522.772929 163.397552 \r\nL 522.5845 163.453894 \r\nL 522.44793 163.466115 \r\nL 521.902849 164.605983 \r\nL 521.83419 164.569881 \r\nL 521.651687 165.072121 \r\nL 521.486957 165.266789 \r\nL 521.473586 165.350086 \r\nL 520.463597 166.194384 \r\nL 520.244187 166.465041 \r\nL 520.106994 166.510945 \r\nL 518.916281 167.459363 \r\nL 518.257387 167.92727 \r\nL 518.141175 167.919625 \r\nL 518.102027 167.984187 \r\nL 518.117375 167.867421 \r\nL 517.955397 167.852521 \r\nL 517.934986 167.932883 \r\nL 518.051506 168.016481 \r\nL 517.920309 168.033107 \r\nL 517.78995 167.852921 \r\nL 516.93259 167.681394 \r\nL 516.520263 167.771644 \r\nL 512.742095 169.708669 \r\nL 511.697593 170.473346 \r\nL 511.648151 170.558706 \r\nL 511.692323 170.630964 \r\nL 511.606686 170.630296 \r\nL 511.666472 170.704721 \r\nL 511.314656 170.835109 \r\nL 511.189238 171.001674 \r\nL 511.147415 170.95495 \r\nL 511.064663 171.079501 \r\nL 511.116338 171.169822 \r\nL 511.083028 171.191254 \r\nL 511.008005 171.103727 \r\nL 510.88553 171.181584 \r\nL 510.999094 171.337436 \r\nL 510.863665 171.195483 \r\nL 510.406067 171.577305 \r\nL 510.286818 171.968597 \r\nL 510.123161 172.042136 \r\nL 509.823095 172.486455 \r\nL 509.864987 172.585882 \r\nL 509.762452 172.579641 \r\nL 509.839695 172.724995 \r\nL 509.828672 172.801466 \r\nL 509.794609 172.832944 \r\nL 509.834268 172.740575 \r\nL 509.733124 172.608806 \r\nL 509.728948 172.612959 \r\nL 509.77869 172.686826 \r\nL 509.606547 172.810061 \r\nL 509.435123 173.042041 \r\nL 509.522417 173.101445 \r\nL 509.737253 172.889207 \r\nL 509.628968 173.138113 \r\nL 509.773542 173.448065 \r\nL 509.690631 173.486715 \r\nL 509.310314 173.166368 \r\nL 509.238386 173.249286 \r\nL 508.853994 173.140115 \r\nL 508.046096 173.390548 \r\nL 507.644794 173.405862 \r\nL 506.443722 172.933913 \r\nL 505.074626 174.438889 \r\nL 504.801808 174.779481 \r\nL 504.729439 175.085369 \r\nL 505.011156 176.079072 \r\nL 505.245369 176.366552 \r\nL 505.430271 176.313863 \r\nL 505.742231 176.463701 \r\nL 505.697156 176.722918 \r\nL 505.690894 176.482302 \r\nL 505.515268 176.4024 \r\nL 505.267268 176.501067 \r\nL 505.265737 176.557697 \r\nL 505.347786 176.531783 \r\nL 505.484566 176.602887 \r\nL 505.470132 176.648388 \r\nL 505.2624 176.681058 \r\nL 505.270985 176.724116 \r\nL 505.437986 176.661134 \r\nL 505.496172 176.696887 \r\nL 505.497165 176.759795 \r\nL 505.292135 176.830188 \r\nL 505.340164 176.972783 \r\nL 505.508881 176.905382 \r\nL 505.561394 176.744522 \r\nL 505.633224 176.759402 \r\nL 505.543076 177.012999 \r\nL 505.459136 177.188105 \r\nL 505.724825 177.860003 \r\nL 505.724163 177.980376 \r\nL 505.603015 178.06706 \r\nL 505.476272 178.539035 \r\nL 505.500241 178.639298 \r\nL 505.505503 178.795301 \r\nL 505.352304 178.806576 \r\nL 505.374145 178.921216 \r\nL 505.080217 180.036164 \r\nL 504.806221 180.834985 \r\nL 504.63425 181.073111 \r\nL 504.801586 181.220581 \r\nL 504.609358 181.259661 \r\nL 504.193462 182.71943 \r\nL 504.023215 182.881148 \r\nL 503.503025 182.970738 \r\nL 501.901773 183.424145 \r\nL 501.598563 183.570164 \r\nL 501.411093 183.596786 \r\nL 501.512526 183.62501 \r\nL 500.487465 183.927101 \r\nL 500.381676 183.9582 \r\nL 498.032137 184.68297 \r\nL 498.00074 184.74481 \r\nL 496.984057 184.994082 \r\nL 496.484719 185.083712 \r\nL 496.031538 184.991204 \r\nL 495.601489 184.676015 \r\nL 495.627431 184.635567 \r\nL 495.525611 184.530273 \r\nL 495.441801 184.6163 \r\nL 495.468508 184.518909 \r\nL 495.381672 184.4219 \r\nL 495.315214 184.503097 \r\nL 495.341284 184.37678 \r\nL 494.894223 183.877346 \r\nL 490.498643 179.702869 \r\nL 490.287033 179.751634 \r\nL 490.255321 179.722841 \r\nL 490.387549 179.613664 \r\nL 489.313695 178.824693 \r\nL 488.376627 178.241867 \r\nL 487.348924 177.707744 \r\nL 485.498821 176.983012 \r\nL 484.440919 176.682318 \r\nL 484.436501 176.70007 \r\nL 484.408385 176.693543 \r\nL 484.268317 176.776595 \r\nL 484.274329 176.711116 \r\nL 484.227665 176.631632 \r\nL 484.298607 176.653564 \r\nL 484.320154 176.575518 \r\nL 484.276589 176.499205 \r\nL 484.19503 176.494188 \r\nL 484.156089 176.576525 \r\nL 484.234205 176.710957 \r\nL 484.155755 176.771834 \r\nL 484.110568 176.66577 \r\nL 483.940324 176.764648 \r\nL 484.007373 176.884851 \r\nL 484.077305 176.836477 \r\nL 484.125206 176.862977 \r\nL 484.199342 176.849215 \r\nL 483.998031 176.96926 \r\nL 483.738456 176.897463 \r\nL 483.765858 176.599558 \r\nL 483.595151 176.497887 \r\nL 483.483439 176.639724 \r\nL 483.335325 176.554371 \r\nL 483.313083 176.440813 \r\nL 483.232969 176.3178 \r\nL 482.612885 176.212259 \r\nL 481.904861 176.334571 \r\nL 480.780172 176.696032 \r\nL 480.122156 176.987566 \r\nL 479.632629 176.982854 \r\nL 479.352122 177.197161 \r\nL 479.341979 177.535697 \r\nL 479.071546 177.27182 \r\nL 478.964689 177.359939 \r\nL 478.932601 177.319377 \r\nL 479.024972 177.21534 \r\nL 478.845624 176.951819 \r\nL 478.991121 177.094314 \r\nL 479.127186 177.070427 \r\nL 479.275901 176.925905 \r\nL 479.363685 176.71948 \r\nL 478.671759 176.046812 \r\nL 478.513148 176.113446 \r\nL 478.451344 176.025932 \r\nL 478.551321 176.031149 \r\nL 478.698395 175.714073 \r\nL 478.476835 175.542614 \r\nL 478.463394 175.476762 \r\nL 478.64267 175.399614 \r\nL 478.609857 175.063698 \r\nL 478.676304 175.035573 \r\nL 478.587883 174.026365 \r\nL 478.486917 173.136167 \r\nL 477.929781 172.124449 \r\nL 477.908891 171.89594 \r\nL 477.962875 171.689703 \r\nL 478.070839 171.522152 \r\nL 478.34715 171.301441 \r\nL 480.133571 170.239081 \r\nL 480.252625 170.040086 \r\nL 480.467605 169.519803 \r\nL 480.982775 169.210941 \r\nL 483.332594 167.815947 \r\nL 484.195016 167.309664 \r\nL 484.239106 167.364196 \r\nL 483.479526 167.782277 \r\nL 484.041891 167.776748 \r\nL 484.271406 167.638307 \r\nL 484.236762 167.575045 \r\nL 484.534585 167.609745 \r\nL 484.521441 167.493708 \r\nL 484.785573 167.335436 \r\nL 485.036197 166.884118 \r\nL 484.880237 166.89772 \r\nL 486.721469 165.777249 \r\nL 494.431787 160.350481 \r\nL 494.983245 159.994909 \r\nL 495.520093 159.941692 \r\nL 495.870454 159.639562 \r\nL 496.933939 158.645191 \r\nL 496.960612 158.602201 \r\nL 497.052555 158.64425 \r\nL 497.085504 158.61036 \r\nL 497.047912 158.54253 \r\nL 497.124415 158.613184 \r\nL 497.154854 158.593728 \r\nL 497.120323 158.478404 \r\nL 497.417491 158.225889 \r\nL 497.423396 158.23507 \r\nL 498.081911 157.784628 \r\nL 498.468415 157.085759 \r\nL 498.393242 156.979133 \r\nL 498.211655 157.036057 \r\nL 498.234431 157.149943 \r\nL 498.219469 157.159566 \r\nL 498.175789 157.039067 \r\nL 498.180202 156.992176 \r\nL 498.217963 157.005177 \r\nL 498.255619 156.959236 \r\nL 498.175789 156.776228 \r\nL 498.155933 156.638631 \r\nL 498.139504 156.382701 \r\nL 498.047797 156.184412 \r\nL 497.978092 156.356995 \r\nL 497.911343 156.355224 \r\nL 497.77243 156.338257 \r\nL 497.755359 156.153994 \r\nL 497.722812 156.140461 \r\nL 497.725621 156.079459 \r\nL 497.597398 156.071328 \r\nL 497.593446 156.144473 \r\nL 497.546276 156.134704 \r\nL 497.498173 156.767793 \r\nL 497.464283 156.767793 \r\nL 497.476848 156.120325 \r\nL 497.316829 156.087184 \r\nL 497.342033 155.904046 \r\nL 497.448639 155.84084 \r\nL 497.498837 155.834649 \r\nL 497.546374 155.217056 \r\nL 497.604346 154.959906 \r\nL 497.854115 154.369404 \r\nL 498.331041 153.16794 \r\nL 498.464344 152.926705 \r\nL 498.654574 152.684918 \r\nL 498.822925 152.517338 \r\nL 498.999329 152.395261 \r\nL 499.176457 152.282709 \r\nL 499.983351 151.977694 \r\nL 500.115139 151.841585 \r\nL 500.186434 151.653192 \r\nL 500.15057 151.387455 \r\nL 499.543088 149.466024 \r\nL 499.418925 149.088057 \r\nL 496.31561 144.097767 \r\nL 496.256038 144.121697 \r\nL 495.786468 143.254364 \r\nL 493.30682 140.578216 \r\nL 492.812157 140.234786 \r\nL 489.788844 138.917311 \r\nL 489.384499 139.620781 \r\nL 489.001388 139.822131 \r\nL 488.609535 139.792852 \r\nL 488.244365 139.495628 \r\nL 488.684915 139.516458 \r\nL 488.949006 139.42446 \r\nL 489.123174 139.24466 \r\nL 489.215101 138.922729 \r\nL 488.594928 138.91484 \r\nL 488.62985 138.780857 \r\nL 489.255348 138.673888 \r\nL 489.57411 138.736707 \r\nL 492.878254 140.202337 \r\nL 493.362527 140.552941 \r\nL 495.823333 143.196354 \r\nL 496.701514 144.608451 \r\nL 496.868573 144.493591 \r\nL 496.886424 144.576938 \r\nL 496.76705 144.647596 \r\nL 496.86399 144.795483 \r\nL 496.94858 144.759719 \r\nL 496.869509 144.855841 \r\nL 499.481949 149.079338 \r\nL 500.222236 151.429665 \r\nL 500.263811 151.61234 \r\nL 500.163872 151.868535 \r\nL 499.99573 152.026594 \r\nL 499.279256 152.281754 \r\nL 498.969957 152.462725 \r\nL 498.657342 152.752975 \r\nL 498.417393 153.105566 \r\nL 497.659797 154.944958 \r\nL 497.585623 155.268015 \r\nL 497.545294 156.007406 \r\nL 497.603613 156.012426 \r\nL 497.598016 156.064121 \r\nL 497.726175 156.072256 \r\nL 497.729088 156.024481 \r\nL 497.769757 156.018456 \r\nL 497.806568 155.861595 \r\nL 497.940582 155.867487 \r\nL 497.958227 155.557716 \r\nL 497.985105 155.543206 \r\nL 497.965689 155.736294 \r\nL 498.017402 155.743338 \r\nL 498.082759 155.822014 \r\nL 498.101421 156.050435 \r\nL 498.120815 155.832565 \r\nL 498.189859 155.688461 \r\nL 498.392477 155.495413 \r\nL 498.414838 155.516891 \r\nL 498.223824 155.693483 \r\nL 498.337829 155.811944 \r\nL 498.53081 155.627943 \r\nL 498.457385 155.554065 \r\nL 498.546454 155.46751 \r\nL 498.621673 155.54488 \r\nL 498.787515 155.388842 \r\nL 498.80095 155.361238 \r\nL 498.832099 155.297238 \r\nL 498.779062 155.242381 \r\nL 498.715374 155.299823 \r\nL 498.680671 155.252407 \r\nL 498.738581 155.20051 \r\nL 498.6865 155.146641 \r\nL 498.627555 155.200462 \r\nL 498.635271 155.242015 \r\nL 498.58083 155.279628 \r\nL 498.561029 155.236236 \r\nL 498.568193 155.167593 \r\nL 498.714711 155.075663 \r\nL 498.917439 155.247791 \r\nL 499.362676 154.107677 \r\nL 499.369712 154.042072 \r\nL 499.317679 154.025644 \r\nL 499.454266 153.652044 \r\nL 499.358688 153.550029 \r\nL 499.517018 153.312617 \r\nL 499.64355 153.242325 \r\nL 499.697524 153.245924 \r\nL 499.529654 153.341093 \r\nL 499.407108 153.535317 \r\nL 499.573484 153.675841 \r\nL 499.649158 153.540419 \r\nL 499.7256 153.490337 \r\nL 499.850146 153.459136 \r\nL 501.859466 153.338625 \r\nL 502.124915 153.222334 \r\nL 502.334727 153.038558 \r\nL 503.508652 151.843998 \r\nL 503.425523 151.75329 \r\nL 503.69514 151.480661 \r\nL 503.78639 151.561378 \r\nL 504.933099 150.394513 \r\nL 506.057428 149.214083 \r\nL 506.469225 148.962035 \r\nL 506.968034 148.800397 \r\nL 510.528082 147.818429 \r\nL 511.376629 147.267662 \r\nL 511.87462 146.831571 \r\nL 511.920322 146.733036 \r\nL 512.023089 146.587011 \r\nL 510.617898 144.401937 \r\nL 509.715864 143.04165 \r\nL 508.789377 142.381795 \r\nL 508.82352 142.031359 \r\nL 508.699151 142.039235 \r\nL 508.702896 142.171422 \r\nL 508.521589 142.182563 \r\nL 508.474812 142.137299 \r\nL 508.588608 142.119275 \r\nL 508.584261 142.014084 \r\nL 508.641649 141.962926 \r\nL 508.25507 141.990893 \r\nL 508.411171 142.025107 \r\nL 508.53488 142.395569 \r\nL 508.357729 142.09116 \r\nL 508.143385 141.952765 \r\nL 508.223357 141.732154 \r\nL 508.246164 141.013038 \r\nL 508.257384 140.337825 \r\nL 508.283377 137.603081 \r\nL 508.33561 132.765546 \r\nL 508.350005 131.22138 \r\nL 508.439316 130.858744 \r\nL 510.79642 127.03311 \r\nL 512.45816 124.34051 \r\nL 512.692762 124.084271 \r\nL 513.087401 123.90883 \r\nL 515.658339 123.588636 \r\nL 515.799385 123.479327 \r\nL 515.865589 123.232652 \r\nL 516.481452 123.435992 \r\nL 516.864136 123.716802 \r\nL 516.922193 123.681838 \r\nL 516.771835 123.345779 \r\nL 516.613579 122.638368 \r\nL 516.604331 122.600514 \r\nL 517.951101 122.989535 \r\nL 518.148844 123.047321 \r\n\" style=\"fill:#eff6fc;stroke:#333333;stroke-width:0.6;\"/>\r\n    <path clip-path=\"url(#pab055609a1)\" d=\"M 509.166505 173.385282 \r\nL 508.898123 173.623692 \r\nL 508.45022 173.506434 \r\nL 508.344894 173.524613 \r\nL 508.361342 173.418347 \r\nL 508.469823 173.372082 \r\nL 508.788498 173.360741 \r\nL 509.166505 173.385282 \r\n\" style=\"fill:#82bbdb;stroke:#333333;stroke-width:0.6;\"/>\r\n    <path clip-path=\"url(#pab055609a1)\" d=\"M 526.520561 156.535712 \r\nL 526.621471 156.627568 \r\nL 526.702236 156.572844 \r\nL 526.934843 156.856357 \r\nL 526.980648 156.827587 \r\nL 527.237237 157.071237 \r\nL 528.166912 158.250024 \r\nL 528.686784 159.061826 \r\nL 529.426323 160.682271 \r\nL 529.736413 161.57707 \r\nL 530.368746 161.220288 \r\nL 530.464231 161.313841 \r\nL 531.055477 160.724365 \r\nL 531.296864 160.535736 \r\nL 531.489171 160.467733 \r\nL 531.838768 160.504627 \r\nL 532.296865 161.305333 \r\nL 532.711741 160.79442 \r\nL 533.436781 159.973078 \r\nL 533.984123 159.448775 \r\nL 534.562705 158.784047 \r\nL 534.998476 158.346282 \r\nL 535.303425 158.166315 \r\nL 535.478167 158.162372 \r\nL 535.753453 158.279838 \r\nL 535.979348 158.224607 \r\nL 536.138924 158.092133 \r\nL 536.297842 157.770525 \r\nL 537.115961 158.116736 \r\nL 537.484046 158.366476 \r\nL 538.005495 158.791776 \r\nL 538.278335 159.188755 \r\nL 538.501416 159.77844 \r\nL 538.610452 160.025001 \r\nL 538.802828 160.327519 \r\nL 539.131618 160.647839 \r\nL 539.455514 160.843687 \r\nL 540.28702 161.195937 \r\nL 540.610746 161.477874 \r\nL 540.930596 161.875988 \r\nL 541.099406 162.292754 \r\nL 541.231281 163.598881 \r\nL 541.137096 164.250568 \r\nL 541.159123 164.464467 \r\nL 541.338494 164.798991 \r\nL 541.634592 165.013097 \r\nL 541.929297 165.276652 \r\nL 542.281991 165.809511 \r\nL 542.08459 166.099338 \r\nL 542.201592 166.284248 \r\nL 542.208391 166.47348 \r\nL 541.933386 167.19318 \r\nL 541.917181 167.504541 \r\nL 541.995422 167.783541 \r\nL 541.748256 168.466255 \r\nL 542.010621 168.550957 \r\nL 542.102577 168.772825 \r\nL 542.286912 169.006747 \r\nL 542.585896 169.080334 \r\nL 542.69683 169.262785 \r\nL 542.839942 169.32045 \r\nL 543.031557 169.280438 \r\nL 542.995454 169.425911 \r\nL 542.694374 170.059933 \r\nL 542.765262 170.751924 \r\nL 542.743739 170.964078 \r\nL 542.605891 171.254798 \r\nL 542.427133 171.444139 \r\nL 541.946201 171.695311 \r\nL 540.771419 172.062489 \r\nL 539.954595 172.257465 \r\nL 539.777545 172.407435 \r\nL 539.682378 172.579237 \r\nL 539.66401 173.080801 \r\nL 539.862567 173.317604 \r\nL 540.354992 173.406872 \r\nL 540.499544 173.479532 \r\nL 540.682927 173.664875 \r\nL 540.76593 173.847835 \r\nL 540.281812 174.173599 \r\nL 539.686621 174.33383 \r\nL 539.693052 174.404571 \r\nL 539.563095 174.530968 \r\nL 539.571964 175.048303 \r\nL 539.52128 175.166373 \r\nL 539.619937 175.78883 \r\nL 539.547261 176.202213 \r\nL 539.448791 176.226175 \r\nL 539.552125 176.354363 \r\nL 539.470299 176.433725 \r\nL 539.428635 176.643851 \r\nL 539.244886 177.562749 \r\nL 539.030716 177.61428 \r\nL 538.94773 177.737504 \r\nL 538.978491 177.995236 \r\nL 539.323136 178.057874 \r\nL 539.447626 177.998011 \r\nL 539.830584 178.00486 \r\nL 539.920235 178.6099 \r\nL 540.141188 178.655328 \r\nL 540.050448 179.113542 \r\nL 540.129969 179.686493 \r\nL 540.26971 179.662773 \r\nL 540.393899 179.82221 \r\nL 540.573767 179.861305 \r\nL 541.110262 179.841403 \r\nL 541.079905 179.732795 \r\nL 541.246727 179.724306 \r\nL 541.489695 180.247096 \r\nL 541.47677 180.404333 \r\nL 541.550034 180.652136 \r\nL 541.907697 181.091687 \r\nL 541.912067 181.882416 \r\nL 541.985684 182.136702 \r\nL 542.558607 182.793884 \r\nL 542.682845 183.08508 \r\nL 542.747861 183.585745 \r\nL 542.98013 183.879187 \r\nL 543.151092 183.984447 \r\nL 542.836285 184.395815 \r\nL 542.742008 184.728009 \r\nL 542.759133 184.960814 \r\nL 543.594764 185.209877 \r\nL 544.036938 185.482854 \r\nL 544.101457 185.407158 \r\nL 544.457181 185.277412 \r\nL 544.673488 185.408281 \r\nL 544.730683 185.532902 \r\nL 544.709479 185.698075 \r\nL 544.53788 185.887138 \r\nL 543.963696 186.323546 \r\nL 543.934085 186.776107 \r\nL 544.025831 187.044764 \r\nL 544.317259 187.447134 \r\nL 544.902948 187.660931 \r\nL 545.139704 187.708184 \r\nL 545.27184 187.818365 \r\nL 545.392206 188.083142 \r\nL 545.307821 188.427294 \r\nL 545.402346 188.527007 \r\nL 545.524802 188.492435 \r\nL 545.570419 188.381483 \r\nL 545.632774 188.373063 \r\nL 545.623419 188.243402 \r\nL 545.697062 188.179827 \r\nL 545.474522 187.95596 \r\nL 545.502717 187.88587 \r\nL 545.288779 187.422201 \r\nL 545.638382 187.585079 \r\nL 545.674296 187.485409 \r\nL 545.619523 187.442885 \r\nL 545.322349 187.35795 \r\nL 545.529598 187.092671 \r\nL 546.042577 186.900521 \r\nL 546.58042 186.784464 \r\nL 547.013934 187.27151 \r\nL 547.919646 187.250561 \r\nL 548.820033 187.535486 \r\nL 548.655422 187.014385 \r\nL 548.783641 187.007913 \r\nL 549.049135 187.211431 \r\nL 549.917041 187.252342 \r\nL 550.001319 187.343949 \r\nL 550.186612 187.38833 \r\nL 551.01846 187.461493 \r\nL 551.434428 187.420106 \r\nL 551.661658 187.22789 \r\nL 551.915689 187.417305 \r\nL 552.220205 187.497059 \r\nL 552.34281 187.500186 \r\nL 552.322484 187.34246 \r\nL 552.76245 187.289009 \r\nL 553.312741 187.071399 \r\nL 553.667178 187.011738 \r\nL 553.733187 187.017052 \r\nL 553.748263 187.155673 \r\nL 554.002821 187.20646 \r\nL 554.071628 187.572096 \r\nL 555.529152 187.538859 \r\nL 555.851776 187.394536 \r\nL 556.712034 187.36683 \r\nL 556.657249 186.409946 \r\nL 556.878797 186.403551 \r\nL 556.912157 186.261903 \r\nL 557.208483 186.106379 \r\nL 557.339726 186.139316 \r\nL 557.401658 185.8703 \r\nL 557.481415 185.822907 \r\nL 558.515817 185.824663 \r\nL 559.191406 185.47575 \r\nL 559.481211 185.327893 \r\nL 559.58529 185.547864 \r\nL 560.005521 185.695861 \r\nL 560.831021 185.609142 \r\nL 561.727113 185.71321 \r\nL 561.729322 185.992037 \r\nL 561.759625 186.244875 \r\nL 562.100849 186.683516 \r\nL 562.593206 187.710091 \r\nL 562.740737 187.907681 \r\nL 563.291331 188.340737 \r\nL 563.709178 188.785084 \r\nL 564.136234 189.446491 \r\nL 564.188156 189.689063 \r\nL 564.363338 189.946553 \r\nL 564.43933 190.024045 \r\nL 565.077875 190.074688 \r\nL 565.283865 190.178839 \r\nL 565.233375 190.295495 \r\nL 565.276859 190.885209 \r\nL 565.457845 191.267874 \r\nL 565.83313 191.81266 \r\nL 565.878859 191.941588 \r\nL 566.636922 192.21905 \r\nL 566.754758 192.480271 \r\nL 566.978242 192.500774 \r\nL 568.100803 192.05216 \r\nL 568.386314 192.043865 \r\nL 570.839874 192.428527 \r\nL 572.753209 191.946025 \r\nL 572.949208 191.89202 \r\nL 573.076284 191.839529 \r\nL 573.149583 191.861985 \r\nL 573.480739 192.112876 \r\nL 574.155342 192.814577 \r\nL 574.148859 192.889999 \r\nL 573.955608 193.067175 \r\nL 573.936795 193.236479 \r\nL 574.23706 193.705553 \r\nL 574.360491 193.649377 \r\nL 574.550753 193.854907 \r\nL 574.885116 193.624921 \r\nL 575.18029 193.294489 \r\nL 575.372087 193.261986 \r\nL 575.471625 192.963899 \r\nL 575.387393 192.889841 \r\nL 575.422746 192.854678 \r\nL 575.635249 192.900309 \r\nL 575.759147 192.781029 \r\nL 576.007543 192.87865 \r\nL 576.369211 193.376286 \r\nL 576.665775 192.654318 \r\nL 576.938881 192.788501 \r\nL 578.38834 193.522784 \r\nL 578.430941 193.601849 \r\nL 578.526524 193.778336 \r\nL 578.490216 193.975438 \r\nL 578.573711 193.988276 \r\nL 578.516107 194.108038 \r\nL 578.548619 194.13455 \r\nL 578.568353 194.244847 \r\nL 578.358339 194.501351 \r\nL 578.522778 194.674454 \r\nL 578.482739 194.856941 \r\nL 578.57477 194.953301 \r\nL 578.5037 195.123106 \r\nL 578.414863 195.129879 \r\nL 578.577295 195.356283 \r\nL 578.629604 195.937362 \r\nL 578.52037 196.305103 \r\nL 578.25236 196.594427 \r\nL 577.913537 197.298705 \r\nL 578.539009 197.565436 \r\nL 578.875211 197.708486 \r\nL 580.186882 197.938939 \r\nL 581.070069 198.328931 \r\nL 581.396587 198.474778 \r\nL 582.905723 198.464381 \r\nL 582.905665 198.416693 \r\nL 584.274044 198.367389 \r\nL 584.22993 199.014219 \r\nL 584.228109 199.368924 \r\nL 584.168554 199.792583 \r\nL 584.137677 199.948967 \r\nL 584.121498 200.428337 \r\nL 584.031545 200.601287 \r\nL 583.98544 200.659033 \r\nL 584.040275 200.678973 \r\nL 583.959726 200.898714 \r\nL 583.846848 200.793344 \r\nL 583.651171 200.807859 \r\nL 583.298349 201.094774 \r\nL 583.320914 201.300558 \r\nL 583.351182 201.416468 \r\nL 583.666311 201.680845 \r\nL 583.72379 201.894192 \r\nL 583.504869 202.273343 \r\nL 583.274949 202.445295 \r\nL 582.729609 203.057643 \r\nL 581.327869 203.266402 \r\nL 580.169212 203.578772 \r\nL 580.084635 203.616389 \r\nL 580.232738 203.873115 \r\nL 580.173944 204.199242 \r\nL 580.132014 204.210245 \r\nL 579.778679 205.031186 \r\nL 579.636627 205.039903 \r\nL 579.600608 205.133022 \r\nL 579.602054 205.447502 \r\nL 579.69722 205.465909 \r\nL 579.698121 206.308901 \r\nL 579.698301 206.785011 \r\nL 581.408585 206.732038 \r\nL 583.960055 207.915769 \r\nL 584.695664 208.545393 \r\nL 584.847223 208.915103 \r\nL 585.198611 208.994276 \r\nL 587.827224 211.041745 \r\nL 587.598371 211.376618 \r\nL 588.826872 211.504479 \r\nL 589.086229 212.273841 \r\nL 589.053387 212.992895 \r\nL 589.099067 213.306773 \r\nL 589.23858 213.521726 \r\nL 589.276105 213.789034 \r\nL 589.255383 213.975532 \r\nL 589.013702 214.607412 \r\nL 588.056789 214.676181 \r\nL 587.970779 214.867908 \r\nL 587.090846 215.214279 \r\nL 586.949954 216.773384 \r\nL 587.019834 216.922281 \r\nL 586.820707 217.692601 \r\nL 586.306224 218.135885 \r\nL 586.50297 218.293929 \r\nL 585.296187 219.738009 \r\nL 585.032598 219.757156 \r\nL 584.676738 219.969158 \r\nL 584.467893 220.004432 \r\nL 584.25835 220.135181 \r\nL 584.287754 220.404576 \r\nL 584.137861 220.56744 \r\nL 584.08872 220.706777 \r\nL 583.718126 220.873981 \r\nL 583.171161 220.994066 \r\nL 582.88022 221.628598 \r\nL 582.197919 221.921962 \r\nL 580.953888 220.853748 \r\nL 580.986093 220.535101 \r\nL 580.91481 220.493996 \r\nL 580.72704 220.576648 \r\nL 580.584692 220.493555 \r\nL 580.421774 219.863189 \r\nL 580.247981 219.987869 \r\nL 579.696987 219.852034 \r\nL 579.6926 219.694393 \r\nL 579.079867 219.879818 \r\nL 578.688446 220.105757 \r\nL 577.777043 220.641545 \r\nL 576.680947 221.134127 \r\nL 576.455855 221.502176 \r\nL 576.03313 221.525023 \r\nL 575.875418 221.413225 \r\nL 575.50719 221.554441 \r\nL 574.513296 221.930706 \r\nL 573.30808 222.286121 \r\nL 572.231026 222.934346 \r\nL 571.891948 223.216497 \r\nL 571.82249 223.331406 \r\nL 571.698166 223.375193 \r\nL 571.708102 223.536873 \r\nL 571.666801 223.567873 \r\nL 571.566645 223.53453 \r\nL 571.467793 223.615181 \r\nL 571.375199 223.613828 \r\nL 571.337546 223.442026 \r\nL 571.165914 223.379996 \r\nL 571.143239 223.154408 \r\nL 570.879315 223.247821 \r\nL 570.982858 223.452746 \r\nL 570.941003 223.4795 \r\nL 570.826702 223.462565 \r\nL 570.679916 223.326468 \r\nL 570.605411 223.329986 \r\nL 570.333859 223.724265 \r\nL 569.642141 224.168079 \r\nL 569.687969 224.254778 \r\nL 569.337778 224.464772 \r\nL 569.344627 224.502538 \r\nL 568.935016 224.569648 \r\nL 568.759286 224.529702 \r\nL 568.692547 224.572505 \r\nL 568.49827 224.814751 \r\nL 568.039613 225.065094 \r\nL 567.957631 225.163693 \r\nL 567.817697 225.127147 \r\nL 567.897995 225.473776 \r\nL 567.776661 225.732488 \r\nL 566.973502 226.083718 \r\nL 566.718077 226.246088 \r\nL 566.623447 226.323956 \r\nL 566.516599 226.315159 \r\nL 566.343682 226.32353 \r\nL 566.266943 226.347943 \r\nL 566.062379 226.476127 \r\nL 565.974303 226.651796 \r\nL 565.464146 226.517983 \r\nL 565.44099 226.505138 \r\nL 565.039033 226.152403 \r\nL 564.556639 225.46677 \r\nL 564.385102 225.441875 \r\nL 564.268404 225.496365 \r\nL 564.076036 225.746045 \r\nL 563.927183 225.833581 \r\nL 563.754004 225.810621 \r\nL 563.341816 226.103388 \r\nL 563.148528 225.96558 \r\nL 563.087642 225.505187 \r\nL 563.00511 225.424218 \r\nL 562.923808 225.384369 \r\nL 562.806577 225.415281 \r\nL 562.639658 225.310482 \r\nL 562.536985 225.333825 \r\nL 562.42888 225.286128 \r\nL 562.205027 225.132737 \r\nL 562.010101 224.88571 \r\nL 561.87628 225.050375 \r\nL 561.783731 225.061267 \r\nL 561.651264 224.925462 \r\nL 561.492635 224.983165 \r\nL 561.374075 225.101463 \r\nL 561.29765 225.069486 \r\nL 561.249939 224.965973 \r\nL 561.153633 224.98173 \r\nL 561.103272 224.911057 \r\nL 560.99797 224.98038 \r\nL 560.701045 224.594164 \r\nL 560.58888 224.602371 \r\nL 560.628802 224.709328 \r\nL 560.456688 225.31863 \r\nL 560.366834 225.556933 \r\nL 560.441019 225.878571 \r\nL 560.66091 225.928437 \r\nL 560.702496 226.039949 \r\nL 560.933246 226.171264 \r\nL 561.260203 226.507651 \r\nL 561.738062 226.655994 \r\nL 561.82081 226.762342 \r\nL 561.82877 226.853071 \r\nL 561.571149 227.234303 \r\nL 561.583339 227.394816 \r\nL 561.403961 227.697777 \r\nL 561.409811 227.836848 \r\nL 561.693166 228.326176 \r\nL 561.790225 228.606666 \r\nL 561.453424 228.541321 \r\nL 561.762659 229.4296 \r\nL 561.392866 229.522066 \r\nL 561.286089 229.389437 \r\nL 560.789726 229.121857 \r\nL 560.762067 229.03581 \r\nL 560.581287 228.896454 \r\nL 560.100483 228.746111 \r\nL 559.543404 228.756063 \r\nL 559.219771 228.919018 \r\nL 558.864448 228.723374 \r\nL 558.832019 228.653321 \r\nL 558.907568 228.37602 \r\nL 558.800416 227.920122 \r\nL 558.648456 227.602641 \r\nL 558.481955 227.426942 \r\nL 557.887824 227.159459 \r\nL 557.655536 227.071246 \r\nL 557.279476 227.099147 \r\nL 556.867698 227.014646 \r\nL 556.041502 227.015567 \r\nL 555.862992 227.066459 \r\nL 555.520775 227.17073 \r\nL 555.245064 227.223545 \r\nL 555.110167 227.302507 \r\nL 554.944396 226.830012 \r\nL 554.73215 225.939148 \r\nL 554.71715 225.678363 \r\nL 554.566144 225.528882 \r\nL 554.614877 225.329493 \r\nL 554.39935 225.288097 \r\nL 553.909911 224.958777 \r\nL 553.588165 224.880122 \r\nL 553.358723 224.685956 \r\nL 552.858456 224.630353 \r\nL 552.670228 224.710674 \r\nL 552.411542 225.127925 \r\nL 552.210735 225.31503 \r\nL 551.597061 225.252848 \r\nL 551.167806 225.147254 \r\nL 550.877031 225.254487 \r\nL 550.416902 225.150446 \r\nL 550.112256 225.190958 \r\nL 549.754038 225.312269 \r\nL 549.129407 225.416259 \r\nL 548.313902 224.993319 \r\nL 547.662082 224.502355 \r\nL 547.053268 223.86595 \r\nL 546.948965 223.524369 \r\nL 547.207697 223.408197 \r\nL 547.561973 223.349295 \r\nL 547.441512 223.20109 \r\nL 547.534878 222.897235 \r\nL 547.269725 222.831687 \r\nL 546.975371 222.665892 \r\nL 546.131765 221.895926 \r\nL 546.010867 221.93366 \r\nL 545.864712 222.182837 \r\nL 545.691479 221.916126 \r\nL 545.643829 221.937768 \r\nL 545.318871 221.502046 \r\nL 545.242957 221.487596 \r\nL 545.118247 221.493783 \r\nL 545.101845 221.562031 \r\nL 543.572197 222.073723 \r\nL 543.255668 222.251784 \r\nL 542.743738 221.891926 \r\nL 542.547556 222.309692 \r\nL 542.382065 222.182141 \r\nL 542.332234 222.2174 \r\nL 542.189382 222.512814 \r\nL 542.247125 222.605916 \r\nL 541.812027 222.869857 \r\nL 541.99944 222.955643 \r\nL 542.440494 222.854822 \r\nL 542.775842 222.909967 \r\nL 542.967881 223.008007 \r\nL 543.044004 223.108335 \r\nL 543.180936 223.102205 \r\nL 543.556295 223.296892 \r\nL 543.775859 223.484187 \r\nL 544.01718 223.552881 \r\nL 544.08 223.785131 \r\nL 544.451137 224.556722 \r\nL 544.43198 224.691121 \r\nL 544.517549 225.045094 \r\nL 544.518996 225.242911 \r\nL 544.774605 225.400025 \r\nL 544.930903 225.614238 \r\nL 545.279686 225.686148 \r\nL 545.635784 225.944528 \r\nL 545.990515 226.082713 \r\nL 546.011968 226.153978 \r\nL 545.826997 226.376702 \r\nL 545.783314 226.950305 \r\nL 545.919867 227.290415 \r\nL 545.990752 228.291239 \r\nL 544.738921 227.810126 \r\nL 543.970606 227.631794 \r\nL 542.103509 227.552506 \r\nL 541.598358 227.421114 \r\nL 540.943679 227.08903 \r\nL 540.130074 226.395349 \r\nL 539.226873 225.748337 \r\nL 539.110496 226.200282 \r\nL 539.031549 226.18923 \r\nL 538.980719 226.573667 \r\nL 538.637995 226.603164 \r\nL 538.447099 226.683455 \r\nL 538.704954 227.135775 \r\nL 537.819631 227.707783 \r\nL 537.511447 228.019884 \r\nL 537.430636 228.173002 \r\nL 537.282578 228.098835 \r\nL 537.235522 228.204986 \r\nL 537.002188 227.914457 \r\nL 536.418996 228.287386 \r\nL 536.265734 228.297084 \r\nL 536.151356 228.648268 \r\nL 536.065066 228.727769 \r\nL 535.768301 228.980436 \r\nL 535.25499 229.263135 \r\nL 534.744273 229.433737 \r\nL 534.24163 229.463798 \r\nL 533.567869 229.228986 \r\nL 533.282701 229.180264 \r\nL 533.076204 229.113825 \r\nL 532.682532 228.817249 \r\nL 532.677664 228.822988 \r\nL 531.520651 230.237695 \r\nL 532.383424 230.929063 \r\nL 532.317812 230.992112 \r\nL 532.222742 231.084642 \r\nL 532.164321 231.03889 \r\nL 532.038194 231.157847 \r\nL 531.894733 231.006117 \r\nL 531.827056 231.090294 \r\nL 531.724841 230.9854 \r\nL 531.585184 231.127408 \r\nL 531.6578 231.203392 \r\nL 531.62859 231.299272 \r\nL 531.816032 231.40728 \r\nL 531.722425 231.521135 \r\nL 531.930284 231.605154 \r\nL 532.273197 231.651966 \r\nL 532.714099 231.968594 \r\nL 533.51641 232.784484 \r\nL 533.768245 232.953331 \r\nL 533.464102 233.169837 \r\nL 533.621698 233.310747 \r\nL 533.50371 233.524398 \r\nL 533.354092 233.810208 \r\nL 533.510343 233.888911 \r\nL 533.443861 233.930165 \r\nL 533.48335 234.284553 \r\nL 533.809274 234.185308 \r\nL 533.896108 234.231814 \r\nL 533.95664 234.378382 \r\nL 534.146557 234.279661 \r\nL 534.154603 234.345992 \r\nL 534.358539 234.506821 \r\nL 534.479577 234.417672 \r\nL 534.524515 234.472852 \r\nL 534.070416 234.948728 \r\nL 534.144043 235.046453 \r\nL 534.112002 235.304543 \r\nL 534.004563 235.480046 \r\nL 534.296705 235.632836 \r\nL 534.5575 235.899304 \r\nL 534.643252 235.839088 \r\nL 534.544181 236.258852 \r\nL 533.750057 236.958642 \r\nL 533.440017 237.037509 \r\nL 532.449826 237.839853 \r\nL 532.350415 237.790198 \r\nL 532.035995 238.108187 \r\nL 532.121911 238.205192 \r\nL 532.037409 238.591525 \r\nL 531.515887 238.865136 \r\nL 531.144938 238.891572 \r\nL 530.987592 238.952356 \r\nL 530.782167 238.857856 \r\nL 530.595501 238.596399 \r\nL 530.6456 238.373634 \r\nL 530.813743 238.207338 \r\nL 530.101701 237.946937 \r\nL 529.618531 237.747675 \r\nL 529.498057 237.434137 \r\nL 529.49958 237.066134 \r\nL 529.347725 236.707827 \r\nL 528.969365 236.364487 \r\nL 528.685352 235.860322 \r\nL 528.176664 235.085467 \r\nL 527.71551 235.010799 \r\nL 526.58087 235.319849 \r\nL 526.507544 235.342955 \r\nL 526.479615 235.459648 \r\nL 526.48133 236.178937 \r\nL 526.604901 236.678786 \r\nL 526.468817 236.932858 \r\nL 526.332682 237.1673 \r\nL 526.29567 237.227506 \r\nL 525.487559 237.060078 \r\nL 524.850284 237.117449 \r\nL 523.480709 237.270107 \r\nL 522.693362 237.370947 \r\nL 521.454827 237.697288 \r\nL 520.743508 237.838102 \r\nL 520.064232 237.827448 \r\nL 519.320292 237.636955 \r\nL 518.909911 237.443219 \r\nL 518.484391 237.117955 \r\nL 518.190174 236.686232 \r\nL 517.853413 236.089732 \r\nL 517.612434 235.776338 \r\nL 517.462679 235.676003 \r\nL 516.948267 235.469872 \r\nL 516.249149 235.451146 \r\nL 515.904575 235.323755 \r\nL 515.663577 235.125454 \r\nL 515.279955 234.354074 \r\nL 515.096638 234.114775 \r\nL 514.576241 233.752525 \r\nL 513.810727 233.62297 \r\nL 513.437668 233.575098 \r\nL 513.106058 233.40563 \r\nL 512.721317 233.038071 \r\nL 512.485795 232.709409 \r\nL 512.221294 232.184142 \r\nL 512.00101 231.457259 \r\nL 511.845565 231.14045 \r\nL 511.654405 230.945295 \r\nL 511.255405 230.772312 \r\nL 510.645943 230.807495 \r\nL 510.401475 230.810264 \r\nL 510.116832 230.722025 \r\nL 509.357784 230.170766 \r\nL 508.816738 229.882137 \r\nL 508.219212 229.709644 \r\nL 507.431094 229.875149 \r\nL 506.848286 229.915536 \r\nL 506.212503 229.944159 \r\nL 505.994666 230.046695 \r\nL 505.819942 230.215246 \r\nL 505.76241 230.303667 \r\nL 505.591007 230.760926 \r\nL 505.372781 231.011412 \r\nL 505.088138 231.130962 \r\nL 504.741604 231.103523 \r\nL 504.234208 230.903248 \r\nL 503.570041 230.819752 \r\nL 503.33948 230.666045 \r\nL 502.937185 230.096759 \r\nL 502.621231 229.820655 \r\nL 502.146826 229.627098 \r\nL 501.766459 229.637771 \r\nL 501.482658 229.754238 \r\nL 501.220787 230.001878 \r\nL 501.079414 230.286521 \r\nL 500.993378 230.742381 \r\nL 500.901038 231.045569 \r\nL 500.72361 231.314083 \r\nL 500.283718 231.614247 \r\nL 500.087129 231.67949 \r\nL 499.110633 231.839724 \r\nL 498.446465 231.836877 \r\nL 497.782298 231.662296 \r\nL 497.32655 231.325694 \r\nL 497.063308 230.903633 \r\nL 496.841678 230.615306 \r\nL 496.548845 230.482925 \r\nL 496.264202 230.496208 \r\nL 495.979559 230.657506 \r\nL 495.8715 230.813261 \r\nL 495.762341 231.05205 \r\nL 495.502307 231.519974 \r\nL 494.787853 232.373904 \r\nL 494.271555 233.268306 \r\nL 493.917392 233.80272 \r\nL 493.841745 233.937892 \r\nL 493.415873 235.030573 \r\nL 493.27735 236.168806 \r\nL 493.244138 237.023074 \r\nL 493.089482 237.307717 \r\nL 492.823808 237.562326 \r\nL 490.761102 238.506065 \r\nL 489.601671 239.321879 \r\nL 489.337886 239.479544 \r\nL 489.053243 239.539319 \r\nL 488.7686 239.481442 \r\nL 488.220594 239.215305 \r\nL 487.724909 239.173078 \r\nL 487.254153 239.227489 \r\nL 486.965861 239.313502 \r\nL 486.396574 239.727184 \r\nL 486.01705 239.86571 \r\nL 485.689432 239.776355 \r\nL 484.801269 239.048002 \r\nL 484.214311 238.826763 \r\nL 483.834787 238.819172 \r\nL 483.539951 238.894002 \r\nL 483.188593 239.025985 \r\nL 482.469385 239.15124 \r\nL 481.826025 238.975924 \r\nL 481.273264 238.868783 \r\nL 480.721339 238.85068 \r\nL 480.371278 238.888835 \r\nL 478.046851 239.418975 \r\nL 477.95216 239.384665 \r\nL 477.911941 239.205046 \r\nL 477.887547 238.825216 \r\nL 477.937011 238.635927 \r\nL 478.710758 238.036438 \r\nL 479.013812 237.564142 \r\nL 478.683109 237.307773 \r\nL 478.568676 237.023266 \r\nL 478.600083 236.643706 \r\nL 478.754456 236.270934 \r\nL 478.818423 235.979115 \r\nL 478.683943 235.695136 \r\nL 477.445841 235.172703 \r\nL 477.278826 235.054809 \r\nL 476.814652 234.561728 \r\nL 476.54631 234.33406 \r\nL 476.247029 234.182419 \r\nL 475.960026 234.128809 \r\nL 475.668238 234.20306 \r\nL 475.390122 234.395895 \r\nL 475.044576 234.857113 \r\nL 474.820514 234.977447 \r\nL 474.539362 235.028359 \r\nL 474.251891 234.976581 \r\nL 474.063215 234.869729 \r\nL 473.67767 234.368763 \r\nL 473.423349 233.796254 \r\nL 473.128398 233.309824 \r\nL 472.839625 233.010462 \r\nL 472.600248 232.881378 \r\nL 472.216103 232.706472 \r\nL 471.404922 232.385914 \r\nL 470.739172 231.9332 \r\nL 470.508613 231.675903 \r\nL 470.371243 231.425818 \r\nL 470.359809 231.045955 \r\nL 470.310677 230.950309 \r\nL 469.725102 230.586068 \r\nL 470.551338 230.612307 \r\nL 471.424042 230.814012 \r\nL 471.514767 230.319051 \r\nL 471.554485 230.043678 \r\nL 471.766751 228.469269 \r\nL 471.103869 228.377212 \r\nL 470.323117 228.289782 \r\nL 469.940116 228.07108 \r\nL 469.903359 228.187754 \r\nL 469.710168 228.10971 \r\nL 469.668587 228.087485 \r\nL 469.683539 228.030823 \r\nL 469.642716 228.019109 \r\nL 469.716388 227.77359 \r\nL 469.632919 227.27686 \r\nL 469.609572 227.00393 \r\nL 469.329688 226.33092 \r\nL 469.460571 226.265563 \r\nL 469.804424 226.561917 \r\nL 470.065104 226.682077 \r\nL 470.34443 226.671642 \r\nL 470.74425 226.554198 \r\nL 471.481211 226.618112 \r\nL 472.58134 226.557753 \r\nL 472.768772 226.596713 \r\nL 473.185985 226.75789 \r\nL 473.590706 226.675937 \r\nL 473.798648 226.549397 \r\nL 473.881969 226.419212 \r\nL 473.827583 226.268154 \r\nL 473.268182 225.941387 \r\nL 473.13817 225.777811 \r\nL 473.147096 225.425119 \r\nL 473.34798 225.103395 \r\nL 473.873011 224.961264 \r\nL 474.418544 224.995944 \r\nL 474.503598 225.002218 \r\nL 475.0426 224.797904 \r\nL 475.199302 224.549903 \r\nL 475.348695 224.345923 \r\nL 475.391681 224.258959 \r\nL 475.452275 223.923852 \r\nL 475.515984 223.581114 \r\nL 475.641785 223.465112 \r\nL 475.933194 223.456892 \r\nL 476.139858 223.553425 \r\nL 476.647404 223.452595 \r\nL 477.102746 223.563566 \r\nL 477.137336 223.513139 \r\nL 477.203783 223.406704 \r\nL 477.27733 223.283268 \r\nL 477.421041 223.080211 \r\nL 477.477591 222.696557 \r\nL 477.375011 222.513098 \r\nL 477.559863 222.460141 \r\nL 477.635592 222.242526 \r\nL 478.395646 220.709211 \r\nL 478.613692 220.780172 \r\nL 478.669424 220.7278 \r\nL 478.612155 220.355029 \r\nL 479.055679 219.647817 \r\nL 479.450609 219.168969 \r\nL 479.486683 219.057712 \r\nL 479.419128 218.88704 \r\nL 479.515801 218.742523 \r\nL 479.648275 218.733636 \r\nL 479.858285 218.278311 \r\nL 480.433102 217.33824 \r\nL 480.776125 216.568933 \r\nL 481.535085 215.167884 \r\nL 482.152831 215.648234 \r\nL 482.747121 215.936565 \r\nL 483.212768 216.018534 \r\nL 483.698713 215.890851 \r\nL 483.700983 215.889508 \r\nL 484.066084 215.598848 \r\nL 484.38655 215.136534 \r\nL 484.776668 214.310326 \r\nL 484.978807 214.110036 \r\nL 485.230728 213.983144 \r\nL 485.58295 213.986789 \r\nL 485.859964 214.117331 \r\nL 486.494144 214.81067 \r\nL 486.873961 215.100095 \r\nL 487.412674 215.394385 \r\nL 488.2101 215.634602 \r\nL 489.402341 215.804427 \r\nL 490.052453 216.285975 \r\nL 490.425956 216.475596 \r\nL 490.87196 216.48908 \r\nL 491.503424 216.26751 \r\nL 491.93251 215.863813 \r\nL 491.941096 215.852312 \r\nL 492.491222 215.16128 \r\nL 492.972746 214.879923 \r\nL 493.453801 214.817165 \r\nL 494.301044 215.000991 \r\nL 494.74357 214.995411 \r\nL 495.276761 214.840631 \r\nL 495.821884 214.590116 \r\nL 497.048578 214.219974 \r\nL 497.387983 213.992887 \r\nL 497.846373 213.516585 \r\nL 498.227146 213.296421 \r\nL 498.628874 213.23289 \r\nL 499.580935 213.471006 \r\nL 500.6027 213.544485 \r\nL 500.927102 213.491832 \r\nL 501.484313 213.453759 \r\nL 502.432702 214.004924 \r\nL 503.100357 214.52624 \r\nL 503.572921 214.731239 \r\nL 503.612547 214.743811 \r\nL 504.152888 214.885789 \r\nL 504.831875 215.088561 \r\nL 505.007341 215.19416 \r\nL 505.6191 216.04626 \r\nL 506.100778 216.413133 \r\nL 506.382756 216.540115 \r\nL 507.317326 216.714624 \r\nL 508.038134 216.92357 \r\nL 508.437819 217.096251 \r\nL 509.168408 217.653531 \r\nL 509.300988 217.733201 \r\nL 509.983159 217.073575 \r\nL 510.245037 217.181339 \r\nL 510.226038 216.846416 \r\nL 510.440089 216.798491 \r\nL 510.543323 216.833066 \r\nL 510.691814 216.741955 \r\nL 510.637059 216.225678 \r\nL 510.421252 215.677565 \r\nL 510.227171 215.254086 \r\nL 510.525613 214.845009 \r\nL 510.603149 214.462438 \r\nL 510.199286 214.079472 \r\nL 509.882872 213.551966 \r\nL 509.799067 212.747223 \r\nL 509.547692 212.394497 \r\nL 509.289795 212.345369 \r\nL 509.061326 212.258068 \r\nL 508.671754 211.815452 \r\nL 508.374072 211.585039 \r\nL 508.296084 211.412926 \r\nL 508.314659 210.961415 \r\nL 508.208231 210.734325 \r\nL 508.073177 210.579928 \r\nL 507.981246 210.489966 \r\nL 508.029045 210.436036 \r\nL 508.039224 210.074216 \r\nL 508.215079 210.086223 \r\nL 508.254114 209.592931 \r\nL 508.055928 209.574278 \r\nL 508.070152 208.920538 \r\nL 508.063567 208.854824 \r\nL 508.020984 208.429881 \r\nL 508.208346 208.441379 \r\nL 508.218817 208.280784 \r\nL 508.228632 208.281274 \r\nL 508.23569 208.111243 \r\nL 508.231628 208.099832 \r\nL 507.405498 207.68875 \r\nL 506.820766 207.485204 \r\nL 506.761195 207.447798 \r\nL 506.842506 207.260579 \r\nL 506.913658 207.152898 \r\nL 506.93258 207.154333 \r\nL 506.939284 207.04464 \r\nL 506.93007 207.038826 \r\nL 506.927453 206.918334 \r\nL 506.983944 206.669017 \r\nL 506.140877 206.579433 \r\nL 506.320106 204.611683 \r\nL 506.220412 204.239047 \r\nL 506.291903 204.120752 \r\nL 506.365102 204.000909 \r\nL 506.448566 203.473765 \r\nL 506.315385 203.143155 \r\nL 506.317481 202.8478 \r\nL 506.052698 202.714141 \r\nL 506.100068 202.640623 \r\nL 506.076143 202.567929 \r\nL 506.001723 202.541669 \r\nL 505.937997 202.605939 \r\nL 505.923173 202.079407 \r\nL 505.997964 202.045331 \r\nL 505.90428 201.871464 \r\nL 505.903444 201.668435 \r\nL 505.650423 201.53342 \r\nL 505.889707 201.166054 \r\nL 505.813299 201.081484 \r\nL 505.635354 200.610486 \r\nL 505.307273 200.719891 \r\nL 505.373405 200.925218 \r\nL 505.224679 200.977769 \r\nL 505.06353 200.789344 \r\nL 504.414 200.945876 \r\nL 504.497282 201.186721 \r\nL 504.910144 201.414967 \r\nL 504.889025 201.560428 \r\nL 504.645884 201.936904 \r\nL 504.854952 201.955991 \r\nL 504.779405 202.383252 \r\nL 504.371939 202.264728 \r\nL 504.098394 202.779464 \r\nL 504.402425 202.880649 \r\nL 504.392114 203.055876 \r\nL 504.116297 203.225278 \r\nL 503.841029 203.557037 \r\nL 503.691463 203.476497 \r\nL 503.629935 203.381692 \r\nL 503.307366 203.425711 \r\nL 503.012636 203.399316 \r\nL 503.041311 203.504321 \r\nL 502.960341 203.618253 \r\nL 502.812319 203.642642 \r\nL 502.693068 203.643473 \r\nL 502.687962 203.723007 \r\nL 502.6664 204.001661 \r\nL 502.504296 204.002387 \r\nL 502.36087 204.214795 \r\nL 502.11658 204.178989 \r\nL 501.982478 204.154871 \r\nL 501.763284 204.207734 \r\nL 501.606365 204.315414 \r\nL 501.321235 204.393518 \r\nL 500.830447 204.078428 \r\nL 500.654892 204.027167 \r\nL 500.475355 203.863598 \r\nL 500.245605 203.778798 \r\nL 500.184772 203.714637 \r\nL 500.13337 203.48375 \r\nL 499.716242 203.279676 \r\nL 499.77499 203.202912 \r\nL 499.744331 203.091963 \r\nL 499.849689 203.024019 \r\nL 499.984134 202.939836 \r\nL 500.028782 202.980535 \r\nL 500.278832 202.674201 \r\nL 500.511896 202.436928 \r\nL 500.534101 202.320616 \r\nL 500.606301 202.340818 \r\nL 500.721634 202.223403 \r\nL 500.855803 202.206466 \r\nL 501.45994 201.85976 \r\nL 501.372186 201.546601 \r\nL 501.406135 201.285205 \r\nL 501.34246 200.605252 \r\nL 501.963028 200.017955 \r\nL 501.96668 199.841993 \r\nL 501.833269 199.660507 \r\nL 501.480495 199.568675 \r\nL 501.586652 199.490265 \r\nL 502.076982 199.543957 \r\nL 502.290763 199.498045 \r\nL 502.53097 199.595339 \r\nL 502.612923 199.737412 \r\nL 502.770997 199.677497 \r\nL 502.86209 199.720997 \r\nL 502.851998 199.539544 \r\nL 502.605174 199.43759 \r\nL 502.708476 199.10333 \r\nL 502.579676 199.113172 \r\nL 502.363402 199.161987 \r\nL 502.160297 199.124562 \r\nL 502.039199 198.867591 \r\nL 502.015683 198.58005 \r\nL 502.149151 198.569647 \r\nL 502.223249 197.992243 \r\nL 502.300185 197.964818 \r\nL 502.455583 198.028196 \r\nL 502.682774 197.906569 \r\nL 502.857429 197.902355 \r\nL 502.956436 197.815577 \r\nL 503.116522 197.804196 \r\nL 503.140392 197.636701 \r\nL 503.137681 197.598567 \r\nL 503.130005 197.586234 \r\nL 503.161542 197.574691 \r\nL 503.166537 197.563503 \r\nL 503.272489 197.39512 \r\nL 503.117006 197.229598 \r\nL 502.841409 197.120481 \r\nL 502.85055 197.08519 \r\nL 502.526392 197.015008 \r\nL 502.357226 196.85615 \r\nL 502.182036 196.814139 \r\nL 502.290087 196.189247 \r\nL 501.67242 196.099607 \r\nL 501.303317 195.968588 \r\nL 501.143885 195.85945 \r\nL 501.300888 195.491864 \r\nL 501.320597 195.347742 \r\nL 501.336039 195.060821 \r\nL 501.152799 195.036418 \r\nL 501.18624 194.904409 \r\nL 501.192882 194.87819 \r\nL 501.003133 194.713219 \r\nL 500.76432 194.628965 \r\nL 500.592055 194.662243 \r\nL 500.563854 194.556451 \r\nL 500.763264 194.395045 \r\nL 500.986552 194.356386 \r\nL 501.049642 194.242992 \r\nL 500.38164 194.202114 \r\nL 499.601426 194.111116 \r\nL 498.882259 194.012099 \r\nL 498.691146 193.927111 \r\nL 498.449567 193.677355 \r\nL 498.38716 193.495872 \r\nL 498.463524 193.447115 \r\nL 498.39455 192.312486 \r\nL 498.332431 192.264196 \r\nL 498.462412 191.686935 \r\nL 498.437011 191.05041 \r\nL 498.44071 190.928553 \r\nL 498.440809 190.925311 \r\nL 498.41952 190.405096 \r\nL 498.52765 190.180458 \r\nL 498.467208 190.147966 \r\nL 498.491809 190.020618 \r\nL 498.443322 190.005125 \r\nL 498.405592 190.151076 \r\nL 498.112132 190.01675 \r\nL 496.487428 188.67645 \r\nL 496.328849 189.222792 \r\nL 495.57011 188.616022 \r\nL 495.420254 188.45857 \r\nL 495.521138 188.014657 \r\nL 495.639379 187.493152 \r\nL 496.086832 185.703187 \r\nL 496.628624 185.748288 \r\nL 496.809278 185.841516 \r\nL 497.481804 185.408923 \r\nL 498.147501 185.112335 \r\nL 499.266691 184.962038 \r\nL 499.380337 184.986794 \r\nL 499.74421 184.798933 \r\nL 499.903755 184.787637 \r\nL 500.026641 184.37815 \r\nL 500.081507 184.760701 \r\nL 500.169877 184.73146 \r\nL 500.084387 184.369504 \r\nL 500.163817 184.46114 \r\nL 500.477464 184.370424 \r\nL 500.283029 184.346558 \r\nL 500.443387 184.292454 \r\nL 500.358843 184.120622 \r\nL 500.237521 184.126922 \r\nL 500.448466 184.023073 \r\nL 500.381676 183.9582 \r\nL 500.487465 183.927101 \r\nL 500.436473 183.962733 \r\nL 500.45542 184.020223 \r\nL 500.791278 183.972286 \r\nL 500.582206 184.066095 \r\nL 500.671934 184.119142 \r\nL 500.53788 184.166914 \r\nL 500.631361 184.552488 \r\nL 500.706114 184.611165 \r\nL 500.952807 184.53049 \r\nL 501.586264 184.031344 \r\nL 502.460008 183.824991 \r\nL 502.695874 183.795505 \r\nL 504.11426 183.90677 \r\nL 504.16368 183.845476 \r\nL 504.025985 183.788687 \r\nL 504.198802 183.783997 \r\nL 504.332886 183.65561 \r\nL 504.382266 183.482654 \r\nL 504.318185 183.327188 \r\nL 504.345641 183.074368 \r\nL 504.382678 183.332773 \r\nL 504.493606 183.342982 \r\nL 504.590413 183.178546 \r\nL 504.398155 183.081117 \r\nL 504.652214 183.087483 \r\nL 504.989619 182.26993 \r\nL 505.444508 180.934279 \r\nL 505.84785 179.704381 \r\nL 506.219931 178.818195 \r\nL 506.179412 178.260021 \r\nL 506.281854 178.156794 \r\nL 506.224746 178.353235 \r\nL 506.334695 178.452485 \r\nL 506.418297 178.427746 \r\nL 506.488251 178.312601 \r\nL 506.320752 178.185217 \r\nL 506.461867 178.044121 \r\nL 506.651559 178.043799 \r\nL 506.938046 177.572244 \r\nL 507.226397 177.257597 \r\nL 507.696657 176.817301 \r\nL 508.361221 176.48082 \r\nL 508.674065 176.135801 \r\nL 508.996892 175.855957 \r\nL 509.274055 175.550552 \r\nL 509.5233 175.24705 \r\nL 509.581617 175.051244 \r\nL 509.576135 174.858997 \r\nL 509.741605 174.691853 \r\nL 509.550969 174.600319 \r\nL 509.791674 174.403665 \r\nL 509.708561 174.061922 \r\nL 510.035489 174.265744 \r\nL 510.226254 174.540764 \r\nL 510.321136 174.573343 \r\nL 510.349712 174.68598 \r\nL 510.391167 174.625977 \r\nL 510.064559 174.239439 \r\nL 510.250765 174.205312 \r\nL 510.460393 174.365399 \r\nL 510.519966 174.428659 \r\nL 510.560219 174.391322 \r\nL 510.322215 174.137722 \r\nL 510.125407 174.197444 \r\nL 509.828406 174.057882 \r\nL 509.821435 174.009864 \r\nL 510.011567 173.896413 \r\nL 510.270027 173.990743 \r\nL 510.287833 173.949576 \r\nL 510.031072 173.771018 \r\nL 510.019381 173.705189 \r\nL 510.012643 173.868307 \r\nL 510.014504 173.758276 \r\nL 509.965648 173.834165 \r\nL 509.935749 173.797064 \r\nL 509.800163 173.870315 \r\nL 509.818639 173.969124 \r\nL 509.747947 174.013307 \r\nL 509.713785 173.918915 \r\nL 509.755207 173.903853 \r\nL 509.715041 173.887535 \r\nL 510.003052 173.683765 \r\nL 509.919713 173.613357 \r\nL 509.86698 173.655688 \r\nL 509.690631 173.486715 \r\nL 509.773542 173.448065 \r\nL 510.467421 173.966691 \r\nL 510.530767 174.041051 \r\nL 510.54219 173.976929 \r\nL 510.57109 174.011657 \r\nL 510.683216 173.896845 \r\nL 510.592942 173.804584 \r\nL 510.622276 173.668025 \r\nL 510.525664 173.630865 \r\nL 510.600976 173.556557 \r\nL 510.611018 173.245267 \r\nL 510.661225 173.221168 \r\nL 510.705081 173.274716 \r\nL 510.673275 173.529445 \r\nL 510.713442 173.562582 \r\nL 510.784737 173.489278 \r\nL 510.705409 173.445095 \r\nL 510.7434 173.302843 \r\nL 510.953897 173.522001 \r\nL 511.29287 173.465638 \r\nL 511.402725 173.364617 \r\nL 511.312991 173.289349 \r\nL 511.220542 173.379825 \r\nL 510.984565 173.425012 \r\nL 510.723192 173.150211 \r\nL 510.767666 173.101673 \r\nL 510.930243 173.143207 \r\nL 511.424387 173.056485 \r\nL 511.46827 173.090786 \r\nL 511.619936 172.91835 \r\nL 511.943288 172.9256 \r\nL 512.191645 173.178893 \r\nL 513.593043 172.091602 \r\nL 513.768457 171.914441 \r\nL 513.791332 171.73702 \r\nL 513.877215 171.720227 \r\nL 514.170977 171.783113 \r\nL 514.601455 171.703475 \r\nL 514.891472 171.520846 \r\nL 515.23035 171.460369 \r\nL 515.484173 171.150264 \r\nL 515.66489 171.109964 \r\nL 515.763297 170.88097 \r\nL 516.059974 170.770861 \r\nL 516.26964 170.771956 \r\nL 516.685058 170.448514 \r\nL 516.784958 170.441057 \r\nL 516.931535 170.314184 \r\nL 517.029051 170.110799 \r\nL 517.228583 169.977037 \r\nL 517.274835 170.029661 \r\nL 517.516785 169.884233 \r\nL 517.479118 169.809083 \r\nL 517.664949 169.684506 \r\nL 517.811242 169.716534 \r\nL 518.477093 169.066529 \r\nL 518.796317 168.907544 \r\nL 518.900695 168.738488 \r\nL 519.720683 168.106808 \r\nL 520.595796 167.316389 \r\nL 520.874867 167.141451 \r\nL 522.340924 165.721668 \r\nL 522.675989 165.185561 \r\nL 523.060872 164.590446 \r\nL 522.939561 164.446108 \r\nL 523.102355 164.192566 \r\nL 523.146847 163.852831 \r\nL 522.7236 163.545181 \r\nL 522.772929 163.397552 \r\nL 522.775507 163.392615 \r\nL 523.454319 162.112169 \r\nL 523.473743 162.263407 \r\nL 523.25426 162.564472 \r\nL 523.133418 162.860406 \r\nL 523.183168 162.96289 \r\nL 523.139255 163.174548 \r\nL 523.380572 163.18519 \r\nL 523.403699 163.352718 \r\nL 523.674983 163.189835 \r\nL 523.996274 162.400699 \r\nL 524.227571 162.449343 \r\nL 524.37547 161.984131 \r\nL 524.871604 160.391411 \r\nL 524.924688 159.779346 \r\nL 524.991619 159.419174 \r\nL 525.37752 158.840125 \r\nL 525.774322 157.196402 \r\nL 525.894561 156.990638 \r\nL 525.852935 156.895645 \r\nL 526.520561 156.535712 \r\n\" style=\"fill:#82bbdb;stroke:#333333;stroke-width:0.6;\"/>\r\n    <path clip-path=\"url(#pab055609a1)\" d=\"M 471.36647 179.762372 \r\nL 471.376907 181.853075 \r\nL 471.438749 181.906471 \r\nL 471.539019 181.990688 \r\nL 471.940705 181.240001 \r\nL 472.113312 181.476168 \r\nL 472.520231 181.794295 \r\nL 472.599587 181.730095 \r\nL 472.730735 181.877133 \r\nL 473.037146 181.610379 \r\nL 473.227101 181.311097 \r\nL 473.377516 181.455762 \r\nL 473.81923 181.16093 \r\nL 474.069694 181.40117 \r\nL 474.157203 181.610013 \r\nL 474.201257 181.597792 \r\nL 474.224729 182.026324 \r\nL 474.224134 182.089932 \r\nL 474.130597 182.068374 \r\nL 474.031612 181.913586 \r\nL 474.031913 181.641363 \r\nL 473.872772 181.602135 \r\nL 473.246737 181.950321 \r\nL 473.175544 182.12016 \r\nL 473.175341 182.354207 \r\nL 473.081444 182.462338 \r\nL 472.711829 182.358209 \r\nL 472.098435 182.634 \r\nL 471.958614 182.927537 \r\nL 471.885885 182.975674 \r\nL 471.491238 182.85076 \r\nL 471.437533 182.927 \r\nL 471.464406 183.033912 \r\nL 471.659097 183.331597 \r\nL 471.742028 183.425304 \r\nL 471.755984 183.587022 \r\nL 471.670472 183.802783 \r\nL 471.986536 184.109745 \r\nL 472.058317 184.250585 \r\nL 471.966729 184.671001 \r\nL 472.228352 185.025236 \r\nL 472.354514 184.941779 \r\nL 472.554138 184.611761 \r\nL 472.659445 184.613997 \r\nL 472.759239 184.731802 \r\nL 472.800822 185.082887 \r\nL 472.964644 185.470762 \r\nL 472.919564 186.023447 \r\nL 473.623059 186.733819 \r\nL 473.675043 186.8586 \r\nL 472.674536 187.361828 \r\nL 472.627535 187.323964 \r\nL 472.559589 187.434092 \r\nL 472.56924 187.463117 \r\nL 472.684744 187.546809 \r\nL 472.632698 187.604135 \r\nL 472.439578 187.925732 \r\nL 472.334069 187.908097 \r\nL 472.35302 187.971711 \r\nL 472.513254 188.009704 \r\nL 472.64637 188.041867 \r\nL 472.650062 188.016763 \r\nL 472.702541 188.047325 \r\nL 472.645951 188.044659 \r\nL 472.644918 188.051955 \r\nL 472.305292 188.011573 \r\nL 472.248859 188.732435 \r\nL 472.330724 188.83129 \r\nL 472.3164 188.983318 \r\nL 472.236894 188.986212 \r\nL 472.213609 189.056027 \r\nL 472.337541 189.085515 \r\nL 472.304794 189.140807 \r\nL 472.11326 189.134532 \r\nL 472.109177 189.196899 \r\nL 472.149648 189.197684 \r\nL 472.086145 189.543767 \r\nL 472.283422 189.573466 \r\nL 472.20802 190.030354 \r\nL 472.344395 190.059314 \r\nL 472.29294 190.357455 \r\nL 471.57718 190.159293 \r\nL 471.537432 190.279224 \r\nL 471.428498 190.256832 \r\nL 471.436548 190.174788 \r\nL 471.383954 190.162587 \r\nL 471.409208 190.363555 \r\nL 471.387291 190.342649 \r\nL 471.317238 190.309991 \r\nL 471.31609 190.317033 \r\nL 471.3449 190.326892 \r\nL 471.372081 190.343677 \r\nL 471.403161 190.398309 \r\nL 471.302729 190.363269 \r\nL 471.296721 190.379166 \r\nL 471.392281 190.416759 \r\nL 471.605737 190.434741 \r\nL 471.72701 190.584732 \r\nL 471.922918 190.711828 \r\nL 472.321657 190.788866 \r\nL 472.3262 190.916109 \r\nL 472.385665 191.094215 \r\nL 472.288421 191.244693 \r\nL 472.218124 191.535581 \r\nL 472.17659 191.97577 \r\nL 472.097588 192.042868 \r\nL 472.014678 192.258909 \r\nL 472.604237 192.299957 \r\nL 472.911528 194.182865 \r\nL 475.004465 193.447287 \r\nL 477.386262 192.735729 \r\nL 477.782653 192.617224 \r\nL 477.957688 192.631096 \r\nL 480.723478 192.835774 \r\nL 480.915815 192.854627 \r\nL 481.546876 192.918686 \r\nL 481.855315 192.946871 \r\nL 482.400447 192.961213 \r\nL 483.894169 190.173764 \r\nL 483.961174 190.049638 \r\nL 484.120478 189.34504 \r\nL 484.22628 188.939629 \r\nL 484.497734 187.966316 \r\nL 484.379177 187.959308 \r\nL 484.963906 186.713144 \r\nL 485.321237 185.95393 \r\nL 485.388859 185.80799 \r\nL 485.823881 184.88296 \r\nL 485.758366 184.85837 \r\nL 486.864955 182.625245 \r\nL 487.161334 182.027228 \r\nL 487.168215 182.012539 \r\nL 487.390825 182.023486 \r\nL 487.903604 182.119993 \r\nL 488.002934 182.137603 \r\nL 489.76124 182.471687 \r\nL 489.802696 182.442589 \r\nL 489.958495 182.57154 \r\nL 490.07455 182.79183 \r\nL 490.384117 182.813127 \r\nL 490.746809 182.993446 \r\nL 491.16106 182.856898 \r\nL 491.406653 182.865837 \r\nL 491.952486 183.225854 \r\nL 492.03071 183.173704 \r\nL 492.622625 183.372595 \r\nL 493.069856 183.265416 \r\nL 493.340106 183.428525 \r\nL 493.483433 183.408977 \r\nL 493.701927 183.569845 \r\nL 493.957202 183.949363 \r\nL 493.935211 184.064984 \r\nL 494.061054 184.209084 \r\nL 494.016051 184.019104 \r\nL 494.190029 184.127918 \r\nL 494.188353 184.129598 \r\nL 494.222343 184.301395 \r\nL 494.399506 184.407536 \r\nL 494.678703 184.525592 \r\nL 494.639553 184.686594 \r\nL 494.70241 184.676935 \r\nL 494.856772 184.852388 \r\nL 494.891137 184.819634 \r\nL 494.687975 184.62861 \r\nL 494.727514 184.390122 \r\nL 494.826167 184.603782 \r\nL 495.132226 184.942058 \r\nL 495.145426 185.06135 \r\nL 495.926809 185.640071 \r\nL 496.086832 185.703187 \r\nL 495.639379 187.493152 \r\nL 495.521138 188.014657 \r\nL 495.420254 188.45857 \r\nL 495.57011 188.616022 \r\nL 496.328849 189.222792 \r\nL 496.487428 188.67645 \r\nL 498.112132 190.01675 \r\nL 498.405592 190.151076 \r\nL 498.443322 190.005125 \r\nL 498.491809 190.020618 \r\nL 498.467208 190.147966 \r\nL 498.52765 190.180458 \r\nL 498.41952 190.405096 \r\nL 498.440809 190.925311 \r\nL 498.44071 190.928553 \r\nL 498.437011 191.05041 \r\nL 498.462412 191.686935 \r\nL 498.332431 192.264196 \r\nL 498.39455 192.312486 \r\nL 498.463524 193.447115 \r\nL 498.38716 193.495872 \r\nL 498.449567 193.677355 \r\nL 498.691146 193.927111 \r\nL 498.882259 194.012099 \r\nL 499.601426 194.111116 \r\nL 500.38164 194.202114 \r\nL 501.049642 194.242992 \r\nL 500.986552 194.356386 \r\nL 500.763264 194.395045 \r\nL 500.61784 194.512754 \r\nL 500.563854 194.556451 \r\nL 500.592055 194.662243 \r\nL 500.76432 194.628965 \r\nL 501.003133 194.713219 \r\nL 501.192882 194.87819 \r\nL 501.152799 195.036418 \r\nL 501.336039 195.060821 \r\nL 501.320597 195.347742 \r\nL 501.300888 195.491864 \r\nL 501.143885 195.85945 \r\nL 501.303317 195.968588 \r\nL 501.67242 196.099607 \r\nL 502.290087 196.189247 \r\nL 502.182036 196.814139 \r\nL 502.357226 196.85615 \r\nL 502.526392 197.015008 \r\nL 502.85055 197.08519 \r\nL 502.841409 197.120481 \r\nL 503.117006 197.229598 \r\nL 503.272489 197.39512 \r\nL 503.166537 197.563503 \r\nL 503.161542 197.574691 \r\nL 503.130005 197.586234 \r\nL 503.137681 197.598567 \r\nL 503.140392 197.636701 \r\nL 503.116522 197.804196 \r\nL 502.956436 197.815577 \r\nL 502.857429 197.902355 \r\nL 502.682774 197.906569 \r\nL 502.455583 198.028196 \r\nL 502.300185 197.964818 \r\nL 502.223249 197.992243 \r\nL 502.149151 198.569647 \r\nL 502.015683 198.58005 \r\nL 502.039199 198.867591 \r\nL 502.160297 199.124562 \r\nL 502.363402 199.161987 \r\nL 502.579676 199.113172 \r\nL 502.708476 199.10333 \r\nL 502.605174 199.43759 \r\nL 502.851998 199.539544 \r\nL 502.86209 199.720997 \r\nL 502.770997 199.677497 \r\nL 502.612923 199.737412 \r\nL 502.53097 199.595339 \r\nL 502.290763 199.498045 \r\nL 502.076982 199.543957 \r\nL 501.586652 199.490265 \r\nL 501.480495 199.568675 \r\nL 501.833269 199.660507 \r\nL 501.96668 199.841993 \r\nL 501.963028 200.017955 \r\nL 501.34246 200.605252 \r\nL 501.406135 201.285205 \r\nL 501.372186 201.546601 \r\nL 501.45994 201.85976 \r\nL 500.855803 202.206466 \r\nL 500.721634 202.223403 \r\nL 500.606301 202.340818 \r\nL 500.534101 202.320616 \r\nL 500.511896 202.436928 \r\nL 500.278832 202.674201 \r\nL 500.028782 202.980535 \r\nL 499.984134 202.939836 \r\nL 499.849689 203.024019 \r\nL 499.744331 203.091963 \r\nL 499.77499 203.202912 \r\nL 499.716242 203.279676 \r\nL 500.13337 203.48375 \r\nL 500.184772 203.714637 \r\nL 500.245605 203.778798 \r\nL 500.475355 203.863598 \r\nL 500.654892 204.027167 \r\nL 500.830447 204.078428 \r\nL 501.321235 204.393518 \r\nL 501.606365 204.315414 \r\nL 501.763284 204.207734 \r\nL 501.982478 204.154871 \r\nL 502.11658 204.178989 \r\nL 502.36087 204.214795 \r\nL 502.504296 204.002387 \r\nL 502.6664 204.001661 \r\nL 502.687962 203.723007 \r\nL 502.693068 203.643473 \r\nL 502.812319 203.642642 \r\nL 502.960341 203.618253 \r\nL 503.041311 203.504321 \r\nL 503.012636 203.399316 \r\nL 503.307366 203.425711 \r\nL 503.629935 203.381692 \r\nL 503.691463 203.476497 \r\nL 503.841029 203.557037 \r\nL 504.116297 203.225278 \r\nL 504.392114 203.055876 \r\nL 504.402425 202.880649 \r\nL 504.098394 202.779464 \r\nL 504.371939 202.264728 \r\nL 504.779405 202.383252 \r\nL 504.854952 201.955991 \r\nL 504.645884 201.936904 \r\nL 504.889025 201.560428 \r\nL 504.910144 201.414967 \r\nL 504.497282 201.186721 \r\nL 504.414 200.945876 \r\nL 505.06353 200.789344 \r\nL 505.224679 200.977769 \r\nL 505.373405 200.925218 \r\nL 505.307273 200.719891 \r\nL 505.635354 200.610486 \r\nL 505.813299 201.081484 \r\nL 505.889707 201.166054 \r\nL 505.650423 201.53342 \r\nL 505.903444 201.668435 \r\nL 505.90428 201.871464 \r\nL 505.997964 202.045331 \r\nL 505.923173 202.079407 \r\nL 505.937997 202.605939 \r\nL 506.001723 202.541669 \r\nL 506.076143 202.567929 \r\nL 506.100068 202.640623 \r\nL 506.052698 202.714141 \r\nL 506.317481 202.8478 \r\nL 506.315385 203.143155 \r\nL 506.448566 203.473765 \r\nL 506.365102 204.000909 \r\nL 506.291903 204.120752 \r\nL 506.220412 204.239047 \r\nL 506.320106 204.611683 \r\nL 506.140877 206.579433 \r\nL 506.983944 206.669017 \r\nL 506.927453 206.918334 \r\nL 506.93007 207.038826 \r\nL 506.939284 207.04464 \r\nL 506.93258 207.154333 \r\nL 506.913658 207.152898 \r\nL 506.842506 207.260579 \r\nL 506.761195 207.447798 \r\nL 506.820766 207.485204 \r\nL 507.405498 207.68875 \r\nL 508.231628 208.099832 \r\nL 508.23569 208.111243 \r\nL 508.228632 208.281274 \r\nL 508.218817 208.280784 \r\nL 508.208346 208.441379 \r\nL 508.020984 208.429881 \r\nL 508.063567 208.854824 \r\nL 508.070152 208.920538 \r\nL 508.055928 209.574278 \r\nL 508.254114 209.592931 \r\nL 508.215079 210.086223 \r\nL 508.039224 210.074216 \r\nL 508.029045 210.436036 \r\nL 507.981246 210.489966 \r\nL 508.073177 210.579928 \r\nL 508.208231 210.734325 \r\nL 508.314659 210.961415 \r\nL 508.296084 211.412926 \r\nL 508.374072 211.585039 \r\nL 508.671754 211.815452 \r\nL 509.061326 212.258068 \r\nL 509.289795 212.345369 \r\nL 509.547692 212.394497 \r\nL 509.799067 212.747223 \r\nL 509.882872 213.551966 \r\nL 510.199286 214.079472 \r\nL 510.603149 214.462438 \r\nL 510.525613 214.845009 \r\nL 510.227171 215.254086 \r\nL 510.421252 215.677565 \r\nL 510.637059 216.225678 \r\nL 510.691814 216.741955 \r\nL 510.543323 216.833066 \r\nL 510.440089 216.798491 \r\nL 510.226038 216.846416 \r\nL 510.245037 217.181339 \r\nL 509.983159 217.073575 \r\nL 509.300988 217.733201 \r\nL 509.168408 217.653531 \r\nL 508.437819 217.096251 \r\nL 508.038134 216.92357 \r\nL 507.317326 216.714624 \r\nL 506.382756 216.540115 \r\nL 506.100778 216.413133 \r\nL 505.6191 216.04626 \r\nL 505.007341 215.19416 \r\nL 504.831875 215.088561 \r\nL 504.152888 214.885789 \r\nL 503.612547 214.743811 \r\nL 503.572921 214.731239 \r\nL 503.100357 214.52624 \r\nL 502.432702 214.004924 \r\nL 501.484313 213.453759 \r\nL 500.927102 213.491832 \r\nL 500.6027 213.544485 \r\nL 499.580935 213.471006 \r\nL 498.628874 213.23289 \r\nL 498.227146 213.296421 \r\nL 497.846373 213.516585 \r\nL 497.387983 213.992887 \r\nL 497.048578 214.219974 \r\nL 495.821884 214.590116 \r\nL 495.276761 214.840631 \r\nL 494.74357 214.995411 \r\nL 494.301044 215.000991 \r\nL 493.453801 214.817165 \r\nL 492.972746 214.879923 \r\nL 492.491222 215.16128 \r\nL 491.941096 215.852312 \r\nL 491.93251 215.863813 \r\nL 491.503424 216.26751 \r\nL 490.87196 216.48908 \r\nL 490.425956 216.475596 \r\nL 490.052453 216.285975 \r\nL 489.402341 215.804427 \r\nL 488.2101 215.634602 \r\nL 487.412674 215.394385 \r\nL 486.873961 215.100095 \r\nL 486.494144 214.81067 \r\nL 485.859964 214.117331 \r\nL 485.58295 213.986789 \r\nL 485.230728 213.983144 \r\nL 484.978807 214.110036 \r\nL 484.776668 214.310326 \r\nL 484.38655 215.136534 \r\nL 484.066084 215.598848 \r\nL 483.700983 215.889508 \r\nL 483.698713 215.890851 \r\nL 483.212768 216.018534 \r\nL 482.747121 215.936565 \r\nL 482.152831 215.648234 \r\nL 481.535085 215.167884 \r\nL 480.776125 216.568933 \r\nL 480.433102 217.33824 \r\nL 479.858285 218.278311 \r\nL 479.648275 218.733636 \r\nL 479.515801 218.742523 \r\nL 479.419128 218.88704 \r\nL 479.486683 219.057712 \r\nL 479.450609 219.168969 \r\nL 479.055679 219.647817 \r\nL 478.612155 220.355029 \r\nL 478.669424 220.7278 \r\nL 478.613692 220.780172 \r\nL 478.395646 220.709211 \r\nL 477.635592 222.242526 \r\nL 477.559863 222.460141 \r\nL 477.375011 222.513098 \r\nL 477.477591 222.696557 \r\nL 477.421041 223.080211 \r\nL 477.27733 223.283268 \r\nL 477.203783 223.406704 \r\nL 477.137336 223.513139 \r\nL 477.102746 223.563566 \r\nL 476.647404 223.452595 \r\nL 476.139858 223.553425 \r\nL 475.933194 223.456892 \r\nL 475.641785 223.465112 \r\nL 475.515984 223.581114 \r\nL 475.452275 223.923852 \r\nL 475.391681 224.258959 \r\nL 475.348695 224.345923 \r\nL 475.199302 224.549903 \r\nL 475.0426 224.797904 \r\nL 474.503598 225.002218 \r\nL 474.418544 224.995944 \r\nL 473.873011 224.961264 \r\nL 473.34798 225.103395 \r\nL 473.147096 225.425119 \r\nL 473.13817 225.777811 \r\nL 473.268182 225.941387 \r\nL 473.827583 226.268154 \r\nL 473.881969 226.419212 \r\nL 473.798648 226.549397 \r\nL 473.590706 226.675937 \r\nL 473.185985 226.75789 \r\nL 472.768772 226.596713 \r\nL 472.58134 226.557753 \r\nL 471.481211 226.618112 \r\nL 471.515259 226.076609 \r\nL 471.149422 225.538467 \r\nL 471.243798 225.200391 \r\nL 471.249701 224.80835 \r\nL 471.398588 224.292922 \r\nL 471.496533 224.157482 \r\nL 471.286474 224.247388 \r\nL 469.812704 224.908078 \r\nL 469.814444 224.879975 \r\nL 469.484819 225.075937 \r\nL 469.402998 224.670442 \r\nL 469.701117 223.898561 \r\nL 469.477458 223.086697 \r\nL 469.502359 222.587914 \r\nL 469.418443 221.995983 \r\nL 468.362823 222.411027 \r\nL 468.069335 222.53736 \r\nL 468.007762 222.520442 \r\nL 468.035562 221.420911 \r\nL 467.636608 221.157703 \r\nL 467.409789 221.103725 \r\nL 467.412877 220.931732 \r\nL 467.356598 220.87675 \r\nL 467.454451 220.799861 \r\nL 467.41127 220.774829 \r\nL 466.892514 220.577824 \r\nL 466.474309 218.888946 \r\nL 466.348047 218.661816 \r\nL 466.23715 218.705579 \r\nL 465.996889 219.033772 \r\nL 465.796527 219.162238 \r\nL 465.344923 217.194491 \r\nL 465.173753 216.914764 \r\nL 464.9672 216.835711 \r\nL 464.498981 217.487112 \r\nL 464.159727 217.726976 \r\nL 461.793602 218.176022 \r\nL 461.668445 217.594231 \r\nL 461.474589 216.81093 \r\nL 461.40115 216.517993 \r\nL 461.231132 216.200506 \r\nL 461.019864 215.805595 \r\nL 460.932808 215.492072 \r\nL 460.680573 215.002945 \r\nL 459.992927 214.381346 \r\nL 459.849678 214.244862 \r\nL 459.718902 214.237174 \r\nL 459.63836 214.115035 \r\nL 458.981973 213.135875 \r\nL 459.054345 213.077016 \r\nL 458.521951 212.391863 \r\nL 457.930784 211.630123 \r\nL 460.267008 211.116698 \r\nL 460.49752 210.995813 \r\nL 460.449932 210.90272 \r\nL 459.950169 209.919507 \r\nL 459.840613 209.700721 \r\nL 459.401922 209.853123 \r\nL 458.955983 209.879726 \r\nL 458.413417 209.789661 \r\nL 458.183754 209.927049 \r\nL 457.815768 210.123511 \r\nL 457.605467 210.131159 \r\nL 457.322546 210.10765 \r\nL 457.134277 210.107235 \r\nL 457.005018 210.104971 \r\nL 456.705186 209.244589 \r\nL 457.440494 208.776198 \r\nL 457.423302 208.697793 \r\nL 457.360689 208.470539 \r\nL 457.235631 208.098641 \r\nL 457.56939 208.031917 \r\nL 457.921629 207.706741 \r\nL 458.72379 206.409381 \r\nL 458.732649 206.353088 \r\nL 459.361121 205.898233 \r\nL 459.947018 205.480637 \r\nL 460.485043 205.380396 \r\nL 461.263909 204.932663 \r\nL 461.591583 204.375588 \r\nL 460.422658 204.359975 \r\nL 459.456308 204.345775 \r\nL 458.767102 204.557652 \r\nL 459.04689 203.935629 \r\nL 458.966001 203.912295 \r\nL 458.984167 203.7144 \r\nL 458.543679 203.730375 \r\nL 458.56177 203.214964 \r\nL 458.505855 203.18654 \r\nL 458.506467 203.15602 \r\nL 458.371164 201.812175 \r\nL 458.359298 200.503926 \r\nL 458.446158 200.482402 \r\nL 458.507729 200.298345 \r\nL 456.360599 198.683317 \r\nL 456.453715 198.506158 \r\nL 456.771073 198.368561 \r\nL 457.006093 198.417235 \r\nL 457.105984 198.253552 \r\nL 457.293146 198.15153 \r\nL 457.404869 197.98861 \r\nL 457.387775 197.892434 \r\nL 457.458068 197.686494 \r\nL 457.379868 197.327223 \r\nL 457.461067 197.279023 \r\nL 457.493839 197.054668 \r\nL 457.742067 196.80625 \r\nL 457.972293 196.891076 \r\nL 458.225865 196.593052 \r\nL 458.611501 196.601583 \r\nL 458.965189 196.387301 \r\nL 459.040984 196.337822 \r\nL 459.108836 196.522237 \r\nL 459.27667 196.532398 \r\nL 459.327876 196.768856 \r\nL 459.541107 196.682525 \r\nL 459.655859 196.888576 \r\nL 459.879029 196.889613 \r\nL 459.969036 196.953008 \r\nL 460.237344 196.884191 \r\nL 460.301008 197.020454 \r\nL 460.476026 197.139947 \r\nL 461.104703 197.125351 \r\nL 461.471027 197.027785 \r\nL 461.605416 196.973571 \r\nL 461.729575 196.977757 \r\nL 461.684326 195.156269 \r\nL 462.59296 194.753465 \r\nL 462.893179 194.561302 \r\nL 461.274998 193.319084 \r\nL 460.523022 192.732998 \r\nL 459.78386 192.610556 \r\nL 459.715262 192.530949 \r\nL 459.417926 192.27076 \r\nL 459.358987 192.217306 \r\nL 459.217515 191.95913 \r\nL 458.455854 191.204984 \r\nL 458.381834 190.907799 \r\nL 457.889871 190.579335 \r\nL 457.794798 190.373477 \r\nL 457.824915 190.296021 \r\nL 457.177375 190.372751 \r\nL 457.112441 190.300938 \r\nL 457.042116 189.638134 \r\nL 457.096035 188.623616 \r\nL 456.764654 188.334365 \r\nL 456.701 188.035274 \r\nL 456.600488 188.00836 \r\nL 456.612794 187.65931 \r\nL 457.090518 187.642967 \r\nL 457.307437 187.533656 \r\nL 457.496207 187.62585 \r\nL 457.878833 187.623172 \r\nL 458.08028 187.502766 \r\nL 458.392785 187.413418 \r\nL 458.822458 187.269085 \r\nL 459.540534 186.768012 \r\nL 459.74872 186.77423 \r\nL 459.759626 186.622002 \r\nL 459.954693 186.531846 \r\nL 460.042598 186.308313 \r\nL 460.266326 186.433992 \r\nL 460.355558 186.325429 \r\nL 460.300061 186.087593 \r\nL 460.350711 186.074951 \r\nL 460.537748 186.062379 \r\nL 460.563268 185.702535 \r\nL 460.644431 185.62714 \r\nL 460.709488 185.474824 \r\nL 460.910675 185.424163 \r\nL 461.268659 185.134164 \r\nL 461.441915 185.060443 \r\nL 461.530062 184.893869 \r\nL 461.668972 185.116566 \r\nL 461.769929 185.163671 \r\nL 462.022591 184.946556 \r\nL 462.346538 184.854292 \r\nL 462.659863 185.143852 \r\nL 462.93193 184.905184 \r\nL 463.371409 185.154716 \r\nL 463.655625 184.919136 \r\nL 464.019143 184.974249 \r\nL 464.176137 184.975322 \r\nL 464.589271 184.541485 \r\nL 464.671473 184.355271 \r\nL 464.643344 184.030044 \r\nL 464.971365 183.888786 \r\nL 465.076142 183.476246 \r\nL 465.379995 183.32868 \r\nL 465.375202 183.159211 \r\nL 465.293153 182.970373 \r\nL 465.20534 182.895639 \r\nL 465.271239 182.752109 \r\nL 465.16601 182.300658 \r\nL 465.194104 182.128657 \r\nL 465.335484 182.139897 \r\nL 465.670947 182.006403 \r\nL 466.247802 182.29626 \r\nL 466.505769 182.212577 \r\nL 466.96472 182.31689 \r\nL 467.060441 182.288403 \r\nL 467.146849 182.250833 \r\nL 467.436765 182.304427 \r\nL 467.534833 182.082137 \r\nL 467.726986 182.061301 \r\nL 467.859975 182.160424 \r\nL 468.00112 181.785811 \r\nL 468.138902 181.655395 \r\nL 468.139654 181.654594 \r\nL 468.897747 181.025478 \r\nL 469.801328 181.162359 \r\nL 470.080609 180.778079 \r\nL 470.088395 180.450199 \r\nL 470.178976 180.396743 \r\nL 470.213645 180.19098 \r\nL 470.310737 180.185966 \r\nL 470.486397 179.85374 \r\nL 470.734455 179.66033 \r\nL 470.87082 179.639142 \r\nL 471.36647 179.762372 \r\n\" style=\"fill:#b9d6ea;stroke:#333333;stroke-width:0.6;\"/>\r\n    <path clip-path=\"url(#pab055609a1)\" d=\"M 491.090279 181.051914 \r\nL 491.139981 181.101066 \r\nL 490.399025 180.849367 \r\nL 490.387506 180.615427 \r\nL 490.952807 180.620373 \r\nL 491.241515 180.877484 \r\nL 491.090279 181.051914 \r\n\" style=\"fill:#3282be;stroke:#333333;stroke-width:0.6;\"/>\r\n    <path clip-path=\"url(#pab055609a1)\" d=\"M 472.576165 176.337878 \r\nL 472.423343 176.374626 \r\nL 472.38354 176.049737 \r\nL 472.519282 176.055166 \r\nL 472.692586 176.195763 \r\nL 472.576165 176.337878 \r\n\" style=\"fill:#3282be;stroke:#333333;stroke-width:0.6;\"/>\r\n    <path clip-path=\"url(#pab055609a1)\" d=\"M 475.352313 175.182688 \r\nL 475.144826 175.34517 \r\nL 475.218849 175.21801 \r\nL 475.352313 175.182688 \r\n\" style=\"fill:#3282be;stroke:#333333;stroke-width:0.6;\"/>\r\n    <path clip-path=\"url(#pab055609a1)\" d=\"M 476.836061 175.193437 \r\nL 477.094669 175.435548 \r\nL 476.944737 175.406421 \r\nL 476.483855 175.061602 \r\nL 476.836061 175.193437 \r\n\" style=\"fill:#3282be;stroke:#333333;stroke-width:0.6;\"/>\r\n    <path clip-path=\"url(#pab055609a1)\" d=\"M 470.482653 175.327823 \r\nL 470.324786 175.351968 \r\nL 469.960967 175.137965 \r\nL 469.894527 174.90438 \r\nL 470.31803 175.145033 \r\nL 470.482653 175.327823 \r\n\" style=\"fill:#3282be;stroke:#333333;stroke-width:0.6;\"/>\r\n    <path clip-path=\"url(#pab055609a1)\" d=\"M 474.5402 173.162975 \r\nL 474.48393 173.263377 \r\nL 474.38238 173.218484 \r\nL 474.408483 173.132571 \r\nL 474.5402 173.162975 \r\n\" style=\"fill:#3282be;stroke:#333333;stroke-width:0.6;\"/>\r\n    <path clip-path=\"url(#pab055609a1)\" d=\"M 470.832824 172.914806 \r\nL 470.213316 173.006895 \r\nL 470.183209 172.94952 \r\nL 470.948272 172.843193 \r\nL 470.832824 172.914806 \r\n\" style=\"fill:#3282be;stroke:#333333;stroke-width:0.6;\"/>\r\n    <path clip-path=\"url(#pab055609a1)\" d=\"M 470.953057 172.317594 \r\nL 470.925376 172.451502 \r\nL 470.849286 172.426863 \r\nL 470.849396 172.317439 \r\nL 470.953057 172.317594 \r\n\" style=\"fill:#3282be;stroke:#333333;stroke-width:0.6;\"/>\r\n    <path clip-path=\"url(#pab055609a1)\" d=\"M 442.846181 162.454203 \r\nL 442.575529 162.476508 \r\nL 442.590502 162.31454 \r\nL 442.853042 162.256172 \r\nL 442.903626 162.430395 \r\nL 442.846181 162.454203 \r\n\" style=\"fill:#3282be;stroke:#333333;stroke-width:0.6;\"/>\r\n    <path clip-path=\"url(#pab055609a1)\" d=\"M 479.613069 133.013123 \r\nL 479.762531 133.219334 \r\nL 479.356535 132.984985 \r\nL 479.290835 132.794507 \r\nL 479.613069 133.013123 \r\n\" style=\"fill:#3282be;stroke:#333333;stroke-width:0.6;\"/>\r\n    <path clip-path=\"url(#pab055609a1)\" d=\"M 485.303212 127.978288 \r\nL 485.268894 127.978288 \r\nL 485.111116 127.925556 \r\nL 484.948735 127.845621 \r\nL 484.367844 127.471809 \r\nL 484.415972 127.318216 \r\nL 484.212158 127.082595 \r\nL 484.437316 126.707192 \r\nL 484.492783 126.743288 \r\nL 485.478149 127.773554 \r\nL 485.385239 127.863952 \r\nL 485.303212 127.978288 \r\n\" style=\"fill:#3282be;stroke:#333333;stroke-width:0.6;\"/>\r\n    <path clip-path=\"url(#pab055609a1)\" d=\"M 449.605603 108.409706 \r\nL 449.819468 108.437564 \r\nL 449.905313 108.278687 \r\nL 450.01294 108.215904 \r\nL 450.312757 108.182592 \r\nL 451.031152 108.428447 \r\nL 451.432406 108.499728 \r\nL 451.787288 108.647078 \r\nL 451.385474 108.775854 \r\nL 450.592039 109.256404 \r\nL 450.185678 109.672676 \r\nL 449.771424 110.257608 \r\nL 449.387274 110.253715 \r\nL 448.878535 110.001941 \r\nL 448.646228 109.737189 \r\nL 448.513501 109.233921 \r\nL 448.525682 108.666401 \r\nL 448.608087 108.338931 \r\nL 448.886115 107.780009 \r\nL 449.013707 107.63424 \r\nL 449.357956 107.44924 \r\nL 449.766894 107.452694 \r\nL 449.947595 107.568863 \r\nL 449.910438 107.638052 \r\nL 449.60934 107.763616 \r\nL 449.271084 108.146716 \r\nL 449.315929 108.282531 \r\nL 449.605603 108.409706 \r\n\" style=\"fill:#3282be;stroke:#333333;stroke-width:0.6;\"/>\r\n    <path clip-path=\"url(#pab055609a1)\" d=\"M 473.822498 112.427716 \r\nL 473.753905 112.796218 \r\nL 473.552267 112.678293 \r\nL 473.467133 112.696513 \r\nL 473.144077 112.956783 \r\nL 473.144521 113.043788 \r\nL 473.435335 113.461318 \r\nL 473.302558 113.546898 \r\nL 473.332524 113.644052 \r\nL 473.011306 113.262802 \r\nL 472.806818 113.38183 \r\nL 472.778271 113.495346 \r\nL 472.852781 113.614264 \r\nL 472.771345 113.683383 \r\nL 472.820412 113.960206 \r\nL 472.747737 114.287989 \r\nL 472.711779 114.289963 \r\nL 472.737477 114.410357 \r\nL 472.816878 114.414301 \r\nL 473.28211 114.193761 \r\nL 473.234645 114.1253 \r\nL 472.99567 114.244911 \r\nL 472.977078 114.20923 \r\nL 473.345342 114.027078 \r\nL 473.423966 114.14464 \r\nL 475.025112 117.345674 \r\nL 475.211337 117.442366 \r\nL 475.3799 117.746753 \r\nL 475.357537 118.011441 \r\nL 476.799128 120.887999 \r\nL 477.015159 121.25109 \r\nL 477.117442 121.212647 \r\nL 477.272527 121.274373 \r\nL 477.374522 121.464756 \r\nL 477.399146 121.529354 \r\nL 477.176031 121.63645 \r\nL 477.56234 122.422915 \r\nL 476.907149 129.956494 \r\nL 477.424289 129.938318 \r\nL 477.451245 130.017592 \r\nL 477.168666 130.326507 \r\nL 477.201691 130.358607 \r\nL 477.392242 130.181477 \r\nL 477.415721 130.261437 \r\nL 477.215478 130.421365 \r\nL 477.240815 130.482796 \r\nL 477.467284 130.331176 \r\nL 477.424543 130.146647 \r\nL 477.467839 130.057167 \r\nL 477.514928 129.995025 \r\nL 477.69737 130.350456 \r\nL 477.625968 130.358201 \r\nL 477.773224 130.464179 \r\nL 477.800011 130.649265 \r\nL 477.94532 130.639422 \r\nL 477.820339 130.714883 \r\nL 477.870324 130.842578 \r\nL 477.784815 130.870652 \r\nL 477.81975 131.003983 \r\nL 477.889542 131.013026 \r\nL 477.910199 130.927516 \r\nL 477.93034 130.991238 \r\nL 478.142391 130.940712 \r\nL 478.16602 130.97317 \r\nL 477.949153 131.05076 \r\nL 477.923328 131.373228 \r\nL 478.022374 131.358595 \r\nL 477.910274 131.487459 \r\nL 477.984206 131.631654 \r\nL 478.165284 131.698984 \r\nL 478.118954 131.771642 \r\nL 478.141628 131.942387 \r\nL 478.553949 132.365988 \r\nL 478.706667 132.453608 \r\nL 479.546959 133.403376 \r\nL 479.763188 133.276143 \r\nL 479.698994 133.522951 \r\nL 479.731328 133.644215 \r\nL 479.831019 133.552579 \r\nL 480.013979 133.497464 \r\nL 479.941285 133.60013 \r\nL 480.112912 133.76311 \r\nL 480.158934 133.665014 \r\nL 480.584849 133.590063 \r\nL 480.667849 133.722522 \r\nL 480.759937 133.670447 \r\nL 480.800892 133.491096 \r\nL 481.086757 133.505331 \r\nL 481.015478 133.638793 \r\nL 481.104833 133.752306 \r\nL 481.20217 133.749871 \r\nL 481.298316 133.664955 \r\nL 481.28729 133.599208 \r\nL 481.160288 133.560284 \r\nL 481.168863 133.514018 \r\nL 481.419211 133.657756 \r\nL 481.499291 133.653659 \r\nL 481.771889 133.464888 \r\nL 482.052017 132.916254 \r\nL 481.927426 132.875981 \r\nL 481.988105 132.850896 \r\nL 482.123934 132.914322 \r\nL 482.172577 132.814234 \r\nL 482.581697 132.025798 \r\nL 483.282321 132.029723 \r\nL 483.922383 132.072415 \r\nL 484.505089 132.175251 \r\nL 484.685557 132.302639 \r\nL 484.930511 132.290956 \r\nL 486.771183 132.200572 \r\nL 486.954293 132.287945 \r\nL 487.52088 132.828316 \r\nL 486.821735 132.937435 \r\nL 486.776344 133.022445 \r\nL 487.300803 133.051074 \r\nL 487.647419 132.955514 \r\nL 488.038804 133.30098 \r\nL 488.331858 133.378644 \r\nL 488.343804 133.572499 \r\nL 488.596589 134.054291 \r\nL 488.623105 134.353072 \r\nL 488.439116 134.444656 \r\nL 488.397568 134.592908 \r\nL 488.64257 134.848287 \r\nL 488.471149 134.972916 \r\nL 488.47565 135.502341 \r\nL 488.391586 135.526886 \r\nL 488.488824 135.554803 \r\nL 488.548773 135.758159 \r\nL 488.707801 135.841725 \r\nL 488.670063 136.285175 \r\nL 488.745772 136.358607 \r\nL 488.772248 136.346483 \r\nL 488.860363 136.436857 \r\nL 488.844796 136.454652 \r\nL 489.16012 136.763537 \r\nL 489.549487 136.971917 \r\nL 489.736204 136.979636 \r\nL 489.889621 136.915039 \r\nL 489.93703 136.971421 \r\nL 489.916778 137.129123 \r\nL 489.883032 137.194239 \r\nL 489.827088 137.231148 \r\nL 489.770028 137.160242 \r\nL 489.442677 137.010958 \r\nL 489.306342 137.14911 \r\nL 489.394186 137.217864 \r\nL 489.344831 137.227501 \r\nL 489.336267 137.286446 \r\nL 489.381518 137.248706 \r\nL 489.381166 137.295692 \r\nL 489.309533 137.445241 \r\nL 489.395789 137.55961 \r\nL 489.054149 137.880297 \r\nL 488.776887 137.783164 \r\nL 488.744569 137.836643 \r\nL 488.987237 137.929433 \r\nL 488.777492 137.907269 \r\nL 488.784978 137.986007 \r\nL 488.862129 137.974428 \r\nL 488.84954 138.061259 \r\nL 488.570945 138.31465 \r\nL 488.51956 138.293161 \r\nL 488.780211 138.058475 \r\nL 488.747139 137.90711 \r\nL 488.493224 137.958431 \r\nL 488.391428 137.976252 \r\nL 488.389696 138.025382 \r\nL 488.526196 138.060408 \r\nL 488.730776 137.997054 \r\nL 488.420791 138.18246 \r\nL 488.131476 138.273896 \r\nL 488.117497 138.402398 \r\nL 488.309827 138.55625 \r\nL 488.390985 138.530809 \r\nL 488.418512 138.615657 \r\nL 488.59058 138.819111 \r\nL 488.62985 138.780857 \r\nL 488.594928 138.91484 \r\nL 488.294026 139.144444 \r\nL 488.542819 138.866222 \r\nL 488.342694 138.698558 \r\nL 488.264161 138.773434 \r\nL 488.15497 138.74284 \r\nL 488.119687 138.697012 \r\nL 487.77808 139.03528 \r\nL 487.581417 139.15161 \r\nL 487.484355 139.176158 \r\nL 487.281538 139.125074 \r\nL 486.942213 139.257462 \r\nL 486.82154 139.227708 \r\nL 486.659567 139.247748 \r\nL 486.636302 139.321748 \r\nL 486.50179 139.253401 \r\nL 486.002087 139.373314 \r\nL 485.95252 139.428574 \r\nL 485.924012 139.727416 \r\nL 485.831267 139.779856 \r\nL 485.792111 140.202756 \r\nL 485.754606 140.732719 \r\nL 485.465259 141.500774 \r\nL 485.309453 142.374829 \r\nL 484.978583 142.828132 \r\nL 483.463582 143.689772 \r\nL 483.095004 144.061426 \r\nL 482.911876 144.560581 \r\nL 482.371195 144.516925 \r\nL 482.07085 144.603949 \r\nL 481.575564 144.779649 \r\nL 481.371632 144.903957 \r\nL 480.704323 145.548688 \r\nL 480.388979 145.939593 \r\nL 479.768647 145.889272 \r\nL 479.60029 145.991072 \r\nL 479.530025 145.942539 \r\nL 479.290403 146.020371 \r\nL 478.368791 146.281441 \r\nL 478.210066 146.067251 \r\nL 478.267026 145.911437 \r\nL 478.381366 145.813713 \r\nL 478.422524 145.625636 \r\nL 478.335761 145.547596 \r\nL 478.211003 145.254561 \r\nL 477.932754 144.935011 \r\nL 477.688279 144.905464 \r\nL 477.327676 144.968271 \r\nL 477.160275 145.062348 \r\nL 477.00226 145.041686 \r\nL 476.663734 144.818383 \r\nL 476.631426 144.706301 \r\nL 476.148439 144.160022 \r\nL 476.119533 144.119292 \r\nL 476.099096 144.065358 \r\nL 475.932499 144.123227 \r\nL 475.857797 143.882457 \r\nL 475.522863 143.978675 \r\nL 475.835782 144.322466 \r\nL 475.797857 144.377894 \r\nL 475.666366 144.182552 \r\nL 475.4083 144.009429 \r\nL 475.392094 143.982538 \r\nL 475.267365 144.077548 \r\nL 475.205335 143.988246 \r\nL 475.101395 144.004161 \r\nL 474.995194 144.093799 \r\nL 475.004141 144.192372 \r\nL 474.532406 144.686871 \r\nL 474.297509 144.459284 \r\nL 474.466328 144.428532 \r\nL 474.461945 144.310265 \r\nL 474.266864 144.407441 \r\nL 474.252068 144.371121 \r\nL 474.367167 144.267668 \r\nL 474.560452 144.220676 \r\nL 474.550209 144.120361 \r\nL 474.464956 144.135781 \r\nL 474.421124 144.065201 \r\nL 474.410155 144.218921 \r\nL 474.316331 144.242751 \r\nL 474.206555 144.363394 \r\nL 474.206452 144.428328 \r\nL 474.244375 144.42452 \r\nL 474.204168 144.827999 \r\nL 474.129144 144.817096 \r\nL 474.141036 144.509757 \r\nL 473.901648 144.471994 \r\nL 473.870939 144.709694 \r\nL 474.043192 144.790028 \r\nL 474.041063 144.86822 \r\nL 473.727152 144.776924 \r\nL 473.728056 144.578092 \r\nL 473.835854 144.402077 \r\nL 473.818774 144.348887 \r\nL 473.51703 143.987143 \r\nL 473.096192 143.962506 \r\nL 472.728355 144.340558 \r\nL 472.665579 144.490752 \r\nL 472.400263 144.506279 \r\nL 472.073755 144.601562 \r\nL 471.916959 144.759668 \r\nL 471.64304 144.889647 \r\nL 471.371432 145.191196 \r\nL 471.241488 145.759546 \r\nL 471.255568 146.376394 \r\nL 471.410604 147.035326 \r\nL 471.396859 147.672371 \r\nL 471.573774 147.874298 \r\nL 471.496832 148.117627 \r\nL 471.706284 148.388764 \r\nL 471.460009 148.769866 \r\nL 471.629602 149.259025 \r\nL 471.969853 149.914319 \r\nL 472.012609 150.379396 \r\nL 472.220762 151.143116 \r\nL 472.117652 151.481706 \r\nL 472.124402 151.778049 \r\nL 472.350175 152.057559 \r\nL 472.863508 152.478929 \r\nL 472.888507 152.795097 \r\nL 473.633074 154.209341 \r\nL 473.633339 154.864191 \r\nL 473.811092 154.987331 \r\nL 474.157443 155.776754 \r\nL 474.270574 155.862223 \r\nL 474.333776 156.155458 \r\nL 474.372617 156.506078 \r\nL 474.592152 156.703599 \r\nL 474.711046 156.927858 \r\nL 474.848679 156.879139 \r\nL 474.924875 156.911698 \r\nL 474.895573 157.113097 \r\nL 474.913651 157.331416 \r\nL 475.284788 157.548765 \r\nL 475.483434 158.227735 \r\nL 475.606388 158.530289 \r\nL 475.302523 158.950646 \r\nL 475.102905 159.400085 \r\nL 475.097273 159.585397 \r\nL 475.035375 159.523161 \r\nL 474.94487 159.651419 \r\nL 474.821138 159.708818 \r\nL 474.852468 159.776882 \r\nL 474.706956 159.777774 \r\nL 474.6902 159.882886 \r\nL 474.585399 160.012583 \r\nL 474.425596 160.014275 \r\nL 474.323499 159.977014 \r\nL 474.280129 159.899963 \r\nL 474.216889 159.910788 \r\nL 474.124801 160.163877 \r\nL 474.044363 160.158164 \r\nL 473.909122 160.438339 \r\nL 473.880262 160.841274 \r\nL 473.975108 161.379084 \r\nL 474.429524 161.845854 \r\nL 474.521409 162.014401 \r\nL 474.480924 162.219568 \r\nL 474.056818 162.329771 \r\nL 473.794767 162.305274 \r\nL 473.35883 162.154733 \r\nL 472.735204 162.556698 \r\nL 472.56732 162.605549 \r\nL 472.529525 162.471373 \r\nL 472.232029 162.35449 \r\nL 472.219086 162.504773 \r\nL 472.262309 162.670495 \r\nL 472.546985 162.713778 \r\nL 472.561764 162.774717 \r\nL 472.413236 162.800767 \r\nL 472.563391 163.087352 \r\nL 472.632717 163.046585 \r\nL 472.748469 163.122596 \r\nL 472.682243 163.237983 \r\nL 472.787303 163.372097 \r\nL 472.862556 163.391695 \r\nL 473.032879 163.01378 \r\nL 473.238957 162.84752 \r\nL 473.546742 162.920916 \r\nL 473.605519 162.996632 \r\nL 473.270451 163.613206 \r\nL 473.184054 163.656479 \r\nL 473.164978 163.784846 \r\nL 473.162501 164.134898 \r\nL 473.133117 164.36573 \r\nL 473.164841 164.440358 \r\nL 473.222818 164.477386 \r\nL 473.297764 164.723207 \r\nL 473.144611 165.012539 \r\nL 473.237655 165.318572 \r\nL 473.758374 165.345409 \r\nL 474.166821 165.537529 \r\nL 474.23198 165.535919 \r\nL 474.285487 165.405262 \r\nL 474.384575 165.372706 \r\nL 474.674947 165.496726 \r\nL 475.084472 165.622532 \r\nL 475.656732 165.575744 \r\nL 475.672659 165.782994 \r\nL 475.7796 165.806468 \r\nL 476.050027 165.250962 \r\nL 476.143207 164.361575 \r\nL 476.054066 164.168676 \r\nL 476.031372 164.031897 \r\nL 476.164663 163.770183 \r\nL 476.441547 163.404858 \r\nL 476.526453 163.451879 \r\nL 476.571131 163.33135 \r\nL 476.513403 163.28484 \r\nL 476.60967 162.936997 \r\nL 476.545195 162.713253 \r\nL 476.723254 162.291503 \r\nL 476.92205 162.358579 \r\nL 477.269958 162.736585 \r\nL 477.390403 162.968118 \r\nL 477.806571 162.969248 \r\nL 478.579708 162.834257 \r\nL 478.751396 162.85776 \r\nL 478.865987 162.908441 \r\nL 478.934397 163.121731 \r\nL 479.049277 163.195891 \r\nL 478.850729 163.137184 \r\nL 478.66467 163.18078 \r\nL 478.076694 163.469063 \r\nL 477.921807 163.618715 \r\nL 477.222284 163.784952 \r\nL 476.904104 164.190409 \r\nL 476.449147 164.18071 \r\nL 476.178506 164.371345 \r\nL 476.106452 165.156745 \r\nL 475.979093 165.540984 \r\nL 475.643536 166.096382 \r\nL 475.738423 165.87086 \r\nL 475.591028 165.784244 \r\nL 475.316703 166.204127 \r\nL 474.971863 166.434626 \r\nL 475.010059 166.567453 \r\nL 474.911607 166.542551 \r\nL 474.924131 166.46394 \r\nL 474.875598 166.448907 \r\nL 474.807865 166.584743 \r\nL 474.94821 166.667776 \r\nL 474.887893 166.692311 \r\nL 474.811569 166.903734 \r\nL 474.767627 167.307761 \r\nL 474.443026 167.731172 \r\nL 474.377411 168.061954 \r\nL 473.75606 167.911967 \r\nL 473.405157 168.083016 \r\nL 473.001277 168.768525 \r\nL 472.507564 168.955969 \r\nL 472.21542 169.207303 \r\nL 471.926778 169.603178 \r\nL 471.625458 170.735221 \r\nL 471.263987 170.869531 \r\nL 471.14787 171.097003 \r\nL 470.732166 171.236734 \r\nL 470.893127 171.384511 \r\nL 470.906886 171.503519 \r\nL 470.775676 172.238949 \r\nL 470.55995 172.356198 \r\nL 470.122793 172.10303 \r\nL 470.064255 171.87174 \r\nL 469.926199 171.697284 \r\nL 469.656149 171.805008 \r\nL 469.605821 171.721205 \r\nL 469.463292 171.795222 \r\nL 469.482514 171.86177 \r\nL 469.326861 171.826623 \r\nL 468.963538 172.193438 \r\nL 468.827146 172.252932 \r\nL 468.727942 172.225504 \r\nL 468.375503 171.670327 \r\nL 468.334664 171.619659 \r\nL 468.319286 171.710783 \r\nL 468.261243 171.577813 \r\nL 467.986415 171.629034 \r\nL 467.647004 171.17728 \r\nL 467.507217 171.40578 \r\nL 467.446436 171.415089 \r\nL 467.368674 171.491994 \r\nL 467.552398 171.578148 \r\nL 467.527155 171.641306 \r\nL 467.422572 171.603929 \r\nL 467.740699 171.891545 \r\nL 468.215059 172.311255 \r\nL 468.730912 172.724313 \r\nL 468.307482 172.766139 \r\nL 468.282806 172.872673 \r\nL 468.503833 173.124251 \r\nL 468.772961 173.325842 \r\nL 469.021291 173.160436 \r\nL 469.018629 173.07619 \r\nL 469.410781 173.279127 \r\nL 469.140766 173.590387 \r\nL 469.074399 173.561189 \r\nL 469.134018 173.67279 \r\nL 469.209532 173.69875 \r\nL 469.493639 173.502664 \r\nL 469.819934 173.746562 \r\nL 470.374959 174.231111 \r\nL 470.419815 174.222902 \r\nL 470.405238 174.257545 \r\nL 470.616437 174.396308 \r\nL 470.987663 174.204283 \r\nL 471.283147 174.076287 \r\nL 471.328377 174.119353 \r\nL 471.375789 174.310121 \r\nL 471.300197 174.318725 \r\nL 471.066951 174.352134 \r\nL 471.238176 174.699415 \r\nL 470.979776 174.868399 \r\nL 470.975093 175.012206 \r\nL 470.92426 174.972407 \r\nL 470.939525 175.050406 \r\nL 470.583897 175.26318 \r\nL 469.912455 174.642947 \r\nL 469.842888 174.70341 \r\nL 469.475646 174.429061 \r\nL 469.308712 174.235365 \r\nL 469.37089 174.211057 \r\nL 469.144544 174.03055 \r\nL 469.132605 173.88649 \r\nL 469.240679 173.819511 \r\nL 469.122161 173.683303 \r\nL 469.020903 173.637882 \r\nL 468.739465 173.825993 \r\nL 468.610982 173.586696 \r\nL 468.525611 173.641576 \r\nL 468.414866 173.590354 \r\nL 468.339324 173.477973 \r\nL 468.550055 173.234426 \r\nL 468.496235 173.131612 \r\nL 468.444395 173.085605 \r\nL 468.224605 173.118342 \r\nL 468.091083 173.323684 \r\nL 467.995949 173.586381 \r\nL 468.328342 173.629216 \r\nL 468.329925 173.890777 \r\nL 468.404817 173.972269 \r\nL 469.020739 173.883704 \r\nL 469.086024 173.93344 \r\nL 469.040884 174.16386 \r\nL 469.446397 174.477287 \r\nL 469.636891 174.730994 \r\nL 469.722565 174.752147 \r\nL 469.919263 175.155944 \r\nL 470.156657 175.357618 \r\nL 470.371356 175.418475 \r\nL 470.654884 175.349055 \r\nL 470.791163 175.38995 \r\nL 470.87019 175.393834 \r\nL 471.229444 174.966619 \r\nL 471.527172 174.952637 \r\nL 471.73489 174.874692 \r\nL 472.255283 175.325185 \r\nL 472.192044 175.735597 \r\nL 471.685816 176.005061 \r\nL 471.682286 176.065433 \r\nL 471.773101 176.039968 \r\nL 471.939034 176.169405 \r\nL 471.893128 176.311582 \r\nL 472.068931 176.484812 \r\nL 472.342947 176.492244 \r\nL 472.777077 176.267845 \r\nL 472.873796 176.300188 \r\nL 473.581304 176.04402 \r\nL 473.903083 176.048308 \r\nL 474.330325 176.163054 \r\nL 474.419044 176.109521 \r\nL 474.423375 176.437873 \r\nL 474.505334 176.522537 \r\nL 474.566934 176.485562 \r\nL 474.507868 176.383973 \r\nL 474.530077 176.289715 \r\nL 474.506972 176.079986 \r\nL 474.581142 176.095699 \r\nL 475.010755 175.836909 \r\nL 476.047757 175.951053 \r\nL 476.424408 176.233541 \r\nL 476.945611 176.754263 \r\nL 477.038588 176.66472 \r\nL 477.097287 176.760834 \r\nL 477.17218 176.884146 \r\nL 477.97287 176.95444 \r\nL 478.353332 177.37011 \r\nL 478.617007 177.134212 \r\nL 478.847879 177.367922 \r\nL 478.932601 177.319377 \r\nL 478.964689 177.359939 \r\nL 478.892468 177.419974 \r\nL 479.334088 178.218966 \r\nL 479.767534 178.742076 \r\nL 479.65043 178.793636 \r\nL 479.431623 178.707968 \r\nL 479.269756 178.906146 \r\nL 479.459527 179.071381 \r\nL 479.675954 178.991309 \r\nL 479.694185 178.849364 \r\nL 479.852054 178.807976 \r\nL 480.303775 179.184582 \r\nL 480.425561 179.381138 \r\nL 480.688834 179.536101 \r\nL 481.220641 179.639226 \r\nL 481.698362 179.527999 \r\nL 481.850755 179.439862 \r\nL 481.926598 179.293395 \r\nL 482.690257 179.115668 \r\nL 484.761242 178.882094 \r\nL 484.92029 178.821305 \r\nL 485.518068 178.835364 \r\nL 485.668088 178.880767 \r\nL 485.748444 178.793863 \r\nL 485.780848 178.8199 \r\nL 485.688995 178.953088 \r\nL 485.766167 179.007049 \r\nL 485.839959 178.932783 \r\nL 485.844872 179.046157 \r\nL 485.764966 179.124456 \r\nL 485.593784 179.449005 \r\nL 485.646495 179.467013 \r\nL 485.779036 179.160323 \r\nL 485.848206 179.18515 \r\nL 485.82775 179.104655 \r\nL 485.974287 178.791769 \r\nL 485.914239 178.982687 \r\nL 486.257581 179.118734 \r\nL 486.237521 179.006736 \r\nL 486.034311 178.744058 \r\nL 486.015853 178.610284 \r\nL 486.09702 178.401337 \r\nL 486.151229 178.393026 \r\nL 486.128237 178.628881 \r\nL 486.290556 178.799711 \r\nL 486.329033 179.003222 \r\nL 486.563666 179.352402 \r\nL 486.791518 179.428748 \r\nL 487.075904 179.360399 \r\nL 487.105567 179.3934 \r\nL 487.709012 179.638103 \r\nL 487.963541 179.827004 \r\nL 488.016469 179.824148 \r\nL 488.165486 180.013704 \r\nL 488.597592 180.330017 \r\nL 488.827326 180.436914 \r\nL 489.303735 180.283216 \r\nL 489.537362 179.855867 \r\nL 489.861672 179.790418 \r\nL 489.970733 179.55853 \r\nL 490.181637 179.712473 \r\nL 490.255321 179.722841 \r\nL 490.287033 179.751634 \r\nL 490.49907 180.017047 \r\nL 490.346542 179.909872 \r\nL 490.103528 180.087278 \r\nL 489.921169 180.099145 \r\nL 489.666031 180.358835 \r\nL 489.587929 180.582901 \r\nL 489.36808 180.656153 \r\nL 489.206837 180.799797 \r\nL 489.096408 181.137965 \r\nL 489.118927 181.282728 \r\nL 489.16207 181.483009 \r\nL 489.802696 182.442589 \r\nL 489.76124 182.471687 \r\nL 488.002934 182.137603 \r\nL 487.903604 182.119993 \r\nL 487.390825 182.023486 \r\nL 487.168215 182.012539 \r\nL 487.161334 182.027228 \r\nL 486.864955 182.625245 \r\nL 485.758366 184.85837 \r\nL 485.823881 184.88296 \r\nL 485.388859 185.80799 \r\nL 485.321237 185.95393 \r\nL 484.963906 186.713144 \r\nL 484.379177 187.959308 \r\nL 484.497734 187.966316 \r\nL 484.22628 188.939629 \r\nL 484.120478 189.34504 \r\nL 483.961174 190.049638 \r\nL 483.894169 190.173764 \r\nL 482.400447 192.961213 \r\nL 481.855315 192.946871 \r\nL 481.546876 192.918686 \r\nL 480.915815 192.854627 \r\nL 480.723478 192.835774 \r\nL 477.957688 192.631096 \r\nL 477.782653 192.617224 \r\nL 477.386262 192.735729 \r\nL 475.004465 193.447287 \r\nL 472.911528 194.182865 \r\nL 472.604237 192.299957 \r\nL 472.014678 192.258909 \r\nL 472.097588 192.042868 \r\nL 472.17659 191.97577 \r\nL 472.218124 191.535581 \r\nL 472.288421 191.244693 \r\nL 472.385665 191.094215 \r\nL 472.3262 190.916109 \r\nL 472.321657 190.788866 \r\nL 471.922918 190.711828 \r\nL 471.72701 190.584732 \r\nL 471.605737 190.434741 \r\nL 471.392281 190.416759 \r\nL 471.296721 190.379166 \r\nL 471.302729 190.363269 \r\nL 471.403161 190.398309 \r\nL 471.372081 190.343677 \r\nL 471.3449 190.326892 \r\nL 471.31609 190.317033 \r\nL 471.317238 190.309991 \r\nL 471.387291 190.342649 \r\nL 471.409208 190.363555 \r\nL 471.383954 190.162587 \r\nL 471.436548 190.174788 \r\nL 471.428498 190.256832 \r\nL 471.537432 190.279224 \r\nL 471.57718 190.159293 \r\nL 472.29294 190.357455 \r\nL 472.344395 190.059314 \r\nL 472.20802 190.030354 \r\nL 472.283422 189.573466 \r\nL 472.283355 189.573456 \r\nL 472.086145 189.543767 \r\nL 472.149648 189.197684 \r\nL 472.109177 189.196899 \r\nL 472.11326 189.134532 \r\nL 472.304794 189.140807 \r\nL 472.337541 189.085515 \r\nL 472.213609 189.056027 \r\nL 472.236894 188.986212 \r\nL 472.3164 188.983318 \r\nL 472.330724 188.83129 \r\nL 472.248859 188.732435 \r\nL 472.305292 188.011573 \r\nL 472.644918 188.051955 \r\nL 472.645951 188.044659 \r\nL 472.702541 188.047325 \r\nL 472.650062 188.016763 \r\nL 472.64637 188.041867 \r\nL 472.513254 188.009704 \r\nL 472.35302 187.971711 \r\nL 472.334069 187.908097 \r\nL 472.439578 187.925732 \r\nL 472.632698 187.604135 \r\nL 472.684744 187.546809 \r\nL 472.56924 187.463117 \r\nL 472.559589 187.434092 \r\nL 472.627535 187.323964 \r\nL 472.674536 187.361828 \r\nL 473.675043 186.8586 \r\nL 473.623059 186.733819 \r\nL 472.919564 186.023447 \r\nL 472.964644 185.470762 \r\nL 472.800822 185.082887 \r\nL 472.759239 184.731802 \r\nL 472.659445 184.613997 \r\nL 472.554138 184.611761 \r\nL 472.354514 184.941779 \r\nL 472.228352 185.025236 \r\nL 471.966729 184.671001 \r\nL 472.058317 184.250585 \r\nL 471.986536 184.109745 \r\nL 471.670472 183.802783 \r\nL 471.755984 183.587022 \r\nL 471.742028 183.425304 \r\nL 471.659097 183.331597 \r\nL 471.464406 183.033912 \r\nL 471.437533 182.927 \r\nL 471.491238 182.85076 \r\nL 471.885885 182.975674 \r\nL 471.958614 182.927537 \r\nL 472.098435 182.634 \r\nL 472.711829 182.358209 \r\nL 473.081444 182.462338 \r\nL 473.175341 182.354207 \r\nL 473.175544 182.12016 \r\nL 473.246737 181.950321 \r\nL 473.872772 181.602135 \r\nL 474.031913 181.641363 \r\nL 474.031612 181.913586 \r\nL 474.130597 182.068374 \r\nL 474.224134 182.089932 \r\nL 474.224729 182.026324 \r\nL 474.201257 181.597792 \r\nL 474.157203 181.610013 \r\nL 474.069694 181.40117 \r\nL 473.81923 181.16093 \r\nL 473.377516 181.455762 \r\nL 473.227101 181.311097 \r\nL 473.037146 181.610379 \r\nL 472.730735 181.877133 \r\nL 472.599587 181.730095 \r\nL 472.520231 181.794295 \r\nL 472.113312 181.476168 \r\nL 471.940705 181.240001 \r\nL 471.539019 181.990688 \r\nL 471.438749 181.906471 \r\nL 471.376907 181.853075 \r\nL 471.36647 179.762372 \r\nL 470.87082 179.639142 \r\nL 470.734455 179.66033 \r\nL 470.486397 179.85374 \r\nL 470.310737 180.185966 \r\nL 470.213645 180.19098 \r\nL 470.178976 180.396743 \r\nL 470.088395 180.450199 \r\nL 470.080609 180.778079 \r\nL 469.801328 181.162359 \r\nL 468.897747 181.025478 \r\nL 468.139654 181.654594 \r\nL 468.138902 181.655395 \r\nL 468.00112 181.785811 \r\nL 467.859975 182.160424 \r\nL 467.726986 182.061301 \r\nL 467.534833 182.082137 \r\nL 467.436765 182.304427 \r\nL 467.146849 182.250833 \r\nL 467.060441 182.288403 \r\nL 466.96472 182.31689 \r\nL 466.505769 182.212577 \r\nL 466.247802 182.29626 \r\nL 465.670947 182.006403 \r\nL 465.335484 182.139897 \r\nL 465.194104 182.128657 \r\nL 465.16601 182.300658 \r\nL 465.271239 182.752109 \r\nL 465.20534 182.895639 \r\nL 465.293153 182.970373 \r\nL 465.375202 183.159211 \r\nL 465.379995 183.32868 \r\nL 465.076142 183.476246 \r\nL 464.971365 183.888786 \r\nL 464.643344 184.030044 \r\nL 464.671473 184.355271 \r\nL 464.589271 184.541485 \r\nL 464.176137 184.975322 \r\nL 464.019143 184.974249 \r\nL 463.655625 184.919136 \r\nL 463.371409 185.154716 \r\nL 462.93193 184.905184 \r\nL 462.659863 185.143852 \r\nL 462.346538 184.854292 \r\nL 462.022591 184.946556 \r\nL 461.769929 185.163671 \r\nL 461.668972 185.116566 \r\nL 461.530062 184.893869 \r\nL 461.441915 185.060443 \r\nL 461.268659 185.134164 \r\nL 460.910675 185.424163 \r\nL 460.709488 185.474824 \r\nL 460.644431 185.62714 \r\nL 460.563268 185.702535 \r\nL 460.537748 186.062379 \r\nL 460.350711 186.074951 \r\nL 460.300061 186.087593 \r\nL 460.355558 186.325429 \r\nL 460.266326 186.433992 \r\nL 460.042598 186.308313 \r\nL 459.954693 186.531846 \r\nL 459.759626 186.622002 \r\nL 459.74872 186.77423 \r\nL 459.540534 186.768012 \r\nL 458.822458 187.269085 \r\nL 458.392785 187.413418 \r\nL 458.08028 187.502766 \r\nL 457.878833 187.623172 \r\nL 457.496207 187.62585 \r\nL 457.307437 187.533656 \r\nL 457.090518 187.642967 \r\nL 456.612794 187.65931 \r\nL 456.278922 187.535751 \r\nL 456.114605 187.533587 \r\nL 455.989585 187.454066 \r\nL 455.733587 187.439786 \r\nL 455.435129 187.581764 \r\nL 455.319207 187.875322 \r\nL 455.095744 188.066622 \r\nL 454.498069 188.549512 \r\nL 454.353203 188.605668 \r\nL 453.928443 188.614507 \r\nL 453.75632 188.797459 \r\nL 453.580633 188.88593 \r\nL 453.299037 188.891366 \r\nL 452.69202 189.755551 \r\nL 452.591535 189.710686 \r\nL 452.330461 189.407788 \r\nL 452.382548 189.360507 \r\nL 452.071973 189.113574 \r\nL 452.060907 189.045965 \r\nL 452.01263 188.691772 \r\nL 451.982433 188.714699 \r\nL 452.006789 188.51633 \r\nL 451.960026 188.291146 \r\nL 452.05317 187.02435 \r\nL 450.776025 186.857233 \r\nL 450.504053 186.935177 \r\nL 450.243844 187.035128 \r\nL 449.587913 187.606931 \r\nL 449.420491 187.634809 \r\nL 449.183835 187.589321 \r\nL 448.970596 187.675663 \r\nL 448.56393 187.161717 \r\nL 448.432913 187.284508 \r\nL 448.269291 187.450111 \r\nL 447.789309 187.645705 \r\nL 447.051774 188.154745 \r\nL 446.491042 188.436072 \r\nL 446.103379 188.675122 \r\nL 445.662151 188.763736 \r\nL 445.443808 188.801399 \r\nL 445.180917 188.845809 \r\nL 444.164574 188.826218 \r\nL 443.868678 188.718817 \r\nL 442.924113 188.356987 \r\nL 442.287431 188.520483 \r\nL 442.18594 188.546714 \r\nL 441.295351 188.346648 \r\nL 441.178067 188.29521 \r\nL 441.007777 187.983671 \r\nL 440.788756 187.501912 \r\nL 440.998332 187.062148 \r\nL 441.128925 186.948982 \r\nL 441.464902 186.842929 \r\nL 441.56235 186.761322 \r\nL 441.691947 186.257584 \r\nL 441.75176 185.962448 \r\nL 441.77183 185.865845 \r\nL 441.830838 185.585081 \r\nL 441.942837 184.981001 \r\nL 442.009059 184.461935 \r\nL 442.064181 184.02027 \r\nL 441.999419 183.507998 \r\nL 441.987645 183.417867 \r\nL 441.975006 183.316429 \r\nL 441.996698 183.101722 \r\nL 442.285699 182.821334 \r\nL 442.571932 182.553997 \r\nL 443.03143 182.124901 \r\nL 443.079757 182.080878 \r\nL 443.341304 181.79126 \r\nL 443.386063 181.646313 \r\nL 443.506497 181.281028 \r\nL 443.665088 180.993187 \r\nL 443.788165 180.772402 \r\nL 443.848993 180.388677 \r\nL 443.967167 180.042612 \r\nL 444.238424 179.463454 \r\nL 444.397193 179.145326 \r\nL 444.760463 178.662949 \r\nL 444.843637 178.520768 \r\nL 444.854376 178.381542 \r\nL 444.067828 177.999207 \r\nL 443.864528 177.927102 \r\nL 443.523763 177.920613 \r\nL 443.307331 177.908539 \r\nL 443.291965 178.026377 \r\nL 443.203418 177.967118 \r\nL 443.185182 177.87378 \r\nL 443.032911 177.852564 \r\nL 442.369815 178.164728 \r\nL 442.101698 178.042671 \r\nL 441.745805 178.797213 \r\nL 440.69137 178.289052 \r\nL 440.436944 178.181363 \r\nL 437.319674 176.775748 \r\nL 437.258207 176.748643 \r\nL 439.400845 171.585555 \r\nL 440.42647 169.064794 \r\nL 441.305389 166.828941 \r\nL 441.689595 165.207836 \r\nL 441.816897 164.317315 \r\nL 441.570611 164.237516 \r\nL 441.349634 163.274896 \r\nL 441.152856 162.805167 \r\nL 440.416574 163.071515 \r\nL 440.266707 163.073611 \r\nL 439.984192 162.767421 \r\nL 439.891805 162.459744 \r\nL 439.989983 162.459873 \r\nL 440.098588 162.791405 \r\nL 440.27007 162.97432 \r\nL 440.435836 162.962887 \r\nL 441.358831 162.621113 \r\nL 441.582141 162.777188 \r\nL 441.679236 163.202824 \r\nL 442.013573 163.102314 \r\nL 441.986381 162.985454 \r\nL 441.83454 162.899625 \r\nL 441.968938 162.642893 \r\nL 442.254967 162.61473 \r\nL 442.299896 162.654362 \r\nL 442.179167 162.928394 \r\nL 442.282878 162.974431 \r\nL 442.422691 162.66165 \r\nL 442.891242 162.599212 \r\nL 442.902153 162.642394 \r\nL 442.788317 162.729461 \r\nL 442.934608 162.909481 \r\nL 442.931071 163.028095 \r\nL 443.01332 163.03275 \r\nL 443.388806 163.269771 \r\nL 443.439343 163.196223 \r\nL 443.086456 162.969311 \r\nL 442.996169 162.775182 \r\nL 443.08033 162.642264 \r\nL 443.896238 163.156885 \r\nL 443.994834 163.124824 \r\nL 444.020848 163.084236 \r\nL 443.354795 162.665707 \r\nL 443.122649 162.55604 \r\nL 443.649588 162.520705 \r\nL 443.65592 162.432879 \r\nL 443.430074 162.40137 \r\nL 444.05208 162.348167 \r\nL 444.047541 162.243802 \r\nL 443.727011 162.232093 \r\nL 443.724783 162.138123 \r\nL 444.283711 162.196659 \r\nL 444.601197 162.168329 \r\nL 444.605066 162.031648 \r\nL 443.767198 161.878261 \r\nL 443.86584 161.838451 \r\nL 444.365857 161.881489 \r\nL 444.376277 161.703026 \r\nL 444.287138 161.669766 \r\nL 444.138802 161.728289 \r\nL 443.946512 161.715279 \r\nL 444.177212 161.608281 \r\nL 444.853514 161.639234 \r\nL 444.868585 161.553565 \r\nL 444.267425 161.407799 \r\nL 444.036482 161.509325 \r\nL 443.99785 161.454636 \r\nL 443.402723 161.672496 \r\nL 443.353374 161.613404 \r\nL 443.248841 161.64757 \r\nL 443.146537 161.784316 \r\nL 442.934186 161.880133 \r\nL 442.160014 162.080135 \r\nL 441.521889 162.134058 \r\nL 440.927418 161.991156 \r\nL 440.552086 162.090017 \r\nL 440.6 161.993549 \r\nL 440.927087 161.860887 \r\nL 441.558777 162.033408 \r\nL 442.010275 161.946973 \r\nL 442.689177 160.869695 \r\nL 442.836398 160.26432 \r\nL 443.044965 159.785459 \r\nL 443.446178 158.770775 \r\nL 443.879038 157.262951 \r\nL 444.239305 155.403078 \r\nL 444.434195 154.538317 \r\nL 445.038446 150.91357 \r\nL 445.405719 148.543484 \r\nL 445.501563 147.528609 \r\nL 445.523249 147.21269 \r\nL 445.628578 146.39609 \r\nL 445.699332 145.631038 \r\nL 445.770564 145.267359 \r\nL 445.854932 144.927571 \r\nL 445.897539 144.372023 \r\nL 445.999022 143.950859 \r\nL 446.121625 142.272301 \r\nL 446.220276 141.315477 \r\nL 446.276591 141.120223 \r\nL 446.454976 140.167282 \r\nL 446.608136 139.521818 \r\nL 446.736904 138.235754 \r\nL 446.961003 136.807692 \r\nL 446.955624 136.33668 \r\nL 446.89981 136.245254 \r\nL 446.854638 135.459798 \r\nL 446.92174 134.57612 \r\nL 447.349199 132.258004 \r\nL 447.528372 131.62651 \r\nL 447.983903 130.308422 \r\nL 448.474218 129.355953 \r\nL 448.900648 128.645934 \r\nL 449.517245 126.955913 \r\nL 450.575412 122.771449 \r\nL 451.26079 120.250872 \r\nL 451.515582 119.317255 \r\nL 451.714012 118.261855 \r\nL 451.880429 117.230613 \r\nL 451.923302 116.370123 \r\nL 451.996163 114.860427 \r\nL 452.04246 113.126345 \r\nL 452.122529 112.49278 \r\nL 452.303893 111.527941 \r\nL 452.446539 111.140629 \r\nL 453.109116 110.049324 \r\nL 453.185759 109.939531 \r\nL 453.750969 109.814946 \r\nL 454.300395 109.759134 \r\nL 454.759317 109.821253 \r\nL 455.000314 109.741249 \r\nL 455.252017 109.661186 \r\nL 456.294067 109.686376 \r\nL 456.182188 109.819126 \r\nL 456.208012 109.932652 \r\nL 456.406317 109.737014 \r\nL 456.471919 109.770445 \r\nL 456.59334 109.597302 \r\nL 456.639676 109.629446 \r\nL 456.533229 109.813016 \r\nL 456.619162 109.933144 \r\nL 456.548821 109.997452 \r\nL 456.393026 109.886472 \r\nL 456.174644 110.140726 \r\nL 455.985857 110.171744 \r\nL 456.261414 110.815081 \r\nL 456.820553 111.385441 \r\nL 456.976493 111.332503 \r\nL 456.34206 110.706719 \r\nL 456.204239 110.301541 \r\nL 456.272773 110.416391 \r\nL 456.381692 110.369171 \r\nL 456.488792 110.626888 \r\nL 456.639209 110.568056 \r\nL 456.666818 110.842879 \r\nL 457.230961 110.721921 \r\nL 457.191279 110.611291 \r\nL 457.365594 110.554271 \r\nL 457.296918 110.346144 \r\nL 457.474411 110.288301 \r\nL 457.375746 110.049282 \r\nL 457.230569 110.093223 \r\nL 457.261681 110.225037 \r\nL 457.169544 110.255077 \r\nL 457.061581 110.012575 \r\nL 456.938405 109.952093 \r\nL 457.333618 109.774372 \r\nL 457.68101 109.772425 \r\nL 457.81003 110.337372 \r\nL 457.694953 110.979275 \r\nL 457.122319 111.921729 \r\nL 457.01743 112.754336 \r\nL 457.071055 112.855079 \r\nL 457.066943 113.100847 \r\nL 457.198095 113.116645 \r\nL 457.230407 113.483337 \r\nL 457.764747 114.74984 \r\nL 458.134455 114.95837 \r\nL 458.190938 115.073848 \r\nL 458.066614 115.155227 \r\nL 457.94107 115.097914 \r\nL 457.98126 115.245203 \r\nL 458.106105 115.401172 \r\nL 460.221737 116.699664 \r\nL 460.490872 116.656112 \r\nL 460.699608 116.698699 \r\nL 460.762999 116.781557 \r\nL 460.794761 116.952104 \r\nL 461.452573 117.415608 \r\nL 462.236053 117.83322 \r\nL 462.316584 117.856845 \r\nL 462.825217 117.794217 \r\nL 464.47424 117.242907 \r\nL 464.59097 117.109821 \r\nL 464.675815 117.09157 \r\nL 465.257855 116.65459 \r\nL 466.374003 116.158508 \r\nL 466.25062 115.962952 \r\nL 466.662476 115.550998 \r\nL 466.845638 115.587991 \r\nL 467.421392 114.891527 \r\nL 467.568721 114.532482 \r\nL 467.670598 114.001069 \r\nL 468.316549 113.456219 \r\nL 468.426559 113.419601 \r\nL 468.562843 113.389401 \r\nL 469.483837 113.306201 \r\nL 469.740645 113.189398 \r\nL 470.130565 113.001478 \r\nL 470.518825 112.905395 \r\nL 470.659782 112.901218 \r\nL 471.097551 113.088671 \r\nL 471.43432 113.040161 \r\nL 471.669459 112.993558 \r\nL 472.008699 112.736837 \r\nL 472.074904 112.36046 \r\nL 472.066023 112.291048 \r\nL 472.203531 112.269567 \r\nL 472.288133 112.15623 \r\nL 472.568699 112.33169 \r\nL 472.703623 112.479087 \r\nL 472.642911 112.495241 \r\nL 472.361627 112.22656 \r\nL 472.25281 112.252272 \r\nL 472.191708 112.359561 \r\nL 472.49093 112.619239 \r\nL 472.332836 112.760768 \r\nL 472.463547 112.799014 \r\nL 472.755643 113.154332 \r\nL 472.847669 113.085126 \r\nL 472.574289 112.721519 \r\nL 472.836998 113.016504 \r\nL 472.953341 113.057718 \r\nL 473.008494 113.014382 \r\nL 473.007172 112.918399 \r\nL 472.861856 112.669427 \r\nL 473.066741 112.909564 \r\nL 473.128719 112.912631 \r\nL 473.450566 112.667033 \r\nL 473.491819 112.579319 \r\nL 473.411436 112.4348 \r\nL 473.465491 112.38002 \r\nL 473.787111 112.34364 \r\nL 480.932797 106.170509 \r\nL 480.988615 106.234888 \r\nL 473.822498 112.427716 \r\nM 476.890481 130.441734 \r\nL 477.198429 130.465196 \r\nL 477.14359 130.385616 \r\nL 476.845284 130.323136 \r\nL 476.890481 130.441734 \r\nM 467.296015 172.775632 \r\nL 467.30589 172.940208 \r\nL 467.403691 172.9118 \r\nL 467.379383 173.022945 \r\nL 467.493319 173.03387 \r\nL 467.570758 173.168054 \r\nL 467.506041 173.276336 \r\nL 467.958242 173.571913 \r\nL 468.051216 173.297106 \r\nL 468.056898 173.06813 \r\nL 467.968333 172.95822 \r\nL 468.06349 172.802483 \r\nL 468.014481 172.758533 \r\nL 467.57445 172.762335 \r\nL 467.296015 172.775632 \r\n\" style=\"fill:#3282be;stroke:#333333;stroke-width:0.6;\"/>\r\n    <path clip-path=\"url(#pab055609a1)\" d=\"M 462.758308 89.490278 \r\nL 462.905707 89.690296 \r\nL 463.251563 89.589928 \r\nL 463.682949 90.061172 \r\nL 464.58569 91.78305 \r\nL 464.620993 92.031004 \r\nL 464.466384 92.216165 \r\nL 464.372952 92.120828 \r\nL 464.430154 92.319085 \r\nL 464.38441 92.457865 \r\nL 464.223797 92.578392 \r\nL 464.274692 92.790737 \r\nL 464.101341 92.873681 \r\nL 463.962353 95.498473 \r\nL 464.084475 96.797152 \r\nL 464.037824 97.266984 \r\nL 463.871973 97.776726 \r\nL 463.263616 98.403749 \r\nL 462.812071 98.580391 \r\nL 462.694905 99.000145 \r\nL 462.564714 99.132827 \r\nL 462.33823 99.212829 \r\nL 462.327864 100.2161 \r\nL 461.587675 100.976628 \r\nL 461.483985 101.376849 \r\nL 461.243898 101.734799 \r\nL 461.088116 101.772135 \r\nL 461.166654 101.624809 \r\nL 461.263257 101.65462 \r\nL 461.387714 101.482298 \r\nL 461.514446 101.11922 \r\nL 461.474845 101.104051 \r\nL 461.277446 101.327263 \r\nL 461.35496 101.399375 \r\nL 461.28295 101.4484 \r\nL 461.237302 101.553037 \r\nL 461.226089 101.480449 \r\nL 461.055832 101.475213 \r\nL 460.92858 101.850209 \r\nL 460.819025 101.820654 \r\nL 460.80523 101.919588 \r\nL 461.038713 101.943896 \r\nL 460.658321 102.45942 \r\nL 460.10566 102.791941 \r\nL 459.600224 102.902984 \r\nL 458.8925 102.972284 \r\nL 457.167422 105.134293 \r\nL 457.187863 105.385634 \r\nL 457.385436 105.490617 \r\nL 457.189609 105.770488 \r\nL 456.6724 105.832961 \r\nL 456.511247 105.579014 \r\nL 456.394392 105.680145 \r\nL 456.497742 105.871923 \r\nL 455.901006 105.382379 \r\nL 455.681515 105.387321 \r\nL 454.768784 104.927721 \r\nL 454.360757 104.836104 \r\nL 454.443105 104.902734 \r\nL 454.229557 104.923056 \r\nL 454.688341 105.542091 \r\nL 455.234011 105.878486 \r\nL 455.327163 105.843583 \r\nL 455.307352 105.766452 \r\nL 455.635351 106.002872 \r\nL 455.720561 105.997627 \r\nL 455.843129 106.167722 \r\nL 455.902956 106.166649 \r\nL 455.945951 106.399767 \r\nL 454.703814 106.36379 \r\nL 455.070956 106.691051 \r\nL 454.284679 106.9579 \r\nL 454.207455 107.069451 \r\nL 452.967509 107.487198 \r\nL 452.638759 107.715263 \r\nL 452.526531 107.612842 \r\nL 452.543884 106.904005 \r\nL 452.369962 106.474122 \r\nL 452.071341 105.993047 \r\nL 451.893153 104.591169 \r\nL 451.829163 103.611627 \r\nL 451.937675 102.461535 \r\nL 452.334284 100.53233 \r\nL 452.821957 98.843295 \r\nL 453.581182 97.298582 \r\nL 454.369568 95.968377 \r\nL 455.058221 94.823024 \r\nL 455.249589 94.562687 \r\nL 456.189078 93.131793 \r\nL 457.589668 91.147054 \r\nL 458.41023 89.664141 \r\nL 459.075951 88.688808 \r\nL 459.750253 87.900496 \r\nL 460.188602 87.164186 \r\nL 460.376375 86.690322 \r\nL 460.632937 86.533171 \r\nL 461.07778 86.472419 \r\nL 461.270146 86.503666 \r\nL 461.571356 86.680173 \r\nL 461.661307 86.731376 \r\nL 462.412521 87.866185 \r\nL 462.516116 88.445917 \r\nL 462.824698 88.747195 \r\nL 462.64302 89.001223 \r\nL 462.686974 89.398868 \r\nL 462.758308 89.490278 \r\n\" style=\"fill:#3282be;stroke:#333333;stroke-width:0.6;\"/>\r\n    <path clip-path=\"url(#pab055609a1)\" d=\"M 440.437151 243.438931 \r\nL 439.739721 243.613288 \r\nL 440.018465 243.460659 \r\nL 441.137871 243.142893 \r\nL 441.580683 243.112124 \r\nL 440.437151 243.438931 \r\n\" style=\"fill:#08306b;stroke:#333333;stroke-width:0.6;\"/>\r\n    <path clip-path=\"url(#pab055609a1)\" d=\"M 426.754164 242.45717 \r\nL 426.162411 242.512352 \r\nL 426.092484 242.424807 \r\nL 426.351753 242.329626 \r\nL 426.754164 242.45717 \r\n\" style=\"fill:#08306b;stroke:#333333;stroke-width:0.6;\"/>\r\n    <path clip-path=\"url(#pab055609a1)\" d=\"M 428.183369 242.239719 \r\nL 428.128242 242.453359 \r\nL 427.8342 242.214854 \r\nL 428.090097 241.918992 \r\nL 428.183369 242.239719 \r\n\" style=\"fill:#08306b;stroke:#333333;stroke-width:0.6;\"/>\r\n    <path clip-path=\"url(#pab055609a1)\" d=\"M 424.535953 237.924629 \r\nL 426.030419 238.644303 \r\nL 427.268831 239.069515 \r\nL 427.522081 239.282088 \r\nL 427.556102 239.413948 \r\nL 427.516037 239.583102 \r\nL 427.08026 239.67707 \r\nL 426.549706 239.884489 \r\nL 426.19482 240.112187 \r\nL 425.326512 240.118623 \r\nL 424.479115 239.978442 \r\nL 424.000061 239.719324 \r\nL 423.847559 239.712227 \r\nL 423.17589 239.26692 \r\nL 423.149251 239.236737 \r\nL 423.195461 239.207691 \r\nL 423.067965 239.15408 \r\nL 422.40493 238.579732 \r\nL 422.286538 238.555302 \r\nL 422.267794 238.465264 \r\nL 421.678438 238.069673 \r\nL 421.336838 237.930483 \r\nL 421.453934 238.016846 \r\nL 421.325951 237.923828 \r\nL 421.064775 237.709923 \r\nL 421.071831 237.56109 \r\nL 421.321801 237.1898 \r\nL 421.422928 237.156021 \r\nL 422.463063 237.305278 \r\nL 423.698816 237.684501 \r\nL 424.535953 237.924629 \r\n\" style=\"fill:#08306b;stroke:#333333;stroke-width:0.6;\"/>\r\n    <path clip-path=\"url(#pab055609a1)\" d=\"M 396.630111 236.077953 \r\nL 396.634603 236.241522 \r\nL 396.420262 236.333267 \r\nL 396.441742 236.38301 \r\nL 396.267772 236.401468 \r\nL 396.133225 236.199504 \r\nL 396.174663 236.139264 \r\nL 396.326389 236.183139 \r\nL 396.413828 236.073907 \r\nL 396.554045 236.034977 \r\nL 396.630111 236.077953 \r\n\" style=\"fill:#08306b;stroke:#333333;stroke-width:0.6;\"/>\r\n    <path clip-path=\"url(#pab055609a1)\" d=\"M 401.335012 234.259389 \r\nL 401.79321 234.496626 \r\nL 401.945708 234.657233 \r\nL 401.198276 234.445618 \r\nL 400.389588 234.395998 \r\nL 399.372254 234.532472 \r\nL 398.498446 234.964806 \r\nL 398.223888 235.024276 \r\nL 397.940102 234.9223 \r\nL 399.082864 233.873117 \r\nL 399.404736 233.314032 \r\nL 399.556277 233.165909 \r\nL 399.925466 232.976389 \r\nL 400.252386 233.462322 \r\nL 401.335012 234.259389 \r\n\" style=\"fill:#08306b;stroke:#333333;stroke-width:0.6;\"/>\r\n    <path clip-path=\"url(#pab055609a1)\" d=\"M 413.96252 232.302033 \r\nL 413.886395 232.315641 \r\nL 413.584486 232.259773 \r\nL 413.449254 232.1061 \r\nL 413.729706 231.985467 \r\nL 413.992486 232.034643 \r\nL 413.895673 232.21905 \r\nL 413.96252 232.302033 \r\n\" style=\"fill:#08306b;stroke:#333333;stroke-width:0.6;\"/>\r\n    <path clip-path=\"url(#pab055609a1)\" d=\"M 402.150995 232.153519 \r\nL 402.099563 232.221422 \r\nL 401.586725 232.068899 \r\nL 401.432608 231.959924 \r\nL 401.452491 231.842135 \r\nL 401.74876 231.718929 \r\nL 401.997147 231.74152 \r\nL 401.868814 231.812315 \r\nL 401.844716 231.890034 \r\nL 401.970523 232.098332 \r\nL 402.150995 232.153519 \r\n\" style=\"fill:#08306b;stroke:#333333;stroke-width:0.6;\"/>\r\n    <path clip-path=\"url(#pab055609a1)\" d=\"M 440.69137 178.289052 \r\nL 441.745805 178.797213 \r\nL 442.101698 178.042671 \r\nL 442.369815 178.164728 \r\nL 443.032911 177.852564 \r\nL 443.185182 177.87378 \r\nL 443.203418 177.967118 \r\nL 443.291965 178.026377 \r\nL 443.307331 177.908539 \r\nL 443.523763 177.920613 \r\nL 443.864528 177.927102 \r\nL 444.067828 177.999207 \r\nL 444.854376 178.381542 \r\nL 444.843637 178.520768 \r\nL 444.760463 178.662949 \r\nL 444.397193 179.145326 \r\nL 444.238424 179.463454 \r\nL 443.967167 180.042612 \r\nL 443.848993 180.388677 \r\nL 443.788165 180.772402 \r\nL 443.665088 180.993187 \r\nL 443.506497 181.281028 \r\nL 443.386063 181.646313 \r\nL 443.341304 181.79126 \r\nL 443.079757 182.080878 \r\nL 443.03143 182.124901 \r\nL 442.571932 182.553997 \r\nL 442.285699 182.821334 \r\nL 441.996698 183.101722 \r\nL 441.975006 183.316429 \r\nL 441.987645 183.417867 \r\nL 441.999419 183.507998 \r\nL 442.064181 184.02027 \r\nL 442.009059 184.461935 \r\nL 441.942837 184.981001 \r\nL 441.830838 185.585081 \r\nL 441.77183 185.865845 \r\nL 441.75176 185.962448 \r\nL 441.691947 186.257584 \r\nL 441.56235 186.761322 \r\nL 441.464902 186.842929 \r\nL 441.128925 186.948982 \r\nL 440.998332 187.062148 \r\nL 440.788756 187.501912 \r\nL 441.007777 187.983671 \r\nL 441.178067 188.29521 \r\nL 441.295351 188.346648 \r\nL 442.18594 188.546714 \r\nL 442.287431 188.520483 \r\nL 442.924113 188.356987 \r\nL 443.868678 188.718817 \r\nL 444.164574 188.826218 \r\nL 445.180917 188.845809 \r\nL 445.443808 188.801399 \r\nL 445.662151 188.763736 \r\nL 446.103379 188.675122 \r\nL 446.491042 188.436072 \r\nL 447.051774 188.154745 \r\nL 447.789309 187.645705 \r\nL 448.269291 187.450111 \r\nL 448.432913 187.284508 \r\nL 448.56393 187.161717 \r\nL 448.970596 187.675663 \r\nL 449.183835 187.589321 \r\nL 449.420491 187.634809 \r\nL 449.587913 187.606931 \r\nL 450.243844 187.035128 \r\nL 450.504053 186.935177 \r\nL 450.776025 186.857233 \r\nL 452.05317 187.02435 \r\nL 451.960026 188.291146 \r\nL 452.006789 188.51633 \r\nL 451.982433 188.714699 \r\nL 452.01263 188.691772 \r\nL 452.060907 189.045965 \r\nL 452.071973 189.113574 \r\nL 452.382548 189.360507 \r\nL 452.330461 189.407788 \r\nL 452.591535 189.710686 \r\nL 452.69202 189.755551 \r\nL 453.299037 188.891366 \r\nL 453.580633 188.88593 \r\nL 453.75632 188.797459 \r\nL 453.928443 188.614507 \r\nL 454.353203 188.605668 \r\nL 454.498069 188.549512 \r\nL 455.095744 188.066622 \r\nL 455.319207 187.875322 \r\nL 455.435129 187.581764 \r\nL 455.733587 187.439786 \r\nL 455.989585 187.454066 \r\nL 456.114605 187.533587 \r\nL 456.278922 187.535751 \r\nL 456.612794 187.65931 \r\nL 456.600488 188.00836 \r\nL 456.701 188.035274 \r\nL 456.764654 188.334365 \r\nL 457.096035 188.623616 \r\nL 457.042116 189.638134 \r\nL 457.112441 190.300938 \r\nL 457.177375 190.372751 \r\nL 457.824915 190.296021 \r\nL 457.794798 190.373477 \r\nL 457.889871 190.579335 \r\nL 458.381834 190.907799 \r\nL 458.455854 191.204984 \r\nL 459.217515 191.95913 \r\nL 459.358987 192.217306 \r\nL 459.417926 192.27076 \r\nL 459.715262 192.530949 \r\nL 459.78386 192.610556 \r\nL 460.523022 192.732998 \r\nL 461.274998 193.319084 \r\nL 462.893179 194.561302 \r\nL 462.59296 194.753465 \r\nL 461.684326 195.156269 \r\nL 461.729575 196.977757 \r\nL 461.605416 196.973571 \r\nL 461.471027 197.027785 \r\nL 461.104703 197.125351 \r\nL 460.476026 197.139947 \r\nL 460.301008 197.020454 \r\nL 460.237344 196.884191 \r\nL 459.969036 196.953008 \r\nL 459.879029 196.889613 \r\nL 459.655859 196.888576 \r\nL 459.541107 196.682525 \r\nL 459.327876 196.768856 \r\nL 459.27667 196.532398 \r\nL 459.108836 196.522237 \r\nL 459.040984 196.337822 \r\nL 458.965189 196.387301 \r\nL 458.611501 196.601583 \r\nL 458.225865 196.593052 \r\nL 457.972293 196.891076 \r\nL 457.742067 196.80625 \r\nL 457.493839 197.054668 \r\nL 457.461067 197.279023 \r\nL 457.379868 197.327223 \r\nL 457.458068 197.686494 \r\nL 457.387775 197.892434 \r\nL 457.404869 197.98861 \r\nL 457.293146 198.15153 \r\nL 457.105984 198.253552 \r\nL 457.006093 198.417235 \r\nL 456.771073 198.368561 \r\nL 456.453715 198.506158 \r\nL 456.360599 198.683317 \r\nL 458.507729 200.298345 \r\nL 458.446158 200.482402 \r\nL 458.359298 200.503926 \r\nL 458.371164 201.812175 \r\nL 458.506467 203.15602 \r\nL 458.505855 203.18654 \r\nL 458.56177 203.214964 \r\nL 458.543679 203.730375 \r\nL 458.984167 203.7144 \r\nL 458.966001 203.912295 \r\nL 459.04689 203.935629 \r\nL 458.767102 204.557652 \r\nL 459.456308 204.345775 \r\nL 460.422658 204.359975 \r\nL 461.591583 204.375588 \r\nL 461.263909 204.932663 \r\nL 460.485043 205.380396 \r\nL 459.947018 205.480637 \r\nL 459.361121 205.898233 \r\nL 458.732649 206.353088 \r\nL 458.72379 206.409381 \r\nL 457.921629 207.706741 \r\nL 457.56939 208.031917 \r\nL 457.235631 208.098641 \r\nL 457.360689 208.470539 \r\nL 457.423302 208.697793 \r\nL 457.440494 208.776198 \r\nL 456.705186 209.244589 \r\nL 457.005018 210.104971 \r\nL 457.134277 210.107235 \r\nL 457.322546 210.10765 \r\nL 457.605467 210.131159 \r\nL 457.815768 210.123511 \r\nL 458.183754 209.927049 \r\nL 458.413417 209.789661 \r\nL 458.955983 209.879726 \r\nL 459.401922 209.853123 \r\nL 459.840613 209.700721 \r\nL 459.950169 209.919507 \r\nL 460.449932 210.90272 \r\nL 460.49752 210.995813 \r\nL 460.267008 211.116698 \r\nL 457.930784 211.630123 \r\nL 458.521951 212.391863 \r\nL 459.054345 213.077016 \r\nL 458.981973 213.135875 \r\nL 459.63836 214.115035 \r\nL 459.718902 214.237174 \r\nL 459.849678 214.244862 \r\nL 459.992927 214.381346 \r\nL 460.680573 215.002945 \r\nL 460.932808 215.492072 \r\nL 461.019864 215.805595 \r\nL 461.231132 216.200506 \r\nL 461.40115 216.517993 \r\nL 461.474589 216.81093 \r\nL 461.668445 217.594231 \r\nL 461.793602 218.176022 \r\nL 464.159727 217.726976 \r\nL 464.498981 217.487112 \r\nL 464.9672 216.835711 \r\nL 465.173753 216.914764 \r\nL 465.344923 217.194491 \r\nL 465.796527 219.162238 \r\nL 465.996889 219.033772 \r\nL 466.23715 218.705579 \r\nL 466.348047 218.661816 \r\nL 466.474309 218.888946 \r\nL 466.892514 220.577824 \r\nL 467.41127 220.774829 \r\nL 467.454451 220.799861 \r\nL 467.356598 220.87675 \r\nL 467.412877 220.931732 \r\nL 467.409789 221.103725 \r\nL 467.636608 221.157703 \r\nL 468.035562 221.420911 \r\nL 468.007762 222.520442 \r\nL 468.069335 222.53736 \r\nL 468.362823 222.411027 \r\nL 469.418443 221.995983 \r\nL 469.502359 222.587914 \r\nL 469.477458 223.086697 \r\nL 469.701117 223.898561 \r\nL 469.402998 224.670442 \r\nL 469.484819 225.075937 \r\nL 469.814444 224.879975 \r\nL 469.812704 224.908078 \r\nL 471.286474 224.247388 \r\nL 471.496533 224.157482 \r\nL 471.398588 224.292922 \r\nL 471.249701 224.80835 \r\nL 471.243798 225.200391 \r\nL 471.149422 225.538467 \r\nL 471.515259 226.076609 \r\nL 471.481211 226.618112 \r\nL 470.74425 226.554198 \r\nL 470.34443 226.671642 \r\nL 470.065104 226.682077 \r\nL 469.804424 226.561917 \r\nL 469.460571 226.265563 \r\nL 469.329688 226.33092 \r\nL 469.609572 227.00393 \r\nL 469.632919 227.27686 \r\nL 469.716388 227.77359 \r\nL 469.642716 228.019109 \r\nL 469.683539 228.030823 \r\nL 469.668587 228.087485 \r\nL 469.710168 228.10971 \r\nL 469.903359 228.187754 \r\nL 469.940116 228.07108 \r\nL 470.323117 228.289782 \r\nL 471.103869 228.377212 \r\nL 471.766751 228.469269 \r\nL 471.554485 230.043678 \r\nL 471.514767 230.319051 \r\nL 471.424042 230.814012 \r\nL 470.551338 230.612307 \r\nL 469.725102 230.586068 \r\nL 469.654333 230.592617 \r\nL 468.900475 230.568313 \r\nL 468.138848 230.397949 \r\nL 467.716464 230.28773 \r\nL 467.12094 230.137782 \r\nL 465.939862 229.898357 \r\nL 465.523696 229.782703 \r\nL 464.929973 229.779885 \r\nL 464.380822 229.863338 \r\nL 463.759791 230.08148 \r\nL 462.464882 230.757099 \r\nL 462.190271 230.979567 \r\nL 462.151824 231.010791 \r\nL 460.507336 232.454553 \r\nL 460.161969 232.663291 \r\nL 459.608813 232.862541 \r\nL 458.961724 232.954576 \r\nL 458.488268 232.931804 \r\nL 457.050574 232.676102 \r\nL 456.416478 232.730785 \r\nL 454.862607 233.398358 \r\nL 454.364706 233.783947 \r\nL 454.314662 233.828205 \r\nL 453.654079 234.624482 \r\nL 453.34287 235.239311 \r\nL 452.952909 236.531591 \r\nL 452.685344 237.022125 \r\nL 452.411138 237.362748 \r\nL 451.615086 238.164493 \r\nL 450.238362 239.310656 \r\nL 449.54668 239.794549 \r\nL 448.778143 240.194947 \r\nL 448.427565 240.560494 \r\nL 448.355923 240.635195 \r\nL 446.378104 241.158264 \r\nL 446.293644 241.182774 \r\nL 446.102401 240.701098 \r\nL 445.677247 240.882062 \r\nL 445.833318 241.324965 \r\nL 445.805444 241.333629 \r\nL 445.644223 240.899493 \r\nL 445.263468 240.996806 \r\nL 445.237767 240.666678 \r\nL 445.311634 240.465531 \r\nL 445.253009 240.466001 \r\nL 445.164306 240.75384 \r\nL 445.152556 240.962139 \r\nL 445.24089 241.049956 \r\nL 445.168037 241.052306 \r\nL 444.968503 240.897869 \r\nL 444.641583 240.701111 \r\nL 443.80519 241.342573 \r\nL 443.115375 241.575636 \r\nL 442.638447 241.873856 \r\nL 442.415984 241.910665 \r\nL 442.145775 241.858873 \r\nL 441.551166 242.03996 \r\nL 441.535784 242.142476 \r\nL 441.269212 242.354709 \r\nL 440.645708 242.639072 \r\nL 440.218487 242.641395 \r\nL 439.134487 242.890237 \r\nL 438.832132 242.965663 \r\nL 437.905103 242.727985 \r\nL 437.623413 242.599963 \r\nL 437.418413 242.379149 \r\nL 437.05508 242.371999 \r\nL 436.393887 242.127324 \r\nL 436.166764 241.913678 \r\nL 435.223987 241.672246 \r\nL 434.710105 241.446676 \r\nL 434.375869 241.463209 \r\nL 434.107087 241.372355 \r\nL 433.708574 241.385739 \r\nL 433.688428 241.137047 \r\nL 433.453888 241.15268 \r\nL 433.467295 241.241192 \r\nL 433.515031 241.211018 \r\nL 433.667225 241.272027 \r\nL 433.681846 241.443447 \r\nL 433.329957 241.38648 \r\nL 433.25671 241.256805 \r\nL 433.365826 241.214057 \r\nL 433.358847 241.159866 \r\nL 433.188278 241.170383 \r\nL 433.269381 241.387884 \r\nL 433.129194 241.382016 \r\nL 433.085161 241.259944 \r\nL 432.857643 241.37065 \r\nL 432.676854 241.305732 \r\nL 432.622764 241.228063 \r\nL 431.719169 240.961849 \r\nL 431.49503 241.013764 \r\nL 431.589162 240.797979 \r\nL 431.517026 240.783041 \r\nL 431.415388 240.986543 \r\nL 431.113811 240.779811 \r\nL 430.931847 240.759523 \r\nL 430.800194 240.641602 \r\nL 430.714269 240.656447 \r\nL 430.572364 240.846468 \r\nL 430.179526 241.781989 \r\nL 430.174329 241.870121 \r\nL 430.353995 241.989422 \r\nL 430.218683 242.037571 \r\nL 430.144019 242.136121 \r\nL 430.127572 242.300153 \r\nL 430.204418 242.500948 \r\nL 430.427098 242.530423 \r\nL 430.20893 242.745489 \r\nL 430.405094 243.074361 \r\nL 430.516058 243.118999 \r\nL 429.908801 243.633122 \r\nL 429.947682 243.423598 \r\nL 429.709842 243.276167 \r\nL 429.608025 243.305442 \r\nL 429.513121 243.440475 \r\nL 429.202329 243.393374 \r\nL 428.850006 243.63095 \r\nL 428.446969 243.624077 \r\nL 428.400517 243.455019 \r\nL 427.868562 243.479207 \r\nL 428.122377 244.242987 \r\nL 428.156474 244.505966 \r\nL 428.106005 244.731836 \r\nL 428.026227 244.789339 \r\nL 427.872677 244.794614 \r\nL 427.87236 244.810988 \r\nL 428.005337 244.867933 \r\nL 427.919172 245.293919 \r\nL 427.425213 245.978927 \r\nL 426.200131 246.620202 \r\nL 425.582469 246.829814 \r\nL 424.248489 247.141283 \r\nL 423.694947 247.190494 \r\nL 423.610748 247.154103 \r\nL 422.377228 247.666861 \r\nL 421.800148 247.648649 \r\nL 420.861135 247.449732 \r\nL 420.41241 247.282815 \r\nL 420.100432 247.250535 \r\nL 419.226439 246.891925 \r\nL 418.602144 246.171182 \r\nL 418.399995 245.694916 \r\nL 418.4391 245.572423 \r\nL 417.821443 245.295388 \r\nL 417.619667 245.300773 \r\nL 417.576176 245.441233 \r\nL 417.480798 245.304478 \r\nL 417.476008 245.149505 \r\nL 416.762259 244.963758 \r\nL 416.41854 244.568376 \r\nL 416.072137 244.608204 \r\nL 415.05868 244.497652 \r\nL 414.839858 244.170203 \r\nL 414.789051 244.092555 \r\nL 414.333172 244.585466 \r\nL 414.21235 244.485582 \r\nL 414.681558 244.032908 \r\nL 414.578631 243.70726 \r\nL 414.219394 243.0953 \r\nL 414.029205 242.961578 \r\nL 412.899406 242.502649 \r\nL 412.693057 242.304128 \r\nL 412.504094 242.352707 \r\nL 412.104322 242.024986 \r\nL 411.669148 241.927344 \r\nL 411.340548 241.857019 \r\nL 410.585098 241.889168 \r\nL 410.37057 241.911872 \r\nL 410.299698 241.98241 \r\nL 410.047965 241.981817 \r\nL 409.738156 241.861464 \r\nL 409.694145 241.735021 \r\nL 409.691639 241.799004 \r\nL 409.474387 241.841599 \r\nL 409.485613 241.964856 \r\nL 409.356995 241.807997 \r\nL 409.077407 241.733224 \r\nL 408.645205 241.808905 \r\nL 407.930251 241.395314 \r\nL 407.393556 241.379861 \r\nL 407.340549 241.061081 \r\nL 407.396562 240.761648 \r\nL 406.92329 239.964386 \r\nL 406.766415 239.72701 \r\nL 406.744578 239.328939 \r\nL 406.603308 238.874265 \r\nL 406.299183 238.536449 \r\nL 406.272419 238.408303 \r\nL 406.411553 237.971223 \r\nL 406.197403 237.784993 \r\nL 406.084837 238.083355 \r\nL 405.826607 238.191323 \r\nL 405.702984 238.162356 \r\nL 405.598434 238.009737 \r\nL 405.387774 237.117955 \r\nL 405.372548 236.748695 \r\nL 405.44137 236.702625 \r\nL 405.684433 236.742612 \r\nL 405.882158 236.606717 \r\nL 406.120019 236.577825 \r\nL 406.114962 236.149557 \r\nL 405.921462 235.524994 \r\nL 405.966575 235.29939 \r\nL 405.806669 235.023247 \r\nL 405.668256 234.574026 \r\nL 405.652595 234.194489 \r\nL 404.800836 233.101915 \r\nL 404.559574 232.66208 \r\nL 404.58785 232.503733 \r\nL 404.508407 232.35831 \r\nL 403.944958 231.971102 \r\nL 403.737428 231.793857 \r\nL 403.538316 231.722841 \r\nL 403.147887 231.854285 \r\nL 402.324769 231.874899 \r\nL 402.174684 231.628456 \r\nL 401.43963 231.512072 \r\nL 400.943821 231.576446 \r\nL 400.648687 231.843026 \r\nL 400.039321 232.16738 \r\nL 400.115117 232.065332 \r\nL 399.967742 232.103563 \r\nL 400.025575 232.181443 \r\nL 399.994585 232.1994 \r\nL 399.907034 232.099009 \r\nL 399.382528 232.156913 \r\nL 399.335521 232.22913 \r\nL 399.080441 232.222674 \r\nL 398.483755 232.396853 \r\nL 398.51438 232.538341 \r\nL 398.185613 232.703557 \r\nL 397.892509 232.684363 \r\nL 397.490805 232.540604 \r\nL 397.07468 232.691599 \r\nL 397.005736 232.963963 \r\nL 397.157933 233.240522 \r\nL 397.390083 233.454949 \r\nL 397.17146 233.716414 \r\nL 396.943145 233.835083 \r\nL 396.710924 233.961093 \r\nL 396.352514 234.027175 \r\nL 396.176559 233.983015 \r\nL 395.812443 233.736381 \r\nL 395.664855 233.813456 \r\nL 395.4982 234.326304 \r\nL 395.588392 234.387372 \r\nL 395.391917 234.462344 \r\nL 394.973373 235.473495 \r\nL 395.08428 235.727301 \r\nL 395.038027 235.805491 \r\nL 394.916799 235.760076 \r\nL 394.691798 236.254698 \r\nL 394.927369 236.382547 \r\nL 394.907289 236.260967 \r\nL 394.971304 236.244022 \r\nL 394.99525 236.362439 \r\nL 395.029781 236.350892 \r\nL 395.208049 235.943603 \r\nL 395.315201 236.176199 \r\nL 395.594971 236.317647 \r\nL 395.920672 236.59408 \r\nL 395.926494 236.714443 \r\nL 395.699659 237.018855 \r\nL 395.288093 236.998768 \r\nL 395.114949 236.815279 \r\nL 395.088742 236.870218 \r\nL 394.812052 236.753507 \r\nL 394.731217 236.83133 \r\nL 394.547141 236.785978 \r\nL 394.532681 236.609339 \r\nL 394.460805 236.772481 \r\nL 394.4177 236.669642 \r\nL 394.470541 236.540185 \r\nL 394.365958 236.462361 \r\nL 394.327339 236.512149 \r\nL 394.25941 236.467635 \r\nL 394.248367 236.378278 \r\nL 394.08019 236.315947 \r\nL 393.840179 236.40134 \r\nL 393.629438 236.193536 \r\nL 394.306378 235.812053 \r\nL 394.793074 235.28632 \r\nL 395.326654 234.128665 \r\nL 395.404714 233.700745 \r\nL 395.385489 233.399082 \r\nL 395.266642 232.889133 \r\nL 394.78883 231.542639 \r\nL 394.747659 231.251433 \r\nL 394.801239 230.92185 \r\nL 394.942823 230.592396 \r\nL 395.087798 230.346377 \r\nL 395.468277 229.949618 \r\nL 395.73851 229.757669 \r\nL 396.294672 229.600035 \r\nL 397.260171 229.13762 \r\nL 397.994455 229.134922 \r\nL 398.367124 229.053145 \r\nL 399.466679 228.580186 \r\nL 400.181389 228.177644 \r\nL 400.36628 228.270278 \r\nL 401.109991 227.897399 \r\nL 401.744238 227.613243 \r\nL 402.289999 227.46513 \r\nL 403.31625 227.306473 \r\nL 404.359823 226.794477 \r\nL 404.927633 226.738747 \r\nL 405.149553 226.810041 \r\nL 405.155953 226.979368 \r\nL 404.893769 227.209166 \r\nL 404.873444 227.49738 \r\nL 405.30321 227.743427 \r\nL 405.217579 228.158797 \r\nL 405.61026 228.617603 \r\nL 406.048383 228.942083 \r\nL 406.16389 228.972464 \r\nL 406.388815 228.76323 \r\nL 406.422667 228.814121 \r\nL 406.166191 229.147453 \r\nL 406.649171 229.547086 \r\nL 406.794939 229.38131 \r\nL 406.465378 229.091645 \r\nL 406.480969 228.911537 \r\nL 406.885943 229.082577 \r\nL 407.027449 229.058045 \r\nL 407.165842 228.919345 \r\nL 407.229611 228.972587 \r\nL 407.488477 228.673671 \r\nL 407.859402 228.242891 \r\nL 407.808605 228.165345 \r\nL 408.00719 227.933935 \r\nL 408.312107 227.669767 \r\nL 408.693077 227.463376 \r\nL 408.751843 227.284496 \r\nL 408.772713 226.857661 \r\nL 408.583023 226.397664 \r\nL 407.56683 224.718408 \r\nL 406.614133 223.355261 \r\nL 406.388198 223.132338 \r\nL 406.301589 222.911674 \r\nL 406.315899 222.596869 \r\nL 406.401754 222.343068 \r\nL 407.235765 221.174633 \r\nL 407.600396 220.81925 \r\nL 407.757249 220.734495 \r\nL 407.812525 220.157885 \r\nL 408.008103 219.93265 \r\nL 407.908087 219.603259 \r\nL 407.610693 219.253414 \r\nL 407.053632 218.949753 \r\nL 405.732555 219.395604 \r\nL 405.516956 219.521358 \r\nL 404.925003 219.665974 \r\nL 404.502754 219.880898 \r\nL 404.260367 219.875049 \r\nL 404.116962 219.740579 \r\nL 403.536332 219.55777 \r\nL 402.470897 216.477517 \r\nL 402.168865 215.887129 \r\nL 402.063752 215.474648 \r\nL 402.038648 215.0042 \r\nL 402.19499 214.447186 \r\nL 403.139542 212.884212 \r\nL 403.367687 212.582964 \r\nL 403.574945 212.435955 \r\nL 404.494756 212.121854 \r\nL 404.893769 212.050055 \r\nL 405.178097 212.074552 \r\nL 406.175601 212.419494 \r\nL 406.481791 212.285465 \r\nL 406.75661 212.247843 \r\nL 407.337963 212.420079 \r\nL 407.604147 211.796787 \r\nL 407.745855 211.523935 \r\nL 410.810468 212.627558 \r\nL 412.191106 211.461181 \r\nL 412.797934 210.851003 \r\nL 413.670233 209.924817 \r\nL 414.609156 208.69895 \r\nL 416.049544 206.908216 \r\nL 416.953933 205.609992 \r\nL 417.338656 205.4496 \r\nL 417.527826 205.230976 \r\nL 418.09742 204.721311 \r\nL 418.569595 204.181664 \r\nL 419.813387 202.841228 \r\nL 420.666627 201.848565 \r\nL 421.43875 200.825025 \r\nL 421.507655 200.669489 \r\nL 421.352596 200.491216 \r\nL 421.268335 200.201334 \r\nL 421.378192 200.4696 \r\nL 421.637142 200.772698 \r\nL 421.743662 200.730649 \r\nL 421.785036 200.767003 \r\nL 421.795262 200.807882 \r\nL 421.684869 200.852667 \r\nL 421.707553 200.940231 \r\nL 421.81479 200.912384 \r\nL 421.99065 200.957309 \r\nL 422.050226 200.894843 \r\nL 421.981802 200.812346 \r\nL 422.020718 200.774428 \r\nL 422.196809 200.912468 \r\nL 421.949955 201.173895 \r\nL 422.014966 201.236583 \r\nL 422.513334 200.683395 \r\nL 422.452422 200.630887 \r\nL 422.215533 200.898284 \r\nL 422.101574 200.763792 \r\nL 422.321307 200.517677 \r\nL 422.223882 200.432013 \r\nL 421.956199 200.727637 \r\nL 421.830884 200.710096 \r\nL 421.794021 200.671656 \r\nL 421.820066 200.56423 \r\nL 421.676741 200.470767 \r\nL 421.611218 200.259641 \r\nL 421.492685 200.21373 \r\nL 421.51013 200.17991 \r\nL 421.639793 200.238404 \r\nL 421.682279 200.36838 \r\nL 421.860052 200.323743 \r\nL 422.07925 200.037686 \r\nL 422.357992 199.799593 \r\nL 423.082844 199.017755 \r\nL 423.176779 198.926187 \r\nL 423.189157 198.916158 \r\nL 423.533214 198.640057 \r\nL 424.585553 197.678382 \r\nL 426.483748 195.419904 \r\nL 427.694968 193.767504 \r\nL 428.202117 193.148621 \r\nL 429.318718 191.565137 \r\nL 429.952179 190.573431 \r\nL 430.751425 188.978792 \r\nL 430.861644 188.893982 \r\nL 431.378928 188.12561 \r\nL 432.231016 186.656837 \r\nL 433.309729 184.554753 \r\nL 434.153828 183.144754 \r\nL 437.258207 176.748643 \r\nL 437.319674 176.775748 \r\nL 440.436944 178.181363 \r\nL 440.69137 178.289052 \r\nM 408.09097 228.115079 \r\nL 407.942715 228.275171 \r\nL 407.894228 228.235676 \r\nL 407.500875 228.692393 \r\nL 407.245985 228.986081 \r\nL 407.289383 229.028424 \r\nL 407.214589 229.37554 \r\nL 407.230476 229.601712 \r\nL 407.345341 229.767479 \r\nL 406.989288 229.599508 \r\nL 406.819444 229.806044 \r\nL 407.150663 230.089682 \r\nL 407.068216 230.18205 \r\nL 407.13833 230.248688 \r\nL 407.49509 229.839289 \r\nL 407.541815 229.930236 \r\nL 407.769339 229.982726 \r\nL 407.85252 229.849555 \r\nL 407.866628 230.112838 \r\nL 408.413239 230.652679 \r\nL 409.739303 231.351042 \r\nL 410.368885 231.637727 \r\nL 411.558908 232.448261 \r\nL 412.433456 232.902146 \r\nL 413.668048 233.474386 \r\nL 414.985422 234.36253 \r\nL 416.061114 234.78652 \r\nL 416.561414 234.843602 \r\nL 416.746786 234.981272 \r\nL 416.640096 235.069765 \r\nL 416.685582 235.109845 \r\nL 416.864198 234.952151 \r\nL 416.838906 235.067376 \r\nL 416.891 235.218174 \r\nL 418.343119 236.749606 \r\nL 418.395591 236.736659 \r\nL 418.371899 236.779958 \r\nL 418.508278 236.827531 \r\nL 419.094306 237.381165 \r\nL 420.031114 238.055999 \r\nL 420.163597 238.188554 \r\nL 420.064163 238.313222 \r\nL 420.194121 238.42508 \r\nL 420.268236 238.406815 \r\nL 420.07573 238.591049 \r\nL 420.138618 238.597907 \r\nL 420.210653 238.514814 \r\nL 420.285568 238.429783 \r\nL 420.296055 238.503761 \r\nL 421.164507 239.662528 \r\nL 421.327854 239.94261 \r\nL 422.009651 240.516604 \r\nL 422.423589 240.669933 \r\nL 422.450999 240.623893 \r\nL 422.556268 240.655779 \r\nL 422.420087 240.866994 \r\nL 422.472805 240.942306 \r\nL 422.528151 240.774245 \r\nL 422.612832 240.712286 \r\nL 422.988638 240.944729 \r\nL 423.421111 241.017388 \r\nL 423.653787 241.113454 \r\nL 424.960285 242.284885 \r\nL 425.6561 242.637918 \r\nL 426.428301 242.615504 \r\nL 427.107374 242.71386 \r\nL 428.02668 242.621298 \r\nL 429.214136 242.744792 \r\nL 429.414077 242.696869 \r\nL 429.611266 242.480731 \r\nL 429.699571 242.516975 \r\nL 429.888341 242.293492 \r\nL 430.01404 241.983791 \r\nL 429.926129 241.888389 \r\nL 429.954126 241.817409 \r\nL 430.106774 241.845566 \r\nL 430.157895 241.773382 \r\nL 430.535374 240.835756 \r\nL 430.327023 240.69304 \r\nL 430.45774 240.743369 \r\nL 430.537413 240.683728 \r\nL 430.590814 240.517664 \r\nL 429.304986 239.736784 \r\nL 429.249556 239.613402 \r\nL 428.438898 239.246298 \r\nL 427.032297 238.360151 \r\nL 424.914098 237.418473 \r\nL 423.176636 236.8045 \r\nL 423.541538 236.910307 \r\nL 423.572297 236.828857 \r\nL 423.16479 236.695817 \r\nL 423.14313 236.751369 \r\nL 422.735231 236.693223 \r\nL 421.667861 236.409625 \r\nL 421.022252 236.068964 \r\nL 420.465911 235.883047 \r\nL 419.808236 235.160024 \r\nL 419.649523 234.848183 \r\nL 419.320632 234.455726 \r\nL 419.29138 234.327385 \r\nL 419.414092 234.233163 \r\nL 419.850007 234.361954 \r\nL 420.418122 233.971717 \r\nL 420.361236 233.82533 \r\nL 419.918835 233.815323 \r\nL 419.280776 233.522508 \r\nL 418.757174 232.846193 \r\nL 418.750899 232.645623 \r\nL 418.479229 232.592519 \r\nL 418.095391 232.227544 \r\nL 417.620276 232.067782 \r\nL 417.411776 231.892916 \r\nL 416.964779 231.768518 \r\nL 416.38019 231.761988 \r\nL 416.161401 231.687922 \r\nL 415.642859 231.053695 \r\nL 415.170678 230.341666 \r\nL 414.937245 230.138525 \r\nL 414.744456 230.073108 \r\nL 414.683322 229.952776 \r\nL 414.663546 229.880342 \r\nL 414.513312 229.805903 \r\nL 413.935187 229.896775 \r\nL 413.648013 229.754878 \r\nL 413.447712 229.77865 \r\nL 413.360469 229.893532 \r\nL 413.359697 230.056011 \r\nL 413.254215 230.084856 \r\nL 413.201588 229.982105 \r\nL 412.91384 230.079724 \r\nL 413.245133 229.853036 \r\nL 413.193267 229.804009 \r\nL 413.056747 229.942334 \r\nL 413.013024 229.927533 \r\nL 413.006184 229.816816 \r\nL 412.843707 230.081302 \r\nL 412.688067 230.090408 \r\nL 412.700158 229.951583 \r\nL 412.830995 229.125936 \r\nL 412.736439 229.160711 \r\nL 412.674124 229.339158 \r\nL 412.704551 229.562925 \r\nL 412.666293 229.949795 \r\nL 412.653564 230.081246 \r\nL 412.436736 229.972073 \r\nL 412.433649 229.871858 \r\nL 412.334203 229.854521 \r\nL 412.303142 229.946512 \r\nL 412.223269 229.980018 \r\nL 412.379481 229.434702 \r\nL 412.128611 229.340313 \r\nL 412.006572 229.751702 \r\nL 412.110429 229.864562 \r\nL 412.087252 229.960404 \r\nL 411.910696 229.821716 \r\nL 411.977562 229.475428 \r\nL 411.833078 229.293452 \r\nL 411.651111 229.23382 \r\nL 411.263257 229.210235 \r\nL 411.004987 229.315053 \r\nL 410.474744 229.065469 \r\nL 409.162735 227.594807 \r\nL 409.022076 227.597587 \r\nL 408.09097 228.115079 \r\n\" style=\"fill:#08306b;stroke:#333333;stroke-width:0.6;\"/>\r\n    <path clip-path=\"url(#pab055609a1)\" d=\"M 371.531217 272.724472 \r\nL 373.463831 273.023277 \r\nL 373.816535 272.931917 \r\nL 373.514649 273.180837 \r\nL 373.576265 273.417756 \r\nL 373.814515 273.458813 \r\nL 373.984107 273.176415 \r\nL 373.964124 273.068232 \r\nL 374.009621 273.172747 \r\nL 373.907575 273.371856 \r\nL 374.046929 273.452729 \r\nL 374.915432 273.522896 \r\nL 374.563487 273.92902 \r\nL 374.584256 273.987641 \r\nL 374.806594 273.747422 \r\nL 374.851505 273.822599 \r\nL 374.680647 274.034464 \r\nL 374.793902 274.078398 \r\nL 374.922777 273.922185 \r\nL 375.148605 274.108264 \r\nL 375.271959 274.134629 \r\nL 375.319858 274.075575 \r\nL 374.939785 273.732195 \r\nL 374.937171 273.667836 \r\nL 375.588409 274.252644 \r\nL 375.57341 274.386597 \r\nL 376.001637 274.892848 \r\nL 376.285941 275.024018 \r\nL 377.455489 275.215346 \r\nL 377.505425 275.367249 \r\nL 377.926682 275.511787 \r\nL 378.026532 275.720699 \r\nL 378.524944 275.891781 \r\nL 379.664886 276.248573 \r\nL 380.416892 276.392975 \r\nL 381.091303 276.514424 \r\nL 381.320806 276.419994 \r\nL 381.492545 276.465563 \r\nL 381.731948 276.629768 \r\nL 382.734205 276.811597 \r\nL 382.961872 277.2062 \r\nL 382.956772 277.383208 \r\nL 383.093032 277.45045 \r\nL 383.126906 277.588671 \r\nL 383.325818 277.776208 \r\nL 383.879067 278.153549 \r\nL 384.469013 278.71136 \r\nL 384.590349 278.729522 \r\nL 385.003266 279.149022 \r\nL 385.595179 279.258529 \r\nL 386.299951 279.263466 \r\nL 387.351633 279.386756 \r\nL 387.377471 279.563919 \r\nL 387.18817 279.799346 \r\nL 387.127338 280.100269 \r\nL 387.365331 280.254558 \r\nL 387.988071 280.619374 \r\nL 388.172709 280.630393 \r\nL 388.112466 279.329689 \r\nL 388.257662 279.153819 \r\nL 389.395265 279.25365 \r\nL 389.609248 279.536526 \r\nL 389.99933 279.723081 \r\nL 390.119634 279.822214 \r\nL 390.761997 279.922974 \r\nL 390.570119 280.22389 \r\nL 390.569774 280.457303 \r\nL 391.05245 281.358667 \r\nL 391.16678 281.306069 \r\nL 390.976728 280.627829 \r\nL 391.049375 280.595742 \r\nL 391.115824 280.741175 \r\nL 391.167535 280.730917 \r\nL 391.137307 280.61705 \r\nL 391.152746 280.614037 \r\nL 391.210247 280.749499 \r\nL 391.200852 280.60407 \r\nL 391.23487 280.595053 \r\nL 391.198782 280.369286 \r\nL 391.031209 280.000504 \r\nL 391.281514 280.000247 \r\nL 391.240585 280.23358 \r\nL 391.358797 280.699015 \r\nL 391.411017 280.691954 \r\nL 391.481483 280.228565 \r\nL 391.433495 280.030066 \r\nL 391.676906 280.207124 \r\nL 391.915068 279.977335 \r\nL 391.932774 280.013297 \r\nL 391.746634 280.203556 \r\nL 392.035553 280.352514 \r\nL 391.994181 280.065274 \r\nL 392.033424 280.052049 \r\nL 392.09306 280.382163 \r\nL 392.38909 280.448281 \r\nL 392.454882 280.609478 \r\nL 392.870685 280.779192 \r\nL 393.277615 280.807843 \r\nL 393.796984 280.79268 \r\nL 393.87637 280.845372 \r\nL 393.963051 280.783819 \r\nL 394.511872 280.755522 \r\nL 394.740866 280.336576 \r\nL 394.990413 280.186116 \r\nL 395.111644 279.718971 \r\nL 395.649738 279.611343 \r\nL 395.725677 279.591429 \r\nL 395.745023 279.416267 \r\nL 395.80803 279.446702 \r\nL 395.772692 279.579099 \r\nL 396.147397 279.480834 \r\nL 396.548359 279.024831 \r\nL 397.081458 278.606995 \r\nL 397.908747 278.197977 \r\nL 399.182441 277.97719 \r\nL 399.525992 277.791301 \r\nL 399.964663 277.606172 \r\nL 400.672778 277.575285 \r\nL 400.711721 277.435723 \r\nL 400.68612 277.193514 \r\nL 400.928489 276.766849 \r\nL 400.976731 276.129871 \r\nL 401.271409 275.809446 \r\nL 401.310626 275.691551 \r\nL 401.15413 275.326606 \r\nL 401.141109 274.495617 \r\nL 401.441826 273.986315 \r\nL 401.423343 273.883112 \r\nL 401.528162 273.576482 \r\nL 401.759514 273.476644 \r\nL 402.907374 273.598708 \r\nL 403.108517 273.813048 \r\nL 404.521592 274.096987 \r\nL 404.65822 274.175237 \r\nL 404.520638 274.337946 \r\nL 404.586828 274.52768 \r\nL 404.650705 274.556213 \r\nL 404.877919 274.446191 \r\nL 404.891809 274.173054 \r\nL 404.908527 274.42666 \r\nL 405.075612 274.851331 \r\nL 405.351124 274.936099 \r\nL 405.550116 275.805458 \r\nL 405.711123 276.101934 \r\nL 405.608753 275.97238 \r\nL 405.563031 276.011358 \r\nL 405.663235 276.15484 \r\nL 405.606021 276.259199 \r\nL 405.665658 276.300773 \r\nL 405.749469 276.164873 \r\nL 405.828712 276.35452 \r\nL 405.82183 276.425104 \r\nL 405.999461 276.651449 \r\nL 406.295485 277.338777 \r\nL 406.642654 277.762541 \r\nL 406.885554 277.891088 \r\nL 409.050336 278.101043 \r\nL 409.46728 278.395864 \r\nL 409.640664 278.368387 \r\nL 409.724037 278.406867 \r\nL 409.876913 278.654426 \r\nL 410.682683 279.174317 \r\nL 410.647886 279.410887 \r\nL 410.698976 279.417069 \r\nL 410.700163 279.21056 \r\nL 410.975269 279.37551 \r\nL 411.21764 279.722957 \r\nL 411.753458 280.309587 \r\nL 412.178218 281.069033 \r\nL 411.82136 279.793015 \r\nL 410.804633 278.50696 \r\nL 410.96246 278.255294 \r\nL 411.193745 278.180608 \r\nL 412.021019 278.118986 \r\nL 412.405999 278.250246 \r\nL 413.275787 279.72585 \r\nL 413.77853 279.966083 \r\nL 413.390344 277.94212 \r\nL 413.659512 277.69392 \r\nL 414.80594 277.231024 \r\nL 414.941388 278.575895 \r\nL 415.499951 277.396962 \r\nL 416.038347 276.927805 \r\nL 417.028506 277.14955 \r\nL 418.849939 279.967024 \r\nL 414.35139 285.553641 \r\nL 414.220688 285.715953 \r\nL 413.795272 285.991366 \r\nL 412.6319 286.799814 \r\nL 409.428396 289.025729 \r\nL 409.29364 289.084824 \r\nL 409.285565 289.134223 \r\nL 409.191092 289.113026 \r\nL 409.194868 289.190848 \r\nL 409.140159 289.183864 \r\nL 409.126231 289.239721 \r\nL 408.375839 289.748449 \r\nL 408.189806 289.914031 \r\nL 407.821167 290.059854 \r\nL 407.872027 290.10866 \r\nL 407.524886 290.306974 \r\nL 407.381914 290.388997 \r\nL 407.22713 290.695414 \r\nL 406.964092 290.812232 \r\nL 405.921723 290.995575 \r\nL 405.765811 290.99854 \r\nL 405.552594 290.548007 \r\nL 405.273578 290.79349 \r\nL 404.937226 290.872503 \r\nL 404.746352 290.974193 \r\nL 404.59639 290.672205 \r\nL 404.518381 290.561793 \r\nL 404.155461 290.646598 \r\nL 404.115915 290.583625 \r\nL 403.501801 290.911098 \r\nL 403.124466 291.194549 \r\nL 403.097554 291.348002 \r\nL 402.615912 291.476389 \r\nL 402.319779 291.802552 \r\nL 402.195143 291.700897 \r\nL 401.964722 292.129053 \r\nL 401.694466 292.619668 \r\nL 401.618883 292.65224 \r\nL 401.538125 292.614577 \r\nL 401.244129 292.682137 \r\nL 400.721828 292.75035 \r\nL 400.325693 293.602322 \r\nL 399.969671 293.525108 \r\nL 399.534765 293.618385 \r\nL 399.266564 293.697317 \r\nL 399.298729 293.813518 \r\nL 398.820624 293.985945 \r\nL 398.530731 293.410469 \r\nL 398.403289 293.094158 \r\nL 398.13359 293.421782 \r\nL 397.899183 293.422942 \r\nL 397.747908 293.417797 \r\nL 397.680021 293.637959 \r\nL 397.50229 293.670143 \r\nL 397.661633 294.398753 \r\nL 397.444308 294.351474 \r\nL 397.187199 294.63402 \r\nL 396.451738 294.942194 \r\nL 396.215266 294.909745 \r\nL 396.063694 294.816828 \r\nL 395.961466 294.858719 \r\nL 395.967418 294.883444 \r\nL 395.639779 295.066818 \r\nL 395.607904 295.059106 \r\nL 395.573747 295.078291 \r\nL 395.505186 295.157489 \r\nL 395.417665 294.967574 \r\nL 395.411036 294.89852 \r\nL 395.390162 294.81808 \r\nL 395.061962 294.504186 \r\nL 394.943861 294.316985 \r\nL 395.310063 294.085608 \r\nL 395.79334 293.702773 \r\nL 396.009071 293.214477 \r\nL 395.820972 292.925578 \r\nL 395.721685 292.77649 \r\nL 395.70734 292.754949 \r\nL 395.704009 292.750395 \r\nL 394.467736 293.435689 \r\nL 394.099787 293.724071 \r\nL 393.925806 293.832788 \r\nL 393.753341 293.994722 \r\nL 393.524402 293.965584 \r\nL 393.283832 293.733049 \r\nL 392.614579 293.830226 \r\nL 392.173742 293.715686 \r\nL 392.078102 293.832693 \r\nL 391.585784 294.104271 \r\nL 391.202825 294.112241 \r\nL 390.509539 293.721284 \r\nL 390.224829 293.730326 \r\nL 390.209544 293.65018 \r\nL 390.098543 293.663511 \r\nL 390.133329 293.992606 \r\nL 389.757293 293.905913 \r\nL 389.625475 293.688334 \r\nL 389.22455 293.561906 \r\nL 389.12292 293.340603 \r\nL 389.097132 292.530532 \r\nL 389.074805 292.253512 \r\nL 389.148034 290.869178 \r\nL 389.185663 290.206103 \r\nL 389.608169 289.131253 \r\nL 388.948898 288.861942 \r\nL 388.478071 288.437392 \r\nL 388.190267 288.263661 \r\nL 388.138348 288.480654 \r\nL 387.881363 288.691147 \r\nL 387.438904 288.478699 \r\nL 387.006522 287.670445 \r\nL 386.790107 287.568192 \r\nL 386.742022 287.683919 \r\nL 384.858849 287.199741 \r\nL 384.599617 287.278236 \r\nL 384.575429 287.384111 \r\nL 384.257693 287.309117 \r\nL 384.165537 287.314784 \r\nL 383.969702 287.259165 \r\nL 382.932778 286.870735 \r\nL 382.679131 286.382293 \r\nL 382.19314 286.32007 \r\nL 381.883119 286.371878 \r\nL 381.813142 286.102774 \r\nL 380.596207 285.321855 \r\nL 379.689828 285.308496 \r\nL 379.61027 285.456378 \r\nL 379.447436 285.516369 \r\nL 378.460881 284.938185 \r\nL 378.162841 284.991508 \r\nL 378.033101 284.831861 \r\nL 377.994873 284.655468 \r\nL 377.744696 284.458273 \r\nL 377.611293 284.431654 \r\nL 376.181858 283.712796 \r\nL 376.247041 283.616891 \r\nL 376.123323 283.562697 \r\nL 375.843797 283.993967 \r\nL 375.523004 284.340178 \r\nL 375.959941 284.917064 \r\nL 375.657507 284.984174 \r\nL 375.601594 285.14067 \r\nL 375.681436 285.340594 \r\nL 375.539475 285.545329 \r\nL 375.413246 285.346391 \r\nL 375.276901 285.337283 \r\nL 375.168272 285.420541 \r\nL 374.8699 285.094188 \r\nL 374.899522 284.996081 \r\nL 374.543158 284.794146 \r\nL 374.526345 284.705584 \r\nL 374.298801 284.570027 \r\nL 374.102673 284.607524 \r\nL 373.980219 285.051577 \r\nL 373.857089 285.139174 \r\nL 373.81858 285.197618 \r\nL 373.678706 285.217382 \r\nL 373.433078 285.050382 \r\nL 373.010696 285.029584 \r\nL 372.928264 285.364523 \r\nL 372.631666 285.816385 \r\nL 372.344138 285.826765 \r\nL 372.058081 285.264566 \r\nL 371.146208 285.409497 \r\nL 371.274329 286.106273 \r\nL 371.870381 289.72703 \r\nL 371.841639 289.768559 \r\nL 368.990853 289.987696 \r\nL 366.715369 290.102611 \r\nL 366.488176 290.097066 \r\nL 366.321109 290.040915 \r\nL 366.328292 289.978455 \r\nL 366.067969 289.889921 \r\nL 365.529612 289.649123 \r\nL 365.206675 289.741044 \r\nL 365.084619 289.081228 \r\nL 365.030965 288.699316 \r\nL 364.826316 288.46775 \r\nL 364.637597 288.371018 \r\nL 364.564862 288.126899 \r\nL 364.488928 288.106876 \r\nL 364.187615 288.4177 \r\nL 363.912165 288.406618 \r\nL 363.647144 287.818469 \r\nL 363.231034 287.633951 \r\nL 363.084364 287.491037 \r\nL 362.729578 286.865385 \r\nL 362.665514 286.652514 \r\nL 362.574874 286.582966 \r\nL 362.301636 286.555147 \r\nL 362.043768 286.447884 \r\nL 361.87803 286.226565 \r\nL 361.85153 286.075068 \r\nL 361.8936 285.972881 \r\nL 362.145443 285.892517 \r\nL 362.280401 285.757644 \r\nL 362.204601 285.471378 \r\nL 362.237392 285.192732 \r\nL 362.118553 285.025134 \r\nL 361.556488 284.648143 \r\nL 361.3368 284.250943 \r\nL 361.296238 283.972381 \r\nL 361.387305 283.832185 \r\nL 361.677546 283.790807 \r\nL 362.103202 283.532171 \r\nL 362.02056 283.551242 \r\nL 361.126619 282.528306 \r\nL 360.836141 282.194842 \r\nL 361.141042 281.869417 \r\nL 362.672747 280.209748 \r\nL 362.574381 279.473455 \r\nL 361.971564 278.68562 \r\nL 361.964134 278.080772 \r\nL 362.062536 277.591983 \r\nL 361.896711 277.259393 \r\nL 361.873241 276.691299 \r\nL 361.731202 276.533309 \r\nL 361.7232 276.367877 \r\nL 361.732711 276.221473 \r\nL 361.89757 276.033966 \r\nL 362.349496 275.643157 \r\nL 362.471787 275.576196 \r\nL 362.509716 275.357929 \r\nL 362.520739 275.588748 \r\nL 362.622411 275.607576 \r\nL 362.634963 275.404234 \r\nL 362.583499 275.325156 \r\nL 362.666343 275.364068 \r\nL 362.675129 275.471387 \r\nL 362.828445 275.457112 \r\nL 363.935549 275.062665 \r\nL 364.574731 274.748166 \r\nL 365.208902 274.429798 \r\nL 365.799593 274.264703 \r\nL 365.980212 274.404612 \r\nL 366.202592 274.622117 \r\nL 366.999678 274.314286 \r\nL 367.495463 274.069929 \r\nL 367.632117 274.012407 \r\nL 368.646522 273.780911 \r\nL 369.628754 273.504921 \r\nL 370.076841 273.256907 \r\nL 370.435088 272.967885 \r\nL 370.65562 272.826363 \r\nL 371.531217 272.724472 \r\n\" style=\"fill:#f7fbff;stroke:#333333;stroke-width:0.6;\"/>\r\n    <path clip-path=\"url(#pab055609a1)\" d=\"M 384.233833 261.634991 \r\nL 384.453474 261.862103 \r\nL 384.105001 261.848329 \r\nL 383.927637 261.592441 \r\nL 383.967848 261.56738 \r\nL 384.233833 261.634991 \r\n\" style=\"fill:#f7fbff;stroke:#333333;stroke-width:0.6;\"/>\r\n    <path clip-path=\"url(#pab055609a1)\" d=\"M 383.556406 260.642459 \r\nL 383.558117 260.748914 \r\nL 383.424564 260.594274 \r\nL 383.556406 260.642459 \r\n\" style=\"fill:#f7fbff;stroke:#333333;stroke-width:0.6;\"/>\r\n    <path clip-path=\"url(#pab055609a1)\" d=\"M 385.101438 260.695437 \r\nL 384.943756 260.758783 \r\nL 384.82267 260.634772 \r\nL 385.115422 260.24013 \r\nL 385.164759 260.274299 \r\nL 384.982073 260.615662 \r\nL 385.011243 260.680872 \r\nL 385.101438 260.695437 \r\n\" style=\"fill:#f7fbff;stroke:#333333;stroke-width:0.6;\"/>\r\n    <path clip-path=\"url(#pab055609a1)\" d=\"M 383.41509 260.141315 \r\nL 383.355014 260.354137 \r\nL 383.282236 260.25935 \r\nL 383.309251 260.06732 \r\nL 383.36652 260.003377 \r\nL 383.41509 260.141315 \r\n\" style=\"fill:#f7fbff;stroke:#333333;stroke-width:0.6;\"/>\r\n    <path clip-path=\"url(#pab055609a1)\" d=\"M 389.158351 258.228178 \r\nL 389.097115 258.3217 \r\nL 388.660398 258.043953 \r\nL 388.727058 257.931641 \r\nL 389.020596 257.987728 \r\nL 389.234997 258.120129 \r\nL 389.158351 258.228178 \r\n\" style=\"fill:#f7fbff;stroke:#333333;stroke-width:0.6;\"/>\r\n    <path clip-path=\"url(#pab055609a1)\" d=\"M 388.728788 258.292932 \r\nL 388.661332 258.410508 \r\nL 388.434703 258.332339 \r\nL 388.001843 258.310724 \r\nL 387.750541 258.230264 \r\nL 387.709689 258.111412 \r\nL 387.778818 258.033834 \r\nL 388.551947 257.820255 \r\nL 388.615053 258.123609 \r\nL 388.728788 258.292932 \r\n\" style=\"fill:#f7fbff;stroke:#333333;stroke-width:0.6;\"/>\r\n    <path clip-path=\"url(#pab055609a1)\" d=\"M 383.6765 258.795891 \r\nL 383.305532 259.331055 \r\nL 383.175002 259.308347 \r\nL 383.113167 258.687683 \r\nL 382.849923 258.11682 \r\nL 382.806034 257.763249 \r\nL 382.936915 257.640949 \r\nL 383.252736 257.790115 \r\nL 383.624244 258.292045 \r\nL 383.6765 258.795891 \r\n\" style=\"fill:#f7fbff;stroke:#333333;stroke-width:0.6;\"/>\r\n    <path clip-path=\"url(#pab055609a1)\" d=\"M 382.406187 257.289726 \r\nL 382.380101 257.482712 \r\nL 382.295449 257.403897 \r\nL 382.274751 257.195584 \r\nL 382.069058 257.029895 \r\nL 382.223661 256.975705 \r\nL 382.406187 257.289726 \r\n\" style=\"fill:#f7fbff;stroke:#333333;stroke-width:0.6;\"/>\r\n    <path clip-path=\"url(#pab055609a1)\" d=\"M 381.821878 256.636769 \r\nL 381.863829 256.692172 \r\nL 382.143967 256.668322 \r\nL 382.212825 256.838631 \r\nL 382.02023 256.790898 \r\nL 381.752898 256.881847 \r\nL 381.821878 256.636769 \r\n\" style=\"fill:#f7fbff;stroke:#333333;stroke-width:0.6;\"/>\r\n    <path clip-path=\"url(#pab055609a1)\" d=\"M 399.793744 238.694479 \r\nL 399.605884 238.783741 \r\nL 398.482598 238.780812 \r\nL 398.391796 238.845952 \r\nL 398.300192 238.712045 \r\nL 398.299729 238.518882 \r\nL 398.520644 238.289431 \r\nL 398.820673 238.287647 \r\nL 399.300354 238.405261 \r\nL 399.775374 238.637477 \r\nL 399.793744 238.694479 \r\n\" style=\"fill:#f7fbff;stroke:#333333;stroke-width:0.6;\"/>\r\n    <path clip-path=\"url(#pab055609a1)\" d=\"M 401.030212 237.557473 \r\nL 401.198957 237.64109 \r\nL 401.508092 237.583857 \r\nL 401.662121 237.643148 \r\nL 401.505026 237.827765 \r\nL 400.887489 238.130769 \r\nL 400.864487 238.201719 \r\nL 400.797095 238.125202 \r\nL 400.800295 238.240695 \r\nL 400.757389 238.259607 \r\nL 400.711266 238.208507 \r\nL 400.317407 238.289704 \r\nL 400.076228 238.255408 \r\nL 399.997851 237.895111 \r\nL 400.011273 237.637118 \r\nL 400.386462 237.529037 \r\nL 401.030212 237.557473 \r\n\" style=\"fill:#f7fbff;stroke:#333333;stroke-width:0.6;\"/>\r\n    <path clip-path=\"url(#pab055609a1)\" d=\"M 405.128726 239.797965 \r\nL 404.949924 239.905097 \r\nL 404.520256 239.886749 \r\nL 404.296007 239.751741 \r\nL 403.950796 239.153827 \r\nL 403.781552 238.427322 \r\nL 403.531832 237.800656 \r\nL 402.963387 237.092281 \r\nL 402.709679 236.974607 \r\nL 402.836395 236.750348 \r\nL 403.004614 236.581995 \r\nL 403.652695 236.387686 \r\nL 403.863025 236.382502 \r\nL 403.986943 236.441825 \r\nL 403.89217 236.748149 \r\nL 403.895063 237.188434 \r\nL 404.307643 238.394915 \r\nL 404.640912 238.991604 \r\nL 405.17779 239.49884 \r\nL 405.128726 239.797965 \r\n\" style=\"fill:#f7fbff;stroke:#333333;stroke-width:0.6;\"/>\r\n    <path clip-path=\"url(#pab055609a1)\" d=\"M 393.840179 236.40134 \r\nL 393.673683 236.520152 \r\nL 393.801206 236.711913 \r\nL 393.771984 236.827722 \r\nL 393.511066 237.045763 \r\nL 393.485637 237.130081 \r\nL 393.361835 237.069962 \r\nL 393.69519 236.79985 \r\nL 393.70778 236.712516 \r\nL 393.509095 236.502571 \r\nL 393.084522 236.795614 \r\nL 393.006189 236.9122 \r\nL 393.1355 237.007695 \r\nL 393.058807 237.126339 \r\nL 392.841517 237.157288 \r\nL 392.813033 237.290977 \r\nL 392.853751 237.323625 \r\nL 392.726156 238.058952 \r\nL 392.771381 238.145027 \r\nL 392.715511 238.153059 \r\nL 392.707883 238.220484 \r\nL 392.991936 238.161059 \r\nL 393.037431 238.10021 \r\nL 393.372166 238.234739 \r\nL 393.561888 238.19549 \r\nL 393.774157 238.25248 \r\nL 394.054433 238.077815 \r\nL 394.103676 238.113515 \r\nL 393.958247 238.161619 \r\nL 393.951847 238.214013 \r\nL 394.053008 238.251053 \r\nL 394.113645 238.217543 \r\nL 394.091709 238.271628 \r\nL 394.290683 238.39566 \r\nL 394.387527 238.281944 \r\nL 394.112863 238.155936 \r\nL 394.146348 238.115507 \r\nL 394.602035 238.299541 \r\nL 395.824686 238.003547 \r\nL 396.76446 237.737351 \r\nL 396.907597 237.817553 \r\nL 397.027452 237.786829 \r\nL 396.889141 237.874687 \r\nL 396.989589 238.175968 \r\nL 397.172309 238.154516 \r\nL 397.216723 238.081105 \r\nL 397.495864 238.195055 \r\nL 397.810282 238.451318 \r\nL 397.786563 238.532652 \r\nL 398.006136 238.935035 \r\nL 398.139829 238.963641 \r\nL 398.285021 239.072298 \r\nL 398.40038 239.303537 \r\nL 398.390095 239.351908 \r\nL 398.353288 239.311611 \r\nL 398.320066 239.339684 \r\nL 398.446319 239.537176 \r\nL 398.552789 239.451876 \r\nL 398.527601 239.424496 \r\nL 398.428924 239.30104 \r\nL 398.464029 239.132574 \r\nL 398.794488 239.07032 \r\nL 398.910628 239.129749 \r\nL 398.98296 239.092785 \r\nL 399.315227 239.120814 \r\nL 400.393651 238.85842 \r\nL 400.454517 238.960567 \r\nL 401.550565 238.972982 \r\nL 401.798723 238.910882 \r\nL 402.231498 238.967532 \r\nL 402.363179 239.048895 \r\nL 402.145554 239.696086 \r\nL 402.249596 239.718786 \r\nL 402.451592 239.159378 \r\nL 402.712599 239.328323 \r\nL 402.739094 239.407578 \r\nL 402.611982 239.424573 \r\nL 402.756116 239.651073 \r\nL 402.964722 239.82146 \r\nL 402.974547 240.085097 \r\nL 403.086321 240.425459 \r\nL 402.930315 240.65749 \r\nL 403.514014 241.07344 \r\nL 404.514665 242.23188 \r\nL 404.779773 242.826252 \r\nL 404.994373 243.975397 \r\nL 405.387917 244.188835 \r\nL 405.476706 244.158423 \r\nL 405.789185 244.232635 \r\nL 405.855625 244.393381 \r\nL 405.973637 244.431251 \r\nL 406.666793 244.225029 \r\nL 406.916621 244.227796 \r\nL 407.506425 244.609252 \r\nL 407.643277 244.803732 \r\nL 408.22808 244.997157 \r\nL 408.49397 245.253141 \r\nL 408.675251 245.280545 \r\nL 408.999131 245.186113 \r\nL 409.109734 245.266786 \r\nL 408.872295 245.372822 \r\nL 408.869542 245.42886 \r\nL 409.28747 245.71664 \r\nL 409.438536 245.621278 \r\nL 409.501737 245.65441 \r\nL 409.443649 245.765817 \r\nL 409.66797 245.911313 \r\nL 409.78134 245.74187 \r\nL 409.813467 245.756204 \r\nL 409.716309 245.942666 \r\nL 409.997426 246.137042 \r\nL 411.157574 245.045026 \r\nL 411.494731 244.87476 \r\nL 411.536279 244.934087 \r\nL 411.914693 244.848638 \r\nL 411.993507 244.875663 \r\nL 411.952671 245.006092 \r\nL 412.041161 245.073282 \r\nL 412.198462 245.056838 \r\nL 412.244875 244.953994 \r\nL 412.467786 244.858244 \r\nL 412.417441 244.969673 \r\nL 412.550105 245.032962 \r\nL 412.638439 244.939091 \r\nL 412.956214 244.972341 \r\nL 412.996137 244.870776 \r\nL 413.484512 244.922396 \r\nL 413.763131 244.866785 \r\nL 414.21235 244.485582 \r\nL 414.333172 244.585466 \r\nL 414.263097 244.724143 \r\nL 414.223108 245.315793 \r\nL 414.69618 246.152294 \r\nL 415.244916 246.102871 \r\nL 415.38349 246.217346 \r\nL 414.889272 246.204114 \r\nL 414.861683 246.362137 \r\nL 414.595605 246.40485 \r\nL 414.601059 246.472756 \r\nL 415.449256 246.401035 \r\nL 415.797153 246.53419 \r\nL 415.986838 246.673097 \r\nL 415.614636 246.499784 \r\nL 414.751136 246.520742 \r\nL 414.712752 246.657993 \r\nL 414.604638 246.675416 \r\nL 414.612423 246.926146 \r\nL 415.806786 246.932252 \r\nL 415.961534 246.892274 \r\nL 416.005835 247.03762 \r\nL 415.959701 247.050133 \r\nL 415.853615 246.988038 \r\nL 415.652279 247.05576 \r\nL 415.421897 247.050654 \r\nL 415.168889 246.971157 \r\nL 414.91811 247.052583 \r\nL 414.862706 247.135242 \r\nL 414.885463 247.344167 \r\nL 415.062209 247.561637 \r\nL 415.461362 247.648007 \r\nL 415.797896 247.602982 \r\nL 415.92805 247.664271 \r\nL 415.827942 248.108791 \r\nL 416.235752 248.359289 \r\nL 416.501452 248.632435 \r\nL 416.632401 248.881378 \r\nL 416.671856 249.21295 \r\nL 416.760782 249.674455 \r\nL 417.018787 249.684953 \r\nL 416.776882 249.324911 \r\nL 417.092723 249.199066 \r\nL 417.81245 249.282857 \r\nL 417.989736 249.354956 \r\nL 418.201233 249.62999 \r\nL 418.989688 249.788705 \r\nL 419.197127 249.672588 \r\nL 419.499789 249.787998 \r\nL 418.870693 250.093885 \r\nL 417.987693 250.434328 \r\nL 417.360159 250.857317 \r\nL 416.867034 251.431376 \r\nL 416.459379 252.344372 \r\nL 416.380655 252.689489 \r\nL 416.344776 253.227542 \r\nL 416.381622 253.604986 \r\nL 416.468571 253.97413 \r\nL 416.689265 254.497855 \r\nL 416.892746 254.817888 \r\nL 418.777264 257.198254 \r\nL 419.053823 257.694776 \r\nL 419.249971 258.366264 \r\nL 419.281124 258.615715 \r\nL 419.238851 259.367187 \r\nL 419.057206 259.971312 \r\nL 418.154073 262.457887 \r\nL 418.071397 262.967704 \r\nL 418.072847 263.400893 \r\nL 418.452592 264.290144 \r\nL 418.797066 265.096796 \r\nL 421.030215 270.328389 \r\nL 421.694017 271.883212 \r\nL 421.065216 272.408832 \r\nL 420.880331 272.778697 \r\nL 421.205961 274.483597 \r\nL 421.157959 275.773052 \r\nL 421.004517 275.938115 \r\nL 421.133931 276.256263 \r\nL 421.484367 276.303432 \r\nL 421.539148 276.461919 \r\nL 421.719088 277.058116 \r\nL 419.456065 277.152443 \r\nL 419.516895 276.739276 \r\nL 419.481473 276.170881 \r\nL 418.725264 275.019932 \r\nL 417.765864 274.526682 \r\nL 417.41199 274.424305 \r\nL 417.09075 274.49114 \r\nL 416.888711 273.995905 \r\nL 416.698621 273.786202 \r\nL 416.571305 273.737102 \r\nL 416.491273 273.721943 \r\nL 416.293865 273.845777 \r\nL 415.96337 273.843759 \r\nL 415.910168 273.981574 \r\nL 415.657465 274.007143 \r\nL 415.489226 274.12824 \r\nL 414.886532 274.226204 \r\nL 414.899096 274.259478 \r\nL 413.780387 274.946849 \r\nL 413.590296 274.970405 \r\nL 413.521325 274.908382 \r\nL 412.600149 274.745822 \r\nL 412.24692 274.471422 \r\nL 411.445591 274.277429 \r\nL 411.39471 274.332505 \r\nL 411.206663 274.20019 \r\nL 411.180065 274.236574 \r\nL 411.0028 274.131859 \r\nL 410.505107 274.07852 \r\nL 409.784622 273.760956 \r\nL 408.781041 273.45084 \r\nL 408.690917 273.522606 \r\nL 408.278766 273.056701 \r\nL 407.971934 272.957248 \r\nL 407.956774 273.003101 \r\nL 407.83365 272.868669 \r\nL 407.551996 272.844156 \r\nL 406.870594 272.167862 \r\nL 406.908577 271.942675 \r\nL 406.573314 271.508606 \r\nL 406.710598 271.28088 \r\nL 406.851402 271.156919 \r\nL 406.823386 271.127225 \r\nL 406.054958 270.874535 \r\nL 405.677914 270.826809 \r\nL 405.751272 270.691873 \r\nL 405.750605 270.466059 \r\nL 405.744505 270.409603 \r\nL 405.645867 270.358105 \r\nL 405.540675 270.357687 \r\nL 405.482362 270.439934 \r\nL 405.49671 270.743779 \r\nL 405.325368 270.402969 \r\nL 404.622751 270.039047 \r\nL 404.528062 270.030971 \r\nL 404.387227 270.112175 \r\nL 404.351157 270.071924 \r\nL 404.470176 269.974525 \r\nL 404.615658 269.604446 \r\nL 404.338863 268.474074 \r\nL 404.207059 268.485135 \r\nL 404.175036 268.644348 \r\nL 404.253037 269.047703 \r\nL 404.258397 269.60366 \r\nL 404.16551 270.000958 \r\nL 403.941362 269.951008 \r\nL 403.983603 269.799826 \r\nL 403.92085 269.56981 \r\nL 403.749291 269.573908 \r\nL 403.751358 269.454312 \r\nL 403.493092 269.278321 \r\nL 403.083484 268.787583 \r\nL 402.787005 268.552254 \r\nL 402.685335 268.539518 \r\nL 402.338092 267.896449 \r\nL 402.154536 267.835141 \r\nL 402.117725 267.730726 \r\nL 401.946166 267.601708 \r\nL 401.028428 268.258279 \r\nL 400.283838 268.26553 \r\nL 399.201118 269.017029 \r\nL 399.142014 269.00514 \r\nL 398.909771 268.858742 \r\nL 398.6395 268.686126 \r\nL 398.628187 268.680703 \r\nL 398.533843 268.699247 \r\nL 398.441525 268.816225 \r\nL 398.547379 268.965181 \r\nL 398.610402 269.320307 \r\nL 398.33577 269.414578 \r\nL 398.459684 269.915763 \r\nL 398.597015 270.118541 \r\nL 398.615128 270.479786 \r\nL 398.149695 271.279206 \r\nL 397.967407 272.134659 \r\nL 397.913941 272.161102 \r\nL 397.924475 271.944274 \r\nL 397.856004 271.943079 \r\nL 397.810657 272.245425 \r\nL 397.619687 272.473592 \r\nL 397.644057 272.619332 \r\nL 397.415186 273.020604 \r\nL 396.870551 274.613653 \r\nL 396.390576 274.736799 \r\nL 395.795114 274.542859 \r\nL 395.531525 274.382849 \r\nL 395.245586 274.333268 \r\nL 394.947071 274.323616 \r\nL 394.652772 274.421677 \r\nL 394.478146 274.513364 \r\nL 394.292631 274.696735 \r\nL 394.239511 274.851359 \r\nL 394.058762 274.953948 \r\nL 393.380856 275.044787 \r\nL 392.637037 275.219252 \r\nL 391.679959 275.353199 \r\nL 391.439137 275.431105 \r\nL 391.385004 275.523362 \r\nL 391.332148 275.4515 \r\nL 391.343573 275.557662 \r\nL 391.313109 275.455805 \r\nL 391.054521 275.48992 \r\nL 390.0797 274.446286 \r\nL 389.637354 274.148506 \r\nL 389.546017 273.95033 \r\nL 388.639241 273.34484 \r\nL 388.780484 272.962612 \r\nL 388.75467 272.877569 \r\nL 388.68365 272.821273 \r\nL 387.936019 272.785316 \r\nL 387.299815 272.318106 \r\nL 386.990253 272.402406 \r\nL 386.589394 272.656011 \r\nL 385.961457 272.674306 \r\nL 385.620344 272.483216 \r\nL 385.615345 272.480208 \r\nL 385.349659 272.249229 \r\nL 385.063808 271.075451 \r\nL 384.903226 270.959405 \r\nL 384.895465 270.906854 \r\nL 384.759499 270.987586 \r\nL 384.631766 270.599278 \r\nL 384.370332 270.267029 \r\nL 384.285218 270.148383 \r\nL 383.215324 269.134947 \r\nL 382.777732 268.813897 \r\nL 382.417325 268.606828 \r\nL 382.327174 268.632175 \r\nL 382.145972 268.825885 \r\nL 382.097587 268.815485 \r\nL 382.295584 268.565168 \r\nL 382.379805 268.35658 \r\nL 382.88319 267.731535 \r\nL 383.162629 267.798168 \r\nL 384.066278 268.495835 \r\nL 384.197142 268.74799 \r\nL 383.851543 269.233517 \r\nL 383.973024 269.398319 \r\nL 384.428759 268.898578 \r\nL 384.936718 269.339756 \r\nL 385.009201 269.326173 \r\nL 385.212182 269.090602 \r\nL 384.587516 268.448844 \r\nL 385.577638 267.887287 \r\nL 385.463417 267.685201 \r\nL 384.71874 268.088078 \r\nL 384.420551 268.170581 \r\nL 384.423551 268.157067 \r\nL 384.448046 268.04893 \r\nL 384.406695 268.028941 \r\nL 384.113858 268.191803 \r\nL 383.299605 267.58565 \r\nL 383.340652 267.487227 \r\nL 384.390718 266.887549 \r\nL 384.529032 266.905615 \r\nL 384.664989 267.126593 \r\nL 384.773356 267.104379 \r\nL 384.905517 267.012408 \r\nL 384.827683 266.812477 \r\nL 384.955364 266.477956 \r\nL 385.22181 266.10532 \r\nL 385.128944 265.919591 \r\nL 385.049358 265.908354 \r\nL 384.775572 266.366833 \r\nL 384.712596 266.353139 \r\nL 384.506087 266.232423 \r\nL 384.195615 265.685396 \r\nL 384.118657 265.54735 \r\nL 383.868471 265.686317 \r\nL 383.992913 265.906276 \r\nL 384.175157 266.228853 \r\nL 384.22533 266.318708 \r\nL 384.255023 266.372751 \r\nL 384.023491 266.689738 \r\nL 382.87858 267.344968 \r\nL 382.740765 267.156274 \r\nL 382.584012 267.159518 \r\nL 382.35634 267.311019 \r\nL 382.396351 267.404336 \r\nL 382.342129 267.429209 \r\nL 382.233148 267.203195 \r\nL 381.997909 267.320323 \r\nL 382.169631 267.683497 \r\nL 382.003779 267.72598 \r\nL 381.890133 267.509978 \r\nL 381.805375 267.534337 \r\nL 381.775475 267.476843 \r\nL 381.436719 267.640288 \r\nL 381.320656 267.524197 \r\nL 381.284552 267.560364 \r\nL 381.038066 267.729863 \r\nL 380.875773 268.121267 \r\nL 380.90431 268.169023 \r\nL 381.107344 268.185083 \r\nL 381.598518 268.461605 \r\nL 381.565535 268.520565 \r\nL 381.152031 268.269725 \r\nL 380.882845 268.235735 \r\nL 380.552047 268.497633 \r\nL 380.444896 268.413256 \r\nL 380.159753 268.451417 \r\nL 379.903719 268.687739 \r\nL 379.881661 268.950654 \r\nL 379.787934 269.111275 \r\nL 379.271912 269.307234 \r\nL 379.076437 269.312352 \r\nL 378.872048 269.223012 \r\nL 378.676289 269.340517 \r\nL 378.66541 269.302645 \r\nL 378.631584 269.344706 \r\nL 378.369112 269.27856 \r\nL 378.068358 269.340835 \r\nL 377.739947 269.409808 \r\nL 377.273718 269.090319 \r\nL 377.204037 268.168645 \r\nL 376.953238 268.198925 \r\nL 376.962571 268.929673 \r\nL 377.001788 269.036902 \r\nL 376.961863 269.137863 \r\nL 376.845921 269.104173 \r\nL 376.946604 269.152332 \r\nL 376.905042 269.152626 \r\nL 376.907725 269.24773 \r\nL 377.199209 269.449763 \r\nL 376.978467 269.335455 \r\nL 376.806678 269.396711 \r\nL 376.661291 269.288394 \r\nL 376.477653 269.247535 \r\nL 376.015802 269.345765 \r\nL 375.965708 269.426195 \r\nL 375.818144 269.317833 \r\nL 375.574558 269.396255 \r\nL 375.546198 269.343567 \r\nL 375.502243 269.385604 \r\nL 375.545843 269.423678 \r\nL 375.535338 269.570723 \r\nL 375.488239 269.47869 \r\nL 375.103375 269.313323 \r\nL 375.030147 269.026198 \r\nL 374.543431 268.468023 \r\nL 374.267486 268.292852 \r\nL 373.979468 268.400932 \r\nL 373.950421 268.350613 \r\nL 374.013625 268.319318 \r\nL 373.958842 268.239582 \r\nL 373.748237 268.075702 \r\nL 373.719831 268.109085 \r\nL 373.483756 267.849101 \r\nL 372.819741 267.353203 \r\nL 372.375955 266.866845 \r\nL 371.676643 265.782634 \r\nL 371.414078 265.122775 \r\nL 370.489595 263.555725 \r\nL 369.730663 263.028561 \r\nL 369.432908 262.878579 \r\nL 368.115307 261.82832 \r\nL 367.524679 261.271123 \r\nL 367.063417 260.611327 \r\nL 366.939341 260.518633 \r\nL 366.803384 260.49599 \r\nL 366.641406 260.070392 \r\nL 366.542086 260.111989 \r\nL 366.420829 260.012718 \r\nL 366.394742 259.908452 \r\nL 366.523876 259.014107 \r\nL 366.618701 258.56267 \r\nL 366.763722 258.334772 \r\nL 367.898829 257.658822 \r\nL 368.191238 257.550121 \r\nL 370.126468 256.218365 \r\nL 371.07838 255.635916 \r\nL 371.847681 255.216296 \r\nL 373.217591 254.481059 \r\nL 374.439802 253.642251 \r\nL 375.918322 253.175481 \r\nL 376.382336 253.068388 \r\nL 376.500753 253.124706 \r\nL 378.057252 253.28106 \r\nL 378.929213 253.694916 \r\nL 379.474641 253.742538 \r\nL 379.736082 253.706137 \r\nL 381.930409 253.142628 \r\nL 382.860886 252.650428 \r\nL 382.965515 252.429657 \r\nL 383.097879 251.096642 \r\nL 383.012108 250.94352 \r\nL 382.629004 250.72431 \r\nL 382.476644 250.518448 \r\nL 382.535475 250.485928 \r\nL 382.667168 250.654331 \r\nL 382.96954 250.838573 \r\nL 383.047327 250.477167 \r\nL 382.886461 250.447901 \r\nL 382.829271 250.558987 \r\nL 382.78454 250.546891 \r\nL 382.775879 250.365107 \r\nL 382.663627 250.281063 \r\nL 382.38225 250.283091 \r\nL 382.093445 250.386209 \r\nL 382.053138 250.332461 \r\nL 382.427801 250.196572 \r\nL 383.03485 250.193024 \r\nL 383.341025 249.60852 \r\nL 384.050387 248.794254 \r\nL 384.118169 248.614686 \r\nL 384.044527 248.500362 \r\nL 384.041294 248.360522 \r\nL 384.128263 248.190239 \r\nL 384.335232 248.058754 \r\nL 384.48812 248.04187 \r\nL 384.507422 248.100933 \r\nL 384.340375 248.145165 \r\nL 384.119201 248.416502 \r\nL 384.321371 248.71122 \r\nL 384.426959 248.722672 \r\nL 384.702804 248.433991 \r\nL 384.574258 248.276133 \r\nL 384.588824 248.206268 \r\nL 384.774322 248.115825 \r\nL 385.131066 248.2361 \r\nL 385.186142 248.187939 \r\nL 385.508547 247.573626 \r\nL 385.493178 247.407055 \r\nL 385.504561 247.342545 \r\nL 385.31352 247.169333 \r\nL 385.245633 247.031647 \r\nL 385.365978 246.890535 \r\nL 385.646932 246.882371 \r\nL 385.744858 246.816785 \r\nL 385.749829 246.052144 \r\nL 385.563199 245.862363 \r\nL 385.19182 245.750752 \r\nL 384.958178 245.689156 \r\nL 384.256737 245.139491 \r\nL 383.627004 244.430986 \r\nL 383.154204 243.405639 \r\nL 382.986696 242.270384 \r\nL 383.028121 241.352948 \r\nL 383.198641 240.812846 \r\nL 383.682242 240.023107 \r\nL 384.311635 239.387172 \r\nL 385.539478 238.378839 \r\nL 386.0532 238.232599 \r\nL 386.97849 238.188811 \r\nL 387.167738 238.287465 \r\nL 388.417073 237.845894 \r\nL 388.650839 237.739773 \r\nL 389.145262 237.664382 \r\nL 390.336388 237.613479 \r\nL 390.945044 237.664194 \r\nL 392.112325 238.017688 \r\nL 392.323289 237.950614 \r\nL 392.561052 237.644389 \r\nL 392.596973 237.406342 \r\nL 392.487364 237.300472 \r\nL 392.648833 237.185559 \r\nL 392.54219 237.030846 \r\nL 392.71041 236.931358 \r\nL 392.825675 236.735379 \r\nL 393.102822 236.458294 \r\nL 393.629438 236.193536 \r\nL 393.840179 236.40134 \r\nM 391.409688 242.579537 \r\nL 390.932949 242.675524 \r\nL 390.815054 242.620715 \r\nL 390.481883 242.731964 \r\nL 390.225264 242.961977 \r\nL 390.003618 243.430144 \r\nL 390.090114 243.531483 \r\nL 390.448198 243.36195 \r\nL 391.163023 243.231993 \r\nL 391.300069 243.344456 \r\nL 391.165616 243.271347 \r\nL 390.450362 243.400437 \r\nL 389.712299 243.742476 \r\nL 388.939883 244.272774 \r\nL 387.873399 244.816851 \r\nL 387.925472 244.938294 \r\nL 388.139244 244.830719 \r\nL 388.077881 244.978338 \r\nL 387.563159 245.123049 \r\nL 387.329635 245.003717 \r\nL 386.635723 245.193196 \r\nL 385.907402 245.494612 \r\nL 385.937468 245.746792 \r\nL 385.834262 245.778276 \r\nL 385.829551 246.023821 \r\nL 385.771477 246.04116 \r\nL 385.783294 246.818007 \r\nL 385.865348 246.878731 \r\nL 386.132312 246.911112 \r\nL 386.176592 246.980498 \r\nL 386.116477 246.990535 \r\nL 386.015774 247.346721 \r\nL 386.049849 247.42008 \r\nL 385.708383 247.411302 \r\nL 385.63306 247.526686 \r\nL 385.549194 247.534682 \r\nL 385.171548 248.25422 \r\nL 385.312434 248.388435 \r\nL 385.185684 248.357912 \r\nL 385.094039 248.587244 \r\nL 385.237798 248.687644 \r\nL 385.365282 248.615088 \r\nL 385.411048 248.440711 \r\nL 385.413481 248.530739 \r\nL 385.473058 248.581955 \r\nL 385.278571 248.852259 \r\nL 384.832371 249.28453 \r\nL 385.156757 249.548519 \r\nL 385.321434 249.500036 \r\nL 385.786645 249.833609 \r\nL 386.225152 249.263112 \r\nL 385.71138 248.86803 \r\nL 385.83492 248.864136 \r\nL 386.260486 249.189134 \r\nL 386.284251 249.333124 \r\nL 385.648095 250.095927 \r\nL 384.763329 249.412896 \r\nL 384.470713 249.664009 \r\nL 384.648889 250.120382 \r\nL 384.421612 250.386 \r\nL 384.375089 250.328576 \r\nL 384.529535 250.175868 \r\nL 384.487472 250.022806 \r\nL 384.032822 249.643625 \r\nL 383.531829 250.244133 \r\nL 383.939798 250.640642 \r\nL 384.10435 250.616616 \r\nL 384.186654 250.537349 \r\nL 384.237457 250.587388 \r\nL 384.107662 250.704156 \r\nL 383.956228 250.721958 \r\nL 383.543038 250.427928 \r\nL 383.346652 250.377986 \r\nL 383.271145 250.584494 \r\nL 383.256434 250.910265 \r\nL 383.772736 250.938443 \r\nL 383.612181 250.98641 \r\nL 383.286581 250.965656 \r\nL 383.128936 251.099021 \r\nL 382.969125 252.560694 \r\nL 383.018495 252.583884 \r\nL 383.110545 252.901346 \r\nL 383.334842 252.830153 \r\nL 383.361196 252.65495 \r\nL 383.456663 252.67305 \r\nL 383.436999 252.888645 \r\nL 383.655025 252.916042 \r\nL 384.077145 252.750194 \r\nL 384.136929 252.885557 \r\nL 384.668113 253.237739 \r\nL 384.817338 253.259402 \r\nL 385.384136 253.177885 \r\nL 385.41167 253.266747 \r\nL 384.991869 253.334038 \r\nL 385.075042 253.567673 \r\nL 385.205775 253.622679 \r\nL 385.457589 253.589844 \r\nL 385.452871 253.461582 \r\nL 385.838611 253.540161 \r\nL 386.083268 253.508259 \r\nL 386.533892 253.273961 \r\nL 386.854463 253.343267 \r\nL 387.103919 253.157499 \r\nL 387.09676 253.059036 \r\nL 387.194223 253.090251 \r\nL 387.283876 253.023487 \r\nL 387.3467 253.086821 \r\nL 388.01426 253.086073 \r\nL 388.167906 252.889684 \r\nL 388.147195 252.822589 \r\nL 389.012942 253.097778 \r\nL 389.146114 253.000022 \r\nL 389.313462 252.681835 \r\nL 389.425465 252.605685 \r\nL 389.914067 252.615066 \r\nL 390.362261 252.541844 \r\nL 390.480991 252.385664 \r\nL 390.580149 252.384327 \r\nL 390.67287 252.317747 \r\nL 390.661674 252.271763 \r\nL 390.742776 252.26755 \r\nL 391.222979 252.266388 \r\nL 391.351854 252.322363 \r\nL 391.542897 252.278512 \r\nL 392.031135 252.604544 \r\nL 393.000457 252.284875 \r\nL 393.019591 252.352234 \r\nL 393.267941 252.359563 \r\nL 393.270144 252.274844 \r\nL 393.344603 252.428005 \r\nL 393.410233 252.516857 \r\nL 393.775099 252.53888 \r\nL 393.914931 252.461149 \r\nL 394.005503 252.485501 \r\nL 393.784673 252.567608 \r\nL 393.511111 252.556436 \r\nL 393.427381 252.600192 \r\nL 393.46716 252.698202 \r\nL 393.747471 252.639228 \r\nL 394.007568 252.680959 \r\nL 394.06303 252.533273 \r\nL 394.056451 252.698051 \r\nL 394.375159 252.809488 \r\nL 394.769577 252.905492 \r\nL 395.205528 253.385351 \r\nL 395.328663 253.244942 \r\nL 398.266263 249.909298 \r\nL 397.142325 249.569038 \r\nL 397.045622 249.454274 \r\nL 397.84724 248.764604 \r\nL 398.609983 248.110109 \r\nL 399.001135 248.086056 \r\nL 399.561074 247.898194 \r\nL 399.101716 247.976691 \r\nL 399.010513 248.037033 \r\nL 398.607335 248.047421 \r\nL 398.491106 248.133945 \r\nL 397.819051 248.697913 \r\nL 397.279813 249.137827 \r\nL 397.214808 249.098369 \r\nL 396.92181 249.429888 \r\nL 396.708507 249.501764 \r\nL 396.659282 249.627645 \r\nL 396.752374 248.404888 \r\nL 396.42906 247.83194 \r\nL 396.540933 247.695442 \r\nL 396.404637 247.003802 \r\nL 396.136468 246.88884 \r\nL 395.810364 246.277273 \r\nL 395.895269 245.866932 \r\nL 395.301634 245.198838 \r\nL 394.64677 244.661583 \r\nL 394.067256 244.850373 \r\nL 394.162521 244.764556 \r\nL 393.954645 244.638808 \r\nL 393.806326 244.674567 \r\nL 393.94225 244.800194 \r\nL 393.670102 244.610322 \r\nL 392.498239 244.057661 \r\nL 392.230498 243.955122 \r\nL 392.074006 243.963289 \r\nL 391.675408 243.655052 \r\nL 392.083619 243.92461 \r\nL 392.431292 243.984464 \r\nL 392.576715 243.623904 \r\nL 392.52327 243.276471 \r\nL 392.070001 242.734753 \r\nL 391.788482 242.591746 \r\nL 391.409688 242.579537 \r\nM 410.322511 246.195414 \r\nL 410.243214 246.276244 \r\nL 410.192019 246.234208 \r\nL 410.157326 246.272935 \r\nL 410.561699 246.56344 \r\nL 410.437526 246.501602 \r\nL 410.414053 246.535246 \r\nL 410.547012 246.629269 \r\nL 410.64325 246.813925 \r\nL 410.872785 247.099876 \r\nL 410.641625 247.531515 \r\nL 410.692673 247.36669 \r\nL 410.556927 247.301713 \r\nL 410.360338 247.645349 \r\nL 410.315454 247.744166 \r\nL 410.439711 247.843693 \r\nL 410.58702 247.626029 \r\nL 410.279939 248.205148 \r\nL 409.878583 248.575405 \r\nL 409.436162 248.716971 \r\nL 408.574491 249.76397 \r\nL 408.028897 250.098691 \r\nL 407.655676 250.215611 \r\nL 407.179837 249.87132 \r\nL 406.446724 250.269721 \r\nL 406.171324 250.515554 \r\nL 405.814328 250.54594 \r\nL 404.942422 250.951291 \r\nL 404.555554 251.226928 \r\nL 404.33221 251.268342 \r\nL 403.336408 251.178393 \r\nL 402.948297 251.520323 \r\nL 401.77385 251.551483 \r\nL 401.390083 251.316099 \r\nL 401.360453 251.215364 \r\nL 400.516418 250.373359 \r\nL 400.387832 250.405664 \r\nL 399.975729 249.400702 \r\nL 399.80294 249.368969 \r\nL 399.855413 249.245939 \r\nL 399.67571 249.220287 \r\nL 399.296651 249.888348 \r\nL 399.190327 249.983578 \r\nL 399.008562 250.025865 \r\nL 399.068511 249.78685 \r\nL 398.608642 249.763985 \r\nL 398.504175 249.980089 \r\nL 398.27824 249.912924 \r\nL 395.340526 253.249741 \r\nL 395.21682 253.399095 \r\nL 395.495866 253.749755 \r\nL 395.661877 254.079837 \r\nL 395.983338 254.961546 \r\nL 396.437873 255.596556 \r\nL 396.491926 255.662966 \r\nL 396.589097 255.637738 \r\nL 396.657876 255.466499 \r\nL 396.723759 255.649028 \r\nL 396.840784 255.652309 \r\nL 396.475207 255.749029 \r\nL 396.508976 255.895157 \r\nL 396.740991 255.852179 \r\nL 396.798889 255.795145 \r\nL 396.813933 255.952309 \r\nL 396.756233 255.878548 \r\nL 396.710328 255.899166 \r\nL 396.762234 256.30717 \r\nL 396.969527 256.742896 \r\nL 397.037466 256.818896 \r\nL 397.135977 256.822678 \r\nL 397.141699 256.872786 \r\nL 396.988823 256.914749 \r\nL 396.980528 257.196947 \r\nL 396.653186 257.400081 \r\nL 395.375782 257.663161 \r\nL 395.296446 257.847828 \r\nL 394.829563 258.543071 \r\nL 394.881362 258.751123 \r\nL 395.139255 258.761329 \r\nL 394.89363 258.8004 \r\nL 394.907531 258.856231 \r\nL 395.076282 258.858532 \r\nL 394.917681 258.897001 \r\nL 394.964237 259.083993 \r\nL 395.023183 259.260945 \r\nL 395.994042 258.998016 \r\nL 396.269351 258.994467 \r\nL 396.575082 259.15842 \r\nL 397.030412 259.188002 \r\nL 397.219284 258.935463 \r\nL 397.611352 258.929172 \r\nL 397.975727 258.723833 \r\nL 398.359501 258.911536 \r\nL 398.802633 258.914605 \r\nL 398.942427 258.968773 \r\nL 399.17918 259.527208 \r\nL 398.875257 259.5707 \r\nL 398.991644 259.639586 \r\nL 399.326648 260.249302 \r\nL 399.773846 260.895168 \r\nL 399.993026 260.820289 \r\nL 400.318718 260.64154 \r\nL 400.703431 260.521523 \r\nL 400.698344 260.451246 \r\nL 400.877151 260.362122 \r\nL 401.792896 260.698337 \r\nL 401.973574 260.773443 \r\nL 401.967932 260.686024 \r\nL 403.015595 261.095275 \r\nL 403.276458 261.321729 \r\nL 403.399601 261.355861 \r\nL 403.492415 261.322498 \r\nL 403.655423 261.455084 \r\nL 403.892843 261.373771 \r\nL 403.902942 261.554989 \r\nL 403.850676 261.649868 \r\nL 403.843486 261.992645 \r\nL 403.908843 262.125022 \r\nL 403.963304 262.124184 \r\nL 403.964142 261.940281 \r\nL 403.868624 261.931065 \r\nL 403.854379 261.772087 \r\nL 404.008061 261.715096 \r\nL 404.04748 262.209024 \r\nL 404.075101 262.196485 \r\nL 404.114669 261.663369 \r\nL 403.976009 261.398113 \r\nL 404.049108 261.399948 \r\nL 404.101532 261.524562 \r\nL 404.185933 261.533942 \r\nL 404.532153 261.751125 \r\nL 404.578797 261.595387 \r\nL 404.842021 261.696851 \r\nL 405.066591 262.374317 \r\nL 405.295185 262.458575 \r\nL 405.313246 262.527861 \r\nL 406.176072 263.127249 \r\nL 406.458957 263.434548 \r\nL 406.762246 263.488288 \r\nL 407.046871 263.372265 \r\nL 407.184217 263.432559 \r\nL 407.384927 263.701829 \r\nL 407.422605 263.880426 \r\nL 407.287563 263.777428 \r\nL 407.296366 263.685824 \r\nL 407.149954 263.496563 \r\nL 407.11964 263.518883 \r\nL 407.195333 263.879847 \r\nL 407.336807 263.923581 \r\nL 407.449479 264.030471 \r\nL 407.414671 264.067936 \r\nL 407.208696 263.930271 \r\nL 407.195579 264.052482 \r\nL 407.277536 264.132762 \r\nL 407.168365 264.057362 \r\nL 407.108468 264.094338 \r\nL 407.230667 264.522716 \r\nL 407.203238 264.709208 \r\nL 407.273546 264.707089 \r\nL 407.390347 264.848584 \r\nL 407.466991 265.126165 \r\nL 407.402661 265.455934 \r\nL 407.312474 265.618502 \r\nL 407.220983 265.676628 \r\nL 407.356225 265.881944 \r\nL 407.477458 266.341651 \r\nL 407.571578 266.410629 \r\nL 407.704866 266.514949 \r\nL 408.275545 267.363686 \r\nL 408.590177 267.842281 \r\nL 408.851479 268.128054 \r\nL 409.107648 268.162783 \r\nL 409.684555 269.439447 \r\nL 410.214162 269.583497 \r\nL 411.690775 270.570039 \r\nL 411.918094 270.507118 \r\nL 412.054033 270.633983 \r\nL 412.287426 271.06007 \r\nL 412.674954 271.108808 \r\nL 412.773032 271.021256 \r\nL 413.017536 271.019698 \r\nL 413.187156 271.044479 \r\nL 413.629804 270.914756 \r\nL 413.981915 270.629148 \r\nL 414.333101 270.489516 \r\nL 415.498099 269.785114 \r\nL 415.897054 269.891312 \r\nL 416.024165 269.844178 \r\nL 416.148674 270.030228 \r\nL 416.486864 270.093003 \r\nL 416.743206 270.047892 \r\nL 417.009989 270.391369 \r\nL 417.390092 270.471308 \r\nL 417.595573 270.372399 \r\nL 417.68582 270.570704 \r\nL 417.857102 270.504704 \r\nL 417.966981 270.574012 \r\nL 418.137777 270.543051 \r\nL 418.23308 270.391228 \r\nL 418.032232 268.484926 \r\nL 418.235805 267.756239 \r\nL 417.957195 265.213043 \r\nL 417.886652 264.939687 \r\nL 417.710281 264.751949 \r\nL 415.285284 263.670297 \r\nL 415.035202 263.371733 \r\nL 415.002623 262.975115 \r\nL 414.579365 262.751863 \r\nL 414.317176 262.494579 \r\nL 414.277008 262.281976 \r\nL 414.400175 262.548549 \r\nL 414.827636 262.780582 \r\nL 415.059934 262.806438 \r\nL 415.087794 262.747597 \r\nL 414.908748 262.652154 \r\nL 414.883603 262.578202 \r\nL 414.5899 262.477985 \r\nL 414.739551 262.413592 \r\nL 415.127704 262.592419 \r\nL 415.271046 262.273766 \r\nL 414.777705 261.84661 \r\nL 414.482443 261.445193 \r\nL 413.751733 261.397665 \r\nL 413.580557 261.299176 \r\nL 413.355493 261.51095 \r\nL 413.166448 261.574953 \r\nL 412.99133 261.567657 \r\nL 412.566528 261.063352 \r\nL 411.997379 261.285023 \r\nL 411.459487 261.293838 \r\nL 410.821639 261.191278 \r\nL 410.437373 261.205683 \r\nL 410.343253 261.075965 \r\nL 410.197393 261.132749 \r\nL 409.838947 261.145237 \r\nL 409.772799 261.126571 \r\nL 409.748706 260.95804 \r\nL 408.944876 260.869404 \r\nL 408.92828 261.075416 \r\nL 408.557743 260.867975 \r\nL 408.39539 260.618787 \r\nL 408.515792 260.44047 \r\nL 408.321436 260.362112 \r\nL 408.187236 260.218619 \r\nL 408.054251 260.233361 \r\nL 407.947906 260.115527 \r\nL 407.660117 259.400915 \r\nL 407.755465 259.174244 \r\nL 407.72902 259.086926 \r\nL 407.424692 258.820978 \r\nL 407.179125 258.740131 \r\nL 406.977348 258.170768 \r\nL 405.937577 257.970069 \r\nL 405.851326 257.85303 \r\nL 405.567502 257.739866 \r\nL 405.768947 257.229712 \r\nL 405.750423 257.065432 \r\nL 405.531203 256.80974 \r\nL 405.300119 256.578728 \r\nL 404.639437 256.249443 \r\nL 404.153134 255.678794 \r\nL 403.12739 255.587851 \r\nL 402.744771 255.104473 \r\nL 402.813686 254.45283 \r\nL 403.025599 254.039086 \r\nL 403.172024 253.871208 \r\nL 403.485728 253.721334 \r\nL 403.521592 253.747842 \r\nL 403.458643 253.81862 \r\nL 404.086448 253.776224 \r\nL 404.023053 253.697879 \r\nL 404.407875 253.524351 \r\nL 404.623053 253.645511 \r\nL 405.150104 253.363328 \r\nL 405.40079 253.465095 \r\nL 406.313581 252.838594 \r\nL 406.395031 252.692604 \r\nL 406.458033 252.739448 \r\nL 406.692101 252.72243 \r\nL 406.74298 252.68472 \r\nL 406.863433 252.748565 \r\nL 407.383679 252.223279 \r\nL 407.936194 252.150952 \r\nL 408.055964 251.957704 \r\nL 408.395835 251.9139 \r\nL 408.769913 251.775601 \r\nL 409.351966 251.966147 \r\nL 409.460619 251.887673 \r\nL 410.533574 252.151242 \r\nL 410.685847 252.258135 \r\nL 410.716281 252.532764 \r\nL 410.788272 252.535902 \r\nL 411.027592 252.761356 \r\nL 410.974456 252.808026 \r\nL 410.804896 252.659959 \r\nL 410.768829 252.698966 \r\nL 410.891218 252.898817 \r\nL 410.964286 252.963556 \r\nL 411.09271 252.819898 \r\nL 411.165192 252.884932 \r\nL 411.511189 253.012948 \r\nL 412.252258 253.058135 \r\nL 413.063143 252.940897 \r\nL 413.37431 252.865909 \r\nL 413.66733 252.888322 \r\nL 413.786827 252.962147 \r\nL 414.116616 252.902335 \r\nL 414.482321 252.741663 \r\nL 415.093803 252.679149 \r\nL 415.25643 252.732701 \r\nL 415.326748 252.507211 \r\nL 415.299868 252.428419 \r\nL 414.953885 252.35796 \r\nL 415.282974 252.110149 \r\nL 415.538407 251.579366 \r\nL 415.289351 251.487542 \r\nL 415.015601 251.548933 \r\nL 414.66998 251.865087 \r\nL 414.417435 251.727586 \r\nL 414.26919 251.923312 \r\nL 413.99318 251.96693 \r\nL 413.2145 251.853139 \r\nL 412.798324 251.902729 \r\nL 412.166958 251.873104 \r\nL 411.618986 250.647237 \r\nL 411.576304 250.606044 \r\nL 411.389158 250.678108 \r\nL 411.277646 250.529115 \r\nL 411.291296 250.414795 \r\nL 411.041773 250.104403 \r\nL 410.781111 250.050862 \r\nL 410.715065 250.101412 \r\nL 410.50611 249.95769 \r\nL 410.438383 249.76244 \r\nL 410.39058 249.129457 \r\nL 410.51326 248.884447 \r\nL 410.34881 248.734779 \r\nL 410.49026 248.779191 \r\nL 410.534687 248.707752 \r\nL 410.401084 248.647228 \r\nL 410.46882 248.647563 \r\nL 410.840815 248.866673 \r\nL 410.756689 248.626785 \r\nL 410.97674 248.345429 \r\nL 411.612177 247.730726 \r\nL 411.846494 247.593666 \r\nL 412.103341 247.599715 \r\nL 412.954482 247.732929 \r\nL 413.709531 247.997009 \r\nL 414.999799 248.698474 \r\nL 416.583155 249.669852 \r\nL 416.608293 249.240125 \r\nL 416.448081 248.735158 \r\nL 416.076705 248.343329 \r\nL 415.57893 248.075976 \r\nL 415.419132 248.310658 \r\nL 415.274831 248.333071 \r\nL 414.225029 247.611053 \r\nL 414.19005 247.545855 \r\nL 414.425571 247.183068 \r\nL 414.316161 247.054561 \r\nL 414.25369 247.058204 \r\nL 413.941751 247.461192 \r\nL 413.004806 247.211894 \r\nL 413.060548 247.026335 \r\nL 413.592775 247.007957 \r\nL 414.304975 246.875142 \r\nL 414.577237 246.927184 \r\nL 414.56078 246.676986 \r\nL 414.206187 246.715659 \r\nL 414.146719 246.563682 \r\nL 413.973181 246.538171 \r\nL 413.36083 246.558746 \r\nL 412.998767 246.727877 \r\nL 413.36251 246.535366 \r\nL 414.566577 246.446817 \r\nL 414.428278 246.416337 \r\nL 414.423007 246.375377 \r\nL 414.196804 246.372832 \r\nL 414.497346 246.197954 \r\nL 414.456789 245.957763 \r\nL 414.23043 245.507883 \r\nL 414.088157 245.293104 \r\nL 413.967672 245.244648 \r\nL 413.839522 245.011804 \r\nL 413.37991 245.333495 \r\nL 413.110137 245.17025 \r\nL 411.136966 245.45159 \r\nL 410.884452 245.545296 \r\nL 410.859227 245.63285 \r\nL 410.695564 245.738806 \r\nL 410.591074 245.716902 \r\nL 410.236493 246.100635 \r\nL 410.322511 246.195414 \r\nM 384.385385 262.287993 \r\nL 384.132662 261.928699 \r\nL 384.650904 261.909275 \r\nL 384.689815 261.87915 \r\nL 384.778007 261.854551 \r\nL 384.780378 261.866874 \r\nL 384.722858 261.94338 \r\nL 384.728848 262.099776 \r\nL 384.837357 262.111442 \r\nL 384.823387 261.923887 \r\nL 384.795317 261.88937 \r\nL 384.790546 261.850605 \r\nL 384.830626 261.83334 \r\nL 384.833505 261.805435 \r\nL 384.791604 261.764029 \r\nL 384.651701 261.853015 \r\nL 384.486165 261.831441 \r\nL 384.242533 261.529396 \r\nL 384.714142 261.376726 \r\nL 384.917273 261.205885 \r\nL 385.291093 260.918308 \r\nL 385.478002 260.8337 \r\nL 385.658751 260.776463 \r\nL 385.849611 260.817276 \r\nL 385.794434 260.70452 \r\nL 385.654142 260.672008 \r\nL 385.593912 260.567408 \r\nL 385.702328 260.122103 \r\nL 386.029554 259.60365 \r\nL 386.104644 259.237732 \r\nL 386.243049 259.056036 \r\nL 387.035244 258.597463 \r\nL 387.25504 258.656439 \r\nL 387.310775 258.457085 \r\nL 387.527369 258.305268 \r\nL 388.186586 258.534016 \r\nL 388.436672 258.489381 \r\nL 388.606216 258.720394 \r\nL 388.604178 258.851961 \r\nL 389.312783 258.853936 \r\nL 390.066942 259.044985 \r\nL 390.642787 258.939483 \r\nL 390.936677 258.611987 \r\nL 391.428874 258.42553 \r\nL 391.5186 258.453208 \r\nL 391.512279 258.340811 \r\nL 391.573327 258.471534 \r\nL 391.573579 258.360539 \r\nL 391.64607 258.448257 \r\nL 391.69309 258.433212 \r\nL 391.671517 258.263926 \r\nL 391.755841 258.381649 \r\nL 391.904841 258.369638 \r\nL 391.910629 258.539443 \r\nL 391.946284 258.535564 \r\nL 391.976054 258.344906 \r\nL 391.933148 258.332969 \r\nL 391.939092 258.221147 \r\nL 392.058003 258.316445 \r\nL 392.529179 258.32219 \r\nL 392.928257 258.440113 \r\nL 393.554207 258.842859 \r\nL 393.587443 259.097602 \r\nL 393.797717 259.282715 \r\nL 394.521942 259.411743 \r\nL 394.894388 259.312377 \r\nL 394.848972 259.105967 \r\nL 394.816576 258.944295 \r\nL 394.616654 258.929595 \r\nL 394.652322 258.822734 \r\nL 394.457817 258.847288 \r\nL 394.443877 258.790148 \r\nL 394.106762 258.779937 \r\nL 393.660158 258.267437 \r\nL 393.514935 258.205292 \r\nL 393.516153 258.01848 \r\nL 393.018006 257.542422 \r\nL 392.760922 257.496333 \r\nL 392.261476 257.548685 \r\nL 392.226225 257.613863 \r\nL 391.578722 257.769248 \r\nL 391.594408 257.804072 \r\nL 391.468571 257.859101 \r\nL 391.447949 257.980757 \r\nL 391.301868 257.660756 \r\nL 391.196163 257.700305 \r\nL 391.327775 258.01716 \r\nL 391.252506 258.064953 \r\nL 391.085139 257.818617 \r\nL 391.070195 257.642814 \r\nL 390.957351 257.630534 \r\nL 390.921321 257.630731 \r\nL 391.248286 258.150001 \r\nL 391.166302 258.14307 \r\nL 391.096547 258.202764 \r\nL 390.968563 258.331776 \r\nL 390.811444 258.355014 \r\nL 390.363193 258.186096 \r\nL 389.755184 258.040316 \r\nL 389.730591 258.092818 \r\nL 388.954607 257.613752 \r\nL 388.085327 257.530303 \r\nL 388.08495 257.587063 \r\nL 387.987189 257.520882 \r\nL 386.392498 258.358843 \r\nL 385.956766 258.841167 \r\nL 384.940514 259.520494 \r\nL 384.746882 259.734115 \r\nL 384.332011 260.437164 \r\nL 384.240899 260.504242 \r\nL 384.140879 260.490521 \r\nL 383.975604 260.317442 \r\nL 383.85845 259.600502 \r\nL 384.095043 258.836738 \r\nL 383.925445 258.249544 \r\nL 383.25901 257.306659 \r\nL 383.483028 257.138798 \r\nL 383.769616 256.684011 \r\nL 384.086707 256.241516 \r\nL 384.057084 256.216412 \r\nL 383.903448 256.360321 \r\nL 383.726028 256.679241 \r\nL 383.498138 257.04628 \r\nL 383.449003 257.016187 \r\nL 383.287429 257.124589 \r\nL 383.324585 257.202052 \r\nL 383.12262 257.216966 \r\nL 382.571249 256.814531 \r\nL 382.189489 256.376836 \r\nL 381.662209 256.09623 \r\nL 381.093282 255.85982 \r\nL 380.980024 255.781691 \r\nL 380.854584 255.577649 \r\nL 380.774569 255.276476 \r\nL 380.784638 255.106834 \r\nL 380.513659 254.56497 \r\nL 380.40414 254.189522 \r\nL 380.433085 254.019864 \r\nL 380.575266 253.949995 \r\nL 380.53125 253.766292 \r\nL 380.210446 253.819067 \r\nL 379.814531 253.972543 \r\nL 379.479657 254.128203 \r\nL 379.344755 254.260294 \r\nL 379.359172 254.707986 \r\nL 379.303873 254.93591 \r\nL 379.372038 255.111678 \r\nL 379.331993 255.260569 \r\nL 379.471211 255.582652 \r\nL 380.062634 256.227489 \r\nL 380.02578 256.344175 \r\nL 380.145951 256.492422 \r\nL 380.001604 256.459323 \r\nL 380.007804 256.515675 \r\nL 380.182676 256.549161 \r\nL 380.756372 256.942809 \r\nL 380.934451 256.976394 \r\nL 380.736718 256.955432 \r\nL 380.395299 256.783642 \r\nL 380.34052 256.850398 \r\nL 380.627021 257.067865 \r\nL 380.751574 257.087698 \r\nL 380.768098 257.03942 \r\nL 380.971855 257.123867 \r\nL 380.976457 257.081502 \r\nL 380.985469 257.136534 \r\nL 381.166621 257.2072 \r\nL 381.356247 257.505291 \r\nL 381.729355 257.820355 \r\nL 381.949 257.878681 \r\nL 381.604518 258.06491 \r\nL 381.650609 258.087493 \r\nL 382.011881 257.889619 \r\nL 382.130808 258.120278 \r\nL 381.873343 258.44341 \r\nL 381.79704 258.710087 \r\nL 381.888813 258.737731 \r\nL 381.980337 258.441767 \r\nL 382.185778 258.214834 \r\nL 382.488281 258.930576 \r\nL 382.662386 259.573016 \r\nL 382.81996 260.092313 \r\nL 383.110401 260.684173 \r\nL 383.77303 261.590305 \r\nL 383.966771 261.759805 \r\nL 384.050691 261.92077 \r\nL 384.005857 261.927413 \r\nL 383.956904 262.010256 \r\nL 384.042407 262.181129 \r\nL 384.1381 262.127379 \r\nL 384.121457 261.980357 \r\nL 384.326184 262.322706 \r\nL 384.385385 262.287993 \r\n\" style=\"fill:#f7fbff;stroke:#333333;stroke-width:0.6;\"/>\r\n    <path clip-path=\"url(#pab055609a1)\" d=\"M 443.133722 243.022489 \r\nL 441.393934 243.498031 \r\nL 441.241968 243.608565 \r\nL 440.430953 243.823033 \r\nL 439.804207 243.805288 \r\nL 439.78914 243.943841 \r\nL 439.70932 243.963531 \r\nL 439.655469 243.751176 \r\nL 439.739721 243.613288 \r\nL 440.437151 243.438931 \r\nL 441.580683 243.112124 \r\nL 442.061792 243.121456 \r\nL 442.730978 242.884777 \r\nL 443.36606 242.817641 \r\nL 443.430807 242.855503 \r\nL 443.133722 243.022489 \r\n\" style=\"fill:#4090c5;stroke:#333333;stroke-width:0.6;\"/>\r\n    <path clip-path=\"url(#pab055609a1)\" d=\"M 465.015675 270.892471 \r\nL 464.944324 270.897633 \r\nL 464.911581 270.781603 \r\nL 465.027241 270.767086 \r\nL 465.015675 270.892471 \r\n\" style=\"fill:#4090c5;stroke:#333333;stroke-width:0.6;\"/>\r\n    <path clip-path=\"url(#pab055609a1)\" d=\"M 464.455118 270.997353 \r\nL 464.361631 271.010779 \r\nL 464.308783 270.844964 \r\nL 464.389156 270.760776 \r\nL 464.366181 270.739 \r\nL 464.486305 270.571736 \r\nL 464.54887 270.583415 \r\nL 464.497613 270.647087 \r\nL 464.531326 270.69065 \r\nL 464.426208 270.784003 \r\nL 464.526779 270.862212 \r\nL 464.455118 270.997353 \r\n\" style=\"fill:#4090c5;stroke:#333333;stroke-width:0.6;\"/>\r\n    <path clip-path=\"url(#pab055609a1)\" d=\"M 461.037109 273.606046 \r\nL 461.096168 273.655635 \r\nL 461.018679 273.682078 \r\nL 461.047522 273.752186 \r\nL 460.873435 273.787035 \r\nL 460.83998 273.720657 \r\nL 460.929443 273.620462 \r\nL 460.989237 273.655426 \r\nL 461.037109 273.606046 \r\n\" style=\"fill:#4090c5;stroke:#333333;stroke-width:0.6;\"/>\r\n    <path clip-path=\"url(#pab055609a1)\" d=\"M 465.221813 271.610436 \r\nL 465.140282 271.62055 \r\nL 465.136885 271.464585 \r\nL 465.228493 271.458655 \r\nL 465.221813 271.610436 \r\n\" style=\"fill:#4090c5;stroke:#333333;stroke-width:0.6;\"/>\r\n    <path clip-path=\"url(#pab055609a1)\" d=\"M 465.050562 271.267303 \r\nL 465.046416 271.358223 \r\nL 464.948793 271.3329 \r\nL 464.955122 271.145443 \r\nL 465.044576 271.143081 \r\nL 465.050562 271.267303 \r\n\" style=\"fill:#4090c5;stroke:#333333;stroke-width:0.6;\"/>\r\n    <path clip-path=\"url(#pab055609a1)\" d=\"M 465.316125 271.165795 \r\nL 465.227392 271.174704 \r\nL 465.222677 271.033123 \r\nL 465.295545 271.03096 \r\nL 465.316125 271.165795 \r\n\" style=\"fill:#4090c5;stroke:#333333;stroke-width:0.6;\"/>\r\n    <path clip-path=\"url(#pab055609a1)\" d=\"M 464.975607 271.068789 \r\nL 464.959363 271.128184 \r\nL 464.927464 271.115366 \r\nL 464.913393 271.069842 \r\nL 464.975607 271.068789 \r\n\" style=\"fill:#4090c5;stroke:#333333;stroke-width:0.6;\"/>\r\n    <path clip-path=\"url(#pab055609a1)\" d=\"M 504.741604 231.103523 \r\nL 505.088138 231.130962 \r\nL 505.372781 231.011412 \r\nL 505.591007 230.760926 \r\nL 505.76241 230.303667 \r\nL 505.819942 230.215246 \r\nL 505.994666 230.046695 \r\nL 506.212503 229.944159 \r\nL 506.848286 229.915536 \r\nL 507.431094 229.875149 \r\nL 508.219212 229.709644 \r\nL 508.816738 229.882137 \r\nL 509.357784 230.170766 \r\nL 510.116832 230.722025 \r\nL 510.401475 230.810264 \r\nL 510.645943 230.807495 \r\nL 511.255405 230.772312 \r\nL 511.654405 230.945295 \r\nL 511.845565 231.14045 \r\nL 512.00101 231.457259 \r\nL 512.221294 232.184142 \r\nL 512.485795 232.709409 \r\nL 512.721317 233.038071 \r\nL 513.106058 233.40563 \r\nL 513.437668 233.575098 \r\nL 513.810727 233.62297 \r\nL 514.576241 233.752525 \r\nL 515.096638 234.114775 \r\nL 515.279955 234.354074 \r\nL 515.663577 235.125454 \r\nL 515.904575 235.323755 \r\nL 516.249149 235.451146 \r\nL 516.948267 235.469872 \r\nL 517.462679 235.676003 \r\nL 517.612434 235.776338 \r\nL 517.853413 236.089732 \r\nL 518.190174 236.686232 \r\nL 518.484391 237.117955 \r\nL 518.909911 237.443219 \r\nL 519.320292 237.636955 \r\nL 520.064232 237.827448 \r\nL 520.743508 237.838102 \r\nL 521.454827 237.697288 \r\nL 522.693362 237.370947 \r\nL 523.480709 237.270107 \r\nL 524.850284 237.117449 \r\nL 525.487559 237.060078 \r\nL 526.29567 237.227506 \r\nL 526.711971 237.472424 \r\nL 526.736184 237.49309 \r\nL 527.289834 238.040898 \r\nL 527.352958 238.359427 \r\nL 527.430081 238.923251 \r\nL 527.576058 239.451789 \r\nL 527.589776 239.567004 \r\nL 527.688317 240.318263 \r\nL 527.85806 240.646663 \r\nL 528.242126 240.974253 \r\nL 528.622723 241.169385 \r\nL 529.439753 241.407764 \r\nL 529.929533 241.425854 \r\nL 530.869335 241.580512 \r\nL 531.721858 241.859913 \r\nL 532.056126 242.040127 \r\nL 532.293452 242.309475 \r\nL 532.350504 242.575636 \r\nL 532.364233 243.311609 \r\nL 532.703872 244.632003 \r\nL 532.737257 244.762808 \r\nL 532.839623 245.205359 \r\nL 532.922911 245.84701 \r\nL 532.900284 246.699801 \r\nL 532.859101 247.176006 \r\nL 532.865673 247.77395 \r\nL 532.959706 248.257867 \r\nL 533.134231 248.620408 \r\nL 533.443061 248.988734 \r\nL 533.738937 249.196324 \r\nL 534.10221 249.326738 \r\nL 535.0197 249.915515 \r\nL 535.57987 250.448757 \r\nL 536.607388 251.48005 \r\nL 536.786277 251.802531 \r\nL 536.86722 252.089603 \r\nL 536.894157 253.711329 \r\nL 537.045837 254.257196 \r\nL 537.341649 254.683016 \r\nL 537.524561 254.882763 \r\nL 537.870454 255.458156 \r\nL 537.942377 255.722996 \r\nL 537.924465 255.98572 \r\nL 537.824526 256.515897 \r\nL 537.832393 257.012372 \r\nL 538.073512 257.618625 \r\nL 538.517148 258.161951 \r\nL 538.406365 258.249678 \r\nL 538.283784 258.105713 \r\nL 538.171197 258.140579 \r\nL 538.26855 258.271349 \r\nL 538.04464 258.359617 \r\nL 537.806005 258.201422 \r\nL 537.610066 258.271994 \r\nL 537.506511 258.358636 \r\nL 537.570344 258.488728 \r\nL 537.440407 258.818036 \r\nL 536.544827 257.665131 \r\nL 536.10153 257.31907 \r\nL 535.676329 256.987445 \r\nL 535.620292 256.943741 \r\nL 535.541693 256.98579 \r\nL 534.759326 257.394701 \r\nL 533.597762 257.929526 \r\nL 532.219119 258.372172 \r\nL 531.10741 258.736741 \r\nL 529.949733 258.846547 \r\nL 529.214619 258.916274 \r\nL 528.208631 258.060514 \r\nL 526.853296 257.812191 \r\nL 524.702514 257.42799 \r\nL 525.351466 261.764476 \r\nL 525.580628 263.288481 \r\nL 525.687555 263.99501 \r\nL 526.232171 265.275536 \r\nL 526.98511 269.690185 \r\nL 527.203335 270.063913 \r\nL 527.22991 270.108789 \r\nL 527.311783 270.247062 \r\nL 527.316406 270.254871 \r\nL 527.533672 270.622237 \r\nL 529.068696 273.211812 \r\nL 530.211402 275.180178 \r\nL 530.96691 276.561385 \r\nL 530.306934 277.156243 \r\nL 530.164014 277.285064 \r\nL 528.64008 278.658647 \r\nL 528.555635 278.733747 \r\nL 527.47706 279.702549 \r\nL 527.241245 279.906511 \r\nL 526.965282 279.990446 \r\nL 526.826667 280.033326 \r\nL 526.180754 280.232054 \r\nL 524.975188 280.600459 \r\nL 521.547282 281.643864 \r\nL 520.412505 281.994261 \r\nL 520.372076 282.006753 \r\nL 519.688387 282.217895 \r\nL 518.828163 282.483516 \r\nL 518.751006 282.507165 \r\nL 516.621531 283.164275 \r\nL 515.834207 283.407136 \r\nL 513.877474 284.011535 \r\nL 512.54561 285.848206 \r\nL 512.026856 286.606494 \r\nL 510.839769 288.402225 \r\nL 510.683174 290.988098 \r\nL 510.682337 290.999804 \r\nL 510.378483 293.066785 \r\nL 509.280385 293.446901 \r\nL 508.765157 293.625264 \r\nL 508.758373 293.425435 \r\nL 506.885668 293.975508 \r\nL 506.514465 293.826735 \r\nL 506.226503 291.926378 \r\nL 506.138942 291.48745 \r\nL 506.252485 290.816561 \r\nL 506.210698 290.443105 \r\nL 506.301738 290.148081 \r\nL 506.253103 290.11726 \r\nL 506.261182 289.84441 \r\nL 506.296704 289.845164 \r\nL 506.337509 289.59052 \r\nL 506.255532 289.520641 \r\nL 506.287169 289.396902 \r\nL 506.222857 289.14955 \r\nL 505.451957 288.671634 \r\nL 504.396768 287.55822 \r\nL 503.754566 286.744672 \r\nL 503.539999 286.140876 \r\nL 503.539555 286.140513 \r\nL 501.492997 285.637293 \r\nL 501.371031 285.620066 \r\nL 501.383337 285.780406 \r\nL 501.143346 285.970374 \r\nL 501.014218 286.169044 \r\nL 500.96661 286.546656 \r\nL 500.526434 286.889333 \r\nL 500.169773 287.268093 \r\nL 498.643887 287.529088 \r\nL 498.566611 287.900594 \r\nL 498.418587 288.170994 \r\nL 498.375406 288.17088 \r\nL 498.082665 288.138817 \r\nL 497.031524 289.622149 \r\nL 495.609803 289.127911 \r\nL 492.312302 288.199066 \r\nL 492.286115 288.57487 \r\nL 492.180816 288.786531 \r\nL 492.077965 289.25548 \r\nL 491.864862 289.43399 \r\nL 491.671504 289.538919 \r\nL 490.258398 289.496773 \r\nL 489.000982 289.703698 \r\nL 486.814184 289.13891 \r\nL 485.143908 289.710919 \r\nL 484.354611 288.980212 \r\nL 485.436445 285.081265 \r\nL 485.365471 285.034 \r\nL 482.666403 283.233799 \r\nL 482.421695 283.476154 \r\nL 482.0242 283.505614 \r\nL 480.865807 283.95609 \r\nL 480.174571 284.529826 \r\nL 478.30513 283.976528 \r\nL 478.141893 280.674783 \r\nL 477.784363 280.308938 \r\nL 477.331647 279.736104 \r\nL 477.146662 279.157147 \r\nL 474.162045 275.72833 \r\nL 475.777296 272.672505 \r\nL 476.213139 271.996334 \r\nL 476.382528 271.740895 \r\nL 474.79831 267.732417 \r\nL 474.684375 267.501623 \r\nL 472.78408 267.528711 \r\nL 472.532979 267.526846 \r\nL 472.369642 267.149125 \r\nL 472.307804 267.133826 \r\nL 472.351222 267.097344 \r\nL 472.006898 266.655075 \r\nL 472.091741 266.610604 \r\nL 472.15514 266.048852 \r\nL 472.163537 265.897573 \r\nL 472.064187 265.895922 \r\nL 472.070049 265.847778 \r\nL 471.69897 265.825547 \r\nL 471.625921 265.979505 \r\nL 470.97932 266.39367 \r\nL 470.596536 267.060917 \r\nL 470.219994 267.389568 \r\nL 470.026892 267.977413 \r\nL 470.007062 268.394187 \r\nL 470.19469 268.748445 \r\nL 470.187712 268.87387 \r\nL 470.1426 268.991985 \r\nL 470.220412 269.109742 \r\nL 470.188978 269.32942 \r\nL 469.84594 269.844241 \r\nL 469.782078 270.313999 \r\nL 469.37999 270.734172 \r\nL 467.050293 272.651613 \r\nL 464.773264 275.407927 \r\nL 464.704327 275.018636 \r\nL 464.474608 275.117584 \r\nL 464.526512 275.34303 \r\nL 464.698579 275.472072 \r\nL 464.242144 275.654091 \r\nL 463.773554 275.504366 \r\nL 464.036024 275.319689 \r\nL 464.483819 275.318172 \r\nL 464.463894 275.219189 \r\nL 464.397886 275.141737 \r\nL 464.120672 275.164746 \r\nL 463.935331 275.121185 \r\nL 464.039199 274.932432 \r\nL 463.535028 274.744536 \r\nL 463.56098 274.679791 \r\nL 463.432025 274.495854 \r\nL 463.501504 274.244303 \r\nL 463.269071 274.016704 \r\nL 463.245535 273.935929 \r\nL 463.139372 273.939169 \r\nL 463.113914 273.929496 \r\nL 463.192916 273.724695 \r\nL 463.125278 273.669997 \r\nL 463.049783 273.895204 \r\nL 462.875758 273.859 \r\nL 462.888009 273.656631 \r\nL 463.04023 273.661912 \r\nL 463.082467 273.549569 \r\nL 462.994231 273.508496 \r\nL 462.918754 273.577136 \r\nL 462.949343 273.492499 \r\nL 462.872462 273.430117 \r\nL 462.711088 273.554207 \r\nL 462.758122 273.62633 \r\nL 462.778825 273.718815 \r\nL 462.681519 273.743145 \r\nL 462.637442 273.620972 \r\nL 462.521652 273.615832 \r\nL 462.132436 273.34473 \r\nL 462.012471 273.383719 \r\nL 461.941461 273.353727 \r\nL 461.954863 273.220396 \r\nL 461.752511 273.231352 \r\nL 461.756008 273.357599 \r\nL 461.641227 273.337764 \r\nL 461.539102 273.453072 \r\nL 461.449593 273.480411 \r\nL 461.404792 273.335698 \r\nL 461.12734 273.409342 \r\nL 461.14559 273.459531 \r\nL 461.082371 273.528984 \r\nL 460.975053 273.501925 \r\nL 460.80701 273.604087 \r\nL 460.643126 273.755281 \r\nL 460.658545 273.833133 \r\nL 460.782392 273.913372 \r\nL 460.714733 274.001833 \r\nL 460.655542 273.937977 \r\nL 460.263384 273.857698 \r\nL 460.208066 273.78561 \r\nL 460.219217 273.586895 \r\nL 460.073347 273.610051 \r\nL 459.694127 273.464479 \r\nL 459.561055 273.446742 \r\nL 459.480849 273.609172 \r\nL 458.880932 273.4135 \r\nL 457.713037 273.548504 \r\nL 456.004502 273.843675 \r\nL 455.810406 273.924736 \r\nL 455.754946 273.813115 \r\nL 455.563536 273.975728 \r\nL 454.970588 273.649506 \r\nL 454.803286 273.458792 \r\nL 454.642069 273.427005 \r\nL 454.513425 273.496877 \r\nL 454.371309 273.340672 \r\nL 454.412299 273.191834 \r\nL 454.342798 273.159461 \r\nL 454.202853 272.83918 \r\nL 454.312151 272.281146 \r\nL 454.083149 271.692042 \r\nL 454.152038 271.657032 \r\nL 454.203374 271.701616 \r\nL 454.579389 271.578047 \r\nL 455.40166 271.490377 \r\nL 455.478708 271.535025 \r\nL 455.564153 271.756932 \r\nL 455.905701 271.918996 \r\nL 456.045733 271.939962 \r\nL 456.301919 271.856903 \r\nL 456.564427 271.990598 \r\nL 456.658549 271.911865 \r\nL 456.791653 272.063184 \r\nL 456.834035 272.143807 \r\nL 457.09058 272.153022 \r\nL 457.606889 272.387532 \r\nL 457.669155 272.535372 \r\nL 457.975056 272.503636 \r\nL 458.056301 272.597723 \r\nL 458.023769 272.711674 \r\nL 458.487896 272.860007 \r\nL 458.456348 272.929613 \r\nL 458.568251 273.005826 \r\nL 458.613373 272.920493 \r\nL 458.700904 272.961215 \r\nL 458.623116 273.098305 \r\nL 458.67844 273.125363 \r\nL 458.762635 272.993925 \r\nL 459.015727 272.582457 \r\nL 458.985496 272.568655 \r\nL 458.803323 272.655754 \r\nL 458.762171 272.749084 \r\nL 458.470245 272.773669 \r\nL 458.27216 272.706799 \r\nL 458.215152 272.584087 \r\nL 458.140695 272.590421 \r\nL 458.16417 272.470147 \r\nL 457.930804 271.215013 \r\nL 458.000448 271.138904 \r\nL 457.842192 269.810317 \r\nL 458.188363 269.574596 \r\nL 458.511326 268.888259 \r\nL 458.644682 268.768784 \r\nL 458.844574 269.033553 \r\nL 459.034971 268.959037 \r\nL 459.212892 268.717967 \r\nL 458.844299 268.471677 \r\nL 458.692927 268.483951 \r\nL 458.753665 267.774459 \r\nL 458.938033 267.265001 \r\nL 458.984752 266.6611 \r\nL 459.088724 266.429528 \r\nL 458.811011 266.298718 \r\nL 458.259142 266.312399 \r\nL 458.00096 266.274525 \r\nL 457.724004 266.172699 \r\nL 457.662177 265.859879 \r\nL 457.483467 265.545747 \r\nL 457.537785 265.328746 \r\nL 457.496637 265.130623 \r\nL 457.342414 264.929505 \r\nL 456.708476 264.65149 \r\nL 456.491293 264.629191 \r\nL 456.469111 264.546516 \r\nL 456.163975 264.412698 \r\nL 456.075101 264.431813 \r\nL 456.011907 264.384706 \r\nL 455.945917 264.394117 \r\nL 455.913854 264.431672 \r\nL 455.849054 264.543982 \r\nL 455.828699 264.515095 \r\nL 455.769964 264.533897 \r\nL 455.741654 264.564146 \r\nL 455.537707 264.469634 \r\nL 455.432263 264.48998 \r\nL 455.360967 264.393367 \r\nL 455.228631 264.411549 \r\nL 455.079384 263.933124 \r\nL 454.692112 263.839826 \r\nL 454.685519 263.849341 \r\nL 454.629094 263.837385 \r\nL 454.631494 263.8228 \r\nL 454.62064 263.82058 \r\nL 453.713431 264.102278 \r\nL 453.631253 264.251429 \r\nL 453.601827 264.33518 \r\nL 453.405569 264.311683 \r\nL 453.397967 264.29283 \r\nL 453.228606 264.368874 \r\nL 452.978337 264.696361 \r\nL 453.046936 264.829241 \r\nL 453.02591 264.941742 \r\nL 452.920532 265.196705 \r\nL 452.833463 265.32639 \r\nL 452.814667 265.452847 \r\nL 451.98296 265.863113 \r\nL 451.662121 266.033457 \r\nL 451.366836 266.572165 \r\nL 451.088652 267.131612 \r\nL 450.782206 267.380986 \r\nL 450.839957 267.613893 \r\nL 449.938244 267.805697 \r\nL 449.90454 267.898831 \r\nL 449.989985 267.964841 \r\nL 449.67484 268.44793 \r\nL 449.671886 268.54171 \r\nL 449.25364 269.40783 \r\nL 448.814189 269.452092 \r\nL 447.499434 270.181737 \r\nL 447.683586 272.070476 \r\nL 447.339102 272.088608 \r\nL 446.80643 272.206298 \r\nL 446.498163 272.003484 \r\nL 446.1601 272.368498 \r\nL 445.804926 272.510632 \r\nL 445.554143 272.402427 \r\nL 445.322937 272.182597 \r\nL 445.070354 272.091103 \r\nL 442.894983 271.624285 \r\nL 442.315345 271.487367 \r\nL 441.935314 271.481085 \r\nL 441.918224 271.422186 \r\nL 441.425063 271.320148 \r\nL 438.818803 272.32694 \r\nL 438.487916 269.526536 \r\nL 439.721388 267.029257 \r\nL 439.074945 266.062695 \r\nL 435.674096 266.554457 \r\nL 435.250888 266.451158 \r\nL 435.003711 266.449612 \r\nL 434.681647 266.658448 \r\nL 434.393564 266.999683 \r\nL 434.350962 267.103974 \r\nL 434.230513 267.192817 \r\nL 434.218202 267.205487 \r\nL 434.207771 267.190592 \r\nL 433.710882 267.325377 \r\nL 433.047937 267.405944 \r\nL 432.754133 267.432074 \r\nL 432.746564 267.437339 \r\nL 429.335801 269.202587 \r\nL 428.92083 269.426125 \r\nL 428.781732 269.327462 \r\nL 428.698423 269.527654 \r\nL 428.586655 269.586183 \r\nL 428.553726 269.687839 \r\nL 429.033738 269.857625 \r\nL 429.391153 269.742903 \r\nL 429.681371 270.192891 \r\nL 429.713972 270.324252 \r\nL 429.609268 270.44328 \r\nL 429.598552 270.892592 \r\nL 429.82267 270.924034 \r\nL 429.711052 271.307405 \r\nL 429.402783 271.206548 \r\nL 429.38758 271.31734 \r\nL 429.539382 271.31298 \r\nL 429.511972 271.502841 \r\nL 429.572087 271.801195 \r\nL 429.317314 271.750195 \r\nL 429.259841 272.07519 \r\nL 429.207082 272.054102 \r\nL 428.802077 272.405711 \r\nL 429.302072 273.758439 \r\nL 429.308185 273.774979 \r\nL 431.908154 277.306469 \r\nL 431.466221 277.69754 \r\nL 431.640605 277.869855 \r\nL 431.773598 278.114843 \r\nL 431.870207 278.4879 \r\nL 431.244555 278.334248 \r\nL 430.282074 278.865609 \r\nL 429.615891 279.233719 \r\nL 429.065953 279.358664 \r\nL 428.763561 279.449224 \r\nL 428.73151 279.356024 \r\nL 428.382086 279.383896 \r\nL 427.792709 279.187555 \r\nL 427.688687 279.249403 \r\nL 427.577234 279.120955 \r\nL 426.550254 279.005804 \r\nL 426.545928 278.961022 \r\nL 425.914085 279.070199 \r\nL 425.664033 277.791228 \r\nL 425.53262 277.155428 \r\nL 425.492083 276.944494 \r\nL 421.719088 277.058116 \r\nL 421.539148 276.461919 \r\nL 421.484367 276.303432 \r\nL 421.133931 276.256263 \r\nL 421.004517 275.938115 \r\nL 421.157959 275.773052 \r\nL 421.205961 274.483597 \r\nL 420.880331 272.778697 \r\nL 421.065216 272.408832 \r\nL 421.694017 271.883212 \r\nL 421.030215 270.328389 \r\nL 418.797066 265.096796 \r\nL 418.452592 264.290144 \r\nL 418.072847 263.400893 \r\nL 418.071397 262.967704 \r\nL 418.154073 262.457887 \r\nL 419.057206 259.971312 \r\nL 419.238851 259.367187 \r\nL 419.281124 258.615715 \r\nL 419.249971 258.366264 \r\nL 419.053823 257.694776 \r\nL 418.777264 257.198254 \r\nL 416.892746 254.817888 \r\nL 416.689265 254.497855 \r\nL 416.468571 253.97413 \r\nL 416.381622 253.604986 \r\nL 416.344776 253.227542 \r\nL 416.380655 252.689489 \r\nL 416.459379 252.344372 \r\nL 416.867034 251.431376 \r\nL 417.360159 250.857317 \r\nL 417.987693 250.434328 \r\nL 418.870693 250.093885 \r\nL 419.499789 249.787998 \r\nL 419.701698 249.875952 \r\nL 419.55982 249.949777 \r\nL 419.73615 249.998942 \r\nL 420.521619 249.982232 \r\nL 420.540858 250.146611 \r\nL 420.899305 250.078491 \r\nL 420.939622 249.90288 \r\nL 421.281756 249.614464 \r\nL 421.755877 249.408362 \r\nL 421.943959 249.389564 \r\nL 422.058809 249.483157 \r\nL 422.471917 249.22231 \r\nL 422.982452 249.155453 \r\nL 423.162098 249.065583 \r\nL 423.110514 249.326617 \r\nL 423.316791 249.324293 \r\nL 423.296649 249.002802 \r\nL 423.344838 248.967137 \r\nL 423.549799 249.020025 \r\nL 424.243834 248.672732 \r\nL 424.781439 248.573831 \r\nL 425.74267 248.749791 \r\nL 426.071594 248.706498 \r\nL 426.939553 248.410704 \r\nL 427.654627 247.961067 \r\nL 428.106455 247.521755 \r\nL 428.147455 247.353702 \r\nL 428.660795 248.032176 \r\nL 428.563592 247.846647 \r\nL 428.736645 247.950087 \r\nL 428.768371 247.915751 \r\nL 428.436994 247.499725 \r\nL 428.720555 247.25536 \r\nL 428.628345 247.124156 \r\nL 428.792067 247.042419 \r\nL 429.144796 246.616423 \r\nL 429.289663 246.310382 \r\nL 429.433475 246.258582 \r\nL 429.823367 245.315283 \r\nL 429.740337 245.211847 \r\nL 429.737538 245.075723 \r\nL 429.856757 245.032974 \r\nL 430.237786 244.710702 \r\nL 430.734944 244.262981 \r\nL 430.767632 244.195577 \r\nL 430.661245 244.072058 \r\nL 430.550713 244.106706 \r\nL 430.129749 244.453147 \r\nL 430.046018 244.461248 \r\nL 429.57421 244.907719 \r\nL 429.701774 244.635553 \r\nL 430.368667 244.151948 \r\nL 430.359794 244.028558 \r\nL 430.483344 243.842794 \r\nL 430.393563 243.736458 \r\nL 429.939082 243.979966 \r\nL 429.738748 243.971277 \r\nL 429.74076 243.930559 \r\nL 429.972254 243.936428 \r\nL 430.307958 243.649408 \r\nL 430.189784 243.676503 \r\nL 430.087529 243.579157 \r\nL 429.887227 243.736439 \r\nL 429.852923 243.81951 \r\nL 429.830568 243.759627 \r\nL 429.908801 243.633122 \r\nL 430.516058 243.118999 \r\nL 430.547203 243.170049 \r\nL 430.337389 243.369962 \r\nL 430.460454 243.552671 \r\nL 430.711153 243.307672 \r\nL 430.766284 243.128238 \r\nL 430.735756 243.307744 \r\nL 430.424141 243.710123 \r\nL 430.51357 243.815979 \r\nL 431.13542 243.509054 \r\nL 431.77752 242.978133 \r\nL 432.21761 242.924152 \r\nL 431.822023 243.023112 \r\nL 431.018528 243.700199 \r\nL 430.950643 243.782689 \r\nL 431.057459 243.948734 \r\nL 431.963437 243.31982 \r\nL 432.331103 243.363289 \r\nL 432.726186 243.286675 \r\nL 432.571627 243.321415 \r\nL 432.644149 243.404991 \r\nL 432.892662 243.353447 \r\nL 433.132405 243.421228 \r\nL 432.933389 243.559975 \r\nL 433.082308 243.590917 \r\nL 433.047554 243.734375 \r\nL 433.124979 243.735285 \r\nL 433.145835 243.557189 \r\nL 433.046991 243.505763 \r\nL 433.112867 243.475131 \r\nL 433.252833 243.573307 \r\nL 433.637148 243.891097 \r\nL 434.348935 244.256158 \r\nL 436.174834 244.853036 \r\nL 436.360969 244.817454 \r\nL 437.027358 244.919388 \r\nL 438.10213 244.79931 \r\nL 438.433802 244.719125 \r\nL 438.539767 244.582376 \r\nL 438.591914 244.897216 \r\nL 438.517603 245.164673 \r\nL 438.638465 244.899748 \r\nL 438.599528 244.662172 \r\nL 438.781031 244.704454 \r\nL 438.790125 244.602793 \r\nL 438.594239 244.579282 \r\nL 438.562299 244.50725 \r\nL 438.930853 244.55432 \r\nL 438.963162 244.643715 \r\nL 439.082381 244.697962 \r\nL 439.287305 244.651146 \r\nL 439.285625 244.452878 \r\nL 440.062584 244.318636 \r\nL 441.338074 243.937349 \r\nL 441.689387 243.929443 \r\nL 443.502158 243.463262 \r\nL 444.673779 242.564231 \r\nL 444.796416 242.645287 \r\nL 444.904026 242.743657 \r\nL 444.927871 242.70642 \r\nL 444.758457 242.527898 \r\nL 444.66608 242.495301 \r\nL 445.149876 242.199142 \r\nL 445.945876 241.857876 \r\nL 445.963785 241.769164 \r\nL 445.805444 241.333629 \r\nL 445.833318 241.324965 \r\nL 445.992739 241.756373 \r\nL 446.059994 241.814091 \r\nL 446.232135 241.761851 \r\nL 446.515534 241.81273 \r\nL 446.293644 241.182774 \r\nL 446.378104 241.158264 \r\nL 448.355923 240.635195 \r\nL 448.427565 240.560494 \r\nL 448.778143 240.194947 \r\nL 449.54668 239.794549 \r\nL 450.238362 239.310656 \r\nL 451.615086 238.164493 \r\nL 452.411138 237.362748 \r\nL 452.685344 237.022125 \r\nL 452.952909 236.531591 \r\nL 453.34287 235.239311 \r\nL 453.654079 234.624482 \r\nL 454.314662 233.828205 \r\nL 454.364706 233.783947 \r\nL 454.862607 233.398358 \r\nL 456.416478 232.730785 \r\nL 457.050574 232.676102 \r\nL 458.488268 232.931804 \r\nL 458.961724 232.954576 \r\nL 459.608813 232.862541 \r\nL 460.161969 232.663291 \r\nL 460.507336 232.454553 \r\nL 462.151824 231.010791 \r\nL 462.190271 230.979567 \r\nL 462.464882 230.757099 \r\nL 463.759791 230.08148 \r\nL 464.380822 229.863338 \r\nL 464.929973 229.779885 \r\nL 465.523696 229.782703 \r\nL 465.939862 229.898357 \r\nL 467.12094 230.137782 \r\nL 467.716464 230.28773 \r\nL 468.138848 230.397949 \r\nL 468.900475 230.568313 \r\nL 469.654333 230.592617 \r\nL 469.725102 230.586068 \r\nL 470.310677 230.950309 \r\nL 470.359809 231.045955 \r\nL 470.371243 231.425818 \r\nL 470.508613 231.675903 \r\nL 470.739172 231.9332 \r\nL 471.404922 232.385914 \r\nL 472.216103 232.706472 \r\nL 472.600248 232.881378 \r\nL 472.839625 233.010462 \r\nL 473.128398 233.309824 \r\nL 473.423349 233.796254 \r\nL 473.67767 234.368763 \r\nL 474.063215 234.869729 \r\nL 474.251891 234.976581 \r\nL 474.539362 235.028359 \r\nL 474.820514 234.977447 \r\nL 475.044576 234.857113 \r\nL 475.390122 234.395895 \r\nL 475.668238 234.20306 \r\nL 475.960026 234.128809 \r\nL 476.247029 234.182419 \r\nL 476.54631 234.33406 \r\nL 476.814652 234.561728 \r\nL 477.278826 235.054809 \r\nL 477.445841 235.172703 \r\nL 478.683943 235.695136 \r\nL 478.818423 235.979115 \r\nL 478.754456 236.270934 \r\nL 478.600083 236.643706 \r\nL 478.568676 237.023266 \r\nL 478.683109 237.307773 \r\nL 479.013812 237.564142 \r\nL 478.710758 238.036438 \r\nL 477.937011 238.635927 \r\nL 477.887547 238.825216 \r\nL 477.911941 239.205046 \r\nL 477.95216 239.384665 \r\nL 478.046851 239.418975 \r\nL 480.371278 238.888835 \r\nL 480.721339 238.85068 \r\nL 481.273264 238.868783 \r\nL 481.826025 238.975924 \r\nL 482.469385 239.15124 \r\nL 483.188593 239.025985 \r\nL 483.539951 238.894002 \r\nL 483.834787 238.819172 \r\nL 484.214311 238.826763 \r\nL 484.801269 239.048002 \r\nL 485.689432 239.776355 \r\nL 486.01705 239.86571 \r\nL 486.396574 239.727184 \r\nL 486.965861 239.313502 \r\nL 487.254153 239.227489 \r\nL 487.724909 239.173078 \r\nL 488.220594 239.215305 \r\nL 488.7686 239.481442 \r\nL 489.053243 239.539319 \r\nL 489.337886 239.479544 \r\nL 489.601671 239.321879 \r\nL 490.761102 238.506065 \r\nL 492.823808 237.562326 \r\nL 493.089482 237.307717 \r\nL 493.244138 237.023074 \r\nL 493.27735 236.168806 \r\nL 493.415873 235.030573 \r\nL 493.841745 233.937892 \r\nL 493.917392 233.80272 \r\nL 494.271555 233.268306 \r\nL 494.787853 232.373904 \r\nL 495.502307 231.519974 \r\nL 495.762341 231.05205 \r\nL 495.8715 230.813261 \r\nL 495.979559 230.657506 \r\nL 496.264202 230.496208 \r\nL 496.548845 230.482925 \r\nL 496.841678 230.615306 \r\nL 497.063308 230.903633 \r\nL 497.32655 231.325694 \r\nL 497.782298 231.662296 \r\nL 498.446465 231.836877 \r\nL 499.110633 231.839724 \r\nL 500.087129 231.67949 \r\nL 500.283718 231.614247 \r\nL 500.72361 231.314083 \r\nL 500.901038 231.045569 \r\nL 500.993378 230.742381 \r\nL 501.079414 230.286521 \r\nL 501.220787 230.001878 \r\nL 501.482658 229.754238 \r\nL 501.766459 229.637771 \r\nL 502.146826 229.627098 \r\nL 502.621231 229.820655 \r\nL 502.937185 230.096759 \r\nL 503.33948 230.666045 \r\nL 503.570041 230.819752 \r\nL 504.234208 230.903248 \r\nL 504.741604 231.103523 \r\nM 465.525063 271.183101 \r\nL 465.591887 271.339361 \r\nL 465.708107 271.290345 \r\nL 465.671625 271.148517 \r\nL 465.525063 271.183101 \r\nM 465.525063 271.183101 \r\nL 465.491314 271.074349 \r\nL 465.552065 270.982533 \r\nL 465.521267 270.831814 \r\nL 465.448921 270.845021 \r\nL 465.465685 270.987782 \r\nL 465.295074 271.004694 \r\nL 465.287281 270.920129 \r\nL 465.176261 270.924418 \r\nL 465.193568 270.681059 \r\nL 465.117122 270.677718 \r\nL 465.152825 270.548063 \r\nL 465.405974 270.571616 \r\nL 465.404789 270.419467 \r\nL 465.430618 270.410201 \r\nL 465.456904 270.576355 \r\nL 465.549229 270.583358 \r\nL 465.528412 270.376831 \r\nL 465.479994 270.391016 \r\nL 465.436785 270.407724 \r\nL 465.40835 270.27471 \r\nL 465.318148 270.307118 \r\nL 465.233892 270.31958 \r\nL 465.214688 270.25712 \r\nL 465.280184 270.216454 \r\nL 465.239774 270.101685 \r\nL 465.089995 270.322606 \r\nL 465.117938 270.437318 \r\nL 465.081361 270.444642 \r\nL 465.077917 270.425353 \r\nL 465.029992 270.436094 \r\nL 464.939509 270.463232 \r\nL 464.901561 270.510234 \r\nL 464.863989 270.507814 \r\nL 464.863851 270.567247 \r\nL 464.785209 270.600162 \r\nL 464.79519 270.660155 \r\nL 464.850051 270.759306 \r\nL 464.802617 270.812313 \r\nL 464.756688 270.921306 \r\nL 464.664634 270.785569 \r\nL 464.696666 270.764875 \r\nL 464.641521 270.629822 \r\nL 464.616981 270.638701 \r\nL 464.624727 270.588994 \r\nL 464.663193 270.592777 \r\nL 464.604502 270.47027 \r\nL 464.743879 270.386528 \r\nL 464.572893 270.287178 \r\nL 464.45896 270.355672 \r\nL 464.4182 270.248979 \r\nL 464.49469 270.246668 \r\nL 464.354771 270.162597 \r\nL 464.479645 270.100423 \r\nL 464.415258 269.987638 \r\nL 464.31291 270.085024 \r\nL 464.250115 270.136339 \r\nL 464.177173 270.033143 \r\nL 464.102067 270.1538 \r\nL 464.207677 270.22029 \r\nL 464.232944 270.157409 \r\nL 464.314789 270.252546 \r\nL 464.27029 270.25971 \r\nL 464.368197 270.485043 \r\nL 464.336868 270.547807 \r\nL 464.313195 270.534286 \r\nL 464.157096 270.694047 \r\nL 464.289579 270.723004 \r\nL 464.223912 270.813568 \r\nL 464.29548 270.859121 \r\nL 464.195428 270.967105 \r\nL 464.255972 271.050011 \r\nL 464.078658 271.262422 \r\nL 464.014471 271.198178 \r\nL 463.877881 271.253285 \r\nL 464.022745 271.335471 \r\nL 464.1595 271.316787 \r\nL 464.374347 271.398809 \r\nL 464.374251 271.43725 \r\nL 464.551735 271.46301 \r\nL 464.533282 271.413456 \r\nL 464.597033 271.415799 \r\nL 464.607079 271.464727 \r\nL 464.72162 271.694804 \r\nL 464.78518 271.770282 \r\nL 464.92493 271.798134 \r\nL 465.101277 271.718553 \r\nL 465.257384 271.883181 \r\nL 465.503506 271.750452 \r\nL 465.521486 271.394373 \r\nL 465.27823 271.381336 \r\nL 465.406186 271.198425 \r\nL 465.525063 271.183101 \r\nM 466.086872 269.618874 \r\nL 465.74142 269.680935 \r\nL 465.73697 269.631854 \r\nL 465.605683 269.63506 \r\nL 465.607533 269.669692 \r\nL 465.400408 269.67455 \r\nL 465.353214 269.72533 \r\nL 465.169108 269.74333 \r\nL 465.081435 269.764008 \r\nL 465.187197 269.982224 \r\nL 465.322511 269.977998 \r\nL 465.285839 270.042821 \r\nL 465.31808 270.049833 \r\nL 465.462739 270.021595 \r\nL 465.472992 270.102881 \r\nL 465.501143 270.087861 \r\nL 465.54258 270.228314 \r\nL 465.557237 270.225904 \r\nL 465.515404 270.080252 \r\nL 465.563651 270.054492 \r\nL 465.579714 270.101723 \r\nL 465.63262 270.096486 \r\nL 465.625836 270.023228 \r\nL 465.764391 269.985399 \r\nL 465.768091 269.860337 \r\nL 465.930708 269.815999 \r\nL 465.955026 269.9018 \r\nL 465.84855 269.953671 \r\nL 465.954798 269.997079 \r\nL 466.058759 270.002516 \r\nL 466.086018 269.822403 \r\nL 466.242268 269.779299 \r\nL 466.353896 269.706895 \r\nL 466.279424 269.612299 \r\nL 466.378394 269.550455 \r\nL 466.294719 269.330549 \r\nL 466.160263 269.349526 \r\nL 466.237562 269.548036 \r\nL 466.086872 269.618874 \r\nM 466.047528 270.174723 \r\nL 465.910289 270.29735 \r\nL 465.914692 270.356185 \r\nL 465.791362 270.374748 \r\nL 465.792798 270.389545 \r\nL 465.949964 270.356008 \r\nL 466.060538 270.350486 \r\nL 466.069101 270.386385 \r\nL 466.183319 270.391632 \r\nL 466.124256 270.277337 \r\nL 466.168935 270.273003 \r\nL 466.16754 270.215875 \r\nL 466.047528 270.174723 \r\nM 464.138822 270.341829 \r\nL 464.105529 270.331136 \r\nL 464.090561 270.346478 \r\nL 464.095149 270.402012 \r\nL 464.115102 270.4015 \r\nL 464.113157 270.387202 \r\nL 464.138822 270.341829 \r\nM 464.974572 269.964421 \r\nL 464.999963 270.067082 \r\nL 465.143375 269.98983 \r\nL 465.086741 269.89832 \r\nL 464.974572 269.964421 \r\nM 464.817478 269.911383 \r\nL 464.770686 269.847973 \r\nL 464.700698 269.8638 \r\nL 464.769316 269.94239 \r\nL 464.817478 269.911383 \r\nM 464.842536 269.758909 \r\nL 464.902131 269.848657 \r\nL 464.995503 269.791576 \r\nL 464.923072 269.671686 \r\nL 464.842536 269.758909 \r\nM 464.670602 270.202183 \r\nL 464.577666 270.065365 \r\nL 464.489569 270.096486 \r\nL 464.590665 270.249605 \r\nL 464.626767 270.222336 \r\nL 464.670602 270.202183 \r\nM 465.597637 270.214945 \r\nL 465.610816 270.258486 \r\nL 465.685516 270.232156 \r\nL 465.672603 270.188521 \r\nL 465.597637 270.214945 \r\nM 465.513535 270.798625 \r\nL 465.579135 270.846046 \r\nL 465.618767 270.990161 \r\nL 465.675146 270.973974 \r\nL 465.651727 270.87936 \r\nL 465.735205 270.757313 \r\nL 465.665012 270.769667 \r\nL 465.513535 270.798625 \r\nM 465.006823 274.352688 \r\nL 464.747351 274.451022 \r\nL 465.269026 274.430224 \r\nL 465.232013 274.012207 \r\nL 465.188436 274.019751 \r\nL 464.810979 274.137943 \r\nL 465.006823 274.352688 \r\n\" style=\"fill:#4090c5;stroke:#333333;stroke-width:0.6;\"/>\r\n    <path clip-path=\"url(#pab055609a1)\" d=\"M 530.782167 238.857856 \r\nL 530.987592 238.952356 \r\nL 531.144938 238.891572 \r\nL 531.515887 238.865136 \r\nL 532.037409 238.591525 \r\nL 532.121911 238.205192 \r\nL 532.061188 238.769382 \r\nL 532.252421 239.249943 \r\nL 532.363509 239.192394 \r\nL 532.515329 239.229848 \r\nL 532.642135 239.176793 \r\nL 533.142655 239.197657 \r\nL 533.444602 239.115076 \r\nL 533.595687 239.135964 \r\nL 533.896738 239.168239 \r\nL 534.239776 239.112606 \r\nL 534.81086 239.20903 \r\nL 535.648648 239.792782 \r\nL 537.101121 240.514837 \r\nL 537.318858 240.717123 \r\nL 537.365603 240.963866 \r\nL 537.503239 240.98912 \r\nL 537.490495 241.1209 \r\nL 537.532026 241.353322 \r\nL 537.725913 241.315752 \r\nL 537.691053 241.124358 \r\nL 538.156686 241.438597 \r\nL 537.967969 241.817033 \r\nL 537.688229 241.785583 \r\nL 537.687415 241.882981 \r\nL 537.325249 241.839994 \r\nL 537.076786 241.989424 \r\nL 537.062536 242.09478 \r\nL 536.963912 242.201278 \r\nL 536.926076 242.317857 \r\nL 536.993299 242.479801 \r\nL 536.981601 242.77496 \r\nL 537.067301 242.97622 \r\nL 537.045889 243.175976 \r\nL 537.235985 243.406885 \r\nL 537.316729 244.019768 \r\nL 537.220494 244.27415 \r\nL 537.087974 244.330422 \r\nL 537.346867 244.826136 \r\nL 537.358446 244.928732 \r\nL 537.232862 245.032295 \r\nL 537.20177 245.544479 \r\nL 537.342811 245.747417 \r\nL 537.429248 245.751683 \r\nL 537.522772 245.853424 \r\nL 537.497657 245.903161 \r\nL 537.317753 245.914689 \r\nL 537.371342 245.969853 \r\nL 537.547515 245.982363 \r\nL 537.654249 246.1041 \r\nL 540.008898 247.02424 \r\nL 540.22376 246.920361 \r\nL 540.419848 247.066475 \r\nL 540.48705 247.059541 \r\nL 540.444218 247.219649 \r\nL 540.481204 247.256859 \r\nL 540.720033 247.227576 \r\nL 540.860603 247.113803 \r\nL 540.939235 247.15255 \r\nL 540.992714 247.391839 \r\nL 541.05829 247.43465 \r\nL 541.499974 247.446607 \r\nL 541.8049 247.611173 \r\nL 541.954039 247.3466 \r\nL 542.937954 247.766938 \r\nL 543.017315 247.82537 \r\nL 542.868131 248.116701 \r\nL 542.949877 248.393749 \r\nL 542.908616 248.438835 \r\nL 542.666246 248.621526 \r\nL 542.457278 248.792276 \r\nL 542.608619 249.016319 \r\nL 542.372362 249.313994 \r\nL 541.832645 251.261554 \r\nL 541.684008 251.542762 \r\nL 541.466204 251.410762 \r\nL 541.501021 252.144966 \r\nL 541.317923 253.133472 \r\nL 543.017217 254.383613 \r\nL 543.162017 254.401193 \r\nL 543.307842 254.497724 \r\nL 543.916887 255.721507 \r\nL 545.008645 256.818337 \r\nL 545.673974 257.235218 \r\nL 545.967176 257.879764 \r\nL 547.013116 260.178787 \r\nL 547.793892 260.706183 \r\nL 548.541993 261.341586 \r\nL 549.066517 262.215473 \r\nL 549.355024 262.809363 \r\nL 549.449791 263.396635 \r\nL 549.503941 263.873938 \r\nL 549.430171 265.139692 \r\nL 549.78115 265.798933 \r\nL 549.817513 265.870731 \r\nL 549.850826 265.802597 \r\nL 550.161144 266.85664 \r\nL 550.149743 267.152031 \r\nL 550.12408 267.441505 \r\nL 550.176571 267.516253 \r\nL 550.088636 267.786721 \r\nL 550.070946 268.375719 \r\nL 549.958272 268.911716 \r\nL 549.999998 269.847955 \r\nL 549.572359 269.865335 \r\nL 549.630639 271.199756 \r\nL 549.14359 274.218835 \r\nL 549.04428 274.833649 \r\nL 549.445722 274.680758 \r\nL 550.45703 274.738635 \r\nL 550.415975 274.816846 \r\nL 550.464801 274.8329 \r\nL 550.305968 275.074272 \r\nL 549.661415 275.870281 \r\nL 549.790671 275.953454 \r\nL 549.684945 276.09366 \r\nL 549.791811 276.452436 \r\nL 550.101821 277.566836 \r\nL 550.487174 278.953697 \r\nL 550.380986 279.052842 \r\nL 548.581299 280.732391 \r\nL 548.275346 281.018456 \r\nL 548.098905 281.184207 \r\nL 548.392153 281.664713 \r\nL 547.999678 281.649067 \r\nL 547.358161 281.839337 \r\nL 546.72613 281.87974 \r\nL 546.670793 281.953356 \r\nL 546.747345 282.225435 \r\nL 546.415857 282.670756 \r\nL 546.118358 283.292597 \r\nL 546.111669 283.720121 \r\nL 546.073085 283.7723 \r\nL 545.774006 284.201614 \r\nL 545.750561 284.588899 \r\nL 545.186598 285.579922 \r\nL 544.132318 286.901169 \r\nL 543.859508 287.764524 \r\nL 543.845721 288.059684 \r\nL 541.900496 290.268069 \r\nL 541.298546 290.948587 \r\nL 540.445458 291.491408 \r\nL 541.350772 293.582426 \r\nL 541.190279 293.650254 \r\nL 540.504883 293.615147 \r\nL 540.335216 293.653758 \r\nL 540.157319 293.817432 \r\nL 540.196258 294.577076 \r\nL 540.264447 294.590914 \r\nL 540.375333 295.92867 \r\nL 540.536357 297.796289 \r\nL 540.898466 298.387492 \r\nL 541.147884 298.971865 \r\nL 541.667193 299.101844 \r\nL 541.913009 299.094193 \r\nL 542.05397 299.01761 \r\nL 542.310653 299.150752 \r\nL 542.469053 298.941143 \r\nL 542.825642 298.842993 \r\nL 543.169014 298.611233 \r\nL 543.355102 298.29092 \r\nL 543.806121 297.925127 \r\nL 546.62841 296.51182 \r\nL 547.669207 297.350996 \r\nL 544.902486 298.754618 \r\nL 545.375979 299.050405 \r\nL 547.349259 300.299092 \r\nL 547.000571 300.643557 \r\nL 546.521213 300.919462 \r\nL 546.558264 301.338546 \r\nL 546.161899 301.323776 \r\nL 546.028719 301.397514 \r\nL 545.8422 301.41688 \r\nL 545.519169 301.358961 \r\nL 545.327673 301.527552 \r\nL 545.130371 301.586578 \r\nL 544.579985 301.731789 \r\nL 544.081594 301.76432 \r\nL 543.794765 301.996498 \r\nL 543.787038 302.169888 \r\nL 543.679794 302.225508 \r\nL 543.669745 302.239162 \r\nL 543.63776 302.254938 \r\nL 543.008602 302.538962 \r\nL 542.593819 302.675553 \r\nL 542.39569 302.676954 \r\nL 542.122148 302.855023 \r\nL 541.819785 302.84178 \r\nL 541.65445 303.344557 \r\nL 541.528131 303.431895 \r\nL 541.633343 303.571074 \r\nL 541.502017 303.618333 \r\nL 541.342075 303.785173 \r\nL 541.476787 303.822262 \r\nL 541.514085 303.933823 \r\nL 541.292051 304.007193 \r\nL 541.119977 303.802886 \r\nL 541.050635 303.974444 \r\nL 541.088705 304.196842 \r\nL 540.762071 304.337253 \r\nL 540.802597 304.476921 \r\nL 540.770376 304.519023 \r\nL 540.476333 304.642527 \r\nL 540.318369 304.63146 \r\nL 539.888224 304.766341 \r\nL 539.749103 304.865461 \r\nL 539.570829 305.117187 \r\nL 539.557564 305.142877 \r\nL 539.51021 305.235663 \r\nL 539.418248 305.415745 \r\nL 539.52532 305.540666 \r\nL 538.726126 306.418712 \r\nL 538.707332 306.437982 \r\nL 538.6104 306.430083 \r\nL 538.184116 306.926974 \r\nL 537.75573 307.128651 \r\nL 537.484556 307.175123 \r\nL 537.138192 307.326003 \r\nL 536.930512 307.144725 \r\nL 536.701424 307.475357 \r\nL 536.398723 307.542855 \r\nL 536.02353 307.973783 \r\nL 535.624815 308.24592 \r\nL 535.256409 308.712485 \r\nL 535.012122 309.267732 \r\nL 534.782252 309.378141 \r\nL 534.759636 309.379545 \r\nL 534.568661 309.423069 \r\nL 534.471632 309.514595 \r\nL 534.425058 309.617737 \r\nL 534.569543 309.813505 \r\nL 534.367125 310.002588 \r\nL 534.355548 310.136129 \r\nL 534.112919 310.484305 \r\nL 534.005314 310.511744 \r\nL 533.905902 310.620142 \r\nL 533.796728 310.765722 \r\nL 533.837175 310.795059 \r\nL 533.851 311.029045 \r\nL 533.675697 311.289626 \r\nL 533.823067 311.433779 \r\nL 533.687093 311.763643 \r\nL 533.759866 311.966489 \r\nL 533.70445 312.087397 \r\nL 533.706175 312.102909 \r\nL 533.755217 312.216861 \r\nL 533.604556 312.496219 \r\nL 533.401273 312.545519 \r\nL 533.261456 312.725528 \r\nL 533.026607 312.818625 \r\nL 533.114846 313.122709 \r\nL 533.031187 313.333854 \r\nL 532.994955 313.495705 \r\nL 532.866846 313.463123 \r\nL 532.752828 313.305972 \r\nL 532.185496 313.277583 \r\nL 531.697324 313.463095 \r\nL 531.458081 312.819687 \r\nL 530.900163 312.082208 \r\nL 530.897142 312.071836 \r\nL 530.384203 310.428974 \r\nL 530.014482 310.12244 \r\nL 529.515344 310.657625 \r\nL 528.902062 311.15854 \r\nL 528.614155 311.584195 \r\nL 528.295402 311.686523 \r\nL 527.496845 311.766508 \r\nL 527.064405 311.746878 \r\nL 526.934524 311.759904 \r\nL 526.911599 311.807633 \r\nL 526.974668 312.318099 \r\nL 527.466928 313.068713 \r\nL 527.69564 313.231281 \r\nL 527.631167 313.816684 \r\nL 527.473855 314.119852 \r\nL 527.614253 314.681899 \r\nL 527.765398 315.018935 \r\nL 527.751513 315.276063 \r\nL 527.965549 315.573982 \r\nL 528.127853 315.783065 \r\nL 528.206383 315.736672 \r\nL 528.399609 315.771629 \r\nL 528.893841 316.027179 \r\nL 528.881363 316.692777 \r\nL 529.222405 316.837582 \r\nL 529.551551 316.956443 \r\nL 529.438398 318.543128 \r\nL 528.914528 319.156294 \r\nL 528.78673 319.186435 \r\nL 528.718057 319.280543 \r\nL 528.989646 319.671743 \r\nL 529.010083 319.842724 \r\nL 529.526294 319.870733 \r\nL 530.240985 319.521581 \r\nL 530.511607 319.480707 \r\nL 531.045971 319.041084 \r\nL 531.454219 318.717948 \r\nL 532.535237 318.514039 \r\nL 532.870727 318.383739 \r\nL 533.020582 318.742712 \r\nL 533.620164 319.290688 \r\nL 533.735121 319.330908 \r\nL 533.952646 319.264058 \r\nL 534.618785 318.918726 \r\nL 534.810625 319.033561 \r\nL 537.017635 318.87917 \r\nL 537.106339 318.834405 \r\nL 537.627283 318.887568 \r\nL 537.648451 319.094559 \r\nL 537.282144 320.1857 \r\nL 536.893027 321.100942 \r\nL 536.747718 321.309784 \r\nL 536.48725 321.408386 \r\nL 536.287192 321.615855 \r\nL 536.230863 321.696435 \r\nL 537.011572 322.12615 \r\nL 536.897592 322.62957 \r\nL 536.952108 322.973087 \r\nL 537.117839 324.019112 \r\nL 538.471204 324.409538 \r\nL 538.853573 324.558369 \r\nL 538.950343 324.701905 \r\nL 539.301384 324.506051 \r\nL 539.656884 324.793408 \r\nL 539.628711 324.899676 \r\nL 539.519003 325.312464 \r\nL 540.04006 325.414395 \r\nL 540.115899 325.3294 \r\nL 540.465356 325.472044 \r\nL 540.702473 325.20801 \r\nL 540.935148 325.245906 \r\nL 541.394724 325.369548 \r\nL 541.885374 325.683231 \r\nL 541.932719 325.572324 \r\nL 542.16885 325.394906 \r\nL 542.197608 325.450412 \r\nL 542.06726 325.788444 \r\nL 541.854471 325.958025 \r\nL 541.71028 326.172504 \r\nL 541.665117 326.3722 \r\nL 541.366919 326.650799 \r\nL 541.256094 327.035655 \r\nL 541.265354 327.336789 \r\nL 541.142748 327.614565 \r\nL 541.049269 328.213542 \r\nL 540.959705 328.391496 \r\nL 540.989058 328.435615 \r\nL 541.031848 328.547035 \r\nL 540.977928 328.648209 \r\nL 541.043983 328.812601 \r\nL 541.126028 328.963161 \r\nL 541.153046 328.908562 \r\nL 541.243416 329.046915 \r\nL 541.178697 329.242751 \r\nL 541.266649 329.367551 \r\nL 541.267838 329.520441 \r\nL 541.312612 329.470515 \r\nL 541.380664 329.526427 \r\nL 541.466056 329.492724 \r\nL 541.446172 329.581686 \r\nL 541.717357 329.764635 \r\nL 541.777186 329.912138 \r\nL 541.63677 330.135736 \r\nL 541.843009 330.549831 \r\nL 541.721493 330.641277 \r\nL 541.748384 330.848507 \r\nL 541.625707 331.146893 \r\nL 541.536344 331.353928 \r\nL 541.378362 331.386354 \r\nL 541.381242 331.595382 \r\nL 541.144591 331.76698 \r\nL 541.1155 331.903629 \r\nL 541.057412 332.330714 \r\nL 540.938224 333.291295 \r\nL 540.210902 332.909528 \r\nL 539.766297 332.825559 \r\nL 539.783301 332.641436 \r\nL 539.789966 332.358503 \r\nL 539.719052 332.175434 \r\nL 539.715204 332.175199 \r\nL 539.576139 332.206835 \r\nL 539.465604 332.350141 \r\nL 539.335135 332.406748 \r\nL 539.321132 332.494793 \r\nL 538.98885 332.691345 \r\nL 538.948198 332.658647 \r\nL 538.793423 332.814966 \r\nL 538.268863 332.889455 \r\nL 537.841118 333.204079 \r\nL 537.720759 333.246575 \r\nL 537.694569 333.195674 \r\nL 537.451396 333.338987 \r\nL 537.248073 333.354334 \r\nL 537.184363 333.613524 \r\nL 537.054149 334.143421 \r\nL 537.223084 334.296836 \r\nL 537.083546 334.661731 \r\nL 537.251327 335.102431 \r\nL 537.687353 335.300211 \r\nL 537.519936 335.426227 \r\nL 537.602075 335.583631 \r\nL 537.655169 335.95396 \r\nL 537.768922 336.108483 \r\nL 537.720466 336.207928 \r\nL 537.59288 336.291461 \r\nL 537.485911 336.460558 \r\nL 537.646412 336.552726 \r\nL 537.583344 336.687741 \r\nL 537.666261 336.767394 \r\nL 537.117773 337.205806 \r\nL 536.687877 337.820859 \r\nL 536.268602 338.090102 \r\nL 535.439612 337.403144 \r\nL 535.009812 337.152792 \r\nL 534.912033 337.22961 \r\nL 534.769296 337.350552 \r\nL 534.690573 337.507011 \r\nL 534.693496 337.646761 \r\nL 534.594165 337.766254 \r\nL 534.540121 337.725436 \r\nL 534.460174 337.9046 \r\nL 534.398226 338.01248 \r\nL 534.346682 338.470889 \r\nL 534.501529 338.609566 \r\nL 534.6316 338.648036 \r\nL 534.681384 338.765048 \r\nL 534.924325 338.79882 \r\nL 535.024527 338.801825 \r\nL 535.076672 338.905225 \r\nL 535.243379 338.882065 \r\nL 535.755351 339.297903 \r\nL 535.753668 339.573557 \r\nL 535.864535 339.666882 \r\nL 535.934657 339.62233 \r\nL 536.084749 339.807149 \r\nL 536.181382 339.916652 \r\nL 536.407773 340.001035 \r\nL 536.477653 340.152679 \r\nL 536.712038 340.3075 \r\nL 537.207166 340.500514 \r\nL 537.220887 340.556537 \r\nL 537.395688 340.652998 \r\nL 537.404506 340.71766 \r\nL 537.790084 340.814566 \r\nL 537.911017 340.993486 \r\nL 537.284458 342.104851 \r\nL 537.468674 343.059856 \r\nL 537.224447 342.986001 \r\nL 536.997665 342.983599 \r\nL 536.352383 343.122823 \r\nL 536.234774 343.089439 \r\nL 536.016042 343.206155 \r\nL 535.924226 343.140327 \r\nL 535.831523 343.125384 \r\nL 535.62081 343.237511 \r\nL 535.027733 343.175186 \r\nL 534.93901 343.236788 \r\nL 534.679323 343.047564 \r\nL 534.489409 343.078581 \r\nL 534.331421 342.987614 \r\nL 534.394199 342.706145 \r\nL 534.224618 342.514166 \r\nL 533.996034 342.422958 \r\nL 533.443525 342.328402 \r\nL 533.422617 342.22968 \r\nL 533.311855 342.241985 \r\nL 532.950501 342.479702 \r\nL 532.824556 342.437722 \r\nL 532.476085 342.517445 \r\nL 532.315874 342.665555 \r\nL 531.973892 342.719673 \r\nL 531.759615 342.82255 \r\nL 531.587648 342.868758 \r\nL 531.448148 342.828806 \r\nL 530.805999 343.423051 \r\nL 530.456504 343.521329 \r\nL 530.380252 343.530639 \r\nL 530.39714 343.071052 \r\nL 530.303563 343.113521 \r\nL 530.283929 342.9634 \r\nL 530.086572 343.018591 \r\nL 529.970808 343.127035 \r\nL 529.916242 342.971761 \r\nL 529.84012 343.03337 \r\nL 529.757965 342.993068 \r\nL 529.691529 343.022927 \r\nL 529.569147 343.183403 \r\nL 529.604215 343.210306 \r\nL 529.47876 343.42801 \r\nL 529.438051 343.418396 \r\nL 528.678892 342.913455 \r\nL 528.641187 342.784901 \r\nL 528.708078 342.511767 \r\nL 528.66874 342.080305 \r\nL 528.46337 341.491035 \r\nL 528.433996 341.466949 \r\nL 527.767757 341.939139 \r\nL 527.392852 342.015596 \r\nL 526.91408 342.167239 \r\nL 526.680629 342.345941 \r\nL 526.17137 342.836179 \r\nL 525.947821 343.239661 \r\nL 525.758328 342.368549 \r\nL 525.67996 341.978544 \r\nL 525.560656 342.03086 \r\nL 525.19073 342.217496 \r\nL 524.723025 342.70557 \r\nL 524.189468 342.678707 \r\nL 523.635793 342.962845 \r\nL 523.259189 342.989828 \r\nL 523.161224 342.964269 \r\nL 522.208969 341.490193 \r\nL 521.879574 341.721891 \r\nL 521.626553 341.812384 \r\nL 521.302019 341.060449 \r\nL 521.111868 340.17845 \r\nL 521.140021 340.148645 \r\nL 520.88611 340.11941 \r\nL 520.366933 340.195937 \r\nL 519.951295 340.682499 \r\nL 519.901868 340.656999 \r\nL 519.699445 340.993857 \r\nL 519.617801 340.976288 \r\nL 519.342101 341.293907 \r\nL 519.120331 341.475348 \r\nL 518.920899 341.764118 \r\nL 518.686768 342.260489 \r\nL 518.746247 342.34265 \r\nL 518.68121 342.431286 \r\nL 518.755809 342.461222 \r\nL 518.597698 342.893524 \r\nL 518.008903 342.860197 \r\nL 517.997369 342.769763 \r\nL 517.741204 342.65045 \r\nL 517.580352 342.493808 \r\nL 517.62075 342.437269 \r\nL 517.465991 342.296337 \r\nL 517.49693 342.259096 \r\nL 517.445992 342.221202 \r\nL 517.500615 342.191171 \r\nL 517.454365 342.155665 \r\nL 517.327746 342.092876 \r\nL 517.019842 342.604848 \r\nL 516.88102 342.576561 \r\nL 516.887942 342.520404 \r\nL 516.795701 342.491584 \r\nL 516.78685 342.542375 \r\nL 516.684304 342.510412 \r\nL 516.658479 342.613476 \r\nL 516.568875 342.600845 \r\nL 516.554688 342.698395 \r\nL 516.469473 342.698602 \r\nL 516.445708 342.775307 \r\nL 516.173004 342.721514 \r\nL 515.935634 343.081301 \r\nL 515.647017 343.150533 \r\nL 515.203404 343.052241 \r\nL 515.158899 342.84466 \r\nL 514.773233 342.861593 \r\nL 514.823226 342.468387 \r\nL 515.550176 341.443587 \r\nL 515.790082 340.981241 \r\nL 515.880381 340.525907 \r\nL 515.876272 340.153385 \r\nL 515.553781 338.73108 \r\nL 515.536889 337.273113 \r\nL 515.538193 337.204141 \r\nL 515.539018 337.160553 \r\nL 515.393204 337.097172 \r\nL 515.199075 337.150287 \r\nL 515.012922 337.087989 \r\nL 514.903153 336.962175 \r\nL 514.65243 337.109744 \r\nL 514.572265 336.827217 \r\nL 514.507623 336.790061 \r\nL 514.495469 336.642056 \r\nL 514.153979 336.693317 \r\nL 514.12529 336.592747 \r\nL 513.919332 336.562204 \r\nL 513.904517 336.498503 \r\nL 513.812435 336.510782 \r\nL 513.784299 336.636806 \r\nL 513.700572 336.607037 \r\nL 513.720049 336.561644 \r\nL 513.558298 336.569833 \r\nL 513.485162 336.477331 \r\nL 513.205893 336.434504 \r\nL 512.882368 336.278127 \r\nL 512.947836 336.173202 \r\nL 512.892515 336.141482 \r\nL 513.033314 335.94155 \r\nL 512.969579 335.874369 \r\nL 513.014271 335.822142 \r\nL 512.7256 335.486013 \r\nL 512.552009 335.605204 \r\nL 512.524236 335.563749 \r\nL 512.689325 335.027287 \r\nL 512.595396 334.812165 \r\nL 512.486507 334.881596 \r\nL 512.424306 334.595322 \r\nL 512.177093 334.384682 \r\nL 512.284429 334.230301 \r\nL 512.05053 334.083546 \r\nL 512.113048 334.012178 \r\nL 512.0073 333.862183 \r\nL 512.076655 333.837329 \r\nL 511.872417 333.499311 \r\nL 511.848353 333.357882 \r\nL 511.975307 333.355071 \r\nL 511.942646 333.1685 \r\nL 512.10423 333.103021 \r\nL 512.041649 332.858938 \r\nL 511.943699 332.718888 \r\nL 512.15555 332.395276 \r\nL 512.033133 332.314316 \r\nL 512.173279 332.174093 \r\nL 512.040278 332.135576 \r\nL 512.161055 332.004792 \r\nL 512.071343 331.907512 \r\nL 512.186133 331.747409 \r\nL 512.029314 331.616948 \r\nL 512.54927 331.173683 \r\nL 512.193288 330.857609 \r\nL 512.441431 330.607826 \r\nL 512.48688 330.646753 \r\nL 512.670352 330.460936 \r\nL 512.807284 330.575537 \r\nL 513.011653 330.303795 \r\nL 513.109448 330.293568 \r\nL 513.155651 330.343787 \r\nL 513.311472 330.218162 \r\nL 513.360452 330.081207 \r\nL 513.639862 329.96721 \r\nL 513.89072 329.746111 \r\nL 514.133841 329.826945 \r\nL 514.297864 329.840162 \r\nL 514.538552 329.878492 \r\nL 514.522291 329.569653 \r\nL 514.747805 329.035102 \r\nL 515.002285 328.752366 \r\nL 515.416459 328.461402 \r\nL 515.660048 327.968213 \r\nL 515.720781 327.581003 \r\nL 515.625824 327.207608 \r\nL 515.67483 326.911134 \r\nL 515.789541 326.747568 \r\nL 516.132802 326.581507 \r\nL 516.333475 326.55014 \r\nL 516.523351 326.592523 \r\nL 516.89748 326.921835 \r\nL 517.169491 326.988737 \r\nL 517.266535 326.961022 \r\nL 517.542127 326.692082 \r\nL 517.690277 326.357604 \r\nL 517.721765 326.14328 \r\nL 517.628896 325.573653 \r\nL 517.695863 325.29438 \r\nL 518.067227 324.61914 \r\nL 518.620659 324.088385 \r\nL 518.798855 323.75707 \r\nL 518.840261 323.459846 \r\nL 518.957457 323.222635 \r\nL 518.948178 322.897068 \r\nL 518.995163 322.81158 \r\nL 519.326782 322.6053 \r\nL 519.599205 322.540695 \r\nL 519.761461 322.443907 \r\nL 519.832327 322.254429 \r\nL 519.752394 321.941966 \r\nL 519.62041 321.708598 \r\nL 519.405533 321.505581 \r\nL 519.250488 321.391904 \r\nL 518.963635 321.297905 \r\nL 518.684865 321.413765 \r\nL 518.551177 321.55842 \r\nL 518.484941 321.744672 \r\nL 518.162326 321.955573 \r\nL 517.968019 322.017151 \r\nL 517.57321 321.947015 \r\nL 517.351663 321.781637 \r\nL 517.209891 321.523371 \r\nL 517.223469 321.224183 \r\nL 517.49795 320.822931 \r\nL 517.590659 320.772388 \r\nL 517.780886 320.434991 \r\nL 518.087571 320.227637 \r\nL 518.234758 319.957957 \r\nL 518.29886 319.583718 \r\nL 518.359631 319.501504 \r\nL 518.524563 319.383823 \r\nL 518.981652 319.290185 \r\nL 519.196473 319.091494 \r\nL 519.303052 318.9216 \r\nL 519.378284 318.648789 \r\nL 519.542731 318.409594 \r\nL 519.534562 318.289816 \r\nL 519.807366 317.96639 \r\nL 520.267791 317.486747 \r\nL 520.371789 317.173126 \r\nL 520.354131 316.782536 \r\nL 520.261569 316.513064 \r\nL 520.256244 316.293026 \r\nL 520.352883 315.843081 \r\nL 520.743438 315.2347 \r\nL 520.891257 315.056631 \r\nL 520.943071 314.869554 \r\nL 520.87878 314.588412 \r\nL 520.702016 314.345023 \r\nL 520.322351 314.164449 \r\nL 519.899427 314.077222 \r\nL 519.730795 313.862098 \r\nL 519.710016 313.69191 \r\nL 519.815714 313.366866 \r\nL 520.264586 312.753764 \r\nL 520.550463 312.048779 \r\nL 520.666607 311.298213 \r\nL 520.605076 310.918993 \r\nL 520.663789 310.736736 \r\nL 520.801983 310.59226 \r\nL 521.094643 310.603029 \r\nL 521.450827 310.750304 \r\nL 521.68116 310.933263 \r\nL 522.03667 311.055327 \r\nL 522.32063 310.987174 \r\nL 522.44548 310.889909 \r\nL 522.547196 310.674 \r\nL 522.55751 310.472558 \r\nL 522.368763 310.034986 \r\nL 522.328771 309.74762 \r\nL 522.257686 309.650395 \r\nL 522.430559 309.313492 \r\nL 522.758098 309.109118 \r\nL 522.80329 309.002889 \r\nL 522.776894 308.728341 \r\nL 522.663699 308.493225 \r\nL 522.397531 308.176134 \r\nL 522.283123 308.134851 \r\nL 522.14658 307.772282 \r\nL 522.206346 307.576059 \r\nL 522.472971 307.287118 \r\nL 522.822788 307.103836 \r\nL 523.1156 307.060874 \r\nL 523.397947 307.135801 \r\nL 523.88778 307.440711 \r\nL 524.075019 307.473236 \r\nL 524.395677 307.252644 \r\nL 524.620107 306.944792 \r\nL 524.692822 306.708936 \r\nL 524.683338 306.266122 \r\nL 524.380943 305.920793 \r\nL 524.028241 305.784602 \r\nL 523.375489 305.858897 \r\nL 523.182168 305.735026 \r\nL 523.014304 305.489246 \r\nL 522.977832 305.190646 \r\nL 523.109044 304.726819 \r\nL 523.513038 304.328452 \r\nL 523.712323 304.00079 \r\nL 524.025917 303.630592 \r\nL 524.27571 303.486686 \r\nL 525.111555 303.403751 \r\nL 525.257671 303.258669 \r\nL 525.345017 303.006491 \r\nL 525.332476 302.717913 \r\nL 525.485187 302.354689 \r\nL 526.131871 301.934844 \r\nL 525.526372 301.491596 \r\nL 525.490861 301.514679 \r\nL 525.108984 301.135705 \r\nL 524.846904 300.9942 \r\nL 524.885439 300.843578 \r\nL 524.994463 300.634221 \r\nL 524.808818 300.58031 \r\nL 524.764158 300.498323 \r\nL 524.612899 300.430644 \r\nL 524.645215 300.19847 \r\nL 524.512528 299.99625 \r\nL 524.423364 299.901815 \r\nL 524.297609 299.878712 \r\nL 524.253869 299.679367 \r\nL 524.178904 299.61025 \r\nL 524.038491 299.504809 \r\nL 523.905751 299.676665 \r\nL 523.495058 299.991582 \r\nL 523.471575 300.167112 \r\nL 523.404209 300.223566 \r\nL 523.428015 300.457695 \r\nL 523.350412 300.468929 \r\nL 523.024501 300.197485 \r\nL 522.847601 300.042741 \r\nL 522.81273 300.087924 \r\nL 522.756245 300.036909 \r\nL 522.610581 300.213261 \r\nL 522.561915 300.336726 \r\nL 522.601354 300.395775 \r\nL 522.345232 300.590215 \r\nL 521.888285 300.663065 \r\nL 521.537387 300.902099 \r\nL 521.443948 301.074811 \r\nL 520.95106 301.267941 \r\nL 520.884354 300.940993 \r\nL 520.757512 300.912365 \r\nL 520.915413 300.623367 \r\nL 520.867935 300.592303 \r\nL 521.06839 300.414495 \r\nL 521.060837 299.999353 \r\nL 520.997134 300.001763 \r\nL 520.956212 300.081824 \r\nL 520.832781 300.028709 \r\nL 520.887212 300.008156 \r\nL 520.858186 299.787906 \r\nL 520.703686 299.79274 \r\nL 520.732492 299.935631 \r\nL 520.636501 299.876833 \r\nL 520.448826 299.906806 \r\nL 520.404754 299.394088 \r\nL 520.462802 299.295288 \r\nL 520.606689 299.349285 \r\nL 520.922264 299.218529 \r\nL 521.078163 299.103837 \r\nL 521.053835 299.06542 \r\nL 520.68804 299.011556 \r\nL 520.627136 298.940452 \r\nL 520.874833 298.399137 \r\nL 520.237166 297.853011 \r\nL 519.493944 297.775588 \r\nL 519.553481 297.675679 \r\nL 519.305832 297.60355 \r\nL 519.035773 297.332674 \r\nL 518.806587 297.247186 \r\nL 518.650745 297.378692 \r\nL 518.637386 297.455355 \r\nL 518.577968 297.44256 \r\nL 518.440423 297.560104 \r\nL 518.410563 297.749762 \r\nL 518.334973 297.576944 \r\nL 518.02676 297.598445 \r\nL 518.002082 297.692368 \r\nL 517.767023 297.729761 \r\nL 517.740251 297.671923 \r\nL 517.541795 297.677073 \r\nL 517.55654 297.732459 \r\nL 517.468319 297.763443 \r\nL 517.452132 297.700215 \r\nL 516.961199 297.796339 \r\nL 516.742403 297.88918 \r\nL 516.402871 298.216662 \r\nL 516.313512 298.044576 \r\nL 515.86779 298.001794 \r\nL 515.888635 297.862936 \r\nL 515.545251 297.849197 \r\nL 515.470153 297.994982 \r\nL 515.235493 297.881779 \r\nL 515.097432 297.699114 \r\nL 514.976449 297.697122 \r\nL 514.933259 297.764165 \r\nL 514.643006 297.853754 \r\nL 514.531428 297.799755 \r\nL 514.487868 297.901639 \r\nL 514.22594 297.982486 \r\nL 514.213188 297.802753 \r\nL 513.954637 297.680129 \r\nL 513.425372 297.608882 \r\nL 512.998018 297.774032 \r\nL 512.443799 296.839492 \r\nL 512.731621 296.772582 \r\nL 512.64081 296.411987 \r\nL 512.224387 296.172488 \r\nL 508.020293 294.432963 \r\nL 506.885668 293.975508 \r\nL 508.758373 293.425435 \r\nL 508.765157 293.625264 \r\nL 509.280385 293.446901 \r\nL 510.378483 293.066785 \r\nL 510.682337 290.999804 \r\nL 510.683174 290.988098 \r\nL 510.839769 288.402225 \r\nL 512.026856 286.606494 \r\nL 512.54561 285.848206 \r\nL 513.877474 284.011535 \r\nL 515.834207 283.407136 \r\nL 516.621531 283.164275 \r\nL 518.751006 282.507165 \r\nL 518.828163 282.483516 \r\nL 519.688387 282.217895 \r\nL 520.372076 282.006753 \r\nL 520.412505 281.994261 \r\nL 521.547282 281.643864 \r\nL 524.975188 280.600459 \r\nL 526.180754 280.232054 \r\nL 526.826667 280.033326 \r\nL 526.965282 279.990446 \r\nL 527.241245 279.906511 \r\nL 527.47706 279.702549 \r\nL 528.555635 278.733747 \r\nL 528.64008 278.658647 \r\nL 530.164014 277.285064 \r\nL 530.306934 277.156243 \r\nL 530.96691 276.561385 \r\nL 530.211402 275.180178 \r\nL 529.068696 273.211812 \r\nL 527.533672 270.622237 \r\nL 527.316406 270.254871 \r\nL 527.311783 270.247062 \r\nL 527.22991 270.108789 \r\nL 527.203335 270.063913 \r\nL 526.98511 269.690185 \r\nL 526.232171 265.275536 \r\nL 525.687555 263.99501 \r\nL 525.580628 263.288481 \r\nL 525.351466 261.764476 \r\nL 524.702514 257.42799 \r\nL 526.853296 257.812191 \r\nL 528.208631 258.060514 \r\nL 529.214619 258.916274 \r\nL 529.949733 258.846547 \r\nL 531.10741 258.736741 \r\nL 532.219119 258.372172 \r\nL 533.597762 257.929526 \r\nL 534.759326 257.394701 \r\nL 535.541693 256.98579 \r\nL 535.620292 256.943741 \r\nL 535.676329 256.987445 \r\nL 536.10153 257.31907 \r\nL 536.544827 257.665131 \r\nL 537.440407 258.818036 \r\nL 537.570344 258.488728 \r\nL 537.506511 258.358636 \r\nL 537.610066 258.271994 \r\nL 537.806005 258.201422 \r\nL 538.04464 258.359617 \r\nL 538.26855 258.271349 \r\nL 538.171197 258.140579 \r\nL 538.283784 258.105713 \r\nL 538.406365 258.249678 \r\nL 538.517148 258.161951 \r\nL 538.073512 257.618625 \r\nL 537.832393 257.012372 \r\nL 537.824526 256.515897 \r\nL 537.924465 255.98572 \r\nL 537.942377 255.722996 \r\nL 537.870454 255.458156 \r\nL 537.524561 254.882763 \r\nL 537.341649 254.683016 \r\nL 537.045837 254.257196 \r\nL 536.894157 253.711329 \r\nL 536.86722 252.089603 \r\nL 536.786277 251.802531 \r\nL 536.607388 251.48005 \r\nL 535.57987 250.448757 \r\nL 535.0197 249.915515 \r\nL 534.10221 249.326738 \r\nL 533.738937 249.196324 \r\nL 533.443061 248.988734 \r\nL 533.134231 248.620408 \r\nL 532.959706 248.257867 \r\nL 532.865673 247.77395 \r\nL 532.859101 247.176006 \r\nL 532.900284 246.699801 \r\nL 532.922911 245.84701 \r\nL 532.839623 245.205359 \r\nL 532.737257 244.762808 \r\nL 532.703872 244.632003 \r\nL 532.364233 243.311609 \r\nL 532.350504 242.575636 \r\nL 532.293452 242.309475 \r\nL 532.056126 242.040127 \r\nL 531.721858 241.859913 \r\nL 530.869335 241.580512 \r\nL 529.929533 241.425854 \r\nL 529.439753 241.407764 \r\nL 528.622723 241.169385 \r\nL 528.242126 240.974253 \r\nL 527.85806 240.646663 \r\nL 527.688317 240.318263 \r\nL 527.589776 239.567004 \r\nL 527.576058 239.451789 \r\nL 527.430081 238.923251 \r\nL 527.352958 238.359427 \r\nL 527.289834 238.040898 \r\nL 526.736184 237.49309 \r\nL 526.711971 237.472424 \r\nL 526.29567 237.227506 \r\nL 526.332682 237.1673 \r\nL 526.468817 236.932858 \r\nL 526.604901 236.678786 \r\nL 526.48133 236.178937 \r\nL 526.479615 235.459648 \r\nL 526.507544 235.342955 \r\nL 526.58087 235.319849 \r\nL 527.71551 235.010799 \r\nL 528.176664 235.085467 \r\nL 528.685352 235.860322 \r\nL 528.969365 236.364487 \r\nL 529.347725 236.707827 \r\nL 529.49958 237.066134 \r\nL 529.498057 237.434137 \r\nL 529.618531 237.747675 \r\nL 530.101701 237.946937 \r\nL 530.813743 238.207338 \r\nL 530.6456 238.373634 \r\nL 530.595501 238.596399 \r\nL 530.782167 238.857856 \r\n\" style=\"fill:#cbdef1;stroke:#333333;stroke-width:0.6;\"/>\r\n   </g>\r\n   <g id=\"text_1\">\r\n    <!-- Cumulative number of covid cases per province on the 4th of February 2021 -->\r\n    <g transform=\"translate(7.2 26.196094)scale(0.25 -0.25)\">\r\n     <defs>\r\n      <path d=\"M 4122 4306 \r\nL 4122 3641 \r\nQ 3803 3938 3442 4084 \r\nQ 3081 4231 2675 4231 \r\nQ 1875 4231 1450 3742 \r\nQ 1025 3253 1025 2328 \r\nQ 1025 1406 1450 917 \r\nQ 1875 428 2675 428 \r\nQ 3081 428 3442 575 \r\nQ 3803 722 4122 1019 \r\nL 4122 359 \r\nQ 3791 134 3420 21 \r\nQ 3050 -91 2638 -91 \r\nQ 1578 -91 968 557 \r\nQ 359 1206 359 2328 \r\nQ 359 3453 968 4101 \r\nQ 1578 4750 2638 4750 \r\nQ 3056 4750 3426 4639 \r\nQ 3797 4528 4122 4306 \r\nz\r\n\" id=\"DejaVuSans-43\" transform=\"scale(0.015625)\"/>\r\n      <path d=\"M 544 1381 \r\nL 544 3500 \r\nL 1119 3500 \r\nL 1119 1403 \r\nQ 1119 906 1312 657 \r\nQ 1506 409 1894 409 \r\nQ 2359 409 2629 706 \r\nQ 2900 1003 2900 1516 \r\nL 2900 3500 \r\nL 3475 3500 \r\nL 3475 0 \r\nL 2900 0 \r\nL 2900 538 \r\nQ 2691 219 2414 64 \r\nQ 2138 -91 1772 -91 \r\nQ 1169 -91 856 284 \r\nQ 544 659 544 1381 \r\nz\r\nM 1991 3584 \r\nL 1991 3584 \r\nz\r\n\" id=\"DejaVuSans-75\" transform=\"scale(0.015625)\"/>\r\n      <path d=\"M 3328 2828 \r\nQ 3544 3216 3844 3400 \r\nQ 4144 3584 4550 3584 \r\nQ 5097 3584 5394 3201 \r\nQ 5691 2819 5691 2113 \r\nL 5691 0 \r\nL 5113 0 \r\nL 5113 2094 \r\nQ 5113 2597 4934 2840 \r\nQ 4756 3084 4391 3084 \r\nQ 3944 3084 3684 2787 \r\nQ 3425 2491 3425 1978 \r\nL 3425 0 \r\nL 2847 0 \r\nL 2847 2094 \r\nQ 2847 2600 2669 2842 \r\nQ 2491 3084 2119 3084 \r\nQ 1678 3084 1418 2786 \r\nQ 1159 2488 1159 1978 \r\nL 1159 0 \r\nL 581 0 \r\nL 581 3500 \r\nL 1159 3500 \r\nL 1159 2956 \r\nQ 1356 3278 1631 3431 \r\nQ 1906 3584 2284 3584 \r\nQ 2666 3584 2933 3390 \r\nQ 3200 3197 3328 2828 \r\nz\r\n\" id=\"DejaVuSans-6d\" transform=\"scale(0.015625)\"/>\r\n      <path d=\"M 603 4863 \r\nL 1178 4863 \r\nL 1178 0 \r\nL 603 0 \r\nL 603 4863 \r\nz\r\n\" id=\"DejaVuSans-6c\" transform=\"scale(0.015625)\"/>\r\n      <path d=\"M 2194 1759 \r\nQ 1497 1759 1228 1600 \r\nQ 959 1441 959 1056 \r\nQ 959 750 1161 570 \r\nQ 1363 391 1709 391 \r\nQ 2188 391 2477 730 \r\nQ 2766 1069 2766 1631 \r\nL 2766 1759 \r\nL 2194 1759 \r\nz\r\nM 3341 1997 \r\nL 3341 0 \r\nL 2766 0 \r\nL 2766 531 \r\nQ 2569 213 2275 61 \r\nQ 1981 -91 1556 -91 \r\nQ 1019 -91 701 211 \r\nQ 384 513 384 1019 \r\nQ 384 1609 779 1909 \r\nQ 1175 2209 1959 2209 \r\nL 2766 2209 \r\nL 2766 2266 \r\nQ 2766 2663 2505 2880 \r\nQ 2244 3097 1772 3097 \r\nQ 1472 3097 1187 3025 \r\nQ 903 2953 641 2809 \r\nL 641 3341 \r\nQ 956 3463 1253 3523 \r\nQ 1550 3584 1831 3584 \r\nQ 2591 3584 2966 3190 \r\nQ 3341 2797 3341 1997 \r\nz\r\n\" id=\"DejaVuSans-61\" transform=\"scale(0.015625)\"/>\r\n      <path d=\"M 1172 4494 \r\nL 1172 3500 \r\nL 2356 3500 \r\nL 2356 3053 \r\nL 1172 3053 \r\nL 1172 1153 \r\nQ 1172 725 1289 603 \r\nQ 1406 481 1766 481 \r\nL 2356 481 \r\nL 2356 0 \r\nL 1766 0 \r\nQ 1100 0 847 248 \r\nQ 594 497 594 1153 \r\nL 594 3053 \r\nL 172 3053 \r\nL 172 3500 \r\nL 594 3500 \r\nL 594 4494 \r\nL 1172 4494 \r\nz\r\n\" id=\"DejaVuSans-74\" transform=\"scale(0.015625)\"/>\r\n      <path d=\"M 603 3500 \r\nL 1178 3500 \r\nL 1178 0 \r\nL 603 0 \r\nL 603 3500 \r\nz\r\nM 603 4863 \r\nL 1178 4863 \r\nL 1178 4134 \r\nL 603 4134 \r\nL 603 4863 \r\nz\r\n\" id=\"DejaVuSans-69\" transform=\"scale(0.015625)\"/>\r\n      <path d=\"M 191 3500 \r\nL 800 3500 \r\nL 1894 563 \r\nL 2988 3500 \r\nL 3597 3500 \r\nL 2284 0 \r\nL 1503 0 \r\nL 191 3500 \r\nz\r\n\" id=\"DejaVuSans-76\" transform=\"scale(0.015625)\"/>\r\n      <path d=\"M 3597 1894 \r\nL 3597 1613 \r\nL 953 1613 \r\nQ 991 1019 1311 708 \r\nQ 1631 397 2203 397 \r\nQ 2534 397 2845 478 \r\nQ 3156 559 3463 722 \r\nL 3463 178 \r\nQ 3153 47 2828 -22 \r\nQ 2503 -91 2169 -91 \r\nQ 1331 -91 842 396 \r\nQ 353 884 353 1716 \r\nQ 353 2575 817 3079 \r\nQ 1281 3584 2069 3584 \r\nQ 2775 3584 3186 3129 \r\nQ 3597 2675 3597 1894 \r\nz\r\nM 3022 2063 \r\nQ 3016 2534 2758 2815 \r\nQ 2500 3097 2075 3097 \r\nQ 1594 3097 1305 2825 \r\nQ 1016 2553 972 2059 \r\nL 3022 2063 \r\nz\r\n\" id=\"DejaVuSans-65\" transform=\"scale(0.015625)\"/>\r\n      <path id=\"DejaVuSans-20\" transform=\"scale(0.015625)\"/>\r\n      <path d=\"M 3513 2113 \r\nL 3513 0 \r\nL 2938 0 \r\nL 2938 2094 \r\nQ 2938 2591 2744 2837 \r\nQ 2550 3084 2163 3084 \r\nQ 1697 3084 1428 2787 \r\nQ 1159 2491 1159 1978 \r\nL 1159 0 \r\nL 581 0 \r\nL 581 3500 \r\nL 1159 3500 \r\nL 1159 2956 \r\nQ 1366 3272 1645 3428 \r\nQ 1925 3584 2291 3584 \r\nQ 2894 3584 3203 3211 \r\nQ 3513 2838 3513 2113 \r\nz\r\n\" id=\"DejaVuSans-6e\" transform=\"scale(0.015625)\"/>\r\n      <path d=\"M 3116 1747 \r\nQ 3116 2381 2855 2742 \r\nQ 2594 3103 2138 3103 \r\nQ 1681 3103 1420 2742 \r\nQ 1159 2381 1159 1747 \r\nQ 1159 1113 1420 752 \r\nQ 1681 391 2138 391 \r\nQ 2594 391 2855 752 \r\nQ 3116 1113 3116 1747 \r\nz\r\nM 1159 2969 \r\nQ 1341 3281 1617 3432 \r\nQ 1894 3584 2278 3584 \r\nQ 2916 3584 3314 3078 \r\nQ 3713 2572 3713 1747 \r\nQ 3713 922 3314 415 \r\nQ 2916 -91 2278 -91 \r\nQ 1894 -91 1617 61 \r\nQ 1341 213 1159 525 \r\nL 1159 0 \r\nL 581 0 \r\nL 581 4863 \r\nL 1159 4863 \r\nL 1159 2969 \r\nz\r\n\" id=\"DejaVuSans-62\" transform=\"scale(0.015625)\"/>\r\n      <path d=\"M 2631 2963 \r\nQ 2534 3019 2420 3045 \r\nQ 2306 3072 2169 3072 \r\nQ 1681 3072 1420 2755 \r\nQ 1159 2438 1159 1844 \r\nL 1159 0 \r\nL 581 0 \r\nL 581 3500 \r\nL 1159 3500 \r\nL 1159 2956 \r\nQ 1341 3275 1631 3429 \r\nQ 1922 3584 2338 3584 \r\nQ 2397 3584 2469 3576 \r\nQ 2541 3569 2628 3553 \r\nL 2631 2963 \r\nz\r\n\" id=\"DejaVuSans-72\" transform=\"scale(0.015625)\"/>\r\n      <path d=\"M 1959 3097 \r\nQ 1497 3097 1228 2736 \r\nQ 959 2375 959 1747 \r\nQ 959 1119 1226 758 \r\nQ 1494 397 1959 397 \r\nQ 2419 397 2687 759 \r\nQ 2956 1122 2956 1747 \r\nQ 2956 2369 2687 2733 \r\nQ 2419 3097 1959 3097 \r\nz\r\nM 1959 3584 \r\nQ 2709 3584 3137 3096 \r\nQ 3566 2609 3566 1747 \r\nQ 3566 888 3137 398 \r\nQ 2709 -91 1959 -91 \r\nQ 1206 -91 779 398 \r\nQ 353 888 353 1747 \r\nQ 353 2609 779 3096 \r\nQ 1206 3584 1959 3584 \r\nz\r\n\" id=\"DejaVuSans-6f\" transform=\"scale(0.015625)\"/>\r\n      <path d=\"M 2375 4863 \r\nL 2375 4384 \r\nL 1825 4384 \r\nQ 1516 4384 1395 4259 \r\nQ 1275 4134 1275 3809 \r\nL 1275 3500 \r\nL 2222 3500 \r\nL 2222 3053 \r\nL 1275 3053 \r\nL 1275 0 \r\nL 697 0 \r\nL 697 3053 \r\nL 147 3053 \r\nL 147 3500 \r\nL 697 3500 \r\nL 697 3744 \r\nQ 697 4328 969 4595 \r\nQ 1241 4863 1831 4863 \r\nL 2375 4863 \r\nz\r\n\" id=\"DejaVuSans-66\" transform=\"scale(0.015625)\"/>\r\n      <path d=\"M 3122 3366 \r\nL 3122 2828 \r\nQ 2878 2963 2633 3030 \r\nQ 2388 3097 2138 3097 \r\nQ 1578 3097 1268 2742 \r\nQ 959 2388 959 1747 \r\nQ 959 1106 1268 751 \r\nQ 1578 397 2138 397 \r\nQ 2388 397 2633 464 \r\nQ 2878 531 3122 666 \r\nL 3122 134 \r\nQ 2881 22 2623 -34 \r\nQ 2366 -91 2075 -91 \r\nQ 1284 -91 818 406 \r\nQ 353 903 353 1747 \r\nQ 353 2603 823 3093 \r\nQ 1294 3584 2113 3584 \r\nQ 2378 3584 2631 3529 \r\nQ 2884 3475 3122 3366 \r\nz\r\n\" id=\"DejaVuSans-63\" transform=\"scale(0.015625)\"/>\r\n      <path d=\"M 2906 2969 \r\nL 2906 4863 \r\nL 3481 4863 \r\nL 3481 0 \r\nL 2906 0 \r\nL 2906 525 \r\nQ 2725 213 2448 61 \r\nQ 2172 -91 1784 -91 \r\nQ 1150 -91 751 415 \r\nQ 353 922 353 1747 \r\nQ 353 2572 751 3078 \r\nQ 1150 3584 1784 3584 \r\nQ 2172 3584 2448 3432 \r\nQ 2725 3281 2906 2969 \r\nz\r\nM 947 1747 \r\nQ 947 1113 1208 752 \r\nQ 1469 391 1925 391 \r\nQ 2381 391 2643 752 \r\nQ 2906 1113 2906 1747 \r\nQ 2906 2381 2643 2742 \r\nQ 2381 3103 1925 3103 \r\nQ 1469 3103 1208 2742 \r\nQ 947 2381 947 1747 \r\nz\r\n\" id=\"DejaVuSans-64\" transform=\"scale(0.015625)\"/>\r\n      <path d=\"M 2834 3397 \r\nL 2834 2853 \r\nQ 2591 2978 2328 3040 \r\nQ 2066 3103 1784 3103 \r\nQ 1356 3103 1142 2972 \r\nQ 928 2841 928 2578 \r\nQ 928 2378 1081 2264 \r\nQ 1234 2150 1697 2047 \r\nL 1894 2003 \r\nQ 2506 1872 2764 1633 \r\nQ 3022 1394 3022 966 \r\nQ 3022 478 2636 193 \r\nQ 2250 -91 1575 -91 \r\nQ 1294 -91 989 -36 \r\nQ 684 19 347 128 \r\nL 347 722 \r\nQ 666 556 975 473 \r\nQ 1284 391 1588 391 \r\nQ 1994 391 2212 530 \r\nQ 2431 669 2431 922 \r\nQ 2431 1156 2273 1281 \r\nQ 2116 1406 1581 1522 \r\nL 1381 1569 \r\nQ 847 1681 609 1914 \r\nQ 372 2147 372 2553 \r\nQ 372 3047 722 3315 \r\nQ 1072 3584 1716 3584 \r\nQ 2034 3584 2315 3537 \r\nQ 2597 3491 2834 3397 \r\nz\r\n\" id=\"DejaVuSans-73\" transform=\"scale(0.015625)\"/>\r\n      <path d=\"M 1159 525 \r\nL 1159 -1331 \r\nL 581 -1331 \r\nL 581 3500 \r\nL 1159 3500 \r\nL 1159 2969 \r\nQ 1341 3281 1617 3432 \r\nQ 1894 3584 2278 3584 \r\nQ 2916 3584 3314 3078 \r\nQ 3713 2572 3713 1747 \r\nQ 3713 922 3314 415 \r\nQ 2916 -91 2278 -91 \r\nQ 1894 -91 1617 61 \r\nQ 1341 213 1159 525 \r\nz\r\nM 3116 1747 \r\nQ 3116 2381 2855 2742 \r\nQ 2594 3103 2138 3103 \r\nQ 1681 3103 1420 2742 \r\nQ 1159 2381 1159 1747 \r\nQ 1159 1113 1420 752 \r\nQ 1681 391 2138 391 \r\nQ 2594 391 2855 752 \r\nQ 3116 1113 3116 1747 \r\nz\r\n\" id=\"DejaVuSans-70\" transform=\"scale(0.015625)\"/>\r\n      <path d=\"M 3513 2113 \r\nL 3513 0 \r\nL 2938 0 \r\nL 2938 2094 \r\nQ 2938 2591 2744 2837 \r\nQ 2550 3084 2163 3084 \r\nQ 1697 3084 1428 2787 \r\nQ 1159 2491 1159 1978 \r\nL 1159 0 \r\nL 581 0 \r\nL 581 4863 \r\nL 1159 4863 \r\nL 1159 2956 \r\nQ 1366 3272 1645 3428 \r\nQ 1925 3584 2291 3584 \r\nQ 2894 3584 3203 3211 \r\nQ 3513 2838 3513 2113 \r\nz\r\n\" id=\"DejaVuSans-68\" transform=\"scale(0.015625)\"/>\r\n      <path d=\"M 2419 4116 \r\nL 825 1625 \r\nL 2419 1625 \r\nL 2419 4116 \r\nz\r\nM 2253 4666 \r\nL 3047 4666 \r\nL 3047 1625 \r\nL 3713 1625 \r\nL 3713 1100 \r\nL 3047 1100 \r\nL 3047 0 \r\nL 2419 0 \r\nL 2419 1100 \r\nL 313 1100 \r\nL 313 1709 \r\nL 2253 4666 \r\nz\r\n\" id=\"DejaVuSans-34\" transform=\"scale(0.015625)\"/>\r\n      <path d=\"M 628 4666 \r\nL 3309 4666 \r\nL 3309 4134 \r\nL 1259 4134 \r\nL 1259 2759 \r\nL 3109 2759 \r\nL 3109 2228 \r\nL 1259 2228 \r\nL 1259 0 \r\nL 628 0 \r\nL 628 4666 \r\nz\r\n\" id=\"DejaVuSans-46\" transform=\"scale(0.015625)\"/>\r\n      <path d=\"M 2059 -325 \r\nQ 1816 -950 1584 -1140 \r\nQ 1353 -1331 966 -1331 \r\nL 506 -1331 \r\nL 506 -850 \r\nL 844 -850 \r\nQ 1081 -850 1212 -737 \r\nQ 1344 -625 1503 -206 \r\nL 1606 56 \r\nL 191 3500 \r\nL 800 3500 \r\nL 1894 763 \r\nL 2988 3500 \r\nL 3597 3500 \r\nL 2059 -325 \r\nz\r\n\" id=\"DejaVuSans-79\" transform=\"scale(0.015625)\"/>\r\n      <path d=\"M 1228 531 \r\nL 3431 531 \r\nL 3431 0 \r\nL 469 0 \r\nL 469 531 \r\nQ 828 903 1448 1529 \r\nQ 2069 2156 2228 2338 \r\nQ 2531 2678 2651 2914 \r\nQ 2772 3150 2772 3378 \r\nQ 2772 3750 2511 3984 \r\nQ 2250 4219 1831 4219 \r\nQ 1534 4219 1204 4116 \r\nQ 875 4013 500 3803 \r\nL 500 4441 \r\nQ 881 4594 1212 4672 \r\nQ 1544 4750 1819 4750 \r\nQ 2544 4750 2975 4387 \r\nQ 3406 4025 3406 3419 \r\nQ 3406 3131 3298 2873 \r\nQ 3191 2616 2906 2266 \r\nQ 2828 2175 2409 1742 \r\nQ 1991 1309 1228 531 \r\nz\r\n\" id=\"DejaVuSans-32\" transform=\"scale(0.015625)\"/>\r\n      <path d=\"M 2034 4250 \r\nQ 1547 4250 1301 3770 \r\nQ 1056 3291 1056 2328 \r\nQ 1056 1369 1301 889 \r\nQ 1547 409 2034 409 \r\nQ 2525 409 2770 889 \r\nQ 3016 1369 3016 2328 \r\nQ 3016 3291 2770 3770 \r\nQ 2525 4250 2034 4250 \r\nz\r\nM 2034 4750 \r\nQ 2819 4750 3233 4129 \r\nQ 3647 3509 3647 2328 \r\nQ 3647 1150 3233 529 \r\nQ 2819 -91 2034 -91 \r\nQ 1250 -91 836 529 \r\nQ 422 1150 422 2328 \r\nQ 422 3509 836 4129 \r\nQ 1250 4750 2034 4750 \r\nz\r\n\" id=\"DejaVuSans-30\" transform=\"scale(0.015625)\"/>\r\n      <path d=\"M 794 531 \r\nL 1825 531 \r\nL 1825 4091 \r\nL 703 3866 \r\nL 703 4441 \r\nL 1819 4666 \r\nL 2450 4666 \r\nL 2450 531 \r\nL 3481 531 \r\nL 3481 0 \r\nL 794 0 \r\nL 794 531 \r\nz\r\n\" id=\"DejaVuSans-31\" transform=\"scale(0.015625)\"/>\r\n     </defs>\r\n     <use xlink:href=\"#DejaVuSans-43\"/>\r\n     <use x=\"69.824219\" xlink:href=\"#DejaVuSans-75\"/>\r\n     <use x=\"133.203125\" xlink:href=\"#DejaVuSans-6d\"/>\r\n     <use x=\"230.615234\" xlink:href=\"#DejaVuSans-75\"/>\r\n     <use x=\"293.994141\" xlink:href=\"#DejaVuSans-6c\"/>\r\n     <use x=\"321.777344\" xlink:href=\"#DejaVuSans-61\"/>\r\n     <use x=\"383.056641\" xlink:href=\"#DejaVuSans-74\"/>\r\n     <use x=\"422.265625\" xlink:href=\"#DejaVuSans-69\"/>\r\n     <use x=\"450.048828\" xlink:href=\"#DejaVuSans-76\"/>\r\n     <use x=\"509.228516\" xlink:href=\"#DejaVuSans-65\"/>\r\n     <use x=\"570.751953\" xlink:href=\"#DejaVuSans-20\"/>\r\n     <use x=\"602.539062\" xlink:href=\"#DejaVuSans-6e\"/>\r\n     <use x=\"665.917969\" xlink:href=\"#DejaVuSans-75\"/>\r\n     <use x=\"729.296875\" xlink:href=\"#DejaVuSans-6d\"/>\r\n     <use x=\"826.708984\" xlink:href=\"#DejaVuSans-62\"/>\r\n     <use x=\"890.185547\" xlink:href=\"#DejaVuSans-65\"/>\r\n     <use x=\"951.708984\" xlink:href=\"#DejaVuSans-72\"/>\r\n     <use x=\"992.822266\" xlink:href=\"#DejaVuSans-20\"/>\r\n     <use x=\"1024.609375\" xlink:href=\"#DejaVuSans-6f\"/>\r\n     <use x=\"1085.791016\" xlink:href=\"#DejaVuSans-66\"/>\r\n     <use x=\"1120.996094\" xlink:href=\"#DejaVuSans-20\"/>\r\n     <use x=\"1152.783203\" xlink:href=\"#DejaVuSans-63\"/>\r\n     <use x=\"1207.763672\" xlink:href=\"#DejaVuSans-6f\"/>\r\n     <use x=\"1268.945312\" xlink:href=\"#DejaVuSans-76\"/>\r\n     <use x=\"1328.125\" xlink:href=\"#DejaVuSans-69\"/>\r\n     <use x=\"1355.908203\" xlink:href=\"#DejaVuSans-64\"/>\r\n     <use x=\"1419.384766\" xlink:href=\"#DejaVuSans-20\"/>\r\n     <use x=\"1451.171875\" xlink:href=\"#DejaVuSans-63\"/>\r\n     <use x=\"1506.152344\" xlink:href=\"#DejaVuSans-61\"/>\r\n     <use x=\"1567.431641\" xlink:href=\"#DejaVuSans-73\"/>\r\n     <use x=\"1619.53125\" xlink:href=\"#DejaVuSans-65\"/>\r\n     <use x=\"1681.054688\" xlink:href=\"#DejaVuSans-73\"/>\r\n     <use x=\"1733.154297\" xlink:href=\"#DejaVuSans-20\"/>\r\n     <use x=\"1764.941406\" xlink:href=\"#DejaVuSans-70\"/>\r\n     <use x=\"1828.417969\" xlink:href=\"#DejaVuSans-65\"/>\r\n     <use x=\"1889.941406\" xlink:href=\"#DejaVuSans-72\"/>\r\n     <use x=\"1931.054688\" xlink:href=\"#DejaVuSans-20\"/>\r\n     <use x=\"1962.841797\" xlink:href=\"#DejaVuSans-70\"/>\r\n     <use x=\"2026.318359\" xlink:href=\"#DejaVuSans-72\"/>\r\n     <use x=\"2065.181641\" xlink:href=\"#DejaVuSans-6f\"/>\r\n     <use x=\"2126.363281\" xlink:href=\"#DejaVuSans-76\"/>\r\n     <use x=\"2185.542969\" xlink:href=\"#DejaVuSans-69\"/>\r\n     <use x=\"2213.326172\" xlink:href=\"#DejaVuSans-6e\"/>\r\n     <use x=\"2276.705078\" xlink:href=\"#DejaVuSans-63\"/>\r\n     <use x=\"2331.685547\" xlink:href=\"#DejaVuSans-65\"/>\r\n     <use x=\"2393.208984\" xlink:href=\"#DejaVuSans-20\"/>\r\n     <use x=\"2424.996094\" xlink:href=\"#DejaVuSans-6f\"/>\r\n     <use x=\"2486.177734\" xlink:href=\"#DejaVuSans-6e\"/>\r\n     <use x=\"2549.556641\" xlink:href=\"#DejaVuSans-20\"/>\r\n     <use x=\"2581.34375\" xlink:href=\"#DejaVuSans-74\"/>\r\n     <use x=\"2620.552734\" xlink:href=\"#DejaVuSans-68\"/>\r\n     <use x=\"2683.931641\" xlink:href=\"#DejaVuSans-65\"/>\r\n     <use x=\"2745.455078\" xlink:href=\"#DejaVuSans-20\"/>\r\n     <use x=\"2777.242188\" xlink:href=\"#DejaVuSans-34\"/>\r\n     <use x=\"2840.865234\" xlink:href=\"#DejaVuSans-74\"/>\r\n     <use x=\"2880.074219\" xlink:href=\"#DejaVuSans-68\"/>\r\n     <use x=\"2943.453125\" xlink:href=\"#DejaVuSans-20\"/>\r\n     <use x=\"2975.240234\" xlink:href=\"#DejaVuSans-6f\"/>\r\n     <use x=\"3036.421875\" xlink:href=\"#DejaVuSans-66\"/>\r\n     <use x=\"3071.626953\" xlink:href=\"#DejaVuSans-20\"/>\r\n     <use x=\"3103.414062\" xlink:href=\"#DejaVuSans-46\"/>\r\n     <use x=\"3155.433594\" xlink:href=\"#DejaVuSans-65\"/>\r\n     <use x=\"3216.957031\" xlink:href=\"#DejaVuSans-62\"/>\r\n     <use x=\"3280.433594\" xlink:href=\"#DejaVuSans-72\"/>\r\n     <use x=\"3321.546875\" xlink:href=\"#DejaVuSans-75\"/>\r\n     <use x=\"3384.925781\" xlink:href=\"#DejaVuSans-61\"/>\r\n     <use x=\"3446.205078\" xlink:href=\"#DejaVuSans-72\"/>\r\n     <use x=\"3487.318359\" xlink:href=\"#DejaVuSans-79\"/>\r\n     <use x=\"3546.498047\" xlink:href=\"#DejaVuSans-20\"/>\r\n     <use x=\"3578.285156\" xlink:href=\"#DejaVuSans-32\"/>\r\n     <use x=\"3641.908203\" xlink:href=\"#DejaVuSans-30\"/>\r\n     <use x=\"3705.53125\" xlink:href=\"#DejaVuSans-32\"/>\r\n     <use x=\"3769.154297\" xlink:href=\"#DejaVuSans-31\"/>\r\n    </g>\r\n   </g>\r\n  </g>\r\n  <g id=\"axes_2\">\r\n   <g id=\"patch_2\">\r\n    <path d=\"M 646.625323 358.356094 \r\nL 662.933323 358.356094 \r\nL 662.933323 32.196094 \r\nL 646.625323 32.196094 \r\nz\r\n\" style=\"fill:#ffffff;\"/>\r\n   </g>\r\n   <g id=\"patch_3\">\r\n    <path clip-path=\"url(#p847eb9da5f)\" d=\"M 646.625323 358.356094 \r\nL 646.625323 357.082031 \r\nL 646.625323 33.470156 \r\nL 646.625323 32.196094 \r\nL 662.933323 32.196094 \r\nL 662.933323 33.470156 \r\nL 662.933323 357.082031 \r\nL 662.933323 358.356094 \r\nL 662.933323 358.356094 \r\nz\r\n\" style=\"fill:#ffffff;stroke:#ffffff;stroke-linejoin:miter;stroke-width:0.01;\"/>\r\n   </g>\r\n   <image height=\"326\" id=\"image6ef3785c67\" transform=\"scale(1 -1)translate(0 -326)\" width=\"16\" x=\"647\" xlink:href=\"data:image/png;base64,\r\niVBORw0KGgoAAAANSUhEUgAAABAAAAFGCAYAAABjUx8/AAABZ0lEQVR4nO3bQQ4CMQxDUYN6/+uyQJphATdwJJvos2+VeU3SdoDH633fMj7HGy49veHSueWFcMzxOub4CQP/EUDMI8aLCcSZjmROMFBMIMYRK4opHYFAzPdEHzG+vVd0pH8/I4EIotSAWNHWQQQRRFWc1kEEURWIl6lIR5LOlY4AxCWI7gTXAoP027wdiHYEbjmbEUwghrc2OwLfwF2FAcR0Kg8gkkgTieRGkM7EgkTyz0jsjT6iu4wbDPzzQUE1mhMUXHkKEDGI70z+7kxLo6WJa99vAjOCeD8AseLeGG8oBffGgVeiIBZ8y7MAMd+R/r+t5+9MIFJMIxEsQMyf0hoQMYg/Qj4CEEEciaCiI5FI/gHDPGWB2JCJG6rR/9F3QSKlEeOrAGLHP+vSBgWI8VoAsQGxwCA/AW29YAL2hRkDuxa8b9/zEexAxCAeAYggficwXwNNGIQbSn4VViRSOgIQS6oxjPgBF98bSP2H1YwAAAAASUVORK5CYII=\" y=\"-32\"/>\r\n   <g id=\"matplotlib.axis_1\"/>\r\n   <g id=\"matplotlib.axis_2\">\r\n    <g id=\"ytick_1\">\r\n     <g id=\"line2d_1\">\r\n      <defs>\r\n       <path d=\"M 0 0 \r\nL 3.5 0 \r\n\" id=\"m3027fa0a3e\" style=\"stroke:#000000;stroke-width:0.8;\"/>\r\n      </defs>\r\n      <g>\r\n       <use style=\"stroke:#000000;stroke-width:0.8;\" x=\"662.933323\" xlink:href=\"#m3027fa0a3e\" y=\"335.058951\"/>\r\n      </g>\r\n     </g>\r\n     <g id=\"text_2\">\r\n      <!-- 20000 -->\r\n      <g transform=\"translate(669.933323 338.85817)scale(0.1 -0.1)\">\r\n       <use xlink:href=\"#DejaVuSans-32\"/>\r\n       <use x=\"63.623047\" xlink:href=\"#DejaVuSans-30\"/>\r\n       <use x=\"127.246094\" xlink:href=\"#DejaVuSans-30\"/>\r\n       <use x=\"190.869141\" xlink:href=\"#DejaVuSans-30\"/>\r\n       <use x=\"254.492188\" xlink:href=\"#DejaVuSans-30\"/>\r\n      </g>\r\n     </g>\r\n    </g>\r\n    <g id=\"ytick_2\">\r\n     <g id=\"line2d_2\">\r\n      <g>\r\n       <use style=\"stroke:#000000;stroke-width:0.8;\" x=\"662.933323\" xlink:href=\"#m3027fa0a3e\" y=\"288.464665\"/>\r\n      </g>\r\n     </g>\r\n     <g id=\"text_3\">\r\n      <!-- 40000 -->\r\n      <g transform=\"translate(669.933323 292.263884)scale(0.1 -0.1)\">\r\n       <use xlink:href=\"#DejaVuSans-34\"/>\r\n       <use x=\"63.623047\" xlink:href=\"#DejaVuSans-30\"/>\r\n       <use x=\"127.246094\" xlink:href=\"#DejaVuSans-30\"/>\r\n       <use x=\"190.869141\" xlink:href=\"#DejaVuSans-30\"/>\r\n       <use x=\"254.492188\" xlink:href=\"#DejaVuSans-30\"/>\r\n      </g>\r\n     </g>\r\n    </g>\r\n    <g id=\"ytick_3\">\r\n     <g id=\"line2d_3\">\r\n      <g>\r\n       <use style=\"stroke:#000000;stroke-width:0.8;\" x=\"662.933323\" xlink:href=\"#m3027fa0a3e\" y=\"241.870379\"/>\r\n      </g>\r\n     </g>\r\n     <g id=\"text_4\">\r\n      <!-- 60000 -->\r\n      <g transform=\"translate(669.933323 245.669598)scale(0.1 -0.1)\">\r\n       <defs>\r\n        <path d=\"M 2113 2584 \r\nQ 1688 2584 1439 2293 \r\nQ 1191 2003 1191 1497 \r\nQ 1191 994 1439 701 \r\nQ 1688 409 2113 409 \r\nQ 2538 409 2786 701 \r\nQ 3034 994 3034 1497 \r\nQ 3034 2003 2786 2293 \r\nQ 2538 2584 2113 2584 \r\nz\r\nM 3366 4563 \r\nL 3366 3988 \r\nQ 3128 4100 2886 4159 \r\nQ 2644 4219 2406 4219 \r\nQ 1781 4219 1451 3797 \r\nQ 1122 3375 1075 2522 \r\nQ 1259 2794 1537 2939 \r\nQ 1816 3084 2150 3084 \r\nQ 2853 3084 3261 2657 \r\nQ 3669 2231 3669 1497 \r\nQ 3669 778 3244 343 \r\nQ 2819 -91 2113 -91 \r\nQ 1303 -91 875 529 \r\nQ 447 1150 447 2328 \r\nQ 447 3434 972 4092 \r\nQ 1497 4750 2381 4750 \r\nQ 2619 4750 2861 4703 \r\nQ 3103 4656 3366 4563 \r\nz\r\n\" id=\"DejaVuSans-36\" transform=\"scale(0.015625)\"/>\r\n       </defs>\r\n       <use xlink:href=\"#DejaVuSans-36\"/>\r\n       <use x=\"63.623047\" xlink:href=\"#DejaVuSans-30\"/>\r\n       <use x=\"127.246094\" xlink:href=\"#DejaVuSans-30\"/>\r\n       <use x=\"190.869141\" xlink:href=\"#DejaVuSans-30\"/>\r\n       <use x=\"254.492188\" xlink:href=\"#DejaVuSans-30\"/>\r\n      </g>\r\n     </g>\r\n    </g>\r\n    <g id=\"ytick_4\">\r\n     <g id=\"line2d_4\">\r\n      <g>\r\n       <use style=\"stroke:#000000;stroke-width:0.8;\" x=\"662.933323\" xlink:href=\"#m3027fa0a3e\" y=\"195.276094\"/>\r\n      </g>\r\n     </g>\r\n     <g id=\"text_5\">\r\n      <!-- 80000 -->\r\n      <g transform=\"translate(669.933323 199.075312)scale(0.1 -0.1)\">\r\n       <defs>\r\n        <path d=\"M 2034 2216 \r\nQ 1584 2216 1326 1975 \r\nQ 1069 1734 1069 1313 \r\nQ 1069 891 1326 650 \r\nQ 1584 409 2034 409 \r\nQ 2484 409 2743 651 \r\nQ 3003 894 3003 1313 \r\nQ 3003 1734 2745 1975 \r\nQ 2488 2216 2034 2216 \r\nz\r\nM 1403 2484 \r\nQ 997 2584 770 2862 \r\nQ 544 3141 544 3541 \r\nQ 544 4100 942 4425 \r\nQ 1341 4750 2034 4750 \r\nQ 2731 4750 3128 4425 \r\nQ 3525 4100 3525 3541 \r\nQ 3525 3141 3298 2862 \r\nQ 3072 2584 2669 2484 \r\nQ 3125 2378 3379 2068 \r\nQ 3634 1759 3634 1313 \r\nQ 3634 634 3220 271 \r\nQ 2806 -91 2034 -91 \r\nQ 1263 -91 848 271 \r\nQ 434 634 434 1313 \r\nQ 434 1759 690 2068 \r\nQ 947 2378 1403 2484 \r\nz\r\nM 1172 3481 \r\nQ 1172 3119 1398 2916 \r\nQ 1625 2713 2034 2713 \r\nQ 2441 2713 2670 2916 \r\nQ 2900 3119 2900 3481 \r\nQ 2900 3844 2670 4047 \r\nQ 2441 4250 2034 4250 \r\nQ 1625 4250 1398 4047 \r\nQ 1172 3844 1172 3481 \r\nz\r\n\" id=\"DejaVuSans-38\" transform=\"scale(0.015625)\"/>\r\n       </defs>\r\n       <use xlink:href=\"#DejaVuSans-38\"/>\r\n       <use x=\"63.623047\" xlink:href=\"#DejaVuSans-30\"/>\r\n       <use x=\"127.246094\" xlink:href=\"#DejaVuSans-30\"/>\r\n       <use x=\"190.869141\" xlink:href=\"#DejaVuSans-30\"/>\r\n       <use x=\"254.492188\" xlink:href=\"#DejaVuSans-30\"/>\r\n      </g>\r\n     </g>\r\n    </g>\r\n    <g id=\"ytick_5\">\r\n     <g id=\"line2d_5\">\r\n      <g>\r\n       <use style=\"stroke:#000000;stroke-width:0.8;\" x=\"662.933323\" xlink:href=\"#m3027fa0a3e\" y=\"148.681808\"/>\r\n      </g>\r\n     </g>\r\n     <g id=\"text_6\">\r\n      <!-- 100000 -->\r\n      <g transform=\"translate(669.933323 152.481027)scale(0.1 -0.1)\">\r\n       <use xlink:href=\"#DejaVuSans-31\"/>\r\n       <use x=\"63.623047\" xlink:href=\"#DejaVuSans-30\"/>\r\n       <use x=\"127.246094\" xlink:href=\"#DejaVuSans-30\"/>\r\n       <use x=\"190.869141\" xlink:href=\"#DejaVuSans-30\"/>\r\n       <use x=\"254.492188\" xlink:href=\"#DejaVuSans-30\"/>\r\n       <use x=\"318.115234\" xlink:href=\"#DejaVuSans-30\"/>\r\n      </g>\r\n     </g>\r\n    </g>\r\n    <g id=\"ytick_6\">\r\n     <g id=\"line2d_6\">\r\n      <g>\r\n       <use style=\"stroke:#000000;stroke-width:0.8;\" x=\"662.933323\" xlink:href=\"#m3027fa0a3e\" y=\"102.087522\"/>\r\n      </g>\r\n     </g>\r\n     <g id=\"text_7\">\r\n      <!-- 120000 -->\r\n      <g transform=\"translate(669.933323 105.886741)scale(0.1 -0.1)\">\r\n       <use xlink:href=\"#DejaVuSans-31\"/>\r\n       <use x=\"63.623047\" xlink:href=\"#DejaVuSans-32\"/>\r\n       <use x=\"127.246094\" xlink:href=\"#DejaVuSans-30\"/>\r\n       <use x=\"190.869141\" xlink:href=\"#DejaVuSans-30\"/>\r\n       <use x=\"254.492188\" xlink:href=\"#DejaVuSans-30\"/>\r\n       <use x=\"318.115234\" xlink:href=\"#DejaVuSans-30\"/>\r\n      </g>\r\n     </g>\r\n    </g>\r\n    <g id=\"ytick_7\">\r\n     <g id=\"line2d_7\">\r\n      <g>\r\n       <use style=\"stroke:#000000;stroke-width:0.8;\" x=\"662.933323\" xlink:href=\"#m3027fa0a3e\" y=\"55.493237\"/>\r\n      </g>\r\n     </g>\r\n     <g id=\"text_8\">\r\n      <!-- 140000 -->\r\n      <g transform=\"translate(669.933323 59.292455)scale(0.1 -0.1)\">\r\n       <use xlink:href=\"#DejaVuSans-31\"/>\r\n       <use x=\"63.623047\" xlink:href=\"#DejaVuSans-34\"/>\r\n       <use x=\"127.246094\" xlink:href=\"#DejaVuSans-30\"/>\r\n       <use x=\"190.869141\" xlink:href=\"#DejaVuSans-30\"/>\r\n       <use x=\"254.492188\" xlink:href=\"#DejaVuSans-30\"/>\r\n       <use x=\"318.115234\" xlink:href=\"#DejaVuSans-30\"/>\r\n      </g>\r\n     </g>\r\n    </g>\r\n   </g>\r\n   <g id=\"LineCollection_1\"/>\r\n   <g id=\"patch_4\">\r\n    <path d=\"M 646.625323 358.356094 \r\nL 646.625323 357.082031 \r\nL 646.625323 33.470156 \r\nL 646.625323 32.196094 \r\nL 662.933323 32.196094 \r\nL 662.933323 33.470156 \r\nL 662.933323 357.082031 \r\nL 662.933323 358.356094 \r\nz\r\n\" style=\"fill:none;stroke:#000000;stroke-linecap:square;stroke-linejoin:miter;stroke-width:0.8;\"/>\r\n   </g>\r\n  </g>\r\n </g>\r\n <defs>\r\n  <clipPath id=\"pab055609a1\">\r\n   <rect height=\"326.16\" width=\"276.015333\" x=\"348.28999\" y=\"32.196094\"/>\r\n  </clipPath>\r\n  <clipPath id=\"p847eb9da5f\">\r\n   <rect height=\"326.16\" width=\"16.308\" x=\"646.625323\" y=\"32.196094\"/>\r\n  </clipPath>\r\n </defs>\r\n</svg>\r\n",
      "text/plain": [
       "<Figure size 576x432 with 2 Axes>"
      ]
     },
     "metadata": {
      "needs_background": "light"
     },
     "output_type": "display_data"
    }
   ],
   "source": [
    "fp = 'https://geodata.nationaalgeoregister.nl/cbsgebiedsindelingen/wfs?request=GetFeature&service=WFS&version=1.1.0&typeName=cbsgebiedsindelingen:cbs_provincie_2021_gegeneraliseerd&outputFormat=json'\n",
    "df_map = gpd.read_file(fp)\n",
    "df_map['statnaam'] = df_map['statnaam'].replace(['Fryslân'],'Friesland')\n",
    "df_map['statnaam'] = df_map['statnaam'].replace(['Limburg'],'Zuid-Limburg')\n",
    "\n",
    "latest_date = '2021-02-04'\n",
    "df_cumul = df_full.loc[df_full['date'] == latest_date]\n",
    "\n",
    "merged = df_map.set_index('statnaam').join(df_cumul.set_index('province'))\n",
    "\n",
    "activity_7 = 'number of cases_cum'\n",
    "vmin, vmax = 10000,150000\n",
    "fig, ax = plt.subplots(1,figsize=(8,6))\n",
    "ax.axis('off')\n",
    "ax.set_title('Cumulative number of covid cases per province on the 4th of February 2021', fontdict={'fontsize': '25', 'fontweight': '3'})\n",
    "\n",
    "sm = plt.cm.ScalarMappable(cmap='Blues', norm=plt.Normalize(vmin=vmin, vmax=vmax))\n",
    "sm.A = []\n",
    "cbar = fig.colorbar(sm)\n",
    "\n",
    "merged.plot(column=activity_7,cmap='Blues',linewidth=0.6,ax=ax,edgecolor='0.2')"
   ]
  },
  {
   "cell_type": "markdown",
   "metadata": {},
   "source": [
    "Also here it can be seen that Noord-Brabant has not necessarily been the only province with a high number of cases.\n",
    "\n",
    "Having observed this, let's add Noord-Holland and Zuid-Holland to the line graph a couple of blocks back."
   ]
  },
  {
   "cell_type": "code",
   "execution_count": 20,
   "metadata": {},
   "outputs": [
    {
     "data": {
      "application/vnd.plotly.v1+json": {
       "config": {
        "plotlyServerURL": "https://plot.ly"
       },
       "data": [
        {
         "name": "number of hospitalized patients Noord-Brabant",
         "type": "scatter",
         "x": [
          "2020-02-27T00:00:00",
          "2020-03-05T00:00:00",
          "2020-03-12T00:00:00",
          "2020-03-19T00:00:00",
          "2020-03-26T00:00:00",
          "2020-04-02T00:00:00",
          "2020-04-09T00:00:00",
          "2020-04-16T00:00:00",
          "2020-04-23T00:00:00",
          "2020-04-30T00:00:00",
          "2020-05-07T00:00:00",
          "2020-05-14T00:00:00",
          "2020-05-21T00:00:00",
          "2020-05-28T00:00:00",
          "2020-06-04T00:00:00",
          "2020-06-11T00:00:00",
          "2020-06-18T00:00:00",
          "2020-06-25T00:00:00",
          "2020-07-02T00:00:00",
          "2020-07-09T00:00:00",
          "2020-07-16T00:00:00",
          "2020-07-23T00:00:00",
          "2020-07-30T00:00:00",
          "2020-08-06T00:00:00",
          "2020-08-13T00:00:00",
          "2020-08-20T00:00:00",
          "2020-08-27T00:00:00",
          "2020-09-03T00:00:00",
          "2020-09-10T00:00:00",
          "2020-09-17T00:00:00",
          "2020-09-24T00:00:00",
          "2020-10-01T00:00:00",
          "2020-10-08T00:00:00",
          "2020-10-15T00:00:00",
          "2020-10-22T00:00:00",
          "2020-10-29T00:00:00",
          "2020-11-05T00:00:00",
          "2020-11-12T00:00:00",
          "2020-11-19T00:00:00",
          "2020-11-26T00:00:00",
          "2020-12-03T00:00:00",
          "2020-12-10T00:00:00",
          "2020-12-17T00:00:00",
          "2020-12-24T00:00:00",
          "2020-12-31T00:00:00",
          "2021-01-07T00:00:00",
          "2021-01-14T00:00:00",
          "2021-01-21T00:00:00",
          "2021-01-28T00:00:00",
          "2021-02-04T00:00:00",
          "2021-02-11T00:00:00",
          "2021-02-18T00:00:00",
          "2021-02-25T00:00:00",
          "2021-03-04T00:00:00",
          "2021-03-11T00:00:00",
          "2021-03-18T00:00:00",
          "2021-03-25T00:00:00",
          "2021-04-01T00:00:00",
          "2021-04-08T00:00:00",
          "2021-04-15T00:00:00"
         ],
         "y": [
          null,
          null,
          18.6,
          42.142857142857146,
          143,
          63.857142857142854,
          41.142857142857146,
          18.714285714285715,
          26,
          15.714285714285714,
          14.571428571428571,
          3.142857142857143,
          0.5714285714285714,
          0.8571428571428571,
          0.5714285714285714,
          1.2857142857142858,
          0.14285714285714285,
          0.42857142857142855,
          0,
          -0.14285714285714285,
          0,
          0.5714285714285714,
          0.8571428571428571,
          0.2857142857142857,
          0.8571428571428571,
          0.7142857142857143,
          0.5714285714285714,
          0.42857142857142855,
          0.2857142857142857,
          1.2857142857142858,
          3.5714285714285716,
          3.857142857142857,
          6.285714285714286,
          11.285714285714286,
          14,
          15.857142857142858,
          9.142857142857142,
          12,
          11,
          9.714285714285714,
          10.428571428571429,
          12.285714285714286,
          13.142857142857142,
          10.285714285714286,
          10.571428571428571,
          12.571428571428571,
          7.857142857142857,
          8.428571428571429,
          7.857142857142857,
          7.142857142857143,
          6.428571428571429,
          7.571428571428571,
          6.285714285714286,
          5.285714285714286,
          6.428571428571429,
          7.333333333333333,
          7.714285714285714,
          6.428571428571429,
          8,
          7.333333333333333
         ]
        },
        {
         "name": "number of casualties Noord-Brabant",
         "type": "scatter",
         "x": [
          "2020-02-27T00:00:00",
          "2020-03-05T00:00:00",
          "2020-03-12T00:00:00",
          "2020-03-19T00:00:00",
          "2020-03-26T00:00:00",
          "2020-04-02T00:00:00",
          "2020-04-09T00:00:00",
          "2020-04-16T00:00:00",
          "2020-04-23T00:00:00",
          "2020-04-30T00:00:00",
          "2020-05-07T00:00:00",
          "2020-05-14T00:00:00",
          "2020-05-21T00:00:00",
          "2020-05-28T00:00:00",
          "2020-06-04T00:00:00",
          "2020-06-11T00:00:00",
          "2020-06-18T00:00:00",
          "2020-06-25T00:00:00",
          "2020-07-02T00:00:00",
          "2020-07-09T00:00:00",
          "2020-07-16T00:00:00",
          "2020-07-23T00:00:00",
          "2020-07-30T00:00:00",
          "2020-08-06T00:00:00",
          "2020-08-13T00:00:00",
          "2020-08-20T00:00:00",
          "2020-08-27T00:00:00",
          "2020-09-03T00:00:00",
          "2020-09-10T00:00:00",
          "2020-09-17T00:00:00",
          "2020-09-24T00:00:00",
          "2020-10-01T00:00:00",
          "2020-10-08T00:00:00",
          "2020-10-15T00:00:00",
          "2020-10-22T00:00:00",
          "2020-10-29T00:00:00",
          "2020-11-05T00:00:00",
          "2020-11-12T00:00:00",
          "2020-11-19T00:00:00",
          "2020-11-26T00:00:00",
          "2020-12-03T00:00:00",
          "2020-12-10T00:00:00",
          "2020-12-17T00:00:00",
          "2020-12-24T00:00:00",
          "2020-12-31T00:00:00",
          "2021-01-07T00:00:00",
          "2021-01-14T00:00:00",
          "2021-01-21T00:00:00",
          "2021-01-28T00:00:00",
          "2021-02-04T00:00:00",
          "2021-02-11T00:00:00",
          "2021-02-18T00:00:00",
          "2021-02-25T00:00:00",
          "2021-03-04T00:00:00",
          "2021-03-11T00:00:00",
          "2021-03-18T00:00:00",
          "2021-03-25T00:00:00",
          "2021-04-01T00:00:00",
          "2021-04-08T00:00:00",
          "2021-04-15T00:00:00"
         ],
         "y": [
          null,
          null,
          6.4,
          19.428571428571427,
          43.714285714285715,
          43,
          29,
          34,
          16,
          10.428571428571429,
          9,
          2.7142857142857144,
          1.4285714285714286,
          1.8571428571428572,
          1.2857142857142858,
          1,
          0.5714285714285714,
          0.5714285714285714,
          0.2857142857142857,
          -0.2857142857142857,
          0,
          0.14285714285714285,
          0.2857142857142857,
          0.5714285714285714,
          0.5714285714285714,
          0.14285714285714285,
          0.42857142857142855,
          0.14285714285714285,
          0,
          0.42857142857142855,
          1.2857142857142858,
          1.5714285714285714,
          2.7142857142857144,
          4.714285714285714,
          6.857142857142857,
          13.571428571428571,
          14.142857142857142,
          12.428571428571429,
          7.285714285714286,
          8,
          6.857142857142857,
          12.857142857142858,
          13.571428571428571,
          10.571428571428571,
          9.857142857142858,
          12.285714285714286,
          8.714285714285714,
          7.714285714285714,
          7.285714285714286,
          8.571428571428571,
          9.142857142857142,
          7.142857142857143,
          4.428571428571429,
          4.142857142857143,
          4.428571428571429,
          3.6666666666666665,
          3,
          2,
          3.4285714285714284,
          1.6666666666666667
         ]
        },
        {
         "name": "number of cases Noord-Brabant",
         "type": "scatter",
         "x": [
          "2020-02-27T00:00:00",
          "2020-03-05T00:00:00",
          "2020-03-12T00:00:00",
          "2020-03-19T00:00:00",
          "2020-03-26T00:00:00",
          "2020-04-02T00:00:00",
          "2020-04-09T00:00:00",
          "2020-04-16T00:00:00",
          "2020-04-23T00:00:00",
          "2020-04-30T00:00:00",
          "2020-05-07T00:00:00",
          "2020-05-14T00:00:00",
          "2020-05-21T00:00:00",
          "2020-05-28T00:00:00",
          "2020-06-04T00:00:00",
          "2020-06-11T00:00:00",
          "2020-06-18T00:00:00",
          "2020-06-25T00:00:00",
          "2020-07-02T00:00:00",
          "2020-07-09T00:00:00",
          "2020-07-16T00:00:00",
          "2020-07-23T00:00:00",
          "2020-07-30T00:00:00",
          "2020-08-06T00:00:00",
          "2020-08-13T00:00:00",
          "2020-08-20T00:00:00",
          "2020-08-27T00:00:00",
          "2020-09-03T00:00:00",
          "2020-09-10T00:00:00",
          "2020-09-17T00:00:00",
          "2020-09-24T00:00:00",
          "2020-10-01T00:00:00",
          "2020-10-08T00:00:00",
          "2020-10-15T00:00:00",
          "2020-10-22T00:00:00",
          "2020-10-29T00:00:00",
          "2020-11-05T00:00:00",
          "2020-11-12T00:00:00",
          "2020-11-19T00:00:00",
          "2020-11-26T00:00:00",
          "2020-12-03T00:00:00",
          "2020-12-10T00:00:00",
          "2020-12-17T00:00:00",
          "2020-12-24T00:00:00",
          "2020-12-31T00:00:00",
          "2021-01-07T00:00:00",
          "2021-01-14T00:00:00",
          "2021-01-21T00:00:00",
          "2021-01-28T00:00:00",
          "2021-02-04T00:00:00",
          "2021-02-11T00:00:00",
          "2021-02-18T00:00:00",
          "2021-02-25T00:00:00",
          "2021-03-04T00:00:00",
          "2021-03-11T00:00:00",
          "2021-03-18T00:00:00",
          "2021-03-25T00:00:00",
          "2021-04-01T00:00:00",
          "2021-04-08T00:00:00",
          "2021-04-15T00:00:00"
         ],
         "y": [
          2.6666666666666665,
          28.714285714285715,
          72.85714285714286,
          163.85714285714286,
          236.14285714285714,
          174.71428571428572,
          181.42857142857142,
          161.71428571428572,
          101.28571428571429,
          62.142857142857146,
          35.142857142857146,
          25.428571428571427,
          22.142857142857142,
          24.571428571428573,
          30.142857142857142,
          26.285714285714285,
          13.285714285714286,
          9.285714285714286,
          8.857142857142858,
          7.285714285714286,
          18.714285714285715,
          23.428571428571427,
          49.57142857142857,
          73.85714285714286,
          65.28571428571429,
          72,
          71.71428571428571,
          86.42857142857143,
          108.57142857142857,
          221.42857142857142,
          327.2857142857143,
          553.5714285714286,
          963.5714285714286,
          1271.2857142857142,
          1544,
          1673.4285714285713,
          982,
          875,
          917.8571428571429,
          780.2857142857143,
          1051.857142857143,
          1449.2857142857142,
          1721.7142857142858,
          1329.2857142857142,
          1102.4285714285713,
          1101.2857142857142,
          809.7142857142857,
          807.5714285714286,
          696.4285714285714,
          589,
          544,
          781,
          742.4285714285714,
          713.4285714285714,
          904,
          1048.3333333333333,
          1158.7142857142858,
          1113.5714285714287,
          1214,
          1457
         ]
        },
        {
         "name": "number of hospitalized patients Noord-Holland",
         "type": "scatter",
         "x": [
          "2020-02-27T00:00:00",
          "2020-03-05T00:00:00",
          "2020-03-12T00:00:00",
          "2020-03-19T00:00:00",
          "2020-03-26T00:00:00",
          "2020-04-02T00:00:00",
          "2020-04-09T00:00:00",
          "2020-04-16T00:00:00",
          "2020-04-23T00:00:00",
          "2020-04-30T00:00:00",
          "2020-05-07T00:00:00",
          "2020-05-14T00:00:00",
          "2020-05-21T00:00:00",
          "2020-05-28T00:00:00",
          "2020-06-04T00:00:00",
          "2020-06-11T00:00:00",
          "2020-06-18T00:00:00",
          "2020-06-25T00:00:00",
          "2020-07-02T00:00:00",
          "2020-07-09T00:00:00",
          "2020-07-16T00:00:00",
          "2020-07-23T00:00:00",
          "2020-07-30T00:00:00",
          "2020-08-06T00:00:00",
          "2020-08-13T00:00:00",
          "2020-08-20T00:00:00",
          "2020-08-27T00:00:00",
          "2020-09-03T00:00:00",
          "2020-09-10T00:00:00",
          "2020-09-17T00:00:00",
          "2020-09-24T00:00:00",
          "2020-10-01T00:00:00",
          "2020-10-08T00:00:00",
          "2020-10-15T00:00:00",
          "2020-10-22T00:00:00",
          "2020-10-29T00:00:00",
          "2020-11-05T00:00:00",
          "2020-11-12T00:00:00",
          "2020-11-19T00:00:00",
          "2020-11-26T00:00:00",
          "2020-12-03T00:00:00",
          "2020-12-10T00:00:00",
          "2020-12-17T00:00:00",
          "2020-12-24T00:00:00",
          "2020-12-31T00:00:00",
          "2021-01-07T00:00:00",
          "2021-01-14T00:00:00",
          "2021-01-21T00:00:00",
          "2021-01-28T00:00:00",
          "2021-02-04T00:00:00",
          "2021-02-11T00:00:00",
          "2021-02-18T00:00:00",
          "2021-02-25T00:00:00",
          "2021-03-04T00:00:00",
          "2021-03-11T00:00:00",
          "2021-03-18T00:00:00",
          "2021-03-25T00:00:00",
          "2021-04-01T00:00:00",
          "2021-04-08T00:00:00",
          "2021-04-15T00:00:00"
         ],
         "y": [
          null,
          null,
          3.8,
          32.42857142857143,
          72.28571428571429,
          46.714285714285715,
          27.142857142857142,
          21.571428571428573,
          11.142857142857142,
          7.714285714285714,
          3.5714285714285716,
          3.142857142857143,
          0.8571428571428571,
          1.5714285714285714,
          0.8571428571428571,
          0.42857142857142855,
          0.8571428571428571,
          0.2857142857142857,
          0,
          0.14285714285714285,
          0,
          1,
          1.4285714285714286,
          2,
          1.1428571428571428,
          2.142857142857143,
          1.7142857142857142,
          1.7142857142857142,
          4.714285714285714,
          6.285714285714286,
          9.857142857142858,
          11.857142857142858,
          13.571428571428571,
          19.428571428571427,
          19,
          21,
          12.285714285714286,
          12.857142857142858,
          8.857142857142858,
          8.428571428571429,
          8.857142857142858,
          10.428571428571429,
          14.428571428571429,
          13.285714285714286,
          13.714285714285714,
          10.714285714285714,
          9.142857142857142,
          10.571428571428571,
          11.142857142857142,
          9.285714285714286,
          11.428571428571429,
          9.428571428571429,
          9.428571428571429,
          12.142857142857142,
          11.714285714285714,
          12.166666666666666,
          12.285714285714286,
          11.428571428571429,
          11.142857142857142,
          12
         ]
        },
        {
         "name": "number of casualties Noord-Holland",
         "type": "scatter",
         "x": [
          "2020-02-27T00:00:00",
          "2020-03-05T00:00:00",
          "2020-03-12T00:00:00",
          "2020-03-19T00:00:00",
          "2020-03-26T00:00:00",
          "2020-04-02T00:00:00",
          "2020-04-09T00:00:00",
          "2020-04-16T00:00:00",
          "2020-04-23T00:00:00",
          "2020-04-30T00:00:00",
          "2020-05-07T00:00:00",
          "2020-05-14T00:00:00",
          "2020-05-21T00:00:00",
          "2020-05-28T00:00:00",
          "2020-06-04T00:00:00",
          "2020-06-11T00:00:00",
          "2020-06-18T00:00:00",
          "2020-06-25T00:00:00",
          "2020-07-02T00:00:00",
          "2020-07-09T00:00:00",
          "2020-07-16T00:00:00",
          "2020-07-23T00:00:00",
          "2020-07-30T00:00:00",
          "2020-08-06T00:00:00",
          "2020-08-13T00:00:00",
          "2020-08-20T00:00:00",
          "2020-08-27T00:00:00",
          "2020-09-03T00:00:00",
          "2020-09-10T00:00:00",
          "2020-09-17T00:00:00",
          "2020-09-24T00:00:00",
          "2020-10-01T00:00:00",
          "2020-10-08T00:00:00",
          "2020-10-15T00:00:00",
          "2020-10-22T00:00:00",
          "2020-10-29T00:00:00",
          "2020-11-05T00:00:00",
          "2020-11-12T00:00:00",
          "2020-11-19T00:00:00",
          "2020-11-26T00:00:00",
          "2020-12-03T00:00:00",
          "2020-12-10T00:00:00",
          "2020-12-17T00:00:00",
          "2020-12-24T00:00:00",
          "2020-12-31T00:00:00",
          "2021-01-07T00:00:00",
          "2021-01-14T00:00:00",
          "2021-01-21T00:00:00",
          "2021-01-28T00:00:00",
          "2021-02-04T00:00:00",
          "2021-02-11T00:00:00",
          "2021-02-18T00:00:00",
          "2021-02-25T00:00:00",
          "2021-03-04T00:00:00",
          "2021-03-11T00:00:00",
          "2021-03-18T00:00:00",
          "2021-03-25T00:00:00",
          "2021-04-01T00:00:00",
          "2021-04-08T00:00:00",
          "2021-04-15T00:00:00"
         ],
         "y": [
          null,
          null,
          0,
          3.2857142857142856,
          13.428571428571429,
          20.142857142857142,
          20.285714285714285,
          16.142857142857142,
          12.428571428571429,
          12.142857142857142,
          7.571428571428571,
          4.571428571428571,
          3.4285714285714284,
          1.1428571428571428,
          1.1428571428571428,
          0.42857142857142855,
          0.42857142857142855,
          0,
          0,
          0.14285714285714285,
          -0.2857142857142857,
          0,
          0,
          0.14285714285714285,
          1,
          0.2857142857142857,
          0.5714285714285714,
          0.14285714285714285,
          0.8571428571428571,
          1,
          2.5714285714285716,
          3.4285714285714284,
          3.4285714285714284,
          3.7142857142857144,
          8.857142857142858,
          8.714285714285714,
          11,
          9,
          7.428571428571429,
          8.142857142857142,
          7.714285714285714,
          11.428571428571429,
          11.285714285714286,
          12.142857142857142,
          16.857142857142858,
          17.285714285714285,
          8.285714285714286,
          8.571428571428571,
          9.428571428571429,
          8.714285714285714,
          11.714285714285714,
          8.714285714285714,
          5.285714285714286,
          4.571428571428571,
          4.857142857142857,
          4,
          7,
          3.7142857142857144,
          4.428571428571429,
          2.6666666666666665
         ]
        },
        {
         "name": "number of cases Noord-Holland",
         "type": "scatter",
         "x": [
          "2020-02-27T00:00:00",
          "2020-03-05T00:00:00",
          "2020-03-12T00:00:00",
          "2020-03-19T00:00:00",
          "2020-03-26T00:00:00",
          "2020-04-02T00:00:00",
          "2020-04-09T00:00:00",
          "2020-04-16T00:00:00",
          "2020-04-23T00:00:00",
          "2020-04-30T00:00:00",
          "2020-05-07T00:00:00",
          "2020-05-14T00:00:00",
          "2020-05-21T00:00:00",
          "2020-05-28T00:00:00",
          "2020-06-04T00:00:00",
          "2020-06-11T00:00:00",
          "2020-06-18T00:00:00",
          "2020-06-25T00:00:00",
          "2020-07-02T00:00:00",
          "2020-07-09T00:00:00",
          "2020-07-16T00:00:00",
          "2020-07-23T00:00:00",
          "2020-07-30T00:00:00",
          "2020-08-06T00:00:00",
          "2020-08-13T00:00:00",
          "2020-08-20T00:00:00",
          "2020-08-27T00:00:00",
          "2020-09-03T00:00:00",
          "2020-09-10T00:00:00",
          "2020-09-17T00:00:00",
          "2020-09-24T00:00:00",
          "2020-10-01T00:00:00",
          "2020-10-08T00:00:00",
          "2020-10-15T00:00:00",
          "2020-10-22T00:00:00",
          "2020-10-29T00:00:00",
          "2020-11-05T00:00:00",
          "2020-11-12T00:00:00",
          "2020-11-19T00:00:00",
          "2020-11-26T00:00:00",
          "2020-12-03T00:00:00",
          "2020-12-10T00:00:00",
          "2020-12-17T00:00:00",
          "2020-12-24T00:00:00",
          "2020-12-31T00:00:00",
          "2021-01-07T00:00:00",
          "2021-01-14T00:00:00",
          "2021-01-21T00:00:00",
          "2021-01-28T00:00:00",
          "2021-02-04T00:00:00",
          "2021-02-11T00:00:00",
          "2021-02-18T00:00:00",
          "2021-02-25T00:00:00",
          "2021-03-04T00:00:00",
          "2021-03-11T00:00:00",
          "2021-03-18T00:00:00",
          "2021-03-25T00:00:00",
          "2021-04-01T00:00:00",
          "2021-04-08T00:00:00",
          "2021-04-15T00:00:00"
         ],
         "y": [
          1.1666666666666667,
          4,
          19.857142857142858,
          94.71428571428571,
          163.57142857142858,
          159.42857142857142,
          149.28571428571428,
          134.42857142857142,
          77,
          55.285714285714285,
          39,
          27.714285714285715,
          20.857142857142858,
          13.571428571428571,
          26.857142857142858,
          25,
          12.428571428571429,
          11.857142857142858,
          12.142857142857142,
          11.428571428571429,
          30.285714285714285,
          43.142857142857146,
          94.28571428571429,
          161,
          159,
          134.42857142857142,
          140.14285714285714,
          217.42857142857142,
          329.42857142857144,
          515,
          660.8571428571429,
          840.2857142857143,
          1230.5714285714287,
          1570.4285714285713,
          1680.2857142857142,
          1366.7142857142858,
          996.8571428571429,
          865.5714285714286,
          836.7142857142857,
          765.4285714285714,
          1003.7142857142857,
          1336.857142857143,
          1773.857142857143,
          1467.2857142857142,
          1183.5714285714287,
          1007.8571428571429,
          860.4285714285714,
          827.8571428571429,
          675.8571428571429,
          592.2857142857143,
          738.8571428571429,
          877.4285714285714,
          1014,
          955.5714285714286,
          1074.857142857143,
          1181.3333333333333,
          1242.857142857143,
          1034,
          1004.5714285714286,
          1234.3333333333333
         ]
        },
        {
         "name": "number of hospitalized patients Zuid-Holland",
         "type": "scatter",
         "x": [
          "2020-02-27T00:00:00",
          "2020-03-05T00:00:00",
          "2020-03-12T00:00:00",
          "2020-03-19T00:00:00",
          "2020-03-26T00:00:00",
          "2020-04-02T00:00:00",
          "2020-04-09T00:00:00",
          "2020-04-16T00:00:00",
          "2020-04-23T00:00:00",
          "2020-04-30T00:00:00",
          "2020-05-07T00:00:00",
          "2020-05-14T00:00:00",
          "2020-05-21T00:00:00",
          "2020-05-28T00:00:00",
          "2020-06-04T00:00:00",
          "2020-06-11T00:00:00",
          "2020-06-18T00:00:00",
          "2020-06-25T00:00:00",
          "2020-07-02T00:00:00",
          "2020-07-09T00:00:00",
          "2020-07-16T00:00:00",
          "2020-07-23T00:00:00",
          "2020-07-30T00:00:00",
          "2020-08-06T00:00:00",
          "2020-08-13T00:00:00",
          "2020-08-20T00:00:00",
          "2020-08-27T00:00:00",
          "2020-09-03T00:00:00",
          "2020-09-10T00:00:00",
          "2020-09-17T00:00:00",
          "2020-09-24T00:00:00",
          "2020-10-01T00:00:00",
          "2020-10-08T00:00:00",
          "2020-10-15T00:00:00",
          "2020-10-22T00:00:00",
          "2020-10-29T00:00:00",
          "2020-11-05T00:00:00",
          "2020-11-12T00:00:00",
          "2020-11-19T00:00:00",
          "2020-11-26T00:00:00",
          "2020-12-03T00:00:00",
          "2020-12-10T00:00:00",
          "2020-12-17T00:00:00",
          "2020-12-24T00:00:00",
          "2020-12-31T00:00:00",
          "2021-01-07T00:00:00",
          "2021-01-14T00:00:00",
          "2021-01-21T00:00:00",
          "2021-01-28T00:00:00",
          "2021-02-04T00:00:00",
          "2021-02-11T00:00:00",
          "2021-02-18T00:00:00",
          "2021-02-25T00:00:00",
          "2021-03-04T00:00:00",
          "2021-03-11T00:00:00",
          "2021-03-18T00:00:00",
          "2021-03-25T00:00:00",
          "2021-04-01T00:00:00",
          "2021-04-08T00:00:00",
          "2021-04-15T00:00:00"
         ],
         "y": [
          null,
          null,
          7.4,
          32.857142857142854,
          73.85714285714286,
          63.42857142857143,
          42.57142857142857,
          26.714285714285715,
          17.571428571428573,
          14.571428571428571,
          12.285714285714286,
          7.571428571428571,
          4,
          3.5714285714285716,
          2.2857142857142856,
          1.4285714285714286,
          1.4285714285714286,
          1.2857142857142858,
          0.8571428571428571,
          1.4285714285714286,
          0.2857142857142857,
          1,
          2,
          2.2857142857142856,
          4.285714285714286,
          5.142857142857143,
          2.4285714285714284,
          3,
          5,
          9.857142857142858,
          11.714285714285714,
          15.142857142857142,
          20.571428571428573,
          20,
          32.285714285714285,
          30.428571428571427,
          35.142857142857146,
          35.57142857142857,
          27.428571428571427,
          23.142857142857142,
          19.857142857142858,
          16.857142857142858,
          27,
          24.857142857142858,
          26.857142857142858,
          22.714285714285715,
          24,
          27.142857142857142,
          15.285714285714286,
          21.142857142857142,
          19.714285714285715,
          23.285714285714285,
          22.571428571428573,
          21,
          18.428571428571427,
          21.833333333333332,
          23.714285714285715,
          27.142857142857142,
          23.857142857142858,
          27.333333333333332
         ]
        },
        {
         "name": "number of casualties Zuid-Holland",
         "type": "scatter",
         "x": [
          "2020-02-27T00:00:00",
          "2020-03-05T00:00:00",
          "2020-03-12T00:00:00",
          "2020-03-19T00:00:00",
          "2020-03-26T00:00:00",
          "2020-04-02T00:00:00",
          "2020-04-09T00:00:00",
          "2020-04-16T00:00:00",
          "2020-04-23T00:00:00",
          "2020-04-30T00:00:00",
          "2020-05-07T00:00:00",
          "2020-05-14T00:00:00",
          "2020-05-21T00:00:00",
          "2020-05-28T00:00:00",
          "2020-06-04T00:00:00",
          "2020-06-11T00:00:00",
          "2020-06-18T00:00:00",
          "2020-06-25T00:00:00",
          "2020-07-02T00:00:00",
          "2020-07-09T00:00:00",
          "2020-07-16T00:00:00",
          "2020-07-23T00:00:00",
          "2020-07-30T00:00:00",
          "2020-08-06T00:00:00",
          "2020-08-13T00:00:00",
          "2020-08-20T00:00:00",
          "2020-08-27T00:00:00",
          "2020-09-03T00:00:00",
          "2020-09-10T00:00:00",
          "2020-09-17T00:00:00",
          "2020-09-24T00:00:00",
          "2020-10-01T00:00:00",
          "2020-10-08T00:00:00",
          "2020-10-15T00:00:00",
          "2020-10-22T00:00:00",
          "2020-10-29T00:00:00",
          "2020-11-05T00:00:00",
          "2020-11-12T00:00:00",
          "2020-11-19T00:00:00",
          "2020-11-26T00:00:00",
          "2020-12-03T00:00:00",
          "2020-12-10T00:00:00",
          "2020-12-17T00:00:00",
          "2020-12-24T00:00:00",
          "2020-12-31T00:00:00",
          "2021-01-07T00:00:00",
          "2021-01-14T00:00:00",
          "2021-01-21T00:00:00",
          "2021-01-28T00:00:00",
          "2021-02-04T00:00:00",
          "2021-02-11T00:00:00",
          "2021-02-18T00:00:00",
          "2021-02-25T00:00:00",
          "2021-03-04T00:00:00",
          "2021-03-11T00:00:00",
          "2021-03-18T00:00:00",
          "2021-03-25T00:00:00",
          "2021-04-01T00:00:00",
          "2021-04-08T00:00:00",
          "2021-04-15T00:00:00"
         ],
         "y": [
          null,
          null,
          0,
          2.142857142857143,
          9.571428571428571,
          20.428571428571427,
          24.714285714285715,
          34.57142857142857,
          27,
          21,
          16.571428571428573,
          9.142857142857142,
          7,
          5.714285714285714,
          3.857142857142857,
          0.8571428571428571,
          1.4285714285714286,
          0.8571428571428571,
          1.1428571428571428,
          0.14285714285714285,
          0.42857142857142855,
          0.5714285714285714,
          0.2857142857142857,
          0.2857142857142857,
          1.1428571428571428,
          2.7142857142857144,
          1,
          0.5714285714285714,
          0.7142857142857143,
          2.142857142857143,
          5,
          4.857142857142857,
          6.428571428571429,
          10.142857142857142,
          15.857142857142858,
          22.142857142857142,
          19.857142857142858,
          18.285714285714285,
          23.285714285714285,
          15.857142857142858,
          13.142857142857142,
          13.142857142857142,
          18.142857142857142,
          17.571428571428573,
          15.857142857142858,
          22.571428571428573,
          16.285714285714285,
          20.285714285714285,
          15.857142857142858,
          12.428571428571429,
          11,
          13.285714285714286,
          12.142857142857142,
          9.285714285714286,
          8,
          9,
          4.142857142857143,
          4,
          6.714285714285714,
          3
         ]
        },
        {
         "name": "number of cases Zuid-Holland",
         "type": "scatter",
         "x": [
          "2020-02-27T00:00:00",
          "2020-03-05T00:00:00",
          "2020-03-12T00:00:00",
          "2020-03-19T00:00:00",
          "2020-03-26T00:00:00",
          "2020-04-02T00:00:00",
          "2020-04-09T00:00:00",
          "2020-04-16T00:00:00",
          "2020-04-23T00:00:00",
          "2020-04-30T00:00:00",
          "2020-05-07T00:00:00",
          "2020-05-14T00:00:00",
          "2020-05-21T00:00:00",
          "2020-05-28T00:00:00",
          "2020-06-04T00:00:00",
          "2020-06-11T00:00:00",
          "2020-06-18T00:00:00",
          "2020-06-25T00:00:00",
          "2020-07-02T00:00:00",
          "2020-07-09T00:00:00",
          "2020-07-16T00:00:00",
          "2020-07-23T00:00:00",
          "2020-07-30T00:00:00",
          "2020-08-06T00:00:00",
          "2020-08-13T00:00:00",
          "2020-08-20T00:00:00",
          "2020-08-27T00:00:00",
          "2020-09-03T00:00:00",
          "2020-09-10T00:00:00",
          "2020-09-17T00:00:00",
          "2020-09-24T00:00:00",
          "2020-10-01T00:00:00",
          "2020-10-08T00:00:00",
          "2020-10-15T00:00:00",
          "2020-10-22T00:00:00",
          "2020-10-29T00:00:00",
          "2020-11-05T00:00:00",
          "2020-11-12T00:00:00",
          "2020-11-19T00:00:00",
          "2020-11-26T00:00:00",
          "2020-12-03T00:00:00",
          "2020-12-10T00:00:00",
          "2020-12-17T00:00:00",
          "2020-12-24T00:00:00",
          "2020-12-31T00:00:00",
          "2021-01-07T00:00:00",
          "2021-01-14T00:00:00",
          "2021-01-21T00:00:00",
          "2021-01-28T00:00:00",
          "2021-02-04T00:00:00",
          "2021-02-11T00:00:00",
          "2021-02-18T00:00:00",
          "2021-02-25T00:00:00",
          "2021-03-04T00:00:00",
          "2021-03-11T00:00:00",
          "2021-03-18T00:00:00",
          "2021-03-25T00:00:00",
          "2021-04-01T00:00:00",
          "2021-04-08T00:00:00",
          "2021-04-15T00:00:00"
         ],
         "y": [
          1.1666666666666667,
          7.142857142857143,
          25,
          92.42857142857143,
          185.85714285714286,
          220,
          249.42857142857142,
          221.57142857142858,
          130.85714285714286,
          86.42857142857143,
          76.71428571428571,
          56,
          52,
          32,
          59.42857142857143,
          52.285714285714285,
          31,
          32.285714285714285,
          22.857142857142858,
          35.714285714285715,
          60.285714285714285,
          92.28571428571429,
          184.85714285714286,
          244.71428571428572,
          201.57142857142858,
          163.71428571428572,
          183.71428571428572,
          304.2857142857143,
          439.57142857142856,
          671.1428571428571,
          944.8571428571429,
          1290.857142857143,
          1916.857142857143,
          2217.5714285714284,
          2826,
          2559,
          1610.2857142857142,
          1363.7142857142858,
          1307,
          1130.857142857143,
          1351.142857142857,
          1826.2857142857142,
          2252.5714285714284,
          1814.142857142857,
          1432.7142857142858,
          1232,
          933.4285714285714,
          907.5714285714286,
          710.5714285714286,
          636.2857142857143,
          723,
          836.2857142857143,
          972,
          1003.4285714285714,
          1362.4285714285713,
          1605.6666666666667,
          1864.5714285714287,
          1709.142857142857,
          1851.4285714285713,
          2177
         ]
        }
       ],
       "layout": {
        "template": {
         "data": {
          "bar": [
           {
            "error_x": {
             "color": "#2a3f5f"
            },
            "error_y": {
             "color": "#2a3f5f"
            },
            "marker": {
             "line": {
              "color": "#E5ECF6",
              "width": 0.5
             },
             "pattern": {
              "fillmode": "overlay",
              "size": 10,
              "solidity": 0.2
             }
            },
            "type": "bar"
           }
          ],
          "barpolar": [
           {
            "marker": {
             "line": {
              "color": "#E5ECF6",
              "width": 0.5
             },
             "pattern": {
              "fillmode": "overlay",
              "size": 10,
              "solidity": 0.2
             }
            },
            "type": "barpolar"
           }
          ],
          "carpet": [
           {
            "aaxis": {
             "endlinecolor": "#2a3f5f",
             "gridcolor": "white",
             "linecolor": "white",
             "minorgridcolor": "white",
             "startlinecolor": "#2a3f5f"
            },
            "baxis": {
             "endlinecolor": "#2a3f5f",
             "gridcolor": "white",
             "linecolor": "white",
             "minorgridcolor": "white",
             "startlinecolor": "#2a3f5f"
            },
            "type": "carpet"
           }
          ],
          "choropleth": [
           {
            "colorbar": {
             "outlinewidth": 0,
             "ticks": ""
            },
            "type": "choropleth"
           }
          ],
          "contour": [
           {
            "colorbar": {
             "outlinewidth": 0,
             "ticks": ""
            },
            "colorscale": [
             [
              0,
              "#0d0887"
             ],
             [
              0.1111111111111111,
              "#46039f"
             ],
             [
              0.2222222222222222,
              "#7201a8"
             ],
             [
              0.3333333333333333,
              "#9c179e"
             ],
             [
              0.4444444444444444,
              "#bd3786"
             ],
             [
              0.5555555555555556,
              "#d8576b"
             ],
             [
              0.6666666666666666,
              "#ed7953"
             ],
             [
              0.7777777777777778,
              "#fb9f3a"
             ],
             [
              0.8888888888888888,
              "#fdca26"
             ],
             [
              1,
              "#f0f921"
             ]
            ],
            "type": "contour"
           }
          ],
          "contourcarpet": [
           {
            "colorbar": {
             "outlinewidth": 0,
             "ticks": ""
            },
            "type": "contourcarpet"
           }
          ],
          "heatmap": [
           {
            "colorbar": {
             "outlinewidth": 0,
             "ticks": ""
            },
            "colorscale": [
             [
              0,
              "#0d0887"
             ],
             [
              0.1111111111111111,
              "#46039f"
             ],
             [
              0.2222222222222222,
              "#7201a8"
             ],
             [
              0.3333333333333333,
              "#9c179e"
             ],
             [
              0.4444444444444444,
              "#bd3786"
             ],
             [
              0.5555555555555556,
              "#d8576b"
             ],
             [
              0.6666666666666666,
              "#ed7953"
             ],
             [
              0.7777777777777778,
              "#fb9f3a"
             ],
             [
              0.8888888888888888,
              "#fdca26"
             ],
             [
              1,
              "#f0f921"
             ]
            ],
            "type": "heatmap"
           }
          ],
          "heatmapgl": [
           {
            "colorbar": {
             "outlinewidth": 0,
             "ticks": ""
            },
            "colorscale": [
             [
              0,
              "#0d0887"
             ],
             [
              0.1111111111111111,
              "#46039f"
             ],
             [
              0.2222222222222222,
              "#7201a8"
             ],
             [
              0.3333333333333333,
              "#9c179e"
             ],
             [
              0.4444444444444444,
              "#bd3786"
             ],
             [
              0.5555555555555556,
              "#d8576b"
             ],
             [
              0.6666666666666666,
              "#ed7953"
             ],
             [
              0.7777777777777778,
              "#fb9f3a"
             ],
             [
              0.8888888888888888,
              "#fdca26"
             ],
             [
              1,
              "#f0f921"
             ]
            ],
            "type": "heatmapgl"
           }
          ],
          "histogram": [
           {
            "marker": {
             "pattern": {
              "fillmode": "overlay",
              "size": 10,
              "solidity": 0.2
             }
            },
            "type": "histogram"
           }
          ],
          "histogram2d": [
           {
            "colorbar": {
             "outlinewidth": 0,
             "ticks": ""
            },
            "colorscale": [
             [
              0,
              "#0d0887"
             ],
             [
              0.1111111111111111,
              "#46039f"
             ],
             [
              0.2222222222222222,
              "#7201a8"
             ],
             [
              0.3333333333333333,
              "#9c179e"
             ],
             [
              0.4444444444444444,
              "#bd3786"
             ],
             [
              0.5555555555555556,
              "#d8576b"
             ],
             [
              0.6666666666666666,
              "#ed7953"
             ],
             [
              0.7777777777777778,
              "#fb9f3a"
             ],
             [
              0.8888888888888888,
              "#fdca26"
             ],
             [
              1,
              "#f0f921"
             ]
            ],
            "type": "histogram2d"
           }
          ],
          "histogram2dcontour": [
           {
            "colorbar": {
             "outlinewidth": 0,
             "ticks": ""
            },
            "colorscale": [
             [
              0,
              "#0d0887"
             ],
             [
              0.1111111111111111,
              "#46039f"
             ],
             [
              0.2222222222222222,
              "#7201a8"
             ],
             [
              0.3333333333333333,
              "#9c179e"
             ],
             [
              0.4444444444444444,
              "#bd3786"
             ],
             [
              0.5555555555555556,
              "#d8576b"
             ],
             [
              0.6666666666666666,
              "#ed7953"
             ],
             [
              0.7777777777777778,
              "#fb9f3a"
             ],
             [
              0.8888888888888888,
              "#fdca26"
             ],
             [
              1,
              "#f0f921"
             ]
            ],
            "type": "histogram2dcontour"
           }
          ],
          "mesh3d": [
           {
            "colorbar": {
             "outlinewidth": 0,
             "ticks": ""
            },
            "type": "mesh3d"
           }
          ],
          "parcoords": [
           {
            "line": {
             "colorbar": {
              "outlinewidth": 0,
              "ticks": ""
             }
            },
            "type": "parcoords"
           }
          ],
          "pie": [
           {
            "automargin": true,
            "type": "pie"
           }
          ],
          "scatter": [
           {
            "marker": {
             "colorbar": {
              "outlinewidth": 0,
              "ticks": ""
             }
            },
            "type": "scatter"
           }
          ],
          "scatter3d": [
           {
            "line": {
             "colorbar": {
              "outlinewidth": 0,
              "ticks": ""
             }
            },
            "marker": {
             "colorbar": {
              "outlinewidth": 0,
              "ticks": ""
             }
            },
            "type": "scatter3d"
           }
          ],
          "scattercarpet": [
           {
            "marker": {
             "colorbar": {
              "outlinewidth": 0,
              "ticks": ""
             }
            },
            "type": "scattercarpet"
           }
          ],
          "scattergeo": [
           {
            "marker": {
             "colorbar": {
              "outlinewidth": 0,
              "ticks": ""
             }
            },
            "type": "scattergeo"
           }
          ],
          "scattergl": [
           {
            "marker": {
             "colorbar": {
              "outlinewidth": 0,
              "ticks": ""
             }
            },
            "type": "scattergl"
           }
          ],
          "scattermapbox": [
           {
            "marker": {
             "colorbar": {
              "outlinewidth": 0,
              "ticks": ""
             }
            },
            "type": "scattermapbox"
           }
          ],
          "scatterpolar": [
           {
            "marker": {
             "colorbar": {
              "outlinewidth": 0,
              "ticks": ""
             }
            },
            "type": "scatterpolar"
           }
          ],
          "scatterpolargl": [
           {
            "marker": {
             "colorbar": {
              "outlinewidth": 0,
              "ticks": ""
             }
            },
            "type": "scatterpolargl"
           }
          ],
          "scatterternary": [
           {
            "marker": {
             "colorbar": {
              "outlinewidth": 0,
              "ticks": ""
             }
            },
            "type": "scatterternary"
           }
          ],
          "surface": [
           {
            "colorbar": {
             "outlinewidth": 0,
             "ticks": ""
            },
            "colorscale": [
             [
              0,
              "#0d0887"
             ],
             [
              0.1111111111111111,
              "#46039f"
             ],
             [
              0.2222222222222222,
              "#7201a8"
             ],
             [
              0.3333333333333333,
              "#9c179e"
             ],
             [
              0.4444444444444444,
              "#bd3786"
             ],
             [
              0.5555555555555556,
              "#d8576b"
             ],
             [
              0.6666666666666666,
              "#ed7953"
             ],
             [
              0.7777777777777778,
              "#fb9f3a"
             ],
             [
              0.8888888888888888,
              "#fdca26"
             ],
             [
              1,
              "#f0f921"
             ]
            ],
            "type": "surface"
           }
          ],
          "table": [
           {
            "cells": {
             "fill": {
              "color": "#EBF0F8"
             },
             "line": {
              "color": "white"
             }
            },
            "header": {
             "fill": {
              "color": "#C8D4E3"
             },
             "line": {
              "color": "white"
             }
            },
            "type": "table"
           }
          ]
         },
         "layout": {
          "annotationdefaults": {
           "arrowcolor": "#2a3f5f",
           "arrowhead": 0,
           "arrowwidth": 1
          },
          "autotypenumbers": "strict",
          "coloraxis": {
           "colorbar": {
            "outlinewidth": 0,
            "ticks": ""
           }
          },
          "colorscale": {
           "diverging": [
            [
             0,
             "#8e0152"
            ],
            [
             0.1,
             "#c51b7d"
            ],
            [
             0.2,
             "#de77ae"
            ],
            [
             0.3,
             "#f1b6da"
            ],
            [
             0.4,
             "#fde0ef"
            ],
            [
             0.5,
             "#f7f7f7"
            ],
            [
             0.6,
             "#e6f5d0"
            ],
            [
             0.7,
             "#b8e186"
            ],
            [
             0.8,
             "#7fbc41"
            ],
            [
             0.9,
             "#4d9221"
            ],
            [
             1,
             "#276419"
            ]
           ],
           "sequential": [
            [
             0,
             "#0d0887"
            ],
            [
             0.1111111111111111,
             "#46039f"
            ],
            [
             0.2222222222222222,
             "#7201a8"
            ],
            [
             0.3333333333333333,
             "#9c179e"
            ],
            [
             0.4444444444444444,
             "#bd3786"
            ],
            [
             0.5555555555555556,
             "#d8576b"
            ],
            [
             0.6666666666666666,
             "#ed7953"
            ],
            [
             0.7777777777777778,
             "#fb9f3a"
            ],
            [
             0.8888888888888888,
             "#fdca26"
            ],
            [
             1,
             "#f0f921"
            ]
           ],
           "sequentialminus": [
            [
             0,
             "#0d0887"
            ],
            [
             0.1111111111111111,
             "#46039f"
            ],
            [
             0.2222222222222222,
             "#7201a8"
            ],
            [
             0.3333333333333333,
             "#9c179e"
            ],
            [
             0.4444444444444444,
             "#bd3786"
            ],
            [
             0.5555555555555556,
             "#d8576b"
            ],
            [
             0.6666666666666666,
             "#ed7953"
            ],
            [
             0.7777777777777778,
             "#fb9f3a"
            ],
            [
             0.8888888888888888,
             "#fdca26"
            ],
            [
             1,
             "#f0f921"
            ]
           ]
          },
          "colorway": [
           "#636efa",
           "#EF553B",
           "#00cc96",
           "#ab63fa",
           "#FFA15A",
           "#19d3f3",
           "#FF6692",
           "#B6E880",
           "#FF97FF",
           "#FECB52"
          ],
          "font": {
           "color": "#2a3f5f"
          },
          "geo": {
           "bgcolor": "white",
           "lakecolor": "white",
           "landcolor": "#E5ECF6",
           "showlakes": true,
           "showland": true,
           "subunitcolor": "white"
          },
          "hoverlabel": {
           "align": "left"
          },
          "hovermode": "closest",
          "mapbox": {
           "style": "light"
          },
          "paper_bgcolor": "white",
          "plot_bgcolor": "#E5ECF6",
          "polar": {
           "angularaxis": {
            "gridcolor": "white",
            "linecolor": "white",
            "ticks": ""
           },
           "bgcolor": "#E5ECF6",
           "radialaxis": {
            "gridcolor": "white",
            "linecolor": "white",
            "ticks": ""
           }
          },
          "scene": {
           "xaxis": {
            "backgroundcolor": "#E5ECF6",
            "gridcolor": "white",
            "gridwidth": 2,
            "linecolor": "white",
            "showbackground": true,
            "ticks": "",
            "zerolinecolor": "white"
           },
           "yaxis": {
            "backgroundcolor": "#E5ECF6",
            "gridcolor": "white",
            "gridwidth": 2,
            "linecolor": "white",
            "showbackground": true,
            "ticks": "",
            "zerolinecolor": "white"
           },
           "zaxis": {
            "backgroundcolor": "#E5ECF6",
            "gridcolor": "white",
            "gridwidth": 2,
            "linecolor": "white",
            "showbackground": true,
            "ticks": "",
            "zerolinecolor": "white"
           }
          },
          "shapedefaults": {
           "line": {
            "color": "#2a3f5f"
           }
          },
          "ternary": {
           "aaxis": {
            "gridcolor": "white",
            "linecolor": "white",
            "ticks": ""
           },
           "baxis": {
            "gridcolor": "white",
            "linecolor": "white",
            "ticks": ""
           },
           "bgcolor": "#E5ECF6",
           "caxis": {
            "gridcolor": "white",
            "linecolor": "white",
            "ticks": ""
           }
          },
          "title": {
           "x": 0.05
          },
          "xaxis": {
           "automargin": true,
           "gridcolor": "white",
           "linecolor": "white",
           "ticks": "",
           "title": {
            "standoff": 15
           },
           "zerolinecolor": "white",
           "zerolinewidth": 2
          },
          "yaxis": {
           "automargin": true,
           "gridcolor": "white",
           "linecolor": "white",
           "ticks": "",
           "title": {
            "standoff": 15
           },
           "zerolinecolor": "white",
           "zerolinewidth": 2
          }
         }
        },
        "title": {
         "text": "covid data in Noord-Brabant, Noord-Holland and Zuid-Holland"
        }
       }
      }
     },
     "metadata": {},
     "output_type": "display_data"
    }
   ],
   "source": [
    "# Making a line graph\n",
    "fig_7 = go.Figure()\n",
    "\n",
    "for province in provinces_story:\n",
    "    df_province_story_1 = (df_full.loc[df_full['province'] == province])\n",
    "    df_province_story_1.reset_index(inplace=True)\n",
    "\n",
    "    for activity in activities_story_1:\n",
    "        x1 = df_province_story_1['date']\n",
    "        y1 = df_province_story_1[activity]\n",
    "        fig_7.add_trace(go.Scatter(x=x1,y=y1,name=activity + ' ' + province))\n",
    "\n",
    "fig_7.update_layout(title='covid data in ' + province_1 + ', ' + province_2 + ' and ' + province_3)\n",
    "fig_7.show()"
   ]
  },
  {
   "cell_type": "markdown",
   "metadata": {},
   "source": [
    "From this plot, it can be seen that Noord-Brabant for a short while had the most reported cases and hospitalizations, but the other two provinces quickly took over, especially Zuid-Holland. The narrative around Brabant being the worst province was thus not really fair, or at least only for April 2020."
   ]
  },
  {
   "cell_type": "markdown",
   "metadata": {},
   "source": [
    "As mentioned, another thing I experienced during covid is that this narrative around Noord-Brabant made people in Eindhoven adhere to the covid rules quite strictly\n",
    "- When I went to the supermarket for example, everyone was very concise in keeping distance both outside and inside.\n",
    "- However, when I was in Amsterdam a bit later on, people were barely keeping distance from me, both outside and inside. \n",
    "- This made me question whether people were also stricter in limiting trips in Noord-Brabant than in the other two provinces, despite having around the same number of cases etc.\n",
    "\n",
    "Let's find out! We make a graph showing the trips for three trip purposes during the covid period."
   ]
  },
  {
   "cell_type": "code",
   "execution_count": 21,
   "metadata": {},
   "outputs": [
    {
     "data": {
      "application/vnd.plotly.v1+json": {
       "config": {
        "plotlyServerURL": "https://plot.ly"
       },
       "data": [
        {
         "name": "work trips Noord-Brabant",
         "type": "scatter",
         "x": [
          "2020-02-27T00:00:00",
          "2020-03-05T00:00:00",
          "2020-03-12T00:00:00",
          "2020-03-19T00:00:00",
          "2020-03-26T00:00:00",
          "2020-04-02T00:00:00",
          "2020-04-09T00:00:00",
          "2020-04-16T00:00:00",
          "2020-04-23T00:00:00",
          "2020-04-30T00:00:00",
          "2020-05-07T00:00:00",
          "2020-05-14T00:00:00",
          "2020-05-21T00:00:00",
          "2020-05-28T00:00:00",
          "2020-06-04T00:00:00",
          "2020-06-11T00:00:00",
          "2020-06-18T00:00:00",
          "2020-06-25T00:00:00",
          "2020-07-02T00:00:00",
          "2020-07-09T00:00:00",
          "2020-07-16T00:00:00",
          "2020-07-23T00:00:00",
          "2020-07-30T00:00:00",
          "2020-08-06T00:00:00",
          "2020-08-13T00:00:00",
          "2020-08-20T00:00:00",
          "2020-08-27T00:00:00",
          "2020-09-03T00:00:00",
          "2020-09-10T00:00:00",
          "2020-09-17T00:00:00",
          "2020-09-24T00:00:00",
          "2020-10-01T00:00:00",
          "2020-10-08T00:00:00",
          "2020-10-15T00:00:00",
          "2020-10-22T00:00:00",
          "2020-10-29T00:00:00",
          "2020-11-05T00:00:00",
          "2020-11-12T00:00:00",
          "2020-11-19T00:00:00",
          "2020-11-26T00:00:00",
          "2020-12-03T00:00:00",
          "2020-12-10T00:00:00",
          "2020-12-17T00:00:00",
          "2020-12-24T00:00:00",
          "2020-12-31T00:00:00",
          "2021-01-07T00:00:00",
          "2021-01-14T00:00:00",
          "2021-01-21T00:00:00",
          "2021-01-28T00:00:00",
          "2021-02-04T00:00:00",
          "2021-02-11T00:00:00",
          "2021-02-18T00:00:00",
          "2021-02-25T00:00:00",
          "2021-03-04T00:00:00",
          "2021-03-11T00:00:00",
          "2021-03-18T00:00:00",
          "2021-03-25T00:00:00",
          "2021-04-01T00:00:00",
          "2021-04-08T00:00:00",
          "2021-04-15T00:00:00"
         ],
         "y": [
          -6,
          -3.5714285714285716,
          -25.571428571428573,
          -41,
          -43.57142857142857,
          -41.285714285714285,
          -45.42857142857143,
          -37.142857142857146,
          -41.142857142857146,
          -37.857142857142854,
          -26.285714285714285,
          -24.571428571428573,
          -33.714285714285715,
          -26.285714285714285,
          -18.428571428571427,
          -17,
          -15.571428571428571,
          -17.571428571428573,
          -18,
          -20.857142857142858,
          -26.285714285714285,
          -31.428571428571427,
          -35.857142857142854,
          -37.285714285714285,
          -30.857142857142858,
          -23.571428571428573,
          -19.428571428571427,
          -20.285714285714285,
          -17.857142857142858,
          -16.142857142857142,
          -15,
          -18,
          -17.428571428571427,
          -27.571428571428573,
          -24.857142857142858,
          -19.428571428571427,
          -20,
          -19.285714285714285,
          -17.714285714285715,
          -16.285714285714285,
          -16.142857142857142,
          -18.857142857142858,
          -33.285714285714285,
          -55.142857142857146,
          -41.857142857142854,
          -27,
          -28,
          -27.857142857142858,
          -27.142857142857142,
          -33,
          -30.714285714285715,
          -25.571428571428573,
          -21.285714285714285,
          -20.571428571428573,
          -20.428571428571427,
          -19,
          -19.285714285714285,
          -28.714285714285715,
          -18.857142857142858,
          -17.714285714285715
         ]
        },
        {
         "name": "grocery and pharmacy trips Noord-Brabant",
         "type": "scatter",
         "x": [
          "2020-02-27T00:00:00",
          "2020-03-05T00:00:00",
          "2020-03-12T00:00:00",
          "2020-03-19T00:00:00",
          "2020-03-26T00:00:00",
          "2020-04-02T00:00:00",
          "2020-04-09T00:00:00",
          "2020-04-16T00:00:00",
          "2020-04-23T00:00:00",
          "2020-04-30T00:00:00",
          "2020-05-07T00:00:00",
          "2020-05-14T00:00:00",
          "2020-05-21T00:00:00",
          "2020-05-28T00:00:00",
          "2020-06-04T00:00:00",
          "2020-06-11T00:00:00",
          "2020-06-18T00:00:00",
          "2020-06-25T00:00:00",
          "2020-07-02T00:00:00",
          "2020-07-09T00:00:00",
          "2020-07-16T00:00:00",
          "2020-07-23T00:00:00",
          "2020-07-30T00:00:00",
          "2020-08-06T00:00:00",
          "2020-08-13T00:00:00",
          "2020-08-20T00:00:00",
          "2020-08-27T00:00:00",
          "2020-09-03T00:00:00",
          "2020-09-10T00:00:00",
          "2020-09-17T00:00:00",
          "2020-09-24T00:00:00",
          "2020-10-01T00:00:00",
          "2020-10-08T00:00:00",
          "2020-10-15T00:00:00",
          "2020-10-22T00:00:00",
          "2020-10-29T00:00:00",
          "2020-11-05T00:00:00",
          "2020-11-12T00:00:00",
          "2020-11-19T00:00:00",
          "2020-11-26T00:00:00",
          "2020-12-03T00:00:00",
          "2020-12-10T00:00:00",
          "2020-12-17T00:00:00",
          "2020-12-24T00:00:00",
          "2020-12-31T00:00:00",
          "2021-01-07T00:00:00",
          "2021-01-14T00:00:00",
          "2021-01-21T00:00:00",
          "2021-01-28T00:00:00",
          "2021-02-04T00:00:00",
          "2021-02-11T00:00:00",
          "2021-02-18T00:00:00",
          "2021-02-25T00:00:00",
          "2021-03-04T00:00:00",
          "2021-03-11T00:00:00",
          "2021-03-18T00:00:00",
          "2021-03-25T00:00:00",
          "2021-04-01T00:00:00",
          "2021-04-08T00:00:00",
          "2021-04-15T00:00:00"
         ],
         "y": [
          1,
          2.142857142857143,
          8.428571428571429,
          -8.857142857142858,
          -17.142857142857142,
          -12.285714285714286,
          -16.285714285714285,
          -10.285714285714286,
          -6,
          -7.285714285714286,
          -2.7142857142857144,
          0.14285714285714285,
          -2.7142857142857144,
          -0.14285714285714285,
          -2,
          -1.5714285714285714,
          2,
          -0.2857142857142857,
          -0.42857142857142855,
          -2,
          -2.7142857142857144,
          -4.285714285714286,
          -5.714285714285714,
          -8,
          -6.571428571428571,
          -2.857142857142857,
          -3.857142857142857,
          -5.857142857142857,
          -4.714285714285714,
          -5.285714285714286,
          -3,
          -5,
          -5.285714285714286,
          -5,
          -3.5714285714285716,
          -5.285714285714286,
          -3.857142857142857,
          -3.7142857142857144,
          -2,
          -1.5714285714285714,
          -4,
          -1.7142857142857142,
          3.857142857142857,
          -17.428571428571427,
          -16.714285714285715,
          -10,
          -13.142857142857142,
          -10.571428571428571,
          -12,
          -11.428571428571429,
          -5.857142857142857,
          -1.1428571428571428,
          0,
          -0.5714285714285714,
          -1.7142857142857142,
          1.1428571428571428,
          2.7142857142857144,
          -4.285714285714286,
          1.8571428571428572,
          4.714285714285714
         ]
        },
        {
         "name": "retail and recreation trips Noord-Brabant",
         "type": "scatter",
         "x": [
          "2020-02-27T00:00:00",
          "2020-03-05T00:00:00",
          "2020-03-12T00:00:00",
          "2020-03-19T00:00:00",
          "2020-03-26T00:00:00",
          "2020-04-02T00:00:00",
          "2020-04-09T00:00:00",
          "2020-04-16T00:00:00",
          "2020-04-23T00:00:00",
          "2020-04-30T00:00:00",
          "2020-05-07T00:00:00",
          "2020-05-14T00:00:00",
          "2020-05-21T00:00:00",
          "2020-05-28T00:00:00",
          "2020-06-04T00:00:00",
          "2020-06-11T00:00:00",
          "2020-06-18T00:00:00",
          "2020-06-25T00:00:00",
          "2020-07-02T00:00:00",
          "2020-07-09T00:00:00",
          "2020-07-16T00:00:00",
          "2020-07-23T00:00:00",
          "2020-07-30T00:00:00",
          "2020-08-06T00:00:00",
          "2020-08-13T00:00:00",
          "2020-08-20T00:00:00",
          "2020-08-27T00:00:00",
          "2020-09-03T00:00:00",
          "2020-09-10T00:00:00",
          "2020-09-17T00:00:00",
          "2020-09-24T00:00:00",
          "2020-10-01T00:00:00",
          "2020-10-08T00:00:00",
          "2020-10-15T00:00:00",
          "2020-10-22T00:00:00",
          "2020-10-29T00:00:00",
          "2020-11-05T00:00:00",
          "2020-11-12T00:00:00",
          "2020-11-19T00:00:00",
          "2020-11-26T00:00:00",
          "2020-12-03T00:00:00",
          "2020-12-10T00:00:00",
          "2020-12-17T00:00:00",
          "2020-12-24T00:00:00",
          "2020-12-31T00:00:00",
          "2021-01-07T00:00:00",
          "2021-01-14T00:00:00",
          "2021-01-21T00:00:00",
          "2021-01-28T00:00:00",
          "2021-02-04T00:00:00",
          "2021-02-11T00:00:00",
          "2021-02-18T00:00:00",
          "2021-02-25T00:00:00",
          "2021-03-04T00:00:00",
          "2021-03-11T00:00:00",
          "2021-03-18T00:00:00",
          "2021-03-25T00:00:00",
          "2021-04-01T00:00:00",
          "2021-04-08T00:00:00",
          "2021-04-15T00:00:00"
         ],
         "y": [
          -2.2857142857142856,
          -6,
          -26.714285714285715,
          -46.714285714285715,
          -49.142857142857146,
          -43.714285714285715,
          -46.857142857142854,
          -39,
          -36.285714285714285,
          -33.714285714285715,
          -32.857142857142854,
          -26.285714285714285,
          -25.857142857142858,
          -19.571428571428573,
          -16.285714285714285,
          -10.571428571428571,
          -4.857142857142857,
          -5.285714285714286,
          -0.5714285714285714,
          1.4285714285714286,
          4,
          4.714285714285714,
          0.42857142857142855,
          -10.857142857142858,
          -1.4285714285714286,
          0.42857142857142855,
          -1.2857142857142858,
          -4.571428571428571,
          -2,
          -2.7142857142857144,
          -8.714285714285714,
          -15.857142857142858,
          -15.285714285714286,
          -27,
          -26.571428571428573,
          -29,
          -28.857142857142858,
          -30.571428571428573,
          -24.571428571428573,
          -23.428571428571427,
          -27.714285714285715,
          -30.428571428571427,
          -49,
          -58.57142857142857,
          -58.857142857142854,
          -56,
          -57.857142857142854,
          -55.857142857142854,
          -56.857142857142854,
          -57.857142857142854,
          -52.285714285714285,
          -44.285714285714285,
          -43.142857142857146,
          -42,
          -41.857142857142854,
          -39,
          -34.142857142857146,
          -42.857142857142854,
          -38.42857142857143,
          -33.42857142857143
         ]
        },
        {
         "name": "work trips Noord-Holland",
         "type": "scatter",
         "x": [
          "2020-02-27T00:00:00",
          "2020-03-05T00:00:00",
          "2020-03-12T00:00:00",
          "2020-03-19T00:00:00",
          "2020-03-26T00:00:00",
          "2020-04-02T00:00:00",
          "2020-04-09T00:00:00",
          "2020-04-16T00:00:00",
          "2020-04-23T00:00:00",
          "2020-04-30T00:00:00",
          "2020-05-07T00:00:00",
          "2020-05-14T00:00:00",
          "2020-05-21T00:00:00",
          "2020-05-28T00:00:00",
          "2020-06-04T00:00:00",
          "2020-06-11T00:00:00",
          "2020-06-18T00:00:00",
          "2020-06-25T00:00:00",
          "2020-07-02T00:00:00",
          "2020-07-09T00:00:00",
          "2020-07-16T00:00:00",
          "2020-07-23T00:00:00",
          "2020-07-30T00:00:00",
          "2020-08-06T00:00:00",
          "2020-08-13T00:00:00",
          "2020-08-20T00:00:00",
          "2020-08-27T00:00:00",
          "2020-09-03T00:00:00",
          "2020-09-10T00:00:00",
          "2020-09-17T00:00:00",
          "2020-09-24T00:00:00",
          "2020-10-01T00:00:00",
          "2020-10-08T00:00:00",
          "2020-10-15T00:00:00",
          "2020-10-22T00:00:00",
          "2020-10-29T00:00:00",
          "2020-11-05T00:00:00",
          "2020-11-12T00:00:00",
          "2020-11-19T00:00:00",
          "2020-11-26T00:00:00",
          "2020-12-03T00:00:00",
          "2020-12-10T00:00:00",
          "2020-12-17T00:00:00",
          "2020-12-24T00:00:00",
          "2020-12-31T00:00:00",
          "2021-01-07T00:00:00",
          "2021-01-14T00:00:00",
          "2021-01-21T00:00:00",
          "2021-01-28T00:00:00",
          "2021-02-04T00:00:00",
          "2021-02-11T00:00:00",
          "2021-02-18T00:00:00",
          "2021-02-25T00:00:00",
          "2021-03-04T00:00:00",
          "2021-03-11T00:00:00",
          "2021-03-18T00:00:00",
          "2021-03-25T00:00:00",
          "2021-04-01T00:00:00",
          "2021-04-08T00:00:00",
          "2021-04-15T00:00:00"
         ],
         "y": [
          1.4285714285714286,
          0.2857142857142857,
          -24.714285714285715,
          -48.42857142857143,
          -51.285714285714285,
          -49.42857142857143,
          -52.714285714285715,
          -44.857142857142854,
          -47.714285714285715,
          -45.857142857142854,
          -36,
          -33.57142857142857,
          -39.42857142857143,
          -31.857142857142858,
          -27,
          -24.714285714285715,
          -23.428571428571427,
          -24.714285714285715,
          -29,
          -30.571428571428573,
          -32.42857142857143,
          -34.857142857142854,
          -35.857142857142854,
          -35.142857142857146,
          -29.428571428571427,
          -26.428571428571427,
          -25.285714285714285,
          -25.857142857142858,
          -22.714285714285715,
          -21.571428571428573,
          -21.714285714285715,
          -25.142857142857142,
          -30.857142857142858,
          -32,
          -26.857142857142858,
          -26.428571428571427,
          -26.428571428571427,
          -26.571428571428573,
          -24.285714285714285,
          -23.142857142857142,
          -22.857142857142858,
          -26,
          -39.857142857142854,
          -56.285714285714285,
          -46.42857142857143,
          -35,
          -36.42857142857143,
          -35.42857142857143,
          -35.285714285714285,
          -41.714285714285715,
          -34.285714285714285,
          -33.142857142857146,
          -31.285714285714285,
          -28,
          -28,
          -26.428571428571427,
          -26.714285714285715,
          -34.142857142857146,
          -25.285714285714285,
          -23.857142857142858
         ]
        },
        {
         "name": "grocery and pharmacy trips Noord-Holland",
         "type": "scatter",
         "x": [
          "2020-02-27T00:00:00",
          "2020-03-05T00:00:00",
          "2020-03-12T00:00:00",
          "2020-03-19T00:00:00",
          "2020-03-26T00:00:00",
          "2020-04-02T00:00:00",
          "2020-04-09T00:00:00",
          "2020-04-16T00:00:00",
          "2020-04-23T00:00:00",
          "2020-04-30T00:00:00",
          "2020-05-07T00:00:00",
          "2020-05-14T00:00:00",
          "2020-05-21T00:00:00",
          "2020-05-28T00:00:00",
          "2020-06-04T00:00:00",
          "2020-06-11T00:00:00",
          "2020-06-18T00:00:00",
          "2020-06-25T00:00:00",
          "2020-07-02T00:00:00",
          "2020-07-09T00:00:00",
          "2020-07-16T00:00:00",
          "2020-07-23T00:00:00",
          "2020-07-30T00:00:00",
          "2020-08-06T00:00:00",
          "2020-08-13T00:00:00",
          "2020-08-20T00:00:00",
          "2020-08-27T00:00:00",
          "2020-09-03T00:00:00",
          "2020-09-10T00:00:00",
          "2020-09-17T00:00:00",
          "2020-09-24T00:00:00",
          "2020-10-01T00:00:00",
          "2020-10-08T00:00:00",
          "2020-10-15T00:00:00",
          "2020-10-22T00:00:00",
          "2020-10-29T00:00:00",
          "2020-11-05T00:00:00",
          "2020-11-12T00:00:00",
          "2020-11-19T00:00:00",
          "2020-11-26T00:00:00",
          "2020-12-03T00:00:00",
          "2020-12-10T00:00:00",
          "2020-12-17T00:00:00",
          "2020-12-24T00:00:00",
          "2020-12-31T00:00:00",
          "2021-01-07T00:00:00",
          "2021-01-14T00:00:00",
          "2021-01-21T00:00:00",
          "2021-01-28T00:00:00",
          "2021-02-04T00:00:00",
          "2021-02-11T00:00:00",
          "2021-02-18T00:00:00",
          "2021-02-25T00:00:00",
          "2021-03-04T00:00:00",
          "2021-03-11T00:00:00",
          "2021-03-18T00:00:00",
          "2021-03-25T00:00:00",
          "2021-04-01T00:00:00",
          "2021-04-08T00:00:00",
          "2021-04-15T00:00:00"
         ],
         "y": [
          2.2857142857142856,
          2.2857142857142856,
          12,
          -11.285714285714286,
          -20.428571428571427,
          -16.714285714285715,
          -19.142857142857142,
          -14,
          -11.857142857142858,
          -12.142857142857142,
          -7.428571428571429,
          -4.571428571428571,
          -5.428571428571429,
          -2.5714285714285716,
          -6.142857142857143,
          -3.7142857142857144,
          -0.8571428571428571,
          -1.7142857142857142,
          -6.571428571428571,
          -7.857142857142857,
          -6.285714285714286,
          -6.285714285714286,
          -6.285714285714286,
          -4.714285714285714,
          -4.571428571428571,
          -5.714285714285714,
          -6.571428571428571,
          -7.857142857142857,
          -6.285714285714286,
          -7.571428571428571,
          -7.142857142857143,
          -10.285714285714286,
          -12.285714285714286,
          -10.142857142857142,
          -7.857142857142857,
          -10.571428571428571,
          -7.285714285714286,
          -10.285714285714286,
          -7.428571428571429,
          -7.428571428571429,
          -9.428571428571429,
          -8,
          -4.714285714285714,
          -22.142857142857142,
          -20.857142857142858,
          -15.142857142857142,
          -18.285714285714285,
          -15,
          -16.428571428571427,
          -16,
          -11.285714285714286,
          -4.285714285714286,
          -3.857142857142857,
          -5.428571428571429,
          -6.571428571428571,
          -3.2857142857142856,
          -2.4285714285714284,
          -7.285714285714286,
          -2.142857142857143,
          0.7142857142857143
         ]
        },
        {
         "name": "retail and recreation trips Noord-Holland",
         "type": "scatter",
         "x": [
          "2020-02-27T00:00:00",
          "2020-03-05T00:00:00",
          "2020-03-12T00:00:00",
          "2020-03-19T00:00:00",
          "2020-03-26T00:00:00",
          "2020-04-02T00:00:00",
          "2020-04-09T00:00:00",
          "2020-04-16T00:00:00",
          "2020-04-23T00:00:00",
          "2020-04-30T00:00:00",
          "2020-05-07T00:00:00",
          "2020-05-14T00:00:00",
          "2020-05-21T00:00:00",
          "2020-05-28T00:00:00",
          "2020-06-04T00:00:00",
          "2020-06-11T00:00:00",
          "2020-06-18T00:00:00",
          "2020-06-25T00:00:00",
          "2020-07-02T00:00:00",
          "2020-07-09T00:00:00",
          "2020-07-16T00:00:00",
          "2020-07-23T00:00:00",
          "2020-07-30T00:00:00",
          "2020-08-06T00:00:00",
          "2020-08-13T00:00:00",
          "2020-08-20T00:00:00",
          "2020-08-27T00:00:00",
          "2020-09-03T00:00:00",
          "2020-09-10T00:00:00",
          "2020-09-17T00:00:00",
          "2020-09-24T00:00:00",
          "2020-10-01T00:00:00",
          "2020-10-08T00:00:00",
          "2020-10-15T00:00:00",
          "2020-10-22T00:00:00",
          "2020-10-29T00:00:00",
          "2020-11-05T00:00:00",
          "2020-11-12T00:00:00",
          "2020-11-19T00:00:00",
          "2020-11-26T00:00:00",
          "2020-12-03T00:00:00",
          "2020-12-10T00:00:00",
          "2020-12-17T00:00:00",
          "2020-12-24T00:00:00",
          "2020-12-31T00:00:00",
          "2021-01-07T00:00:00",
          "2021-01-14T00:00:00",
          "2021-01-21T00:00:00",
          "2021-01-28T00:00:00",
          "2021-02-04T00:00:00",
          "2021-02-11T00:00:00",
          "2021-02-18T00:00:00",
          "2021-02-25T00:00:00",
          "2021-03-04T00:00:00",
          "2021-03-11T00:00:00",
          "2021-03-18T00:00:00",
          "2021-03-25T00:00:00",
          "2021-04-01T00:00:00",
          "2021-04-08T00:00:00",
          "2021-04-15T00:00:00"
         ],
         "y": [
          0.42857142857142855,
          -2.4285714285714284,
          -26.714285714285715,
          -50.42857142857143,
          -53.714285714285715,
          -49.714285714285715,
          -51.714285714285715,
          -47,
          -45.714285714285715,
          -42.714285714285715,
          -40.142857142857146,
          -35.57142857142857,
          -34.142857142857146,
          -27.857142857142858,
          -27,
          -20.285714285714285,
          -14.571428571428571,
          -14.142857142857142,
          -14,
          -12.428571428571429,
          -9.142857142857142,
          -7.857142857142857,
          -8.142857142857142,
          -13.142857142857142,
          -11.571428571428571,
          -14.142857142857142,
          -14,
          -16.571428571428573,
          -12.142857142857142,
          -15.428571428571429,
          -20.428571428571427,
          -28.142857142857142,
          -26,
          -36.714285714285715,
          -35.42857142857143,
          -37.714285714285715,
          -36.714285714285715,
          -40,
          -34,
          -33.285714285714285,
          -36.57142857142857,
          -38.857142857142854,
          -52.714285714285715,
          -61.142857142857146,
          -60.57142857142857,
          -58.285714285714285,
          -59.857142857142854,
          -57.714285714285715,
          -58.714285714285715,
          -60.57142857142857,
          -55.142857142857146,
          -47.857142857142854,
          -47.285714285714285,
          -47.42857142857143,
          -48,
          -44.714285714285715,
          -41.857142857142854,
          -47.857142857142854,
          -44.142857142857146,
          -39.714285714285715
         ]
        },
        {
         "name": "work trips Zuid-Holland",
         "type": "scatter",
         "x": [
          "2020-02-27T00:00:00",
          "2020-03-05T00:00:00",
          "2020-03-12T00:00:00",
          "2020-03-19T00:00:00",
          "2020-03-26T00:00:00",
          "2020-04-02T00:00:00",
          "2020-04-09T00:00:00",
          "2020-04-16T00:00:00",
          "2020-04-23T00:00:00",
          "2020-04-30T00:00:00",
          "2020-05-07T00:00:00",
          "2020-05-14T00:00:00",
          "2020-05-21T00:00:00",
          "2020-05-28T00:00:00",
          "2020-06-04T00:00:00",
          "2020-06-11T00:00:00",
          "2020-06-18T00:00:00",
          "2020-06-25T00:00:00",
          "2020-07-02T00:00:00",
          "2020-07-09T00:00:00",
          "2020-07-16T00:00:00",
          "2020-07-23T00:00:00",
          "2020-07-30T00:00:00",
          "2020-08-06T00:00:00",
          "2020-08-13T00:00:00",
          "2020-08-20T00:00:00",
          "2020-08-27T00:00:00",
          "2020-09-03T00:00:00",
          "2020-09-10T00:00:00",
          "2020-09-17T00:00:00",
          "2020-09-24T00:00:00",
          "2020-10-01T00:00:00",
          "2020-10-08T00:00:00",
          "2020-10-15T00:00:00",
          "2020-10-22T00:00:00",
          "2020-10-29T00:00:00",
          "2020-11-05T00:00:00",
          "2020-11-12T00:00:00",
          "2020-11-19T00:00:00",
          "2020-11-26T00:00:00",
          "2020-12-03T00:00:00",
          "2020-12-10T00:00:00",
          "2020-12-17T00:00:00",
          "2020-12-24T00:00:00",
          "2020-12-31T00:00:00",
          "2021-01-07T00:00:00",
          "2021-01-14T00:00:00",
          "2021-01-21T00:00:00",
          "2021-01-28T00:00:00",
          "2021-02-04T00:00:00",
          "2021-02-11T00:00:00",
          "2021-02-18T00:00:00",
          "2021-02-25T00:00:00",
          "2021-03-04T00:00:00",
          "2021-03-11T00:00:00",
          "2021-03-18T00:00:00",
          "2021-03-25T00:00:00",
          "2021-04-01T00:00:00",
          "2021-04-08T00:00:00",
          "2021-04-15T00:00:00"
         ],
         "y": [
          -5.571428571428571,
          0.42857142857142855,
          -22.571428571428573,
          -44.142857142857146,
          -47.142857142857146,
          -45,
          -49.285714285714285,
          -40.57142857142857,
          -44,
          -41.42857142857143,
          -31.428571428571427,
          -28.857142857142858,
          -36.142857142857146,
          -28.571428571428573,
          -23.714285714285715,
          -21.142857142857142,
          -19.571428571428573,
          -21.571428571428573,
          -22,
          -20.571428571428573,
          -25.857142857142858,
          -30.857142857142858,
          -34,
          -36,
          -34.57142857142857,
          -31.857142857142858,
          -27.428571428571427,
          -24.571428571428573,
          -22.285714285714285,
          -21,
          -20.714285714285715,
          -23.714285714285715,
          -23,
          -31.857142857142858,
          -29.142857142857142,
          -24,
          -24,
          -24,
          -21.571428571428573,
          -20.857142857142858,
          -20.285714285714285,
          -22.571428571428573,
          -37.142857142857146,
          -54.42857142857143,
          -44.42857142857143,
          -32,
          -33.142857142857146,
          -32.285714285714285,
          -31.571428571428573,
          -36.714285714285715,
          -31,
          -29.714285714285715,
          -27.428571428571427,
          -24,
          -23.857142857142858,
          -22.142857142857142,
          -22.285714285714285,
          -31.285714285714285,
          -22,
          -20.285714285714285
         ]
        },
        {
         "name": "grocery and pharmacy trips Zuid-Holland",
         "type": "scatter",
         "x": [
          "2020-02-27T00:00:00",
          "2020-03-05T00:00:00",
          "2020-03-12T00:00:00",
          "2020-03-19T00:00:00",
          "2020-03-26T00:00:00",
          "2020-04-02T00:00:00",
          "2020-04-09T00:00:00",
          "2020-04-16T00:00:00",
          "2020-04-23T00:00:00",
          "2020-04-30T00:00:00",
          "2020-05-07T00:00:00",
          "2020-05-14T00:00:00",
          "2020-05-21T00:00:00",
          "2020-05-28T00:00:00",
          "2020-06-04T00:00:00",
          "2020-06-11T00:00:00",
          "2020-06-18T00:00:00",
          "2020-06-25T00:00:00",
          "2020-07-02T00:00:00",
          "2020-07-09T00:00:00",
          "2020-07-16T00:00:00",
          "2020-07-23T00:00:00",
          "2020-07-30T00:00:00",
          "2020-08-06T00:00:00",
          "2020-08-13T00:00:00",
          "2020-08-20T00:00:00",
          "2020-08-27T00:00:00",
          "2020-09-03T00:00:00",
          "2020-09-10T00:00:00",
          "2020-09-17T00:00:00",
          "2020-09-24T00:00:00",
          "2020-10-01T00:00:00",
          "2020-10-08T00:00:00",
          "2020-10-15T00:00:00",
          "2020-10-22T00:00:00",
          "2020-10-29T00:00:00",
          "2020-11-05T00:00:00",
          "2020-11-12T00:00:00",
          "2020-11-19T00:00:00",
          "2020-11-26T00:00:00",
          "2020-12-03T00:00:00",
          "2020-12-10T00:00:00",
          "2020-12-17T00:00:00",
          "2020-12-24T00:00:00",
          "2020-12-31T00:00:00",
          "2021-01-07T00:00:00",
          "2021-01-14T00:00:00",
          "2021-01-21T00:00:00",
          "2021-01-28T00:00:00",
          "2021-02-04T00:00:00",
          "2021-02-11T00:00:00",
          "2021-02-18T00:00:00",
          "2021-02-25T00:00:00",
          "2021-03-04T00:00:00",
          "2021-03-11T00:00:00",
          "2021-03-18T00:00:00",
          "2021-03-25T00:00:00",
          "2021-04-01T00:00:00",
          "2021-04-08T00:00:00",
          "2021-04-15T00:00:00"
         ],
         "y": [
          1,
          2.2857142857142856,
          15.428571428571429,
          -5.714285714285714,
          -15.857142857142858,
          -12.285714285714286,
          -16.714285714285715,
          -10.285714285714286,
          -7.857142857142857,
          -8,
          -3.4285714285714284,
          -0.14285714285714285,
          -3.2857142857142856,
          -1.7142857142857142,
          -3.5714285714285716,
          -2.7142857142857144,
          0,
          -1.2857142857142858,
          -2,
          -0.8571428571428571,
          -2.2857142857142856,
          -5.714285714285714,
          -8.571428571428571,
          -9.142857142857142,
          -11.285714285714286,
          -9.428571428571429,
          -5.142857142857143,
          -5.857142857142857,
          -5.571428571428571,
          -6.428571428571429,
          -5,
          -8.285714285714286,
          -7.857142857142857,
          -7.714285714285714,
          -6.285714285714286,
          -7.285714285714286,
          -5.571428571428571,
          -7.285714285714286,
          -4,
          -3.4285714285714284,
          -5.428571428571429,
          -3.2857142857142856,
          0.2857142857142857,
          -20.285714285714285,
          -18.142857142857142,
          -10.857142857142858,
          -15.142857142857142,
          -11.428571428571429,
          -12.857142857142858,
          -10.857142857142858,
          -7.714285714285714,
          -1.5714285714285714,
          -0.42857142857142855,
          -1.4285714285714286,
          -2.5714285714285716,
          0.14285714285714285,
          2,
          -7.142857142857143,
          1,
          3.2857142857142856
         ]
        },
        {
         "name": "retail and recreation trips Zuid-Holland",
         "type": "scatter",
         "x": [
          "2020-02-27T00:00:00",
          "2020-03-05T00:00:00",
          "2020-03-12T00:00:00",
          "2020-03-19T00:00:00",
          "2020-03-26T00:00:00",
          "2020-04-02T00:00:00",
          "2020-04-09T00:00:00",
          "2020-04-16T00:00:00",
          "2020-04-23T00:00:00",
          "2020-04-30T00:00:00",
          "2020-05-07T00:00:00",
          "2020-05-14T00:00:00",
          "2020-05-21T00:00:00",
          "2020-05-28T00:00:00",
          "2020-06-04T00:00:00",
          "2020-06-11T00:00:00",
          "2020-06-18T00:00:00",
          "2020-06-25T00:00:00",
          "2020-07-02T00:00:00",
          "2020-07-09T00:00:00",
          "2020-07-16T00:00:00",
          "2020-07-23T00:00:00",
          "2020-07-30T00:00:00",
          "2020-08-06T00:00:00",
          "2020-08-13T00:00:00",
          "2020-08-20T00:00:00",
          "2020-08-27T00:00:00",
          "2020-09-03T00:00:00",
          "2020-09-10T00:00:00",
          "2020-09-17T00:00:00",
          "2020-09-24T00:00:00",
          "2020-10-01T00:00:00",
          "2020-10-08T00:00:00",
          "2020-10-15T00:00:00",
          "2020-10-22T00:00:00",
          "2020-10-29T00:00:00",
          "2020-11-05T00:00:00",
          "2020-11-12T00:00:00",
          "2020-11-19T00:00:00",
          "2020-11-26T00:00:00",
          "2020-12-03T00:00:00",
          "2020-12-10T00:00:00",
          "2020-12-17T00:00:00",
          "2020-12-24T00:00:00",
          "2020-12-31T00:00:00",
          "2021-01-07T00:00:00",
          "2021-01-14T00:00:00",
          "2021-01-21T00:00:00",
          "2021-01-28T00:00:00",
          "2021-02-04T00:00:00",
          "2021-02-11T00:00:00",
          "2021-02-18T00:00:00",
          "2021-02-25T00:00:00",
          "2021-03-04T00:00:00",
          "2021-03-11T00:00:00",
          "2021-03-18T00:00:00",
          "2021-03-25T00:00:00",
          "2021-04-01T00:00:00",
          "2021-04-08T00:00:00",
          "2021-04-15T00:00:00"
         ],
         "y": [
          -1.2857142857142858,
          -2,
          -21.571428571428573,
          -42.857142857142854,
          -46.714285714285715,
          -42,
          -45.142857142857146,
          -38.142857142857146,
          -35.142857142857146,
          -32.57142857142857,
          -30.857142857142858,
          -25.571428571428573,
          -24.571428571428573,
          -19.571428571428573,
          -18.857142857142858,
          -12.857142857142858,
          -6.571428571428571,
          -7.714285714285714,
          -5.857142857142857,
          -0.8571428571428571,
          0.5714285714285714,
          -1.8571428571428572,
          -5.142857142857143,
          -11.571428571428571,
          -12.285714285714286,
          -10,
          -6.714285714285714,
          -9.285714285714286,
          -6.571428571428571,
          -9.714285714285714,
          -15.142857142857142,
          -22.142857142857142,
          -21.285714285714285,
          -29.857142857142858,
          -28.857142857142858,
          -30.714285714285715,
          -29.857142857142858,
          -32.714285714285715,
          -26.571428571428573,
          -25.285714285714285,
          -28.571428571428573,
          -30.714285714285715,
          -45.57142857142857,
          -56,
          -55.857142857142854,
          -52,
          -54.142857142857146,
          -51.57142857142857,
          -52.285714285714285,
          -53.42857142857143,
          -48.42857142857143,
          -38.714285714285715,
          -38.714285714285715,
          -38.857142857142854,
          -39.42857142857143,
          -35,
          -31.142857142857142,
          -40.285714285714285,
          -35,
          -30.571428571428573
         ]
        }
       ],
       "layout": {
        "template": {
         "data": {
          "bar": [
           {
            "error_x": {
             "color": "#2a3f5f"
            },
            "error_y": {
             "color": "#2a3f5f"
            },
            "marker": {
             "line": {
              "color": "#E5ECF6",
              "width": 0.5
             },
             "pattern": {
              "fillmode": "overlay",
              "size": 10,
              "solidity": 0.2
             }
            },
            "type": "bar"
           }
          ],
          "barpolar": [
           {
            "marker": {
             "line": {
              "color": "#E5ECF6",
              "width": 0.5
             },
             "pattern": {
              "fillmode": "overlay",
              "size": 10,
              "solidity": 0.2
             }
            },
            "type": "barpolar"
           }
          ],
          "carpet": [
           {
            "aaxis": {
             "endlinecolor": "#2a3f5f",
             "gridcolor": "white",
             "linecolor": "white",
             "minorgridcolor": "white",
             "startlinecolor": "#2a3f5f"
            },
            "baxis": {
             "endlinecolor": "#2a3f5f",
             "gridcolor": "white",
             "linecolor": "white",
             "minorgridcolor": "white",
             "startlinecolor": "#2a3f5f"
            },
            "type": "carpet"
           }
          ],
          "choropleth": [
           {
            "colorbar": {
             "outlinewidth": 0,
             "ticks": ""
            },
            "type": "choropleth"
           }
          ],
          "contour": [
           {
            "colorbar": {
             "outlinewidth": 0,
             "ticks": ""
            },
            "colorscale": [
             [
              0,
              "#0d0887"
             ],
             [
              0.1111111111111111,
              "#46039f"
             ],
             [
              0.2222222222222222,
              "#7201a8"
             ],
             [
              0.3333333333333333,
              "#9c179e"
             ],
             [
              0.4444444444444444,
              "#bd3786"
             ],
             [
              0.5555555555555556,
              "#d8576b"
             ],
             [
              0.6666666666666666,
              "#ed7953"
             ],
             [
              0.7777777777777778,
              "#fb9f3a"
             ],
             [
              0.8888888888888888,
              "#fdca26"
             ],
             [
              1,
              "#f0f921"
             ]
            ],
            "type": "contour"
           }
          ],
          "contourcarpet": [
           {
            "colorbar": {
             "outlinewidth": 0,
             "ticks": ""
            },
            "type": "contourcarpet"
           }
          ],
          "heatmap": [
           {
            "colorbar": {
             "outlinewidth": 0,
             "ticks": ""
            },
            "colorscale": [
             [
              0,
              "#0d0887"
             ],
             [
              0.1111111111111111,
              "#46039f"
             ],
             [
              0.2222222222222222,
              "#7201a8"
             ],
             [
              0.3333333333333333,
              "#9c179e"
             ],
             [
              0.4444444444444444,
              "#bd3786"
             ],
             [
              0.5555555555555556,
              "#d8576b"
             ],
             [
              0.6666666666666666,
              "#ed7953"
             ],
             [
              0.7777777777777778,
              "#fb9f3a"
             ],
             [
              0.8888888888888888,
              "#fdca26"
             ],
             [
              1,
              "#f0f921"
             ]
            ],
            "type": "heatmap"
           }
          ],
          "heatmapgl": [
           {
            "colorbar": {
             "outlinewidth": 0,
             "ticks": ""
            },
            "colorscale": [
             [
              0,
              "#0d0887"
             ],
             [
              0.1111111111111111,
              "#46039f"
             ],
             [
              0.2222222222222222,
              "#7201a8"
             ],
             [
              0.3333333333333333,
              "#9c179e"
             ],
             [
              0.4444444444444444,
              "#bd3786"
             ],
             [
              0.5555555555555556,
              "#d8576b"
             ],
             [
              0.6666666666666666,
              "#ed7953"
             ],
             [
              0.7777777777777778,
              "#fb9f3a"
             ],
             [
              0.8888888888888888,
              "#fdca26"
             ],
             [
              1,
              "#f0f921"
             ]
            ],
            "type": "heatmapgl"
           }
          ],
          "histogram": [
           {
            "marker": {
             "pattern": {
              "fillmode": "overlay",
              "size": 10,
              "solidity": 0.2
             }
            },
            "type": "histogram"
           }
          ],
          "histogram2d": [
           {
            "colorbar": {
             "outlinewidth": 0,
             "ticks": ""
            },
            "colorscale": [
             [
              0,
              "#0d0887"
             ],
             [
              0.1111111111111111,
              "#46039f"
             ],
             [
              0.2222222222222222,
              "#7201a8"
             ],
             [
              0.3333333333333333,
              "#9c179e"
             ],
             [
              0.4444444444444444,
              "#bd3786"
             ],
             [
              0.5555555555555556,
              "#d8576b"
             ],
             [
              0.6666666666666666,
              "#ed7953"
             ],
             [
              0.7777777777777778,
              "#fb9f3a"
             ],
             [
              0.8888888888888888,
              "#fdca26"
             ],
             [
              1,
              "#f0f921"
             ]
            ],
            "type": "histogram2d"
           }
          ],
          "histogram2dcontour": [
           {
            "colorbar": {
             "outlinewidth": 0,
             "ticks": ""
            },
            "colorscale": [
             [
              0,
              "#0d0887"
             ],
             [
              0.1111111111111111,
              "#46039f"
             ],
             [
              0.2222222222222222,
              "#7201a8"
             ],
             [
              0.3333333333333333,
              "#9c179e"
             ],
             [
              0.4444444444444444,
              "#bd3786"
             ],
             [
              0.5555555555555556,
              "#d8576b"
             ],
             [
              0.6666666666666666,
              "#ed7953"
             ],
             [
              0.7777777777777778,
              "#fb9f3a"
             ],
             [
              0.8888888888888888,
              "#fdca26"
             ],
             [
              1,
              "#f0f921"
             ]
            ],
            "type": "histogram2dcontour"
           }
          ],
          "mesh3d": [
           {
            "colorbar": {
             "outlinewidth": 0,
             "ticks": ""
            },
            "type": "mesh3d"
           }
          ],
          "parcoords": [
           {
            "line": {
             "colorbar": {
              "outlinewidth": 0,
              "ticks": ""
             }
            },
            "type": "parcoords"
           }
          ],
          "pie": [
           {
            "automargin": true,
            "type": "pie"
           }
          ],
          "scatter": [
           {
            "marker": {
             "colorbar": {
              "outlinewidth": 0,
              "ticks": ""
             }
            },
            "type": "scatter"
           }
          ],
          "scatter3d": [
           {
            "line": {
             "colorbar": {
              "outlinewidth": 0,
              "ticks": ""
             }
            },
            "marker": {
             "colorbar": {
              "outlinewidth": 0,
              "ticks": ""
             }
            },
            "type": "scatter3d"
           }
          ],
          "scattercarpet": [
           {
            "marker": {
             "colorbar": {
              "outlinewidth": 0,
              "ticks": ""
             }
            },
            "type": "scattercarpet"
           }
          ],
          "scattergeo": [
           {
            "marker": {
             "colorbar": {
              "outlinewidth": 0,
              "ticks": ""
             }
            },
            "type": "scattergeo"
           }
          ],
          "scattergl": [
           {
            "marker": {
             "colorbar": {
              "outlinewidth": 0,
              "ticks": ""
             }
            },
            "type": "scattergl"
           }
          ],
          "scattermapbox": [
           {
            "marker": {
             "colorbar": {
              "outlinewidth": 0,
              "ticks": ""
             }
            },
            "type": "scattermapbox"
           }
          ],
          "scatterpolar": [
           {
            "marker": {
             "colorbar": {
              "outlinewidth": 0,
              "ticks": ""
             }
            },
            "type": "scatterpolar"
           }
          ],
          "scatterpolargl": [
           {
            "marker": {
             "colorbar": {
              "outlinewidth": 0,
              "ticks": ""
             }
            },
            "type": "scatterpolargl"
           }
          ],
          "scatterternary": [
           {
            "marker": {
             "colorbar": {
              "outlinewidth": 0,
              "ticks": ""
             }
            },
            "type": "scatterternary"
           }
          ],
          "surface": [
           {
            "colorbar": {
             "outlinewidth": 0,
             "ticks": ""
            },
            "colorscale": [
             [
              0,
              "#0d0887"
             ],
             [
              0.1111111111111111,
              "#46039f"
             ],
             [
              0.2222222222222222,
              "#7201a8"
             ],
             [
              0.3333333333333333,
              "#9c179e"
             ],
             [
              0.4444444444444444,
              "#bd3786"
             ],
             [
              0.5555555555555556,
              "#d8576b"
             ],
             [
              0.6666666666666666,
              "#ed7953"
             ],
             [
              0.7777777777777778,
              "#fb9f3a"
             ],
             [
              0.8888888888888888,
              "#fdca26"
             ],
             [
              1,
              "#f0f921"
             ]
            ],
            "type": "surface"
           }
          ],
          "table": [
           {
            "cells": {
             "fill": {
              "color": "#EBF0F8"
             },
             "line": {
              "color": "white"
             }
            },
            "header": {
             "fill": {
              "color": "#C8D4E3"
             },
             "line": {
              "color": "white"
             }
            },
            "type": "table"
           }
          ]
         },
         "layout": {
          "annotationdefaults": {
           "arrowcolor": "#2a3f5f",
           "arrowhead": 0,
           "arrowwidth": 1
          },
          "autotypenumbers": "strict",
          "coloraxis": {
           "colorbar": {
            "outlinewidth": 0,
            "ticks": ""
           }
          },
          "colorscale": {
           "diverging": [
            [
             0,
             "#8e0152"
            ],
            [
             0.1,
             "#c51b7d"
            ],
            [
             0.2,
             "#de77ae"
            ],
            [
             0.3,
             "#f1b6da"
            ],
            [
             0.4,
             "#fde0ef"
            ],
            [
             0.5,
             "#f7f7f7"
            ],
            [
             0.6,
             "#e6f5d0"
            ],
            [
             0.7,
             "#b8e186"
            ],
            [
             0.8,
             "#7fbc41"
            ],
            [
             0.9,
             "#4d9221"
            ],
            [
             1,
             "#276419"
            ]
           ],
           "sequential": [
            [
             0,
             "#0d0887"
            ],
            [
             0.1111111111111111,
             "#46039f"
            ],
            [
             0.2222222222222222,
             "#7201a8"
            ],
            [
             0.3333333333333333,
             "#9c179e"
            ],
            [
             0.4444444444444444,
             "#bd3786"
            ],
            [
             0.5555555555555556,
             "#d8576b"
            ],
            [
             0.6666666666666666,
             "#ed7953"
            ],
            [
             0.7777777777777778,
             "#fb9f3a"
            ],
            [
             0.8888888888888888,
             "#fdca26"
            ],
            [
             1,
             "#f0f921"
            ]
           ],
           "sequentialminus": [
            [
             0,
             "#0d0887"
            ],
            [
             0.1111111111111111,
             "#46039f"
            ],
            [
             0.2222222222222222,
             "#7201a8"
            ],
            [
             0.3333333333333333,
             "#9c179e"
            ],
            [
             0.4444444444444444,
             "#bd3786"
            ],
            [
             0.5555555555555556,
             "#d8576b"
            ],
            [
             0.6666666666666666,
             "#ed7953"
            ],
            [
             0.7777777777777778,
             "#fb9f3a"
            ],
            [
             0.8888888888888888,
             "#fdca26"
            ],
            [
             1,
             "#f0f921"
            ]
           ]
          },
          "colorway": [
           "#636efa",
           "#EF553B",
           "#00cc96",
           "#ab63fa",
           "#FFA15A",
           "#19d3f3",
           "#FF6692",
           "#B6E880",
           "#FF97FF",
           "#FECB52"
          ],
          "font": {
           "color": "#2a3f5f"
          },
          "geo": {
           "bgcolor": "white",
           "lakecolor": "white",
           "landcolor": "#E5ECF6",
           "showlakes": true,
           "showland": true,
           "subunitcolor": "white"
          },
          "hoverlabel": {
           "align": "left"
          },
          "hovermode": "closest",
          "mapbox": {
           "style": "light"
          },
          "paper_bgcolor": "white",
          "plot_bgcolor": "#E5ECF6",
          "polar": {
           "angularaxis": {
            "gridcolor": "white",
            "linecolor": "white",
            "ticks": ""
           },
           "bgcolor": "#E5ECF6",
           "radialaxis": {
            "gridcolor": "white",
            "linecolor": "white",
            "ticks": ""
           }
          },
          "scene": {
           "xaxis": {
            "backgroundcolor": "#E5ECF6",
            "gridcolor": "white",
            "gridwidth": 2,
            "linecolor": "white",
            "showbackground": true,
            "ticks": "",
            "zerolinecolor": "white"
           },
           "yaxis": {
            "backgroundcolor": "#E5ECF6",
            "gridcolor": "white",
            "gridwidth": 2,
            "linecolor": "white",
            "showbackground": true,
            "ticks": "",
            "zerolinecolor": "white"
           },
           "zaxis": {
            "backgroundcolor": "#E5ECF6",
            "gridcolor": "white",
            "gridwidth": 2,
            "linecolor": "white",
            "showbackground": true,
            "ticks": "",
            "zerolinecolor": "white"
           }
          },
          "shapedefaults": {
           "line": {
            "color": "#2a3f5f"
           }
          },
          "ternary": {
           "aaxis": {
            "gridcolor": "white",
            "linecolor": "white",
            "ticks": ""
           },
           "baxis": {
            "gridcolor": "white",
            "linecolor": "white",
            "ticks": ""
           },
           "bgcolor": "#E5ECF6",
           "caxis": {
            "gridcolor": "white",
            "linecolor": "white",
            "ticks": ""
           }
          },
          "title": {
           "x": 0.05
          },
          "xaxis": {
           "automargin": true,
           "gridcolor": "white",
           "linecolor": "white",
           "ticks": "",
           "title": {
            "standoff": 15
           },
           "zerolinecolor": "white",
           "zerolinewidth": 2
          },
          "yaxis": {
           "automargin": true,
           "gridcolor": "white",
           "linecolor": "white",
           "ticks": "",
           "title": {
            "standoff": 15
           },
           "zerolinecolor": "white",
           "zerolinewidth": 2
          }
         }
        },
        "title": {
         "text": "mobility during covid in Noord-Brabant, Noord-Holland and Zuid-Holland"
        }
       }
      }
     },
     "metadata": {},
     "output_type": "display_data"
    }
   ],
   "source": [
    "# Making a line graph again\n",
    "fig_8 = go.Figure()\n",
    "\n",
    "for province in provinces_story:\n",
    "    df_province_story_2 = (df_full.loc[df_full['province'] == province])\n",
    "    df_province_story_2.reset_index(inplace=True)\n",
    "\n",
    "    for activity in activities_story_2:\n",
    "        x1 = df_province_story_2['date']\n",
    "        y1 = df_province_story_2[activity]\n",
    "        fig_8.add_trace(go.Scatter(x=x1,y=y1,name=activity + ' ' + province))\n",
    "\n",
    "fig_8.update_layout(title='mobility during covid in ' + province_1 + ', ' + province_2 + ' and ' + province_3)\n",
    "fig_8.show()"
   ]
  },
  {
   "cell_type": "markdown",
   "metadata": {},
   "source": [
    "This plot shows some interesting findings. You can look at specific data by toggling. Clearly my personal, anecdotical, experience was not representative of the whole province. The province of Noord-Brabant shows to have the relatively highest number of trips for all three trip purposes over the covid period. It would be interesting to look into the differences between specific cities, as those might give off different results. For now, it is interesting to see that (although the differences are not huge) the citizens of Noord-Brabant seem to travel the most of these three provinces during the covid times despite the high number of cases. In the other two provinces, people have decreased their trips more because of covid. \n",
    "\n",
    "What would also be interesting, however, is to see if people from the three provinces reacted the same to peaks in the number of cases in their respective province. So if peaks in cases/hospitalizations resulted in fewer trips in the week(s) after. For Noord-Brabant, we have already seen this at the end of part II of this assignment. Let's put the results together for all three provinces."
   ]
  },
  {
   "cell_type": "code",
   "execution_count": 22,
   "metadata": {},
   "outputs": [
    {
     "name": "stdout",
     "output_type": "stream",
     "text": [
      "Peaks in number of cases for which grocery and pharmacy trips has a valley in the same week in Noord-Brabant : ['2020-10-29', '2020-06-04', '2020-03-26', '2020-04-09', '2020-08-06']\n",
      "Peaks in number of cases for which grocery and pharmacy trips has a valley within 2 week(s) after in Noord-Brabant : ['2020-12-17', '2020-11-19', '2020-03-26', '2020-08-20', '2021-03-25']\n",
      "Peaks in number of cases for which grocery and pharmacy trips has a valley in the same week in Noord-Holland : ['2020-10-29', '2020-06-04', '2020-03-26', '2020-04-09', '2020-08-06']\n",
      "Peaks in number of cases for which grocery and pharmacy trips has a valley within 2 week(s) after in Noord-Holland : ['2020-07-02', '2020-12-17', '2020-11-19', '2020-10-22', '2020-03-26', '2020-08-20', '2021-03-25', '2021-02-25']\n",
      "Peaks in number of cases for which grocery and pharmacy trips has a valley in the same week in Zuid-Holland : ['2020-10-29', '2020-06-04', '2020-03-26', '2020-04-09', '2020-08-06']\n",
      "Peaks in number of cases for which grocery and pharmacy trips has a valley within 2 week(s) after in Zuid-Holland : ['2020-07-02', '2020-12-17', '2020-11-19', '2020-10-22', '2020-03-26', '2020-06-25', '2020-08-20', '2021-03-25', '2021-02-25', '2020-08-06']\n"
     ]
    }
   ],
   "source": [
    "# The same idea done in the second part, but now for multiple provinces at the same time\n",
    "peaks_date_dict_3 = {}\n",
    "valleys_date_dict_3 = {}\n",
    "\n",
    "margin_4 = list(range(1,weeks_4+1))\n",
    "\n",
    "common_peaks_4 = {}\n",
    "common_peaks_4['in same week'] = []\n",
    "common_peaks_4['in margin_2 after'] = []\n",
    "\n",
    "# Here the for loop with the provinces is added\n",
    "for province in provinces_story:\n",
    "    df_province_story_3 = (df_full.loc[df_full['province'] == province])\n",
    "    df_province_story_3.reset_index(inplace=True)\n",
    "    for activity in activities_story_3:\n",
    "        max_ind = my_find_peaks(df_province_story_3, activity)\n",
    "        min_ind = my_find_valleys(df_province_story_3,activity)\n",
    "\n",
    "        df_max_3 = df_province_story_3.iloc[max_ind]\n",
    "        df_min_3 = df_province_story_3.iloc[min_ind]\n",
    "        peaks_date_dict_3[activity] = df_max_3['date']\n",
    "        valleys_date_dict_3[activity] = df_min_3['date']        \n",
    "\n",
    "    for date5 in peaks_date_dict_3[activity_5]:\n",
    "        for date2 in valleys_date_dict_3[activity_2]:\n",
    "            for number in margin_4:\n",
    "                if date5.date() == date2.date():\n",
    "                    common_peaks_4['in same week'].append(str(date5.date()))\n",
    "                if date5.date() + datetime.timedelta(weeks=number) == date2.date():\n",
    "                    common_peaks_4['in margin_2 after'].append(str(date5.date()))\n",
    "\n",
    "    unique_common_peaks_4 = {a:list(set(b)) for a, b in common_peaks_4.items()}\n",
    "\n",
    "    print('Peaks in', activity_5, 'for which', activity_2, 'has a valley in the same week in', province, ':', unique_common_peaks_4['in same week'])\n",
    "    print('Peaks in', activity_5, 'for which', activity_2, 'has a valley within', weeks_4, 'week(s) after in', province, ':', unique_common_peaks_4['in margin_2 after'])"
   ]
  },
  {
   "cell_type": "markdown",
   "metadata": {},
   "source": [
    "This could be done for all of the trip purposes, but at least for grocery and pharmacy trips:\n",
    "- It can be seen that people in Noord-Holland and Zuid-Holland reacted to the peaks in cases in terms of lowering trips more often than in Noord-Brabant\n",
    "- It can also be seen that the provinces have precisely common peaks for cases and valleys for the trips at the same moments in time"
   ]
  },
  {
   "cell_type": "markdown",
   "metadata": {},
   "source": [
    "All with all, it can be stated that:\n",
    "- The citizens of Zuid-Holland rightfully decreased their number of trips during the covid crisis, as the number of cases there has often been the highest\n",
    "- The citizens of Noord-Brabant decreased their number of trips the least of all three provinces, despite the fact that the number of cases has been relatively high there as well\n",
    "- My personal experience was not representative for the whole province :)\n",
    "\n",
    "It should be noted, however, that taking the provincial data does generalise quite different regions:\n",
    "- These provinces consist of larger cities and countryside that have showed totally different numbers of cases and hospitalizations\n",
    "- The composition of these provinces in terms of city-countryside is also different\n",
    "\n",
    "Therefore, it would be good to look into the city data before coming to hard conclusions."
   ]
  }
 ],
 "metadata": {
  "interpreter": {
   "hash": "13b144fba200076560b4f833c59a5abf9d79ef7cb58ea18c1416052701640047"
  },
  "kernelspec": {
   "display_name": "Python 3.9.7 64-bit ('geo-env': conda)",
   "name": "python3"
  },
  "language_info": {
   "codemirror_mode": {
    "name": "ipython",
    "version": 3
   },
   "file_extension": ".py",
   "mimetype": "text/x-python",
   "name": "python",
   "nbconvert_exporter": "python",
   "pygments_lexer": "ipython3",
   "version": "3.9.7"
  }
 },
 "nbformat": 4,
 "nbformat_minor": 4
}
