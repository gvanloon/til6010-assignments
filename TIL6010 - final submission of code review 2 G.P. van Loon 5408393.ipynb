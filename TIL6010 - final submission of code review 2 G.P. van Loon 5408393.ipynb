{
 "cells": [
  {
   "cell_type": "markdown",
   "metadata": {
    "heading_collapsed": true
   },
   "source": [
    "# Checklist\n",
    "\n",
    "- Find your partner from this [Spread sheet](https://docs.google.com/spreadsheets/d/1NT9gbjn0Gp-cV2-0nqvvevAv4QN2q8cC97fB3veZE7M/edit#gid=1813836601)\n",
    "- **If your name is not there in the code review groups, check the [invited accounts sheet](https://docs.google.com/spreadsheets/d/1NT9gbjn0Gp-cV2-0nqvvevAv4QN2q8cC97fB3veZE7M/edit#gid=0) for the reason and remedy immediately!**\n",
    "- Invite your partner to your repository (by using their Github account name in the spread sheet). You are already familiar with how to add a collaborator , but here is a [reference](https://docs.github.com/en/account-and-profile/setting-up-and-managing-your-github-user-account/managing-access-to-your-personal-repositories/inviting-collaborators-to-a-personal-repository) \n",
    "\n",
    "For the review assignment, you are going to assess your partner code based on the following rubric. \n",
    "- Some elements might not be applicable, so mark it as Not applicable.\n",
    "- Provide specific comments using code line numbers, variable name, etc.\n",
    "- Use the [Pep-8 standard](https://pep8.org) to address each element in the rubric\n",
    "- Screenshot the finalized table and submit it under the issue page of your partner's repository. An example code review screenshot can be found [here](https://github.com/Panchamy/TIL6010/issues/5)\n",
    "\n",
    "In general, there are other criterias for code reviews , especially for large code bases. You can find an exhaustive list [here](https://deepsource.io/blog/python-code-review-checklist/). However, in this course, we are only looking at readability metrics."
   ]
  },
  {
   "cell_type": "markdown",
   "metadata": {
    "heading_collapsed": true
   },
   "source": [
    "# Readability rubrics - [PEP-8 standard](https://pep8.org)\n",
    "\n",
    "- Code layout\n",
    "\n",
    "- String quotes\n",
    "\n",
    "- Whitespace in expressions and statements\n",
    "\n",
    "- When to use trailing commas\n",
    "\n",
    "- Comments\n",
    "\n",
    "- Naming conventions\n",
    "\n",
    "- Programming recommendations\n"
   ]
  },
  {
   "cell_type": "markdown",
   "metadata": {
    "hidden": true
   },
   "source": [
    "Checklist | Sufficient | Insufficient | Not applicable | Comments\n",
    "--- | --- | --- | --- | ---\n",
    "**Code layout** |x | | | Code looks good. There are some errors in there, but the comments properly mention those.  \n",
    "**String quotes** |x | | | Consistent use of single quotes for strings. \n",
    "**Whitespaces** |x | | | Not always consistent use of whitespaces, but it does not really hinder the readability of the code\n",
    "**Trailing commas** | | |x | Not applicable\n",
    "**Comments** |x | | | Where necessary, there are comments added that add to the readability of the code\n",
    "**Naming conventions** |x | | | Consistent non-capitalization. Looks good\n",
    "**Programming recommendations** | | |x | Not really applicable"
   ]
  },
  {
   "cell_type": "code",
   "execution_count": null,
   "metadata": {},
   "outputs": [],
   "source": []
  }
 ],
 "metadata": {
  "kernelspec": {
   "display_name": "Python 3",
   "language": "python",
   "name": "python3"
  },
  "language_info": {
   "codemirror_mode": {
    "name": "ipython",
    "version": 3
   },
   "file_extension": ".py",
   "mimetype": "text/x-python",
   "name": "python",
   "nbconvert_exporter": "python",
   "pygments_lexer": "ipython3",
   "version": "3.8.5"
  }
 },
 "nbformat": 4,
 "nbformat_minor": 5
}
