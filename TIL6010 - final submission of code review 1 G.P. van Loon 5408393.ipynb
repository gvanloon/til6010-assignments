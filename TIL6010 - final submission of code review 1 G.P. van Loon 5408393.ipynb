{
 "cells": [
  {
   "cell_type": "markdown",
   "metadata": {
    "heading_collapsed": true
   },
   "source": [
    "# Checklist\n",
    "\n",
    "- Find your partner from this [Spread sheet](https://docs.google.com/spreadsheets/d/1NT9gbjn0Gp-cV2-0nqvvevAv4QN2q8cC97fB3veZE7M/edit#gid=1813836601)\n",
    "- **If your name is not there in the code review groups, check the [invited accounts sheet](https://docs.google.com/spreadsheets/d/1NT9gbjn0Gp-cV2-0nqvvevAv4QN2q8cC97fB3veZE7M/edit#gid=0) for the reason and remedy immediately!**\n",
    "- Invite your partner to your repository (by using their Github account name in the spread sheet). You are already familiar with how to add a collaborator , but here is a [reference](https://docs.github.com/en/account-and-profile/setting-up-and-managing-your-github-user-account/managing-access-to-your-personal-repositories/inviting-collaborators-to-a-personal-repository) \n",
    "\n",
    "For the review assignment, you are going to assess your partner code based on the following rubric. \n",
    "- Some elements might not be applicable, so mark it as Not applicable.\n",
    "- Provide specific comments using code line numbers, variable name, etc.\n",
    "- Use the [Pep-8 standard](https://pep8.org) to address each element in the rubric\n",
    "- Screenshot the finalized table and submit it under the issue page of your partner's repository. An example code review screenshot can be found [here](https://github.com/Panchamy/TIL6010/issues/5)\n",
    "\n",
    "In general, there are other criterias for code reviews , especially for large code bases. You can find an exhaustive list [here](https://deepsource.io/blog/python-code-review-checklist/). However, in this course, we are only looking at readability metrics."
   ]
  },
  {
   "cell_type": "markdown",
   "metadata": {
    "heading_collapsed": true
   },
   "source": [
    "# Readability rubrics - [PEP-8 standard](https://pep8.org)\n",
    "\n",
    "- Code layout\n",
    "\n",
    "- String quotes\n",
    "\n",
    "- Whitespace in expressions and statements\n",
    "\n",
    "- When to use trailing commas\n",
    "\n",
    "- Comments\n",
    "\n",
    "- Naming conventions\n",
    "\n",
    "- Programming recommendations\n"
   ]
  },
  {
   "cell_type": "markdown",
   "metadata": {
    "hidden": true
   },
   "source": [
    "Checklist | Sufficient | Insufficient | Not applicable | Comments\n",
    "--- | --- | --- | --- | ---\n",
    "**Code layout** |x | | | Code layout looks good and comprehensible. There are some comments in your code with what I think is old code? Might have been better to get rid of that before handing in the code (e.g. Q1.2 and Q2.5). There is not much to say about the build-up as the order of the content was basically set beforehand, but also the blocks containing longer code look good. \n",
    "**String quotes** |x | | | Consistent use of single quotes, so looks good.\n",
    "**Whitespaces** |x | | | Proper use of whitespaces. Looks good. Not always consistent (e.g. at Q1.6), but nothing major. \n",
    "**Trailing commas** | | |x | No trailing commas are used, as there are no tuples used in the code. \n",
    "**Comments** |x | | | try to be consistent in using a hashtag and a space before starting the comment. As mentioned, there are some comments containing old code that might have been better to get rid of. Sporadically there is a comment that starts with a capital, but other than the minor things mentioned the comments are helpful and look fine!\n",
    "**Naming conventions** |x | | | Consistency in non-capitalization. Only at Q1.7 the output_file variables do start with a capital, but other than that the consistency is good. There is also nice consistency in the way the variable names are built up. \n",
    "**Programming recommendations** | | |x | Not really appliccable. Only relevant thing is that booleans are correctly compared to True/False using only one '=' sign. "
   ]
  },
  {
   "cell_type": "code",
   "execution_count": null,
   "metadata": {},
   "outputs": [],
   "source": []
  }
 ],
 "metadata": {
  "kernelspec": {
   "display_name": "Python 3",
   "language": "python",
   "name": "python3"
  },
  "language_info": {
   "codemirror_mode": {
    "name": "ipython",
    "version": 3
   },
   "file_extension": ".py",
   "mimetype": "text/x-python",
   "name": "python",
   "nbconvert_exporter": "python",
   "pygments_lexer": "ipython3",
   "version": "3.8.5"
  }
 },
 "nbformat": 4,
 "nbformat_minor": 5
}
