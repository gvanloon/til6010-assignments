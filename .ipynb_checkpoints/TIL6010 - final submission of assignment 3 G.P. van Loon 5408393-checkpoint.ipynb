{
 "cells": [
  {
   "cell_type": "markdown",
   "metadata": {},
   "source": [
    "# General requirements for the assignment\n",
    "\n",
    "- Make appropriate comments to your code\n",
    "- Use Markdown cells to provide your answers (when applicable)\n",
    "- Add your code when there is the comment \"YOUR CODE HERE\".\n",
    "- Stick to Pep8 standard as much as possible for your coding\n",
    "- Tag the commit as *Final submission of Assignment 3*\n",
    "- Submit through GitHub\n",
    "- Provide your GitHub url to the Ipython notebook as the submisison for Brightspace assignment 3\n",
    "- Post (interesting) errors in the course Github's issue page\n",
    "\n",
    "# Assignment Intro\n",
    "\n",
    "In this assignment, you will be asked to make some visualisations on the dataset that you worked with in the previous assignments.\n",
    "\n",
    "### DEADLINE FOR THIS ASSIGNMENT IS 15 OCTOBER 2021 BEFORE 23:59\n",
    "\n",
    "<hr />"
   ]
  },
  {
   "cell_type": "markdown",
   "metadata": {
    "heading_collapsed": true
   },
   "source": [
    "## Import libraries\n",
    "Update this list as you go along the assigment"
   ]
  },
  {
   "cell_type": "code",
   "execution_count": 1,
   "metadata": {
    "hidden": true
   },
   "outputs": [],
   "source": [
    "import matplotlib.pyplot as plt\n",
    "%matplotlib inline\n",
    "import seaborn as sns\n",
    "import pandas as pd\n",
    "import geopandas as gpd\n",
    "from pathlib import Path\n",
    "import numpy as np\n",
    "import math\n",
    "import scipy\n",
    "import plotly.graph_objects as go"
   ]
  },
  {
   "cell_type": "markdown",
   "metadata": {},
   "source": [
    "## Activity changes\n",
    "\n",
    "Use the dataset that you have been working on in the previous assignments. Pick either a city or a province, then recreate the diagram for one of the activities, similar to those that are shown in [Google mobility reports](https://www.gstatic.com/covid19/mobility/2021-09-28_AW_Mobility_Report_en.pdf) or as below.\n",
    "\n",
    "<img src=\"Images/Transit_changes.png\" alt=\"drawing\" width=\"600\"/>"
   ]
  },
  {
   "cell_type": "markdown",
   "metadata": {},
   "source": [
    "### Remarks:\n",
    "- Create readable graphs by providing appropriate ticks, labels, titles, colorbars, legends\n",
    "- [Hint] A possible [function](https://matplotlib.org/stable/api/_as_gen/matplotlib.axes.Axes.fill_between.html#matplotlib.axes.Axes.fill_between) to fill areas between lines\n",
    "- [Optional] If you are ambitous, you can use subplots to also include the left part of the figure, which shows the percentages as below\n",
    " <img src=\"Images/Transit_changes_text.png\" alt=\"drawing\" width=\"200\"/>"
   ]
  },
  {
   "cell_type": "code",
   "execution_count": 2,
   "metadata": {},
   "outputs": [
    {
     "data": {
      "image/png": "[encoded data removed]",
      "text/plain": [
       "<Figure size 720x360 with 1 Axes>"
      ]
     },
     "metadata": {
      "needs_background": "light"
     },
     "output_type": "display_data"
    }
   ],
   "source": [
    "data_dir = r'C:\\Users\\Govert\\Downloads\\Region_Mobility_Report_CSVs'\n",
    "\n",
    "file_path_2020 = r'C:\\Users\\Govert\\Downloads\\Region_Mobility_Report_CSVs\\2020_NL_Region_Mobility_Report.csv'\n",
    "df_2020 = pd.read_csv(file_path_2020)\n",
    "df_2020.insert(0,'year', '2020')\n",
    "\n",
    "file_path_2021 = r'C:\\Users\\Govert\\Downloads\\Region_Mobility_Report_CSVs\\2021_NL_Region_Mobility_Report.csv'\n",
    "df_2021 = pd.read_csv(file_path_2021)\n",
    "df_2021.insert(0,'year', '2021')\n",
    " \n",
    "df_full = pd.concat((df_2020, df_2021))\n",
    "df_province = df_full[(df_full['sub_region_1'].notna()) & (df_full['sub_region_2'].isna())]\n",
    "\n",
    "df_province = df_province.drop(columns = ['country_region_code', 'country_region'])\n",
    "\n",
    "df_province_selected = (df_province.loc[df_province['sub_region_1'] == 'Utrecht'])\n",
    "\n",
    "df_datetime = pd.to_datetime(df_province_selected['date'])\n",
    "df_province_selected = df_province_selected.assign(date=df_datetime)\n",
    "df_province_agg = df_province_selected.resample('7D', on='date').mean()\n",
    "df_province_agg.reset_index(inplace = True)\n",
    "\n",
    "activity = 'retail_and_recreation_percent_change_from_baseline'\n",
    "x = df_province_agg['date']\n",
    "y = df_province_agg[activity]\n",
    "\n",
    "plt.figure(figsize=(10,5))\n",
    "plt.fill_between(x, 0, y,\n",
    "                facecolor='lightblue')\n",
    "plt.ylim(-60,60)\n",
    "plt.title(activity)\n",
    "plt.plot(x, y)\n",
    "plt.grid(axis = 'y')\n",
    "plt.show()"
   ]
  },
  {
   "cell_type": "markdown",
   "metadata": {
    "heading_collapsed": true
   },
   "source": [
    "## Multiple lines in the same plot\n",
    "\n",
    "In the previous question, you created a figure for a single city/province. Now, include multiple cities or provinces in a single figure. This time, make the diagram interactive, such as being be to select/deselect particular cities/provinces.\n"
   ]
  },
  {
   "cell_type": "markdown",
   "metadata": {
    "heading_collapsed": true,
    "hidden": true
   },
   "source": [
    "### Remarks\n",
    "\n",
    "- You donot need to fill areas between the lines for the multiple lines plot here\n",
    "- [Hint] If you are to use plotly express, you can use `color` argument in [px.line](https://plotly.com/python-api-reference/generated/plotly.express.line)\n"
   ]
  },
  {
   "cell_type": "code",
   "execution_count": 28,
   "metadata": {
    "hidden": true
   },
   "outputs": [
    {
     "data": {
      "application/vnd.plotly.v1+json": {
       "config": {
        "plotlyServerURL": "https://plot.ly"
       },
       "data": [
        {
         "name": "Amersfoort",
         "type": "scatter",
         "x": [
          "2020-01-03T00:00:00",
          "2020-01-10T00:00:00",
          "2020-01-17T00:00:00",
          "2020-01-24T00:00:00",
          "2020-01-31T00:00:00",
          "2020-02-07T00:00:00",
          "2020-02-14T00:00:00",
          "2020-02-21T00:00:00",
          "2020-02-28T00:00:00",
          "2020-03-06T00:00:00",
          "2020-03-13T00:00:00",
          "2020-03-20T00:00:00",
          "2020-03-27T00:00:00",
          "2020-04-03T00:00:00",
          "2020-04-10T00:00:00",
          "2020-04-17T00:00:00",
          "2020-04-24T00:00:00",
          "2020-05-01T00:00:00",
          "2020-05-08T00:00:00",
          "2020-05-15T00:00:00",
          "2020-05-22T00:00:00",
          "2020-05-29T00:00:00",
          "2020-06-05T00:00:00",
          "2020-06-12T00:00:00",
          "2020-06-19T00:00:00",
          "2020-06-26T00:00:00",
          "2020-07-03T00:00:00",
          "2020-07-10T00:00:00",
          "2020-07-17T00:00:00",
          "2020-07-24T00:00:00",
          "2020-07-31T00:00:00",
          "2020-08-07T00:00:00",
          "2020-08-14T00:00:00",
          "2020-08-21T00:00:00",
          "2020-08-28T00:00:00",
          "2020-09-04T00:00:00",
          "2020-09-11T00:00:00",
          "2020-09-18T00:00:00",
          "2020-09-25T00:00:00",
          "2020-10-02T00:00:00",
          "2020-10-09T00:00:00",
          "2020-10-16T00:00:00",
          "2020-10-23T00:00:00",
          "2020-10-30T00:00:00",
          "2020-11-06T00:00:00",
          "2020-11-13T00:00:00",
          "2020-11-20T00:00:00",
          "2020-11-27T00:00:00",
          "2020-12-04T00:00:00",
          "2020-12-11T00:00:00",
          "2020-12-18T00:00:00",
          "2020-12-25T00:00:00",
          "2021-01-01T00:00:00",
          "2021-01-08T00:00:00",
          "2021-01-15T00:00:00",
          "2021-01-22T00:00:00",
          "2021-01-29T00:00:00",
          "2021-02-05T00:00:00",
          "2021-02-12T00:00:00",
          "2021-02-19T00:00:00",
          "2021-02-26T00:00:00",
          "2021-03-05T00:00:00",
          "2021-03-12T00:00:00",
          "2021-03-19T00:00:00",
          "2021-03-26T00:00:00",
          "2021-04-02T00:00:00",
          "2021-04-09T00:00:00",
          "2021-04-16T00:00:00",
          "2021-04-23T00:00:00",
          "2021-04-30T00:00:00",
          "2021-05-07T00:00:00",
          "2021-05-14T00:00:00",
          "2021-05-21T00:00:00",
          "2021-05-28T00:00:00",
          "2021-06-04T00:00:00",
          "2021-06-11T00:00:00",
          "2021-06-18T00:00:00",
          "2021-06-25T00:00:00",
          "2021-07-02T00:00:00",
          "2021-07-09T00:00:00",
          "2021-07-16T00:00:00",
          "2021-07-23T00:00:00",
          "2021-07-30T00:00:00",
          "2021-08-06T00:00:00",
          "2021-08-13T00:00:00",
          "2021-08-20T00:00:00",
          "2021-08-27T00:00:00",
          "2021-09-03T00:00:00",
          "2021-09-10T00:00:00"
         ],
         "y": [
          10.571428571428571,
          11.333333333333334,
          null,
          null,
          12.5,
          8.5,
          0.5,
          1.5714285714285714,
          6.4,
          10.857142857142858,
          13.857142857142858,
          21,
          20.5,
          10,
          17.142857142857142,
          17.285714285714285,
          17.142857142857142,
          10.25,
          11.428571428571429,
          13.428571428571429,
          12.857142857142858,
          8,
          10,
          8.857142857142858,
          7.428571428571429,
          7.4,
          10,
          10.285714285714286,
          6.142857142857143,
          6.857142857142857,
          11,
          9.285714285714286,
          6.571428571428571,
          7.142857142857143,
          4.4,
          9.857142857142858,
          7.571428571428571,
          5.285714285714286,
          7.666666666666667,
          9.666666666666666,
          12.142857142857142,
          12.428571428571429,
          11.571428571428571,
          10.2,
          8.857142857142858,
          12.142857142857142,
          11.142857142857142,
          7.8,
          8.333333333333334,
          13.857142857142858,
          16.142857142857142,
          16.285714285714285,
          17.571428571428573,
          15.142857142857142,
          15.142857142857142,
          15.428571428571429,
          15.285714285714286,
          16.857142857142858,
          15.142857142857142,
          12.428571428571429,
          12.571428571428571,
          12.857142857142858,
          13,
          11.857142857142858,
          11,
          12.857142857142858,
          11.714285714285714,
          10.714285714285714,
          11.142857142857142,
          10.714285714285714,
          9.714285714285714,
          10,
          10.428571428571429,
          6.571428571428571,
          6.142857142857143,
          5.428571428571429,
          6.428571428571429,
          5.285714285714286,
          5.428571428571429,
          6.571428571428571,
          5.428571428571429,
          6.714285714285714,
          6.857142857142857,
          6.428571428571429,
          6.142857142857143,
          5.142857142857143,
          5.285714285714286,
          3.4285714285714284,
          5
         ]
        },
        {
         "name": "Baarn",
         "type": "scatter",
         "x": [
          "2020-01-03T00:00:00",
          "2020-01-10T00:00:00",
          "2020-01-17T00:00:00",
          "2020-01-24T00:00:00",
          "2020-01-31T00:00:00",
          "2020-02-07T00:00:00",
          "2020-02-14T00:00:00",
          "2020-02-21T00:00:00",
          "2020-02-28T00:00:00",
          "2020-03-06T00:00:00",
          "2020-03-13T00:00:00",
          "2020-03-20T00:00:00",
          "2020-03-27T00:00:00",
          "2020-04-03T00:00:00",
          "2020-04-10T00:00:00",
          "2020-04-17T00:00:00",
          "2020-04-24T00:00:00",
          "2020-05-01T00:00:00",
          "2020-05-08T00:00:00",
          "2020-05-15T00:00:00",
          "2020-05-22T00:00:00",
          "2020-05-29T00:00:00",
          "2020-06-05T00:00:00",
          "2020-06-12T00:00:00",
          "2020-06-19T00:00:00",
          "2020-06-26T00:00:00",
          "2020-07-03T00:00:00",
          "2020-07-10T00:00:00",
          "2020-07-17T00:00:00",
          "2020-07-24T00:00:00",
          "2020-07-31T00:00:00",
          "2020-08-07T00:00:00",
          "2020-08-14T00:00:00",
          "2020-08-21T00:00:00",
          "2020-08-28T00:00:00",
          "2020-09-04T00:00:00",
          "2020-09-11T00:00:00",
          "2020-09-18T00:00:00",
          "2020-09-25T00:00:00",
          "2020-10-02T00:00:00",
          "2020-10-09T00:00:00",
          "2020-10-16T00:00:00",
          "2020-10-23T00:00:00",
          "2020-10-30T00:00:00",
          "2020-11-06T00:00:00",
          "2020-11-13T00:00:00",
          "2020-11-20T00:00:00",
          "2020-11-27T00:00:00",
          "2020-12-04T00:00:00",
          "2020-12-11T00:00:00",
          "2020-12-18T00:00:00",
          "2020-12-25T00:00:00",
          "2021-01-01T00:00:00",
          "2021-01-08T00:00:00",
          "2021-01-15T00:00:00",
          "2021-01-22T00:00:00",
          "2021-01-29T00:00:00",
          "2021-02-05T00:00:00",
          "2021-02-12T00:00:00",
          "2021-02-19T00:00:00",
          "2021-02-26T00:00:00",
          "2021-03-05T00:00:00",
          "2021-03-12T00:00:00",
          "2021-03-19T00:00:00",
          "2021-03-26T00:00:00",
          "2021-04-02T00:00:00",
          "2021-04-09T00:00:00",
          "2021-04-16T00:00:00",
          "2021-04-23T00:00:00",
          "2021-04-30T00:00:00",
          "2021-05-07T00:00:00",
          "2021-05-14T00:00:00",
          "2021-05-21T00:00:00",
          "2021-05-28T00:00:00",
          "2021-06-04T00:00:00",
          "2021-06-11T00:00:00",
          "2021-06-18T00:00:00",
          "2021-06-25T00:00:00",
          "2021-07-02T00:00:00",
          "2021-07-09T00:00:00",
          "2021-07-16T00:00:00",
          "2021-07-23T00:00:00",
          "2021-07-30T00:00:00",
          "2021-08-06T00:00:00",
          "2021-08-13T00:00:00",
          "2021-08-20T00:00:00",
          "2021-08-27T00:00:00",
          "2021-09-03T00:00:00",
          "2021-09-10T00:00:00"
         ],
         "y": [
          null,
          10.5,
          null,
          null,
          null,
          9.666666666666666,
          1,
          null,
          0,
          12,
          null,
          null,
          null,
          null,
          10,
          null,
          null,
          1,
          11,
          null,
          null,
          null,
          11,
          null,
          null,
          null,
          null,
          10,
          null,
          null,
          null,
          11,
          null,
          null,
          1,
          7,
          10,
          6.5,
          7.25,
          1,
          10.6,
          11.8,
          11.2,
          10,
          10,
          11,
          10.8,
          10.5,
          9,
          13.4,
          16.6,
          18.2,
          17.6,
          14.4,
          14.6,
          14,
          14.4,
          15.4,
          14.8,
          12.2,
          11.4,
          12.4,
          12,
          10.6,
          9.6,
          13,
          10.6,
          9.2,
          11,
          11,
          9.6,
          9,
          10,
          5.6,
          5.8,
          5,
          6.6,
          5.4,
          5.4,
          6.6,
          6,
          7.6,
          7.2,
          7.2,
          8,
          5.4,
          5.4,
          3.8,
          3
         ]
        },
        {
         "name": "Utrecht",
         "type": "scatter",
         "x": [
          "2020-01-03T00:00:00",
          "2020-01-10T00:00:00",
          "2020-01-17T00:00:00",
          "2020-01-24T00:00:00",
          "2020-01-31T00:00:00",
          "2020-02-07T00:00:00",
          "2020-02-14T00:00:00",
          "2020-02-21T00:00:00",
          "2020-02-28T00:00:00",
          "2020-03-06T00:00:00",
          "2020-03-13T00:00:00",
          "2020-03-20T00:00:00",
          "2020-03-27T00:00:00",
          "2020-04-03T00:00:00",
          "2020-04-10T00:00:00",
          "2020-04-17T00:00:00",
          "2020-04-24T00:00:00",
          "2020-05-01T00:00:00",
          "2020-05-08T00:00:00",
          "2020-05-15T00:00:00",
          "2020-05-22T00:00:00",
          "2020-05-29T00:00:00",
          "2020-06-05T00:00:00",
          "2020-06-12T00:00:00",
          "2020-06-19T00:00:00",
          "2020-06-26T00:00:00",
          "2020-07-03T00:00:00",
          "2020-07-10T00:00:00",
          "2020-07-17T00:00:00",
          "2020-07-24T00:00:00",
          "2020-07-31T00:00:00",
          "2020-08-07T00:00:00",
          "2020-08-14T00:00:00",
          "2020-08-21T00:00:00",
          "2020-08-28T00:00:00",
          "2020-09-04T00:00:00",
          "2020-09-11T00:00:00",
          "2020-09-18T00:00:00",
          "2020-09-25T00:00:00",
          "2020-10-02T00:00:00",
          "2020-10-09T00:00:00",
          "2020-10-16T00:00:00",
          "2020-10-23T00:00:00",
          "2020-10-30T00:00:00",
          "2020-11-06T00:00:00",
          "2020-11-13T00:00:00",
          "2020-11-20T00:00:00",
          "2020-11-27T00:00:00",
          "2020-12-04T00:00:00",
          "2020-12-11T00:00:00",
          "2020-12-18T00:00:00",
          "2020-12-25T00:00:00",
          "2021-01-01T00:00:00",
          "2021-01-08T00:00:00",
          "2021-01-15T00:00:00",
          "2021-01-22T00:00:00",
          "2021-01-29T00:00:00",
          "2021-02-05T00:00:00",
          "2021-02-12T00:00:00",
          "2021-02-19T00:00:00",
          "2021-02-26T00:00:00",
          "2021-03-05T00:00:00",
          "2021-03-12T00:00:00",
          "2021-03-19T00:00:00",
          "2021-03-26T00:00:00",
          "2021-04-02T00:00:00",
          "2021-04-09T00:00:00",
          "2021-04-16T00:00:00",
          "2021-04-23T00:00:00",
          "2021-04-30T00:00:00",
          "2021-05-07T00:00:00",
          "2021-05-14T00:00:00",
          "2021-05-21T00:00:00",
          "2021-05-28T00:00:00",
          "2021-06-04T00:00:00",
          "2021-06-11T00:00:00",
          "2021-06-18T00:00:00",
          "2021-06-25T00:00:00",
          "2021-07-02T00:00:00",
          "2021-07-09T00:00:00",
          "2021-07-16T00:00:00",
          "2021-07-23T00:00:00",
          "2021-07-30T00:00:00",
          "2021-08-06T00:00:00",
          "2021-08-13T00:00:00",
          "2021-08-20T00:00:00",
          "2021-08-27T00:00:00",
          "2021-09-03T00:00:00",
          "2021-09-10T00:00:00"
         ],
         "y": [
          12.714285714285714,
          14,
          null,
          null,
          15,
          11.333333333333334,
          0.16666666666666666,
          0.8571428571428571,
          7.6,
          13.428571428571429,
          17.285714285714285,
          23.428571428571427,
          22.8,
          11.857142857142858,
          20.428571428571427,
          21,
          20.571428571428573,
          11.4,
          14,
          16.714285714285715,
          16.142857142857142,
          10,
          12.571428571428571,
          11,
          9.714285714285714,
          9,
          12.571428571428571,
          12.714285714285714,
          7.428571428571429,
          8,
          13.2,
          11.142857142857142,
          7.571428571428571,
          8.142857142857142,
          5,
          12.571428571428571,
          10.285714285714286,
          7.285714285714286,
          9.166666666666666,
          11.5,
          15.571428571428571,
          15.142857142857142,
          14.571428571428571,
          12.2,
          11,
          14.857142857142858,
          14,
          9.6,
          10,
          16.428571428571427,
          17.428571428571427,
          16,
          19.857142857142858,
          17.857142857142858,
          18,
          18.428571428571427,
          17.857142857142858,
          19.857142857142858,
          17.428571428571427,
          14.714285714285714,
          14.857142857142858,
          15.714285714285714,
          15.857142857142858,
          14.571428571428571,
          13.428571428571429,
          14.428571428571429,
          14.714285714285714,
          13,
          12.857142857142858,
          13.142857142857142,
          11.571428571428571,
          12,
          12.142857142857142,
          7.857142857142857,
          8,
          7,
          8.142857142857142,
          6.857142857142857,
          7.142857142857143,
          8.428571428571429,
          6.571428571428571,
          7.857142857142857,
          8.142857142857142,
          7.857142857142857,
          7,
          6.142857142857143,
          6.571428571428571,
          5,
          7
         ]
        },
        {
         "name": "Bunschoten",
         "type": "scatter",
         "x": [
          "2020-01-04T00:00:00",
          "2020-01-11T00:00:00",
          "2020-01-18T00:00:00",
          "2020-01-25T00:00:00",
          "2020-02-01T00:00:00",
          "2020-02-08T00:00:00",
          "2020-02-15T00:00:00",
          "2020-02-22T00:00:00",
          "2020-02-29T00:00:00",
          "2020-03-07T00:00:00",
          "2020-03-14T00:00:00",
          "2020-03-21T00:00:00",
          "2020-03-28T00:00:00",
          "2020-04-04T00:00:00",
          "2020-04-11T00:00:00",
          "2020-04-18T00:00:00",
          "2020-04-25T00:00:00",
          "2020-05-02T00:00:00",
          "2020-05-09T00:00:00",
          "2020-05-16T00:00:00",
          "2020-05-23T00:00:00",
          "2020-05-30T00:00:00",
          "2020-06-06T00:00:00",
          "2020-06-13T00:00:00",
          "2020-06-20T00:00:00",
          "2020-06-27T00:00:00",
          "2020-07-04T00:00:00",
          "2020-07-11T00:00:00",
          "2020-07-18T00:00:00",
          "2020-07-25T00:00:00",
          "2020-08-01T00:00:00",
          "2020-08-08T00:00:00",
          "2020-08-15T00:00:00",
          "2020-08-22T00:00:00",
          "2020-08-29T00:00:00",
          "2020-09-05T00:00:00",
          "2020-09-12T00:00:00",
          "2020-09-19T00:00:00",
          "2020-09-26T00:00:00",
          "2020-10-03T00:00:00",
          "2020-10-10T00:00:00",
          "2020-10-17T00:00:00",
          "2020-10-24T00:00:00",
          "2020-10-31T00:00:00",
          "2020-11-07T00:00:00",
          "2020-11-14T00:00:00",
          "2020-11-21T00:00:00",
          "2020-11-28T00:00:00",
          "2020-12-05T00:00:00",
          "2020-12-12T00:00:00",
          "2020-12-19T00:00:00",
          "2020-12-26T00:00:00",
          "2021-01-02T00:00:00",
          "2021-01-09T00:00:00",
          "2021-01-16T00:00:00",
          "2021-01-23T00:00:00",
          "2021-01-30T00:00:00",
          "2021-02-06T00:00:00",
          "2021-02-13T00:00:00",
          "2021-02-20T00:00:00",
          "2021-02-27T00:00:00",
          "2021-03-06T00:00:00",
          "2021-03-13T00:00:00",
          "2021-03-20T00:00:00",
          "2021-03-27T00:00:00",
          "2021-04-03T00:00:00",
          "2021-04-10T00:00:00",
          "2021-04-17T00:00:00",
          "2021-04-24T00:00:00",
          "2021-05-01T00:00:00",
          "2021-05-08T00:00:00",
          "2021-05-15T00:00:00",
          "2021-05-22T00:00:00",
          "2021-05-29T00:00:00",
          "2021-06-05T00:00:00",
          "2021-06-12T00:00:00",
          "2021-06-19T00:00:00",
          "2021-06-26T00:00:00",
          "2021-07-03T00:00:00",
          "2021-07-10T00:00:00",
          "2021-07-17T00:00:00",
          "2021-07-24T00:00:00",
          "2021-07-31T00:00:00",
          "2021-08-07T00:00:00",
          "2021-08-14T00:00:00",
          "2021-08-21T00:00:00",
          "2021-08-28T00:00:00",
          "2021-09-04T00:00:00"
         ],
         "y": [
          7,
          7,
          null,
          null,
          0,
          6.333333333333333,
          -0.2,
          2,
          -1,
          8,
          null,
          null,
          0,
          null,
          7.5,
          null,
          null,
          1,
          7,
          null,
          null,
          -1,
          6.5,
          null,
          null,
          null,
          6,
          8,
          null,
          null,
          null,
          7.5,
          null,
          null,
          0,
          6,
          8,
          3,
          4.333333333333333,
          1,
          7.166666666666667,
          8.8,
          7.8,
          1,
          8.333333333333334,
          7.6,
          7.2,
          4.5,
          7,
          9.6,
          16.6,
          19.2,
          12.8,
          11,
          11,
          10.8,
          10.4,
          11.4,
          10.8,
          8.6,
          8.2,
          9,
          7.6,
          7.2,
          6.4,
          10.2,
          6.4,
          6,
          8.2,
          6.4,
          7.4,
          4.8,
          6.4,
          2,
          1.8,
          1.6,
          1.8,
          1,
          1.4,
          2.6,
          1.2,
          4,
          5.2,
          4.6,
          5,
          2.8,
          1.4,
          0.4
         ]
        },
        {
         "name": "De Bilt",
         "type": "scatter",
         "x": [
          "2020-01-03T00:00:00",
          "2020-01-10T00:00:00",
          "2020-01-17T00:00:00",
          "2020-01-24T00:00:00",
          "2020-01-31T00:00:00",
          "2020-02-07T00:00:00",
          "2020-02-14T00:00:00",
          "2020-02-21T00:00:00",
          "2020-02-28T00:00:00",
          "2020-03-06T00:00:00",
          "2020-03-13T00:00:00",
          "2020-03-20T00:00:00",
          "2020-03-27T00:00:00",
          "2020-04-03T00:00:00",
          "2020-04-10T00:00:00",
          "2020-04-17T00:00:00",
          "2020-04-24T00:00:00",
          "2020-05-01T00:00:00",
          "2020-05-08T00:00:00",
          "2020-05-15T00:00:00",
          "2020-05-22T00:00:00",
          "2020-05-29T00:00:00",
          "2020-06-05T00:00:00",
          "2020-06-12T00:00:00",
          "2020-06-19T00:00:00",
          "2020-06-26T00:00:00",
          "2020-07-03T00:00:00",
          "2020-07-10T00:00:00",
          "2020-07-17T00:00:00",
          "2020-07-24T00:00:00",
          "2020-07-31T00:00:00",
          "2020-08-07T00:00:00",
          "2020-08-14T00:00:00",
          "2020-08-21T00:00:00",
          "2020-08-28T00:00:00",
          "2020-09-04T00:00:00",
          "2020-09-11T00:00:00",
          "2020-09-18T00:00:00",
          "2020-09-25T00:00:00",
          "2020-10-02T00:00:00",
          "2020-10-09T00:00:00",
          "2020-10-16T00:00:00",
          "2020-10-23T00:00:00",
          "2020-10-30T00:00:00",
          "2020-11-06T00:00:00",
          "2020-11-13T00:00:00",
          "2020-11-20T00:00:00",
          "2020-11-27T00:00:00",
          "2020-12-04T00:00:00",
          "2020-12-11T00:00:00",
          "2020-12-18T00:00:00",
          "2020-12-25T00:00:00",
          "2021-01-01T00:00:00",
          "2021-01-08T00:00:00",
          "2021-01-15T00:00:00",
          "2021-01-22T00:00:00",
          "2021-01-29T00:00:00",
          "2021-02-05T00:00:00",
          "2021-02-12T00:00:00",
          "2021-02-19T00:00:00",
          "2021-02-26T00:00:00",
          "2021-03-05T00:00:00",
          "2021-03-12T00:00:00",
          "2021-03-19T00:00:00",
          "2021-03-26T00:00:00",
          "2021-04-02T00:00:00",
          "2021-04-09T00:00:00",
          "2021-04-16T00:00:00",
          "2021-04-23T00:00:00",
          "2021-04-30T00:00:00",
          "2021-05-07T00:00:00",
          "2021-05-14T00:00:00",
          "2021-05-21T00:00:00",
          "2021-05-28T00:00:00",
          "2021-06-04T00:00:00",
          "2021-06-11T00:00:00",
          "2021-06-18T00:00:00",
          "2021-06-25T00:00:00",
          "2021-07-02T00:00:00",
          "2021-07-09T00:00:00",
          "2021-07-16T00:00:00",
          "2021-07-23T00:00:00",
          "2021-07-30T00:00:00",
          "2021-08-06T00:00:00",
          "2021-08-13T00:00:00",
          "2021-08-20T00:00:00",
          "2021-08-27T00:00:00",
          "2021-09-03T00:00:00",
          "2021-09-10T00:00:00"
         ],
         "y": [
          8,
          13,
          null,
          null,
          5.5,
          9.6,
          0.25,
          2.4,
          1,
          10.6,
          13,
          null,
          null,
          7,
          11.5,
          null,
          null,
          7,
          14.5,
          13.333333333333334,
          13.75,
          6,
          12,
          11.25,
          8.8,
          9.333333333333334,
          10.333333333333334,
          9.666666666666666,
          7.2,
          8.75,
          13,
          10.75,
          8.5,
          9,
          4.5,
          9.75,
          7.833333333333333,
          6.6,
          8.5,
          6.333333333333333,
          12.166666666666666,
          13.2,
          12.8,
          9.333333333333334,
          10.25,
          12.8,
          11.8,
          8.666666666666666,
          12,
          15.2,
          16.8,
          18,
          19.2,
          16.6,
          16,
          16,
          16.2,
          17.6,
          16.6,
          13.6,
          13.8,
          13.8,
          13.4,
          12.8,
          11.4,
          14.8,
          12.4,
          11.4,
          12.6,
          12.4,
          11.2,
          10.8,
          11.4,
          7.6,
          6.8,
          6.6,
          7.6,
          6.8,
          7,
          7.4,
          7,
          8.2,
          8.4,
          8,
          8.2,
          6.4,
          6.8,
          4.8,
          5
         ]
        },
        {
         "name": "De Ronde Venen",
         "type": "scatter",
         "x": [
          "2020-01-04T00:00:00",
          "2020-01-11T00:00:00",
          "2020-01-18T00:00:00",
          "2020-01-25T00:00:00",
          "2020-02-01T00:00:00",
          "2020-02-08T00:00:00",
          "2020-02-15T00:00:00",
          "2020-02-22T00:00:00",
          "2020-02-29T00:00:00",
          "2020-03-07T00:00:00",
          "2020-03-14T00:00:00",
          "2020-03-21T00:00:00",
          "2020-03-28T00:00:00",
          "2020-04-04T00:00:00",
          "2020-04-11T00:00:00",
          "2020-04-18T00:00:00",
          "2020-04-25T00:00:00",
          "2020-05-02T00:00:00",
          "2020-05-09T00:00:00",
          "2020-05-16T00:00:00",
          "2020-05-23T00:00:00",
          "2020-05-30T00:00:00",
          "2020-06-06T00:00:00",
          "2020-06-13T00:00:00",
          "2020-06-20T00:00:00",
          "2020-06-27T00:00:00",
          "2020-07-04T00:00:00",
          "2020-07-11T00:00:00",
          "2020-07-18T00:00:00",
          "2020-07-25T00:00:00",
          "2020-08-01T00:00:00",
          "2020-08-08T00:00:00",
          "2020-08-15T00:00:00",
          "2020-08-22T00:00:00",
          "2020-08-29T00:00:00",
          "2020-09-05T00:00:00",
          "2020-09-12T00:00:00",
          "2020-09-19T00:00:00",
          "2020-09-26T00:00:00",
          "2020-10-03T00:00:00",
          "2020-10-10T00:00:00",
          "2020-10-17T00:00:00",
          "2020-10-24T00:00:00",
          "2020-10-31T00:00:00",
          "2020-11-07T00:00:00",
          "2020-11-14T00:00:00",
          "2020-11-21T00:00:00",
          "2020-11-28T00:00:00",
          "2020-12-05T00:00:00",
          "2020-12-12T00:00:00",
          "2020-12-19T00:00:00",
          "2020-12-26T00:00:00",
          "2021-01-02T00:00:00",
          "2021-01-09T00:00:00",
          "2021-01-16T00:00:00",
          "2021-01-23T00:00:00",
          "2021-01-30T00:00:00",
          "2021-02-06T00:00:00",
          "2021-02-13T00:00:00",
          "2021-02-20T00:00:00",
          "2021-02-27T00:00:00",
          "2021-03-06T00:00:00",
          "2021-03-13T00:00:00",
          "2021-03-20T00:00:00",
          "2021-03-27T00:00:00",
          "2021-04-03T00:00:00",
          "2021-04-10T00:00:00",
          "2021-04-17T00:00:00",
          "2021-04-24T00:00:00",
          "2021-05-01T00:00:00",
          "2021-05-08T00:00:00",
          "2021-05-15T00:00:00",
          "2021-05-22T00:00:00",
          "2021-05-29T00:00:00",
          "2021-06-05T00:00:00",
          "2021-06-12T00:00:00",
          "2021-06-19T00:00:00",
          "2021-06-26T00:00:00",
          "2021-07-03T00:00:00",
          "2021-07-10T00:00:00",
          "2021-07-17T00:00:00",
          "2021-07-24T00:00:00",
          "2021-07-31T00:00:00",
          "2021-08-07T00:00:00",
          "2021-08-14T00:00:00",
          "2021-08-21T00:00:00",
          "2021-08-28T00:00:00",
          "2021-09-04T00:00:00"
         ],
         "y": [
          12.2,
          11,
          null,
          null,
          9.25,
          8.5,
          0.6,
          1,
          9.333333333333334,
          8.333333333333334,
          16.8,
          19.4,
          12.666666666666666,
          10,
          15.333333333333334,
          15.8,
          17,
          6,
          13,
          11.75,
          10.8,
          10,
          9,
          8.8,
          6.2,
          10,
          9.666666666666666,
          7.333333333333333,
          6.4,
          7,
          11.75,
          9,
          7,
          7.8,
          8.666666666666666,
          9.2,
          5,
          6.2,
          8,
          7.833333333333333,
          10.833333333333334,
          12.2,
          11.2,
          8.666666666666666,
          8.6,
          11.6,
          10.6,
          6.5,
          10,
          13.4,
          18.8,
          20.2,
          16.2,
          15,
          15,
          15.6,
          15,
          17,
          15.2,
          12.6,
          12,
          12.8,
          12,
          11.4,
          10.8,
          14.2,
          10.4,
          10,
          11.8,
          10.4,
          10.8,
          8.8,
          10.2,
          6,
          4.8,
          5.6,
          6.4,
          5.6,
          5.4,
          6.4,
          5.2,
          7.6,
          7,
          6.8,
          8,
          5.8,
          5.2,
          3.6
         ]
        }
       ],
       "layout": {
        "template": {
         "data": {
          "bar": [
           {
            "error_x": {
             "color": "#2a3f5f"
            },
            "error_y": {
             "color": "#2a3f5f"
            },
            "marker": {
             "line": {
              "color": "#E5ECF6",
              "width": 0.5
             },
             "pattern": {
              "fillmode": "overlay",
              "size": 10,
              "solidity": 0.2
             }
            },
            "type": "bar"
           }
          ],
          "barpolar": [
           {
            "marker": {
             "line": {
              "color": "#E5ECF6",
              "width": 0.5
             },
             "pattern": {
              "fillmode": "overlay",
              "size": 10,
              "solidity": 0.2
             }
            },
            "type": "barpolar"
           }
          ],
          "carpet": [
           {
            "aaxis": {
             "endlinecolor": "#2a3f5f",
             "gridcolor": "white",
             "linecolor": "white",
             "minorgridcolor": "white",
             "startlinecolor": "#2a3f5f"
            },
            "baxis": {
             "endlinecolor": "#2a3f5f",
             "gridcolor": "white",
             "linecolor": "white",
             "minorgridcolor": "white",
             "startlinecolor": "#2a3f5f"
            },
            "type": "carpet"
           }
          ],
          "choropleth": [
           {
            "colorbar": {
             "outlinewidth": 0,
             "ticks": ""
            },
            "type": "choropleth"
           }
          ],
          "contour": [
           {
            "colorbar": {
             "outlinewidth": 0,
             "ticks": ""
            },
            "colorscale": [
             [
              0,
              "#0d0887"
             ],
             [
              0.1111111111111111,
              "#46039f"
             ],
             [
              0.2222222222222222,
              "#7201a8"
             ],
             [
              0.3333333333333333,
              "#9c179e"
             ],
             [
              0.4444444444444444,
              "#bd3786"
             ],
             [
              0.5555555555555556,
              "#d8576b"
             ],
             [
              0.6666666666666666,
              "#ed7953"
             ],
             [
              0.7777777777777778,
              "#fb9f3a"
             ],
             [
              0.8888888888888888,
              "#fdca26"
             ],
             [
              1,
              "#f0f921"
             ]
            ],
            "type": "contour"
           }
          ],
          "contourcarpet": [
           {
            "colorbar": {
             "outlinewidth": 0,
             "ticks": ""
            },
            "type": "contourcarpet"
           }
          ],
          "heatmap": [
           {
            "colorbar": {
             "outlinewidth": 0,
             "ticks": ""
            },
            "colorscale": [
             [
              0,
              "#0d0887"
             ],
             [
              0.1111111111111111,
              "#46039f"
             ],
             [
              0.2222222222222222,
              "#7201a8"
             ],
             [
              0.3333333333333333,
              "#9c179e"
             ],
             [
              0.4444444444444444,
              "#bd3786"
             ],
             [
              0.5555555555555556,
              "#d8576b"
             ],
             [
              0.6666666666666666,
              "#ed7953"
             ],
             [
              0.7777777777777778,
              "#fb9f3a"
             ],
             [
              0.8888888888888888,
              "#fdca26"
             ],
             [
              1,
              "#f0f921"
             ]
            ],
            "type": "heatmap"
           }
          ],
          "heatmapgl": [
           {
            "colorbar": {
             "outlinewidth": 0,
             "ticks": ""
            },
            "colorscale": [
             [
              0,
              "#0d0887"
             ],
             [
              0.1111111111111111,
              "#46039f"
             ],
             [
              0.2222222222222222,
              "#7201a8"
             ],
             [
              0.3333333333333333,
              "#9c179e"
             ],
             [
              0.4444444444444444,
              "#bd3786"
             ],
             [
              0.5555555555555556,
              "#d8576b"
             ],
             [
              0.6666666666666666,
              "#ed7953"
             ],
             [
              0.7777777777777778,
              "#fb9f3a"
             ],
             [
              0.8888888888888888,
              "#fdca26"
             ],
             [
              1,
              "#f0f921"
             ]
            ],
            "type": "heatmapgl"
           }
          ],
          "histogram": [
           {
            "marker": {
             "pattern": {
              "fillmode": "overlay",
              "size": 10,
              "solidity": 0.2
             }
            },
            "type": "histogram"
           }
          ],
          "histogram2d": [
           {
            "colorbar": {
             "outlinewidth": 0,
             "ticks": ""
            },
            "colorscale": [
             [
              0,
              "#0d0887"
             ],
             [
              0.1111111111111111,
              "#46039f"
             ],
             [
              0.2222222222222222,
              "#7201a8"
             ],
             [
              0.3333333333333333,
              "#9c179e"
             ],
             [
              0.4444444444444444,
              "#bd3786"
             ],
             [
              0.5555555555555556,
              "#d8576b"
             ],
             [
              0.6666666666666666,
              "#ed7953"
             ],
             [
              0.7777777777777778,
              "#fb9f3a"
             ],
             [
              0.8888888888888888,
              "#fdca26"
             ],
             [
              1,
              "#f0f921"
             ]
            ],
            "type": "histogram2d"
           }
          ],
          "histogram2dcontour": [
           {
            "colorbar": {
             "outlinewidth": 0,
             "ticks": ""
            },
            "colorscale": [
             [
              0,
              "#0d0887"
             ],
             [
              0.1111111111111111,
              "#46039f"
             ],
             [
              0.2222222222222222,
              "#7201a8"
             ],
             [
              0.3333333333333333,
              "#9c179e"
             ],
             [
              0.4444444444444444,
              "#bd3786"
             ],
             [
              0.5555555555555556,
              "#d8576b"
             ],
             [
              0.6666666666666666,
              "#ed7953"
             ],
             [
              0.7777777777777778,
              "#fb9f3a"
             ],
             [
              0.8888888888888888,
              "#fdca26"
             ],
             [
              1,
              "#f0f921"
             ]
            ],
            "type": "histogram2dcontour"
           }
          ],
          "mesh3d": [
           {
            "colorbar": {
             "outlinewidth": 0,
             "ticks": ""
            },
            "type": "mesh3d"
           }
          ],
          "parcoords": [
           {
            "line": {
             "colorbar": {
              "outlinewidth": 0,
              "ticks": ""
             }
            },
            "type": "parcoords"
           }
          ],
          "pie": [
           {
            "automargin": true,
            "type": "pie"
           }
          ],
          "scatter": [
           {
            "marker": {
             "colorbar": {
              "outlinewidth": 0,
              "ticks": ""
             }
            },
            "type": "scatter"
           }
          ],
          "scatter3d": [
           {
            "line": {
             "colorbar": {
              "outlinewidth": 0,
              "ticks": ""
             }
            },
            "marker": {
             "colorbar": {
              "outlinewidth": 0,
              "ticks": ""
             }
            },
            "type": "scatter3d"
           }
          ],
          "scattercarpet": [
           {
            "marker": {
             "colorbar": {
              "outlinewidth": 0,
              "ticks": ""
             }
            },
            "type": "scattercarpet"
           }
          ],
          "scattergeo": [
           {
            "marker": {
             "colorbar": {
              "outlinewidth": 0,
              "ticks": ""
             }
            },
            "type": "scattergeo"
           }
          ],
          "scattergl": [
           {
            "marker": {
             "colorbar": {
              "outlinewidth": 0,
              "ticks": ""
             }
            },
            "type": "scattergl"
           }
          ],
          "scattermapbox": [
           {
            "marker": {
             "colorbar": {
              "outlinewidth": 0,
              "ticks": ""
             }
            },
            "type": "scattermapbox"
           }
          ],
          "scatterpolar": [
           {
            "marker": {
             "colorbar": {
              "outlinewidth": 0,
              "ticks": ""
             }
            },
            "type": "scatterpolar"
           }
          ],
          "scatterpolargl": [
           {
            "marker": {
             "colorbar": {
              "outlinewidth": 0,
              "ticks": ""
             }
            },
            "type": "scatterpolargl"
           }
          ],
          "scatterternary": [
           {
            "marker": {
             "colorbar": {
              "outlinewidth": 0,
              "ticks": ""
             }
            },
            "type": "scatterternary"
           }
          ],
          "surface": [
           {
            "colorbar": {
             "outlinewidth": 0,
             "ticks": ""
            },
            "colorscale": [
             [
              0,
              "#0d0887"
             ],
             [
              0.1111111111111111,
              "#46039f"
             ],
             [
              0.2222222222222222,
              "#7201a8"
             ],
             [
              0.3333333333333333,
              "#9c179e"
             ],
             [
              0.4444444444444444,
              "#bd3786"
             ],
             [
              0.5555555555555556,
              "#d8576b"
             ],
             [
              0.6666666666666666,
              "#ed7953"
             ],
             [
              0.7777777777777778,
              "#fb9f3a"
             ],
             [
              0.8888888888888888,
              "#fdca26"
             ],
             [
              1,
              "#f0f921"
             ]
            ],
            "type": "surface"
           }
          ],
          "table": [
           {
            "cells": {
             "fill": {
              "color": "#EBF0F8"
             },
             "line": {
              "color": "white"
             }
            },
            "header": {
             "fill": {
              "color": "#C8D4E3"
             },
             "line": {
              "color": "white"
             }
            },
            "type": "table"
           }
          ]
         },
         "layout": {
          "annotationdefaults": {
           "arrowcolor": "#2a3f5f",
           "arrowhead": 0,
           "arrowwidth": 1
          },
          "autotypenumbers": "strict",
          "coloraxis": {
           "colorbar": {
            "outlinewidth": 0,
            "ticks": ""
           }
          },
          "colorscale": {
           "diverging": [
            [
             0,
             "#8e0152"
            ],
            [
             0.1,
             "#c51b7d"
            ],
            [
             0.2,
             "#de77ae"
            ],
            [
             0.3,
             "#f1b6da"
            ],
            [
             0.4,
             "#fde0ef"
            ],
            [
             0.5,
             "#f7f7f7"
            ],
            [
             0.6,
             "#e6f5d0"
            ],
            [
             0.7,
             "#b8e186"
            ],
            [
             0.8,
             "#7fbc41"
            ],
            [
             0.9,
             "#4d9221"
            ],
            [
             1,
             "#276419"
            ]
           ],
           "sequential": [
            [
             0,
             "#0d0887"
            ],
            [
             0.1111111111111111,
             "#46039f"
            ],
            [
             0.2222222222222222,
             "#7201a8"
            ],
            [
             0.3333333333333333,
             "#9c179e"
            ],
            [
             0.4444444444444444,
             "#bd3786"
            ],
            [
             0.5555555555555556,
             "#d8576b"
            ],
            [
             0.6666666666666666,
             "#ed7953"
            ],
            [
             0.7777777777777778,
             "#fb9f3a"
            ],
            [
             0.8888888888888888,
             "#fdca26"
            ],
            [
             1,
             "#f0f921"
            ]
           ],
           "sequentialminus": [
            [
             0,
             "#0d0887"
            ],
            [
             0.1111111111111111,
             "#46039f"
            ],
            [
             0.2222222222222222,
             "#7201a8"
            ],
            [
             0.3333333333333333,
             "#9c179e"
            ],
            [
             0.4444444444444444,
             "#bd3786"
            ],
            [
             0.5555555555555556,
             "#d8576b"
            ],
            [
             0.6666666666666666,
             "#ed7953"
            ],
            [
             0.7777777777777778,
             "#fb9f3a"
            ],
            [
             0.8888888888888888,
             "#fdca26"
            ],
            [
             1,
             "#f0f921"
            ]
           ]
          },
          "colorway": [
           "#636efa",
           "#EF553B",
           "#00cc96",
           "#ab63fa",
           "#FFA15A",
           "#19d3f3",
           "#FF6692",
           "#B6E880",
           "#FF97FF",
           "#FECB52"
          ],
          "font": {
           "color": "#2a3f5f"
          },
          "geo": {
           "bgcolor": "white",
           "lakecolor": "white",
           "landcolor": "#E5ECF6",
           "showlakes": true,
           "showland": true,
           "subunitcolor": "white"
          },
          "hoverlabel": {
           "align": "left"
          },
          "hovermode": "closest",
          "mapbox": {
           "style": "light"
          },
          "paper_bgcolor": "white",
          "plot_bgcolor": "#E5ECF6",
          "polar": {
           "angularaxis": {
            "gridcolor": "white",
            "linecolor": "white",
            "ticks": ""
           },
           "bgcolor": "#E5ECF6",
           "radialaxis": {
            "gridcolor": "white",
            "linecolor": "white",
            "ticks": ""
           }
          },
          "scene": {
           "xaxis": {
            "backgroundcolor": "#E5ECF6",
            "gridcolor": "white",
            "gridwidth": 2,
            "linecolor": "white",
            "showbackground": true,
            "ticks": "",
            "zerolinecolor": "white"
           },
           "yaxis": {
            "backgroundcolor": "#E5ECF6",
            "gridcolor": "white",
            "gridwidth": 2,
            "linecolor": "white",
            "showbackground": true,
            "ticks": "",
            "zerolinecolor": "white"
           },
           "zaxis": {
            "backgroundcolor": "#E5ECF6",
            "gridcolor": "white",
            "gridwidth": 2,
            "linecolor": "white",
            "showbackground": true,
            "ticks": "",
            "zerolinecolor": "white"
           }
          },
          "shapedefaults": {
           "line": {
            "color": "#2a3f5f"
           }
          },
          "ternary": {
           "aaxis": {
            "gridcolor": "white",
            "linecolor": "white",
            "ticks": ""
           },
           "baxis": {
            "gridcolor": "white",
            "linecolor": "white",
            "ticks": ""
           },
           "bgcolor": "#E5ECF6",
           "caxis": {
            "gridcolor": "white",
            "linecolor": "white",
            "ticks": ""
           }
          },
          "title": {
           "x": 0.05
          },
          "xaxis": {
           "automargin": true,
           "gridcolor": "white",
           "linecolor": "white",
           "ticks": "",
           "title": {
            "standoff": 15
           },
           "zerolinecolor": "white",
           "zerolinewidth": 2
          },
          "yaxis": {
           "automargin": true,
           "gridcolor": "white",
           "linecolor": "white",
           "ticks": "",
           "title": {
            "standoff": 15
           },
           "zerolinecolor": "white",
           "zerolinewidth": 2
          }
         }
        },
        "title": {
         "text": "residential_percent_change_from_baseline"
        }
       }
      },
      "text/html": [
       "<div>                            <div id=\"ae295352-ced3-4c53-b1b0-85f029cbff08\" class=\"plotly-graph-div\" style=\"height:525px; width:100%;\"></div>            <script type=\"text/javascript\">                require([\"plotly\"], function(Plotly) {                    window.PLOTLYENV=window.PLOTLYENV || {};                                    if (document.getElementById(\"ae295352-ced3-4c53-b1b0-85f029cbff08\")) {                    Plotly.newPlot(                        \"ae295352-ced3-4c53-b1b0-85f029cbff08\",                        [{\"name\":\"Amersfoort\",\"type\":\"scatter\",\"x\":[\"2020-01-03T00:00:00\",\"2020-01-10T00:00:00\",\"2020-01-17T00:00:00\",\"2020-01-24T00:00:00\",\"2020-01-31T00:00:00\",\"2020-02-07T00:00:00\",\"2020-02-14T00:00:00\",\"2020-02-21T00:00:00\",\"2020-02-28T00:00:00\",\"2020-03-06T00:00:00\",\"2020-03-13T00:00:00\",\"2020-03-20T00:00:00\",\"2020-03-27T00:00:00\",\"2020-04-03T00:00:00\",\"2020-04-10T00:00:00\",\"2020-04-17T00:00:00\",\"2020-04-24T00:00:00\",\"2020-05-01T00:00:00\",\"2020-05-08T00:00:00\",\"2020-05-15T00:00:00\",\"2020-05-22T00:00:00\",\"2020-05-29T00:00:00\",\"2020-06-05T00:00:00\",\"2020-06-12T00:00:00\",\"2020-06-19T00:00:00\",\"2020-06-26T00:00:00\",\"2020-07-03T00:00:00\",\"2020-07-10T00:00:00\",\"2020-07-17T00:00:00\",\"2020-07-24T00:00:00\",\"2020-07-31T00:00:00\",\"2020-08-07T00:00:00\",\"2020-08-14T00:00:00\",\"2020-08-21T00:00:00\",\"2020-08-28T00:00:00\",\"2020-09-04T00:00:00\",\"2020-09-11T00:00:00\",\"2020-09-18T00:00:00\",\"2020-09-25T00:00:00\",\"2020-10-02T00:00:00\",\"2020-10-09T00:00:00\",\"2020-10-16T00:00:00\",\"2020-10-23T00:00:00\",\"2020-10-30T00:00:00\",\"2020-11-06T00:00:00\",\"2020-11-13T00:00:00\",\"2020-11-20T00:00:00\",\"2020-11-27T00:00:00\",\"2020-12-04T00:00:00\",\"2020-12-11T00:00:00\",\"2020-12-18T00:00:00\",\"2020-12-25T00:00:00\",\"2021-01-01T00:00:00\",\"2021-01-08T00:00:00\",\"2021-01-15T00:00:00\",\"2021-01-22T00:00:00\",\"2021-01-29T00:00:00\",\"2021-02-05T00:00:00\",\"2021-02-12T00:00:00\",\"2021-02-19T00:00:00\",\"2021-02-26T00:00:00\",\"2021-03-05T00:00:00\",\"2021-03-12T00:00:00\",\"2021-03-19T00:00:00\",\"2021-03-26T00:00:00\",\"2021-04-02T00:00:00\",\"2021-04-09T00:00:00\",\"2021-04-16T00:00:00\",\"2021-04-23T00:00:00\",\"2021-04-30T00:00:00\",\"2021-05-07T00:00:00\",\"2021-05-14T00:00:00\",\"2021-05-21T00:00:00\",\"2021-05-28T00:00:00\",\"2021-06-04T00:00:00\",\"2021-06-11T00:00:00\",\"2021-06-18T00:00:00\",\"2021-06-25T00:00:00\",\"2021-07-02T00:00:00\",\"2021-07-09T00:00:00\",\"2021-07-16T00:00:00\",\"2021-07-23T00:00:00\",\"2021-07-30T00:00:00\",\"2021-08-06T00:00:00\",\"2021-08-13T00:00:00\",\"2021-08-20T00:00:00\",\"2021-08-27T00:00:00\",\"2021-09-03T00:00:00\",\"2021-09-10T00:00:00\"],\"y\":[10.571428571428571,11.333333333333334,null,null,12.5,8.5,0.5,1.5714285714285714,6.4,10.857142857142858,13.857142857142858,21.0,20.5,10.0,17.142857142857142,17.285714285714285,17.142857142857142,10.25,11.428571428571429,13.428571428571429,12.857142857142858,8.0,10.0,8.857142857142858,7.428571428571429,7.4,10.0,10.285714285714286,6.142857142857143,6.857142857142857,11.0,9.285714285714286,6.571428571428571,7.142857142857143,4.4,9.857142857142858,7.571428571428571,5.285714285714286,7.666666666666667,9.666666666666666,12.142857142857142,12.428571428571429,11.571428571428571,10.2,8.857142857142858,12.142857142857142,11.142857142857142,7.8,8.333333333333334,13.857142857142858,16.142857142857142,16.285714285714285,17.571428571428573,15.142857142857142,15.142857142857142,15.428571428571429,15.285714285714286,16.857142857142858,15.142857142857142,12.428571428571429,12.571428571428571,12.857142857142858,13.0,11.857142857142858,11.0,12.857142857142858,11.714285714285714,10.714285714285714,11.142857142857142,10.714285714285714,9.714285714285714,10.0,10.428571428571429,6.571428571428571,6.142857142857143,5.428571428571429,6.428571428571429,5.285714285714286,5.428571428571429,6.571428571428571,5.428571428571429,6.714285714285714,6.857142857142857,6.428571428571429,6.142857142857143,5.142857142857143,5.285714285714286,3.4285714285714284,5.0]},{\"name\":\"Baarn\",\"type\":\"scatter\",\"x\":[\"2020-01-03T00:00:00\",\"2020-01-10T00:00:00\",\"2020-01-17T00:00:00\",\"2020-01-24T00:00:00\",\"2020-01-31T00:00:00\",\"2020-02-07T00:00:00\",\"2020-02-14T00:00:00\",\"2020-02-21T00:00:00\",\"2020-02-28T00:00:00\",\"2020-03-06T00:00:00\",\"2020-03-13T00:00:00\",\"2020-03-20T00:00:00\",\"2020-03-27T00:00:00\",\"2020-04-03T00:00:00\",\"2020-04-10T00:00:00\",\"2020-04-17T00:00:00\",\"2020-04-24T00:00:00\",\"2020-05-01T00:00:00\",\"2020-05-08T00:00:00\",\"2020-05-15T00:00:00\",\"2020-05-22T00:00:00\",\"2020-05-29T00:00:00\",\"2020-06-05T00:00:00\",\"2020-06-12T00:00:00\",\"2020-06-19T00:00:00\",\"2020-06-26T00:00:00\",\"2020-07-03T00:00:00\",\"2020-07-10T00:00:00\",\"2020-07-17T00:00:00\",\"2020-07-24T00:00:00\",\"2020-07-31T00:00:00\",\"2020-08-07T00:00:00\",\"2020-08-14T00:00:00\",\"2020-08-21T00:00:00\",\"2020-08-28T00:00:00\",\"2020-09-04T00:00:00\",\"2020-09-11T00:00:00\",\"2020-09-18T00:00:00\",\"2020-09-25T00:00:00\",\"2020-10-02T00:00:00\",\"2020-10-09T00:00:00\",\"2020-10-16T00:00:00\",\"2020-10-23T00:00:00\",\"2020-10-30T00:00:00\",\"2020-11-06T00:00:00\",\"2020-11-13T00:00:00\",\"2020-11-20T00:00:00\",\"2020-11-27T00:00:00\",\"2020-12-04T00:00:00\",\"2020-12-11T00:00:00\",\"2020-12-18T00:00:00\",\"2020-12-25T00:00:00\",\"2021-01-01T00:00:00\",\"2021-01-08T00:00:00\",\"2021-01-15T00:00:00\",\"2021-01-22T00:00:00\",\"2021-01-29T00:00:00\",\"2021-02-05T00:00:00\",\"2021-02-12T00:00:00\",\"2021-02-19T00:00:00\",\"2021-02-26T00:00:00\",\"2021-03-05T00:00:00\",\"2021-03-12T00:00:00\",\"2021-03-19T00:00:00\",\"2021-03-26T00:00:00\",\"2021-04-02T00:00:00\",\"2021-04-09T00:00:00\",\"2021-04-16T00:00:00\",\"2021-04-23T00:00:00\",\"2021-04-30T00:00:00\",\"2021-05-07T00:00:00\",\"2021-05-14T00:00:00\",\"2021-05-21T00:00:00\",\"2021-05-28T00:00:00\",\"2021-06-04T00:00:00\",\"2021-06-11T00:00:00\",\"2021-06-18T00:00:00\",\"2021-06-25T00:00:00\",\"2021-07-02T00:00:00\",\"2021-07-09T00:00:00\",\"2021-07-16T00:00:00\",\"2021-07-23T00:00:00\",\"2021-07-30T00:00:00\",\"2021-08-06T00:00:00\",\"2021-08-13T00:00:00\",\"2021-08-20T00:00:00\",\"2021-08-27T00:00:00\",\"2021-09-03T00:00:00\",\"2021-09-10T00:00:00\"],\"y\":[null,10.5,null,null,null,9.666666666666666,1.0,null,0.0,12.0,null,null,null,null,10.0,null,null,1.0,11.0,null,null,null,11.0,null,null,null,null,10.0,null,null,null,11.0,null,null,1.0,7.0,10.0,6.5,7.25,1.0,10.6,11.8,11.2,10.0,10.0,11.0,10.8,10.5,9.0,13.4,16.6,18.2,17.6,14.4,14.6,14.0,14.4,15.4,14.8,12.2,11.4,12.4,12.0,10.6,9.6,13.0,10.6,9.2,11.0,11.0,9.6,9.0,10.0,5.6,5.8,5.0,6.6,5.4,5.4,6.6,6.0,7.6,7.2,7.2,8.0,5.4,5.4,3.8,3.0]},{\"name\":\"Utrecht\",\"type\":\"scatter\",\"x\":[\"2020-01-03T00:00:00\",\"2020-01-10T00:00:00\",\"2020-01-17T00:00:00\",\"2020-01-24T00:00:00\",\"2020-01-31T00:00:00\",\"2020-02-07T00:00:00\",\"2020-02-14T00:00:00\",\"2020-02-21T00:00:00\",\"2020-02-28T00:00:00\",\"2020-03-06T00:00:00\",\"2020-03-13T00:00:00\",\"2020-03-20T00:00:00\",\"2020-03-27T00:00:00\",\"2020-04-03T00:00:00\",\"2020-04-10T00:00:00\",\"2020-04-17T00:00:00\",\"2020-04-24T00:00:00\",\"2020-05-01T00:00:00\",\"2020-05-08T00:00:00\",\"2020-05-15T00:00:00\",\"2020-05-22T00:00:00\",\"2020-05-29T00:00:00\",\"2020-06-05T00:00:00\",\"2020-06-12T00:00:00\",\"2020-06-19T00:00:00\",\"2020-06-26T00:00:00\",\"2020-07-03T00:00:00\",\"2020-07-10T00:00:00\",\"2020-07-17T00:00:00\",\"2020-07-24T00:00:00\",\"2020-07-31T00:00:00\",\"2020-08-07T00:00:00\",\"2020-08-14T00:00:00\",\"2020-08-21T00:00:00\",\"2020-08-28T00:00:00\",\"2020-09-04T00:00:00\",\"2020-09-11T00:00:00\",\"2020-09-18T00:00:00\",\"2020-09-25T00:00:00\",\"2020-10-02T00:00:00\",\"2020-10-09T00:00:00\",\"2020-10-16T00:00:00\",\"2020-10-23T00:00:00\",\"2020-10-30T00:00:00\",\"2020-11-06T00:00:00\",\"2020-11-13T00:00:00\",\"2020-11-20T00:00:00\",\"2020-11-27T00:00:00\",\"2020-12-04T00:00:00\",\"2020-12-11T00:00:00\",\"2020-12-18T00:00:00\",\"2020-12-25T00:00:00\",\"2021-01-01T00:00:00\",\"2021-01-08T00:00:00\",\"2021-01-15T00:00:00\",\"2021-01-22T00:00:00\",\"2021-01-29T00:00:00\",\"2021-02-05T00:00:00\",\"2021-02-12T00:00:00\",\"2021-02-19T00:00:00\",\"2021-02-26T00:00:00\",\"2021-03-05T00:00:00\",\"2021-03-12T00:00:00\",\"2021-03-19T00:00:00\",\"2021-03-26T00:00:00\",\"2021-04-02T00:00:00\",\"2021-04-09T00:00:00\",\"2021-04-16T00:00:00\",\"2021-04-23T00:00:00\",\"2021-04-30T00:00:00\",\"2021-05-07T00:00:00\",\"2021-05-14T00:00:00\",\"2021-05-21T00:00:00\",\"2021-05-28T00:00:00\",\"2021-06-04T00:00:00\",\"2021-06-11T00:00:00\",\"2021-06-18T00:00:00\",\"2021-06-25T00:00:00\",\"2021-07-02T00:00:00\",\"2021-07-09T00:00:00\",\"2021-07-16T00:00:00\",\"2021-07-23T00:00:00\",\"2021-07-30T00:00:00\",\"2021-08-06T00:00:00\",\"2021-08-13T00:00:00\",\"2021-08-20T00:00:00\",\"2021-08-27T00:00:00\",\"2021-09-03T00:00:00\",\"2021-09-10T00:00:00\"],\"y\":[12.714285714285714,14.0,null,null,15.0,11.333333333333334,0.16666666666666666,0.8571428571428571,7.6,13.428571428571429,17.285714285714285,23.428571428571427,22.8,11.857142857142858,20.428571428571427,21.0,20.571428571428573,11.4,14.0,16.714285714285715,16.142857142857142,10.0,12.571428571428571,11.0,9.714285714285714,9.0,12.571428571428571,12.714285714285714,7.428571428571429,8.0,13.2,11.142857142857142,7.571428571428571,8.142857142857142,5.0,12.571428571428571,10.285714285714286,7.285714285714286,9.166666666666666,11.5,15.571428571428571,15.142857142857142,14.571428571428571,12.2,11.0,14.857142857142858,14.0,9.6,10.0,16.428571428571427,17.428571428571427,16.0,19.857142857142858,17.857142857142858,18.0,18.428571428571427,17.857142857142858,19.857142857142858,17.428571428571427,14.714285714285714,14.857142857142858,15.714285714285714,15.857142857142858,14.571428571428571,13.428571428571429,14.428571428571429,14.714285714285714,13.0,12.857142857142858,13.142857142857142,11.571428571428571,12.0,12.142857142857142,7.857142857142857,8.0,7.0,8.142857142857142,6.857142857142857,7.142857142857143,8.428571428571429,6.571428571428571,7.857142857142857,8.142857142857142,7.857142857142857,7.0,6.142857142857143,6.571428571428571,5.0,7.0]},{\"name\":\"Bunschoten\",\"type\":\"scatter\",\"x\":[\"2020-01-04T00:00:00\",\"2020-01-11T00:00:00\",\"2020-01-18T00:00:00\",\"2020-01-25T00:00:00\",\"2020-02-01T00:00:00\",\"2020-02-08T00:00:00\",\"2020-02-15T00:00:00\",\"2020-02-22T00:00:00\",\"2020-02-29T00:00:00\",\"2020-03-07T00:00:00\",\"2020-03-14T00:00:00\",\"2020-03-21T00:00:00\",\"2020-03-28T00:00:00\",\"2020-04-04T00:00:00\",\"2020-04-11T00:00:00\",\"2020-04-18T00:00:00\",\"2020-04-25T00:00:00\",\"2020-05-02T00:00:00\",\"2020-05-09T00:00:00\",\"2020-05-16T00:00:00\",\"2020-05-23T00:00:00\",\"2020-05-30T00:00:00\",\"2020-06-06T00:00:00\",\"2020-06-13T00:00:00\",\"2020-06-20T00:00:00\",\"2020-06-27T00:00:00\",\"2020-07-04T00:00:00\",\"2020-07-11T00:00:00\",\"2020-07-18T00:00:00\",\"2020-07-25T00:00:00\",\"2020-08-01T00:00:00\",\"2020-08-08T00:00:00\",\"2020-08-15T00:00:00\",\"2020-08-22T00:00:00\",\"2020-08-29T00:00:00\",\"2020-09-05T00:00:00\",\"2020-09-12T00:00:00\",\"2020-09-19T00:00:00\",\"2020-09-26T00:00:00\",\"2020-10-03T00:00:00\",\"2020-10-10T00:00:00\",\"2020-10-17T00:00:00\",\"2020-10-24T00:00:00\",\"2020-10-31T00:00:00\",\"2020-11-07T00:00:00\",\"2020-11-14T00:00:00\",\"2020-11-21T00:00:00\",\"2020-11-28T00:00:00\",\"2020-12-05T00:00:00\",\"2020-12-12T00:00:00\",\"2020-12-19T00:00:00\",\"2020-12-26T00:00:00\",\"2021-01-02T00:00:00\",\"2021-01-09T00:00:00\",\"2021-01-16T00:00:00\",\"2021-01-23T00:00:00\",\"2021-01-30T00:00:00\",\"2021-02-06T00:00:00\",\"2021-02-13T00:00:00\",\"2021-02-20T00:00:00\",\"2021-02-27T00:00:00\",\"2021-03-06T00:00:00\",\"2021-03-13T00:00:00\",\"2021-03-20T00:00:00\",\"2021-03-27T00:00:00\",\"2021-04-03T00:00:00\",\"2021-04-10T00:00:00\",\"2021-04-17T00:00:00\",\"2021-04-24T00:00:00\",\"2021-05-01T00:00:00\",\"2021-05-08T00:00:00\",\"2021-05-15T00:00:00\",\"2021-05-22T00:00:00\",\"2021-05-29T00:00:00\",\"2021-06-05T00:00:00\",\"2021-06-12T00:00:00\",\"2021-06-19T00:00:00\",\"2021-06-26T00:00:00\",\"2021-07-03T00:00:00\",\"2021-07-10T00:00:00\",\"2021-07-17T00:00:00\",\"2021-07-24T00:00:00\",\"2021-07-31T00:00:00\",\"2021-08-07T00:00:00\",\"2021-08-14T00:00:00\",\"2021-08-21T00:00:00\",\"2021-08-28T00:00:00\",\"2021-09-04T00:00:00\"],\"y\":[7.0,7.0,null,null,0.0,6.333333333333333,-0.2,2.0,-1.0,8.0,null,null,0.0,null,7.5,null,null,1.0,7.0,null,null,-1.0,6.5,null,null,null,6.0,8.0,null,null,null,7.5,null,null,0.0,6.0,8.0,3.0,4.333333333333333,1.0,7.166666666666667,8.8,7.8,1.0,8.333333333333334,7.6,7.2,4.5,7.0,9.6,16.6,19.2,12.8,11.0,11.0,10.8,10.4,11.4,10.8,8.6,8.2,9.0,7.6,7.2,6.4,10.2,6.4,6.0,8.2,6.4,7.4,4.8,6.4,2.0,1.8,1.6,1.8,1.0,1.4,2.6,1.2,4.0,5.2,4.6,5.0,2.8,1.4,0.4]},{\"name\":\"De Bilt\",\"type\":\"scatter\",\"x\":[\"2020-01-03T00:00:00\",\"2020-01-10T00:00:00\",\"2020-01-17T00:00:00\",\"2020-01-24T00:00:00\",\"2020-01-31T00:00:00\",\"2020-02-07T00:00:00\",\"2020-02-14T00:00:00\",\"2020-02-21T00:00:00\",\"2020-02-28T00:00:00\",\"2020-03-06T00:00:00\",\"2020-03-13T00:00:00\",\"2020-03-20T00:00:00\",\"2020-03-27T00:00:00\",\"2020-04-03T00:00:00\",\"2020-04-10T00:00:00\",\"2020-04-17T00:00:00\",\"2020-04-24T00:00:00\",\"2020-05-01T00:00:00\",\"2020-05-08T00:00:00\",\"2020-05-15T00:00:00\",\"2020-05-22T00:00:00\",\"2020-05-29T00:00:00\",\"2020-06-05T00:00:00\",\"2020-06-12T00:00:00\",\"2020-06-19T00:00:00\",\"2020-06-26T00:00:00\",\"2020-07-03T00:00:00\",\"2020-07-10T00:00:00\",\"2020-07-17T00:00:00\",\"2020-07-24T00:00:00\",\"2020-07-31T00:00:00\",\"2020-08-07T00:00:00\",\"2020-08-14T00:00:00\",\"2020-08-21T00:00:00\",\"2020-08-28T00:00:00\",\"2020-09-04T00:00:00\",\"2020-09-11T00:00:00\",\"2020-09-18T00:00:00\",\"2020-09-25T00:00:00\",\"2020-10-02T00:00:00\",\"2020-10-09T00:00:00\",\"2020-10-16T00:00:00\",\"2020-10-23T00:00:00\",\"2020-10-30T00:00:00\",\"2020-11-06T00:00:00\",\"2020-11-13T00:00:00\",\"2020-11-20T00:00:00\",\"2020-11-27T00:00:00\",\"2020-12-04T00:00:00\",\"2020-12-11T00:00:00\",\"2020-12-18T00:00:00\",\"2020-12-25T00:00:00\",\"2021-01-01T00:00:00\",\"2021-01-08T00:00:00\",\"2021-01-15T00:00:00\",\"2021-01-22T00:00:00\",\"2021-01-29T00:00:00\",\"2021-02-05T00:00:00\",\"2021-02-12T00:00:00\",\"2021-02-19T00:00:00\",\"2021-02-26T00:00:00\",\"2021-03-05T00:00:00\",\"2021-03-12T00:00:00\",\"2021-03-19T00:00:00\",\"2021-03-26T00:00:00\",\"2021-04-02T00:00:00\",\"2021-04-09T00:00:00\",\"2021-04-16T00:00:00\",\"2021-04-23T00:00:00\",\"2021-04-30T00:00:00\",\"2021-05-07T00:00:00\",\"2021-05-14T00:00:00\",\"2021-05-21T00:00:00\",\"2021-05-28T00:00:00\",\"2021-06-04T00:00:00\",\"2021-06-11T00:00:00\",\"2021-06-18T00:00:00\",\"2021-06-25T00:00:00\",\"2021-07-02T00:00:00\",\"2021-07-09T00:00:00\",\"2021-07-16T00:00:00\",\"2021-07-23T00:00:00\",\"2021-07-30T00:00:00\",\"2021-08-06T00:00:00\",\"2021-08-13T00:00:00\",\"2021-08-20T00:00:00\",\"2021-08-27T00:00:00\",\"2021-09-03T00:00:00\",\"2021-09-10T00:00:00\"],\"y\":[8.0,13.0,null,null,5.5,9.6,0.25,2.4,1.0,10.6,13.0,null,null,7.0,11.5,null,null,7.0,14.5,13.333333333333334,13.75,6.0,12.0,11.25,8.8,9.333333333333334,10.333333333333334,9.666666666666666,7.2,8.75,13.0,10.75,8.5,9.0,4.5,9.75,7.833333333333333,6.6,8.5,6.333333333333333,12.166666666666666,13.2,12.8,9.333333333333334,10.25,12.8,11.8,8.666666666666666,12.0,15.2,16.8,18.0,19.2,16.6,16.0,16.0,16.2,17.6,16.6,13.6,13.8,13.8,13.4,12.8,11.4,14.8,12.4,11.4,12.6,12.4,11.2,10.8,11.4,7.6,6.8,6.6,7.6,6.8,7.0,7.4,7.0,8.2,8.4,8.0,8.2,6.4,6.8,4.8,5.0]},{\"name\":\"De Ronde Venen\",\"type\":\"scatter\",\"x\":[\"2020-01-04T00:00:00\",\"2020-01-11T00:00:00\",\"2020-01-18T00:00:00\",\"2020-01-25T00:00:00\",\"2020-02-01T00:00:00\",\"2020-02-08T00:00:00\",\"2020-02-15T00:00:00\",\"2020-02-22T00:00:00\",\"2020-02-29T00:00:00\",\"2020-03-07T00:00:00\",\"2020-03-14T00:00:00\",\"2020-03-21T00:00:00\",\"2020-03-28T00:00:00\",\"2020-04-04T00:00:00\",\"2020-04-11T00:00:00\",\"2020-04-18T00:00:00\",\"2020-04-25T00:00:00\",\"2020-05-02T00:00:00\",\"2020-05-09T00:00:00\",\"2020-05-16T00:00:00\",\"2020-05-23T00:00:00\",\"2020-05-30T00:00:00\",\"2020-06-06T00:00:00\",\"2020-06-13T00:00:00\",\"2020-06-20T00:00:00\",\"2020-06-27T00:00:00\",\"2020-07-04T00:00:00\",\"2020-07-11T00:00:00\",\"2020-07-18T00:00:00\",\"2020-07-25T00:00:00\",\"2020-08-01T00:00:00\",\"2020-08-08T00:00:00\",\"2020-08-15T00:00:00\",\"2020-08-22T00:00:00\",\"2020-08-29T00:00:00\",\"2020-09-05T00:00:00\",\"2020-09-12T00:00:00\",\"2020-09-19T00:00:00\",\"2020-09-26T00:00:00\",\"2020-10-03T00:00:00\",\"2020-10-10T00:00:00\",\"2020-10-17T00:00:00\",\"2020-10-24T00:00:00\",\"2020-10-31T00:00:00\",\"2020-11-07T00:00:00\",\"2020-11-14T00:00:00\",\"2020-11-21T00:00:00\",\"2020-11-28T00:00:00\",\"2020-12-05T00:00:00\",\"2020-12-12T00:00:00\",\"2020-12-19T00:00:00\",\"2020-12-26T00:00:00\",\"2021-01-02T00:00:00\",\"2021-01-09T00:00:00\",\"2021-01-16T00:00:00\",\"2021-01-23T00:00:00\",\"2021-01-30T00:00:00\",\"2021-02-06T00:00:00\",\"2021-02-13T00:00:00\",\"2021-02-20T00:00:00\",\"2021-02-27T00:00:00\",\"2021-03-06T00:00:00\",\"2021-03-13T00:00:00\",\"2021-03-20T00:00:00\",\"2021-03-27T00:00:00\",\"2021-04-03T00:00:00\",\"2021-04-10T00:00:00\",\"2021-04-17T00:00:00\",\"2021-04-24T00:00:00\",\"2021-05-01T00:00:00\",\"2021-05-08T00:00:00\",\"2021-05-15T00:00:00\",\"2021-05-22T00:00:00\",\"2021-05-29T00:00:00\",\"2021-06-05T00:00:00\",\"2021-06-12T00:00:00\",\"2021-06-19T00:00:00\",\"2021-06-26T00:00:00\",\"2021-07-03T00:00:00\",\"2021-07-10T00:00:00\",\"2021-07-17T00:00:00\",\"2021-07-24T00:00:00\",\"2021-07-31T00:00:00\",\"2021-08-07T00:00:00\",\"2021-08-14T00:00:00\",\"2021-08-21T00:00:00\",\"2021-08-28T00:00:00\",\"2021-09-04T00:00:00\"],\"y\":[12.2,11.0,null,null,9.25,8.5,0.6,1.0,9.333333333333334,8.333333333333334,16.8,19.4,12.666666666666666,10.0,15.333333333333334,15.8,17.0,6.0,13.0,11.75,10.8,10.0,9.0,8.8,6.2,10.0,9.666666666666666,7.333333333333333,6.4,7.0,11.75,9.0,7.0,7.8,8.666666666666666,9.2,5.0,6.2,8.0,7.833333333333333,10.833333333333334,12.2,11.2,8.666666666666666,8.6,11.6,10.6,6.5,10.0,13.4,18.8,20.2,16.2,15.0,15.0,15.6,15.0,17.0,15.2,12.6,12.0,12.8,12.0,11.4,10.8,14.2,10.4,10.0,11.8,10.4,10.8,8.8,10.2,6.0,4.8,5.6,6.4,5.6,5.4,6.4,5.2,7.6,7.0,6.8,8.0,5.8,5.2,3.6]}],                        {\"template\":{\"data\":{\"bar\":[{\"error_x\":{\"color\":\"#2a3f5f\"},\"error_y\":{\"color\":\"#2a3f5f\"},\"marker\":{\"line\":{\"color\":\"#E5ECF6\",\"width\":0.5},\"pattern\":{\"fillmode\":\"overlay\",\"size\":10,\"solidity\":0.2}},\"type\":\"bar\"}],\"barpolar\":[{\"marker\":{\"line\":{\"color\":\"#E5ECF6\",\"width\":0.5},\"pattern\":{\"fillmode\":\"overlay\",\"size\":10,\"solidity\":0.2}},\"type\":\"barpolar\"}],\"carpet\":[{\"aaxis\":{\"endlinecolor\":\"#2a3f5f\",\"gridcolor\":\"white\",\"linecolor\":\"white\",\"minorgridcolor\":\"white\",\"startlinecolor\":\"#2a3f5f\"},\"baxis\":{\"endlinecolor\":\"#2a3f5f\",\"gridcolor\":\"white\",\"linecolor\":\"white\",\"minorgridcolor\":\"white\",\"startlinecolor\":\"#2a3f5f\"},\"type\":\"carpet\"}],\"choropleth\":[{\"colorbar\":{\"outlinewidth\":0,\"ticks\":\"\"},\"type\":\"choropleth\"}],\"contour\":[{\"colorbar\":{\"outlinewidth\":0,\"ticks\":\"\"},\"colorscale\":[[0.0,\"#0d0887\"],[0.1111111111111111,\"#46039f\"],[0.2222222222222222,\"#7201a8\"],[0.3333333333333333,\"#9c179e\"],[0.4444444444444444,\"#bd3786\"],[0.5555555555555556,\"#d8576b\"],[0.6666666666666666,\"#ed7953\"],[0.7777777777777778,\"#fb9f3a\"],[0.8888888888888888,\"#fdca26\"],[1.0,\"#f0f921\"]],\"type\":\"contour\"}],\"contourcarpet\":[{\"colorbar\":{\"outlinewidth\":0,\"ticks\":\"\"},\"type\":\"contourcarpet\"}],\"heatmap\":[{\"colorbar\":{\"outlinewidth\":0,\"ticks\":\"\"},\"colorscale\":[[0.0,\"#0d0887\"],[0.1111111111111111,\"#46039f\"],[0.2222222222222222,\"#7201a8\"],[0.3333333333333333,\"#9c179e\"],[0.4444444444444444,\"#bd3786\"],[0.5555555555555556,\"#d8576b\"],[0.6666666666666666,\"#ed7953\"],[0.7777777777777778,\"#fb9f3a\"],[0.8888888888888888,\"#fdca26\"],[1.0,\"#f0f921\"]],\"type\":\"heatmap\"}],\"heatmapgl\":[{\"colorbar\":{\"outlinewidth\":0,\"ticks\":\"\"},\"colorscale\":[[0.0,\"#0d0887\"],[0.1111111111111111,\"#46039f\"],[0.2222222222222222,\"#7201a8\"],[0.3333333333333333,\"#9c179e\"],[0.4444444444444444,\"#bd3786\"],[0.5555555555555556,\"#d8576b\"],[0.6666666666666666,\"#ed7953\"],[0.7777777777777778,\"#fb9f3a\"],[0.8888888888888888,\"#fdca26\"],[1.0,\"#f0f921\"]],\"type\":\"heatmapgl\"}],\"histogram\":[{\"marker\":{\"pattern\":{\"fillmode\":\"overlay\",\"size\":10,\"solidity\":0.2}},\"type\":\"histogram\"}],\"histogram2d\":[{\"colorbar\":{\"outlinewidth\":0,\"ticks\":\"\"},\"colorscale\":[[0.0,\"#0d0887\"],[0.1111111111111111,\"#46039f\"],[0.2222222222222222,\"#7201a8\"],[0.3333333333333333,\"#9c179e\"],[0.4444444444444444,\"#bd3786\"],[0.5555555555555556,\"#d8576b\"],[0.6666666666666666,\"#ed7953\"],[0.7777777777777778,\"#fb9f3a\"],[0.8888888888888888,\"#fdca26\"],[1.0,\"#f0f921\"]],\"type\":\"histogram2d\"}],\"histogram2dcontour\":[{\"colorbar\":{\"outlinewidth\":0,\"ticks\":\"\"},\"colorscale\":[[0.0,\"#0d0887\"],[0.1111111111111111,\"#46039f\"],[0.2222222222222222,\"#7201a8\"],[0.3333333333333333,\"#9c179e\"],[0.4444444444444444,\"#bd3786\"],[0.5555555555555556,\"#d8576b\"],[0.6666666666666666,\"#ed7953\"],[0.7777777777777778,\"#fb9f3a\"],[0.8888888888888888,\"#fdca26\"],[1.0,\"#f0f921\"]],\"type\":\"histogram2dcontour\"}],\"mesh3d\":[{\"colorbar\":{\"outlinewidth\":0,\"ticks\":\"\"},\"type\":\"mesh3d\"}],\"parcoords\":[{\"line\":{\"colorbar\":{\"outlinewidth\":0,\"ticks\":\"\"}},\"type\":\"parcoords\"}],\"pie\":[{\"automargin\":true,\"type\":\"pie\"}],\"scatter\":[{\"marker\":{\"colorbar\":{\"outlinewidth\":0,\"ticks\":\"\"}},\"type\":\"scatter\"}],\"scatter3d\":[{\"line\":{\"colorbar\":{\"outlinewidth\":0,\"ticks\":\"\"}},\"marker\":{\"colorbar\":{\"outlinewidth\":0,\"ticks\":\"\"}},\"type\":\"scatter3d\"}],\"scattercarpet\":[{\"marker\":{\"colorbar\":{\"outlinewidth\":0,\"ticks\":\"\"}},\"type\":\"scattercarpet\"}],\"scattergeo\":[{\"marker\":{\"colorbar\":{\"outlinewidth\":0,\"ticks\":\"\"}},\"type\":\"scattergeo\"}],\"scattergl\":[{\"marker\":{\"colorbar\":{\"outlinewidth\":0,\"ticks\":\"\"}},\"type\":\"scattergl\"}],\"scattermapbox\":[{\"marker\":{\"colorbar\":{\"outlinewidth\":0,\"ticks\":\"\"}},\"type\":\"scattermapbox\"}],\"scatterpolar\":[{\"marker\":{\"colorbar\":{\"outlinewidth\":0,\"ticks\":\"\"}},\"type\":\"scatterpolar\"}],\"scatterpolargl\":[{\"marker\":{\"colorbar\":{\"outlinewidth\":0,\"ticks\":\"\"}},\"type\":\"scatterpolargl\"}],\"scatterternary\":[{\"marker\":{\"colorbar\":{\"outlinewidth\":0,\"ticks\":\"\"}},\"type\":\"scatterternary\"}],\"surface\":[{\"colorbar\":{\"outlinewidth\":0,\"ticks\":\"\"},\"colorscale\":[[0.0,\"#0d0887\"],[0.1111111111111111,\"#46039f\"],[0.2222222222222222,\"#7201a8\"],[0.3333333333333333,\"#9c179e\"],[0.4444444444444444,\"#bd3786\"],[0.5555555555555556,\"#d8576b\"],[0.6666666666666666,\"#ed7953\"],[0.7777777777777778,\"#fb9f3a\"],[0.8888888888888888,\"#fdca26\"],[1.0,\"#f0f921\"]],\"type\":\"surface\"}],\"table\":[{\"cells\":{\"fill\":{\"color\":\"#EBF0F8\"},\"line\":{\"color\":\"white\"}},\"header\":{\"fill\":{\"color\":\"#C8D4E3\"},\"line\":{\"color\":\"white\"}},\"type\":\"table\"}]},\"layout\":{\"annotationdefaults\":{\"arrowcolor\":\"#2a3f5f\",\"arrowhead\":0,\"arrowwidth\":1},\"autotypenumbers\":\"strict\",\"coloraxis\":{\"colorbar\":{\"outlinewidth\":0,\"ticks\":\"\"}},\"colorscale\":{\"diverging\":[[0,\"#8e0152\"],[0.1,\"#c51b7d\"],[0.2,\"#de77ae\"],[0.3,\"#f1b6da\"],[0.4,\"#fde0ef\"],[0.5,\"#f7f7f7\"],[0.6,\"#e6f5d0\"],[0.7,\"#b8e186\"],[0.8,\"#7fbc41\"],[0.9,\"#4d9221\"],[1,\"#276419\"]],\"sequential\":[[0.0,\"#0d0887\"],[0.1111111111111111,\"#46039f\"],[0.2222222222222222,\"#7201a8\"],[0.3333333333333333,\"#9c179e\"],[0.4444444444444444,\"#bd3786\"],[0.5555555555555556,\"#d8576b\"],[0.6666666666666666,\"#ed7953\"],[0.7777777777777778,\"#fb9f3a\"],[0.8888888888888888,\"#fdca26\"],[1.0,\"#f0f921\"]],\"sequentialminus\":[[0.0,\"#0d0887\"],[0.1111111111111111,\"#46039f\"],[0.2222222222222222,\"#7201a8\"],[0.3333333333333333,\"#9c179e\"],[0.4444444444444444,\"#bd3786\"],[0.5555555555555556,\"#d8576b\"],[0.6666666666666666,\"#ed7953\"],[0.7777777777777778,\"#fb9f3a\"],[0.8888888888888888,\"#fdca26\"],[1.0,\"#f0f921\"]]},\"colorway\":[\"#636efa\",\"#EF553B\",\"#00cc96\",\"#ab63fa\",\"#FFA15A\",\"#19d3f3\",\"#FF6692\",\"#B6E880\",\"#FF97FF\",\"#FECB52\"],\"font\":{\"color\":\"#2a3f5f\"},\"geo\":{\"bgcolor\":\"white\",\"lakecolor\":\"white\",\"landcolor\":\"#E5ECF6\",\"showlakes\":true,\"showland\":true,\"subunitcolor\":\"white\"},\"hoverlabel\":{\"align\":\"left\"},\"hovermode\":\"closest\",\"mapbox\":{\"style\":\"light\"},\"paper_bgcolor\":\"white\",\"plot_bgcolor\":\"#E5ECF6\",\"polar\":{\"angularaxis\":{\"gridcolor\":\"white\",\"linecolor\":\"white\",\"ticks\":\"\"},\"bgcolor\":\"#E5ECF6\",\"radialaxis\":{\"gridcolor\":\"white\",\"linecolor\":\"white\",\"ticks\":\"\"}},\"scene\":{\"xaxis\":{\"backgroundcolor\":\"#E5ECF6\",\"gridcolor\":\"white\",\"gridwidth\":2,\"linecolor\":\"white\",\"showbackground\":true,\"ticks\":\"\",\"zerolinecolor\":\"white\"},\"yaxis\":{\"backgroundcolor\":\"#E5ECF6\",\"gridcolor\":\"white\",\"gridwidth\":2,\"linecolor\":\"white\",\"showbackground\":true,\"ticks\":\"\",\"zerolinecolor\":\"white\"},\"zaxis\":{\"backgroundcolor\":\"#E5ECF6\",\"gridcolor\":\"white\",\"gridwidth\":2,\"linecolor\":\"white\",\"showbackground\":true,\"ticks\":\"\",\"zerolinecolor\":\"white\"}},\"shapedefaults\":{\"line\":{\"color\":\"#2a3f5f\"}},\"ternary\":{\"aaxis\":{\"gridcolor\":\"white\",\"linecolor\":\"white\",\"ticks\":\"\"},\"baxis\":{\"gridcolor\":\"white\",\"linecolor\":\"white\",\"ticks\":\"\"},\"bgcolor\":\"#E5ECF6\",\"caxis\":{\"gridcolor\":\"white\",\"linecolor\":\"white\",\"ticks\":\"\"}},\"title\":{\"x\":0.05},\"xaxis\":{\"automargin\":true,\"gridcolor\":\"white\",\"linecolor\":\"white\",\"ticks\":\"\",\"title\":{\"standoff\":15},\"zerolinecolor\":\"white\",\"zerolinewidth\":2},\"yaxis\":{\"automargin\":true,\"gridcolor\":\"white\",\"linecolor\":\"white\",\"ticks\":\"\",\"title\":{\"standoff\":15},\"zerolinecolor\":\"white\",\"zerolinewidth\":2}}},\"title\":{\"text\":\"residential_percent_change_from_baseline\"}},                        {\"responsive\": true}                    ).then(function(){\n",
       "                            \n",
       "var gd = document.getElementById('ae295352-ced3-4c53-b1b0-85f029cbff08');\n",
       "var x = new MutationObserver(function (mutations, observer) {{\n",
       "        var display = window.getComputedStyle(gd).display;\n",
       "        if (!display || display === 'none') {{\n",
       "            console.log([gd, 'removed!']);\n",
       "            Plotly.purge(gd);\n",
       "            observer.disconnect();\n",
       "        }}\n",
       "}});\n",
       "\n",
       "// Listen for the removal of the full notebook cells\n",
       "var notebookContainer = gd.closest('#notebook-container');\n",
       "if (notebookContainer) {{\n",
       "    x.observe(notebookContainer, {childList: true});\n",
       "}}\n",
       "\n",
       "// Listen for the clearing of the current output cell\n",
       "var outputEl = gd.closest('.output');\n",
       "if (outputEl) {{\n",
       "    x.observe(outputEl, {childList: true});\n",
       "}}\n",
       "\n",
       "                        })                };                });            </script>        </div>"
      ]
     },
     "metadata": {},
     "output_type": "display_data"
    }
   ],
   "source": [
    "cities = ['Amersfoort', 'Baarn', 'Utrecht', 'Bunschoten', 'De Bilt', 'De Ronde Venen'] # Make a selection of cities\n",
    "activity = 'residential_percent_change_from_baseline'\n",
    "\n",
    "fig = go.Figure()\n",
    "\n",
    "for city in cities: # For every city, the dates are sampled and a line plot is added\n",
    "    df_utrecht_city = (df_full.loc[df_full['sub_region_2'] == city])\n",
    "    \n",
    "    df_datetime = pd.to_datetime(df_utrecht_city['date'])\n",
    "    df_utrecht_city = df_utrecht_city.assign(date=df_datetime)\n",
    "    df_utrecht_city_agg = df_utrecht_city.resample('7D', on='date').mean()\n",
    "    df_utrecht_city_agg.reset_index(inplace = True)\n",
    "    \n",
    "    x = df_utrecht_city_agg['date']\n",
    "    y = df_utrecht_city_agg[activity]\n",
    "    fig.add_trace(go.Scatter(x=x, y=y, name=city))\n",
    "\n",
    "fig.update_layout(title=activity)\n",
    "\n",
    "fig.show()"
   ]
  },
  {
   "cell_type": "markdown",
   "metadata": {
    "heading_collapsed": true
   },
   "source": [
    "## Geospatial choropleth\n",
    "\n",
    "Visualise the percentage changes from the baseline at either city-level or province-level in a geographical map for a chosen day.\n",
    "\n",
    "[Hint] Here is an example of municipal boundaries of Netherlands. You can download the municipal boundaries of Netherlands from this [link](https://geodata.nationaalgeoregister.nl/cbsgebiedsindelingen/wfs?request=GetFeature&service=WFS&version=2.0.0&typeName=cbs_gemeente_2017_gegeneraliseerd&outputFormat=json) and here is some [code](https://www.cbs.nl/en-gb/onze-diensten/open-data/statline-as-open-data/cartography) to read this file as well.\n",
    "\n",
    "If you cannot find the boundary of your selected country. Feel free to use Netherlands data for this question.\n",
    "\n",
    "DO NOT forget to label the appropriate axes for the visualisations\n",
    "\n",
    "[Optional] Plot and animate for multiple days"
   ]
  },
  {
   "cell_type": "code",
   "execution_count": 129,
   "metadata": {},
   "outputs": [
    {
     "data": {
      "text/plain": [
       "<AxesSubplot:title={'center':'retail_and_recreation_percent_change_from_baseline'}>"
      ]
     },
     "execution_count": 129,
     "metadata": {},
     "output_type": "execute_result"
    },
    {
     "data": {
      "image/png": "[encoded data removed]",
      "text/plain": [
       "<Figure size 720x432 with 2 Axes>"
      ]
     },
     "metadata": {
      "needs_background": "light"
     },
     "output_type": "display_data"
    }
   ],
   "source": [
    "fp = 'https://geodata.nationaalgeoregister.nl/cbsgebiedsindelingen/wfs?request=GetFeature&service=WFS&version=1.1.0&typeName=cbsgebiedsindelingen:cbs_provincie_2021_gegeneraliseerd&outputFormat=json'\n",
    "map_df = gpd.read_file(fp)\n",
    "map_df['statnaam'] = map_df['statnaam'].replace(['Fryslân'],'Fryslan') # Pandas doesn't recognize ^\n",
    "\n",
    "merged = map_df.set_index('statnaam').join(df_province.set_index('sub_region_1')) # Merge the map with the dataframe\n",
    "merged.head()\n",
    "\n",
    "activity = 'retail_and_recreation_percent_change_from_baseline' # Set the activity again\n",
    "vmin, vmax = -150, 150\n",
    "fig, ax = plt.subplots(1,figsize=(10,6))\n",
    "ax.axis('off')\n",
    "ax.set_title(activity, fontdict={'fontsize': '25', 'fontweight': '3'})\n",
    "\n",
    "sm = plt.cm.ScalarMappable(cmap='Reds', norm=plt.Normalize(vmin=vmin, vmax=vmax))\n",
    "sm.A = []\n",
    "cbar = fig.colorbar(sm)\n",
    "\n",
    "merged.plot(column=activity, cmap='Reds', linewidth=0.8, ax=ax, edgecolor='0.4')"
   ]
  },
  {
   "cell_type": "code",
   "execution_count": null,
   "metadata": {},
   "outputs": [],
   "source": []
  }
 ],
 "metadata": {
  "interpreter": {
   "hash": "aee8b7b246df8f9039afb4144a1f6fd8d2ca17a180786b69acc140d282b71a49"
  },
  "kernelspec": {
   "display_name": "Python 3 (ipykernel)",
   "language": "python",
   "name": "python3"
  },
  "language_info": {
   "codemirror_mode": {
    "name": "ipython",
    "version": 3
   },
   "file_extension": ".py",
   "mimetype": "text/x-python",
   "name": "python",
   "nbconvert_exporter": "python",
   "pygments_lexer": "ipython3",
   "version": "3.9.7"
  }
 },
 "nbformat": 4,
 "nbformat_minor": 2
}
